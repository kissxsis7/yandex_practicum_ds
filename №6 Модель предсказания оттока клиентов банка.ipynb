{
 "cells": [
  {
   "cell_type": "markdown",
   "metadata": {
    "toc": true
   },
   "source": [
    "<h1>Содержание<span class=\"tocSkip\"></span></h1>\n",
    "<div class=\"toc\"><ul class=\"toc-item\"><li><span><a href=\"#Обзор-данных\" data-toc-modified-id=\"Обзор-данных-1\"><span class=\"toc-item-num\">1&nbsp;&nbsp;</span>Обзор данных</a></span><ul class=\"toc-item\"><li><span><a href=\"#Вывод\" data-toc-modified-id=\"Вывод-1.1\"><span class=\"toc-item-num\">1.1&nbsp;&nbsp;</span>Вывод</a></span></li></ul></li><li><span><a href=\"#Подготовка-данных\" data-toc-modified-id=\"Подготовка-данных-2\"><span class=\"toc-item-num\">2&nbsp;&nbsp;</span>Подготовка данных</a></span><ul class=\"toc-item\"><li><span><a href=\"#Кодирование-данных\" data-toc-modified-id=\"Кодирование-данных-2.1\"><span class=\"toc-item-num\">2.1&nbsp;&nbsp;</span>Кодирование данных</a></span><ul class=\"toc-item\"><li><span><a href=\"#Прямое-кодирование-(OHE)\" data-toc-modified-id=\"Прямое-кодирование-(OHE)-2.1.1\"><span class=\"toc-item-num\">2.1.1&nbsp;&nbsp;</span>Прямое кодирование (OHE)</a></span></li><li><span><a href=\"#Порядковое-кодирование-(Ordinal-Encoding)\" data-toc-modified-id=\"Порядковое-кодирование-(Ordinal-Encoding)-2.1.2\"><span class=\"toc-item-num\">2.1.2&nbsp;&nbsp;</span>Порядковое кодирование (Ordinal Encoding)</a></span></li></ul></li><li><span><a href=\"#Разбиение-данных-на-выборки\" data-toc-modified-id=\"Разбиение-данных-на-выборки-2.2\"><span class=\"toc-item-num\">2.2&nbsp;&nbsp;</span>Разбиение данных на выборки</a></span></li><li><span><a href=\"#Масштабирование-признаков\" data-toc-modified-id=\"Масштабирование-признаков-2.3\"><span class=\"toc-item-num\">2.3&nbsp;&nbsp;</span>Масштабирование признаков</a></span></li><li><span><a href=\"#Вывод\" data-toc-modified-id=\"Вывод-2.4\"><span class=\"toc-item-num\">2.4&nbsp;&nbsp;</span>Вывод</a></span></li></ul></li><li><span><a href=\"#Исследование-моделей-без-учета-дисбаланса\" data-toc-modified-id=\"Исследование-моделей-без-учета-дисбаланса-3\"><span class=\"toc-item-num\">3&nbsp;&nbsp;</span>Исследование моделей без учета дисбаланса</a></span><ul class=\"toc-item\"><li><span><a href=\"#Decision-Tree\" data-toc-modified-id=\"Decision-Tree-3.1\"><span class=\"toc-item-num\">3.1&nbsp;&nbsp;</span>Decision Tree</a></span></li><li><span><a href=\"#Random-Forest\" data-toc-modified-id=\"Random-Forest-3.2\"><span class=\"toc-item-num\">3.2&nbsp;&nbsp;</span>Random Forest</a></span></li><li><span><a href=\"#Logistic-Regression\" data-toc-modified-id=\"Logistic-Regression-3.3\"><span class=\"toc-item-num\">3.3&nbsp;&nbsp;</span>Logistic Regression</a></span></li><li><span><a href=\"#Вывод\" data-toc-modified-id=\"Вывод-3.4\"><span class=\"toc-item-num\">3.4&nbsp;&nbsp;</span>Вывод</a></span></li></ul></li><li><span><a href=\"#Борьба-с-дисбалансом\" data-toc-modified-id=\"Борьба-с-дисбалансом-4\"><span class=\"toc-item-num\">4&nbsp;&nbsp;</span>Борьба с дисбалансом</a></span><ul class=\"toc-item\"><li><span><a href=\"#Decision-Tree\" data-toc-modified-id=\"Decision-Tree-4.1\"><span class=\"toc-item-num\">4.1&nbsp;&nbsp;</span>Decision Tree</a></span></li><li><span><a href=\"#Random-Forest\" data-toc-modified-id=\"Random-Forest-4.2\"><span class=\"toc-item-num\">4.2&nbsp;&nbsp;</span>Random Forest</a></span></li><li><span><a href=\"#Logistic-Regression\" data-toc-modified-id=\"Logistic-Regression-4.3\"><span class=\"toc-item-num\">4.3&nbsp;&nbsp;</span>Logistic Regression</a></span><ul class=\"toc-item\"><li><span><a href=\"#PS-upsampling\" data-toc-modified-id=\"PS-upsampling-4.3.1\"><span class=\"toc-item-num\">4.3.1&nbsp;&nbsp;</span>PS upsampling</a></span></li></ul></li><li><span><a href=\"#Вывод\" data-toc-modified-id=\"Вывод-4.4\"><span class=\"toc-item-num\">4.4&nbsp;&nbsp;</span>Вывод</a></span></li></ul></li><li><span><a href=\"#Тестирование-модели\" data-toc-modified-id=\"Тестирование-модели-5\"><span class=\"toc-item-num\">5&nbsp;&nbsp;</span>Тестирование модели</a></span><ul class=\"toc-item\"><li><span><a href=\"#Вывод\" data-toc-modified-id=\"Вывод-5.1\"><span class=\"toc-item-num\">5.1&nbsp;&nbsp;</span>Вывод</a></span></li></ul></li></ul></div>"
   ]
  },
  {
   "cell_type": "markdown",
   "metadata": {},
   "source": [
    "# Отток клиентов"
   ]
  },
  {
   "cell_type": "markdown",
   "metadata": {},
   "source": [
    "Из «Бета-Банка» стали уходить клиенты. Каждый месяц - немного, но заметно. Банковские маркетологи посчитали: сохранять текущих клиентов дешевле, чем привлекать новых.\n",
    "Нужно спрогнозировать, уйдёт клиент из банка в ближайшее время или нет.\n",
    "\n",
    "\n",
    "\n",
    "**Цель исследования** — <u>построить модель с предельно большим значением *F1*-меры (не менее 0.59 на тестовой выборке)</u>,\n",
    "дополнительно измеряя *AUC-ROC* и сравнивая её значение с *F1*-мерой.\n",
    "\n",
    "**Источник данных**: [https://www.kaggle.com/barelydedicated/bank-customer-churn-modeling](https://www.kaggle.com/barelydedicated/bank-customer-churn-modeling)\n",
    "\n",
    "**Ход исследования:**\n",
    "\n",
    "В вашем распоряжении исторические данные о поведении клиентов и расторжении договоров с банком. Так как предобработка данных уже проведена, исследование пройдёт в 6 этапов:\n",
    " 1. Обзор данных.\n",
    " 2. Разбиение данных на выборки.\n",
    " 3. Исследование моделей.\n",
    " 4. Проверка моделей на тестовой выборке.\n",
    " 5. Проверка моделей на адекватность.\n",
    " 6. Общий вывод."
   ]
  },
  {
   "cell_type": "markdown",
   "metadata": {},
   "source": [
    "## Обзор данных"
   ]
  },
  {
   "cell_type": "code",
   "execution_count": 1,
   "metadata": {},
   "outputs": [
    {
     "name": "stdout",
     "output_type": "stream",
     "text": [
      "Requirement already satisfied: opendatasets in /opt/conda/lib/python3.9/site-packages (0.1.22)\n",
      "Requirement already satisfied: tqdm in /opt/conda/lib/python3.9/site-packages (from opendatasets) (4.61.2)\n",
      "Requirement already satisfied: kaggle in /opt/conda/lib/python3.9/site-packages (from opendatasets) (1.5.12)\n",
      "Requirement already satisfied: click in /opt/conda/lib/python3.9/site-packages (from opendatasets) (8.1.3)\n",
      "Requirement already satisfied: certifi in /opt/conda/lib/python3.9/site-packages (from kaggle->opendatasets) (2022.5.18.1)\n",
      "Requirement already satisfied: python-dateutil in /opt/conda/lib/python3.9/site-packages (from kaggle->opendatasets) (2.8.1)\n",
      "Requirement already satisfied: six>=1.10 in /opt/conda/lib/python3.9/site-packages (from kaggle->opendatasets) (1.16.0)\n",
      "Requirement already satisfied: python-slugify in /opt/conda/lib/python3.9/site-packages (from kaggle->opendatasets) (6.1.2)\n",
      "Requirement already satisfied: urllib3 in /opt/conda/lib/python3.9/site-packages (from kaggle->opendatasets) (1.26.6)\n",
      "Requirement already satisfied: requests in /opt/conda/lib/python3.9/site-packages (from kaggle->opendatasets) (2.25.1)\n",
      "Requirement already satisfied: text-unidecode>=1.3 in /opt/conda/lib/python3.9/site-packages (from python-slugify->kaggle->opendatasets) (1.3)\n",
      "Requirement already satisfied: idna<3,>=2.5 in /opt/conda/lib/python3.9/site-packages (from requests->kaggle->opendatasets) (2.10)\n",
      "Requirement already satisfied: chardet<5,>=3.0.2 in /opt/conda/lib/python3.9/site-packages (from requests->kaggle->opendatasets) (4.0.0)\n"
     ]
    }
   ],
   "source": [
    "! pip install opendatasets\n",
    "\n",
    "import pandas as pd\n",
    "import numpy as np\n",
    "import matplotlib.pyplot as plt\n",
    "import opendatasets as od\n",
    "import os\n",
    "\n",
    "import sklearn \n",
    "from sklearn.model_selection import train_test_split, StratifiedKFold, GridSearchCV, cross_val_score, cross_validate\n",
    "from sklearn.metrics import accuracy_score, recall_score, precision_score, f1_score, roc_curve, roc_auc_score  \n",
    "from sklearn.dummy import DummyClassifier\n",
    "from sklearn.preprocessing import OrdinalEncoder, StandardScaler\n",
    "from sklearn.utils import shuffle\n",
    "\n",
    "from sklearn.tree import DecisionTreeClassifier\n",
    "from sklearn.ensemble import RandomForestClassifier\n",
    "from sklearn.linear_model import LogisticRegression \n",
    "\n",
    "from tqdm import tqdm"
   ]
  },
  {
   "cell_type": "markdown",
   "metadata": {},
   "source": [
    "Загрузим папку с csv-файлом напрямую с Kaggle (так как там нет пропусков):"
   ]
  },
  {
   "cell_type": "code",
   "execution_count": 2,
   "metadata": {},
   "outputs": [
    {
     "name": "stdout",
     "output_type": "stream",
     "text": [
      "Skipping, found downloaded files in \"./bank-customer-churn-modeling\" (use force=True to force download)\n"
     ]
    },
    {
     "data": {
      "text/plain": [
       "['Churn_Modelling.csv']"
      ]
     },
     "execution_count": 2,
     "metadata": {},
     "output_type": "execute_result"
    }
   ],
   "source": [
    "bank = 'https://www.kaggle.com/datasets/barelydedicated/bank-customer-churn-modeling/download'\n",
    "od.download(bank)\n",
    "data_dir = './bank-customer-churn-modeling'\n",
    "os.listdir(data_dir)"
   ]
  },
  {
   "cell_type": "markdown",
   "metadata": {},
   "source": [
    "Сохраним и рассмотрим датафрейм:"
   ]
  },
  {
   "cell_type": "code",
   "execution_count": 3,
   "metadata": {},
   "outputs": [
    {
     "data": {
      "text/html": [
       "<div>\n",
       "<style scoped>\n",
       "    .dataframe tbody tr th:only-of-type {\n",
       "        vertical-align: middle;\n",
       "    }\n",
       "\n",
       "    .dataframe tbody tr th {\n",
       "        vertical-align: top;\n",
       "    }\n",
       "\n",
       "    .dataframe thead th {\n",
       "        text-align: right;\n",
       "    }\n",
       "</style>\n",
       "<table border=\"1\" class=\"dataframe\">\n",
       "  <thead>\n",
       "    <tr style=\"text-align: right;\">\n",
       "      <th></th>\n",
       "      <th>RowNumber</th>\n",
       "      <th>CustomerId</th>\n",
       "      <th>Surname</th>\n",
       "      <th>CreditScore</th>\n",
       "      <th>Geography</th>\n",
       "      <th>Gender</th>\n",
       "      <th>Age</th>\n",
       "      <th>Tenure</th>\n",
       "      <th>Balance</th>\n",
       "      <th>NumOfProducts</th>\n",
       "      <th>HasCrCard</th>\n",
       "      <th>IsActiveMember</th>\n",
       "      <th>EstimatedSalary</th>\n",
       "      <th>Exited</th>\n",
       "    </tr>\n",
       "  </thead>\n",
       "  <tbody>\n",
       "    <tr>\n",
       "      <th>0</th>\n",
       "      <td>1</td>\n",
       "      <td>15634602</td>\n",
       "      <td>Hargrave</td>\n",
       "      <td>619</td>\n",
       "      <td>France</td>\n",
       "      <td>Female</td>\n",
       "      <td>42</td>\n",
       "      <td>2</td>\n",
       "      <td>0.00</td>\n",
       "      <td>1</td>\n",
       "      <td>1</td>\n",
       "      <td>1</td>\n",
       "      <td>101348.88</td>\n",
       "      <td>1</td>\n",
       "    </tr>\n",
       "    <tr>\n",
       "      <th>1</th>\n",
       "      <td>2</td>\n",
       "      <td>15647311</td>\n",
       "      <td>Hill</td>\n",
       "      <td>608</td>\n",
       "      <td>Spain</td>\n",
       "      <td>Female</td>\n",
       "      <td>41</td>\n",
       "      <td>1</td>\n",
       "      <td>83807.86</td>\n",
       "      <td>1</td>\n",
       "      <td>0</td>\n",
       "      <td>1</td>\n",
       "      <td>112542.58</td>\n",
       "      <td>0</td>\n",
       "    </tr>\n",
       "    <tr>\n",
       "      <th>2</th>\n",
       "      <td>3</td>\n",
       "      <td>15619304</td>\n",
       "      <td>Onio</td>\n",
       "      <td>502</td>\n",
       "      <td>France</td>\n",
       "      <td>Female</td>\n",
       "      <td>42</td>\n",
       "      <td>8</td>\n",
       "      <td>159660.80</td>\n",
       "      <td>3</td>\n",
       "      <td>1</td>\n",
       "      <td>0</td>\n",
       "      <td>113931.57</td>\n",
       "      <td>1</td>\n",
       "    </tr>\n",
       "    <tr>\n",
       "      <th>3</th>\n",
       "      <td>4</td>\n",
       "      <td>15701354</td>\n",
       "      <td>Boni</td>\n",
       "      <td>699</td>\n",
       "      <td>France</td>\n",
       "      <td>Female</td>\n",
       "      <td>39</td>\n",
       "      <td>1</td>\n",
       "      <td>0.00</td>\n",
       "      <td>2</td>\n",
       "      <td>0</td>\n",
       "      <td>0</td>\n",
       "      <td>93826.63</td>\n",
       "      <td>0</td>\n",
       "    </tr>\n",
       "    <tr>\n",
       "      <th>4</th>\n",
       "      <td>5</td>\n",
       "      <td>15737888</td>\n",
       "      <td>Mitchell</td>\n",
       "      <td>850</td>\n",
       "      <td>Spain</td>\n",
       "      <td>Female</td>\n",
       "      <td>43</td>\n",
       "      <td>2</td>\n",
       "      <td>125510.82</td>\n",
       "      <td>1</td>\n",
       "      <td>1</td>\n",
       "      <td>1</td>\n",
       "      <td>79084.10</td>\n",
       "      <td>0</td>\n",
       "    </tr>\n",
       "    <tr>\n",
       "      <th>5</th>\n",
       "      <td>6</td>\n",
       "      <td>15574012</td>\n",
       "      <td>Chu</td>\n",
       "      <td>645</td>\n",
       "      <td>Spain</td>\n",
       "      <td>Male</td>\n",
       "      <td>44</td>\n",
       "      <td>8</td>\n",
       "      <td>113755.78</td>\n",
       "      <td>2</td>\n",
       "      <td>1</td>\n",
       "      <td>0</td>\n",
       "      <td>149756.71</td>\n",
       "      <td>1</td>\n",
       "    </tr>\n",
       "    <tr>\n",
       "      <th>6</th>\n",
       "      <td>7</td>\n",
       "      <td>15592531</td>\n",
       "      <td>Bartlett</td>\n",
       "      <td>822</td>\n",
       "      <td>France</td>\n",
       "      <td>Male</td>\n",
       "      <td>50</td>\n",
       "      <td>7</td>\n",
       "      <td>0.00</td>\n",
       "      <td>2</td>\n",
       "      <td>1</td>\n",
       "      <td>1</td>\n",
       "      <td>10062.80</td>\n",
       "      <td>0</td>\n",
       "    </tr>\n",
       "    <tr>\n",
       "      <th>7</th>\n",
       "      <td>8</td>\n",
       "      <td>15656148</td>\n",
       "      <td>Obinna</td>\n",
       "      <td>376</td>\n",
       "      <td>Germany</td>\n",
       "      <td>Female</td>\n",
       "      <td>29</td>\n",
       "      <td>4</td>\n",
       "      <td>115046.74</td>\n",
       "      <td>4</td>\n",
       "      <td>1</td>\n",
       "      <td>0</td>\n",
       "      <td>119346.88</td>\n",
       "      <td>1</td>\n",
       "    </tr>\n",
       "    <tr>\n",
       "      <th>8</th>\n",
       "      <td>9</td>\n",
       "      <td>15792365</td>\n",
       "      <td>He</td>\n",
       "      <td>501</td>\n",
       "      <td>France</td>\n",
       "      <td>Male</td>\n",
       "      <td>44</td>\n",
       "      <td>4</td>\n",
       "      <td>142051.07</td>\n",
       "      <td>2</td>\n",
       "      <td>0</td>\n",
       "      <td>1</td>\n",
       "      <td>74940.50</td>\n",
       "      <td>0</td>\n",
       "    </tr>\n",
       "    <tr>\n",
       "      <th>9</th>\n",
       "      <td>10</td>\n",
       "      <td>15592389</td>\n",
       "      <td>H?</td>\n",
       "      <td>684</td>\n",
       "      <td>France</td>\n",
       "      <td>Male</td>\n",
       "      <td>27</td>\n",
       "      <td>2</td>\n",
       "      <td>134603.88</td>\n",
       "      <td>1</td>\n",
       "      <td>1</td>\n",
       "      <td>1</td>\n",
       "      <td>71725.73</td>\n",
       "      <td>0</td>\n",
       "    </tr>\n",
       "  </tbody>\n",
       "</table>\n",
       "</div>"
      ],
      "text/plain": [
       "   RowNumber  CustomerId   Surname  CreditScore Geography  Gender  Age  \\\n",
       "0          1    15634602  Hargrave          619    France  Female   42   \n",
       "1          2    15647311      Hill          608     Spain  Female   41   \n",
       "2          3    15619304      Onio          502    France  Female   42   \n",
       "3          4    15701354      Boni          699    France  Female   39   \n",
       "4          5    15737888  Mitchell          850     Spain  Female   43   \n",
       "5          6    15574012       Chu          645     Spain    Male   44   \n",
       "6          7    15592531  Bartlett          822    France    Male   50   \n",
       "7          8    15656148    Obinna          376   Germany  Female   29   \n",
       "8          9    15792365        He          501    France    Male   44   \n",
       "9         10    15592389        H?          684    France    Male   27   \n",
       "\n",
       "   Tenure    Balance  NumOfProducts  HasCrCard  IsActiveMember  \\\n",
       "0       2       0.00              1          1               1   \n",
       "1       1   83807.86              1          0               1   \n",
       "2       8  159660.80              3          1               0   \n",
       "3       1       0.00              2          0               0   \n",
       "4       2  125510.82              1          1               1   \n",
       "5       8  113755.78              2          1               0   \n",
       "6       7       0.00              2          1               1   \n",
       "7       4  115046.74              4          1               0   \n",
       "8       4  142051.07              2          0               1   \n",
       "9       2  134603.88              1          1               1   \n",
       "\n",
       "   EstimatedSalary  Exited  \n",
       "0        101348.88       1  \n",
       "1        112542.58       0  \n",
       "2        113931.57       1  \n",
       "3         93826.63       0  \n",
       "4         79084.10       0  \n",
       "5        149756.71       1  \n",
       "6         10062.80       0  \n",
       "7        119346.88       1  \n",
       "8         74940.50       0  \n",
       "9         71725.73       0  "
      ]
     },
     "metadata": {},
     "output_type": "display_data"
    },
    {
     "name": "stdout",
     "output_type": "stream",
     "text": [
      "<class 'pandas.core.frame.DataFrame'>\n",
      "RangeIndex: 10000 entries, 0 to 9999\n",
      "Data columns (total 14 columns):\n",
      " #   Column           Non-Null Count  Dtype  \n",
      "---  ------           --------------  -----  \n",
      " 0   RowNumber        10000 non-null  int64  \n",
      " 1   CustomerId       10000 non-null  int64  \n",
      " 2   Surname          10000 non-null  object \n",
      " 3   CreditScore      10000 non-null  int64  \n",
      " 4   Geography        10000 non-null  object \n",
      " 5   Gender           10000 non-null  object \n",
      " 6   Age              10000 non-null  int64  \n",
      " 7   Tenure           10000 non-null  int64  \n",
      " 8   Balance          10000 non-null  float64\n",
      " 9   NumOfProducts    10000 non-null  int64  \n",
      " 10  HasCrCard        10000 non-null  int64  \n",
      " 11  IsActiveMember   10000 non-null  int64  \n",
      " 12  EstimatedSalary  10000 non-null  float64\n",
      " 13  Exited           10000 non-null  int64  \n",
      "dtypes: float64(2), int64(9), object(3)\n",
      "memory usage: 1.1+ MB\n"
     ]
    },
    {
     "data": {
      "text/plain": [
       "None"
      ]
     },
     "metadata": {},
     "output_type": "display_data"
    },
    {
     "data": {
      "text/html": [
       "<div>\n",
       "<style scoped>\n",
       "    .dataframe tbody tr th:only-of-type {\n",
       "        vertical-align: middle;\n",
       "    }\n",
       "\n",
       "    .dataframe tbody tr th {\n",
       "        vertical-align: top;\n",
       "    }\n",
       "\n",
       "    .dataframe thead th {\n",
       "        text-align: right;\n",
       "    }\n",
       "</style>\n",
       "<table border=\"1\" class=\"dataframe\">\n",
       "  <thead>\n",
       "    <tr style=\"text-align: right;\">\n",
       "      <th></th>\n",
       "      <th>RowNumber</th>\n",
       "      <th>CustomerId</th>\n",
       "      <th>CreditScore</th>\n",
       "      <th>Age</th>\n",
       "      <th>Tenure</th>\n",
       "      <th>Balance</th>\n",
       "      <th>NumOfProducts</th>\n",
       "      <th>HasCrCard</th>\n",
       "      <th>IsActiveMember</th>\n",
       "      <th>EstimatedSalary</th>\n",
       "      <th>Exited</th>\n",
       "    </tr>\n",
       "  </thead>\n",
       "  <tbody>\n",
       "    <tr>\n",
       "      <th>count</th>\n",
       "      <td>10000.00000</td>\n",
       "      <td>1.000000e+04</td>\n",
       "      <td>10000.000000</td>\n",
       "      <td>10000.000000</td>\n",
       "      <td>10000.000000</td>\n",
       "      <td>10000.000000</td>\n",
       "      <td>10000.000000</td>\n",
       "      <td>10000.00000</td>\n",
       "      <td>10000.000000</td>\n",
       "      <td>10000.000000</td>\n",
       "      <td>10000.000000</td>\n",
       "    </tr>\n",
       "    <tr>\n",
       "      <th>mean</th>\n",
       "      <td>5000.50000</td>\n",
       "      <td>1.569094e+07</td>\n",
       "      <td>650.528800</td>\n",
       "      <td>38.921800</td>\n",
       "      <td>5.012800</td>\n",
       "      <td>76485.889288</td>\n",
       "      <td>1.530200</td>\n",
       "      <td>0.70550</td>\n",
       "      <td>0.515100</td>\n",
       "      <td>100090.239881</td>\n",
       "      <td>0.203700</td>\n",
       "    </tr>\n",
       "    <tr>\n",
       "      <th>std</th>\n",
       "      <td>2886.89568</td>\n",
       "      <td>7.193619e+04</td>\n",
       "      <td>96.653299</td>\n",
       "      <td>10.487806</td>\n",
       "      <td>2.892174</td>\n",
       "      <td>62397.405202</td>\n",
       "      <td>0.581654</td>\n",
       "      <td>0.45584</td>\n",
       "      <td>0.499797</td>\n",
       "      <td>57510.492818</td>\n",
       "      <td>0.402769</td>\n",
       "    </tr>\n",
       "    <tr>\n",
       "      <th>min</th>\n",
       "      <td>1.00000</td>\n",
       "      <td>1.556570e+07</td>\n",
       "      <td>350.000000</td>\n",
       "      <td>18.000000</td>\n",
       "      <td>0.000000</td>\n",
       "      <td>0.000000</td>\n",
       "      <td>1.000000</td>\n",
       "      <td>0.00000</td>\n",
       "      <td>0.000000</td>\n",
       "      <td>11.580000</td>\n",
       "      <td>0.000000</td>\n",
       "    </tr>\n",
       "    <tr>\n",
       "      <th>25%</th>\n",
       "      <td>2500.75000</td>\n",
       "      <td>1.562853e+07</td>\n",
       "      <td>584.000000</td>\n",
       "      <td>32.000000</td>\n",
       "      <td>3.000000</td>\n",
       "      <td>0.000000</td>\n",
       "      <td>1.000000</td>\n",
       "      <td>0.00000</td>\n",
       "      <td>0.000000</td>\n",
       "      <td>51002.110000</td>\n",
       "      <td>0.000000</td>\n",
       "    </tr>\n",
       "    <tr>\n",
       "      <th>50%</th>\n",
       "      <td>5000.50000</td>\n",
       "      <td>1.569074e+07</td>\n",
       "      <td>652.000000</td>\n",
       "      <td>37.000000</td>\n",
       "      <td>5.000000</td>\n",
       "      <td>97198.540000</td>\n",
       "      <td>1.000000</td>\n",
       "      <td>1.00000</td>\n",
       "      <td>1.000000</td>\n",
       "      <td>100193.915000</td>\n",
       "      <td>0.000000</td>\n",
       "    </tr>\n",
       "    <tr>\n",
       "      <th>75%</th>\n",
       "      <td>7500.25000</td>\n",
       "      <td>1.575323e+07</td>\n",
       "      <td>718.000000</td>\n",
       "      <td>44.000000</td>\n",
       "      <td>7.000000</td>\n",
       "      <td>127644.240000</td>\n",
       "      <td>2.000000</td>\n",
       "      <td>1.00000</td>\n",
       "      <td>1.000000</td>\n",
       "      <td>149388.247500</td>\n",
       "      <td>0.000000</td>\n",
       "    </tr>\n",
       "    <tr>\n",
       "      <th>max</th>\n",
       "      <td>10000.00000</td>\n",
       "      <td>1.581569e+07</td>\n",
       "      <td>850.000000</td>\n",
       "      <td>92.000000</td>\n",
       "      <td>10.000000</td>\n",
       "      <td>250898.090000</td>\n",
       "      <td>4.000000</td>\n",
       "      <td>1.00000</td>\n",
       "      <td>1.000000</td>\n",
       "      <td>199992.480000</td>\n",
       "      <td>1.000000</td>\n",
       "    </tr>\n",
       "  </tbody>\n",
       "</table>\n",
       "</div>"
      ],
      "text/plain": [
       "         RowNumber    CustomerId   CreditScore           Age        Tenure  \\\n",
       "count  10000.00000  1.000000e+04  10000.000000  10000.000000  10000.000000   \n",
       "mean    5000.50000  1.569094e+07    650.528800     38.921800      5.012800   \n",
       "std     2886.89568  7.193619e+04     96.653299     10.487806      2.892174   \n",
       "min        1.00000  1.556570e+07    350.000000     18.000000      0.000000   \n",
       "25%     2500.75000  1.562853e+07    584.000000     32.000000      3.000000   \n",
       "50%     5000.50000  1.569074e+07    652.000000     37.000000      5.000000   \n",
       "75%     7500.25000  1.575323e+07    718.000000     44.000000      7.000000   \n",
       "max    10000.00000  1.581569e+07    850.000000     92.000000     10.000000   \n",
       "\n",
       "             Balance  NumOfProducts    HasCrCard  IsActiveMember  \\\n",
       "count   10000.000000   10000.000000  10000.00000    10000.000000   \n",
       "mean    76485.889288       1.530200      0.70550        0.515100   \n",
       "std     62397.405202       0.581654      0.45584        0.499797   \n",
       "min         0.000000       1.000000      0.00000        0.000000   \n",
       "25%         0.000000       1.000000      0.00000        0.000000   \n",
       "50%     97198.540000       1.000000      1.00000        1.000000   \n",
       "75%    127644.240000       2.000000      1.00000        1.000000   \n",
       "max    250898.090000       4.000000      1.00000        1.000000   \n",
       "\n",
       "       EstimatedSalary        Exited  \n",
       "count     10000.000000  10000.000000  \n",
       "mean     100090.239881      0.203700  \n",
       "std       57510.492818      0.402769  \n",
       "min          11.580000      0.000000  \n",
       "25%       51002.110000      0.000000  \n",
       "50%      100193.915000      0.000000  \n",
       "75%      149388.247500      0.000000  \n",
       "max      199992.480000      1.000000  "
      ]
     },
     "metadata": {},
     "output_type": "display_data"
    },
    {
     "name": "stdout",
     "output_type": "stream",
     "text": [
      "Количество дубликатов: 0\n",
      "Уникальные значения в столбце Geography: France, Spain, Germany\n",
      "Количество уникальных id клиентов: 10000\n"
     ]
    }
   ],
   "source": [
    "data = pd.read_csv('./bank-customer-churn-modeling/Churn_Modelling.csv')\n",
    "display(data.head(10))\n",
    "display(data.info())\n",
    "display(data.describe())\n",
    "print('Количество дубликатов:', data.duplicated().sum())\n",
    "print('Уникальные значения в столбце Geography:', ', '.join(data['Geography'].unique()))\n",
    "print('Количество уникальных id клиентов:', data['CustomerId'].value_counts().sum())"
   ]
  },
  {
   "cell_type": "markdown",
   "metadata": {},
   "source": [
    "**Признаки**\n",
    "- `RowNumber` — индекс строки в данных\n",
    "- `CustomerId` — уникальный идентификатор клиента\n",
    "- `Surname` — фамилия\n",
    "- `CreditScore` — кредитный рейтинг\n",
    "- `Geography` — страна проживания\n",
    "- `Gender` — пол\n",
    "- `Age` — возраст\n",
    "- `Tenure` — сколько лет человек является клиентом банка\n",
    "- `Balance` — баланс на счёте\n",
    "- `NumOfProducts` — количество продуктов банка, используемых клиентом\n",
    "- `HasCrCard` — наличие кредитной карты\n",
    "- `IsActiveMember` — активность клиента\n",
    "- `EstimatedSalary` — предполагаемая зарплата\n",
    "\n",
    "**Целевой признак**\n",
    "- `Exited` — факт ухода клиента"
   ]
  },
  {
   "cell_type": "markdown",
   "metadata": {},
   "source": [
    "### Вывод\n",
    "\n",
    "В датафрейме 14 столбцов и 10000 строк с информацией о поведении клиентов банка (в том числе факт или отстутствие факта расторжения договора) и их личной информации (страна проживания, фамилия, пол, возраст).\n",
    "\n",
    "Видно, что наша выборка несбалансированная: всего около 20% клиентов ушли из банка.\n",
    "\n",
    "Столбцы, которые не несут ценности для обучения моделей:\n",
    "- `RowNumber` (дублирует индексы df, удалим на следующем этапе)\n",
    "- `CustomerId`\n",
    "- `Surname`\n",
    "\n",
    "Необходимо преобразовать категориальные данные следующих столбцов:\n",
    "- `Geography` (получатся всего 3 категории: France, Spain, Germany)\n",
    "- `Gender`\n",
    "Попробуем оба метода (OHE и Ordinal Encoding) и посмотрим, какой даст более качественную модель. \n",
    "\n",
    "Пропусков и дубликатов нет, все id клиентов уникальны - можем утверждать, что данных достаточно для проведения исследования. Приступим к их подготовке."
   ]
  },
  {
   "cell_type": "markdown",
   "metadata": {},
   "source": [
    "## Подготовка данных"
   ]
  },
  {
   "cell_type": "markdown",
   "metadata": {},
   "source": [
    "Удалим столбец `RowNumber` в `data`:"
   ]
  },
  {
   "cell_type": "code",
   "execution_count": 4,
   "metadata": {},
   "outputs": [
    {
     "data": {
      "text/plain": [
       "Index(['CustomerId', 'Surname', 'CreditScore', 'Geography', 'Gender', 'Age',\n",
       "       'Tenure', 'Balance', 'NumOfProducts', 'HasCrCard', 'IsActiveMember',\n",
       "       'EstimatedSalary', 'Exited'],\n",
       "      dtype='object')"
      ]
     },
     "execution_count": 4,
     "metadata": {},
     "output_type": "execute_result"
    }
   ],
   "source": [
    "data = data.drop('RowNumber', axis = 1)\n",
    "data.columns"
   ]
  },
  {
   "cell_type": "markdown",
   "metadata": {},
   "source": [
    "Создадим датафрейм `data_ml` с необходимой для обучения моделей информацией:"
   ]
  },
  {
   "cell_type": "code",
   "execution_count": 5,
   "metadata": {},
   "outputs": [
    {
     "data": {
      "text/html": [
       "<div>\n",
       "<style scoped>\n",
       "    .dataframe tbody tr th:only-of-type {\n",
       "        vertical-align: middle;\n",
       "    }\n",
       "\n",
       "    .dataframe tbody tr th {\n",
       "        vertical-align: top;\n",
       "    }\n",
       "\n",
       "    .dataframe thead th {\n",
       "        text-align: right;\n",
       "    }\n",
       "</style>\n",
       "<table border=\"1\" class=\"dataframe\">\n",
       "  <thead>\n",
       "    <tr style=\"text-align: right;\">\n",
       "      <th></th>\n",
       "      <th>CreditScore</th>\n",
       "      <th>Geography</th>\n",
       "      <th>Gender</th>\n",
       "      <th>Age</th>\n",
       "      <th>Tenure</th>\n",
       "      <th>Balance</th>\n",
       "      <th>NumOfProducts</th>\n",
       "      <th>HasCrCard</th>\n",
       "      <th>IsActiveMember</th>\n",
       "      <th>EstimatedSalary</th>\n",
       "      <th>Exited</th>\n",
       "    </tr>\n",
       "  </thead>\n",
       "  <tbody>\n",
       "    <tr>\n",
       "      <th>0</th>\n",
       "      <td>619</td>\n",
       "      <td>France</td>\n",
       "      <td>Female</td>\n",
       "      <td>42</td>\n",
       "      <td>2</td>\n",
       "      <td>0.00</td>\n",
       "      <td>1</td>\n",
       "      <td>1</td>\n",
       "      <td>1</td>\n",
       "      <td>101348.88</td>\n",
       "      <td>1</td>\n",
       "    </tr>\n",
       "    <tr>\n",
       "      <th>1</th>\n",
       "      <td>608</td>\n",
       "      <td>Spain</td>\n",
       "      <td>Female</td>\n",
       "      <td>41</td>\n",
       "      <td>1</td>\n",
       "      <td>83807.86</td>\n",
       "      <td>1</td>\n",
       "      <td>0</td>\n",
       "      <td>1</td>\n",
       "      <td>112542.58</td>\n",
       "      <td>0</td>\n",
       "    </tr>\n",
       "    <tr>\n",
       "      <th>2</th>\n",
       "      <td>502</td>\n",
       "      <td>France</td>\n",
       "      <td>Female</td>\n",
       "      <td>42</td>\n",
       "      <td>8</td>\n",
       "      <td>159660.80</td>\n",
       "      <td>3</td>\n",
       "      <td>1</td>\n",
       "      <td>0</td>\n",
       "      <td>113931.57</td>\n",
       "      <td>1</td>\n",
       "    </tr>\n",
       "    <tr>\n",
       "      <th>3</th>\n",
       "      <td>699</td>\n",
       "      <td>France</td>\n",
       "      <td>Female</td>\n",
       "      <td>39</td>\n",
       "      <td>1</td>\n",
       "      <td>0.00</td>\n",
       "      <td>2</td>\n",
       "      <td>0</td>\n",
       "      <td>0</td>\n",
       "      <td>93826.63</td>\n",
       "      <td>0</td>\n",
       "    </tr>\n",
       "    <tr>\n",
       "      <th>4</th>\n",
       "      <td>850</td>\n",
       "      <td>Spain</td>\n",
       "      <td>Female</td>\n",
       "      <td>43</td>\n",
       "      <td>2</td>\n",
       "      <td>125510.82</td>\n",
       "      <td>1</td>\n",
       "      <td>1</td>\n",
       "      <td>1</td>\n",
       "      <td>79084.10</td>\n",
       "      <td>0</td>\n",
       "    </tr>\n",
       "  </tbody>\n",
       "</table>\n",
       "</div>"
      ],
      "text/plain": [
       "   CreditScore Geography  Gender  Age  Tenure    Balance  NumOfProducts  \\\n",
       "0          619    France  Female   42       2       0.00              1   \n",
       "1          608     Spain  Female   41       1   83807.86              1   \n",
       "2          502    France  Female   42       8  159660.80              3   \n",
       "3          699    France  Female   39       1       0.00              2   \n",
       "4          850     Spain  Female   43       2  125510.82              1   \n",
       "\n",
       "   HasCrCard  IsActiveMember  EstimatedSalary  Exited  \n",
       "0          1               1        101348.88       1  \n",
       "1          0               1        112542.58       0  \n",
       "2          1               0        113931.57       1  \n",
       "3          0               0         93826.63       0  \n",
       "4          1               1         79084.10       0  "
      ]
     },
     "metadata": {},
     "output_type": "display_data"
    },
    {
     "data": {
      "text/plain": [
       "(10000, 11)"
      ]
     },
     "execution_count": 5,
     "metadata": {},
     "output_type": "execute_result"
    }
   ],
   "source": [
    "data_ml = data.drop(['CustomerId', 'Surname'], axis=1)\n",
    "display(data_ml.head())\n",
    "data_ml.shape"
   ]
  },
  {
   "cell_type": "markdown",
   "metadata": {},
   "source": [
    "### Кодирование данных"
   ]
  },
  {
   "cell_type": "markdown",
   "metadata": {},
   "source": [
    "#### Прямое кодирование (OHE)"
   ]
  },
  {
   "cell_type": "code",
   "execution_count": 6,
   "metadata": {},
   "outputs": [
    {
     "data": {
      "text/html": [
       "<div>\n",
       "<style scoped>\n",
       "    .dataframe tbody tr th:only-of-type {\n",
       "        vertical-align: middle;\n",
       "    }\n",
       "\n",
       "    .dataframe tbody tr th {\n",
       "        vertical-align: top;\n",
       "    }\n",
       "\n",
       "    .dataframe thead th {\n",
       "        text-align: right;\n",
       "    }\n",
       "</style>\n",
       "<table border=\"1\" class=\"dataframe\">\n",
       "  <thead>\n",
       "    <tr style=\"text-align: right;\">\n",
       "      <th></th>\n",
       "      <th>CreditScore</th>\n",
       "      <th>Age</th>\n",
       "      <th>Tenure</th>\n",
       "      <th>Balance</th>\n",
       "      <th>NumOfProducts</th>\n",
       "      <th>HasCrCard</th>\n",
       "      <th>IsActiveMember</th>\n",
       "      <th>EstimatedSalary</th>\n",
       "      <th>Exited</th>\n",
       "      <th>Geography_Germany</th>\n",
       "      <th>Geography_Spain</th>\n",
       "      <th>Gender_Male</th>\n",
       "    </tr>\n",
       "  </thead>\n",
       "  <tbody>\n",
       "    <tr>\n",
       "      <th>0</th>\n",
       "      <td>619</td>\n",
       "      <td>42</td>\n",
       "      <td>2</td>\n",
       "      <td>0.00</td>\n",
       "      <td>1</td>\n",
       "      <td>1</td>\n",
       "      <td>1</td>\n",
       "      <td>101348.88</td>\n",
       "      <td>1</td>\n",
       "      <td>0</td>\n",
       "      <td>0</td>\n",
       "      <td>0</td>\n",
       "    </tr>\n",
       "    <tr>\n",
       "      <th>1</th>\n",
       "      <td>608</td>\n",
       "      <td>41</td>\n",
       "      <td>1</td>\n",
       "      <td>83807.86</td>\n",
       "      <td>1</td>\n",
       "      <td>0</td>\n",
       "      <td>1</td>\n",
       "      <td>112542.58</td>\n",
       "      <td>0</td>\n",
       "      <td>0</td>\n",
       "      <td>1</td>\n",
       "      <td>0</td>\n",
       "    </tr>\n",
       "    <tr>\n",
       "      <th>2</th>\n",
       "      <td>502</td>\n",
       "      <td>42</td>\n",
       "      <td>8</td>\n",
       "      <td>159660.80</td>\n",
       "      <td>3</td>\n",
       "      <td>1</td>\n",
       "      <td>0</td>\n",
       "      <td>113931.57</td>\n",
       "      <td>1</td>\n",
       "      <td>0</td>\n",
       "      <td>0</td>\n",
       "      <td>0</td>\n",
       "    </tr>\n",
       "    <tr>\n",
       "      <th>3</th>\n",
       "      <td>699</td>\n",
       "      <td>39</td>\n",
       "      <td>1</td>\n",
       "      <td>0.00</td>\n",
       "      <td>2</td>\n",
       "      <td>0</td>\n",
       "      <td>0</td>\n",
       "      <td>93826.63</td>\n",
       "      <td>0</td>\n",
       "      <td>0</td>\n",
       "      <td>0</td>\n",
       "      <td>0</td>\n",
       "    </tr>\n",
       "    <tr>\n",
       "      <th>4</th>\n",
       "      <td>850</td>\n",
       "      <td>43</td>\n",
       "      <td>2</td>\n",
       "      <td>125510.82</td>\n",
       "      <td>1</td>\n",
       "      <td>1</td>\n",
       "      <td>1</td>\n",
       "      <td>79084.10</td>\n",
       "      <td>0</td>\n",
       "      <td>0</td>\n",
       "      <td>1</td>\n",
       "      <td>0</td>\n",
       "    </tr>\n",
       "  </tbody>\n",
       "</table>\n",
       "</div>"
      ],
      "text/plain": [
       "   CreditScore  Age  Tenure    Balance  NumOfProducts  HasCrCard  \\\n",
       "0          619   42       2       0.00              1          1   \n",
       "1          608   41       1   83807.86              1          0   \n",
       "2          502   42       8  159660.80              3          1   \n",
       "3          699   39       1       0.00              2          0   \n",
       "4          850   43       2  125510.82              1          1   \n",
       "\n",
       "   IsActiveMember  EstimatedSalary  Exited  Geography_Germany  \\\n",
       "0               1        101348.88       1                  0   \n",
       "1               1        112542.58       0                  0   \n",
       "2               0        113931.57       1                  0   \n",
       "3               0         93826.63       0                  0   \n",
       "4               1         79084.10       0                  0   \n",
       "\n",
       "   Geography_Spain  Gender_Male  \n",
       "0                0            0  \n",
       "1                1            0  \n",
       "2                0            0  \n",
       "3                0            0  \n",
       "4                1            0  "
      ]
     },
     "execution_count": 6,
     "metadata": {},
     "output_type": "execute_result"
    }
   ],
   "source": [
    "ohe = pd.get_dummies(data_ml, drop_first=True)\n",
    "\n",
    "ohe.head()"
   ]
  },
  {
   "cell_type": "markdown",
   "metadata": {},
   "source": [
    "#### Порядковое кодирование (Ordinal Encoding)\n"
   ]
  },
  {
   "cell_type": "code",
   "execution_count": 7,
   "metadata": {},
   "outputs": [
    {
     "data": {
      "text/html": [
       "<div>\n",
       "<style scoped>\n",
       "    .dataframe tbody tr th:only-of-type {\n",
       "        vertical-align: middle;\n",
       "    }\n",
       "\n",
       "    .dataframe tbody tr th {\n",
       "        vertical-align: top;\n",
       "    }\n",
       "\n",
       "    .dataframe thead th {\n",
       "        text-align: right;\n",
       "    }\n",
       "</style>\n",
       "<table border=\"1\" class=\"dataframe\">\n",
       "  <thead>\n",
       "    <tr style=\"text-align: right;\">\n",
       "      <th></th>\n",
       "      <th>CreditScore</th>\n",
       "      <th>Age</th>\n",
       "      <th>Tenure</th>\n",
       "      <th>Balance</th>\n",
       "      <th>NumOfProducts</th>\n",
       "      <th>HasCrCard</th>\n",
       "      <th>IsActiveMember</th>\n",
       "      <th>EstimatedSalary</th>\n",
       "      <th>Exited</th>\n",
       "      <th>Geography</th>\n",
       "      <th>Gender</th>\n",
       "    </tr>\n",
       "  </thead>\n",
       "  <tbody>\n",
       "    <tr>\n",
       "      <th>0</th>\n",
       "      <td>619</td>\n",
       "      <td>42</td>\n",
       "      <td>2</td>\n",
       "      <td>0.00</td>\n",
       "      <td>1</td>\n",
       "      <td>1</td>\n",
       "      <td>1</td>\n",
       "      <td>101348.88</td>\n",
       "      <td>1</td>\n",
       "      <td>0.0</td>\n",
       "      <td>0.0</td>\n",
       "    </tr>\n",
       "    <tr>\n",
       "      <th>1</th>\n",
       "      <td>608</td>\n",
       "      <td>41</td>\n",
       "      <td>1</td>\n",
       "      <td>83807.86</td>\n",
       "      <td>1</td>\n",
       "      <td>0</td>\n",
       "      <td>1</td>\n",
       "      <td>112542.58</td>\n",
       "      <td>0</td>\n",
       "      <td>2.0</td>\n",
       "      <td>0.0</td>\n",
       "    </tr>\n",
       "    <tr>\n",
       "      <th>2</th>\n",
       "      <td>502</td>\n",
       "      <td>42</td>\n",
       "      <td>8</td>\n",
       "      <td>159660.80</td>\n",
       "      <td>3</td>\n",
       "      <td>1</td>\n",
       "      <td>0</td>\n",
       "      <td>113931.57</td>\n",
       "      <td>1</td>\n",
       "      <td>0.0</td>\n",
       "      <td>0.0</td>\n",
       "    </tr>\n",
       "    <tr>\n",
       "      <th>3</th>\n",
       "      <td>699</td>\n",
       "      <td>39</td>\n",
       "      <td>1</td>\n",
       "      <td>0.00</td>\n",
       "      <td>2</td>\n",
       "      <td>0</td>\n",
       "      <td>0</td>\n",
       "      <td>93826.63</td>\n",
       "      <td>0</td>\n",
       "      <td>0.0</td>\n",
       "      <td>0.0</td>\n",
       "    </tr>\n",
       "    <tr>\n",
       "      <th>4</th>\n",
       "      <td>850</td>\n",
       "      <td>43</td>\n",
       "      <td>2</td>\n",
       "      <td>125510.82</td>\n",
       "      <td>1</td>\n",
       "      <td>1</td>\n",
       "      <td>1</td>\n",
       "      <td>79084.10</td>\n",
       "      <td>0</td>\n",
       "      <td>2.0</td>\n",
       "      <td>0.0</td>\n",
       "    </tr>\n",
       "  </tbody>\n",
       "</table>\n",
       "</div>"
      ],
      "text/plain": [
       "   CreditScore  Age  Tenure    Balance  NumOfProducts  HasCrCard  \\\n",
       "0          619   42       2       0.00              1          1   \n",
       "1          608   41       1   83807.86              1          0   \n",
       "2          502   42       8  159660.80              3          1   \n",
       "3          699   39       1       0.00              2          0   \n",
       "4          850   43       2  125510.82              1          1   \n",
       "\n",
       "   IsActiveMember  EstimatedSalary  Exited  Geography  Gender  \n",
       "0               1        101348.88       1        0.0     0.0  \n",
       "1               1        112542.58       0        2.0     0.0  \n",
       "2               0        113931.57       1        0.0     0.0  \n",
       "3               0         93826.63       0        0.0     0.0  \n",
       "4               1         79084.10       0        2.0     0.0  "
      ]
     },
     "execution_count": 7,
     "metadata": {},
     "output_type": "execute_result"
    }
   ],
   "source": [
    "cat_columns = ['Geography', 'Gender']\n",
    "num_columns = [x for x in data_ml.columns if data_ml[x].dtype != 'object']\n",
    "\n",
    "encoder = OrdinalEncoder() \n",
    "encoder.fit(data_ml[cat_columns]) \n",
    "ordinal = pd.DataFrame(encoder.transform(data_ml[cat_columns]), columns = cat_columns, index = data_ml.index) \n",
    "ordinal = pd.concat([data_ml[num_columns], ordinal], axis = 1)\n",
    "\n",
    "ordinal.head()"
   ]
  },
  {
   "cell_type": "markdown",
   "metadata": {},
   "source": [
    "### Разбиение данных на выборки"
   ]
  },
  {
   "cell_type": "code",
   "execution_count": 8,
   "metadata": {},
   "outputs": [],
   "source": [
    "# разобъем исходные данные на тестовую и оставшуюся выборку в соотношении 1:4\n",
    "# получим df_test, равную 20% от исходного df\n",
    "df_remain, df_test = train_test_split(data_ml, test_size=0.2, random_state=12345, stratify=data_ml['Exited'])\n",
    "\n",
    "# разобъем оставшуюся выборку на обучающую и валидационную в соотношении 1:3\n",
    "# получим df_train, df_valid, 60% и 20% от исходного df соответственно\n",
    "df_train, df_valid = train_test_split(df_remain, test_size=0.25, random_state=12345, stratify=df_remain['Exited'])"
   ]
  },
  {
   "cell_type": "code",
   "execution_count": 9,
   "metadata": {},
   "outputs": [],
   "source": [
    "for df in ['ohe', 'ordinal']:\n",
    "    \n",
    "    # разобъем исходные данные на тестовую и оставшуюся выборку в соотношении 1:4\n",
    "    # получим df_test, равную 20% от исходного df    \n",
    "    globals()['remain_%s' % df], globals()['test_%s' % df] = train_test_split(globals()[df], \n",
    "                                                                              test_size=0.2, random_state=12345, \n",
    "                                                                              stratify=globals()[df]['Exited'])\n",
    "\n",
    "        \n",
    "    # разобъем оставшуюся выборку на обучающую и валидационную в соотношении 1:3\n",
    "    # получим df_train, df_valid, 60% и 20% от исходного df соответственно    \n",
    "    globals()['train_%s' % df], globals()['valid_%s' % df] = train_test_split(globals()['remain_%s' % df], \n",
    "                                                                              test_size=0.25, random_state=12345, \n",
    "                                                                              stratify=globals()['remain_%s' % df]['Exited'])"
   ]
  },
  {
   "cell_type": "markdown",
   "metadata": {},
   "source": [
    "Убедимся, что сохранили изначальный дисбаланс таргетов в новых датасетах. Посмотрим на круговые диаграммы распределения целевого признака:"
   ]
  },
  {
   "cell_type": "code",
   "execution_count": 10,
   "metadata": {},
   "outputs": [
    {
     "name": "stderr",
     "output_type": "stream",
     "text": [
      "3it [00:00, 39.54it/s]\n"
     ]
    },
    {
     "data": {
      "image/png": "[encoded data removed]",
      "text/plain": [
       "<Figure size 1080x432 with 3 Axes>"
      ]
     },
     "metadata": {},
     "output_type": "display_data"
    },
    {
     "name": "stderr",
     "output_type": "stream",
     "text": [
      "3it [00:00, 49.51it/s]\n"
     ]
    },
    {
     "data": {
      "image/png": "[encoded data removed]",
      "text/plain": [
       "<Figure size 1080x432 with 3 Axes>"
      ]
     },
     "metadata": {},
     "output_type": "display_data"
    }
   ],
   "source": [
    "def distribution_pies(df, color):\n",
    "\n",
    "    fig = plt.figure(figsize=(15,6))\n",
    "    plt.suptitle(f'Данные из датафрейма {df}',fontsize = 20)\n",
    "\n",
    "\n",
    "    for sample, s_name, i in tqdm(zip([globals()['train_%s' % df], globals()['test_%s' % df], globals()['valid_%s' % df]], \n",
    "                                      ['обучающей', 'тестовой', 'валидационной'],\n",
    "                                      [0,1,2])):\n",
    "\n",
    "        values = sample['Exited'].value_counts().tolist()\n",
    "        labels = ['Активные', 'Покинувшие банк']    \n",
    "        ax1 = plt.subplot2grid((1,3),(0,i))       \n",
    "        plt.pie(values, labels=labels, autopct='%1.1f%%', colors = ['lightgrey', color], \n",
    "                   wedgeprops = {'lw':1, 'ls':'-','edgecolor':'black'},\n",
    "                   explode = [0.1, 0.1], shadow = True, textprops={'fontsize': 12})\n",
    "        plt.title(f'Распределение клиентов\\n в {s_name} выборке', fontsize = 15) \n",
    "    plt.show()\n",
    "    \n",
    "distribution_pies('ohe', 'lightblue')\n",
    "distribution_pies('ordinal', 'lightpink')"
   ]
  },
  {
   "cell_type": "code",
   "execution_count": 11,
   "metadata": {},
   "outputs": [
    {
     "name": "stdout",
     "output_type": "stream",
     "text": [
      "features_train_ohe\n"
     ]
    },
    {
     "data": {
      "text/html": [
       "<div>\n",
       "<style scoped>\n",
       "    .dataframe tbody tr th:only-of-type {\n",
       "        vertical-align: middle;\n",
       "    }\n",
       "\n",
       "    .dataframe tbody tr th {\n",
       "        vertical-align: top;\n",
       "    }\n",
       "\n",
       "    .dataframe thead th {\n",
       "        text-align: right;\n",
       "    }\n",
       "</style>\n",
       "<table border=\"1\" class=\"dataframe\">\n",
       "  <thead>\n",
       "    <tr style=\"text-align: right;\">\n",
       "      <th></th>\n",
       "      <th>CreditScore</th>\n",
       "      <th>Age</th>\n",
       "      <th>Tenure</th>\n",
       "      <th>Balance</th>\n",
       "      <th>NumOfProducts</th>\n",
       "      <th>HasCrCard</th>\n",
       "      <th>IsActiveMember</th>\n",
       "      <th>EstimatedSalary</th>\n",
       "      <th>Geography_Germany</th>\n",
       "      <th>Geography_Spain</th>\n",
       "      <th>Gender_Male</th>\n",
       "    </tr>\n",
       "  </thead>\n",
       "  <tbody>\n",
       "    <tr>\n",
       "      <th>2321</th>\n",
       "      <td>545</td>\n",
       "      <td>45</td>\n",
       "      <td>6</td>\n",
       "      <td>93796.42</td>\n",
       "      <td>2</td>\n",
       "      <td>1</td>\n",
       "      <td>1</td>\n",
       "      <td>162321.26</td>\n",
       "      <td>1</td>\n",
       "      <td>0</td>\n",
       "      <td>1</td>\n",
       "    </tr>\n",
       "    <tr>\n",
       "      <th>6221</th>\n",
       "      <td>513</td>\n",
       "      <td>45</td>\n",
       "      <td>0</td>\n",
       "      <td>164649.52</td>\n",
       "      <td>3</td>\n",
       "      <td>1</td>\n",
       "      <td>0</td>\n",
       "      <td>49915.52</td>\n",
       "      <td>0</td>\n",
       "      <td>0</td>\n",
       "      <td>0</td>\n",
       "    </tr>\n",
       "    <tr>\n",
       "      <th>9291</th>\n",
       "      <td>636</td>\n",
       "      <td>36</td>\n",
       "      <td>5</td>\n",
       "      <td>117559.05</td>\n",
       "      <td>2</td>\n",
       "      <td>1</td>\n",
       "      <td>1</td>\n",
       "      <td>111573.30</td>\n",
       "      <td>0</td>\n",
       "      <td>0</td>\n",
       "      <td>1</td>\n",
       "    </tr>\n",
       "    <tr>\n",
       "      <th>7615</th>\n",
       "      <td>590</td>\n",
       "      <td>37</td>\n",
       "      <td>6</td>\n",
       "      <td>169902.92</td>\n",
       "      <td>1</td>\n",
       "      <td>1</td>\n",
       "      <td>1</td>\n",
       "      <td>128256.18</td>\n",
       "      <td>0</td>\n",
       "      <td>1</td>\n",
       "      <td>1</td>\n",
       "    </tr>\n",
       "    <tr>\n",
       "      <th>5283</th>\n",
       "      <td>656</td>\n",
       "      <td>23</td>\n",
       "      <td>4</td>\n",
       "      <td>163549.63</td>\n",
       "      <td>1</td>\n",
       "      <td>0</td>\n",
       "      <td>1</td>\n",
       "      <td>21085.12</td>\n",
       "      <td>1</td>\n",
       "      <td>0</td>\n",
       "      <td>0</td>\n",
       "    </tr>\n",
       "  </tbody>\n",
       "</table>\n",
       "</div>"
      ],
      "text/plain": [
       "      CreditScore  Age  Tenure    Balance  NumOfProducts  HasCrCard  \\\n",
       "2321          545   45       6   93796.42              2          1   \n",
       "6221          513   45       0  164649.52              3          1   \n",
       "9291          636   36       5  117559.05              2          1   \n",
       "7615          590   37       6  169902.92              1          1   \n",
       "5283          656   23       4  163549.63              1          0   \n",
       "\n",
       "      IsActiveMember  EstimatedSalary  Geography_Germany  Geography_Spain  \\\n",
       "2321               1        162321.26                  1                0   \n",
       "6221               0         49915.52                  0                0   \n",
       "9291               1        111573.30                  0                0   \n",
       "7615               1        128256.18                  0                1   \n",
       "5283               1         21085.12                  1                0   \n",
       "\n",
       "      Gender_Male  \n",
       "2321            1  \n",
       "6221            0  \n",
       "9291            1  \n",
       "7615            1  \n",
       "5283            0  "
      ]
     },
     "metadata": {},
     "output_type": "display_data"
    },
    {
     "name": "stdout",
     "output_type": "stream",
     "text": [
      "target_train\n"
     ]
    },
    {
     "data": {
      "text/plain": [
       "6594    1\n",
       "9988    0\n",
       "4166    1\n",
       "5890    0\n",
       "9900    0\n",
       "Name: Exited, dtype: int64"
      ]
     },
     "metadata": {},
     "output_type": "display_data"
    },
    {
     "name": "stdout",
     "output_type": "stream",
     "text": [
      "Доля train_ohe от ohe - 60 %\n",
      "\n",
      "features_test_ohe\n"
     ]
    },
    {
     "data": {
      "text/html": [
       "<div>\n",
       "<style scoped>\n",
       "    .dataframe tbody tr th:only-of-type {\n",
       "        vertical-align: middle;\n",
       "    }\n",
       "\n",
       "    .dataframe tbody tr th {\n",
       "        vertical-align: top;\n",
       "    }\n",
       "\n",
       "    .dataframe thead th {\n",
       "        text-align: right;\n",
       "    }\n",
       "</style>\n",
       "<table border=\"1\" class=\"dataframe\">\n",
       "  <thead>\n",
       "    <tr style=\"text-align: right;\">\n",
       "      <th></th>\n",
       "      <th>CreditScore</th>\n",
       "      <th>Age</th>\n",
       "      <th>Tenure</th>\n",
       "      <th>Balance</th>\n",
       "      <th>NumOfProducts</th>\n",
       "      <th>HasCrCard</th>\n",
       "      <th>IsActiveMember</th>\n",
       "      <th>EstimatedSalary</th>\n",
       "      <th>Geography_Germany</th>\n",
       "      <th>Geography_Spain</th>\n",
       "      <th>Gender_Male</th>\n",
       "    </tr>\n",
       "  </thead>\n",
       "  <tbody>\n",
       "    <tr>\n",
       "      <th>8676</th>\n",
       "      <td>582</td>\n",
       "      <td>41</td>\n",
       "      <td>1</td>\n",
       "      <td>40488.76</td>\n",
       "      <td>1</td>\n",
       "      <td>1</td>\n",
       "      <td>0</td>\n",
       "      <td>128528.83</td>\n",
       "      <td>0</td>\n",
       "      <td>0</td>\n",
       "      <td>1</td>\n",
       "    </tr>\n",
       "    <tr>\n",
       "      <th>7429</th>\n",
       "      <td>685</td>\n",
       "      <td>43</td>\n",
       "      <td>6</td>\n",
       "      <td>117302.62</td>\n",
       "      <td>1</td>\n",
       "      <td>0</td>\n",
       "      <td>0</td>\n",
       "      <td>68701.73</td>\n",
       "      <td>0</td>\n",
       "      <td>1</td>\n",
       "      <td>0</td>\n",
       "    </tr>\n",
       "    <tr>\n",
       "      <th>1729</th>\n",
       "      <td>637</td>\n",
       "      <td>33</td>\n",
       "      <td>0</td>\n",
       "      <td>132255.99</td>\n",
       "      <td>2</td>\n",
       "      <td>0</td>\n",
       "      <td>1</td>\n",
       "      <td>74588.41</td>\n",
       "      <td>0</td>\n",
       "      <td>0</td>\n",
       "      <td>1</td>\n",
       "    </tr>\n",
       "    <tr>\n",
       "      <th>935</th>\n",
       "      <td>619</td>\n",
       "      <td>38</td>\n",
       "      <td>3</td>\n",
       "      <td>0.00</td>\n",
       "      <td>2</td>\n",
       "      <td>0</td>\n",
       "      <td>1</td>\n",
       "      <td>116467.35</td>\n",
       "      <td>0</td>\n",
       "      <td>0</td>\n",
       "      <td>0</td>\n",
       "    </tr>\n",
       "    <tr>\n",
       "      <th>5875</th>\n",
       "      <td>512</td>\n",
       "      <td>33</td>\n",
       "      <td>6</td>\n",
       "      <td>121685.31</td>\n",
       "      <td>2</td>\n",
       "      <td>1</td>\n",
       "      <td>1</td>\n",
       "      <td>83681.97</td>\n",
       "      <td>0</td>\n",
       "      <td>0</td>\n",
       "      <td>0</td>\n",
       "    </tr>\n",
       "  </tbody>\n",
       "</table>\n",
       "</div>"
      ],
      "text/plain": [
       "      CreditScore  Age  Tenure    Balance  NumOfProducts  HasCrCard  \\\n",
       "8676          582   41       1   40488.76              1          1   \n",
       "7429          685   43       6  117302.62              1          0   \n",
       "1729          637   33       0  132255.99              2          0   \n",
       "935           619   38       3       0.00              2          0   \n",
       "5875          512   33       6  121685.31              2          1   \n",
       "\n",
       "      IsActiveMember  EstimatedSalary  Geography_Germany  Geography_Spain  \\\n",
       "8676               0        128528.83                  0                0   \n",
       "7429               0         68701.73                  0                1   \n",
       "1729               1         74588.41                  0                0   \n",
       "935                1        116467.35                  0                0   \n",
       "5875               1         83681.97                  0                0   \n",
       "\n",
       "      Gender_Male  \n",
       "8676            1  \n",
       "7429            0  \n",
       "1729            1  \n",
       "935             0  \n",
       "5875            0  "
      ]
     },
     "metadata": {},
     "output_type": "display_data"
    },
    {
     "name": "stdout",
     "output_type": "stream",
     "text": [
      "target_test\n"
     ]
    },
    {
     "data": {
      "text/plain": [
       "1525    0\n",
       "9043    0\n",
       "2723    0\n",
       "9392    0\n",
       "5092    1\n",
       "Name: Exited, dtype: int64"
      ]
     },
     "metadata": {},
     "output_type": "display_data"
    },
    {
     "name": "stdout",
     "output_type": "stream",
     "text": [
      "Доля test_ohe от ohe - 20 %\n",
      "\n",
      "features_valid_ohe\n"
     ]
    },
    {
     "data": {
      "text/html": [
       "<div>\n",
       "<style scoped>\n",
       "    .dataframe tbody tr th:only-of-type {\n",
       "        vertical-align: middle;\n",
       "    }\n",
       "\n",
       "    .dataframe tbody tr th {\n",
       "        vertical-align: top;\n",
       "    }\n",
       "\n",
       "    .dataframe thead th {\n",
       "        text-align: right;\n",
       "    }\n",
       "</style>\n",
       "<table border=\"1\" class=\"dataframe\">\n",
       "  <thead>\n",
       "    <tr style=\"text-align: right;\">\n",
       "      <th></th>\n",
       "      <th>CreditScore</th>\n",
       "      <th>Age</th>\n",
       "      <th>Tenure</th>\n",
       "      <th>Balance</th>\n",
       "      <th>NumOfProducts</th>\n",
       "      <th>HasCrCard</th>\n",
       "      <th>IsActiveMember</th>\n",
       "      <th>EstimatedSalary</th>\n",
       "      <th>Geography_Germany</th>\n",
       "      <th>Geography_Spain</th>\n",
       "      <th>Gender_Male</th>\n",
       "    </tr>\n",
       "  </thead>\n",
       "  <tbody>\n",
       "    <tr>\n",
       "      <th>1988</th>\n",
       "      <td>563</td>\n",
       "      <td>46</td>\n",
       "      <td>8</td>\n",
       "      <td>106171.68</td>\n",
       "      <td>1</td>\n",
       "      <td>1</td>\n",
       "      <td>0</td>\n",
       "      <td>163145.50</td>\n",
       "      <td>0</td>\n",
       "      <td>1</td>\n",
       "      <td>0</td>\n",
       "    </tr>\n",
       "    <tr>\n",
       "      <th>8626</th>\n",
       "      <td>657</td>\n",
       "      <td>40</td>\n",
       "      <td>7</td>\n",
       "      <td>99165.84</td>\n",
       "      <td>1</td>\n",
       "      <td>0</td>\n",
       "      <td>1</td>\n",
       "      <td>119333.95</td>\n",
       "      <td>1</td>\n",
       "      <td>0</td>\n",
       "      <td>1</td>\n",
       "    </tr>\n",
       "    <tr>\n",
       "      <th>4194</th>\n",
       "      <td>572</td>\n",
       "      <td>54</td>\n",
       "      <td>9</td>\n",
       "      <td>97382.53</td>\n",
       "      <td>1</td>\n",
       "      <td>1</td>\n",
       "      <td>1</td>\n",
       "      <td>195771.95</td>\n",
       "      <td>1</td>\n",
       "      <td>0</td>\n",
       "      <td>0</td>\n",
       "    </tr>\n",
       "    <tr>\n",
       "      <th>2227</th>\n",
       "      <td>633</td>\n",
       "      <td>58</td>\n",
       "      <td>6</td>\n",
       "      <td>98308.51</td>\n",
       "      <td>1</td>\n",
       "      <td>1</td>\n",
       "      <td>1</td>\n",
       "      <td>132034.13</td>\n",
       "      <td>0</td>\n",
       "      <td>1</td>\n",
       "      <td>1</td>\n",
       "    </tr>\n",
       "    <tr>\n",
       "      <th>5256</th>\n",
       "      <td>713</td>\n",
       "      <td>48</td>\n",
       "      <td>1</td>\n",
       "      <td>163760.82</td>\n",
       "      <td>1</td>\n",
       "      <td>0</td>\n",
       "      <td>0</td>\n",
       "      <td>157381.14</td>\n",
       "      <td>0</td>\n",
       "      <td>1</td>\n",
       "      <td>0</td>\n",
       "    </tr>\n",
       "  </tbody>\n",
       "</table>\n",
       "</div>"
      ],
      "text/plain": [
       "      CreditScore  Age  Tenure    Balance  NumOfProducts  HasCrCard  \\\n",
       "1988          563   46       8  106171.68              1          1   \n",
       "8626          657   40       7   99165.84              1          0   \n",
       "4194          572   54       9   97382.53              1          1   \n",
       "2227          633   58       6   98308.51              1          1   \n",
       "5256          713   48       1  163760.82              1          0   \n",
       "\n",
       "      IsActiveMember  EstimatedSalary  Geography_Germany  Geography_Spain  \\\n",
       "1988               0        163145.50                  0                1   \n",
       "8626               1        119333.95                  1                0   \n",
       "4194               1        195771.95                  1                0   \n",
       "2227               1        132034.13                  0                1   \n",
       "5256               0        157381.14                  0                1   \n",
       "\n",
       "      Gender_Male  \n",
       "1988            0  \n",
       "8626            1  \n",
       "4194            0  \n",
       "2227            1  \n",
       "5256            0  "
      ]
     },
     "metadata": {},
     "output_type": "display_data"
    },
    {
     "name": "stdout",
     "output_type": "stream",
     "text": [
      "target_valid\n"
     ]
    },
    {
     "data": {
      "text/plain": [
       "9860    0\n",
       "4387    0\n",
       "7382    0\n",
       "8844    0\n",
       "8087    0\n",
       "Name: Exited, dtype: int64"
      ]
     },
     "metadata": {},
     "output_type": "display_data"
    },
    {
     "name": "stdout",
     "output_type": "stream",
     "text": [
      "Доля valid_ohe от ohe - 20 %\n",
      "\n",
      "features_remain_ohe\n"
     ]
    },
    {
     "data": {
      "text/html": [
       "<div>\n",
       "<style scoped>\n",
       "    .dataframe tbody tr th:only-of-type {\n",
       "        vertical-align: middle;\n",
       "    }\n",
       "\n",
       "    .dataframe tbody tr th {\n",
       "        vertical-align: top;\n",
       "    }\n",
       "\n",
       "    .dataframe thead th {\n",
       "        text-align: right;\n",
       "    }\n",
       "</style>\n",
       "<table border=\"1\" class=\"dataframe\">\n",
       "  <thead>\n",
       "    <tr style=\"text-align: right;\">\n",
       "      <th></th>\n",
       "      <th>CreditScore</th>\n",
       "      <th>Age</th>\n",
       "      <th>Tenure</th>\n",
       "      <th>Balance</th>\n",
       "      <th>NumOfProducts</th>\n",
       "      <th>HasCrCard</th>\n",
       "      <th>IsActiveMember</th>\n",
       "      <th>EstimatedSalary</th>\n",
       "      <th>Geography_Germany</th>\n",
       "      <th>Geography_Spain</th>\n",
       "      <th>Gender_Male</th>\n",
       "    </tr>\n",
       "  </thead>\n",
       "  <tbody>\n",
       "    <tr>\n",
       "      <th>9492</th>\n",
       "      <td>732</td>\n",
       "      <td>48</td>\n",
       "      <td>4</td>\n",
       "      <td>102962.62</td>\n",
       "      <td>1</td>\n",
       "      <td>1</td>\n",
       "      <td>0</td>\n",
       "      <td>120852.85</td>\n",
       "      <td>1</td>\n",
       "      <td>0</td>\n",
       "      <td>0</td>\n",
       "    </tr>\n",
       "    <tr>\n",
       "      <th>9640</th>\n",
       "      <td>750</td>\n",
       "      <td>35</td>\n",
       "      <td>3</td>\n",
       "      <td>0.00</td>\n",
       "      <td>1</td>\n",
       "      <td>1</td>\n",
       "      <td>0</td>\n",
       "      <td>191520.50</td>\n",
       "      <td>0</td>\n",
       "      <td>0</td>\n",
       "      <td>0</td>\n",
       "    </tr>\n",
       "    <tr>\n",
       "      <th>2585</th>\n",
       "      <td>724</td>\n",
       "      <td>28</td>\n",
       "      <td>9</td>\n",
       "      <td>0.00</td>\n",
       "      <td>2</td>\n",
       "      <td>1</td>\n",
       "      <td>1</td>\n",
       "      <td>100240.20</td>\n",
       "      <td>0</td>\n",
       "      <td>0</td>\n",
       "      <td>1</td>\n",
       "    </tr>\n",
       "    <tr>\n",
       "      <th>5145</th>\n",
       "      <td>784</td>\n",
       "      <td>38</td>\n",
       "      <td>1</td>\n",
       "      <td>138515.02</td>\n",
       "      <td>1</td>\n",
       "      <td>1</td>\n",
       "      <td>1</td>\n",
       "      <td>171768.76</td>\n",
       "      <td>1</td>\n",
       "      <td>0</td>\n",
       "      <td>1</td>\n",
       "    </tr>\n",
       "    <tr>\n",
       "      <th>2149</th>\n",
       "      <td>836</td>\n",
       "      <td>57</td>\n",
       "      <td>4</td>\n",
       "      <td>101247.06</td>\n",
       "      <td>1</td>\n",
       "      <td>1</td>\n",
       "      <td>0</td>\n",
       "      <td>37141.62</td>\n",
       "      <td>0</td>\n",
       "      <td>1</td>\n",
       "      <td>1</td>\n",
       "    </tr>\n",
       "  </tbody>\n",
       "</table>\n",
       "</div>"
      ],
      "text/plain": [
       "      CreditScore  Age  Tenure    Balance  NumOfProducts  HasCrCard  \\\n",
       "9492          732   48       4  102962.62              1          1   \n",
       "9640          750   35       3       0.00              1          1   \n",
       "2585          724   28       9       0.00              2          1   \n",
       "5145          784   38       1  138515.02              1          1   \n",
       "2149          836   57       4  101247.06              1          1   \n",
       "\n",
       "      IsActiveMember  EstimatedSalary  Geography_Germany  Geography_Spain  \\\n",
       "9492               0        120852.85                  1                0   \n",
       "9640               0        191520.50                  0                0   \n",
       "2585               1        100240.20                  0                0   \n",
       "5145               1        171768.76                  1                0   \n",
       "2149               0         37141.62                  0                1   \n",
       "\n",
       "      Gender_Male  \n",
       "9492            0  \n",
       "9640            0  \n",
       "2585            1  \n",
       "5145            1  \n",
       "2149            1  "
      ]
     },
     "metadata": {},
     "output_type": "display_data"
    },
    {
     "name": "stdout",
     "output_type": "stream",
     "text": [
      "target_remain\n"
     ]
    },
    {
     "data": {
      "text/plain": [
       "3014    0\n",
       "6200    0\n",
       "9900    0\n",
       "2952    0\n",
       "8126    1\n",
       "Name: Exited, dtype: int64"
      ]
     },
     "metadata": {},
     "output_type": "display_data"
    },
    {
     "name": "stdout",
     "output_type": "stream",
     "text": [
      "Доля remain_ohe от ohe - 80 %\n",
      "\n",
      "features_train_ordinal\n"
     ]
    },
    {
     "data": {
      "text/html": [
       "<div>\n",
       "<style scoped>\n",
       "    .dataframe tbody tr th:only-of-type {\n",
       "        vertical-align: middle;\n",
       "    }\n",
       "\n",
       "    .dataframe tbody tr th {\n",
       "        vertical-align: top;\n",
       "    }\n",
       "\n",
       "    .dataframe thead th {\n",
       "        text-align: right;\n",
       "    }\n",
       "</style>\n",
       "<table border=\"1\" class=\"dataframe\">\n",
       "  <thead>\n",
       "    <tr style=\"text-align: right;\">\n",
       "      <th></th>\n",
       "      <th>CreditScore</th>\n",
       "      <th>Age</th>\n",
       "      <th>Tenure</th>\n",
       "      <th>Balance</th>\n",
       "      <th>NumOfProducts</th>\n",
       "      <th>HasCrCard</th>\n",
       "      <th>IsActiveMember</th>\n",
       "      <th>EstimatedSalary</th>\n",
       "      <th>Geography</th>\n",
       "      <th>Gender</th>\n",
       "    </tr>\n",
       "  </thead>\n",
       "  <tbody>\n",
       "    <tr>\n",
       "      <th>4728</th>\n",
       "      <td>501</td>\n",
       "      <td>40</td>\n",
       "      <td>5</td>\n",
       "      <td>114655.58</td>\n",
       "      <td>1</td>\n",
       "      <td>0</td>\n",
       "      <td>0</td>\n",
       "      <td>126535.92</td>\n",
       "      <td>1.0</td>\n",
       "      <td>1.0</td>\n",
       "    </tr>\n",
       "    <tr>\n",
       "      <th>8319</th>\n",
       "      <td>650</td>\n",
       "      <td>50</td>\n",
       "      <td>7</td>\n",
       "      <td>129667.77</td>\n",
       "      <td>1</td>\n",
       "      <td>0</td>\n",
       "      <td>0</td>\n",
       "      <td>42028.16</td>\n",
       "      <td>2.0</td>\n",
       "      <td>0.0</td>\n",
       "    </tr>\n",
       "    <tr>\n",
       "      <th>7250</th>\n",
       "      <td>604</td>\n",
       "      <td>28</td>\n",
       "      <td>6</td>\n",
       "      <td>0.00</td>\n",
       "      <td>2</td>\n",
       "      <td>1</td>\n",
       "      <td>1</td>\n",
       "      <td>69056.26</td>\n",
       "      <td>2.0</td>\n",
       "      <td>0.0</td>\n",
       "    </tr>\n",
       "    <tr>\n",
       "      <th>6118</th>\n",
       "      <td>632</td>\n",
       "      <td>49</td>\n",
       "      <td>5</td>\n",
       "      <td>167962.70</td>\n",
       "      <td>1</td>\n",
       "      <td>0</td>\n",
       "      <td>0</td>\n",
       "      <td>140201.21</td>\n",
       "      <td>0.0</td>\n",
       "      <td>0.0</td>\n",
       "    </tr>\n",
       "    <tr>\n",
       "      <th>1488</th>\n",
       "      <td>596</td>\n",
       "      <td>30</td>\n",
       "      <td>6</td>\n",
       "      <td>121345.88</td>\n",
       "      <td>4</td>\n",
       "      <td>1</td>\n",
       "      <td>0</td>\n",
       "      <td>41921.75</td>\n",
       "      <td>2.0</td>\n",
       "      <td>1.0</td>\n",
       "    </tr>\n",
       "  </tbody>\n",
       "</table>\n",
       "</div>"
      ],
      "text/plain": [
       "      CreditScore  Age  Tenure    Balance  NumOfProducts  HasCrCard  \\\n",
       "4728          501   40       5  114655.58              1          0   \n",
       "8319          650   50       7  129667.77              1          0   \n",
       "7250          604   28       6       0.00              2          1   \n",
       "6118          632   49       5  167962.70              1          0   \n",
       "1488          596   30       6  121345.88              4          1   \n",
       "\n",
       "      IsActiveMember  EstimatedSalary  Geography  Gender  \n",
       "4728               0        126535.92        1.0     1.0  \n",
       "8319               0         42028.16        2.0     0.0  \n",
       "7250               1         69056.26        2.0     0.0  \n",
       "6118               0        140201.21        0.0     0.0  \n",
       "1488               0         41921.75        2.0     1.0  "
      ]
     },
     "metadata": {},
     "output_type": "display_data"
    },
    {
     "name": "stdout",
     "output_type": "stream",
     "text": [
      "target_train\n"
     ]
    },
    {
     "data": {
      "text/plain": [
       "9234    1\n",
       "2462    1\n",
       "9276    1\n",
       "8235    0\n",
       "1848    0\n",
       "Name: Exited, dtype: int64"
      ]
     },
     "metadata": {},
     "output_type": "display_data"
    },
    {
     "name": "stdout",
     "output_type": "stream",
     "text": [
      "Доля train_ordinal от ordinal - 60 %\n",
      "\n",
      "features_test_ordinal\n"
     ]
    },
    {
     "data": {
      "text/html": [
       "<div>\n",
       "<style scoped>\n",
       "    .dataframe tbody tr th:only-of-type {\n",
       "        vertical-align: middle;\n",
       "    }\n",
       "\n",
       "    .dataframe tbody tr th {\n",
       "        vertical-align: top;\n",
       "    }\n",
       "\n",
       "    .dataframe thead th {\n",
       "        text-align: right;\n",
       "    }\n",
       "</style>\n",
       "<table border=\"1\" class=\"dataframe\">\n",
       "  <thead>\n",
       "    <tr style=\"text-align: right;\">\n",
       "      <th></th>\n",
       "      <th>CreditScore</th>\n",
       "      <th>Age</th>\n",
       "      <th>Tenure</th>\n",
       "      <th>Balance</th>\n",
       "      <th>NumOfProducts</th>\n",
       "      <th>HasCrCard</th>\n",
       "      <th>IsActiveMember</th>\n",
       "      <th>EstimatedSalary</th>\n",
       "      <th>Geography</th>\n",
       "      <th>Gender</th>\n",
       "    </tr>\n",
       "  </thead>\n",
       "  <tbody>\n",
       "    <tr>\n",
       "      <th>1238</th>\n",
       "      <td>746</td>\n",
       "      <td>24</td>\n",
       "      <td>3</td>\n",
       "      <td>137492.35</td>\n",
       "      <td>2</td>\n",
       "      <td>0</td>\n",
       "      <td>1</td>\n",
       "      <td>170142.09</td>\n",
       "      <td>0.0</td>\n",
       "      <td>1.0</td>\n",
       "    </tr>\n",
       "    <tr>\n",
       "      <th>2219</th>\n",
       "      <td>631</td>\n",
       "      <td>34</td>\n",
       "      <td>6</td>\n",
       "      <td>125227.82</td>\n",
       "      <td>2</td>\n",
       "      <td>0</td>\n",
       "      <td>1</td>\n",
       "      <td>128247.03</td>\n",
       "      <td>1.0</td>\n",
       "      <td>0.0</td>\n",
       "    </tr>\n",
       "    <tr>\n",
       "      <th>5059</th>\n",
       "      <td>707</td>\n",
       "      <td>29</td>\n",
       "      <td>4</td>\n",
       "      <td>0.00</td>\n",
       "      <td>2</td>\n",
       "      <td>1</td>\n",
       "      <td>0</td>\n",
       "      <td>139953.94</td>\n",
       "      <td>0.0</td>\n",
       "      <td>1.0</td>\n",
       "    </tr>\n",
       "    <tr>\n",
       "      <th>6193</th>\n",
       "      <td>689</td>\n",
       "      <td>28</td>\n",
       "      <td>2</td>\n",
       "      <td>64808.32</td>\n",
       "      <td>2</td>\n",
       "      <td>0</td>\n",
       "      <td>0</td>\n",
       "      <td>78591.15</td>\n",
       "      <td>1.0</td>\n",
       "      <td>0.0</td>\n",
       "    </tr>\n",
       "    <tr>\n",
       "      <th>3298</th>\n",
       "      <td>558</td>\n",
       "      <td>25</td>\n",
       "      <td>10</td>\n",
       "      <td>111363.10</td>\n",
       "      <td>2</td>\n",
       "      <td>1</td>\n",
       "      <td>0</td>\n",
       "      <td>197264.35</td>\n",
       "      <td>1.0</td>\n",
       "      <td>1.0</td>\n",
       "    </tr>\n",
       "  </tbody>\n",
       "</table>\n",
       "</div>"
      ],
      "text/plain": [
       "      CreditScore  Age  Tenure    Balance  NumOfProducts  HasCrCard  \\\n",
       "1238          746   24       3  137492.35              2          0   \n",
       "2219          631   34       6  125227.82              2          0   \n",
       "5059          707   29       4       0.00              2          1   \n",
       "6193          689   28       2   64808.32              2          0   \n",
       "3298          558   25      10  111363.10              2          1   \n",
       "\n",
       "      IsActiveMember  EstimatedSalary  Geography  Gender  \n",
       "1238               1        170142.09        0.0     1.0  \n",
       "2219               1        128247.03        1.0     0.0  \n",
       "5059               0        139953.94        0.0     1.0  \n",
       "6193               0         78591.15        1.0     0.0  \n",
       "3298               0        197264.35        1.0     1.0  "
      ]
     },
     "metadata": {},
     "output_type": "display_data"
    },
    {
     "name": "stdout",
     "output_type": "stream",
     "text": [
      "target_test\n"
     ]
    },
    {
     "data": {
      "text/plain": [
       "7742    0\n",
       "456     0\n",
       "9908    0\n",
       "5068    0\n",
       "6553    1\n",
       "Name: Exited, dtype: int64"
      ]
     },
     "metadata": {},
     "output_type": "display_data"
    },
    {
     "name": "stdout",
     "output_type": "stream",
     "text": [
      "Доля test_ordinal от ordinal - 20 %\n",
      "\n",
      "features_valid_ordinal\n"
     ]
    },
    {
     "data": {
      "text/html": [
       "<div>\n",
       "<style scoped>\n",
       "    .dataframe tbody tr th:only-of-type {\n",
       "        vertical-align: middle;\n",
       "    }\n",
       "\n",
       "    .dataframe tbody tr th {\n",
       "        vertical-align: top;\n",
       "    }\n",
       "\n",
       "    .dataframe thead th {\n",
       "        text-align: right;\n",
       "    }\n",
       "</style>\n",
       "<table border=\"1\" class=\"dataframe\">\n",
       "  <thead>\n",
       "    <tr style=\"text-align: right;\">\n",
       "      <th></th>\n",
       "      <th>CreditScore</th>\n",
       "      <th>Age</th>\n",
       "      <th>Tenure</th>\n",
       "      <th>Balance</th>\n",
       "      <th>NumOfProducts</th>\n",
       "      <th>HasCrCard</th>\n",
       "      <th>IsActiveMember</th>\n",
       "      <th>EstimatedSalary</th>\n",
       "      <th>Geography</th>\n",
       "      <th>Gender</th>\n",
       "    </tr>\n",
       "  </thead>\n",
       "  <tbody>\n",
       "    <tr>\n",
       "      <th>970</th>\n",
       "      <td>638</td>\n",
       "      <td>48</td>\n",
       "      <td>10</td>\n",
       "      <td>138333.03</td>\n",
       "      <td>1</td>\n",
       "      <td>1</td>\n",
       "      <td>1</td>\n",
       "      <td>47679.14</td>\n",
       "      <td>0.0</td>\n",
       "      <td>0.0</td>\n",
       "    </tr>\n",
       "    <tr>\n",
       "      <th>7854</th>\n",
       "      <td>746</td>\n",
       "      <td>49</td>\n",
       "      <td>7</td>\n",
       "      <td>0.00</td>\n",
       "      <td>2</td>\n",
       "      <td>0</td>\n",
       "      <td>1</td>\n",
       "      <td>10096.25</td>\n",
       "      <td>2.0</td>\n",
       "      <td>1.0</td>\n",
       "    </tr>\n",
       "    <tr>\n",
       "      <th>7348</th>\n",
       "      <td>448</td>\n",
       "      <td>25</td>\n",
       "      <td>2</td>\n",
       "      <td>0.00</td>\n",
       "      <td>2</td>\n",
       "      <td>0</td>\n",
       "      <td>0</td>\n",
       "      <td>95215.73</td>\n",
       "      <td>2.0</td>\n",
       "      <td>1.0</td>\n",
       "    </tr>\n",
       "    <tr>\n",
       "      <th>376</th>\n",
       "      <td>745</td>\n",
       "      <td>45</td>\n",
       "      <td>10</td>\n",
       "      <td>117231.63</td>\n",
       "      <td>3</td>\n",
       "      <td>1</td>\n",
       "      <td>1</td>\n",
       "      <td>122381.02</td>\n",
       "      <td>1.0</td>\n",
       "      <td>1.0</td>\n",
       "    </tr>\n",
       "    <tr>\n",
       "      <th>5216</th>\n",
       "      <td>637</td>\n",
       "      <td>43</td>\n",
       "      <td>3</td>\n",
       "      <td>172196.23</td>\n",
       "      <td>1</td>\n",
       "      <td>1</td>\n",
       "      <td>1</td>\n",
       "      <td>104769.96</td>\n",
       "      <td>2.0</td>\n",
       "      <td>1.0</td>\n",
       "    </tr>\n",
       "  </tbody>\n",
       "</table>\n",
       "</div>"
      ],
      "text/plain": [
       "      CreditScore  Age  Tenure    Balance  NumOfProducts  HasCrCard  \\\n",
       "970           638   48      10  138333.03              1          1   \n",
       "7854          746   49       7       0.00              2          0   \n",
       "7348          448   25       2       0.00              2          0   \n",
       "376           745   45      10  117231.63              3          1   \n",
       "5216          637   43       3  172196.23              1          1   \n",
       "\n",
       "      IsActiveMember  EstimatedSalary  Geography  Gender  \n",
       "970                1         47679.14        0.0     0.0  \n",
       "7854               1         10096.25        2.0     1.0  \n",
       "7348               0         95215.73        2.0     1.0  \n",
       "376                1        122381.02        1.0     1.0  \n",
       "5216               1        104769.96        2.0     1.0  "
      ]
     },
     "metadata": {},
     "output_type": "display_data"
    },
    {
     "name": "stdout",
     "output_type": "stream",
     "text": [
      "target_valid\n"
     ]
    },
    {
     "data": {
      "text/plain": [
       "6730    0\n",
       "3669    0\n",
       "5562    0\n",
       "9079    0\n",
       "9277    0\n",
       "Name: Exited, dtype: int64"
      ]
     },
     "metadata": {},
     "output_type": "display_data"
    },
    {
     "name": "stdout",
     "output_type": "stream",
     "text": [
      "Доля valid_ordinal от ordinal - 20 %\n",
      "\n",
      "features_remain_ordinal\n"
     ]
    },
    {
     "data": {
      "text/html": [
       "<div>\n",
       "<style scoped>\n",
       "    .dataframe tbody tr th:only-of-type {\n",
       "        vertical-align: middle;\n",
       "    }\n",
       "\n",
       "    .dataframe tbody tr th {\n",
       "        vertical-align: top;\n",
       "    }\n",
       "\n",
       "    .dataframe thead th {\n",
       "        text-align: right;\n",
       "    }\n",
       "</style>\n",
       "<table border=\"1\" class=\"dataframe\">\n",
       "  <thead>\n",
       "    <tr style=\"text-align: right;\">\n",
       "      <th></th>\n",
       "      <th>CreditScore</th>\n",
       "      <th>Age</th>\n",
       "      <th>Tenure</th>\n",
       "      <th>Balance</th>\n",
       "      <th>NumOfProducts</th>\n",
       "      <th>HasCrCard</th>\n",
       "      <th>IsActiveMember</th>\n",
       "      <th>EstimatedSalary</th>\n",
       "      <th>Geography</th>\n",
       "      <th>Gender</th>\n",
       "    </tr>\n",
       "  </thead>\n",
       "  <tbody>\n",
       "    <tr>\n",
       "      <th>5242</th>\n",
       "      <td>655</td>\n",
       "      <td>40</td>\n",
       "      <td>0</td>\n",
       "      <td>81954.6</td>\n",
       "      <td>1</td>\n",
       "      <td>1</td>\n",
       "      <td>1</td>\n",
       "      <td>198798.44</td>\n",
       "      <td>1.0</td>\n",
       "      <td>0.0</td>\n",
       "    </tr>\n",
       "    <tr>\n",
       "      <th>5244</th>\n",
       "      <td>672</td>\n",
       "      <td>43</td>\n",
       "      <td>5</td>\n",
       "      <td>0.0</td>\n",
       "      <td>2</td>\n",
       "      <td>1</td>\n",
       "      <td>1</td>\n",
       "      <td>64515.50</td>\n",
       "      <td>2.0</td>\n",
       "      <td>1.0</td>\n",
       "    </tr>\n",
       "    <tr>\n",
       "      <th>8398</th>\n",
       "      <td>767</td>\n",
       "      <td>45</td>\n",
       "      <td>7</td>\n",
       "      <td>132746.2</td>\n",
       "      <td>2</td>\n",
       "      <td>1</td>\n",
       "      <td>0</td>\n",
       "      <td>26628.88</td>\n",
       "      <td>1.0</td>\n",
       "      <td>0.0</td>\n",
       "    </tr>\n",
       "    <tr>\n",
       "      <th>4053</th>\n",
       "      <td>550</td>\n",
       "      <td>51</td>\n",
       "      <td>5</td>\n",
       "      <td>0.0</td>\n",
       "      <td>2</td>\n",
       "      <td>1</td>\n",
       "      <td>0</td>\n",
       "      <td>153917.41</td>\n",
       "      <td>2.0</td>\n",
       "      <td>1.0</td>\n",
       "    </tr>\n",
       "    <tr>\n",
       "      <th>7502</th>\n",
       "      <td>721</td>\n",
       "      <td>32</td>\n",
       "      <td>10</td>\n",
       "      <td>0.0</td>\n",
       "      <td>1</td>\n",
       "      <td>1</td>\n",
       "      <td>0</td>\n",
       "      <td>136119.96</td>\n",
       "      <td>2.0</td>\n",
       "      <td>0.0</td>\n",
       "    </tr>\n",
       "  </tbody>\n",
       "</table>\n",
       "</div>"
      ],
      "text/plain": [
       "      CreditScore  Age  Tenure   Balance  NumOfProducts  HasCrCard  \\\n",
       "5242          655   40       0   81954.6              1          1   \n",
       "5244          672   43       5       0.0              2          1   \n",
       "8398          767   45       7  132746.2              2          1   \n",
       "4053          550   51       5       0.0              2          1   \n",
       "7502          721   32      10       0.0              1          1   \n",
       "\n",
       "      IsActiveMember  EstimatedSalary  Geography  Gender  \n",
       "5242               1        198798.44        1.0     0.0  \n",
       "5244               1         64515.50        2.0     1.0  \n",
       "8398               0         26628.88        1.0     0.0  \n",
       "4053               0        153917.41        2.0     1.0  \n",
       "7502               0        136119.96        2.0     0.0  "
      ]
     },
     "metadata": {},
     "output_type": "display_data"
    },
    {
     "name": "stdout",
     "output_type": "stream",
     "text": [
      "target_remain\n"
     ]
    },
    {
     "data": {
      "text/plain": [
       "1978    0\n",
       "8396    1\n",
       "4507    0\n",
       "3125    0\n",
       "3733    0\n",
       "Name: Exited, dtype: int64"
      ]
     },
     "metadata": {},
     "output_type": "display_data"
    },
    {
     "name": "stdout",
     "output_type": "stream",
     "text": [
      "Доля remain_ordinal от ordinal - 80 %\n",
      "\n"
     ]
    }
   ],
   "source": [
    "coding_types = ['ohe', 'ordinal']\n",
    "selection_types = ['train', 'test', 'valid','remain']\n",
    "\n",
    "for ct in coding_types:\n",
    "    for st in selection_types: \n",
    "        globals()['features_%s' % st + '_' + ct] = globals()[st + '_' + ct].drop('Exited', axis=1)\n",
    "        globals()['target_%s' % st] = globals()[st + '_' + ct]['Exited']\n",
    "      \n",
    "        # выведем переменные с признаками:\n",
    "        print(f'features_{st}_{ct}')\n",
    "        display((globals()['features_%s' % st + '_' + ct]).sample(5))\n",
    "\n",
    "        # и с целевыми признакми:\n",
    "        print(f'target_{st}')\n",
    "        display((globals()['target_%s' % st]).sample(5))\n",
    "\n",
    "        # выведем доли выборок от исходных данных:\n",
    "        print(f'Доля {st}_{ct} от {ct} -', int((len(globals()[st+ '_' + ct]) / len(globals()[ct]))*100), '%')\n",
    "        print()"
   ]
  },
  {
   "cell_type": "markdown",
   "metadata": {},
   "source": [
    "Выборка `df_remain` будет служить тестовой на тот случай, если сможем обойтись без валидационной."
   ]
  },
  {
   "cell_type": "markdown",
   "metadata": {},
   "source": [
    "### Масштабирование признаков"
   ]
  },
  {
   "cell_type": "code",
   "execution_count": 12,
   "metadata": {},
   "outputs": [
    {
     "data": {
      "text/plain": [
       "['CreditScore',\n",
       " 'Age',\n",
       " 'Tenure',\n",
       " 'Balance',\n",
       " 'NumOfProducts',\n",
       " 'HasCrCard',\n",
       " 'IsActiveMember',\n",
       " 'EstimatedSalary']"
      ]
     },
     "execution_count": 12,
     "metadata": {},
     "output_type": "execute_result"
    }
   ],
   "source": [
    "num_columns.pop(-1)\n",
    "num_columns"
   ]
  },
  {
   "cell_type": "code",
   "execution_count": 13,
   "metadata": {},
   "outputs": [
    {
     "name": "stdout",
     "output_type": "stream",
     "text": [
      "features_train_ohe\n"
     ]
    },
    {
     "data": {
      "text/html": [
       "<div>\n",
       "<style scoped>\n",
       "    .dataframe tbody tr th:only-of-type {\n",
       "        vertical-align: middle;\n",
       "    }\n",
       "\n",
       "    .dataframe tbody tr th {\n",
       "        vertical-align: top;\n",
       "    }\n",
       "\n",
       "    .dataframe thead th {\n",
       "        text-align: right;\n",
       "    }\n",
       "</style>\n",
       "<table border=\"1\" class=\"dataframe\">\n",
       "  <thead>\n",
       "    <tr style=\"text-align: right;\">\n",
       "      <th></th>\n",
       "      <th>CreditScore</th>\n",
       "      <th>Age</th>\n",
       "      <th>Tenure</th>\n",
       "      <th>Balance</th>\n",
       "      <th>NumOfProducts</th>\n",
       "      <th>HasCrCard</th>\n",
       "      <th>IsActiveMember</th>\n",
       "      <th>EstimatedSalary</th>\n",
       "      <th>Geography_Germany</th>\n",
       "      <th>Geography_Spain</th>\n",
       "      <th>Gender_Male</th>\n",
       "    </tr>\n",
       "  </thead>\n",
       "  <tbody>\n",
       "    <tr>\n",
       "      <th>5536</th>\n",
       "      <td>-0.143332</td>\n",
       "      <td>0.577533</td>\n",
       "      <td>-0.700687</td>\n",
       "      <td>-1.220573</td>\n",
       "      <td>0.797767</td>\n",
       "      <td>0.652576</td>\n",
       "      <td>0.967527</td>\n",
       "      <td>1.029613</td>\n",
       "      <td>0</td>\n",
       "      <td>1</td>\n",
       "      <td>1</td>\n",
       "    </tr>\n",
       "    <tr>\n",
       "      <th>8530</th>\n",
       "      <td>1.632702</td>\n",
       "      <td>-0.564119</td>\n",
       "      <td>-1.046905</td>\n",
       "      <td>0.435807</td>\n",
       "      <td>-0.916018</td>\n",
       "      <td>0.652576</td>\n",
       "      <td>-1.033563</td>\n",
       "      <td>0.237986</td>\n",
       "      <td>0</td>\n",
       "      <td>0</td>\n",
       "      <td>0</td>\n",
       "    </tr>\n",
       "    <tr>\n",
       "      <th>1762</th>\n",
       "      <td>1.116413</td>\n",
       "      <td>-0.468981</td>\n",
       "      <td>-1.393123</td>\n",
       "      <td>1.245822</td>\n",
       "      <td>-0.916018</td>\n",
       "      <td>0.652576</td>\n",
       "      <td>0.967527</td>\n",
       "      <td>-0.686104</td>\n",
       "      <td>0</td>\n",
       "      <td>0</td>\n",
       "      <td>0</td>\n",
       "    </tr>\n",
       "  </tbody>\n",
       "</table>\n",
       "</div>"
      ],
      "text/plain": [
       "      CreditScore       Age    Tenure   Balance  NumOfProducts  HasCrCard  \\\n",
       "5536    -0.143332  0.577533 -0.700687 -1.220573       0.797767   0.652576   \n",
       "8530     1.632702 -0.564119 -1.046905  0.435807      -0.916018   0.652576   \n",
       "1762     1.116413 -0.468981 -1.393123  1.245822      -0.916018   0.652576   \n",
       "\n",
       "      IsActiveMember  EstimatedSalary  Geography_Germany  Geography_Spain  \\\n",
       "5536        0.967527         1.029613                  0                1   \n",
       "8530       -1.033563         0.237986                  0                0   \n",
       "1762        0.967527        -0.686104                  0                0   \n",
       "\n",
       "      Gender_Male  \n",
       "5536            1  \n",
       "8530            0  \n",
       "1762            0  "
      ]
     },
     "metadata": {},
     "output_type": "display_data"
    },
    {
     "name": "stdout",
     "output_type": "stream",
     "text": [
      "features_test_ohe\n"
     ]
    },
    {
     "data": {
      "text/html": [
       "<div>\n",
       "<style scoped>\n",
       "    .dataframe tbody tr th:only-of-type {\n",
       "        vertical-align: middle;\n",
       "    }\n",
       "\n",
       "    .dataframe tbody tr th {\n",
       "        vertical-align: top;\n",
       "    }\n",
       "\n",
       "    .dataframe thead th {\n",
       "        text-align: right;\n",
       "    }\n",
       "</style>\n",
       "<table border=\"1\" class=\"dataframe\">\n",
       "  <thead>\n",
       "    <tr style=\"text-align: right;\">\n",
       "      <th></th>\n",
       "      <th>CreditScore</th>\n",
       "      <th>Age</th>\n",
       "      <th>Tenure</th>\n",
       "      <th>Balance</th>\n",
       "      <th>NumOfProducts</th>\n",
       "      <th>HasCrCard</th>\n",
       "      <th>IsActiveMember</th>\n",
       "      <th>EstimatedSalary</th>\n",
       "      <th>Geography_Germany</th>\n",
       "      <th>Geography_Spain</th>\n",
       "      <th>Gender_Male</th>\n",
       "    </tr>\n",
       "  </thead>\n",
       "  <tbody>\n",
       "    <tr>\n",
       "      <th>7837</th>\n",
       "      <td>2.066384</td>\n",
       "      <td>0.862946</td>\n",
       "      <td>-1.046905</td>\n",
       "      <td>-1.220573</td>\n",
       "      <td>-0.916018</td>\n",
       "      <td>0.652576</td>\n",
       "      <td>-1.033563</td>\n",
       "      <td>1.202714</td>\n",
       "      <td>0</td>\n",
       "      <td>1</td>\n",
       "      <td>1</td>\n",
       "    </tr>\n",
       "    <tr>\n",
       "      <th>9505</th>\n",
       "      <td>0.011555</td>\n",
       "      <td>-1.039807</td>\n",
       "      <td>1.722837</td>\n",
       "      <td>0.052520</td>\n",
       "      <td>-0.916018</td>\n",
       "      <td>0.652576</td>\n",
       "      <td>0.967527</td>\n",
       "      <td>-0.443548</td>\n",
       "      <td>0</td>\n",
       "      <td>0</td>\n",
       "      <td>1</td>\n",
       "    </tr>\n",
       "    <tr>\n",
       "      <th>6208</th>\n",
       "      <td>0.662079</td>\n",
       "      <td>-0.468981</td>\n",
       "      <td>1.722837</td>\n",
       "      <td>-1.220573</td>\n",
       "      <td>0.797767</td>\n",
       "      <td>0.652576</td>\n",
       "      <td>0.967527</td>\n",
       "      <td>-0.347161</td>\n",
       "      <td>0</td>\n",
       "      <td>0</td>\n",
       "      <td>1</td>\n",
       "    </tr>\n",
       "  </tbody>\n",
       "</table>\n",
       "</div>"
      ],
      "text/plain": [
       "      CreditScore       Age    Tenure   Balance  NumOfProducts  HasCrCard  \\\n",
       "7837     2.066384  0.862946 -1.046905 -1.220573      -0.916018   0.652576   \n",
       "9505     0.011555 -1.039807  1.722837  0.052520      -0.916018   0.652576   \n",
       "6208     0.662079 -0.468981  1.722837 -1.220573       0.797767   0.652576   \n",
       "\n",
       "      IsActiveMember  EstimatedSalary  Geography_Germany  Geography_Spain  \\\n",
       "7837       -1.033563         1.202714                  0                1   \n",
       "9505        0.967527        -0.443548                  0                0   \n",
       "6208        0.967527        -0.347161                  0                0   \n",
       "\n",
       "      Gender_Male  \n",
       "7837            1  \n",
       "9505            1  \n",
       "6208            1  "
      ]
     },
     "metadata": {},
     "output_type": "display_data"
    },
    {
     "name": "stdout",
     "output_type": "stream",
     "text": [
      "features_valid_ohe\n"
     ]
    },
    {
     "data": {
      "text/html": [
       "<div>\n",
       "<style scoped>\n",
       "    .dataframe tbody tr th:only-of-type {\n",
       "        vertical-align: middle;\n",
       "    }\n",
       "\n",
       "    .dataframe tbody tr th {\n",
       "        vertical-align: top;\n",
       "    }\n",
       "\n",
       "    .dataframe thead th {\n",
       "        text-align: right;\n",
       "    }\n",
       "</style>\n",
       "<table border=\"1\" class=\"dataframe\">\n",
       "  <thead>\n",
       "    <tr style=\"text-align: right;\">\n",
       "      <th></th>\n",
       "      <th>CreditScore</th>\n",
       "      <th>Age</th>\n",
       "      <th>Tenure</th>\n",
       "      <th>Balance</th>\n",
       "      <th>NumOfProducts</th>\n",
       "      <th>HasCrCard</th>\n",
       "      <th>IsActiveMember</th>\n",
       "      <th>EstimatedSalary</th>\n",
       "      <th>Geography_Germany</th>\n",
       "      <th>Geography_Spain</th>\n",
       "      <th>Gender_Male</th>\n",
       "    </tr>\n",
       "  </thead>\n",
       "  <tbody>\n",
       "    <tr>\n",
       "      <th>9375</th>\n",
       "      <td>0.094161</td>\n",
       "      <td>0.862946</td>\n",
       "      <td>-0.354469</td>\n",
       "      <td>0.757050</td>\n",
       "      <td>0.797767</td>\n",
       "      <td>0.652576</td>\n",
       "      <td>-1.033563</td>\n",
       "      <td>-0.308325</td>\n",
       "      <td>1</td>\n",
       "      <td>0</td>\n",
       "      <td>1</td>\n",
       "    </tr>\n",
       "    <tr>\n",
       "      <th>9536</th>\n",
       "      <td>-1.031349</td>\n",
       "      <td>0.292120</td>\n",
       "      <td>1.722837</td>\n",
       "      <td>0.838881</td>\n",
       "      <td>-0.916018</td>\n",
       "      <td>0.652576</td>\n",
       "      <td>-1.033563</td>\n",
       "      <td>-0.645029</td>\n",
       "      <td>1</td>\n",
       "      <td>0</td>\n",
       "      <td>0</td>\n",
       "    </tr>\n",
       "    <tr>\n",
       "      <th>6344</th>\n",
       "      <td>2.066384</td>\n",
       "      <td>0.196983</td>\n",
       "      <td>-0.700687</td>\n",
       "      <td>-1.220573</td>\n",
       "      <td>0.797767</td>\n",
       "      <td>0.652576</td>\n",
       "      <td>-1.033563</td>\n",
       "      <td>0.498373</td>\n",
       "      <td>0</td>\n",
       "      <td>0</td>\n",
       "      <td>1</td>\n",
       "    </tr>\n",
       "  </tbody>\n",
       "</table>\n",
       "</div>"
      ],
      "text/plain": [
       "      CreditScore       Age    Tenure   Balance  NumOfProducts  HasCrCard  \\\n",
       "9375     0.094161  0.862946 -0.354469  0.757050       0.797767   0.652576   \n",
       "9536    -1.031349  0.292120  1.722837  0.838881      -0.916018   0.652576   \n",
       "6344     2.066384  0.196983 -0.700687 -1.220573       0.797767   0.652576   \n",
       "\n",
       "      IsActiveMember  EstimatedSalary  Geography_Germany  Geography_Spain  \\\n",
       "9375       -1.033563        -0.308325                  1                0   \n",
       "9536       -1.033563        -0.645029                  1                0   \n",
       "6344       -1.033563         0.498373                  0                0   \n",
       "\n",
       "      Gender_Male  \n",
       "9375            1  \n",
       "9536            0  \n",
       "6344            1  "
      ]
     },
     "metadata": {},
     "output_type": "display_data"
    },
    {
     "name": "stdout",
     "output_type": "stream",
     "text": [
      "features_remain_ohe\n"
     ]
    },
    {
     "data": {
      "text/html": [
       "<div>\n",
       "<style scoped>\n",
       "    .dataframe tbody tr th:only-of-type {\n",
       "        vertical-align: middle;\n",
       "    }\n",
       "\n",
       "    .dataframe tbody tr th {\n",
       "        vertical-align: top;\n",
       "    }\n",
       "\n",
       "    .dataframe thead th {\n",
       "        text-align: right;\n",
       "    }\n",
       "</style>\n",
       "<table border=\"1\" class=\"dataframe\">\n",
       "  <thead>\n",
       "    <tr style=\"text-align: right;\">\n",
       "      <th></th>\n",
       "      <th>CreditScore</th>\n",
       "      <th>Age</th>\n",
       "      <th>Tenure</th>\n",
       "      <th>Balance</th>\n",
       "      <th>NumOfProducts</th>\n",
       "      <th>HasCrCard</th>\n",
       "      <th>IsActiveMember</th>\n",
       "      <th>EstimatedSalary</th>\n",
       "      <th>Geography_Germany</th>\n",
       "      <th>Geography_Spain</th>\n",
       "      <th>Gender_Male</th>\n",
       "    </tr>\n",
       "  </thead>\n",
       "  <tbody>\n",
       "    <tr>\n",
       "      <th>3376</th>\n",
       "      <td>-0.060726</td>\n",
       "      <td>0.101845</td>\n",
       "      <td>-0.354469</td>\n",
       "      <td>0.015831</td>\n",
       "      <td>0.797767</td>\n",
       "      <td>0.652576</td>\n",
       "      <td>0.967527</td>\n",
       "      <td>0.270868</td>\n",
       "      <td>1</td>\n",
       "      <td>0</td>\n",
       "      <td>0</td>\n",
       "    </tr>\n",
       "    <tr>\n",
       "      <th>1315</th>\n",
       "      <td>-0.442780</td>\n",
       "      <td>-1.134945</td>\n",
       "      <td>-0.008252</td>\n",
       "      <td>0.394130</td>\n",
       "      <td>-0.916018</td>\n",
       "      <td>-1.532388</td>\n",
       "      <td>-1.033563</td>\n",
       "      <td>-1.608781</td>\n",
       "      <td>0</td>\n",
       "      <td>1</td>\n",
       "      <td>0</td>\n",
       "    </tr>\n",
       "    <tr>\n",
       "      <th>2552</th>\n",
       "      <td>-0.525386</td>\n",
       "      <td>0.672671</td>\n",
       "      <td>0.684184</td>\n",
       "      <td>0.087400</td>\n",
       "      <td>0.797767</td>\n",
       "      <td>0.652576</td>\n",
       "      <td>-1.033563</td>\n",
       "      <td>-0.294195</td>\n",
       "      <td>0</td>\n",
       "      <td>1</td>\n",
       "      <td>0</td>\n",
       "    </tr>\n",
       "  </tbody>\n",
       "</table>\n",
       "</div>"
      ],
      "text/plain": [
       "      CreditScore       Age    Tenure   Balance  NumOfProducts  HasCrCard  \\\n",
       "3376    -0.060726  0.101845 -0.354469  0.015831       0.797767   0.652576   \n",
       "1315    -0.442780 -1.134945 -0.008252  0.394130      -0.916018  -1.532388   \n",
       "2552    -0.525386  0.672671  0.684184  0.087400       0.797767   0.652576   \n",
       "\n",
       "      IsActiveMember  EstimatedSalary  Geography_Germany  Geography_Spain  \\\n",
       "3376        0.967527         0.270868                  1                0   \n",
       "1315       -1.033563        -1.608781                  0                1   \n",
       "2552       -1.033563        -0.294195                  0                1   \n",
       "\n",
       "      Gender_Male  \n",
       "3376            0  \n",
       "1315            0  \n",
       "2552            0  "
      ]
     },
     "metadata": {},
     "output_type": "display_data"
    },
    {
     "name": "stdout",
     "output_type": "stream",
     "text": [
      "features_train_ordinal\n"
     ]
    },
    {
     "data": {
      "text/html": [
       "<div>\n",
       "<style scoped>\n",
       "    .dataframe tbody tr th:only-of-type {\n",
       "        vertical-align: middle;\n",
       "    }\n",
       "\n",
       "    .dataframe tbody tr th {\n",
       "        vertical-align: top;\n",
       "    }\n",
       "\n",
       "    .dataframe thead th {\n",
       "        text-align: right;\n",
       "    }\n",
       "</style>\n",
       "<table border=\"1\" class=\"dataframe\">\n",
       "  <thead>\n",
       "    <tr style=\"text-align: right;\">\n",
       "      <th></th>\n",
       "      <th>CreditScore</th>\n",
       "      <th>Age</th>\n",
       "      <th>Tenure</th>\n",
       "      <th>Balance</th>\n",
       "      <th>NumOfProducts</th>\n",
       "      <th>HasCrCard</th>\n",
       "      <th>IsActiveMember</th>\n",
       "      <th>EstimatedSalary</th>\n",
       "      <th>Geography</th>\n",
       "      <th>Gender</th>\n",
       "    </tr>\n",
       "  </thead>\n",
       "  <tbody>\n",
       "    <tr>\n",
       "      <th>5536</th>\n",
       "      <td>-0.143332</td>\n",
       "      <td>0.577533</td>\n",
       "      <td>-0.700687</td>\n",
       "      <td>-1.220573</td>\n",
       "      <td>0.797767</td>\n",
       "      <td>0.652576</td>\n",
       "      <td>0.967527</td>\n",
       "      <td>1.029613</td>\n",
       "      <td>2.0</td>\n",
       "      <td>1.0</td>\n",
       "    </tr>\n",
       "    <tr>\n",
       "      <th>8530</th>\n",
       "      <td>1.632702</td>\n",
       "      <td>-0.564119</td>\n",
       "      <td>-1.046905</td>\n",
       "      <td>0.435807</td>\n",
       "      <td>-0.916018</td>\n",
       "      <td>0.652576</td>\n",
       "      <td>-1.033563</td>\n",
       "      <td>0.237986</td>\n",
       "      <td>0.0</td>\n",
       "      <td>0.0</td>\n",
       "    </tr>\n",
       "    <tr>\n",
       "      <th>1762</th>\n",
       "      <td>1.116413</td>\n",
       "      <td>-0.468981</td>\n",
       "      <td>-1.393123</td>\n",
       "      <td>1.245822</td>\n",
       "      <td>-0.916018</td>\n",
       "      <td>0.652576</td>\n",
       "      <td>0.967527</td>\n",
       "      <td>-0.686104</td>\n",
       "      <td>0.0</td>\n",
       "      <td>0.0</td>\n",
       "    </tr>\n",
       "  </tbody>\n",
       "</table>\n",
       "</div>"
      ],
      "text/plain": [
       "      CreditScore       Age    Tenure   Balance  NumOfProducts  HasCrCard  \\\n",
       "5536    -0.143332  0.577533 -0.700687 -1.220573       0.797767   0.652576   \n",
       "8530     1.632702 -0.564119 -1.046905  0.435807      -0.916018   0.652576   \n",
       "1762     1.116413 -0.468981 -1.393123  1.245822      -0.916018   0.652576   \n",
       "\n",
       "      IsActiveMember  EstimatedSalary  Geography  Gender  \n",
       "5536        0.967527         1.029613        2.0     1.0  \n",
       "8530       -1.033563         0.237986        0.0     0.0  \n",
       "1762        0.967527        -0.686104        0.0     0.0  "
      ]
     },
     "metadata": {},
     "output_type": "display_data"
    },
    {
     "name": "stdout",
     "output_type": "stream",
     "text": [
      "features_test_ordinal\n"
     ]
    },
    {
     "data": {
      "text/html": [
       "<div>\n",
       "<style scoped>\n",
       "    .dataframe tbody tr th:only-of-type {\n",
       "        vertical-align: middle;\n",
       "    }\n",
       "\n",
       "    .dataframe tbody tr th {\n",
       "        vertical-align: top;\n",
       "    }\n",
       "\n",
       "    .dataframe thead th {\n",
       "        text-align: right;\n",
       "    }\n",
       "</style>\n",
       "<table border=\"1\" class=\"dataframe\">\n",
       "  <thead>\n",
       "    <tr style=\"text-align: right;\">\n",
       "      <th></th>\n",
       "      <th>CreditScore</th>\n",
       "      <th>Age</th>\n",
       "      <th>Tenure</th>\n",
       "      <th>Balance</th>\n",
       "      <th>NumOfProducts</th>\n",
       "      <th>HasCrCard</th>\n",
       "      <th>IsActiveMember</th>\n",
       "      <th>EstimatedSalary</th>\n",
       "      <th>Geography</th>\n",
       "      <th>Gender</th>\n",
       "    </tr>\n",
       "  </thead>\n",
       "  <tbody>\n",
       "    <tr>\n",
       "      <th>7837</th>\n",
       "      <td>2.066384</td>\n",
       "      <td>0.862946</td>\n",
       "      <td>-1.046905</td>\n",
       "      <td>-1.220573</td>\n",
       "      <td>-0.916018</td>\n",
       "      <td>0.652576</td>\n",
       "      <td>-1.033563</td>\n",
       "      <td>1.202714</td>\n",
       "      <td>2.0</td>\n",
       "      <td>1.0</td>\n",
       "    </tr>\n",
       "    <tr>\n",
       "      <th>9505</th>\n",
       "      <td>0.011555</td>\n",
       "      <td>-1.039807</td>\n",
       "      <td>1.722837</td>\n",
       "      <td>0.052520</td>\n",
       "      <td>-0.916018</td>\n",
       "      <td>0.652576</td>\n",
       "      <td>0.967527</td>\n",
       "      <td>-0.443548</td>\n",
       "      <td>0.0</td>\n",
       "      <td>1.0</td>\n",
       "    </tr>\n",
       "    <tr>\n",
       "      <th>6208</th>\n",
       "      <td>0.662079</td>\n",
       "      <td>-0.468981</td>\n",
       "      <td>1.722837</td>\n",
       "      <td>-1.220573</td>\n",
       "      <td>0.797767</td>\n",
       "      <td>0.652576</td>\n",
       "      <td>0.967527</td>\n",
       "      <td>-0.347161</td>\n",
       "      <td>0.0</td>\n",
       "      <td>1.0</td>\n",
       "    </tr>\n",
       "  </tbody>\n",
       "</table>\n",
       "</div>"
      ],
      "text/plain": [
       "      CreditScore       Age    Tenure   Balance  NumOfProducts  HasCrCard  \\\n",
       "7837     2.066384  0.862946 -1.046905 -1.220573      -0.916018   0.652576   \n",
       "9505     0.011555 -1.039807  1.722837  0.052520      -0.916018   0.652576   \n",
       "6208     0.662079 -0.468981  1.722837 -1.220573       0.797767   0.652576   \n",
       "\n",
       "      IsActiveMember  EstimatedSalary  Geography  Gender  \n",
       "7837       -1.033563         1.202714        2.0     1.0  \n",
       "9505        0.967527        -0.443548        0.0     1.0  \n",
       "6208        0.967527        -0.347161        0.0     1.0  "
      ]
     },
     "metadata": {},
     "output_type": "display_data"
    },
    {
     "name": "stdout",
     "output_type": "stream",
     "text": [
      "features_valid_ordinal\n"
     ]
    },
    {
     "data": {
      "text/html": [
       "<div>\n",
       "<style scoped>\n",
       "    .dataframe tbody tr th:only-of-type {\n",
       "        vertical-align: middle;\n",
       "    }\n",
       "\n",
       "    .dataframe tbody tr th {\n",
       "        vertical-align: top;\n",
       "    }\n",
       "\n",
       "    .dataframe thead th {\n",
       "        text-align: right;\n",
       "    }\n",
       "</style>\n",
       "<table border=\"1\" class=\"dataframe\">\n",
       "  <thead>\n",
       "    <tr style=\"text-align: right;\">\n",
       "      <th></th>\n",
       "      <th>CreditScore</th>\n",
       "      <th>Age</th>\n",
       "      <th>Tenure</th>\n",
       "      <th>Balance</th>\n",
       "      <th>NumOfProducts</th>\n",
       "      <th>HasCrCard</th>\n",
       "      <th>IsActiveMember</th>\n",
       "      <th>EstimatedSalary</th>\n",
       "      <th>Geography</th>\n",
       "      <th>Gender</th>\n",
       "    </tr>\n",
       "  </thead>\n",
       "  <tbody>\n",
       "    <tr>\n",
       "      <th>9375</th>\n",
       "      <td>0.094161</td>\n",
       "      <td>0.862946</td>\n",
       "      <td>-0.354469</td>\n",
       "      <td>0.757050</td>\n",
       "      <td>0.797767</td>\n",
       "      <td>0.652576</td>\n",
       "      <td>-1.033563</td>\n",
       "      <td>-0.308325</td>\n",
       "      <td>1.0</td>\n",
       "      <td>1.0</td>\n",
       "    </tr>\n",
       "    <tr>\n",
       "      <th>9536</th>\n",
       "      <td>-1.031349</td>\n",
       "      <td>0.292120</td>\n",
       "      <td>1.722837</td>\n",
       "      <td>0.838881</td>\n",
       "      <td>-0.916018</td>\n",
       "      <td>0.652576</td>\n",
       "      <td>-1.033563</td>\n",
       "      <td>-0.645029</td>\n",
       "      <td>1.0</td>\n",
       "      <td>0.0</td>\n",
       "    </tr>\n",
       "    <tr>\n",
       "      <th>6344</th>\n",
       "      <td>2.066384</td>\n",
       "      <td>0.196983</td>\n",
       "      <td>-0.700687</td>\n",
       "      <td>-1.220573</td>\n",
       "      <td>0.797767</td>\n",
       "      <td>0.652576</td>\n",
       "      <td>-1.033563</td>\n",
       "      <td>0.498373</td>\n",
       "      <td>0.0</td>\n",
       "      <td>1.0</td>\n",
       "    </tr>\n",
       "  </tbody>\n",
       "</table>\n",
       "</div>"
      ],
      "text/plain": [
       "      CreditScore       Age    Tenure   Balance  NumOfProducts  HasCrCard  \\\n",
       "9375     0.094161  0.862946 -0.354469  0.757050       0.797767   0.652576   \n",
       "9536    -1.031349  0.292120  1.722837  0.838881      -0.916018   0.652576   \n",
       "6344     2.066384  0.196983 -0.700687 -1.220573       0.797767   0.652576   \n",
       "\n",
       "      IsActiveMember  EstimatedSalary  Geography  Gender  \n",
       "9375       -1.033563        -0.308325        1.0     1.0  \n",
       "9536       -1.033563        -0.645029        1.0     0.0  \n",
       "6344       -1.033563         0.498373        0.0     1.0  "
      ]
     },
     "metadata": {},
     "output_type": "display_data"
    },
    {
     "name": "stdout",
     "output_type": "stream",
     "text": [
      "features_remain_ordinal\n"
     ]
    },
    {
     "data": {
      "text/html": [
       "<div>\n",
       "<style scoped>\n",
       "    .dataframe tbody tr th:only-of-type {\n",
       "        vertical-align: middle;\n",
       "    }\n",
       "\n",
       "    .dataframe tbody tr th {\n",
       "        vertical-align: top;\n",
       "    }\n",
       "\n",
       "    .dataframe thead th {\n",
       "        text-align: right;\n",
       "    }\n",
       "</style>\n",
       "<table border=\"1\" class=\"dataframe\">\n",
       "  <thead>\n",
       "    <tr style=\"text-align: right;\">\n",
       "      <th></th>\n",
       "      <th>CreditScore</th>\n",
       "      <th>Age</th>\n",
       "      <th>Tenure</th>\n",
       "      <th>Balance</th>\n",
       "      <th>NumOfProducts</th>\n",
       "      <th>HasCrCard</th>\n",
       "      <th>IsActiveMember</th>\n",
       "      <th>EstimatedSalary</th>\n",
       "      <th>Geography</th>\n",
       "      <th>Gender</th>\n",
       "    </tr>\n",
       "  </thead>\n",
       "  <tbody>\n",
       "    <tr>\n",
       "      <th>3376</th>\n",
       "      <td>-0.060726</td>\n",
       "      <td>0.101845</td>\n",
       "      <td>-0.354469</td>\n",
       "      <td>0.015831</td>\n",
       "      <td>0.797767</td>\n",
       "      <td>0.652576</td>\n",
       "      <td>0.967527</td>\n",
       "      <td>0.270868</td>\n",
       "      <td>1.0</td>\n",
       "      <td>0.0</td>\n",
       "    </tr>\n",
       "    <tr>\n",
       "      <th>1315</th>\n",
       "      <td>-0.442780</td>\n",
       "      <td>-1.134945</td>\n",
       "      <td>-0.008252</td>\n",
       "      <td>0.394130</td>\n",
       "      <td>-0.916018</td>\n",
       "      <td>-1.532388</td>\n",
       "      <td>-1.033563</td>\n",
       "      <td>-1.608781</td>\n",
       "      <td>2.0</td>\n",
       "      <td>0.0</td>\n",
       "    </tr>\n",
       "    <tr>\n",
       "      <th>2552</th>\n",
       "      <td>-0.525386</td>\n",
       "      <td>0.672671</td>\n",
       "      <td>0.684184</td>\n",
       "      <td>0.087400</td>\n",
       "      <td>0.797767</td>\n",
       "      <td>0.652576</td>\n",
       "      <td>-1.033563</td>\n",
       "      <td>-0.294195</td>\n",
       "      <td>2.0</td>\n",
       "      <td>0.0</td>\n",
       "    </tr>\n",
       "  </tbody>\n",
       "</table>\n",
       "</div>"
      ],
      "text/plain": [
       "      CreditScore       Age    Tenure   Balance  NumOfProducts  HasCrCard  \\\n",
       "3376    -0.060726  0.101845 -0.354469  0.015831       0.797767   0.652576   \n",
       "1315    -0.442780 -1.134945 -0.008252  0.394130      -0.916018  -1.532388   \n",
       "2552    -0.525386  0.672671  0.684184  0.087400       0.797767   0.652576   \n",
       "\n",
       "      IsActiveMember  EstimatedSalary  Geography  Gender  \n",
       "3376        0.967527         0.270868        1.0     0.0  \n",
       "1315       -1.033563        -1.608781        2.0     0.0  \n",
       "2552       -1.033563        -0.294195        2.0     0.0  "
      ]
     },
     "metadata": {},
     "output_type": "display_data"
    }
   ],
   "source": [
    "for ct in coding_types:\n",
    "    scaler = StandardScaler()\n",
    "    scaler.fit(globals()['features_train_%s' % ct][num_columns]) \n",
    "    \n",
    "    for st in selection_types: \n",
    "        globals()['features_%s' % st + '_' + ct][num_columns] = scaler.transform(globals()\\\n",
    "                                                                                 ['features_%s' % st + '_' + ct][num_columns])\n",
    "        pd.options.mode.chained_assignment = None\n",
    "        print(f'features_{st}_{ct}')\n",
    "        display(globals()['features_%s' % st + '_' + ct].head(3))"
   ]
  },
  {
   "cell_type": "markdown",
   "metadata": {},
   "source": [
    "### Вывод\n",
    "\n",
    "Мы:\n",
    "1. Удалили столбец дублирующий индексы в исходной `data`;\n",
    "2. Создали  `data_ml` с необходимой для обучения моделей информацией;\n",
    "3. Разбили данные на 4 выборки (сохранив при этом соотношение таргетов): \n",
    "    - `df_train` - 60% от исходных данных;\n",
    "    - `df_test` - 20% от исходных данных;\n",
    "    - `f_valid` - 20% от исходных данных;\n",
    "    - `df_remain` (= `df_train` + `f_valid`) - 80% от исходных данных;\n",
    "4. Поделили все выборки на признаки и целевые признаки;\n",
    "5. Преобразовали категориальные признаки в численные двумя техниками - OHE и Ordinal Encoding, далее протестируем обе на дереве, чтобы в дальнейшем исследовании использовать ту, которая даст лучшее качество модели. \n",
    "6. Стандартизировали данные."
   ]
  },
  {
   "cell_type": "markdown",
   "metadata": {},
   "source": [
    "##  Исследование моделей без учета дисбаланса"
   ]
  },
  {
   "cell_type": "markdown",
   "metadata": {},
   "source": [
    "### Decision Tree "
   ]
  },
  {
   "cell_type": "code",
   "execution_count": 14,
   "metadata": {},
   "outputs": [
    {
     "name": "stderr",
     "output_type": "stream",
     "text": [
      "1it [00:37, 37.51s/it]"
     ]
    },
    {
     "name": "stdout",
     "output_type": "stream",
     "text": [
      "ohe:\n",
      "{'max_depth': 7, 'min_samples_leaf': 9, 'min_samples_split': 2}\n",
      "0.8382072258166616\n"
     ]
    },
    {
     "name": "stderr",
     "output_type": "stream",
     "text": [
      "2it [01:13, 36.86s/it]"
     ]
    },
    {
     "name": "stdout",
     "output_type": "stream",
     "text": [
      "ordinal:\n",
      "{'max_depth': 6, 'min_samples_leaf': 8, 'min_samples_split': 2}\n",
      "0.8334679684968128\n"
     ]
    },
    {
     "name": "stderr",
     "output_type": "stream",
     "text": [
      "\n"
     ]
    }
   ],
   "source": [
    "for features, codtype in tqdm(zip([features_train_ohe, features_train_ordinal], ['ohe', 'ordinal'])):    \n",
    "        \n",
    "    dtc = DecisionTreeClassifier(random_state=12345) \n",
    "    skf = StratifiedKFold(5)\n",
    "    skf.get_n_splits(features, target_train)\n",
    "\n",
    "\n",
    "    param_grid = { \n",
    "        'max_depth': range(2,10),\n",
    "        'min_samples_leaf': range(2,10),\n",
    "        'min_samples_split': range(2,10)\n",
    "\n",
    "    }\n",
    "\n",
    "    globals()['CV_dtc_%s' % codtype] = GridSearchCV(estimator=dtc, param_grid=param_grid, cv= skf, scoring = 'roc_auc') \n",
    "    globals()['CV_dtc_%s' % codtype].fit(features, target_train)\n",
    "    print(codtype + ':')\n",
    "    print(globals()['CV_dtc_%s' % codtype].best_params_)\n",
    "    print(globals()['CV_dtc_%s' % codtype].best_score_)"
   ]
  },
  {
   "cell_type": "markdown",
   "metadata": {},
   "source": [
    "По метрике ROC-AUC видно, что кодирование OHE показало себя лучше, далее будем использовать OHE-данные."
   ]
  },
  {
   "cell_type": "code",
   "execution_count": 15,
   "metadata": {},
   "outputs": [
    {
     "name": "stdout",
     "output_type": "stream",
     "text": [
      "Метрики качества лучшего дерева:\n",
      "\n",
      "accuracy: 0.8545\n",
      "f1: 0.5519991780285937\n",
      "precision: 0.742924764108542\n",
      "recall: 0.44071261291401803\n"
     ]
    }
   ],
   "source": [
    "model_dtc = CV_dtc_ohe.best_estimator_\n",
    "\n",
    "def metrics(model):\n",
    "    f1_dtc = cross_validate(model, features_train_ohe, target_train, \n",
    "                            scoring = ['accuracy', 'f1','precision', 'recall'], cv = skf)\n",
    "\n",
    "    for metric in ['test_accuracy', 'test_f1', 'test_precision', 'test_recall']:    \n",
    "        print(f\"{metric.replace('test_','')}:\",f1_dtc[metric].mean())\n",
    "\n",
    "print('Метрики качества лучшего дерева:')\n",
    "print()\n",
    "metrics(model_dtc)     "
   ]
  },
  {
   "cell_type": "markdown",
   "metadata": {},
   "source": [
    "Лучшее дерево не  сильно переусердствует с нахождением ушедших из банка клиентов (precision = 74%), выявляет 44% таких клиентов. Среднее гармоническое этих метрик F1 = 0.55. AUC-ROC лучше случайной модели."
   ]
  },
  {
   "cell_type": "markdown",
   "metadata": {},
   "source": [
    "### Random Forest "
   ]
  },
  {
   "cell_type": "code",
   "execution_count": 16,
   "metadata": {},
   "outputs": [
    {
     "name": "stdout",
     "output_type": "stream",
     "text": [
      "Fitting 5 folds for each of 54 candidates, totalling 270 fits\n",
      "[CV 1/5] END max_depth=3, min_samples_leaf=2, min_samples_split=2, n_estimators=50; total time=   0.1s\n",
      "[CV 2/5] END max_depth=3, min_samples_leaf=2, min_samples_split=2, n_estimators=50; total time=   0.1s\n",
      "[CV 3/5] END max_depth=3, min_samples_leaf=2, min_samples_split=2, n_estimators=50; total time=   0.1s\n",
      "[CV 4/5] END max_depth=3, min_samples_leaf=2, min_samples_split=2, n_estimators=50; total time=   0.1s\n",
      "[CV 5/5] END max_depth=3, min_samples_leaf=2, min_samples_split=2, n_estimators=50; total time=   0.1s\n",
      "[CV 1/5] END max_depth=3, min_samples_leaf=2, min_samples_split=2, n_estimators=100; total time=   0.3s\n",
      "[CV 2/5] END max_depth=3, min_samples_leaf=2, min_samples_split=2, n_estimators=100; total time=   0.2s\n",
      "[CV 3/5] END max_depth=3, min_samples_leaf=2, min_samples_split=2, n_estimators=100; total time=   0.3s\n",
      "[CV 4/5] END max_depth=3, min_samples_leaf=2, min_samples_split=2, n_estimators=100; total time=   0.3s\n",
      "[CV 5/5] END max_depth=3, min_samples_leaf=2, min_samples_split=2, n_estimators=100; total time=   0.2s\n",
      "[CV 1/5] END max_depth=3, min_samples_leaf=2, min_samples_split=6, n_estimators=50; total time=   0.1s\n",
      "[CV 2/5] END max_depth=3, min_samples_leaf=2, min_samples_split=6, n_estimators=50; total time=   0.1s\n",
      "[CV 3/5] END max_depth=3, min_samples_leaf=2, min_samples_split=6, n_estimators=50; total time=   0.1s\n",
      "[CV 4/5] END max_depth=3, min_samples_leaf=2, min_samples_split=6, n_estimators=50; total time=   0.1s\n",
      "[CV 5/5] END max_depth=3, min_samples_leaf=2, min_samples_split=6, n_estimators=50; total time=   0.1s\n",
      "[CV 1/5] END max_depth=3, min_samples_leaf=2, min_samples_split=6, n_estimators=100; total time=   0.3s\n",
      "[CV 2/5] END max_depth=3, min_samples_leaf=2, min_samples_split=6, n_estimators=100; total time=   0.3s\n",
      "[CV 3/5] END max_depth=3, min_samples_leaf=2, min_samples_split=6, n_estimators=100; total time=   0.3s\n",
      "[CV 4/5] END max_depth=3, min_samples_leaf=2, min_samples_split=6, n_estimators=100; total time=   0.2s\n",
      "[CV 5/5] END max_depth=3, min_samples_leaf=2, min_samples_split=6, n_estimators=100; total time=   0.3s\n",
      "[CV 1/5] END max_depth=3, min_samples_leaf=2, min_samples_split=10, n_estimators=50; total time=   0.1s\n",
      "[CV 2/5] END max_depth=3, min_samples_leaf=2, min_samples_split=10, n_estimators=50; total time=   0.1s\n",
      "[CV 3/5] END max_depth=3, min_samples_leaf=2, min_samples_split=10, n_estimators=50; total time=   0.1s\n",
      "[CV 4/5] END max_depth=3, min_samples_leaf=2, min_samples_split=10, n_estimators=50; total time=   0.1s\n",
      "[CV 5/5] END max_depth=3, min_samples_leaf=2, min_samples_split=10, n_estimators=50; total time=   0.1s\n",
      "[CV 1/5] END max_depth=3, min_samples_leaf=2, min_samples_split=10, n_estimators=100; total time=   0.3s\n",
      "[CV 2/5] END max_depth=3, min_samples_leaf=2, min_samples_split=10, n_estimators=100; total time=   0.2s\n",
      "[CV 3/5] END max_depth=3, min_samples_leaf=2, min_samples_split=10, n_estimators=100; total time=   0.2s\n",
      "[CV 4/5] END max_depth=3, min_samples_leaf=2, min_samples_split=10, n_estimators=100; total time=   0.2s\n",
      "[CV 5/5] END max_depth=3, min_samples_leaf=2, min_samples_split=10, n_estimators=100; total time=   0.3s\n",
      "[CV 1/5] END max_depth=3, min_samples_leaf=6, min_samples_split=2, n_estimators=50; total time=   0.1s\n",
      "[CV 2/5] END max_depth=3, min_samples_leaf=6, min_samples_split=2, n_estimators=50; total time=   0.1s\n",
      "[CV 3/5] END max_depth=3, min_samples_leaf=6, min_samples_split=2, n_estimators=50; total time=   0.1s\n",
      "[CV 4/5] END max_depth=3, min_samples_leaf=6, min_samples_split=2, n_estimators=50; total time=   0.1s\n",
      "[CV 5/5] END max_depth=3, min_samples_leaf=6, min_samples_split=2, n_estimators=50; total time=   0.1s\n",
      "[CV 1/5] END max_depth=3, min_samples_leaf=6, min_samples_split=2, n_estimators=100; total time=   0.3s\n",
      "[CV 2/5] END max_depth=3, min_samples_leaf=6, min_samples_split=2, n_estimators=100; total time=   0.3s\n",
      "[CV 3/5] END max_depth=3, min_samples_leaf=6, min_samples_split=2, n_estimators=100; total time=   0.3s\n",
      "[CV 4/5] END max_depth=3, min_samples_leaf=6, min_samples_split=2, n_estimators=100; total time=   0.2s\n",
      "[CV 5/5] END max_depth=3, min_samples_leaf=6, min_samples_split=2, n_estimators=100; total time=   0.3s\n",
      "[CV 1/5] END max_depth=3, min_samples_leaf=6, min_samples_split=6, n_estimators=50; total time=   0.1s\n",
      "[CV 2/5] END max_depth=3, min_samples_leaf=6, min_samples_split=6, n_estimators=50; total time=   0.1s\n",
      "[CV 3/5] END max_depth=3, min_samples_leaf=6, min_samples_split=6, n_estimators=50; total time=   0.1s\n",
      "[CV 4/5] END max_depth=3, min_samples_leaf=6, min_samples_split=6, n_estimators=50; total time=   0.1s\n",
      "[CV 5/5] END max_depth=3, min_samples_leaf=6, min_samples_split=6, n_estimators=50; total time=   0.1s\n",
      "[CV 1/5] END max_depth=3, min_samples_leaf=6, min_samples_split=6, n_estimators=100; total time=   0.3s\n",
      "[CV 2/5] END max_depth=3, min_samples_leaf=6, min_samples_split=6, n_estimators=100; total time=   0.3s\n",
      "[CV 3/5] END max_depth=3, min_samples_leaf=6, min_samples_split=6, n_estimators=100; total time=   0.3s\n",
      "[CV 4/5] END max_depth=3, min_samples_leaf=6, min_samples_split=6, n_estimators=100; total time=   0.3s\n",
      "[CV 5/5] END max_depth=3, min_samples_leaf=6, min_samples_split=6, n_estimators=100; total time=   0.3s\n",
      "[CV 1/5] END max_depth=3, min_samples_leaf=6, min_samples_split=10, n_estimators=50; total time=   0.1s\n",
      "[CV 2/5] END max_depth=3, min_samples_leaf=6, min_samples_split=10, n_estimators=50; total time=   0.1s\n",
      "[CV 3/5] END max_depth=3, min_samples_leaf=6, min_samples_split=10, n_estimators=50; total time=   0.1s\n",
      "[CV 4/5] END max_depth=3, min_samples_leaf=6, min_samples_split=10, n_estimators=50; total time=   0.1s\n",
      "[CV 5/5] END max_depth=3, min_samples_leaf=6, min_samples_split=10, n_estimators=50; total time=   0.1s\n",
      "[CV 1/5] END max_depth=3, min_samples_leaf=6, min_samples_split=10, n_estimators=100; total time=   0.3s\n",
      "[CV 2/5] END max_depth=3, min_samples_leaf=6, min_samples_split=10, n_estimators=100; total time=   0.2s\n",
      "[CV 3/5] END max_depth=3, min_samples_leaf=6, min_samples_split=10, n_estimators=100; total time=   0.3s\n",
      "[CV 4/5] END max_depth=3, min_samples_leaf=6, min_samples_split=10, n_estimators=100; total time=   0.3s\n",
      "[CV 5/5] END max_depth=3, min_samples_leaf=6, min_samples_split=10, n_estimators=100; total time=   0.2s\n",
      "[CV 1/5] END max_depth=3, min_samples_leaf=10, min_samples_split=2, n_estimators=50; total time=   0.1s\n",
      "[CV 2/5] END max_depth=3, min_samples_leaf=10, min_samples_split=2, n_estimators=50; total time=   0.1s\n",
      "[CV 3/5] END max_depth=3, min_samples_leaf=10, min_samples_split=2, n_estimators=50; total time=   0.1s\n",
      "[CV 4/5] END max_depth=3, min_samples_leaf=10, min_samples_split=2, n_estimators=50; total time=   0.1s\n",
      "[CV 5/5] END max_depth=3, min_samples_leaf=10, min_samples_split=2, n_estimators=50; total time=   0.1s\n",
      "[CV 1/5] END max_depth=3, min_samples_leaf=10, min_samples_split=2, n_estimators=100; total time=   0.3s\n",
      "[CV 2/5] END max_depth=3, min_samples_leaf=10, min_samples_split=2, n_estimators=100; total time=   0.2s\n",
      "[CV 3/5] END max_depth=3, min_samples_leaf=10, min_samples_split=2, n_estimators=100; total time=   0.2s\n",
      "[CV 4/5] END max_depth=3, min_samples_leaf=10, min_samples_split=2, n_estimators=100; total time=   0.2s\n",
      "[CV 5/5] END max_depth=3, min_samples_leaf=10, min_samples_split=2, n_estimators=100; total time=   0.2s\n",
      "[CV 1/5] END max_depth=3, min_samples_leaf=10, min_samples_split=6, n_estimators=50; total time=   0.1s\n",
      "[CV 2/5] END max_depth=3, min_samples_leaf=10, min_samples_split=6, n_estimators=50; total time=   0.1s\n",
      "[CV 3/5] END max_depth=3, min_samples_leaf=10, min_samples_split=6, n_estimators=50; total time=   0.1s\n",
      "[CV 4/5] END max_depth=3, min_samples_leaf=10, min_samples_split=6, n_estimators=50; total time=   0.1s\n",
      "[CV 5/5] END max_depth=3, min_samples_leaf=10, min_samples_split=6, n_estimators=50; total time=   0.1s\n",
      "[CV 1/5] END max_depth=3, min_samples_leaf=10, min_samples_split=6, n_estimators=100; total time=   0.3s\n",
      "[CV 2/5] END max_depth=3, min_samples_leaf=10, min_samples_split=6, n_estimators=100; total time=   0.3s\n",
      "[CV 3/5] END max_depth=3, min_samples_leaf=10, min_samples_split=6, n_estimators=100; total time=   0.3s\n",
      "[CV 4/5] END max_depth=3, min_samples_leaf=10, min_samples_split=6, n_estimators=100; total time=   0.2s\n",
      "[CV 5/5] END max_depth=3, min_samples_leaf=10, min_samples_split=6, n_estimators=100; total time=   0.2s\n",
      "[CV 1/5] END max_depth=3, min_samples_leaf=10, min_samples_split=10, n_estimators=50; total time=   0.1s\n",
      "[CV 2/5] END max_depth=3, min_samples_leaf=10, min_samples_split=10, n_estimators=50; total time=   0.1s\n",
      "[CV 3/5] END max_depth=3, min_samples_leaf=10, min_samples_split=10, n_estimators=50; total time=   0.1s\n",
      "[CV 4/5] END max_depth=3, min_samples_leaf=10, min_samples_split=10, n_estimators=50; total time=   0.1s\n",
      "[CV 5/5] END max_depth=3, min_samples_leaf=10, min_samples_split=10, n_estimators=50; total time=   0.1s\n",
      "[CV 1/5] END max_depth=3, min_samples_leaf=10, min_samples_split=10, n_estimators=100; total time=   0.3s\n",
      "[CV 2/5] END max_depth=3, min_samples_leaf=10, min_samples_split=10, n_estimators=100; total time=   0.3s\n",
      "[CV 3/5] END max_depth=3, min_samples_leaf=10, min_samples_split=10, n_estimators=100; total time=   0.3s\n",
      "[CV 4/5] END max_depth=3, min_samples_leaf=10, min_samples_split=10, n_estimators=100; total time=   0.3s\n",
      "[CV 5/5] END max_depth=3, min_samples_leaf=10, min_samples_split=10, n_estimators=100; total time=   0.3s\n",
      "[CV 1/5] END max_depth=5, min_samples_leaf=2, min_samples_split=2, n_estimators=50; total time=   0.2s\n",
      "[CV 2/5] END max_depth=5, min_samples_leaf=2, min_samples_split=2, n_estimators=50; total time=   0.2s\n",
      "[CV 3/5] END max_depth=5, min_samples_leaf=2, min_samples_split=2, n_estimators=50; total time=   0.2s\n",
      "[CV 4/5] END max_depth=5, min_samples_leaf=2, min_samples_split=2, n_estimators=50; total time=   0.2s\n",
      "[CV 5/5] END max_depth=5, min_samples_leaf=2, min_samples_split=2, n_estimators=50; total time=   0.2s\n",
      "[CV 1/5] END max_depth=5, min_samples_leaf=2, min_samples_split=2, n_estimators=100; total time=   0.3s\n",
      "[CV 2/5] END max_depth=5, min_samples_leaf=2, min_samples_split=2, n_estimators=100; total time=   0.4s\n",
      "[CV 3/5] END max_depth=5, min_samples_leaf=2, min_samples_split=2, n_estimators=100; total time=   0.3s\n",
      "[CV 4/5] END max_depth=5, min_samples_leaf=2, min_samples_split=2, n_estimators=100; total time=   0.3s\n",
      "[CV 5/5] END max_depth=5, min_samples_leaf=2, min_samples_split=2, n_estimators=100; total time=   0.3s\n",
      "[CV 1/5] END max_depth=5, min_samples_leaf=2, min_samples_split=6, n_estimators=50; total time=   0.2s\n",
      "[CV 2/5] END max_depth=5, min_samples_leaf=2, min_samples_split=6, n_estimators=50; total time=   0.2s\n",
      "[CV 3/5] END max_depth=5, min_samples_leaf=2, min_samples_split=6, n_estimators=50; total time=   0.2s\n",
      "[CV 4/5] END max_depth=5, min_samples_leaf=2, min_samples_split=6, n_estimators=50; total time=   0.2s\n",
      "[CV 5/5] END max_depth=5, min_samples_leaf=2, min_samples_split=6, n_estimators=50; total time=   0.2s\n",
      "[CV 1/5] END max_depth=5, min_samples_leaf=2, min_samples_split=6, n_estimators=100; total time=   0.3s\n",
      "[CV 2/5] END max_depth=5, min_samples_leaf=2, min_samples_split=6, n_estimators=100; total time=   0.3s\n",
      "[CV 3/5] END max_depth=5, min_samples_leaf=2, min_samples_split=6, n_estimators=100; total time=   0.3s\n",
      "[CV 4/5] END max_depth=5, min_samples_leaf=2, min_samples_split=6, n_estimators=100; total time=   0.3s\n",
      "[CV 5/5] END max_depth=5, min_samples_leaf=2, min_samples_split=6, n_estimators=100; total time=   0.3s\n",
      "[CV 1/5] END max_depth=5, min_samples_leaf=2, min_samples_split=10, n_estimators=50; total time=   0.2s\n",
      "[CV 2/5] END max_depth=5, min_samples_leaf=2, min_samples_split=10, n_estimators=50; total time=   0.2s\n",
      "[CV 3/5] END max_depth=5, min_samples_leaf=2, min_samples_split=10, n_estimators=50; total time=   0.2s\n",
      "[CV 4/5] END max_depth=5, min_samples_leaf=2, min_samples_split=10, n_estimators=50; total time=   0.2s\n",
      "[CV 5/5] END max_depth=5, min_samples_leaf=2, min_samples_split=10, n_estimators=50; total time=   0.2s\n",
      "[CV 1/5] END max_depth=5, min_samples_leaf=2, min_samples_split=10, n_estimators=100; total time=   0.3s\n",
      "[CV 2/5] END max_depth=5, min_samples_leaf=2, min_samples_split=10, n_estimators=100; total time=   0.3s\n",
      "[CV 3/5] END max_depth=5, min_samples_leaf=2, min_samples_split=10, n_estimators=100; total time=   0.3s\n",
      "[CV 4/5] END max_depth=5, min_samples_leaf=2, min_samples_split=10, n_estimators=100; total time=   0.3s\n",
      "[CV 5/5] END max_depth=5, min_samples_leaf=2, min_samples_split=10, n_estimators=100; total time=   0.3s\n",
      "[CV 1/5] END max_depth=5, min_samples_leaf=6, min_samples_split=2, n_estimators=50; total time=   0.2s\n",
      "[CV 2/5] END max_depth=5, min_samples_leaf=6, min_samples_split=2, n_estimators=50; total time=   0.2s\n",
      "[CV 3/5] END max_depth=5, min_samples_leaf=6, min_samples_split=2, n_estimators=50; total time=   0.2s\n",
      "[CV 4/5] END max_depth=5, min_samples_leaf=6, min_samples_split=2, n_estimators=50; total time=   0.2s\n",
      "[CV 5/5] END max_depth=5, min_samples_leaf=6, min_samples_split=2, n_estimators=50; total time=   0.2s\n",
      "[CV 1/5] END max_depth=5, min_samples_leaf=6, min_samples_split=2, n_estimators=100; total time=   0.3s\n",
      "[CV 2/5] END max_depth=5, min_samples_leaf=6, min_samples_split=2, n_estimators=100; total time=   0.3s\n",
      "[CV 3/5] END max_depth=5, min_samples_leaf=6, min_samples_split=2, n_estimators=100; total time=   0.3s\n",
      "[CV 4/5] END max_depth=5, min_samples_leaf=6, min_samples_split=2, n_estimators=100; total time=   0.3s\n",
      "[CV 5/5] END max_depth=5, min_samples_leaf=6, min_samples_split=2, n_estimators=100; total time=   0.3s\n",
      "[CV 1/5] END max_depth=5, min_samples_leaf=6, min_samples_split=6, n_estimators=50; total time=   0.2s\n",
      "[CV 2/5] END max_depth=5, min_samples_leaf=6, min_samples_split=6, n_estimators=50; total time=   0.2s\n",
      "[CV 3/5] END max_depth=5, min_samples_leaf=6, min_samples_split=6, n_estimators=50; total time=   0.2s\n",
      "[CV 4/5] END max_depth=5, min_samples_leaf=6, min_samples_split=6, n_estimators=50; total time=   0.2s\n",
      "[CV 5/5] END max_depth=5, min_samples_leaf=6, min_samples_split=6, n_estimators=50; total time=   0.2s\n",
      "[CV 1/5] END max_depth=5, min_samples_leaf=6, min_samples_split=6, n_estimators=100; total time=   0.3s\n",
      "[CV 2/5] END max_depth=5, min_samples_leaf=6, min_samples_split=6, n_estimators=100; total time=   0.3s\n",
      "[CV 3/5] END max_depth=5, min_samples_leaf=6, min_samples_split=6, n_estimators=100; total time=   0.3s\n",
      "[CV 4/5] END max_depth=5, min_samples_leaf=6, min_samples_split=6, n_estimators=100; total time=   0.3s\n",
      "[CV 5/5] END max_depth=5, min_samples_leaf=6, min_samples_split=6, n_estimators=100; total time=   0.3s\n",
      "[CV 1/5] END max_depth=5, min_samples_leaf=6, min_samples_split=10, n_estimators=50; total time=   0.2s\n",
      "[CV 2/5] END max_depth=5, min_samples_leaf=6, min_samples_split=10, n_estimators=50; total time=   0.2s\n",
      "[CV 3/5] END max_depth=5, min_samples_leaf=6, min_samples_split=10, n_estimators=50; total time=   0.2s\n",
      "[CV 4/5] END max_depth=5, min_samples_leaf=6, min_samples_split=10, n_estimators=50; total time=   0.2s\n",
      "[CV 5/5] END max_depth=5, min_samples_leaf=6, min_samples_split=10, n_estimators=50; total time=   0.2s\n",
      "[CV 1/5] END max_depth=5, min_samples_leaf=6, min_samples_split=10, n_estimators=100; total time=   0.3s\n",
      "[CV 2/5] END max_depth=5, min_samples_leaf=6, min_samples_split=10, n_estimators=100; total time=   0.3s\n",
      "[CV 3/5] END max_depth=5, min_samples_leaf=6, min_samples_split=10, n_estimators=100; total time=   0.3s\n",
      "[CV 4/5] END max_depth=5, min_samples_leaf=6, min_samples_split=10, n_estimators=100; total time=   0.3s\n",
      "[CV 5/5] END max_depth=5, min_samples_leaf=6, min_samples_split=10, n_estimators=100; total time=   0.3s\n",
      "[CV 1/5] END max_depth=5, min_samples_leaf=10, min_samples_split=2, n_estimators=50; total time=   0.2s\n",
      "[CV 2/5] END max_depth=5, min_samples_leaf=10, min_samples_split=2, n_estimators=50; total time=   0.2s\n",
      "[CV 3/5] END max_depth=5, min_samples_leaf=10, min_samples_split=2, n_estimators=50; total time=   0.2s\n",
      "[CV 4/5] END max_depth=5, min_samples_leaf=10, min_samples_split=2, n_estimators=50; total time=   0.2s\n",
      "[CV 5/5] END max_depth=5, min_samples_leaf=10, min_samples_split=2, n_estimators=50; total time=   0.2s\n",
      "[CV 1/5] END max_depth=5, min_samples_leaf=10, min_samples_split=2, n_estimators=100; total time=   0.3s\n",
      "[CV 2/5] END max_depth=5, min_samples_leaf=10, min_samples_split=2, n_estimators=100; total time=   0.3s\n",
      "[CV 3/5] END max_depth=5, min_samples_leaf=10, min_samples_split=2, n_estimators=100; total time=   0.3s\n",
      "[CV 4/5] END max_depth=5, min_samples_leaf=10, min_samples_split=2, n_estimators=100; total time=   0.3s\n",
      "[CV 5/5] END max_depth=5, min_samples_leaf=10, min_samples_split=2, n_estimators=100; total time=   0.4s\n",
      "[CV 1/5] END max_depth=5, min_samples_leaf=10, min_samples_split=6, n_estimators=50; total time=   0.3s\n",
      "[CV 2/5] END max_depth=5, min_samples_leaf=10, min_samples_split=6, n_estimators=50; total time=   0.2s\n",
      "[CV 3/5] END max_depth=5, min_samples_leaf=10, min_samples_split=6, n_estimators=50; total time=   0.2s\n",
      "[CV 4/5] END max_depth=5, min_samples_leaf=10, min_samples_split=6, n_estimators=50; total time=   0.2s\n",
      "[CV 5/5] END max_depth=5, min_samples_leaf=10, min_samples_split=6, n_estimators=50; total time=   0.2s\n",
      "[CV 1/5] END max_depth=5, min_samples_leaf=10, min_samples_split=6, n_estimators=100; total time=   0.3s\n",
      "[CV 2/5] END max_depth=5, min_samples_leaf=10, min_samples_split=6, n_estimators=100; total time=   0.3s\n",
      "[CV 3/5] END max_depth=5, min_samples_leaf=10, min_samples_split=6, n_estimators=100; total time=   0.3s\n",
      "[CV 4/5] END max_depth=5, min_samples_leaf=10, min_samples_split=6, n_estimators=100; total time=   0.3s\n",
      "[CV 5/5] END max_depth=5, min_samples_leaf=10, min_samples_split=6, n_estimators=100; total time=   0.3s\n",
      "[CV 1/5] END max_depth=5, min_samples_leaf=10, min_samples_split=10, n_estimators=50; total time=   0.2s\n",
      "[CV 2/5] END max_depth=5, min_samples_leaf=10, min_samples_split=10, n_estimators=50; total time=   0.2s\n",
      "[CV 3/5] END max_depth=5, min_samples_leaf=10, min_samples_split=10, n_estimators=50; total time=   0.2s\n",
      "[CV 4/5] END max_depth=5, min_samples_leaf=10, min_samples_split=10, n_estimators=50; total time=   0.2s\n",
      "[CV 5/5] END max_depth=5, min_samples_leaf=10, min_samples_split=10, n_estimators=50; total time=   0.2s\n",
      "[CV 1/5] END max_depth=5, min_samples_leaf=10, min_samples_split=10, n_estimators=100; total time=   0.3s\n",
      "[CV 2/5] END max_depth=5, min_samples_leaf=10, min_samples_split=10, n_estimators=100; total time=   0.3s\n",
      "[CV 3/5] END max_depth=5, min_samples_leaf=10, min_samples_split=10, n_estimators=100; total time=   0.4s\n",
      "[CV 4/5] END max_depth=5, min_samples_leaf=10, min_samples_split=10, n_estimators=100; total time=   0.3s\n",
      "[CV 5/5] END max_depth=5, min_samples_leaf=10, min_samples_split=10, n_estimators=100; total time=   0.3s\n",
      "[CV 1/5] END max_depth=8, min_samples_leaf=2, min_samples_split=2, n_estimators=50; total time=   0.2s\n",
      "[CV 2/5] END max_depth=8, min_samples_leaf=2, min_samples_split=2, n_estimators=50; total time=   0.2s\n",
      "[CV 3/5] END max_depth=8, min_samples_leaf=2, min_samples_split=2, n_estimators=50; total time=   0.2s\n",
      "[CV 4/5] END max_depth=8, min_samples_leaf=2, min_samples_split=2, n_estimators=50; total time=   0.2s\n",
      "[CV 5/5] END max_depth=8, min_samples_leaf=2, min_samples_split=2, n_estimators=50; total time=   0.2s\n",
      "[CV 1/5] END max_depth=8, min_samples_leaf=2, min_samples_split=2, n_estimators=100; total time=   0.4s\n",
      "[CV 2/5] END max_depth=8, min_samples_leaf=2, min_samples_split=2, n_estimators=100; total time=   0.4s\n",
      "[CV 3/5] END max_depth=8, min_samples_leaf=2, min_samples_split=2, n_estimators=100; total time=   0.4s\n",
      "[CV 4/5] END max_depth=8, min_samples_leaf=2, min_samples_split=2, n_estimators=100; total time=   0.4s\n",
      "[CV 5/5] END max_depth=8, min_samples_leaf=2, min_samples_split=2, n_estimators=100; total time=   0.4s\n",
      "[CV 1/5] END max_depth=8, min_samples_leaf=2, min_samples_split=6, n_estimators=50; total time=   0.2s\n",
      "[CV 2/5] END max_depth=8, min_samples_leaf=2, min_samples_split=6, n_estimators=50; total time=   0.2s\n",
      "[CV 3/5] END max_depth=8, min_samples_leaf=2, min_samples_split=6, n_estimators=50; total time=   0.2s\n",
      "[CV 4/5] END max_depth=8, min_samples_leaf=2, min_samples_split=6, n_estimators=50; total time=   0.2s\n",
      "[CV 5/5] END max_depth=8, min_samples_leaf=2, min_samples_split=6, n_estimators=50; total time=   0.2s\n",
      "[CV 1/5] END max_depth=8, min_samples_leaf=2, min_samples_split=6, n_estimators=100; total time=   0.4s\n",
      "[CV 2/5] END max_depth=8, min_samples_leaf=2, min_samples_split=6, n_estimators=100; total time=   0.4s\n",
      "[CV 3/5] END max_depth=8, min_samples_leaf=2, min_samples_split=6, n_estimators=100; total time=   0.4s\n",
      "[CV 4/5] END max_depth=8, min_samples_leaf=2, min_samples_split=6, n_estimators=100; total time=   0.4s\n",
      "[CV 5/5] END max_depth=8, min_samples_leaf=2, min_samples_split=6, n_estimators=100; total time=   0.4s\n",
      "[CV 1/5] END max_depth=8, min_samples_leaf=2, min_samples_split=10, n_estimators=50; total time=   0.2s\n",
      "[CV 2/5] END max_depth=8, min_samples_leaf=2, min_samples_split=10, n_estimators=50; total time=   0.2s\n",
      "[CV 3/5] END max_depth=8, min_samples_leaf=2, min_samples_split=10, n_estimators=50; total time=   0.2s\n",
      "[CV 4/5] END max_depth=8, min_samples_leaf=2, min_samples_split=10, n_estimators=50; total time=   0.2s\n",
      "[CV 5/5] END max_depth=8, min_samples_leaf=2, min_samples_split=10, n_estimators=50; total time=   0.2s\n",
      "[CV 1/5] END max_depth=8, min_samples_leaf=2, min_samples_split=10, n_estimators=100; total time=   0.4s\n",
      "[CV 2/5] END max_depth=8, min_samples_leaf=2, min_samples_split=10, n_estimators=100; total time=   0.4s\n",
      "[CV 3/5] END max_depth=8, min_samples_leaf=2, min_samples_split=10, n_estimators=100; total time=   0.4s\n",
      "[CV 4/5] END max_depth=8, min_samples_leaf=2, min_samples_split=10, n_estimators=100; total time=   0.4s\n",
      "[CV 5/5] END max_depth=8, min_samples_leaf=2, min_samples_split=10, n_estimators=100; total time=   0.4s\n",
      "[CV 1/5] END max_depth=8, min_samples_leaf=6, min_samples_split=2, n_estimators=50; total time=   0.2s\n",
      "[CV 2/5] END max_depth=8, min_samples_leaf=6, min_samples_split=2, n_estimators=50; total time=   0.2s\n",
      "[CV 3/5] END max_depth=8, min_samples_leaf=6, min_samples_split=2, n_estimators=50; total time=   0.2s\n",
      "[CV 4/5] END max_depth=8, min_samples_leaf=6, min_samples_split=2, n_estimators=50; total time=   0.2s\n",
      "[CV 5/5] END max_depth=8, min_samples_leaf=6, min_samples_split=2, n_estimators=50; total time=   0.2s\n",
      "[CV 1/5] END max_depth=8, min_samples_leaf=6, min_samples_split=2, n_estimators=100; total time=   0.4s\n",
      "[CV 2/5] END max_depth=8, min_samples_leaf=6, min_samples_split=2, n_estimators=100; total time=   0.4s\n",
      "[CV 3/5] END max_depth=8, min_samples_leaf=6, min_samples_split=2, n_estimators=100; total time=   0.4s\n",
      "[CV 4/5] END max_depth=8, min_samples_leaf=6, min_samples_split=2, n_estimators=100; total time=   0.4s\n",
      "[CV 5/5] END max_depth=8, min_samples_leaf=6, min_samples_split=2, n_estimators=100; total time=   0.4s\n",
      "[CV 1/5] END max_depth=8, min_samples_leaf=6, min_samples_split=6, n_estimators=50; total time=   0.2s\n",
      "[CV 2/5] END max_depth=8, min_samples_leaf=6, min_samples_split=6, n_estimators=50; total time=   0.2s\n",
      "[CV 3/5] END max_depth=8, min_samples_leaf=6, min_samples_split=6, n_estimators=50; total time=   0.2s\n",
      "[CV 4/5] END max_depth=8, min_samples_leaf=6, min_samples_split=6, n_estimators=50; total time=   0.2s\n",
      "[CV 5/5] END max_depth=8, min_samples_leaf=6, min_samples_split=6, n_estimators=50; total time=   0.2s\n",
      "[CV 1/5] END max_depth=8, min_samples_leaf=6, min_samples_split=6, n_estimators=100; total time=   0.4s\n",
      "[CV 2/5] END max_depth=8, min_samples_leaf=6, min_samples_split=6, n_estimators=100; total time=   0.4s\n",
      "[CV 3/5] END max_depth=8, min_samples_leaf=6, min_samples_split=6, n_estimators=100; total time=   0.4s\n",
      "[CV 4/5] END max_depth=8, min_samples_leaf=6, min_samples_split=6, n_estimators=100; total time=   0.4s\n",
      "[CV 5/5] END max_depth=8, min_samples_leaf=6, min_samples_split=6, n_estimators=100; total time=   0.4s\n",
      "[CV 1/5] END max_depth=8, min_samples_leaf=6, min_samples_split=10, n_estimators=50; total time=   0.2s\n",
      "[CV 2/5] END max_depth=8, min_samples_leaf=6, min_samples_split=10, n_estimators=50; total time=   0.2s\n",
      "[CV 3/5] END max_depth=8, min_samples_leaf=6, min_samples_split=10, n_estimators=50; total time=   0.2s\n",
      "[CV 4/5] END max_depth=8, min_samples_leaf=6, min_samples_split=10, n_estimators=50; total time=   0.2s\n",
      "[CV 5/5] END max_depth=8, min_samples_leaf=6, min_samples_split=10, n_estimators=50; total time=   0.2s\n",
      "[CV 1/5] END max_depth=8, min_samples_leaf=6, min_samples_split=10, n_estimators=100; total time=   0.4s\n",
      "[CV 2/5] END max_depth=8, min_samples_leaf=6, min_samples_split=10, n_estimators=100; total time=   0.4s\n",
      "[CV 3/5] END max_depth=8, min_samples_leaf=6, min_samples_split=10, n_estimators=100; total time=   0.4s\n",
      "[CV 4/5] END max_depth=8, min_samples_leaf=6, min_samples_split=10, n_estimators=100; total time=   0.4s\n",
      "[CV 5/5] END max_depth=8, min_samples_leaf=6, min_samples_split=10, n_estimators=100; total time=   0.4s\n",
      "[CV 1/5] END max_depth=8, min_samples_leaf=10, min_samples_split=2, n_estimators=50; total time=   0.2s\n",
      "[CV 2/5] END max_depth=8, min_samples_leaf=10, min_samples_split=2, n_estimators=50; total time=   0.2s\n",
      "[CV 3/5] END max_depth=8, min_samples_leaf=10, min_samples_split=2, n_estimators=50; total time=   0.2s\n",
      "[CV 4/5] END max_depth=8, min_samples_leaf=10, min_samples_split=2, n_estimators=50; total time=   0.2s\n",
      "[CV 5/5] END max_depth=8, min_samples_leaf=10, min_samples_split=2, n_estimators=50; total time=   0.2s\n",
      "[CV 1/5] END max_depth=8, min_samples_leaf=10, min_samples_split=2, n_estimators=100; total time=   0.4s\n",
      "[CV 2/5] END max_depth=8, min_samples_leaf=10, min_samples_split=2, n_estimators=100; total time=   0.4s\n",
      "[CV 3/5] END max_depth=8, min_samples_leaf=10, min_samples_split=2, n_estimators=100; total time=   0.4s\n",
      "[CV 4/5] END max_depth=8, min_samples_leaf=10, min_samples_split=2, n_estimators=100; total time=   0.4s\n",
      "[CV 5/5] END max_depth=8, min_samples_leaf=10, min_samples_split=2, n_estimators=100; total time=   0.4s\n",
      "[CV 1/5] END max_depth=8, min_samples_leaf=10, min_samples_split=6, n_estimators=50; total time=   0.2s\n",
      "[CV 2/5] END max_depth=8, min_samples_leaf=10, min_samples_split=6, n_estimators=50; total time=   0.2s\n",
      "[CV 3/5] END max_depth=8, min_samples_leaf=10, min_samples_split=6, n_estimators=50; total time=   0.2s\n",
      "[CV 4/5] END max_depth=8, min_samples_leaf=10, min_samples_split=6, n_estimators=50; total time=   0.2s\n",
      "[CV 5/5] END max_depth=8, min_samples_leaf=10, min_samples_split=6, n_estimators=50; total time=   0.2s\n",
      "[CV 1/5] END max_depth=8, min_samples_leaf=10, min_samples_split=6, n_estimators=100; total time=   0.4s\n",
      "[CV 2/5] END max_depth=8, min_samples_leaf=10, min_samples_split=6, n_estimators=100; total time=   0.4s\n",
      "[CV 3/5] END max_depth=8, min_samples_leaf=10, min_samples_split=6, n_estimators=100; total time=   0.4s\n",
      "[CV 4/5] END max_depth=8, min_samples_leaf=10, min_samples_split=6, n_estimators=100; total time=   0.4s\n",
      "[CV 5/5] END max_depth=8, min_samples_leaf=10, min_samples_split=6, n_estimators=100; total time=   0.4s\n",
      "[CV 1/5] END max_depth=8, min_samples_leaf=10, min_samples_split=10, n_estimators=50; total time=   0.2s\n",
      "[CV 2/5] END max_depth=8, min_samples_leaf=10, min_samples_split=10, n_estimators=50; total time=   0.2s\n",
      "[CV 3/5] END max_depth=8, min_samples_leaf=10, min_samples_split=10, n_estimators=50; total time=   0.2s\n",
      "[CV 4/5] END max_depth=8, min_samples_leaf=10, min_samples_split=10, n_estimators=50; total time=   0.2s\n",
      "[CV 5/5] END max_depth=8, min_samples_leaf=10, min_samples_split=10, n_estimators=50; total time=   0.2s\n",
      "[CV 1/5] END max_depth=8, min_samples_leaf=10, min_samples_split=10, n_estimators=100; total time=   0.4s\n",
      "[CV 2/5] END max_depth=8, min_samples_leaf=10, min_samples_split=10, n_estimators=100; total time=   0.4s\n",
      "[CV 3/5] END max_depth=8, min_samples_leaf=10, min_samples_split=10, n_estimators=100; total time=   0.4s\n",
      "[CV 4/5] END max_depth=8, min_samples_leaf=10, min_samples_split=10, n_estimators=100; total time=   0.4s\n",
      "[CV 5/5] END max_depth=8, min_samples_leaf=10, min_samples_split=10, n_estimators=100; total time=   0.4s\n",
      "\n",
      "{'max_depth': 8, 'min_samples_leaf': 2, 'min_samples_split': 2, 'n_estimators': 100}\n",
      "0.8547660054782128\n"
     ]
    }
   ],
   "source": [
    "rfc = RandomForestClassifier(random_state=12345) \n",
    "skf = StratifiedKFold(5)\n",
    "skf.get_n_splits(features_train_ohe, target_train)\n",
    "\n",
    "\n",
    "param_grid = { \n",
    "    'max_depth': [3,5,8],\n",
    "    'min_samples_leaf': [2,6,10],\n",
    "    'min_samples_split': [2,6,10],\n",
    "    'n_estimators': [50,100]\n",
    "\n",
    "}\n",
    "\n",
    "CV_rfc_ohe = GridSearchCV(estimator=rfc, param_grid=param_grid, cv= skf, scoring = 'roc_auc', verbose = 3) \n",
    "CV_rfc_ohe.fit(features_train_ohe, target_train)\n",
    "print()\n",
    "print(CV_rfc_ohe.best_params_)\n",
    "print(CV_rfc_ohe.best_score_)"
   ]
  },
  {
   "cell_type": "code",
   "execution_count": 17,
   "metadata": {},
   "outputs": [
    {
     "name": "stdout",
     "output_type": "stream",
     "text": [
      "accuracy: 0.86\n",
      "f1: 0.5354730795841994\n",
      "precision: 0.8281689937258655\n",
      "recall: 0.3982368685178989\n"
     ]
    }
   ],
   "source": [
    "model_rfc = CV_rfc_ohe.best_estimator_\n",
    "metrics(model_rfc)  "
   ]
  },
  {
   "cell_type": "markdown",
   "metadata": {},
   "source": [
    "У леса выросла правильность и AUC-ROC, но качество упало."
   ]
  },
  {
   "cell_type": "markdown",
   "metadata": {},
   "source": [
    "### Logistic Regression"
   ]
  },
  {
   "cell_type": "code",
   "execution_count": 18,
   "metadata": {},
   "outputs": [
    {
     "data": {
      "text/plain": [
       "LogisticRegression(max_iter=10000, random_state=12345, solver='liblinear')"
      ]
     },
     "execution_count": 18,
     "metadata": {},
     "output_type": "execute_result"
    }
   ],
   "source": [
    "model_lr = LogisticRegression(random_state=12345, solver='liblinear', max_iter=10000)\n",
    "model_lr.fit(features_train_ohe, target_train)"
   ]
  },
  {
   "cell_type": "code",
   "execution_count": 19,
   "metadata": {},
   "outputs": [
    {
     "name": "stdout",
     "output_type": "stream",
     "text": [
      "accuracy: 0.8116666666666668\n",
      "f1: 0.3039191531221337\n",
      "precision: 0.6155610898506507\n",
      "recall: 0.20196052191368352\n"
     ]
    }
   ],
   "source": [
    "metrics(model_lr)  "
   ]
  },
  {
   "cell_type": "markdown",
   "metadata": {},
   "source": [
    "Самая слабая модель по всем метрикам."
   ]
  },
  {
   "cell_type": "markdown",
   "metadata": {},
   "source": [
    "### Вывод"
   ]
  },
  {
   "cell_type": "markdown",
   "metadata": {},
   "source": [
    "Мы: \n",
    "1. Выяснили, что деревья лучше обучаются на наших данных, закодированных методом OHE;\n",
    "2. Обучили три модели:\n",
    "- Лучшее дерево с гиперпараметрами: максимальная глубина - 7, минимальное количество объектов в листе 9, минимальное количество объектов в промежуточном узле 2, которое дало F1 = 0.55;\n",
    "- Лучший лес с гиперпараметрами: максимальная глубина - 8, минимальное количество объектов в листе 2, минимальное количество объектов в промежуточном узле 2, 100 деревьев. F1 незначительно ниже, чем у дерева - примерно на процент, но лес меньше \"переусердствует\", чем дерево.\n",
    "- Линейная регрессия, которая проявила себя хуже первых двух моделей."
   ]
  },
  {
   "cell_type": "markdown",
   "metadata": {},
   "source": [
    "## Борьба с дисбалансом"
   ]
  },
  {
   "cell_type": "markdown",
   "metadata": {},
   "source": [
    "Теперь попробуем сбалансировать веса классов и снова обучить модели:"
   ]
  },
  {
   "cell_type": "markdown",
   "metadata": {},
   "source": [
    "### Decision Tree "
   ]
  },
  {
   "cell_type": "code",
   "execution_count": 20,
   "metadata": {},
   "outputs": [
    {
     "name": "stdout",
     "output_type": "stream",
     "text": [
      "Fitting 5 folds for each of 27 candidates, totalling 135 fits\n",
      "[CV 1/5] END max_depth=3, min_samples_leaf=2, min_samples_split=2; total time=   0.1s\n",
      "[CV 2/5] END max_depth=3, min_samples_leaf=2, min_samples_split=2; total time=   0.0s\n",
      "[CV 3/5] END max_depth=3, min_samples_leaf=2, min_samples_split=2; total time=   0.0s\n",
      "[CV 4/5] END max_depth=3, min_samples_leaf=2, min_samples_split=2; total time=   0.0s\n",
      "[CV 5/5] END max_depth=3, min_samples_leaf=2, min_samples_split=2; total time=   0.0s\n",
      "[CV 1/5] END max_depth=3, min_samples_leaf=2, min_samples_split=6; total time=   0.0s\n",
      "[CV 2/5] END max_depth=3, min_samples_leaf=2, min_samples_split=6; total time=   0.0s\n",
      "[CV 3/5] END max_depth=3, min_samples_leaf=2, min_samples_split=6; total time=   0.0s\n",
      "[CV 4/5] END max_depth=3, min_samples_leaf=2, min_samples_split=6; total time=   0.0s\n",
      "[CV 5/5] END max_depth=3, min_samples_leaf=2, min_samples_split=6; total time=   0.0s\n",
      "[CV 1/5] END max_depth=3, min_samples_leaf=2, min_samples_split=10; total time=   0.0s\n",
      "[CV 2/5] END max_depth=3, min_samples_leaf=2, min_samples_split=10; total time=   0.0s\n",
      "[CV 3/5] END max_depth=3, min_samples_leaf=2, min_samples_split=10; total time=   0.0s\n",
      "[CV 4/5] END max_depth=3, min_samples_leaf=2, min_samples_split=10; total time=   0.0s\n",
      "[CV 5/5] END max_depth=3, min_samples_leaf=2, min_samples_split=10; total time=   0.0s\n",
      "[CV 1/5] END max_depth=3, min_samples_leaf=6, min_samples_split=2; total time=   0.0s\n",
      "[CV 2/5] END max_depth=3, min_samples_leaf=6, min_samples_split=2; total time=   0.0s\n",
      "[CV 3/5] END max_depth=3, min_samples_leaf=6, min_samples_split=2; total time=   0.0s\n",
      "[CV 4/5] END max_depth=3, min_samples_leaf=6, min_samples_split=2; total time=   0.0s\n",
      "[CV 5/5] END max_depth=3, min_samples_leaf=6, min_samples_split=2; total time=   0.0s\n",
      "[CV 1/5] END max_depth=3, min_samples_leaf=6, min_samples_split=6; total time=   0.0s\n",
      "[CV 2/5] END max_depth=3, min_samples_leaf=6, min_samples_split=6; total time=   0.0s\n",
      "[CV 3/5] END max_depth=3, min_samples_leaf=6, min_samples_split=6; total time=   0.0s\n",
      "[CV 4/5] END max_depth=3, min_samples_leaf=6, min_samples_split=6; total time=   0.0s\n",
      "[CV 5/5] END max_depth=3, min_samples_leaf=6, min_samples_split=6; total time=   0.0s\n",
      "[CV 1/5] END max_depth=3, min_samples_leaf=6, min_samples_split=10; total time=   0.0s\n",
      "[CV 2/5] END max_depth=3, min_samples_leaf=6, min_samples_split=10; total time=   0.0s\n",
      "[CV 3/5] END max_depth=3, min_samples_leaf=6, min_samples_split=10; total time=   0.0s\n",
      "[CV 4/5] END max_depth=3, min_samples_leaf=6, min_samples_split=10; total time=   0.0s\n",
      "[CV 5/5] END max_depth=3, min_samples_leaf=6, min_samples_split=10; total time=   0.0s\n",
      "[CV 1/5] END max_depth=3, min_samples_leaf=10, min_samples_split=2; total time=   0.0s\n",
      "[CV 2/5] END max_depth=3, min_samples_leaf=10, min_samples_split=2; total time=   0.0s\n",
      "[CV 3/5] END max_depth=3, min_samples_leaf=10, min_samples_split=2; total time=   0.0s\n",
      "[CV 4/5] END max_depth=3, min_samples_leaf=10, min_samples_split=2; total time=   0.0s\n",
      "[CV 5/5] END max_depth=3, min_samples_leaf=10, min_samples_split=2; total time=   0.0s\n",
      "[CV 1/5] END max_depth=3, min_samples_leaf=10, min_samples_split=6; total time=   0.0s\n",
      "[CV 2/5] END max_depth=3, min_samples_leaf=10, min_samples_split=6; total time=   0.0s\n",
      "[CV 3/5] END max_depth=3, min_samples_leaf=10, min_samples_split=6; total time=   0.0s\n",
      "[CV 4/5] END max_depth=3, min_samples_leaf=10, min_samples_split=6; total time=   0.0s\n",
      "[CV 5/5] END max_depth=3, min_samples_leaf=10, min_samples_split=6; total time=   0.0s\n",
      "[CV 1/5] END max_depth=3, min_samples_leaf=10, min_samples_split=10; total time=   0.0s\n",
      "[CV 2/5] END max_depth=3, min_samples_leaf=10, min_samples_split=10; total time=   0.0s\n",
      "[CV 3/5] END max_depth=3, min_samples_leaf=10, min_samples_split=10; total time=   0.0s\n",
      "[CV 4/5] END max_depth=3, min_samples_leaf=10, min_samples_split=10; total time=   0.0s\n",
      "[CV 5/5] END max_depth=3, min_samples_leaf=10, min_samples_split=10; total time=   0.0s\n",
      "[CV 1/5] END max_depth=5, min_samples_leaf=2, min_samples_split=2; total time=   0.0s\n",
      "[CV 2/5] END max_depth=5, min_samples_leaf=2, min_samples_split=2; total time=   0.0s\n",
      "[CV 3/5] END max_depth=5, min_samples_leaf=2, min_samples_split=2; total time=   0.0s\n",
      "[CV 4/5] END max_depth=5, min_samples_leaf=2, min_samples_split=2; total time=   0.0s\n",
      "[CV 5/5] END max_depth=5, min_samples_leaf=2, min_samples_split=2; total time=   0.0s\n",
      "[CV 1/5] END max_depth=5, min_samples_leaf=2, min_samples_split=6; total time=   0.0s\n",
      "[CV 2/5] END max_depth=5, min_samples_leaf=2, min_samples_split=6; total time=   0.0s\n",
      "[CV 3/5] END max_depth=5, min_samples_leaf=2, min_samples_split=6; total time=   0.0s\n",
      "[CV 4/5] END max_depth=5, min_samples_leaf=2, min_samples_split=6; total time=   0.0s\n",
      "[CV 5/5] END max_depth=5, min_samples_leaf=2, min_samples_split=6; total time=   0.0s\n",
      "[CV 1/5] END max_depth=5, min_samples_leaf=2, min_samples_split=10; total time=   0.0s\n",
      "[CV 2/5] END max_depth=5, min_samples_leaf=2, min_samples_split=10; total time=   0.0s\n",
      "[CV 3/5] END max_depth=5, min_samples_leaf=2, min_samples_split=10; total time=   0.0s\n",
      "[CV 4/5] END max_depth=5, min_samples_leaf=2, min_samples_split=10; total time=   0.0s\n",
      "[CV 5/5] END max_depth=5, min_samples_leaf=2, min_samples_split=10; total time=   0.0s\n",
      "[CV 1/5] END max_depth=5, min_samples_leaf=6, min_samples_split=2; total time=   0.0s\n",
      "[CV 2/5] END max_depth=5, min_samples_leaf=6, min_samples_split=2; total time=   0.0s\n",
      "[CV 3/5] END max_depth=5, min_samples_leaf=6, min_samples_split=2; total time=   0.0s\n",
      "[CV 4/5] END max_depth=5, min_samples_leaf=6, min_samples_split=2; total time=   0.0s\n",
      "[CV 5/5] END max_depth=5, min_samples_leaf=6, min_samples_split=2; total time=   0.0s\n",
      "[CV 1/5] END max_depth=5, min_samples_leaf=6, min_samples_split=6; total time=   0.0s\n",
      "[CV 2/5] END max_depth=5, min_samples_leaf=6, min_samples_split=6; total time=   0.0s\n",
      "[CV 3/5] END max_depth=5, min_samples_leaf=6, min_samples_split=6; total time=   0.0s\n",
      "[CV 4/5] END max_depth=5, min_samples_leaf=6, min_samples_split=6; total time=   0.0s\n",
      "[CV 5/5] END max_depth=5, min_samples_leaf=6, min_samples_split=6; total time=   0.0s\n",
      "[CV 1/5] END max_depth=5, min_samples_leaf=6, min_samples_split=10; total time=   0.0s\n",
      "[CV 2/5] END max_depth=5, min_samples_leaf=6, min_samples_split=10; total time=   0.0s\n",
      "[CV 3/5] END max_depth=5, min_samples_leaf=6, min_samples_split=10; total time=   0.0s\n",
      "[CV 4/5] END max_depth=5, min_samples_leaf=6, min_samples_split=10; total time=   0.0s\n",
      "[CV 5/5] END max_depth=5, min_samples_leaf=6, min_samples_split=10; total time=   0.0s\n",
      "[CV 1/5] END max_depth=5, min_samples_leaf=10, min_samples_split=2; total time=   0.0s\n",
      "[CV 2/5] END max_depth=5, min_samples_leaf=10, min_samples_split=2; total time=   0.0s\n",
      "[CV 3/5] END max_depth=5, min_samples_leaf=10, min_samples_split=2; total time=   0.0s\n",
      "[CV 4/5] END max_depth=5, min_samples_leaf=10, min_samples_split=2; total time=   0.0s\n",
      "[CV 5/5] END max_depth=5, min_samples_leaf=10, min_samples_split=2; total time=   0.0s\n",
      "[CV 1/5] END max_depth=5, min_samples_leaf=10, min_samples_split=6; total time=   0.0s\n",
      "[CV 2/5] END max_depth=5, min_samples_leaf=10, min_samples_split=6; total time=   0.0s\n",
      "[CV 3/5] END max_depth=5, min_samples_leaf=10, min_samples_split=6; total time=   0.0s\n",
      "[CV 4/5] END max_depth=5, min_samples_leaf=10, min_samples_split=6; total time=   0.0s\n",
      "[CV 5/5] END max_depth=5, min_samples_leaf=10, min_samples_split=6; total time=   0.0s\n",
      "[CV 1/5] END max_depth=5, min_samples_leaf=10, min_samples_split=10; total time=   0.0s\n",
      "[CV 2/5] END max_depth=5, min_samples_leaf=10, min_samples_split=10; total time=   0.0s\n",
      "[CV 3/5] END max_depth=5, min_samples_leaf=10, min_samples_split=10; total time=   0.0s\n",
      "[CV 4/5] END max_depth=5, min_samples_leaf=10, min_samples_split=10; total time=   0.0s\n",
      "[CV 5/5] END max_depth=5, min_samples_leaf=10, min_samples_split=10; total time=   0.0s\n",
      "[CV 1/5] END max_depth=8, min_samples_leaf=2, min_samples_split=2; total time=   0.0s\n",
      "[CV 2/5] END max_depth=8, min_samples_leaf=2, min_samples_split=2; total time=   0.0s\n",
      "[CV 3/5] END max_depth=8, min_samples_leaf=2, min_samples_split=2; total time=   0.0s\n",
      "[CV 4/5] END max_depth=8, min_samples_leaf=2, min_samples_split=2; total time=   0.0s\n",
      "[CV 5/5] END max_depth=8, min_samples_leaf=2, min_samples_split=2; total time=   0.0s\n",
      "[CV 1/5] END max_depth=8, min_samples_leaf=2, min_samples_split=6; total time=   0.0s\n",
      "[CV 2/5] END max_depth=8, min_samples_leaf=2, min_samples_split=6; total time=   0.0s\n",
      "[CV 3/5] END max_depth=8, min_samples_leaf=2, min_samples_split=6; total time=   0.0s\n",
      "[CV 4/5] END max_depth=8, min_samples_leaf=2, min_samples_split=6; total time=   0.0s\n",
      "[CV 5/5] END max_depth=8, min_samples_leaf=2, min_samples_split=6; total time=   0.0s\n",
      "[CV 1/5] END max_depth=8, min_samples_leaf=2, min_samples_split=10; total time=   0.0s\n",
      "[CV 2/5] END max_depth=8, min_samples_leaf=2, min_samples_split=10; total time=   0.0s\n",
      "[CV 3/5] END max_depth=8, min_samples_leaf=2, min_samples_split=10; total time=   0.0s\n",
      "[CV 4/5] END max_depth=8, min_samples_leaf=2, min_samples_split=10; total time=   0.0s\n",
      "[CV 5/5] END max_depth=8, min_samples_leaf=2, min_samples_split=10; total time=   0.0s\n",
      "[CV 1/5] END max_depth=8, min_samples_leaf=6, min_samples_split=2; total time=   0.0s\n",
      "[CV 2/5] END max_depth=8, min_samples_leaf=6, min_samples_split=2; total time=   0.0s\n",
      "[CV 3/5] END max_depth=8, min_samples_leaf=6, min_samples_split=2; total time=   0.0s\n",
      "[CV 4/5] END max_depth=8, min_samples_leaf=6, min_samples_split=2; total time=   0.0s\n",
      "[CV 5/5] END max_depth=8, min_samples_leaf=6, min_samples_split=2; total time=   0.0s\n",
      "[CV 1/5] END max_depth=8, min_samples_leaf=6, min_samples_split=6; total time=   0.0s\n",
      "[CV 2/5] END max_depth=8, min_samples_leaf=6, min_samples_split=6; total time=   0.0s\n",
      "[CV 3/5] END max_depth=8, min_samples_leaf=6, min_samples_split=6; total time=   0.0s\n",
      "[CV 4/5] END max_depth=8, min_samples_leaf=6, min_samples_split=6; total time=   0.0s\n",
      "[CV 5/5] END max_depth=8, min_samples_leaf=6, min_samples_split=6; total time=   0.0s\n",
      "[CV 1/5] END max_depth=8, min_samples_leaf=6, min_samples_split=10; total time=   0.0s\n",
      "[CV 2/5] END max_depth=8, min_samples_leaf=6, min_samples_split=10; total time=   0.0s\n",
      "[CV 3/5] END max_depth=8, min_samples_leaf=6, min_samples_split=10; total time=   0.0s\n",
      "[CV 4/5] END max_depth=8, min_samples_leaf=6, min_samples_split=10; total time=   0.0s\n",
      "[CV 5/5] END max_depth=8, min_samples_leaf=6, min_samples_split=10; total time=   0.0s\n",
      "[CV 1/5] END max_depth=8, min_samples_leaf=10, min_samples_split=2; total time=   0.0s\n",
      "[CV 2/5] END max_depth=8, min_samples_leaf=10, min_samples_split=2; total time=   0.0s\n",
      "[CV 3/5] END max_depth=8, min_samples_leaf=10, min_samples_split=2; total time=   0.0s\n",
      "[CV 4/5] END max_depth=8, min_samples_leaf=10, min_samples_split=2; total time=   0.0s\n",
      "[CV 5/5] END max_depth=8, min_samples_leaf=10, min_samples_split=2; total time=   0.0s\n",
      "[CV 1/5] END max_depth=8, min_samples_leaf=10, min_samples_split=6; total time=   0.0s\n",
      "[CV 2/5] END max_depth=8, min_samples_leaf=10, min_samples_split=6; total time=   0.0s\n",
      "[CV 3/5] END max_depth=8, min_samples_leaf=10, min_samples_split=6; total time=   0.0s\n",
      "[CV 4/5] END max_depth=8, min_samples_leaf=10, min_samples_split=6; total time=   0.0s\n",
      "[CV 5/5] END max_depth=8, min_samples_leaf=10, min_samples_split=6; total time=   0.0s\n",
      "[CV 1/5] END max_depth=8, min_samples_leaf=10, min_samples_split=10; total time=   0.0s\n",
      "[CV 2/5] END max_depth=8, min_samples_leaf=10, min_samples_split=10; total time=   0.0s\n",
      "[CV 3/5] END max_depth=8, min_samples_leaf=10, min_samples_split=10; total time=   0.0s\n",
      "[CV 4/5] END max_depth=8, min_samples_leaf=10, min_samples_split=10; total time=   0.0s\n",
      "[CV 5/5] END max_depth=8, min_samples_leaf=10, min_samples_split=10; total time=   0.0s\n",
      "\n",
      "{'max_depth': 5, 'min_samples_leaf': 10, 'min_samples_split': 2}\n",
      "0.8345203919973944\n"
     ]
    }
   ],
   "source": [
    "dtc = DecisionTreeClassifier(random_state=12345, class_weight='balanced') \n",
    "skf = StratifiedKFold(5)\n",
    "skf.get_n_splits(features_train_ohe, target_train)\n",
    "\n",
    "\n",
    "param_grid = { \n",
    "    'max_depth': [3,5,8],\n",
    "    'min_samples_leaf': [2,6,10],\n",
    "    'min_samples_split': [2,6,10]\n",
    "\n",
    "}\n",
    "\n",
    "CV_dtc_ohe = GridSearchCV(estimator=dtc, param_grid=param_grid, \n",
    "                          cv= skf, scoring = 'roc_auc', verbose = 3) \n",
    "CV_dtc_ohe.fit(features_train_ohe, target_train)\n",
    "print()\n",
    "print(CV_dtc_ohe.best_params_)\n",
    "print(CV_dtc_ohe.best_score_)"
   ]
  },
  {
   "cell_type": "code",
   "execution_count": 21,
   "metadata": {},
   "outputs": [
    {
     "name": "stdout",
     "output_type": "stream",
     "text": [
      "accuracy: 0.7616666666666666\n",
      "f1: 0.5597373063456969\n",
      "precision: 0.4500377712707494\n",
      "recall: 0.7432920709267313\n"
     ]
    }
   ],
   "source": [
    "model_dtc_balanced = CV_dtc_ohe.best_estimator_\n",
    "metrics(model_dtc_balanced) "
   ]
  },
  {
   "cell_type": "markdown",
   "metadata": {},
   "source": [
    "### Random Forest"
   ]
  },
  {
   "cell_type": "code",
   "execution_count": 22,
   "metadata": {},
   "outputs": [
    {
     "name": "stdout",
     "output_type": "stream",
     "text": [
      "Fitting 5 folds for each of 54 candidates, totalling 270 fits\n",
      "[CV 1/5] END max_depth=3, min_samples_leaf=2, min_samples_split=2, n_estimators=50; total time=   0.1s\n",
      "[CV 2/5] END max_depth=3, min_samples_leaf=2, min_samples_split=2, n_estimators=50; total time=   0.1s\n",
      "[CV 3/5] END max_depth=3, min_samples_leaf=2, min_samples_split=2, n_estimators=50; total time=   0.2s\n",
      "[CV 4/5] END max_depth=3, min_samples_leaf=2, min_samples_split=2, n_estimators=50; total time=   0.1s\n",
      "[CV 5/5] END max_depth=3, min_samples_leaf=2, min_samples_split=2, n_estimators=50; total time=   0.1s\n",
      "[CV 1/5] END max_depth=3, min_samples_leaf=2, min_samples_split=2, n_estimators=100; total time=   0.3s\n",
      "[CV 2/5] END max_depth=3, min_samples_leaf=2, min_samples_split=2, n_estimators=100; total time=   0.2s\n",
      "[CV 3/5] END max_depth=3, min_samples_leaf=2, min_samples_split=2, n_estimators=100; total time=   0.3s\n",
      "[CV 4/5] END max_depth=3, min_samples_leaf=2, min_samples_split=2, n_estimators=100; total time=   0.3s\n",
      "[CV 5/5] END max_depth=3, min_samples_leaf=2, min_samples_split=2, n_estimators=100; total time=   0.2s\n",
      "[CV 1/5] END max_depth=3, min_samples_leaf=2, min_samples_split=6, n_estimators=50; total time=   0.1s\n",
      "[CV 2/5] END max_depth=3, min_samples_leaf=2, min_samples_split=6, n_estimators=50; total time=   0.1s\n",
      "[CV 3/5] END max_depth=3, min_samples_leaf=2, min_samples_split=6, n_estimators=50; total time=   0.1s\n",
      "[CV 4/5] END max_depth=3, min_samples_leaf=2, min_samples_split=6, n_estimators=50; total time=   0.1s\n",
      "[CV 5/5] END max_depth=3, min_samples_leaf=2, min_samples_split=6, n_estimators=50; total time=   0.1s\n",
      "[CV 1/5] END max_depth=3, min_samples_leaf=2, min_samples_split=6, n_estimators=100; total time=   0.3s\n",
      "[CV 2/5] END max_depth=3, min_samples_leaf=2, min_samples_split=6, n_estimators=100; total time=   0.3s\n",
      "[CV 3/5] END max_depth=3, min_samples_leaf=2, min_samples_split=6, n_estimators=100; total time=   0.3s\n",
      "[CV 4/5] END max_depth=3, min_samples_leaf=2, min_samples_split=6, n_estimators=100; total time=   0.3s\n",
      "[CV 5/5] END max_depth=3, min_samples_leaf=2, min_samples_split=6, n_estimators=100; total time=   0.3s\n",
      "[CV 1/5] END max_depth=3, min_samples_leaf=2, min_samples_split=10, n_estimators=50; total time=   0.1s\n",
      "[CV 2/5] END max_depth=3, min_samples_leaf=2, min_samples_split=10, n_estimators=50; total time=   0.1s\n",
      "[CV 3/5] END max_depth=3, min_samples_leaf=2, min_samples_split=10, n_estimators=50; total time=   0.1s\n",
      "[CV 4/5] END max_depth=3, min_samples_leaf=2, min_samples_split=10, n_estimators=50; total time=   0.1s\n",
      "[CV 5/5] END max_depth=3, min_samples_leaf=2, min_samples_split=10, n_estimators=50; total time=   0.1s\n",
      "[CV 1/5] END max_depth=3, min_samples_leaf=2, min_samples_split=10, n_estimators=100; total time=   0.3s\n",
      "[CV 2/5] END max_depth=3, min_samples_leaf=2, min_samples_split=10, n_estimators=100; total time=   0.3s\n",
      "[CV 3/5] END max_depth=3, min_samples_leaf=2, min_samples_split=10, n_estimators=100; total time=   0.3s\n",
      "[CV 4/5] END max_depth=3, min_samples_leaf=2, min_samples_split=10, n_estimators=100; total time=   0.3s\n",
      "[CV 5/5] END max_depth=3, min_samples_leaf=2, min_samples_split=10, n_estimators=100; total time=   0.2s\n",
      "[CV 1/5] END max_depth=3, min_samples_leaf=6, min_samples_split=2, n_estimators=50; total time=   0.1s\n",
      "[CV 2/5] END max_depth=3, min_samples_leaf=6, min_samples_split=2, n_estimators=50; total time=   0.1s\n",
      "[CV 3/5] END max_depth=3, min_samples_leaf=6, min_samples_split=2, n_estimators=50; total time=   0.1s\n",
      "[CV 4/5] END max_depth=3, min_samples_leaf=6, min_samples_split=2, n_estimators=50; total time=   0.2s\n",
      "[CV 5/5] END max_depth=3, min_samples_leaf=6, min_samples_split=2, n_estimators=50; total time=   0.2s\n",
      "[CV 1/5] END max_depth=3, min_samples_leaf=6, min_samples_split=2, n_estimators=100; total time=   0.3s\n",
      "[CV 2/5] END max_depth=3, min_samples_leaf=6, min_samples_split=2, n_estimators=100; total time=   0.2s\n",
      "[CV 3/5] END max_depth=3, min_samples_leaf=6, min_samples_split=2, n_estimators=100; total time=   0.3s\n",
      "[CV 4/5] END max_depth=3, min_samples_leaf=6, min_samples_split=2, n_estimators=100; total time=   0.3s\n",
      "[CV 5/5] END max_depth=3, min_samples_leaf=6, min_samples_split=2, n_estimators=100; total time=   0.3s\n",
      "[CV 1/5] END max_depth=3, min_samples_leaf=6, min_samples_split=6, n_estimators=50; total time=   0.1s\n",
      "[CV 2/5] END max_depth=3, min_samples_leaf=6, min_samples_split=6, n_estimators=50; total time=   0.1s\n",
      "[CV 3/5] END max_depth=3, min_samples_leaf=6, min_samples_split=6, n_estimators=50; total time=   0.1s\n",
      "[CV 4/5] END max_depth=3, min_samples_leaf=6, min_samples_split=6, n_estimators=50; total time=   0.1s\n",
      "[CV 5/5] END max_depth=3, min_samples_leaf=6, min_samples_split=6, n_estimators=50; total time=   0.1s\n",
      "[CV 1/5] END max_depth=3, min_samples_leaf=6, min_samples_split=6, n_estimators=100; total time=   0.3s\n",
      "[CV 2/5] END max_depth=3, min_samples_leaf=6, min_samples_split=6, n_estimators=100; total time=   0.3s\n",
      "[CV 3/5] END max_depth=3, min_samples_leaf=6, min_samples_split=6, n_estimators=100; total time=   0.3s\n",
      "[CV 4/5] END max_depth=3, min_samples_leaf=6, min_samples_split=6, n_estimators=100; total time=   0.3s\n",
      "[CV 5/5] END max_depth=3, min_samples_leaf=6, min_samples_split=6, n_estimators=100; total time=   0.3s\n",
      "[CV 1/5] END max_depth=3, min_samples_leaf=6, min_samples_split=10, n_estimators=50; total time=   0.1s\n",
      "[CV 2/5] END max_depth=3, min_samples_leaf=6, min_samples_split=10, n_estimators=50; total time=   0.1s\n",
      "[CV 3/5] END max_depth=3, min_samples_leaf=6, min_samples_split=10, n_estimators=50; total time=   0.1s\n",
      "[CV 4/5] END max_depth=3, min_samples_leaf=6, min_samples_split=10, n_estimators=50; total time=   0.1s\n",
      "[CV 5/5] END max_depth=3, min_samples_leaf=6, min_samples_split=10, n_estimators=50; total time=   0.1s\n",
      "[CV 1/5] END max_depth=3, min_samples_leaf=6, min_samples_split=10, n_estimators=100; total time=   0.3s\n",
      "[CV 2/5] END max_depth=3, min_samples_leaf=6, min_samples_split=10, n_estimators=100; total time=   0.3s\n",
      "[CV 3/5] END max_depth=3, min_samples_leaf=6, min_samples_split=10, n_estimators=100; total time=   0.3s\n",
      "[CV 4/5] END max_depth=3, min_samples_leaf=6, min_samples_split=10, n_estimators=100; total time=   0.3s\n",
      "[CV 5/5] END max_depth=3, min_samples_leaf=6, min_samples_split=10, n_estimators=100; total time=   0.3s\n",
      "[CV 1/5] END max_depth=3, min_samples_leaf=10, min_samples_split=2, n_estimators=50; total time=   0.1s\n",
      "[CV 2/5] END max_depth=3, min_samples_leaf=10, min_samples_split=2, n_estimators=50; total time=   0.1s\n",
      "[CV 3/5] END max_depth=3, min_samples_leaf=10, min_samples_split=2, n_estimators=50; total time=   0.1s\n",
      "[CV 4/5] END max_depth=3, min_samples_leaf=10, min_samples_split=2, n_estimators=50; total time=   0.1s\n",
      "[CV 5/5] END max_depth=3, min_samples_leaf=10, min_samples_split=2, n_estimators=50; total time=   0.1s\n",
      "[CV 1/5] END max_depth=3, min_samples_leaf=10, min_samples_split=2, n_estimators=100; total time=   0.3s\n",
      "[CV 2/5] END max_depth=3, min_samples_leaf=10, min_samples_split=2, n_estimators=100; total time=   0.3s\n",
      "[CV 3/5] END max_depth=3, min_samples_leaf=10, min_samples_split=2, n_estimators=100; total time=   0.3s\n",
      "[CV 4/5] END max_depth=3, min_samples_leaf=10, min_samples_split=2, n_estimators=100; total time=   0.3s\n",
      "[CV 5/5] END max_depth=3, min_samples_leaf=10, min_samples_split=2, n_estimators=100; total time=   0.3s\n",
      "[CV 1/5] END max_depth=3, min_samples_leaf=10, min_samples_split=6, n_estimators=50; total time=   0.2s\n",
      "[CV 2/5] END max_depth=3, min_samples_leaf=10, min_samples_split=6, n_estimators=50; total time=   0.1s\n",
      "[CV 3/5] END max_depth=3, min_samples_leaf=10, min_samples_split=6, n_estimators=50; total time=   0.1s\n",
      "[CV 4/5] END max_depth=3, min_samples_leaf=10, min_samples_split=6, n_estimators=50; total time=   0.1s\n",
      "[CV 5/5] END max_depth=3, min_samples_leaf=10, min_samples_split=6, n_estimators=50; total time=   0.1s\n",
      "[CV 1/5] END max_depth=3, min_samples_leaf=10, min_samples_split=6, n_estimators=100; total time=   0.3s\n",
      "[CV 2/5] END max_depth=3, min_samples_leaf=10, min_samples_split=6, n_estimators=100; total time=   0.3s\n",
      "[CV 3/5] END max_depth=3, min_samples_leaf=10, min_samples_split=6, n_estimators=100; total time=   0.2s\n",
      "[CV 4/5] END max_depth=3, min_samples_leaf=10, min_samples_split=6, n_estimators=100; total time=   0.3s\n",
      "[CV 5/5] END max_depth=3, min_samples_leaf=10, min_samples_split=6, n_estimators=100; total time=   0.2s\n",
      "[CV 1/5] END max_depth=3, min_samples_leaf=10, min_samples_split=10, n_estimators=50; total time=   0.1s\n",
      "[CV 2/5] END max_depth=3, min_samples_leaf=10, min_samples_split=10, n_estimators=50; total time=   0.1s\n",
      "[CV 3/5] END max_depth=3, min_samples_leaf=10, min_samples_split=10, n_estimators=50; total time=   0.1s\n",
      "[CV 4/5] END max_depth=3, min_samples_leaf=10, min_samples_split=10, n_estimators=50; total time=   0.1s\n",
      "[CV 5/5] END max_depth=3, min_samples_leaf=10, min_samples_split=10, n_estimators=50; total time=   0.2s\n",
      "[CV 1/5] END max_depth=3, min_samples_leaf=10, min_samples_split=10, n_estimators=100; total time=   0.3s\n",
      "[CV 2/5] END max_depth=3, min_samples_leaf=10, min_samples_split=10, n_estimators=100; total time=   0.3s\n",
      "[CV 3/5] END max_depth=3, min_samples_leaf=10, min_samples_split=10, n_estimators=100; total time=   0.3s\n",
      "[CV 4/5] END max_depth=3, min_samples_leaf=10, min_samples_split=10, n_estimators=100; total time=   0.3s\n",
      "[CV 5/5] END max_depth=3, min_samples_leaf=10, min_samples_split=10, n_estimators=100; total time=   0.3s\n",
      "[CV 1/5] END max_depth=5, min_samples_leaf=2, min_samples_split=2, n_estimators=50; total time=   0.2s\n",
      "[CV 2/5] END max_depth=5, min_samples_leaf=2, min_samples_split=2, n_estimators=50; total time=   0.2s\n",
      "[CV 3/5] END max_depth=5, min_samples_leaf=2, min_samples_split=2, n_estimators=50; total time=   0.2s\n",
      "[CV 4/5] END max_depth=5, min_samples_leaf=2, min_samples_split=2, n_estimators=50; total time=   0.2s\n",
      "[CV 5/5] END max_depth=5, min_samples_leaf=2, min_samples_split=2, n_estimators=50; total time=   0.2s\n",
      "[CV 1/5] END max_depth=5, min_samples_leaf=2, min_samples_split=2, n_estimators=100; total time=   0.3s\n",
      "[CV 2/5] END max_depth=5, min_samples_leaf=2, min_samples_split=2, n_estimators=100; total time=   0.3s\n",
      "[CV 3/5] END max_depth=5, min_samples_leaf=2, min_samples_split=2, n_estimators=100; total time=   0.3s\n",
      "[CV 4/5] END max_depth=5, min_samples_leaf=2, min_samples_split=2, n_estimators=100; total time=   0.3s\n",
      "[CV 5/5] END max_depth=5, min_samples_leaf=2, min_samples_split=2, n_estimators=100; total time=   0.3s\n",
      "[CV 1/5] END max_depth=5, min_samples_leaf=2, min_samples_split=6, n_estimators=50; total time=   0.2s\n",
      "[CV 2/5] END max_depth=5, min_samples_leaf=2, min_samples_split=6, n_estimators=50; total time=   0.2s\n",
      "[CV 3/5] END max_depth=5, min_samples_leaf=2, min_samples_split=6, n_estimators=50; total time=   0.2s\n",
      "[CV 4/5] END max_depth=5, min_samples_leaf=2, min_samples_split=6, n_estimators=50; total time=   0.2s\n",
      "[CV 5/5] END max_depth=5, min_samples_leaf=2, min_samples_split=6, n_estimators=50; total time=   0.2s\n",
      "[CV 1/5] END max_depth=5, min_samples_leaf=2, min_samples_split=6, n_estimators=100; total time=   0.3s\n",
      "[CV 2/5] END max_depth=5, min_samples_leaf=2, min_samples_split=6, n_estimators=100; total time=   0.3s\n",
      "[CV 3/5] END max_depth=5, min_samples_leaf=2, min_samples_split=6, n_estimators=100; total time=   0.3s\n",
      "[CV 4/5] END max_depth=5, min_samples_leaf=2, min_samples_split=6, n_estimators=100; total time=   0.3s\n",
      "[CV 5/5] END max_depth=5, min_samples_leaf=2, min_samples_split=6, n_estimators=100; total time=   0.3s\n",
      "[CV 1/5] END max_depth=5, min_samples_leaf=2, min_samples_split=10, n_estimators=50; total time=   0.2s\n",
      "[CV 2/5] END max_depth=5, min_samples_leaf=2, min_samples_split=10, n_estimators=50; total time=   0.2s\n",
      "[CV 3/5] END max_depth=5, min_samples_leaf=2, min_samples_split=10, n_estimators=50; total time=   0.2s\n",
      "[CV 4/5] END max_depth=5, min_samples_leaf=2, min_samples_split=10, n_estimators=50; total time=   0.2s\n",
      "[CV 5/5] END max_depth=5, min_samples_leaf=2, min_samples_split=10, n_estimators=50; total time=   0.2s\n",
      "[CV 1/5] END max_depth=5, min_samples_leaf=2, min_samples_split=10, n_estimators=100; total time=   0.3s\n",
      "[CV 2/5] END max_depth=5, min_samples_leaf=2, min_samples_split=10, n_estimators=100; total time=   0.3s\n",
      "[CV 3/5] END max_depth=5, min_samples_leaf=2, min_samples_split=10, n_estimators=100; total time=   0.3s\n",
      "[CV 4/5] END max_depth=5, min_samples_leaf=2, min_samples_split=10, n_estimators=100; total time=   0.3s\n",
      "[CV 5/5] END max_depth=5, min_samples_leaf=2, min_samples_split=10, n_estimators=100; total time=   0.3s\n",
      "[CV 1/5] END max_depth=5, min_samples_leaf=6, min_samples_split=2, n_estimators=50; total time=   0.2s\n",
      "[CV 2/5] END max_depth=5, min_samples_leaf=6, min_samples_split=2, n_estimators=50; total time=   0.2s\n",
      "[CV 3/5] END max_depth=5, min_samples_leaf=6, min_samples_split=2, n_estimators=50; total time=   0.2s\n",
      "[CV 4/5] END max_depth=5, min_samples_leaf=6, min_samples_split=2, n_estimators=50; total time=   0.2s\n",
      "[CV 5/5] END max_depth=5, min_samples_leaf=6, min_samples_split=2, n_estimators=50; total time=   0.2s\n",
      "[CV 1/5] END max_depth=5, min_samples_leaf=6, min_samples_split=2, n_estimators=100; total time=   0.3s\n",
      "[CV 2/5] END max_depth=5, min_samples_leaf=6, min_samples_split=2, n_estimators=100; total time=   0.4s\n",
      "[CV 3/5] END max_depth=5, min_samples_leaf=6, min_samples_split=2, n_estimators=100; total time=   0.3s\n",
      "[CV 4/5] END max_depth=5, min_samples_leaf=6, min_samples_split=2, n_estimators=100; total time=   0.3s\n",
      "[CV 5/5] END max_depth=5, min_samples_leaf=6, min_samples_split=2, n_estimators=100; total time=   0.4s\n",
      "[CV 1/5] END max_depth=5, min_samples_leaf=6, min_samples_split=6, n_estimators=50; total time=   0.2s\n",
      "[CV 2/5] END max_depth=5, min_samples_leaf=6, min_samples_split=6, n_estimators=50; total time=   0.2s\n",
      "[CV 3/5] END max_depth=5, min_samples_leaf=6, min_samples_split=6, n_estimators=50; total time=   0.2s\n",
      "[CV 4/5] END max_depth=5, min_samples_leaf=6, min_samples_split=6, n_estimators=50; total time=   0.2s\n",
      "[CV 5/5] END max_depth=5, min_samples_leaf=6, min_samples_split=6, n_estimators=50; total time=   0.2s\n",
      "[CV 1/5] END max_depth=5, min_samples_leaf=6, min_samples_split=6, n_estimators=100; total time=   0.3s\n",
      "[CV 2/5] END max_depth=5, min_samples_leaf=6, min_samples_split=6, n_estimators=100; total time=   0.3s\n",
      "[CV 3/5] END max_depth=5, min_samples_leaf=6, min_samples_split=6, n_estimators=100; total time=   0.3s\n",
      "[CV 4/5] END max_depth=5, min_samples_leaf=6, min_samples_split=6, n_estimators=100; total time=   0.3s\n",
      "[CV 5/5] END max_depth=5, min_samples_leaf=6, min_samples_split=6, n_estimators=100; total time=   0.3s\n",
      "[CV 1/5] END max_depth=5, min_samples_leaf=6, min_samples_split=10, n_estimators=50; total time=   0.2s\n",
      "[CV 2/5] END max_depth=5, min_samples_leaf=6, min_samples_split=10, n_estimators=50; total time=   0.2s\n",
      "[CV 3/5] END max_depth=5, min_samples_leaf=6, min_samples_split=10, n_estimators=50; total time=   0.2s\n",
      "[CV 4/5] END max_depth=5, min_samples_leaf=6, min_samples_split=10, n_estimators=50; total time=   0.2s\n",
      "[CV 5/5] END max_depth=5, min_samples_leaf=6, min_samples_split=10, n_estimators=50; total time=   0.2s\n",
      "[CV 1/5] END max_depth=5, min_samples_leaf=6, min_samples_split=10, n_estimators=100; total time=   0.3s\n",
      "[CV 2/5] END max_depth=5, min_samples_leaf=6, min_samples_split=10, n_estimators=100; total time=   0.3s\n",
      "[CV 3/5] END max_depth=5, min_samples_leaf=6, min_samples_split=10, n_estimators=100; total time=   0.3s\n",
      "[CV 4/5] END max_depth=5, min_samples_leaf=6, min_samples_split=10, n_estimators=100; total time=   0.3s\n",
      "[CV 5/5] END max_depth=5, min_samples_leaf=6, min_samples_split=10, n_estimators=100; total time=   0.3s\n",
      "[CV 1/5] END max_depth=5, min_samples_leaf=10, min_samples_split=2, n_estimators=50; total time=   0.2s\n",
      "[CV 2/5] END max_depth=5, min_samples_leaf=10, min_samples_split=2, n_estimators=50; total time=   0.2s\n",
      "[CV 3/5] END max_depth=5, min_samples_leaf=10, min_samples_split=2, n_estimators=50; total time=   0.2s\n",
      "[CV 4/5] END max_depth=5, min_samples_leaf=10, min_samples_split=2, n_estimators=50; total time=   0.2s\n",
      "[CV 5/5] END max_depth=5, min_samples_leaf=10, min_samples_split=2, n_estimators=50; total time=   0.2s\n",
      "[CV 1/5] END max_depth=5, min_samples_leaf=10, min_samples_split=2, n_estimators=100; total time=   0.3s\n",
      "[CV 2/5] END max_depth=5, min_samples_leaf=10, min_samples_split=2, n_estimators=100; total time=   0.3s\n",
      "[CV 3/5] END max_depth=5, min_samples_leaf=10, min_samples_split=2, n_estimators=100; total time=   0.3s\n",
      "[CV 4/5] END max_depth=5, min_samples_leaf=10, min_samples_split=2, n_estimators=100; total time=   0.3s\n",
      "[CV 5/5] END max_depth=5, min_samples_leaf=10, min_samples_split=2, n_estimators=100; total time=   0.3s\n",
      "[CV 1/5] END max_depth=5, min_samples_leaf=10, min_samples_split=6, n_estimators=50; total time=   0.2s\n",
      "[CV 2/5] END max_depth=5, min_samples_leaf=10, min_samples_split=6, n_estimators=50; total time=   0.2s\n",
      "[CV 3/5] END max_depth=5, min_samples_leaf=10, min_samples_split=6, n_estimators=50; total time=   0.2s\n",
      "[CV 4/5] END max_depth=5, min_samples_leaf=10, min_samples_split=6, n_estimators=50; total time=   0.2s\n",
      "[CV 5/5] END max_depth=5, min_samples_leaf=10, min_samples_split=6, n_estimators=50; total time=   0.2s\n",
      "[CV 1/5] END max_depth=5, min_samples_leaf=10, min_samples_split=6, n_estimators=100; total time=   0.3s\n",
      "[CV 2/5] END max_depth=5, min_samples_leaf=10, min_samples_split=6, n_estimators=100; total time=   0.3s\n",
      "[CV 3/5] END max_depth=5, min_samples_leaf=10, min_samples_split=6, n_estimators=100; total time=   0.4s\n",
      "[CV 4/5] END max_depth=5, min_samples_leaf=10, min_samples_split=6, n_estimators=100; total time=   0.3s\n",
      "[CV 5/5] END max_depth=5, min_samples_leaf=10, min_samples_split=6, n_estimators=100; total time=   0.3s\n",
      "[CV 1/5] END max_depth=5, min_samples_leaf=10, min_samples_split=10, n_estimators=50; total time=   0.2s\n",
      "[CV 2/5] END max_depth=5, min_samples_leaf=10, min_samples_split=10, n_estimators=50; total time=   0.2s\n",
      "[CV 3/5] END max_depth=5, min_samples_leaf=10, min_samples_split=10, n_estimators=50; total time=   0.2s\n",
      "[CV 4/5] END max_depth=5, min_samples_leaf=10, min_samples_split=10, n_estimators=50; total time=   0.2s\n",
      "[CV 5/5] END max_depth=5, min_samples_leaf=10, min_samples_split=10, n_estimators=50; total time=   0.2s\n",
      "[CV 1/5] END max_depth=5, min_samples_leaf=10, min_samples_split=10, n_estimators=100; total time=   0.3s\n",
      "[CV 2/5] END max_depth=5, min_samples_leaf=10, min_samples_split=10, n_estimators=100; total time=   0.3s\n",
      "[CV 3/5] END max_depth=5, min_samples_leaf=10, min_samples_split=10, n_estimators=100; total time=   0.3s\n",
      "[CV 4/5] END max_depth=5, min_samples_leaf=10, min_samples_split=10, n_estimators=100; total time=   0.3s\n",
      "[CV 5/5] END max_depth=5, min_samples_leaf=10, min_samples_split=10, n_estimators=100; total time=   0.3s\n",
      "[CV 1/5] END max_depth=8, min_samples_leaf=2, min_samples_split=2, n_estimators=50; total time=   0.2s\n",
      "[CV 2/5] END max_depth=8, min_samples_leaf=2, min_samples_split=2, n_estimators=50; total time=   0.2s\n",
      "[CV 3/5] END max_depth=8, min_samples_leaf=2, min_samples_split=2, n_estimators=50; total time=   0.2s\n",
      "[CV 4/5] END max_depth=8, min_samples_leaf=2, min_samples_split=2, n_estimators=50; total time=   0.2s\n",
      "[CV 5/5] END max_depth=8, min_samples_leaf=2, min_samples_split=2, n_estimators=50; total time=   0.2s\n",
      "[CV 1/5] END max_depth=8, min_samples_leaf=2, min_samples_split=2, n_estimators=100; total time=   0.4s\n",
      "[CV 2/5] END max_depth=8, min_samples_leaf=2, min_samples_split=2, n_estimators=100; total time=   0.4s\n",
      "[CV 3/5] END max_depth=8, min_samples_leaf=2, min_samples_split=2, n_estimators=100; total time=   0.4s\n",
      "[CV 4/5] END max_depth=8, min_samples_leaf=2, min_samples_split=2, n_estimators=100; total time=   0.4s\n",
      "[CV 5/5] END max_depth=8, min_samples_leaf=2, min_samples_split=2, n_estimators=100; total time=   0.4s\n",
      "[CV 1/5] END max_depth=8, min_samples_leaf=2, min_samples_split=6, n_estimators=50; total time=   0.2s\n",
      "[CV 2/5] END max_depth=8, min_samples_leaf=2, min_samples_split=6, n_estimators=50; total time=   0.2s\n",
      "[CV 3/5] END max_depth=8, min_samples_leaf=2, min_samples_split=6, n_estimators=50; total time=   0.2s\n",
      "[CV 4/5] END max_depth=8, min_samples_leaf=2, min_samples_split=6, n_estimators=50; total time=   0.2s\n",
      "[CV 5/5] END max_depth=8, min_samples_leaf=2, min_samples_split=6, n_estimators=50; total time=   0.2s\n",
      "[CV 1/5] END max_depth=8, min_samples_leaf=2, min_samples_split=6, n_estimators=100; total time=   0.4s\n",
      "[CV 2/5] END max_depth=8, min_samples_leaf=2, min_samples_split=6, n_estimators=100; total time=   0.4s\n",
      "[CV 3/5] END max_depth=8, min_samples_leaf=2, min_samples_split=6, n_estimators=100; total time=   0.4s\n",
      "[CV 4/5] END max_depth=8, min_samples_leaf=2, min_samples_split=6, n_estimators=100; total time=   0.4s\n",
      "[CV 5/5] END max_depth=8, min_samples_leaf=2, min_samples_split=6, n_estimators=100; total time=   0.4s\n",
      "[CV 1/5] END max_depth=8, min_samples_leaf=2, min_samples_split=10, n_estimators=50; total time=   0.2s\n",
      "[CV 2/5] END max_depth=8, min_samples_leaf=2, min_samples_split=10, n_estimators=50; total time=   0.2s\n",
      "[CV 3/5] END max_depth=8, min_samples_leaf=2, min_samples_split=10, n_estimators=50; total time=   0.2s\n",
      "[CV 4/5] END max_depth=8, min_samples_leaf=2, min_samples_split=10, n_estimators=50; total time=   0.2s\n",
      "[CV 5/5] END max_depth=8, min_samples_leaf=2, min_samples_split=10, n_estimators=50; total time=   0.2s\n",
      "[CV 1/5] END max_depth=8, min_samples_leaf=2, min_samples_split=10, n_estimators=100; total time=   0.4s\n",
      "[CV 2/5] END max_depth=8, min_samples_leaf=2, min_samples_split=10, n_estimators=100; total time=   0.4s\n",
      "[CV 3/5] END max_depth=8, min_samples_leaf=2, min_samples_split=10, n_estimators=100; total time=   0.4s\n",
      "[CV 4/5] END max_depth=8, min_samples_leaf=2, min_samples_split=10, n_estimators=100; total time=   0.4s\n",
      "[CV 5/5] END max_depth=8, min_samples_leaf=2, min_samples_split=10, n_estimators=100; total time=   0.4s\n",
      "[CV 1/5] END max_depth=8, min_samples_leaf=6, min_samples_split=2, n_estimators=50; total time=   0.2s\n",
      "[CV 2/5] END max_depth=8, min_samples_leaf=6, min_samples_split=2, n_estimators=50; total time=   0.2s\n",
      "[CV 3/5] END max_depth=8, min_samples_leaf=6, min_samples_split=2, n_estimators=50; total time=   0.2s\n",
      "[CV 4/5] END max_depth=8, min_samples_leaf=6, min_samples_split=2, n_estimators=50; total time=   0.2s\n",
      "[CV 5/5] END max_depth=8, min_samples_leaf=6, min_samples_split=2, n_estimators=50; total time=   0.2s\n",
      "[CV 1/5] END max_depth=8, min_samples_leaf=6, min_samples_split=2, n_estimators=100; total time=   0.4s\n",
      "[CV 2/5] END max_depth=8, min_samples_leaf=6, min_samples_split=2, n_estimators=100; total time=   0.4s\n",
      "[CV 3/5] END max_depth=8, min_samples_leaf=6, min_samples_split=2, n_estimators=100; total time=   0.4s\n",
      "[CV 4/5] END max_depth=8, min_samples_leaf=6, min_samples_split=2, n_estimators=100; total time=   0.4s\n",
      "[CV 5/5] END max_depth=8, min_samples_leaf=6, min_samples_split=2, n_estimators=100; total time=   0.4s\n",
      "[CV 1/5] END max_depth=8, min_samples_leaf=6, min_samples_split=6, n_estimators=50; total time=   0.2s\n",
      "[CV 2/5] END max_depth=8, min_samples_leaf=6, min_samples_split=6, n_estimators=50; total time=   0.2s\n",
      "[CV 3/5] END max_depth=8, min_samples_leaf=6, min_samples_split=6, n_estimators=50; total time=   0.2s\n",
      "[CV 4/5] END max_depth=8, min_samples_leaf=6, min_samples_split=6, n_estimators=50; total time=   0.2s\n",
      "[CV 5/5] END max_depth=8, min_samples_leaf=6, min_samples_split=6, n_estimators=50; total time=   0.2s\n",
      "[CV 1/5] END max_depth=8, min_samples_leaf=6, min_samples_split=6, n_estimators=100; total time=   0.4s\n",
      "[CV 2/5] END max_depth=8, min_samples_leaf=6, min_samples_split=6, n_estimators=100; total time=   0.4s\n",
      "[CV 3/5] END max_depth=8, min_samples_leaf=6, min_samples_split=6, n_estimators=100; total time=   0.4s\n",
      "[CV 4/5] END max_depth=8, min_samples_leaf=6, min_samples_split=6, n_estimators=100; total time=   0.4s\n",
      "[CV 5/5] END max_depth=8, min_samples_leaf=6, min_samples_split=6, n_estimators=100; total time=   0.4s\n",
      "[CV 1/5] END max_depth=8, min_samples_leaf=6, min_samples_split=10, n_estimators=50; total time=   0.2s\n",
      "[CV 2/5] END max_depth=8, min_samples_leaf=6, min_samples_split=10, n_estimators=50; total time=   0.2s\n",
      "[CV 3/5] END max_depth=8, min_samples_leaf=6, min_samples_split=10, n_estimators=50; total time=   0.2s\n",
      "[CV 4/5] END max_depth=8, min_samples_leaf=6, min_samples_split=10, n_estimators=50; total time=   0.2s\n",
      "[CV 5/5] END max_depth=8, min_samples_leaf=6, min_samples_split=10, n_estimators=50; total time=   0.2s\n",
      "[CV 1/5] END max_depth=8, min_samples_leaf=6, min_samples_split=10, n_estimators=100; total time=   0.4s\n",
      "[CV 2/5] END max_depth=8, min_samples_leaf=6, min_samples_split=10, n_estimators=100; total time=   0.4s\n",
      "[CV 3/5] END max_depth=8, min_samples_leaf=6, min_samples_split=10, n_estimators=100; total time=   0.4s\n",
      "[CV 4/5] END max_depth=8, min_samples_leaf=6, min_samples_split=10, n_estimators=100; total time=   0.4s\n",
      "[CV 5/5] END max_depth=8, min_samples_leaf=6, min_samples_split=10, n_estimators=100; total time=   0.4s\n",
      "[CV 1/5] END max_depth=8, min_samples_leaf=10, min_samples_split=2, n_estimators=50; total time=   0.2s\n",
      "[CV 2/5] END max_depth=8, min_samples_leaf=10, min_samples_split=2, n_estimators=50; total time=   0.2s\n",
      "[CV 3/5] END max_depth=8, min_samples_leaf=10, min_samples_split=2, n_estimators=50; total time=   0.2s\n",
      "[CV 4/5] END max_depth=8, min_samples_leaf=10, min_samples_split=2, n_estimators=50; total time=   0.2s\n",
      "[CV 5/5] END max_depth=8, min_samples_leaf=10, min_samples_split=2, n_estimators=50; total time=   0.2s\n",
      "[CV 1/5] END max_depth=8, min_samples_leaf=10, min_samples_split=2, n_estimators=100; total time=   0.4s\n",
      "[CV 2/5] END max_depth=8, min_samples_leaf=10, min_samples_split=2, n_estimators=100; total time=   0.4s\n",
      "[CV 3/5] END max_depth=8, min_samples_leaf=10, min_samples_split=2, n_estimators=100; total time=   0.4s\n",
      "[CV 4/5] END max_depth=8, min_samples_leaf=10, min_samples_split=2, n_estimators=100; total time=   0.4s\n",
      "[CV 5/5] END max_depth=8, min_samples_leaf=10, min_samples_split=2, n_estimators=100; total time=   0.4s\n",
      "[CV 1/5] END max_depth=8, min_samples_leaf=10, min_samples_split=6, n_estimators=50; total time=   0.2s\n",
      "[CV 2/5] END max_depth=8, min_samples_leaf=10, min_samples_split=6, n_estimators=50; total time=   0.2s\n",
      "[CV 3/5] END max_depth=8, min_samples_leaf=10, min_samples_split=6, n_estimators=50; total time=   0.2s\n",
      "[CV 4/5] END max_depth=8, min_samples_leaf=10, min_samples_split=6, n_estimators=50; total time=   0.2s\n",
      "[CV 5/5] END max_depth=8, min_samples_leaf=10, min_samples_split=6, n_estimators=50; total time=   0.2s\n",
      "[CV 1/5] END max_depth=8, min_samples_leaf=10, min_samples_split=6, n_estimators=100; total time=   0.4s\n",
      "[CV 2/5] END max_depth=8, min_samples_leaf=10, min_samples_split=6, n_estimators=100; total time=   0.4s\n",
      "[CV 3/5] END max_depth=8, min_samples_leaf=10, min_samples_split=6, n_estimators=100; total time=   0.4s\n",
      "[CV 4/5] END max_depth=8, min_samples_leaf=10, min_samples_split=6, n_estimators=100; total time=   0.4s\n",
      "[CV 5/5] END max_depth=8, min_samples_leaf=10, min_samples_split=6, n_estimators=100; total time=   0.4s\n",
      "[CV 1/5] END max_depth=8, min_samples_leaf=10, min_samples_split=10, n_estimators=50; total time=   0.2s\n",
      "[CV 2/5] END max_depth=8, min_samples_leaf=10, min_samples_split=10, n_estimators=50; total time=   0.2s\n",
      "[CV 3/5] END max_depth=8, min_samples_leaf=10, min_samples_split=10, n_estimators=50; total time=   0.2s\n",
      "[CV 4/5] END max_depth=8, min_samples_leaf=10, min_samples_split=10, n_estimators=50; total time=   0.2s\n",
      "[CV 5/5] END max_depth=8, min_samples_leaf=10, min_samples_split=10, n_estimators=50; total time=   0.2s\n",
      "[CV 1/5] END max_depth=8, min_samples_leaf=10, min_samples_split=10, n_estimators=100; total time=   0.4s\n",
      "[CV 2/5] END max_depth=8, min_samples_leaf=10, min_samples_split=10, n_estimators=100; total time=   0.4s\n",
      "[CV 3/5] END max_depth=8, min_samples_leaf=10, min_samples_split=10, n_estimators=100; total time=   0.4s\n",
      "[CV 4/5] END max_depth=8, min_samples_leaf=10, min_samples_split=10, n_estimators=100; total time=   0.4s\n",
      "[CV 5/5] END max_depth=8, min_samples_leaf=10, min_samples_split=10, n_estimators=100; total time=   0.4s\n",
      "\n",
      "{'max_depth': 8, 'min_samples_leaf': 2, 'min_samples_split': 6, 'n_estimators': 100}\n",
      "0.8536680709616465\n"
     ]
    }
   ],
   "source": [
    "rfc = RandomForestClassifier(random_state=12345, class_weight='balanced') \n",
    "skf = StratifiedKFold(5)\n",
    "skf.get_n_splits(features_train_ohe, target_train)\n",
    "\n",
    "\n",
    "param_grid = { \n",
    "    'max_depth': [3,5,8],\n",
    "    'min_samples_leaf': [2,6,10],\n",
    "    'min_samples_split': [2,6,10],\n",
    "    'n_estimators': [50,100]\n",
    "\n",
    "}\n",
    "\n",
    "CV_rfc_ohe = GridSearchCV(estimator=rfc, param_grid=param_grid, cv= skf, scoring = 'roc_auc', verbose = 3) \n",
    "CV_rfc_ohe.fit(features_train_ohe, target_train)\n",
    "print()\n",
    "print(CV_rfc_ohe.best_params_)\n",
    "print(CV_rfc_ohe.best_score_)"
   ]
  },
  {
   "cell_type": "code",
   "execution_count": 23,
   "metadata": {},
   "outputs": [
    {
     "name": "stdout",
     "output_type": "stream",
     "text": [
      "accuracy: 0.8221666666666667\n",
      "f1: 0.5984803574630991\n",
      "precision: 0.5543470996229964\n",
      "recall: 0.6525593844095016\n"
     ]
    }
   ],
   "source": [
    "model_rfc_balanced = CV_rfc_ohe.best_estimator_\n",
    "metrics(model_rfc_balanced) "
   ]
  },
  {
   "cell_type": "markdown",
   "metadata": {},
   "source": [
    "### Logistic Regression"
   ]
  },
  {
   "cell_type": "code",
   "execution_count": 24,
   "metadata": {},
   "outputs": [
    {
     "name": "stdout",
     "output_type": "stream",
     "text": [
      "accuracy: 0.6968333333333334\n",
      "f1: 0.4737087304149278\n",
      "precision: 0.36651091480989445\n",
      "recall: 0.6705620608899296\n"
     ]
    }
   ],
   "source": [
    "model_lr_balanced = LogisticRegression(random_state=12345, solver='liblinear', \n",
    "                              max_iter=10000, class_weight='balanced')\n",
    "model_lr_balanced.fit(features_train_ohe, target_train)\n",
    "metrics(model_lr_balanced)  "
   ]
  },
  {
   "cell_type": "markdown",
   "metadata": {},
   "source": [
    "#### PS upsampling \n",
    "\n",
    "Это мы потестировали аппсемплинг на лесе."
   ]
  },
  {
   "cell_type": "code",
   "execution_count": 25,
   "metadata": {},
   "outputs": [
    {
     "name": "stdout",
     "output_type": "stream",
     "text": [
      "(9669, 11)\n",
      "(9669,)\n"
     ]
    }
   ],
   "source": [
    "features_zeros = features_train_ohe[target_train == 0]\n",
    "features_ones = features_train_ohe[target_train == 1]\n",
    "target_zeros = target_train[target_train == 0]\n",
    "target_ones = target_train[target_train == 1]\n",
    "\n",
    "features_upsampled = pd.concat([features_zeros] + [features_ones] * 4)\n",
    "target_upsampled =  pd.concat([target_zeros] + [target_ones] * 4) \n",
    "\n",
    "print(features_upsampled.shape)\n",
    "print(target_upsampled.shape)"
   ]
  },
  {
   "cell_type": "code",
   "execution_count": 26,
   "metadata": {},
   "outputs": [
    {
     "name": "stdout",
     "output_type": "stream",
     "text": [
      "Fitting 5 folds for each of 54 candidates, totalling 270 fits\n",
      "[CV 1/5] END max_depth=3, min_samples_leaf=2, min_samples_split=2, n_estimators=50; total time=   0.2s\n",
      "[CV 2/5] END max_depth=3, min_samples_leaf=2, min_samples_split=2, n_estimators=50; total time=   0.2s\n",
      "[CV 3/5] END max_depth=3, min_samples_leaf=2, min_samples_split=2, n_estimators=50; total time=   0.2s\n",
      "[CV 4/5] END max_depth=3, min_samples_leaf=2, min_samples_split=2, n_estimators=50; total time=   0.2s\n",
      "[CV 5/5] END max_depth=3, min_samples_leaf=2, min_samples_split=2, n_estimators=50; total time=   0.2s\n",
      "[CV 1/5] END max_depth=3, min_samples_leaf=2, min_samples_split=2, n_estimators=100; total time=   0.3s\n",
      "[CV 2/5] END max_depth=3, min_samples_leaf=2, min_samples_split=2, n_estimators=100; total time=   0.3s\n",
      "[CV 3/5] END max_depth=3, min_samples_leaf=2, min_samples_split=2, n_estimators=100; total time=   0.3s\n",
      "[CV 4/5] END max_depth=3, min_samples_leaf=2, min_samples_split=2, n_estimators=100; total time=   0.3s\n",
      "[CV 5/5] END max_depth=3, min_samples_leaf=2, min_samples_split=2, n_estimators=100; total time=   0.3s\n",
      "[CV 1/5] END max_depth=3, min_samples_leaf=2, min_samples_split=6, n_estimators=50; total time=   0.2s\n",
      "[CV 2/5] END max_depth=3, min_samples_leaf=2, min_samples_split=6, n_estimators=50; total time=   0.2s\n",
      "[CV 3/5] END max_depth=3, min_samples_leaf=2, min_samples_split=6, n_estimators=50; total time=   0.2s\n",
      "[CV 4/5] END max_depth=3, min_samples_leaf=2, min_samples_split=6, n_estimators=50; total time=   0.2s\n",
      "[CV 5/5] END max_depth=3, min_samples_leaf=2, min_samples_split=6, n_estimators=50; total time=   0.2s\n",
      "[CV 1/5] END max_depth=3, min_samples_leaf=2, min_samples_split=6, n_estimators=100; total time=   0.4s\n",
      "[CV 2/5] END max_depth=3, min_samples_leaf=2, min_samples_split=6, n_estimators=100; total time=   0.3s\n",
      "[CV 3/5] END max_depth=3, min_samples_leaf=2, min_samples_split=6, n_estimators=100; total time=   0.3s\n",
      "[CV 4/5] END max_depth=3, min_samples_leaf=2, min_samples_split=6, n_estimators=100; total time=   0.4s\n",
      "[CV 5/5] END max_depth=3, min_samples_leaf=2, min_samples_split=6, n_estimators=100; total time=   0.3s\n",
      "[CV 1/5] END max_depth=3, min_samples_leaf=2, min_samples_split=10, n_estimators=50; total time=   0.2s\n",
      "[CV 2/5] END max_depth=3, min_samples_leaf=2, min_samples_split=10, n_estimators=50; total time=   0.2s\n",
      "[CV 3/5] END max_depth=3, min_samples_leaf=2, min_samples_split=10, n_estimators=50; total time=   0.2s\n",
      "[CV 4/5] END max_depth=3, min_samples_leaf=2, min_samples_split=10, n_estimators=50; total time=   0.2s\n",
      "[CV 5/5] END max_depth=3, min_samples_leaf=2, min_samples_split=10, n_estimators=50; total time=   0.2s\n",
      "[CV 1/5] END max_depth=3, min_samples_leaf=2, min_samples_split=10, n_estimators=100; total time=   0.3s\n",
      "[CV 2/5] END max_depth=3, min_samples_leaf=2, min_samples_split=10, n_estimators=100; total time=   0.4s\n",
      "[CV 3/5] END max_depth=3, min_samples_leaf=2, min_samples_split=10, n_estimators=100; total time=   0.3s\n",
      "[CV 4/5] END max_depth=3, min_samples_leaf=2, min_samples_split=10, n_estimators=100; total time=   0.3s\n",
      "[CV 5/5] END max_depth=3, min_samples_leaf=2, min_samples_split=10, n_estimators=100; total time=   0.3s\n",
      "[CV 1/5] END max_depth=3, min_samples_leaf=6, min_samples_split=2, n_estimators=50; total time=   0.2s\n",
      "[CV 2/5] END max_depth=3, min_samples_leaf=6, min_samples_split=2, n_estimators=50; total time=   0.2s\n",
      "[CV 3/5] END max_depth=3, min_samples_leaf=6, min_samples_split=2, n_estimators=50; total time=   0.2s\n",
      "[CV 4/5] END max_depth=3, min_samples_leaf=6, min_samples_split=2, n_estimators=50; total time=   0.2s\n",
      "[CV 5/5] END max_depth=3, min_samples_leaf=6, min_samples_split=2, n_estimators=50; total time=   0.2s\n",
      "[CV 1/5] END max_depth=3, min_samples_leaf=6, min_samples_split=2, n_estimators=100; total time=   0.3s\n",
      "[CV 2/5] END max_depth=3, min_samples_leaf=6, min_samples_split=2, n_estimators=100; total time=   0.3s\n",
      "[CV 3/5] END max_depth=3, min_samples_leaf=6, min_samples_split=2, n_estimators=100; total time=   0.3s\n",
      "[CV 4/5] END max_depth=3, min_samples_leaf=6, min_samples_split=2, n_estimators=100; total time=   0.3s\n",
      "[CV 5/5] END max_depth=3, min_samples_leaf=6, min_samples_split=2, n_estimators=100; total time=   0.3s\n",
      "[CV 1/5] END max_depth=3, min_samples_leaf=6, min_samples_split=6, n_estimators=50; total time=   0.2s\n",
      "[CV 2/5] END max_depth=3, min_samples_leaf=6, min_samples_split=6, n_estimators=50; total time=   0.2s\n",
      "[CV 3/5] END max_depth=3, min_samples_leaf=6, min_samples_split=6, n_estimators=50; total time=   0.2s\n",
      "[CV 4/5] END max_depth=3, min_samples_leaf=6, min_samples_split=6, n_estimators=50; total time=   0.2s\n",
      "[CV 5/5] END max_depth=3, min_samples_leaf=6, min_samples_split=6, n_estimators=50; total time=   0.2s\n",
      "[CV 1/5] END max_depth=3, min_samples_leaf=6, min_samples_split=6, n_estimators=100; total time=   0.3s\n",
      "[CV 2/5] END max_depth=3, min_samples_leaf=6, min_samples_split=6, n_estimators=100; total time=   0.3s\n",
      "[CV 3/5] END max_depth=3, min_samples_leaf=6, min_samples_split=6, n_estimators=100; total time=   0.4s\n",
      "[CV 4/5] END max_depth=3, min_samples_leaf=6, min_samples_split=6, n_estimators=100; total time=   0.4s\n",
      "[CV 5/5] END max_depth=3, min_samples_leaf=6, min_samples_split=6, n_estimators=100; total time=   0.3s\n",
      "[CV 1/5] END max_depth=3, min_samples_leaf=6, min_samples_split=10, n_estimators=50; total time=   0.2s\n",
      "[CV 2/5] END max_depth=3, min_samples_leaf=6, min_samples_split=10, n_estimators=50; total time=   0.2s\n",
      "[CV 3/5] END max_depth=3, min_samples_leaf=6, min_samples_split=10, n_estimators=50; total time=   0.2s\n",
      "[CV 4/5] END max_depth=3, min_samples_leaf=6, min_samples_split=10, n_estimators=50; total time=   0.2s\n",
      "[CV 5/5] END max_depth=3, min_samples_leaf=6, min_samples_split=10, n_estimators=50; total time=   0.2s\n",
      "[CV 1/5] END max_depth=3, min_samples_leaf=6, min_samples_split=10, n_estimators=100; total time=   0.3s\n",
      "[CV 2/5] END max_depth=3, min_samples_leaf=6, min_samples_split=10, n_estimators=100; total time=   0.4s\n",
      "[CV 3/5] END max_depth=3, min_samples_leaf=6, min_samples_split=10, n_estimators=100; total time=   0.3s\n",
      "[CV 4/5] END max_depth=3, min_samples_leaf=6, min_samples_split=10, n_estimators=100; total time=   0.3s\n",
      "[CV 5/5] END max_depth=3, min_samples_leaf=6, min_samples_split=10, n_estimators=100; total time=   0.3s\n",
      "[CV 1/5] END max_depth=3, min_samples_leaf=10, min_samples_split=2, n_estimators=50; total time=   0.2s\n",
      "[CV 2/5] END max_depth=3, min_samples_leaf=10, min_samples_split=2, n_estimators=50; total time=   0.2s\n",
      "[CV 3/5] END max_depth=3, min_samples_leaf=10, min_samples_split=2, n_estimators=50; total time=   0.2s\n",
      "[CV 4/5] END max_depth=3, min_samples_leaf=10, min_samples_split=2, n_estimators=50; total time=   0.2s\n",
      "[CV 5/5] END max_depth=3, min_samples_leaf=10, min_samples_split=2, n_estimators=50; total time=   0.2s\n",
      "[CV 1/5] END max_depth=3, min_samples_leaf=10, min_samples_split=2, n_estimators=100; total time=   0.3s\n",
      "[CV 2/5] END max_depth=3, min_samples_leaf=10, min_samples_split=2, n_estimators=100; total time=   0.4s\n",
      "[CV 3/5] END max_depth=3, min_samples_leaf=10, min_samples_split=2, n_estimators=100; total time=   0.3s\n",
      "[CV 4/5] END max_depth=3, min_samples_leaf=10, min_samples_split=2, n_estimators=100; total time=   0.3s\n",
      "[CV 5/5] END max_depth=3, min_samples_leaf=10, min_samples_split=2, n_estimators=100; total time=   0.4s\n",
      "[CV 1/5] END max_depth=3, min_samples_leaf=10, min_samples_split=6, n_estimators=50; total time=   0.2s\n",
      "[CV 2/5] END max_depth=3, min_samples_leaf=10, min_samples_split=6, n_estimators=50; total time=   0.2s\n",
      "[CV 3/5] END max_depth=3, min_samples_leaf=10, min_samples_split=6, n_estimators=50; total time=   0.2s\n",
      "[CV 4/5] END max_depth=3, min_samples_leaf=10, min_samples_split=6, n_estimators=50; total time=   0.2s\n",
      "[CV 5/5] END max_depth=3, min_samples_leaf=10, min_samples_split=6, n_estimators=50; total time=   0.2s\n",
      "[CV 1/5] END max_depth=3, min_samples_leaf=10, min_samples_split=6, n_estimators=100; total time=   0.3s\n",
      "[CV 2/5] END max_depth=3, min_samples_leaf=10, min_samples_split=6, n_estimators=100; total time=   0.3s\n",
      "[CV 3/5] END max_depth=3, min_samples_leaf=10, min_samples_split=6, n_estimators=100; total time=   0.3s\n",
      "[CV 4/5] END max_depth=3, min_samples_leaf=10, min_samples_split=6, n_estimators=100; total time=   0.3s\n",
      "[CV 5/5] END max_depth=3, min_samples_leaf=10, min_samples_split=6, n_estimators=100; total time=   0.3s\n",
      "[CV 1/5] END max_depth=3, min_samples_leaf=10, min_samples_split=10, n_estimators=50; total time=   0.2s\n",
      "[CV 2/5] END max_depth=3, min_samples_leaf=10, min_samples_split=10, n_estimators=50; total time=   0.2s\n",
      "[CV 3/5] END max_depth=3, min_samples_leaf=10, min_samples_split=10, n_estimators=50; total time=   0.2s\n",
      "[CV 4/5] END max_depth=3, min_samples_leaf=10, min_samples_split=10, n_estimators=50; total time=   0.2s\n",
      "[CV 5/5] END max_depth=3, min_samples_leaf=10, min_samples_split=10, n_estimators=50; total time=   0.2s\n",
      "[CV 1/5] END max_depth=3, min_samples_leaf=10, min_samples_split=10, n_estimators=100; total time=   0.7s\n",
      "[CV 2/5] END max_depth=3, min_samples_leaf=10, min_samples_split=10, n_estimators=100; total time=   0.7s\n",
      "[CV 3/5] END max_depth=3, min_samples_leaf=10, min_samples_split=10, n_estimators=100; total time=   0.5s\n",
      "[CV 4/5] END max_depth=3, min_samples_leaf=10, min_samples_split=10, n_estimators=100; total time=   0.3s\n",
      "[CV 5/5] END max_depth=3, min_samples_leaf=10, min_samples_split=10, n_estimators=100; total time=   0.3s\n",
      "[CV 1/5] END max_depth=5, min_samples_leaf=2, min_samples_split=2, n_estimators=50; total time=   0.2s\n",
      "[CV 2/5] END max_depth=5, min_samples_leaf=2, min_samples_split=2, n_estimators=50; total time=   0.2s\n",
      "[CV 3/5] END max_depth=5, min_samples_leaf=2, min_samples_split=2, n_estimators=50; total time=   0.2s\n",
      "[CV 4/5] END max_depth=5, min_samples_leaf=2, min_samples_split=2, n_estimators=50; total time=   0.2s\n",
      "[CV 5/5] END max_depth=5, min_samples_leaf=2, min_samples_split=2, n_estimators=50; total time=   0.2s\n",
      "[CV 1/5] END max_depth=5, min_samples_leaf=2, min_samples_split=2, n_estimators=100; total time=   0.4s\n",
      "[CV 2/5] END max_depth=5, min_samples_leaf=2, min_samples_split=2, n_estimators=100; total time=   0.4s\n",
      "[CV 3/5] END max_depth=5, min_samples_leaf=2, min_samples_split=2, n_estimators=100; total time=   0.6s\n",
      "[CV 4/5] END max_depth=5, min_samples_leaf=2, min_samples_split=2, n_estimators=100; total time=   0.9s\n",
      "[CV 5/5] END max_depth=5, min_samples_leaf=2, min_samples_split=2, n_estimators=100; total time=   0.7s\n",
      "[CV 1/5] END max_depth=5, min_samples_leaf=2, min_samples_split=6, n_estimators=50; total time=   0.2s\n",
      "[CV 2/5] END max_depth=5, min_samples_leaf=2, min_samples_split=6, n_estimators=50; total time=   0.2s\n",
      "[CV 3/5] END max_depth=5, min_samples_leaf=2, min_samples_split=6, n_estimators=50; total time=   0.2s\n",
      "[CV 4/5] END max_depth=5, min_samples_leaf=2, min_samples_split=6, n_estimators=50; total time=   0.2s\n",
      "[CV 5/5] END max_depth=5, min_samples_leaf=2, min_samples_split=6, n_estimators=50; total time=   0.2s\n",
      "[CV 1/5] END max_depth=5, min_samples_leaf=2, min_samples_split=6, n_estimators=100; total time=   0.4s\n",
      "[CV 2/5] END max_depth=5, min_samples_leaf=2, min_samples_split=6, n_estimators=100; total time=   0.4s\n",
      "[CV 3/5] END max_depth=5, min_samples_leaf=2, min_samples_split=6, n_estimators=100; total time=   0.4s\n",
      "[CV 4/5] END max_depth=5, min_samples_leaf=2, min_samples_split=6, n_estimators=100; total time=   0.4s\n",
      "[CV 5/5] END max_depth=5, min_samples_leaf=2, min_samples_split=6, n_estimators=100; total time=   0.4s\n",
      "[CV 1/5] END max_depth=5, min_samples_leaf=2, min_samples_split=10, n_estimators=50; total time=   0.2s\n",
      "[CV 2/5] END max_depth=5, min_samples_leaf=2, min_samples_split=10, n_estimators=50; total time=   0.2s\n",
      "[CV 3/5] END max_depth=5, min_samples_leaf=2, min_samples_split=10, n_estimators=50; total time=   0.2s\n",
      "[CV 4/5] END max_depth=5, min_samples_leaf=2, min_samples_split=10, n_estimators=50; total time=   0.2s\n",
      "[CV 5/5] END max_depth=5, min_samples_leaf=2, min_samples_split=10, n_estimators=50; total time=   0.2s\n",
      "[CV 1/5] END max_depth=5, min_samples_leaf=2, min_samples_split=10, n_estimators=100; total time=   0.4s\n",
      "[CV 2/5] END max_depth=5, min_samples_leaf=2, min_samples_split=10, n_estimators=100; total time=   0.4s\n",
      "[CV 3/5] END max_depth=5, min_samples_leaf=2, min_samples_split=10, n_estimators=100; total time=   0.4s\n",
      "[CV 4/5] END max_depth=5, min_samples_leaf=2, min_samples_split=10, n_estimators=100; total time=   0.4s\n",
      "[CV 5/5] END max_depth=5, min_samples_leaf=2, min_samples_split=10, n_estimators=100; total time=   0.4s\n",
      "[CV 1/5] END max_depth=5, min_samples_leaf=6, min_samples_split=2, n_estimators=50; total time=   0.2s\n",
      "[CV 2/5] END max_depth=5, min_samples_leaf=6, min_samples_split=2, n_estimators=50; total time=   0.2s\n",
      "[CV 3/5] END max_depth=5, min_samples_leaf=6, min_samples_split=2, n_estimators=50; total time=   0.2s\n",
      "[CV 4/5] END max_depth=5, min_samples_leaf=6, min_samples_split=2, n_estimators=50; total time=   0.2s\n",
      "[CV 5/5] END max_depth=5, min_samples_leaf=6, min_samples_split=2, n_estimators=50; total time=   0.2s\n",
      "[CV 1/5] END max_depth=5, min_samples_leaf=6, min_samples_split=2, n_estimators=100; total time=   0.4s\n",
      "[CV 2/5] END max_depth=5, min_samples_leaf=6, min_samples_split=2, n_estimators=100; total time=   0.4s\n",
      "[CV 3/5] END max_depth=5, min_samples_leaf=6, min_samples_split=2, n_estimators=100; total time=   0.4s\n",
      "[CV 4/5] END max_depth=5, min_samples_leaf=6, min_samples_split=2, n_estimators=100; total time=   0.4s\n",
      "[CV 5/5] END max_depth=5, min_samples_leaf=6, min_samples_split=2, n_estimators=100; total time=   0.4s\n",
      "[CV 1/5] END max_depth=5, min_samples_leaf=6, min_samples_split=6, n_estimators=50; total time=   0.2s\n",
      "[CV 2/5] END max_depth=5, min_samples_leaf=6, min_samples_split=6, n_estimators=50; total time=   0.2s\n",
      "[CV 3/5] END max_depth=5, min_samples_leaf=6, min_samples_split=6, n_estimators=50; total time=   0.2s\n",
      "[CV 4/5] END max_depth=5, min_samples_leaf=6, min_samples_split=6, n_estimators=50; total time=   0.2s\n",
      "[CV 5/5] END max_depth=5, min_samples_leaf=6, min_samples_split=6, n_estimators=50; total time=   0.2s\n",
      "[CV 1/5] END max_depth=5, min_samples_leaf=6, min_samples_split=6, n_estimators=100; total time=   0.4s\n",
      "[CV 2/5] END max_depth=5, min_samples_leaf=6, min_samples_split=6, n_estimators=100; total time=   0.4s\n",
      "[CV 3/5] END max_depth=5, min_samples_leaf=6, min_samples_split=6, n_estimators=100; total time=   0.4s\n",
      "[CV 4/5] END max_depth=5, min_samples_leaf=6, min_samples_split=6, n_estimators=100; total time=   0.4s\n",
      "[CV 5/5] END max_depth=5, min_samples_leaf=6, min_samples_split=6, n_estimators=100; total time=   0.4s\n",
      "[CV 1/5] END max_depth=5, min_samples_leaf=6, min_samples_split=10, n_estimators=50; total time=   0.2s\n",
      "[CV 2/5] END max_depth=5, min_samples_leaf=6, min_samples_split=10, n_estimators=50; total time=   0.2s\n",
      "[CV 3/5] END max_depth=5, min_samples_leaf=6, min_samples_split=10, n_estimators=50; total time=   0.2s\n",
      "[CV 4/5] END max_depth=5, min_samples_leaf=6, min_samples_split=10, n_estimators=50; total time=   0.2s\n",
      "[CV 5/5] END max_depth=5, min_samples_leaf=6, min_samples_split=10, n_estimators=50; total time=   0.2s\n",
      "[CV 1/5] END max_depth=5, min_samples_leaf=6, min_samples_split=10, n_estimators=100; total time=   0.4s\n",
      "[CV 2/5] END max_depth=5, min_samples_leaf=6, min_samples_split=10, n_estimators=100; total time=   0.4s\n",
      "[CV 3/5] END max_depth=5, min_samples_leaf=6, min_samples_split=10, n_estimators=100; total time=   0.4s\n",
      "[CV 4/5] END max_depth=5, min_samples_leaf=6, min_samples_split=10, n_estimators=100; total time=   0.4s\n",
      "[CV 5/5] END max_depth=5, min_samples_leaf=6, min_samples_split=10, n_estimators=100; total time=   0.4s\n",
      "[CV 1/5] END max_depth=5, min_samples_leaf=10, min_samples_split=2, n_estimators=50; total time=   0.2s\n",
      "[CV 2/5] END max_depth=5, min_samples_leaf=10, min_samples_split=2, n_estimators=50; total time=   0.2s\n",
      "[CV 3/5] END max_depth=5, min_samples_leaf=10, min_samples_split=2, n_estimators=50; total time=   0.2s\n",
      "[CV 4/5] END max_depth=5, min_samples_leaf=10, min_samples_split=2, n_estimators=50; total time=   0.2s\n",
      "[CV 5/5] END max_depth=5, min_samples_leaf=10, min_samples_split=2, n_estimators=50; total time=   0.2s\n",
      "[CV 1/5] END max_depth=5, min_samples_leaf=10, min_samples_split=2, n_estimators=100; total time=   0.4s\n",
      "[CV 2/5] END max_depth=5, min_samples_leaf=10, min_samples_split=2, n_estimators=100; total time=   0.4s\n",
      "[CV 3/5] END max_depth=5, min_samples_leaf=10, min_samples_split=2, n_estimators=100; total time=   0.4s\n",
      "[CV 4/5] END max_depth=5, min_samples_leaf=10, min_samples_split=2, n_estimators=100; total time=   0.4s\n",
      "[CV 5/5] END max_depth=5, min_samples_leaf=10, min_samples_split=2, n_estimators=100; total time=   0.4s\n",
      "[CV 1/5] END max_depth=5, min_samples_leaf=10, min_samples_split=6, n_estimators=50; total time=   0.2s\n",
      "[CV 2/5] END max_depth=5, min_samples_leaf=10, min_samples_split=6, n_estimators=50; total time=   0.2s\n",
      "[CV 3/5] END max_depth=5, min_samples_leaf=10, min_samples_split=6, n_estimators=50; total time=   0.2s\n",
      "[CV 4/5] END max_depth=5, min_samples_leaf=10, min_samples_split=6, n_estimators=50; total time=   0.2s\n",
      "[CV 5/5] END max_depth=5, min_samples_leaf=10, min_samples_split=6, n_estimators=50; total time=   0.2s\n",
      "[CV 1/5] END max_depth=5, min_samples_leaf=10, min_samples_split=6, n_estimators=100; total time=   0.4s\n",
      "[CV 2/5] END max_depth=5, min_samples_leaf=10, min_samples_split=6, n_estimators=100; total time=   0.4s\n",
      "[CV 3/5] END max_depth=5, min_samples_leaf=10, min_samples_split=6, n_estimators=100; total time=   0.4s\n",
      "[CV 4/5] END max_depth=5, min_samples_leaf=10, min_samples_split=6, n_estimators=100; total time=   0.4s\n",
      "[CV 5/5] END max_depth=5, min_samples_leaf=10, min_samples_split=6, n_estimators=100; total time=   0.4s\n",
      "[CV 1/5] END max_depth=5, min_samples_leaf=10, min_samples_split=10, n_estimators=50; total time=   0.2s\n",
      "[CV 2/5] END max_depth=5, min_samples_leaf=10, min_samples_split=10, n_estimators=50; total time=   0.2s\n",
      "[CV 3/5] END max_depth=5, min_samples_leaf=10, min_samples_split=10, n_estimators=50; total time=   0.2s\n",
      "[CV 4/5] END max_depth=5, min_samples_leaf=10, min_samples_split=10, n_estimators=50; total time=   0.2s\n",
      "[CV 5/5] END max_depth=5, min_samples_leaf=10, min_samples_split=10, n_estimators=50; total time=   0.2s\n",
      "[CV 1/5] END max_depth=5, min_samples_leaf=10, min_samples_split=10, n_estimators=100; total time=   0.4s\n",
      "[CV 2/5] END max_depth=5, min_samples_leaf=10, min_samples_split=10, n_estimators=100; total time=   0.4s\n",
      "[CV 3/5] END max_depth=5, min_samples_leaf=10, min_samples_split=10, n_estimators=100; total time=   0.4s\n",
      "[CV 4/5] END max_depth=5, min_samples_leaf=10, min_samples_split=10, n_estimators=100; total time=   0.4s\n",
      "[CV 5/5] END max_depth=5, min_samples_leaf=10, min_samples_split=10, n_estimators=100; total time=   0.4s\n",
      "[CV 1/5] END max_depth=8, min_samples_leaf=2, min_samples_split=2, n_estimators=50; total time=   0.3s\n",
      "[CV 2/5] END max_depth=8, min_samples_leaf=2, min_samples_split=2, n_estimators=50; total time=   0.3s\n",
      "[CV 3/5] END max_depth=8, min_samples_leaf=2, min_samples_split=2, n_estimators=50; total time=   0.3s\n",
      "[CV 4/5] END max_depth=8, min_samples_leaf=2, min_samples_split=2, n_estimators=50; total time=   0.3s\n",
      "[CV 5/5] END max_depth=8, min_samples_leaf=2, min_samples_split=2, n_estimators=50; total time=   0.3s\n",
      "[CV 1/5] END max_depth=8, min_samples_leaf=2, min_samples_split=2, n_estimators=100; total time=   0.5s\n",
      "[CV 2/5] END max_depth=8, min_samples_leaf=2, min_samples_split=2, n_estimators=100; total time=   0.5s\n",
      "[CV 3/5] END max_depth=8, min_samples_leaf=2, min_samples_split=2, n_estimators=100; total time=   0.5s\n",
      "[CV 4/5] END max_depth=8, min_samples_leaf=2, min_samples_split=2, n_estimators=100; total time=   0.5s\n",
      "[CV 5/5] END max_depth=8, min_samples_leaf=2, min_samples_split=2, n_estimators=100; total time=   0.5s\n",
      "[CV 1/5] END max_depth=8, min_samples_leaf=2, min_samples_split=6, n_estimators=50; total time=   0.3s\n",
      "[CV 2/5] END max_depth=8, min_samples_leaf=2, min_samples_split=6, n_estimators=50; total time=   0.3s\n",
      "[CV 3/5] END max_depth=8, min_samples_leaf=2, min_samples_split=6, n_estimators=50; total time=   0.3s\n",
      "[CV 4/5] END max_depth=8, min_samples_leaf=2, min_samples_split=6, n_estimators=50; total time=   0.3s\n",
      "[CV 5/5] END max_depth=8, min_samples_leaf=2, min_samples_split=6, n_estimators=50; total time=   0.3s\n",
      "[CV 1/5] END max_depth=8, min_samples_leaf=2, min_samples_split=6, n_estimators=100; total time=   0.5s\n",
      "[CV 2/5] END max_depth=8, min_samples_leaf=2, min_samples_split=6, n_estimators=100; total time=   0.5s\n",
      "[CV 3/5] END max_depth=8, min_samples_leaf=2, min_samples_split=6, n_estimators=100; total time=   0.5s\n",
      "[CV 4/5] END max_depth=8, min_samples_leaf=2, min_samples_split=6, n_estimators=100; total time=   0.5s\n",
      "[CV 5/5] END max_depth=8, min_samples_leaf=2, min_samples_split=6, n_estimators=100; total time=   0.5s\n",
      "[CV 1/5] END max_depth=8, min_samples_leaf=2, min_samples_split=10, n_estimators=50; total time=   0.3s\n",
      "[CV 2/5] END max_depth=8, min_samples_leaf=2, min_samples_split=10, n_estimators=50; total time=   0.3s\n",
      "[CV 3/5] END max_depth=8, min_samples_leaf=2, min_samples_split=10, n_estimators=50; total time=   0.3s\n",
      "[CV 4/5] END max_depth=8, min_samples_leaf=2, min_samples_split=10, n_estimators=50; total time=   0.3s\n",
      "[CV 5/5] END max_depth=8, min_samples_leaf=2, min_samples_split=10, n_estimators=50; total time=   0.3s\n",
      "[CV 1/5] END max_depth=8, min_samples_leaf=2, min_samples_split=10, n_estimators=100; total time=   0.5s\n",
      "[CV 2/5] END max_depth=8, min_samples_leaf=2, min_samples_split=10, n_estimators=100; total time=   0.6s\n",
      "[CV 3/5] END max_depth=8, min_samples_leaf=2, min_samples_split=10, n_estimators=100; total time=   0.6s\n",
      "[CV 4/5] END max_depth=8, min_samples_leaf=2, min_samples_split=10, n_estimators=100; total time=   0.6s\n",
      "[CV 5/5] END max_depth=8, min_samples_leaf=2, min_samples_split=10, n_estimators=100; total time=   0.6s\n",
      "[CV 1/5] END max_depth=8, min_samples_leaf=6, min_samples_split=2, n_estimators=50; total time=   0.3s\n",
      "[CV 2/5] END max_depth=8, min_samples_leaf=6, min_samples_split=2, n_estimators=50; total time=   0.3s\n",
      "[CV 3/5] END max_depth=8, min_samples_leaf=6, min_samples_split=2, n_estimators=50; total time=   0.3s\n",
      "[CV 4/5] END max_depth=8, min_samples_leaf=6, min_samples_split=2, n_estimators=50; total time=   0.3s\n",
      "[CV 5/5] END max_depth=8, min_samples_leaf=6, min_samples_split=2, n_estimators=50; total time=   0.3s\n",
      "[CV 1/5] END max_depth=8, min_samples_leaf=6, min_samples_split=2, n_estimators=100; total time=   0.6s\n",
      "[CV 2/5] END max_depth=8, min_samples_leaf=6, min_samples_split=2, n_estimators=100; total time=   0.5s\n",
      "[CV 3/5] END max_depth=8, min_samples_leaf=6, min_samples_split=2, n_estimators=100; total time=   0.5s\n",
      "[CV 4/5] END max_depth=8, min_samples_leaf=6, min_samples_split=2, n_estimators=100; total time=   0.5s\n",
      "[CV 5/5] END max_depth=8, min_samples_leaf=6, min_samples_split=2, n_estimators=100; total time=   0.5s\n",
      "[CV 1/5] END max_depth=8, min_samples_leaf=6, min_samples_split=6, n_estimators=50; total time=   0.3s\n",
      "[CV 2/5] END max_depth=8, min_samples_leaf=6, min_samples_split=6, n_estimators=50; total time=   0.3s\n",
      "[CV 3/5] END max_depth=8, min_samples_leaf=6, min_samples_split=6, n_estimators=50; total time=   0.3s\n",
      "[CV 4/5] END max_depth=8, min_samples_leaf=6, min_samples_split=6, n_estimators=50; total time=   0.3s\n",
      "[CV 5/5] END max_depth=8, min_samples_leaf=6, min_samples_split=6, n_estimators=50; total time=   0.3s\n",
      "[CV 1/5] END max_depth=8, min_samples_leaf=6, min_samples_split=6, n_estimators=100; total time=   0.5s\n",
      "[CV 2/5] END max_depth=8, min_samples_leaf=6, min_samples_split=6, n_estimators=100; total time=   0.6s\n",
      "[CV 3/5] END max_depth=8, min_samples_leaf=6, min_samples_split=6, n_estimators=100; total time=   0.5s\n",
      "[CV 4/5] END max_depth=8, min_samples_leaf=6, min_samples_split=6, n_estimators=100; total time=   0.6s\n",
      "[CV 5/5] END max_depth=8, min_samples_leaf=6, min_samples_split=6, n_estimators=100; total time=   0.5s\n",
      "[CV 1/5] END max_depth=8, min_samples_leaf=6, min_samples_split=10, n_estimators=50; total time=   0.3s\n",
      "[CV 2/5] END max_depth=8, min_samples_leaf=6, min_samples_split=10, n_estimators=50; total time=   0.3s\n",
      "[CV 3/5] END max_depth=8, min_samples_leaf=6, min_samples_split=10, n_estimators=50; total time=   0.3s\n",
      "[CV 4/5] END max_depth=8, min_samples_leaf=6, min_samples_split=10, n_estimators=50; total time=   0.3s\n",
      "[CV 5/5] END max_depth=8, min_samples_leaf=6, min_samples_split=10, n_estimators=50; total time=   0.3s\n",
      "[CV 1/5] END max_depth=8, min_samples_leaf=6, min_samples_split=10, n_estimators=100; total time=   0.6s\n",
      "[CV 2/5] END max_depth=8, min_samples_leaf=6, min_samples_split=10, n_estimators=100; total time=   0.6s\n",
      "[CV 3/5] END max_depth=8, min_samples_leaf=6, min_samples_split=10, n_estimators=100; total time=   0.6s\n",
      "[CV 4/5] END max_depth=8, min_samples_leaf=6, min_samples_split=10, n_estimators=100; total time=   0.6s\n",
      "[CV 5/5] END max_depth=8, min_samples_leaf=6, min_samples_split=10, n_estimators=100; total time=   0.6s\n",
      "[CV 1/5] END max_depth=8, min_samples_leaf=10, min_samples_split=2, n_estimators=50; total time=   0.3s\n",
      "[CV 2/5] END max_depth=8, min_samples_leaf=10, min_samples_split=2, n_estimators=50; total time=   0.3s\n",
      "[CV 3/5] END max_depth=8, min_samples_leaf=10, min_samples_split=2, n_estimators=50; total time=   0.3s\n",
      "[CV 4/5] END max_depth=8, min_samples_leaf=10, min_samples_split=2, n_estimators=50; total time=   0.3s\n",
      "[CV 5/5] END max_depth=8, min_samples_leaf=10, min_samples_split=2, n_estimators=50; total time=   0.3s\n",
      "[CV 1/5] END max_depth=8, min_samples_leaf=10, min_samples_split=2, n_estimators=100; total time=   0.6s\n",
      "[CV 2/5] END max_depth=8, min_samples_leaf=10, min_samples_split=2, n_estimators=100; total time=   0.5s\n",
      "[CV 3/5] END max_depth=8, min_samples_leaf=10, min_samples_split=2, n_estimators=100; total time=   0.5s\n",
      "[CV 4/5] END max_depth=8, min_samples_leaf=10, min_samples_split=2, n_estimators=100; total time=   0.5s\n",
      "[CV 5/5] END max_depth=8, min_samples_leaf=10, min_samples_split=2, n_estimators=100; total time=   0.5s\n",
      "[CV 1/5] END max_depth=8, min_samples_leaf=10, min_samples_split=6, n_estimators=50; total time=   0.3s\n",
      "[CV 2/5] END max_depth=8, min_samples_leaf=10, min_samples_split=6, n_estimators=50; total time=   0.3s\n",
      "[CV 3/5] END max_depth=8, min_samples_leaf=10, min_samples_split=6, n_estimators=50; total time=   0.3s\n",
      "[CV 4/5] END max_depth=8, min_samples_leaf=10, min_samples_split=6, n_estimators=50; total time=   0.3s\n",
      "[CV 5/5] END max_depth=8, min_samples_leaf=10, min_samples_split=6, n_estimators=50; total time=   0.3s\n",
      "[CV 1/5] END max_depth=8, min_samples_leaf=10, min_samples_split=6, n_estimators=100; total time=   0.5s\n",
      "[CV 2/5] END max_depth=8, min_samples_leaf=10, min_samples_split=6, n_estimators=100; total time=   0.5s\n",
      "[CV 3/5] END max_depth=8, min_samples_leaf=10, min_samples_split=6, n_estimators=100; total time=   0.6s\n",
      "[CV 4/5] END max_depth=8, min_samples_leaf=10, min_samples_split=6, n_estimators=100; total time=   0.5s\n",
      "[CV 5/5] END max_depth=8, min_samples_leaf=10, min_samples_split=6, n_estimators=100; total time=   0.5s\n",
      "[CV 1/5] END max_depth=8, min_samples_leaf=10, min_samples_split=10, n_estimators=50; total time=   0.3s\n",
      "[CV 2/5] END max_depth=8, min_samples_leaf=10, min_samples_split=10, n_estimators=50; total time=   0.3s\n",
      "[CV 3/5] END max_depth=8, min_samples_leaf=10, min_samples_split=10, n_estimators=50; total time=   0.3s\n",
      "[CV 4/5] END max_depth=8, min_samples_leaf=10, min_samples_split=10, n_estimators=50; total time=   0.3s\n",
      "[CV 5/5] END max_depth=8, min_samples_leaf=10, min_samples_split=10, n_estimators=50; total time=   0.3s\n",
      "[CV 1/5] END max_depth=8, min_samples_leaf=10, min_samples_split=10, n_estimators=100; total time=   0.5s\n",
      "[CV 2/5] END max_depth=8, min_samples_leaf=10, min_samples_split=10, n_estimators=100; total time=   0.5s\n",
      "[CV 3/5] END max_depth=8, min_samples_leaf=10, min_samples_split=10, n_estimators=100; total time=   0.5s\n",
      "[CV 4/5] END max_depth=8, min_samples_leaf=10, min_samples_split=10, n_estimators=100; total time=   0.5s\n",
      "[CV 5/5] END max_depth=8, min_samples_leaf=10, min_samples_split=10, n_estimators=100; total time=   0.5s\n",
      "\n",
      "{'max_depth': 8, 'min_samples_leaf': 2, 'min_samples_split': 2, 'n_estimators': 100}\n",
      "0.9099285295400626\n",
      "CPU times: user 1min 26s, sys: 628 ms, total: 1min 27s\n",
      "Wall time: 1min 29s\n"
     ]
    }
   ],
   "source": [
    "%%time\n",
    "\n",
    "rfc = RandomForestClassifier(random_state=12345) \n",
    "skf = StratifiedKFold(5)\n",
    "skf.get_n_splits(features_upsampled, target_upsampled)\n",
    "\n",
    "\n",
    "param_grid = { \n",
    "    'max_depth': [3,5,8],\n",
    "    'min_samples_leaf': [2,6,10],\n",
    "    'min_samples_split': [2,6,10],\n",
    "    'n_estimators': [50,100]\n",
    "\n",
    "}\n",
    "\n",
    "CV_rfc_ohe = GridSearchCV(estimator=rfc, param_grid=param_grid, cv= skf, scoring = 'roc_auc', verbose = 3) \n",
    "CV_rfc_ohe.fit(features_upsampled, target_upsampled)\n",
    "print()\n",
    "print(CV_rfc_ohe.best_params_)\n",
    "print(CV_rfc_ohe.best_score_)"
   ]
  },
  {
   "cell_type": "code",
   "execution_count": 27,
   "metadata": {},
   "outputs": [
    {
     "name": "stdout",
     "output_type": "stream",
     "text": [
      "accuracy: 0.86\n",
      "f1: 0.5354730795841994\n",
      "precision: 0.8281689937258655\n",
      "recall: 0.3982368685178989\n"
     ]
    }
   ],
   "source": [
    "model_rfc_upp = CV_rfc_ohe.best_estimator_\n",
    "metrics(model_rfc_upp) "
   ]
  },
  {
   "cell_type": "markdown",
   "metadata": {},
   "source": [
    "### Вывод\n",
    "\n",
    "Cбалансированность классов позволила увеличить у всех моделей метрику Recall, лучше разобраться в особенностях классов.\n",
    "\n",
    "Мы выявили модель с наилучшей F1-мерой почти равной 0.6, что является целью нашего исследования, это лес со 100 деревьями, максимальной глубиной = 8, минимальным количеством объектов в промежуточном узле = 6 и\n",
    "минимальным количеством объектов в листе = 2. AUC-ROC тоже наилучшая - 0.85."
   ]
  },
  {
   "cell_type": "markdown",
   "metadata": {},
   "source": [
    "## Тестирование модели"
   ]
  },
  {
   "cell_type": "code",
   "execution_count": 28,
   "metadata": {},
   "outputs": [
    {
     "name": "stdout",
     "output_type": "stream",
     "text": [
      "AUC_ROC: 0.8204274253354008\n",
      " F1: 0.6799345692475464\n",
      " Precision: 0.611874386653582\n",
      " Recall:0.7650306748466258\n"
     ]
    }
   ],
   "source": [
    "predictions = model_rfc_balanced.predict(features_remain_ohe)\n",
    "auc_roc = roc_auc_score( target_remain, predictions)\n",
    "f1 = f1_score( target_remain, predictions)\n",
    "precision = precision_score( target_remain, predictions)\n",
    "recall = recall_score(target_remain, predictions)\n",
    "\n",
    "print(f'AUC_ROC: {auc_roc}\\n F1: {f1}\\n Precision: {precision}\\n Recall:{recall}')"
   ]
  },
  {
   "cell_type": "markdown",
   "metadata": {},
   "source": [
    "### Вывод\n",
    "\n",
    "На тестовой выборке у лучшей модели-леса немного снизилась AUC-ROC, зато мы достигли лучшего F1 = 0.68, что удовлетворяет цели нашего исследования."
   ]
  },
  {
   "cell_type": "markdown",
   "metadata": {},
   "source": [
    "# Вывод\n",
    "\n",
    "1. Мы изучили данные и выяснили, что наша выборка несбалансированная: всего около 20% клиентов покинули банк.\n",
    "\n",
    "\n",
    "2. Разбили данные на 2 выборки: обучающую и тестовую в соотношении 1:4 соответственно.\n",
    "\n",
    "\n",
    "3. Преобразовали категориальные признаки в численные двумя техниками, OHE дала более высокую ROC_AUC для дерева.\n",
    "\n",
    "\n",
    "4. До борьбы с дисбалансом у дерева получилась лучшая F1 = 0.55, но ROC-AUC = 0.838, а у леса наоборот - лучшая ROC-AUC = 0.855, а F1 = 0.54. Расхождения в метриках у леса и дерева незначительные, а регрессия отстает по всем.\n",
    "\n",
    "\n",
    "5. Мы попробовали бороться с дисбалансом 2-умя способами: с помощью увеличения веса редкого классса и с помощью увеличения выборки редкого классса. Первый вариант дал лучший результат. Cбалансированность классов позволила увеличить у всех моделей метрику Recall, лучше разобраться в особенностях классов.\n",
    "\n",
    "\n",
    "6. Мы выявили модель с наилучшей F1-мерой почти равной 0.6, что является целью нашего исследования - это лес со 100 деревьями, максимальной глубиной = 8, минимальным количеством объектов в промежуточном узле = 6 и минимальным количеством объектов в листе = 2. AUC-ROC тоже наилучшая - 0.85.\n",
    "\n",
    "\n",
    "7. На тестовой выборке у лучшей модели-леса немного снизилась AUC-ROC, зато мы достигли лучшего F1 = 0.68, что удовлетворяет цели нашего исследования.\n",
    "\n",
    "\n",
    "\n",
    "**Таким образом, предлагаем оператору «Бета-Банку» модель `model_rfc_balanced` для прогнозирования оттока клиентов с метриками AUC-ROC = 0.82 и F1- мерой = 0.68 на тестовой выборке**."
   ]
  }
 ],
 "metadata": {
  "ExecuteTimeLog": [
   {
    "duration": 1565,
    "start_time": "2022-06-24T11:54:56.624Z"
   },
   {
    "duration": 122,
    "start_time": "2022-06-24T11:55:06.564Z"
   },
   {
    "duration": 4,
    "start_time": "2022-06-24T11:55:09.304Z"
   },
   {
    "duration": 15,
    "start_time": "2022-06-24T11:55:10.007Z"
   },
   {
    "duration": 89,
    "start_time": "2022-06-24T11:55:29.886Z"
   },
   {
    "duration": 44,
    "start_time": "2022-06-24T11:56:06.588Z"
   },
   {
    "duration": 103,
    "start_time": "2022-06-24T11:56:23.461Z"
   },
   {
    "duration": 124,
    "start_time": "2022-06-24T11:59:34.470Z"
   },
   {
    "duration": 125,
    "start_time": "2022-06-24T12:13:25.021Z"
   },
   {
    "duration": 112,
    "start_time": "2022-06-24T12:14:28.706Z"
   },
   {
    "duration": 125,
    "start_time": "2022-06-24T12:14:39.839Z"
   },
   {
    "duration": 97,
    "start_time": "2022-06-24T12:20:41.111Z"
   },
   {
    "duration": 47,
    "start_time": "2022-06-24T12:21:06.300Z"
   },
   {
    "duration": 16,
    "start_time": "2022-06-24T12:21:43.735Z"
   },
   {
    "duration": 122,
    "start_time": "2022-06-24T12:24:20.175Z"
   },
   {
    "duration": 45,
    "start_time": "2022-06-24T12:34:01.671Z"
   },
   {
    "duration": 96,
    "start_time": "2022-06-24T12:36:00.693Z"
   },
   {
    "duration": 40,
    "start_time": "2022-06-24T12:36:12.295Z"
   },
   {
    "duration": 44,
    "start_time": "2022-06-24T12:40:11.924Z"
   },
   {
    "duration": 14,
    "start_time": "2022-06-24T12:46:44.485Z"
   },
   {
    "duration": 486,
    "start_time": "2022-06-24T12:49:51.616Z"
   },
   {
    "duration": 21,
    "start_time": "2022-06-24T12:49:58.352Z"
   },
   {
    "duration": 26,
    "start_time": "2022-06-24T12:50:07.010Z"
   },
   {
    "duration": 19,
    "start_time": "2022-06-24T12:50:16.766Z"
   },
   {
    "duration": 4174,
    "start_time": "2022-06-24T12:52:09.109Z"
   },
   {
    "duration": 298,
    "start_time": "2022-06-24T13:35:25.584Z"
   },
   {
    "duration": 320,
    "start_time": "2022-06-24T13:36:07.979Z"
   },
   {
    "duration": 2749,
    "start_time": "2022-06-24T13:43:43.995Z"
   },
   {
    "duration": 0,
    "start_time": "2022-06-24T13:45:04.951Z"
   },
   {
    "duration": 19540,
    "start_time": "2022-06-24T13:45:10.376Z"
   },
   {
    "duration": 105,
    "start_time": "2022-06-24T13:50:02.082Z"
   },
   {
    "duration": 75,
    "start_time": "2022-06-24T13:51:25.225Z"
   },
   {
    "duration": 77,
    "start_time": "2022-06-24T13:51:35.118Z"
   },
   {
    "duration": 44,
    "start_time": "2022-06-24T13:51:37.989Z"
   },
   {
    "duration": 42,
    "start_time": "2022-06-24T13:51:51.805Z"
   },
   {
    "duration": 8,
    "start_time": "2022-06-24T13:53:36.196Z"
   },
   {
    "duration": 9,
    "start_time": "2022-06-24T13:54:13.780Z"
   },
   {
    "duration": 10,
    "start_time": "2022-06-24T13:54:26.516Z"
   },
   {
    "duration": 27,
    "start_time": "2022-06-24T13:54:54.693Z"
   },
   {
    "duration": 1234,
    "start_time": "2022-06-24T13:55:38.057Z"
   },
   {
    "duration": 1871,
    "start_time": "2022-06-24T13:55:39.293Z"
   },
   {
    "duration": 18,
    "start_time": "2022-06-24T13:55:41.167Z"
   },
   {
    "duration": 383,
    "start_time": "2022-06-24T13:55:41.187Z"
   },
   {
    "duration": 4,
    "start_time": "2022-06-24T13:55:49.303Z"
   },
   {
    "duration": 1939,
    "start_time": "2022-06-24T13:55:49.309Z"
   },
   {
    "duration": 23,
    "start_time": "2022-06-24T13:55:51.250Z"
   },
   {
    "duration": 296,
    "start_time": "2022-06-24T13:55:51.275Z"
   },
   {
    "duration": 31,
    "start_time": "2022-06-24T14:00:37.292Z"
   },
   {
    "duration": 43,
    "start_time": "2022-06-24T14:03:03.854Z"
   },
   {
    "duration": 48,
    "start_time": "2022-06-24T14:04:30.846Z"
   },
   {
    "duration": 14,
    "start_time": "2022-06-24T14:05:14.190Z"
   },
   {
    "duration": 39,
    "start_time": "2022-06-24T14:05:54.310Z"
   },
   {
    "duration": 547,
    "start_time": "2022-06-24T14:10:16.281Z"
   },
   {
    "duration": 382,
    "start_time": "2022-06-24T14:32:46.685Z"
   },
   {
    "duration": 387,
    "start_time": "2022-06-24T14:34:03.095Z"
   },
   {
    "duration": 383,
    "start_time": "2022-06-24T14:35:50.099Z"
   },
   {
    "duration": 413,
    "start_time": "2022-06-24T14:37:04.655Z"
   },
   {
    "duration": 442,
    "start_time": "2022-06-24T14:38:44.091Z"
   },
   {
    "duration": 432,
    "start_time": "2022-06-24T14:39:22.238Z"
   },
   {
    "duration": 48,
    "start_time": "2022-06-24T14:39:57.953Z"
   },
   {
    "duration": 560,
    "start_time": "2022-06-24T14:40:40.307Z"
   },
   {
    "duration": 3407,
    "start_time": "2022-06-24T14:41:54.396Z"
   },
   {
    "duration": 589,
    "start_time": "2022-06-24T14:41:57.806Z"
   },
   {
    "duration": 3307,
    "start_time": "2022-06-24T14:42:34.634Z"
   },
   {
    "duration": 29,
    "start_time": "2022-06-24T14:45:18.139Z"
   },
   {
    "duration": 57,
    "start_time": "2022-06-24T14:48:27.992Z"
   },
   {
    "duration": 5028,
    "start_time": "2022-06-24T14:48:58.041Z"
   },
   {
    "duration": 1396,
    "start_time": "2022-06-24T14:49:15.218Z"
   },
   {
    "duration": 4910,
    "start_time": "2022-06-24T14:49:16.616Z"
   },
   {
    "duration": 117,
    "start_time": "2022-06-24T14:49:21.531Z"
   },
   {
    "duration": 1755,
    "start_time": "2022-06-24T14:51:59.607Z"
   },
   {
    "duration": 543,
    "start_time": "2022-06-24T14:52:41.419Z"
   },
   {
    "duration": 2196,
    "start_time": "2022-06-24T14:57:28.837Z"
   },
   {
    "duration": 414,
    "start_time": "2022-06-24T14:59:34.242Z"
   },
   {
    "duration": 443,
    "start_time": "2022-06-24T15:00:55.125Z"
   },
   {
    "duration": 405,
    "start_time": "2022-06-24T15:01:23.148Z"
   },
   {
    "duration": 595,
    "start_time": "2022-06-24T15:02:21.704Z"
   },
   {
    "duration": 391,
    "start_time": "2022-06-24T15:02:26.019Z"
   },
   {
    "duration": 2152,
    "start_time": "2022-06-24T15:03:55.187Z"
   },
   {
    "duration": 888,
    "start_time": "2022-06-24T15:04:04.691Z"
   },
   {
    "duration": 2009,
    "start_time": "2022-06-24T15:04:09.511Z"
   },
   {
    "duration": 17,
    "start_time": "2022-06-24T15:04:46.312Z"
   },
   {
    "duration": 1944,
    "start_time": "2022-06-24T15:08:47.247Z"
   },
   {
    "duration": 13,
    "start_time": "2022-06-24T15:09:08.729Z"
   },
   {
    "duration": 17,
    "start_time": "2022-06-24T15:09:18.192Z"
   },
   {
    "duration": 3,
    "start_time": "2022-06-24T15:09:26.123Z"
   },
   {
    "duration": 4,
    "start_time": "2022-06-24T15:09:28.569Z"
   },
   {
    "duration": 3,
    "start_time": "2022-06-24T15:09:30.964Z"
   },
   {
    "duration": 3,
    "start_time": "2022-06-24T15:10:05.358Z"
   },
   {
    "duration": 44,
    "start_time": "2022-06-24T15:10:41.264Z"
   },
   {
    "duration": 0,
    "start_time": "2022-06-24T15:11:36.384Z"
   },
   {
    "duration": 4,
    "start_time": "2022-06-24T15:11:39.542Z"
   },
   {
    "duration": 2618,
    "start_time": "2022-06-24T15:11:39.548Z"
   },
   {
    "duration": 3,
    "start_time": "2022-06-24T15:11:42.168Z"
   },
   {
    "duration": 8,
    "start_time": "2022-06-24T15:11:42.173Z"
   },
   {
    "duration": 19645,
    "start_time": "2022-06-24T15:11:42.183Z"
   },
   {
    "duration": 2,
    "start_time": "2022-06-24T15:12:01.830Z"
   },
   {
    "duration": 1992,
    "start_time": "2022-06-24T15:12:01.834Z"
   },
   {
    "duration": 3,
    "start_time": "2022-06-24T15:12:23.847Z"
   },
   {
    "duration": 3,
    "start_time": "2022-06-24T15:14:24.665Z"
   },
   {
    "duration": 19,
    "start_time": "2022-06-24T15:14:52.703Z"
   },
   {
    "duration": 127,
    "start_time": "2022-06-24T15:15:19.866Z"
   },
   {
    "duration": 38,
    "start_time": "2022-06-24T15:15:27.310Z"
   },
   {
    "duration": 102,
    "start_time": "2022-06-24T15:16:33.600Z"
   },
   {
    "duration": 2,
    "start_time": "2022-06-24T15:16:49.205Z"
   },
   {
    "duration": 15,
    "start_time": "2022-06-24T15:16:49.872Z"
   },
   {
    "duration": 37,
    "start_time": "2022-06-24T15:16:51.297Z"
   },
   {
    "duration": 8,
    "start_time": "2022-06-24T15:18:02.408Z"
   },
   {
    "duration": 10,
    "start_time": "2022-06-24T15:18:31.436Z"
   },
   {
    "duration": 29,
    "start_time": "2022-06-24T15:19:16.439Z"
   },
   {
    "duration": 79,
    "start_time": "2022-06-24T15:21:34.485Z"
   },
   {
    "duration": 4,
    "start_time": "2022-06-24T15:23:04.168Z"
   },
   {
    "duration": 10,
    "start_time": "2022-06-24T15:23:34.796Z"
   },
   {
    "duration": 16,
    "start_time": "2022-06-24T15:23:47.023Z"
   },
   {
    "duration": 9,
    "start_time": "2022-06-24T15:23:52.792Z"
   },
   {
    "duration": 1477,
    "start_time": "2022-06-24T18:43:17.358Z"
   },
   {
    "duration": 4469,
    "start_time": "2022-06-24T18:43:18.837Z"
   },
   {
    "duration": 35,
    "start_time": "2022-06-24T18:43:23.308Z"
   },
   {
    "duration": 2,
    "start_time": "2022-06-24T18:43:23.345Z"
   },
   {
    "duration": 17741,
    "start_time": "2022-06-24T18:43:23.349Z"
   },
   {
    "duration": 3,
    "start_time": "2022-06-24T18:43:41.092Z"
   },
   {
    "duration": 7,
    "start_time": "2022-06-24T18:43:41.097Z"
   },
   {
    "duration": 21,
    "start_time": "2022-06-24T18:43:41.106Z"
   },
   {
    "duration": 134,
    "start_time": "2022-06-24T18:43:41.129Z"
   },
   {
    "duration": 0,
    "start_time": "2022-06-24T18:43:41.272Z"
   },
   {
    "duration": 0,
    "start_time": "2022-06-24T18:43:41.272Z"
   },
   {
    "duration": 2,
    "start_time": "2022-06-24T18:43:47.486Z"
   },
   {
    "duration": 3,
    "start_time": "2022-06-24T18:43:47.853Z"
   },
   {
    "duration": 14,
    "start_time": "2022-06-24T18:43:53.584Z"
   },
   {
    "duration": 10,
    "start_time": "2022-06-24T18:43:54.190Z"
   },
   {
    "duration": 4,
    "start_time": "2022-06-24T18:43:56.575Z"
   },
   {
    "duration": 3,
    "start_time": "2022-06-24T18:43:57.735Z"
   },
   {
    "duration": 17,
    "start_time": "2022-06-24T18:43:59.789Z"
   },
   {
    "duration": 33,
    "start_time": "2022-06-24T18:44:02.850Z"
   },
   {
    "duration": 53,
    "start_time": "2022-06-24T18:44:09.220Z"
   },
   {
    "duration": 14,
    "start_time": "2022-06-24T18:48:32.716Z"
   },
   {
    "duration": 1555,
    "start_time": "2022-06-24T18:48:51.167Z"
   },
   {
    "duration": 1676,
    "start_time": "2022-06-24T18:49:10.520Z"
   },
   {
    "duration": 446,
    "start_time": "2022-06-24T18:50:00.182Z"
   },
   {
    "duration": 11,
    "start_time": "2022-06-24T18:50:06.449Z"
   },
   {
    "duration": 15,
    "start_time": "2022-06-24T18:53:42.918Z"
   },
   {
    "duration": 3,
    "start_time": "2022-06-24T18:54:11.286Z"
   },
   {
    "duration": 15379,
    "start_time": "2022-06-24T18:54:12.921Z"
   },
   {
    "duration": 2,
    "start_time": "2022-06-24T18:54:34.704Z"
   },
   {
    "duration": 2,
    "start_time": "2022-06-24T18:54:36.433Z"
   },
   {
    "duration": 49,
    "start_time": "2022-06-24T18:54:37.876Z"
   },
   {
    "duration": 19,
    "start_time": "2022-06-24T18:54:43.587Z"
   },
   {
    "duration": 36,
    "start_time": "2022-06-24T18:55:08.580Z"
   },
   {
    "duration": 2,
    "start_time": "2022-06-24T18:58:04.234Z"
   },
   {
    "duration": 341,
    "start_time": "2022-06-24T18:58:21.969Z"
   },
   {
    "duration": 2201,
    "start_time": "2022-06-24T19:01:58.729Z"
   },
   {
    "duration": 2678,
    "start_time": "2022-06-24T19:02:23.269Z"
   },
   {
    "duration": 1859,
    "start_time": "2022-06-24T19:03:26.443Z"
   },
   {
    "duration": 1674,
    "start_time": "2022-06-24T19:05:32.320Z"
   },
   {
    "duration": 1823,
    "start_time": "2022-06-24T19:06:34.816Z"
   },
   {
    "duration": 70,
    "start_time": "2022-06-24T19:06:42.722Z"
   },
   {
    "duration": 21,
    "start_time": "2022-06-24T19:06:46.788Z"
   },
   {
    "duration": 131,
    "start_time": "2022-06-24T19:07:01.587Z"
   },
   {
    "duration": 4,
    "start_time": "2022-06-24T19:26:36.808Z"
   },
   {
    "duration": 2,
    "start_time": "2022-06-24T19:26:48.587Z"
   },
   {
    "duration": 18,
    "start_time": "2022-06-24T19:27:18.067Z"
   },
   {
    "duration": 22882,
    "start_time": "2022-06-24T19:29:29.337Z"
   },
   {
    "duration": 22,
    "start_time": "2022-06-24T19:30:07.542Z"
   },
   {
    "duration": 106,
    "start_time": "2022-06-24T19:30:25.103Z"
   },
   {
    "duration": 121,
    "start_time": "2022-06-24T19:31:25.402Z"
   },
   {
    "duration": 55,
    "start_time": "2022-06-24T19:32:32.080Z"
   },
   {
    "duration": 99,
    "start_time": "2022-06-24T19:32:36.291Z"
   },
   {
    "duration": 67,
    "start_time": "2022-06-24T19:34:14.277Z"
   },
   {
    "duration": 19,
    "start_time": "2022-06-24T19:34:21.325Z"
   },
   {
    "duration": 1397,
    "start_time": "2022-06-24T19:34:37.332Z"
   },
   {
    "duration": 2229,
    "start_time": "2022-06-24T19:34:38.731Z"
   },
   {
    "duration": 24,
    "start_time": "2022-06-24T19:34:40.965Z"
   },
   {
    "duration": 6,
    "start_time": "2022-06-24T19:34:40.995Z"
   },
   {
    "duration": 1376,
    "start_time": "2022-06-24T19:35:24.017Z"
   },
   {
    "duration": 2413,
    "start_time": "2022-06-24T19:35:25.395Z"
   },
   {
    "duration": 18,
    "start_time": "2022-06-24T19:35:27.810Z"
   },
   {
    "duration": 3,
    "start_time": "2022-06-24T19:35:27.830Z"
   },
   {
    "duration": 18170,
    "start_time": "2022-06-24T19:35:27.836Z"
   },
   {
    "duration": 2,
    "start_time": "2022-06-24T19:35:46.008Z"
   },
   {
    "duration": 5,
    "start_time": "2022-06-24T19:35:46.012Z"
   },
   {
    "duration": 22,
    "start_time": "2022-06-24T19:35:46.019Z"
   },
   {
    "duration": 89,
    "start_time": "2022-06-24T19:35:46.043Z"
   },
   {
    "duration": 36,
    "start_time": "2022-06-24T19:35:46.133Z"
   },
   {
    "duration": 1819,
    "start_time": "2022-06-24T19:35:46.171Z"
   },
   {
    "duration": 127,
    "start_time": "2022-06-24T19:35:47.992Z"
   },
   {
    "duration": 1519,
    "start_time": "2022-06-24T19:36:25.855Z"
   },
   {
    "duration": 2315,
    "start_time": "2022-06-24T19:36:27.376Z"
   },
   {
    "duration": 19,
    "start_time": "2022-06-24T19:36:29.693Z"
   },
   {
    "duration": 3,
    "start_time": "2022-06-24T19:36:29.715Z"
   },
   {
    "duration": 0,
    "start_time": "2022-06-24T19:37:32.680Z"
   },
   {
    "duration": 0,
    "start_time": "2022-06-24T19:37:32.681Z"
   },
   {
    "duration": 0,
    "start_time": "2022-06-24T19:37:32.682Z"
   },
   {
    "duration": 0,
    "start_time": "2022-06-24T19:37:32.682Z"
   },
   {
    "duration": 0,
    "start_time": "2022-06-24T19:37:32.683Z"
   },
   {
    "duration": 0,
    "start_time": "2022-06-24T19:37:32.684Z"
   },
   {
    "duration": 0,
    "start_time": "2022-06-24T19:37:32.685Z"
   },
   {
    "duration": 0,
    "start_time": "2022-06-24T19:37:32.686Z"
   },
   {
    "duration": 3,
    "start_time": "2022-06-24T19:37:38.823Z"
   },
   {
    "duration": 19713,
    "start_time": "2022-06-24T19:37:39.487Z"
   },
   {
    "duration": 53,
    "start_time": "2022-06-24T19:38:08.272Z"
   },
   {
    "duration": 29,
    "start_time": "2022-06-24T19:38:09.234Z"
   },
   {
    "duration": 68,
    "start_time": "2022-06-24T19:38:33.600Z"
   },
   {
    "duration": 21,
    "start_time": "2022-06-24T19:38:34.303Z"
   },
   {
    "duration": 95,
    "start_time": "2022-06-24T19:38:40.210Z"
   },
   {
    "duration": 3,
    "start_time": "2022-06-24T19:39:15.446Z"
   },
   {
    "duration": 1494,
    "start_time": "2022-06-24T19:39:36.378Z"
   },
   {
    "duration": 6,
    "start_time": "2022-06-24T19:39:37.879Z"
   },
   {
    "duration": 17,
    "start_time": "2022-06-24T19:39:37.892Z"
   },
   {
    "duration": 0,
    "start_time": "2022-06-24T19:40:31.369Z"
   },
   {
    "duration": 0,
    "start_time": "2022-06-24T19:40:31.370Z"
   },
   {
    "duration": 0,
    "start_time": "2022-06-24T19:40:31.372Z"
   },
   {
    "duration": 0,
    "start_time": "2022-06-24T19:40:31.373Z"
   },
   {
    "duration": 0,
    "start_time": "2022-06-24T19:40:31.374Z"
   },
   {
    "duration": 0,
    "start_time": "2022-06-24T19:40:31.375Z"
   },
   {
    "duration": 0,
    "start_time": "2022-06-24T19:40:31.376Z"
   },
   {
    "duration": 0,
    "start_time": "2022-06-24T19:40:31.377Z"
   },
   {
    "duration": 2,
    "start_time": "2022-06-24T19:40:33.349Z"
   },
   {
    "duration": 0,
    "start_time": "2022-06-24T19:41:19.019Z"
   },
   {
    "duration": 3,
    "start_time": "2022-06-24T19:41:31.040Z"
   },
   {
    "duration": 2133,
    "start_time": "2022-06-24T19:41:32.537Z"
   },
   {
    "duration": 4,
    "start_time": "2022-06-24T19:41:34.673Z"
   },
   {
    "duration": 14064,
    "start_time": "2022-06-24T19:41:37.750Z"
   },
   {
    "duration": 0,
    "start_time": "2022-06-24T19:42:43.477Z"
   },
   {
    "duration": 0,
    "start_time": "2022-06-24T19:42:43.478Z"
   },
   {
    "duration": 0,
    "start_time": "2022-06-24T19:42:43.480Z"
   },
   {
    "duration": 0,
    "start_time": "2022-06-24T19:42:43.481Z"
   },
   {
    "duration": 0,
    "start_time": "2022-06-24T19:42:43.483Z"
   },
   {
    "duration": 0,
    "start_time": "2022-06-24T19:42:43.488Z"
   },
   {
    "duration": 3,
    "start_time": "2022-06-24T19:42:45.227Z"
   },
   {
    "duration": 25,
    "start_time": "2022-06-24T19:42:46.930Z"
   },
   {
    "duration": 2,
    "start_time": "2022-06-24T19:42:48.373Z"
   },
   {
    "duration": 3,
    "start_time": "2022-06-24T19:42:49.369Z"
   },
   {
    "duration": 19,
    "start_time": "2022-06-24T19:42:51.022Z"
   },
   {
    "duration": 58,
    "start_time": "2022-06-24T19:42:52.459Z"
   },
   {
    "duration": 27,
    "start_time": "2022-06-24T19:42:53.548Z"
   },
   {
    "duration": 1412,
    "start_time": "2022-06-24T19:45:47.328Z"
   },
   {
    "duration": 2199,
    "start_time": "2022-06-24T19:45:48.741Z"
   },
   {
    "duration": 26,
    "start_time": "2022-06-24T19:45:50.942Z"
   },
   {
    "duration": 121,
    "start_time": "2022-06-24T19:45:50.976Z"
   },
   {
    "duration": 4,
    "start_time": "2022-06-24T19:48:56.673Z"
   },
   {
    "duration": 2166,
    "start_time": "2022-06-24T19:48:56.679Z"
   },
   {
    "duration": 27,
    "start_time": "2022-06-24T19:48:58.847Z"
   },
   {
    "duration": 116,
    "start_time": "2022-06-24T19:48:58.876Z"
   },
   {
    "duration": 1329,
    "start_time": "2022-06-24T19:49:10.493Z"
   },
   {
    "duration": 2153,
    "start_time": "2022-06-24T19:49:11.824Z"
   },
   {
    "duration": 22,
    "start_time": "2022-06-24T19:49:13.979Z"
   },
   {
    "duration": 112,
    "start_time": "2022-06-24T19:49:14.003Z"
   },
   {
    "duration": 195,
    "start_time": "2022-06-24T20:31:56.589Z"
   },
   {
    "duration": 1472,
    "start_time": "2022-06-24T20:32:25.788Z"
   },
   {
    "duration": 2287,
    "start_time": "2022-06-24T20:32:27.268Z"
   },
   {
    "duration": 45,
    "start_time": "2022-06-24T20:32:29.557Z"
   },
   {
    "duration": 141,
    "start_time": "2022-06-24T20:32:29.604Z"
   },
   {
    "duration": 168,
    "start_time": "2022-06-24T20:34:32.814Z"
   },
   {
    "duration": 35,
    "start_time": "2022-06-24T20:34:45.186Z"
   },
   {
    "duration": 37,
    "start_time": "2022-06-24T20:36:02.602Z"
   },
   {
    "duration": 25,
    "start_time": "2022-06-24T20:36:07.999Z"
   },
   {
    "duration": 2422,
    "start_time": "2022-06-24T20:40:16.790Z"
   },
   {
    "duration": 1381,
    "start_time": "2022-06-24T20:41:08.516Z"
   },
   {
    "duration": 2140,
    "start_time": "2022-06-24T20:41:09.899Z"
   },
   {
    "duration": 29,
    "start_time": "2022-06-24T20:41:12.040Z"
   },
   {
    "duration": 142,
    "start_time": "2022-06-24T20:41:12.071Z"
   },
   {
    "duration": 1385,
    "start_time": "2022-06-24T20:41:33.714Z"
   },
   {
    "duration": 2289,
    "start_time": "2022-06-24T20:41:35.103Z"
   },
   {
    "duration": 29,
    "start_time": "2022-06-24T20:41:37.393Z"
   },
   {
    "duration": 158,
    "start_time": "2022-06-24T20:41:37.424Z"
   },
   {
    "duration": 12,
    "start_time": "2022-06-24T20:42:33.266Z"
   },
   {
    "duration": 1450,
    "start_time": "2022-06-24T20:43:34.683Z"
   },
   {
    "duration": 2541,
    "start_time": "2022-06-24T20:43:36.135Z"
   },
   {
    "duration": 43,
    "start_time": "2022-06-24T20:43:38.678Z"
   },
   {
    "duration": 163,
    "start_time": "2022-06-24T20:43:38.723Z"
   },
   {
    "duration": 1515,
    "start_time": "2022-06-24T20:44:31.539Z"
   },
   {
    "duration": 2486,
    "start_time": "2022-06-24T20:44:33.056Z"
   },
   {
    "duration": 62,
    "start_time": "2022-06-24T20:44:35.544Z"
   },
   {
    "duration": 216,
    "start_time": "2022-06-24T20:44:35.607Z"
   },
   {
    "duration": 1567,
    "start_time": "2022-06-24T20:46:28.388Z"
   },
   {
    "duration": 2531,
    "start_time": "2022-06-24T20:46:29.958Z"
   },
   {
    "duration": 35,
    "start_time": "2022-06-24T20:46:32.491Z"
   },
   {
    "duration": 178,
    "start_time": "2022-06-24T20:46:32.527Z"
   },
   {
    "duration": 52,
    "start_time": "2022-06-24T20:53:37.736Z"
   },
   {
    "duration": 114,
    "start_time": "2022-06-24T20:53:39.823Z"
   },
   {
    "duration": 134,
    "start_time": "2022-06-24T20:58:57.261Z"
   },
   {
    "duration": 25,
    "start_time": "2022-06-24T20:59:15.683Z"
   },
   {
    "duration": 23,
    "start_time": "2022-06-24T20:59:22.458Z"
   },
   {
    "duration": 22,
    "start_time": "2022-06-24T21:00:21.252Z"
   },
   {
    "duration": 1671,
    "start_time": "2022-06-24T21:00:33.222Z"
   },
   {
    "duration": 940,
    "start_time": "2022-06-24T21:01:16.169Z"
   },
   {
    "duration": 874,
    "start_time": "2022-06-24T21:01:35.030Z"
   },
   {
    "duration": 9,
    "start_time": "2022-06-24T21:02:08.736Z"
   },
   {
    "duration": 140,
    "start_time": "2022-06-24T21:11:44.973Z"
   },
   {
    "duration": 46,
    "start_time": "2022-06-25T11:48:36.478Z"
   },
   {
    "duration": 829,
    "start_time": "2022-06-25T11:48:39.641Z"
   },
   {
    "duration": 0,
    "start_time": "2022-06-25T11:48:40.471Z"
   },
   {
    "duration": 0,
    "start_time": "2022-06-25T11:48:40.472Z"
   },
   {
    "duration": 0,
    "start_time": "2022-06-25T11:48:40.473Z"
   },
   {
    "duration": 0,
    "start_time": "2022-06-25T11:48:40.474Z"
   },
   {
    "duration": 8,
    "start_time": "2022-06-25T11:48:51.849Z"
   },
   {
    "duration": 0,
    "start_time": "2022-06-25T11:48:51.858Z"
   },
   {
    "duration": 1,
    "start_time": "2022-06-25T11:48:51.859Z"
   },
   {
    "duration": 0,
    "start_time": "2022-06-25T11:48:51.861Z"
   },
   {
    "duration": 0,
    "start_time": "2022-06-25T11:48:51.862Z"
   },
   {
    "duration": 8,
    "start_time": "2022-06-25T11:49:02.460Z"
   },
   {
    "duration": 712,
    "start_time": "2022-06-25T11:49:20.068Z"
   },
   {
    "duration": 0,
    "start_time": "2022-06-25T11:49:20.782Z"
   },
   {
    "duration": 0,
    "start_time": "2022-06-25T11:49:20.783Z"
   },
   {
    "duration": 0,
    "start_time": "2022-06-25T11:49:20.784Z"
   },
   {
    "duration": 0,
    "start_time": "2022-06-25T11:49:20.784Z"
   },
   {
    "duration": 5220,
    "start_time": "2022-06-25T11:49:59.191Z"
   },
   {
    "duration": 29,
    "start_time": "2022-06-25T11:50:07.110Z"
   },
   {
    "duration": 158,
    "start_time": "2022-06-25T11:50:09.337Z"
   },
   {
    "duration": 14,
    "start_time": "2022-06-25T11:50:12.422Z"
   },
   {
    "duration": 52,
    "start_time": "2022-06-25T11:50:33.286Z"
   },
   {
    "duration": 13,
    "start_time": "2022-06-25T11:50:49.334Z"
   },
   {
    "duration": 19,
    "start_time": "2022-06-25T11:51:35.999Z"
   },
   {
    "duration": 2109,
    "start_time": "2022-06-25T11:51:40.114Z"
   },
   {
    "duration": 22,
    "start_time": "2022-06-25T11:51:42.226Z"
   },
   {
    "duration": 135,
    "start_time": "2022-06-25T11:51:42.250Z"
   },
   {
    "duration": 5,
    "start_time": "2022-06-25T11:51:42.387Z"
   },
   {
    "duration": 17,
    "start_time": "2022-06-25T11:51:46.090Z"
   },
   {
    "duration": 13,
    "start_time": "2022-06-25T11:52:17.724Z"
   },
   {
    "duration": 24,
    "start_time": "2022-06-25T11:52:52.834Z"
   },
   {
    "duration": 13,
    "start_time": "2022-06-25T11:53:43.042Z"
   },
   {
    "duration": 2200,
    "start_time": "2022-06-25T11:53:50.972Z"
   },
   {
    "duration": 22,
    "start_time": "2022-06-25T11:53:53.174Z"
   },
   {
    "duration": 122,
    "start_time": "2022-06-25T11:53:53.197Z"
   },
   {
    "duration": 5,
    "start_time": "2022-06-25T11:53:53.320Z"
   },
   {
    "duration": 5,
    "start_time": "2022-06-25T11:54:12.628Z"
   },
   {
    "duration": 4,
    "start_time": "2022-06-25T11:54:35.993Z"
   },
   {
    "duration": 4,
    "start_time": "2022-06-25T11:55:18.643Z"
   },
   {
    "duration": 4,
    "start_time": "2022-06-25T11:55:29.136Z"
   },
   {
    "duration": 5,
    "start_time": "2022-06-25T11:55:37.548Z"
   },
   {
    "duration": 16,
    "start_time": "2022-06-25T11:56:14.549Z"
   },
   {
    "duration": 2146,
    "start_time": "2022-06-25T11:56:17.547Z"
   },
   {
    "duration": 35,
    "start_time": "2022-06-25T11:56:19.695Z"
   },
   {
    "duration": 112,
    "start_time": "2022-06-25T11:56:19.732Z"
   },
   {
    "duration": 5,
    "start_time": "2022-06-25T11:56:19.846Z"
   },
   {
    "duration": 1834,
    "start_time": "2022-06-26T10:19:26.624Z"
   },
   {
    "duration": 29,
    "start_time": "2022-06-26T10:19:28.460Z"
   },
   {
    "duration": 120,
    "start_time": "2022-06-26T10:19:28.490Z"
   },
   {
    "duration": 5,
    "start_time": "2022-06-26T10:19:28.613Z"
   },
   {
    "duration": 111,
    "start_time": "2022-06-26T10:29:06.320Z"
   },
   {
    "duration": 6,
    "start_time": "2022-06-26T10:30:08.236Z"
   },
   {
    "duration": 13,
    "start_time": "2022-06-26T10:30:31.965Z"
   },
   {
    "duration": 13,
    "start_time": "2022-06-26T10:32:16.909Z"
   },
   {
    "duration": 3,
    "start_time": "2022-06-26T10:33:19.377Z"
   },
   {
    "duration": 221,
    "start_time": "2022-06-26T10:35:40.160Z"
   },
   {
    "duration": 222,
    "start_time": "2022-06-26T10:35:47.859Z"
   },
   {
    "duration": 3,
    "start_time": "2022-06-26T10:37:01.116Z"
   },
   {
    "duration": 2067,
    "start_time": "2022-06-26T10:38:39.118Z"
   },
   {
    "duration": 38,
    "start_time": "2022-06-26T10:39:41.707Z"
   },
   {
    "duration": 774,
    "start_time": "2022-06-26T10:42:13.163Z"
   },
   {
    "duration": 785,
    "start_time": "2022-06-26T10:42:41.029Z"
   },
   {
    "duration": 16,
    "start_time": "2022-06-26T10:43:14.913Z"
   },
   {
    "duration": 16,
    "start_time": "2022-06-26T10:43:20.404Z"
   },
   {
    "duration": 30,
    "start_time": "2022-06-26T11:07:12.600Z"
   },
   {
    "duration": 24,
    "start_time": "2022-06-26T11:08:12.136Z"
   },
   {
    "duration": 19,
    "start_time": "2022-06-26T11:08:15.634Z"
   },
   {
    "duration": 33,
    "start_time": "2022-06-26T11:08:35.471Z"
   },
   {
    "duration": 16,
    "start_time": "2022-06-26T11:08:56.201Z"
   },
   {
    "duration": 18,
    "start_time": "2022-06-26T11:09:08.610Z"
   },
   {
    "duration": 30,
    "start_time": "2022-06-26T11:09:09.935Z"
   },
   {
    "duration": 6390,
    "start_time": "2022-06-26T12:21:58.534Z"
   },
   {
    "duration": 58,
    "start_time": "2022-06-26T12:22:04.926Z"
   },
   {
    "duration": 199,
    "start_time": "2022-06-26T12:22:04.986Z"
   },
   {
    "duration": 6,
    "start_time": "2022-06-26T12:22:05.186Z"
   },
   {
    "duration": 33,
    "start_time": "2022-06-26T12:22:05.195Z"
   },
   {
    "duration": 21,
    "start_time": "2022-06-26T12:22:05.230Z"
   },
   {
    "duration": 35,
    "start_time": "2022-06-26T12:22:05.252Z"
   },
   {
    "duration": 6112,
    "start_time": "2022-06-27T09:44:04.754Z"
   },
   {
    "duration": 47,
    "start_time": "2022-06-27T09:44:10.869Z"
   },
   {
    "duration": 168,
    "start_time": "2022-06-27T09:44:10.917Z"
   },
   {
    "duration": 6,
    "start_time": "2022-06-27T09:44:11.087Z"
   },
   {
    "duration": 35,
    "start_time": "2022-06-27T09:44:11.095Z"
   },
   {
    "duration": 38,
    "start_time": "2022-06-27T09:44:11.132Z"
   },
   {
    "duration": 39,
    "start_time": "2022-06-27T09:44:11.172Z"
   },
   {
    "duration": 2147,
    "start_time": "2022-06-27T10:02:02.388Z"
   },
   {
    "duration": 65,
    "start_time": "2022-06-27T10:02:04.538Z"
   },
   {
    "duration": 167,
    "start_time": "2022-06-27T10:02:04.605Z"
   },
   {
    "duration": 6,
    "start_time": "2022-06-27T10:02:04.774Z"
   },
   {
    "duration": 21,
    "start_time": "2022-06-27T10:02:04.782Z"
   },
   {
    "duration": 3535,
    "start_time": "2022-06-27T10:02:11.138Z"
   },
   {
    "duration": 25,
    "start_time": "2022-06-27T10:02:14.676Z"
   },
   {
    "duration": 138,
    "start_time": "2022-06-27T10:02:14.703Z"
   },
   {
    "duration": 27,
    "start_time": "2022-06-27T10:02:14.843Z"
   },
   {
    "duration": 16,
    "start_time": "2022-06-27T10:02:14.872Z"
   },
   {
    "duration": 116,
    "start_time": "2022-06-27T10:04:05.229Z"
   },
   {
    "duration": 14,
    "start_time": "2022-06-27T10:04:17.276Z"
   },
   {
    "duration": 830,
    "start_time": "2022-06-27T10:07:02.332Z"
   },
   {
    "duration": 440,
    "start_time": "2022-06-27T10:07:11.280Z"
   },
   {
    "duration": 398,
    "start_time": "2022-06-27T10:07:44.045Z"
   },
   {
    "duration": 399,
    "start_time": "2022-06-27T10:08:26.318Z"
   },
   {
    "duration": 365,
    "start_time": "2022-06-27T10:08:46.452Z"
   },
   {
    "duration": 409,
    "start_time": "2022-06-27T10:08:59.363Z"
   },
   {
    "duration": 3,
    "start_time": "2022-06-27T10:14:54.370Z"
   },
   {
    "duration": 10,
    "start_time": "2022-06-27T10:15:10.378Z"
   },
   {
    "duration": 19,
    "start_time": "2022-06-27T10:15:45.723Z"
   },
   {
    "duration": 29,
    "start_time": "2022-06-27T10:16:05.001Z"
   },
   {
    "duration": 27,
    "start_time": "2022-06-27T10:19:12.160Z"
   },
   {
    "duration": 61,
    "start_time": "2022-06-27T10:19:23.207Z"
   },
   {
    "duration": 40,
    "start_time": "2022-06-27T10:20:06.914Z"
   },
   {
    "duration": 35,
    "start_time": "2022-06-27T10:21:41.797Z"
   },
   {
    "duration": 33,
    "start_time": "2022-06-27T10:21:50.893Z"
   },
   {
    "duration": 29,
    "start_time": "2022-06-27T10:22:13.895Z"
   },
   {
    "duration": 42,
    "start_time": "2022-06-27T10:22:16.896Z"
   },
   {
    "duration": 34,
    "start_time": "2022-06-27T10:22:34.675Z"
   },
   {
    "duration": 37,
    "start_time": "2022-06-27T10:23:05.582Z"
   },
   {
    "duration": 35,
    "start_time": "2022-06-27T10:23:21.323Z"
   },
   {
    "duration": 30,
    "start_time": "2022-06-27T10:23:36.255Z"
   },
   {
    "duration": 35,
    "start_time": "2022-06-27T10:24:00.229Z"
   },
   {
    "duration": 38,
    "start_time": "2022-06-27T10:24:25.369Z"
   },
   {
    "duration": 36,
    "start_time": "2022-06-27T10:25:18.709Z"
   },
   {
    "duration": 53,
    "start_time": "2022-06-27T10:25:38.758Z"
   },
   {
    "duration": 23,
    "start_time": "2022-06-27T10:25:54.564Z"
   },
   {
    "duration": 24,
    "start_time": "2022-06-27T10:26:07.401Z"
   },
   {
    "duration": 24,
    "start_time": "2022-06-27T10:26:17.165Z"
   },
   {
    "duration": 47,
    "start_time": "2022-06-27T10:26:36.103Z"
   },
   {
    "duration": 18,
    "start_time": "2022-06-27T10:26:39.711Z"
   },
   {
    "duration": 31,
    "start_time": "2022-06-27T10:26:42.386Z"
   },
   {
    "duration": 30,
    "start_time": "2022-06-27T10:27:00.954Z"
   },
   {
    "duration": 38,
    "start_time": "2022-06-27T10:27:05.042Z"
   },
   {
    "duration": 11,
    "start_time": "2022-06-27T10:27:19.031Z"
   },
   {
    "duration": 39,
    "start_time": "2022-06-27T10:27:47.709Z"
   },
   {
    "duration": 62,
    "start_time": "2022-06-27T10:27:54.187Z"
   },
   {
    "duration": 28,
    "start_time": "2022-06-27T10:28:34.449Z"
   },
   {
    "duration": 29,
    "start_time": "2022-06-27T10:28:40.630Z"
   },
   {
    "duration": 38,
    "start_time": "2022-06-27T10:28:46.923Z"
   },
   {
    "duration": 27,
    "start_time": "2022-06-27T10:29:26.871Z"
   },
   {
    "duration": 26,
    "start_time": "2022-06-27T10:29:36.394Z"
   },
   {
    "duration": 26,
    "start_time": "2022-06-27T10:29:54.205Z"
   },
   {
    "duration": 31,
    "start_time": "2022-06-27T10:30:04.982Z"
   },
   {
    "duration": 30,
    "start_time": "2022-06-27T10:30:13.388Z"
   },
   {
    "duration": 37,
    "start_time": "2022-06-27T10:30:22.805Z"
   },
   {
    "duration": 39,
    "start_time": "2022-06-27T10:30:47.760Z"
   },
   {
    "duration": 63,
    "start_time": "2022-06-27T10:31:10.040Z"
   },
   {
    "duration": 57,
    "start_time": "2022-06-27T10:31:16.713Z"
   },
   {
    "duration": 9,
    "start_time": "2022-06-27T10:31:23.065Z"
   },
   {
    "duration": 17,
    "start_time": "2022-06-27T10:32:01.681Z"
   },
   {
    "duration": 18,
    "start_time": "2022-06-27T10:32:40.992Z"
   },
   {
    "duration": 15,
    "start_time": "2022-06-27T10:33:27.393Z"
   },
   {
    "duration": 14,
    "start_time": "2022-06-27T10:35:08.787Z"
   },
   {
    "duration": 66,
    "start_time": "2022-06-27T10:35:50.062Z"
   },
   {
    "duration": 63,
    "start_time": "2022-06-27T10:36:37.018Z"
   },
   {
    "duration": 8258,
    "start_time": "2022-06-27T20:02:29.022Z"
   },
   {
    "duration": 60,
    "start_time": "2022-06-27T20:02:37.287Z"
   },
   {
    "duration": 323,
    "start_time": "2022-06-27T20:02:37.349Z"
   },
   {
    "duration": 8,
    "start_time": "2022-06-27T20:02:37.676Z"
   },
   {
    "duration": 48,
    "start_time": "2022-06-27T20:02:37.686Z"
   },
   {
    "duration": 78,
    "start_time": "2022-06-27T20:02:37.736Z"
   },
   {
    "duration": 596,
    "start_time": "2022-06-27T20:02:37.817Z"
   },
   {
    "duration": 92,
    "start_time": "2022-06-27T20:02:38.414Z"
   },
   {
    "duration": 157,
    "start_time": "2022-06-27T20:02:38.508Z"
   },
   {
    "duration": 458,
    "start_time": "2022-06-27T20:02:59.282Z"
   },
   {
    "duration": 422,
    "start_time": "2022-06-27T20:03:15.233Z"
   },
   {
    "duration": 93,
    "start_time": "2022-06-27T20:03:46.319Z"
   },
   {
    "duration": 105,
    "start_time": "2022-06-27T20:03:51.238Z"
   },
   {
    "duration": 6,
    "start_time": "2022-06-27T20:10:12.543Z"
   },
   {
    "duration": 9,
    "start_time": "2022-06-27T20:11:53.082Z"
   },
   {
    "duration": 247,
    "start_time": "2022-06-27T20:12:08.781Z"
   },
   {
    "duration": 36,
    "start_time": "2022-06-27T20:13:32.021Z"
   },
   {
    "duration": 46,
    "start_time": "2022-06-27T20:13:41.899Z"
   },
   {
    "duration": 53,
    "start_time": "2022-06-27T20:14:15.290Z"
   },
   {
    "duration": 36,
    "start_time": "2022-06-27T20:15:06.218Z"
   },
   {
    "duration": 29,
    "start_time": "2022-06-27T20:19:16.463Z"
   },
   {
    "duration": 45,
    "start_time": "2022-06-27T20:19:39.052Z"
   },
   {
    "duration": 46,
    "start_time": "2022-06-27T20:20:13.242Z"
   },
   {
    "duration": 16,
    "start_time": "2022-06-27T20:20:19.833Z"
   },
   {
    "duration": 50,
    "start_time": "2022-06-27T20:20:50.355Z"
   },
   {
    "duration": 3163,
    "start_time": "2022-06-27T20:20:56.337Z"
   },
   {
    "duration": 40,
    "start_time": "2022-06-27T20:20:59.508Z"
   },
   {
    "duration": 227,
    "start_time": "2022-06-27T20:20:59.550Z"
   },
   {
    "duration": 29,
    "start_time": "2022-06-27T20:20:59.791Z"
   },
   {
    "duration": 32,
    "start_time": "2022-06-27T20:20:59.823Z"
   },
   {
    "duration": 74,
    "start_time": "2022-06-27T20:20:59.857Z"
   },
   {
    "duration": 603,
    "start_time": "2022-06-27T20:20:59.933Z"
   },
   {
    "duration": 77,
    "start_time": "2022-06-27T20:21:00.538Z"
   },
   {
    "duration": 112,
    "start_time": "2022-06-27T20:21:00.617Z"
   },
   {
    "duration": 43,
    "start_time": "2022-06-27T20:21:00.732Z"
   },
   {
    "duration": 0,
    "start_time": "2022-06-27T20:21:00.778Z"
   },
   {
    "duration": 29,
    "start_time": "2022-06-27T20:21:36.017Z"
   },
   {
    "duration": 141,
    "start_time": "2022-06-27T20:21:49.319Z"
   },
   {
    "duration": 20,
    "start_time": "2022-06-27T20:33:13.688Z"
   },
   {
    "duration": 4,
    "start_time": "2022-06-27T20:33:33.313Z"
   },
   {
    "duration": 15,
    "start_time": "2022-06-27T20:33:48.743Z"
   },
   {
    "duration": 5,
    "start_time": "2022-06-27T20:34:23.899Z"
   },
   {
    "duration": 18,
    "start_time": "2022-06-27T20:36:15.506Z"
   },
   {
    "duration": 34,
    "start_time": "2022-06-27T20:36:22.352Z"
   },
   {
    "duration": 25,
    "start_time": "2022-06-27T20:37:36.995Z"
   },
   {
    "duration": 197,
    "start_time": "2022-06-27T20:37:46.630Z"
   },
   {
    "duration": 157,
    "start_time": "2022-06-27T20:40:09.287Z"
   },
   {
    "duration": 15,
    "start_time": "2022-06-27T20:40:22.937Z"
   },
   {
    "duration": 104835,
    "start_time": "2022-06-27T20:41:07.019Z"
   },
   {
    "duration": 19,
    "start_time": "2022-06-27T20:48:02.353Z"
   },
   {
    "duration": 23,
    "start_time": "2022-06-27T20:49:13.884Z"
   },
   {
    "duration": 19,
    "start_time": "2022-06-27T20:51:42.122Z"
   },
   {
    "duration": 103481,
    "start_time": "2022-06-27T20:52:06.530Z"
   },
   {
    "duration": 23,
    "start_time": "2022-06-27T20:54:13.396Z"
   },
   {
    "duration": 19,
    "start_time": "2022-06-27T20:54:23.064Z"
   },
   {
    "duration": 27,
    "start_time": "2022-06-27T20:57:50.685Z"
   },
   {
    "duration": 3464,
    "start_time": "2022-06-27T20:58:17.439Z"
   },
   {
    "duration": 54,
    "start_time": "2022-06-27T20:58:24.344Z"
   },
   {
    "duration": 291,
    "start_time": "2022-06-27T20:58:37.395Z"
   },
   {
    "duration": 98,
    "start_time": "2022-06-27T20:59:43.534Z"
   },
   {
    "duration": 141,
    "start_time": "2022-06-27T21:01:12.113Z"
   },
   {
    "duration": 158,
    "start_time": "2022-06-27T21:01:23.823Z"
   },
   {
    "duration": 186,
    "start_time": "2022-06-27T21:04:55.032Z"
   },
   {
    "duration": 168795,
    "start_time": "2022-06-27T21:34:53.807Z"
   },
   {
    "duration": 21,
    "start_time": "2022-06-27T21:39:45.653Z"
   },
   {
    "duration": 15,
    "start_time": "2022-06-27T21:39:49.793Z"
   },
   {
    "duration": 78464,
    "start_time": "2022-06-27T21:39:59.833Z"
   },
   {
    "duration": 2377,
    "start_time": "2022-06-27T21:41:52.852Z"
   },
   {
    "duration": 16,
    "start_time": "2022-06-27T21:46:21.158Z"
   },
   {
    "duration": 48,
    "start_time": "2022-06-27T21:46:27.376Z"
   },
   {
    "duration": 822,
    "start_time": "2022-06-27T21:46:41.272Z"
   },
   {
    "duration": 16,
    "start_time": "2022-06-27T21:49:37.302Z"
   },
   {
    "duration": 2568,
    "start_time": "2022-06-27T21:49:47.078Z"
   },
   {
    "duration": 2437,
    "start_time": "2022-06-27T21:51:26.455Z"
   },
   {
    "duration": 2637,
    "start_time": "2022-06-27T21:54:06.183Z"
   },
   {
    "duration": 126,
    "start_time": "2022-06-27T21:59:57.216Z"
   },
   {
    "duration": 77618,
    "start_time": "2022-06-27T22:01:41.432Z"
   },
   {
    "duration": 2302,
    "start_time": "2022-06-27T22:03:42.889Z"
   },
   {
    "duration": 4,
    "start_time": "2022-06-27T22:06:06.987Z"
   },
   {
    "duration": 10,
    "start_time": "2022-06-27T22:06:44.018Z"
   },
   {
    "duration": 852,
    "start_time": "2022-06-27T22:06:51.519Z"
   },
   {
    "duration": 9,
    "start_time": "2022-06-27T22:11:01.300Z"
   },
   {
    "duration": 9,
    "start_time": "2022-06-27T22:11:16.902Z"
   },
   {
    "duration": 12,
    "start_time": "2022-06-27T22:11:42.580Z"
   },
   {
    "duration": 10,
    "start_time": "2022-06-27T22:12:11.289Z"
   },
   {
    "duration": 75399,
    "start_time": "2022-06-27T22:13:12.504Z"
   },
   {
    "duration": 2340,
    "start_time": "2022-06-27T22:14:47.646Z"
   },
   {
    "duration": 104934,
    "start_time": "2022-06-27T22:16:16.400Z"
   },
   {
    "duration": 2331,
    "start_time": "2022-06-27T22:18:15.755Z"
   },
   {
    "duration": 99460,
    "start_time": "2022-06-27T22:19:15.420Z"
   },
   {
    "duration": 2248,
    "start_time": "2022-06-27T22:21:14.582Z"
   },
   {
    "duration": 8,
    "start_time": "2022-06-27T22:27:48.873Z"
   },
   {
    "duration": 10,
    "start_time": "2022-06-27T22:27:53.713Z"
   },
   {
    "duration": 113,
    "start_time": "2022-06-27T22:28:23.597Z"
   },
   {
    "duration": 109,
    "start_time": "2022-06-27T22:54:06.078Z"
   },
   {
    "duration": 124,
    "start_time": "2022-06-27T23:47:40.018Z"
   },
   {
    "duration": 3689,
    "start_time": "2022-06-28T00:08:45.303Z"
   },
   {
    "duration": 27,
    "start_time": "2022-06-28T00:08:48.994Z"
   },
   {
    "duration": 176,
    "start_time": "2022-06-28T00:08:49.023Z"
   },
   {
    "duration": 5,
    "start_time": "2022-06-28T00:08:49.201Z"
   },
   {
    "duration": 16,
    "start_time": "2022-06-28T00:08:49.208Z"
   },
   {
    "duration": 52,
    "start_time": "2022-06-28T00:08:49.226Z"
   },
   {
    "duration": 404,
    "start_time": "2022-06-28T00:08:49.280Z"
   },
   {
    "duration": 102,
    "start_time": "2022-06-28T00:08:49.686Z"
   },
   {
    "duration": 101,
    "start_time": "2022-06-28T00:08:49.790Z"
   },
   {
    "duration": 99,
    "start_time": "2022-06-28T00:08:49.895Z"
   },
   {
    "duration": 51,
    "start_time": "2022-06-28T00:08:49.996Z"
   },
   {
    "duration": 0,
    "start_time": "2022-06-28T00:08:50.049Z"
   },
   {
    "duration": 0,
    "start_time": "2022-06-28T00:08:50.050Z"
   },
   {
    "duration": 0,
    "start_time": "2022-06-28T00:08:50.051Z"
   },
   {
    "duration": 0,
    "start_time": "2022-06-28T00:08:50.053Z"
   },
   {
    "duration": 0,
    "start_time": "2022-06-28T00:08:50.054Z"
   },
   {
    "duration": 0,
    "start_time": "2022-06-28T00:08:50.055Z"
   },
   {
    "duration": 0,
    "start_time": "2022-06-28T00:08:50.056Z"
   },
   {
    "duration": 0,
    "start_time": "2022-06-28T00:08:50.058Z"
   },
   {
    "duration": 0,
    "start_time": "2022-06-28T00:08:50.065Z"
   },
   {
    "duration": 0,
    "start_time": "2022-06-28T00:08:50.066Z"
   },
   {
    "duration": 0,
    "start_time": "2022-06-28T00:08:50.068Z"
   },
   {
    "duration": 0,
    "start_time": "2022-06-28T00:08:50.069Z"
   },
   {
    "duration": 0,
    "start_time": "2022-06-28T00:08:50.069Z"
   },
   {
    "duration": 0,
    "start_time": "2022-06-28T00:08:50.070Z"
   },
   {
    "duration": 3556,
    "start_time": "2022-06-28T00:09:39.614Z"
   },
   {
    "duration": 41,
    "start_time": "2022-06-28T00:09:43.179Z"
   },
   {
    "duration": 144,
    "start_time": "2022-06-28T00:09:43.222Z"
   },
   {
    "duration": 7,
    "start_time": "2022-06-28T00:09:43.376Z"
   },
   {
    "duration": 20,
    "start_time": "2022-06-28T00:09:43.384Z"
   },
   {
    "duration": 16,
    "start_time": "2022-06-28T00:09:43.406Z"
   },
   {
    "duration": 416,
    "start_time": "2022-06-28T00:09:43.423Z"
   },
   {
    "duration": 73,
    "start_time": "2022-06-28T00:09:43.841Z"
   },
   {
    "duration": 120,
    "start_time": "2022-06-28T00:09:43.916Z"
   },
   {
    "duration": 110,
    "start_time": "2022-06-28T00:09:44.059Z"
   },
   {
    "duration": 83536,
    "start_time": "2022-06-28T00:09:44.176Z"
   },
   {
    "duration": 139,
    "start_time": "2022-06-28T00:11:07.714Z"
   },
   {
    "duration": 79624,
    "start_time": "2022-06-28T00:11:07.859Z"
   },
   {
    "duration": 2298,
    "start_time": "2022-06-28T00:12:27.487Z"
   },
   {
    "duration": 28,
    "start_time": "2022-06-28T00:12:29.795Z"
   },
   {
    "duration": 755,
    "start_time": "2022-06-28T00:12:29.824Z"
   },
   {
    "duration": 2722,
    "start_time": "2022-06-28T00:12:30.581Z"
   },
   {
    "duration": 109,
    "start_time": "2022-06-28T00:12:33.305Z"
   },
   {
    "duration": 79719,
    "start_time": "2022-06-28T00:12:33.416Z"
   },
   {
    "duration": 2289,
    "start_time": "2022-06-28T00:13:53.137Z"
   },
   {
    "duration": 833,
    "start_time": "2022-06-28T00:13:55.428Z"
   },
   {
    "duration": 21,
    "start_time": "2022-06-28T00:13:56.263Z"
   },
   {
    "duration": 98517,
    "start_time": "2022-06-28T00:13:56.361Z"
   },
   {
    "duration": 2346,
    "start_time": "2022-06-28T00:15:34.884Z"
   },
   {
    "duration": 156,
    "start_time": "2022-06-28T00:15:37.232Z"
   },
   {
    "duration": 5547,
    "start_time": "2022-06-28T16:48:29.406Z"
   },
   {
    "duration": 28,
    "start_time": "2022-06-28T16:48:34.955Z"
   },
   {
    "duration": 196,
    "start_time": "2022-06-28T16:48:34.984Z"
   },
   {
    "duration": 6,
    "start_time": "2022-06-28T16:48:35.182Z"
   },
   {
    "duration": 15,
    "start_time": "2022-06-28T16:48:38.854Z"
   },
   {
    "duration": 18,
    "start_time": "2022-06-28T16:51:35.809Z"
   },
   {
    "duration": 23,
    "start_time": "2022-06-28T16:53:13.984Z"
   },
   {
    "duration": 17,
    "start_time": "2022-06-28T16:53:27.062Z"
   },
   {
    "duration": 28,
    "start_time": "2022-06-28T17:00:13.540Z"
   },
   {
    "duration": 720,
    "start_time": "2022-06-28T17:00:54.510Z"
   },
   {
    "duration": 615,
    "start_time": "2022-06-28T17:01:18.137Z"
   },
   {
    "duration": 6,
    "start_time": "2022-06-28T17:07:54.475Z"
   },
   {
    "duration": 58,
    "start_time": "2022-06-28T17:08:12.871Z"
   },
   {
    "duration": 49,
    "start_time": "2022-06-28T17:09:20.676Z"
   },
   {
    "duration": 24,
    "start_time": "2022-06-28T17:10:25.288Z"
   },
   {
    "duration": 49,
    "start_time": "2022-06-28T17:10:33.749Z"
   },
   {
    "duration": 130,
    "start_time": "2022-06-28T17:11:17.426Z"
   },
   {
    "duration": 2092,
    "start_time": "2022-06-28T17:16:44.569Z"
   },
   {
    "duration": 4,
    "start_time": "2022-06-28T17:18:35.219Z"
   },
   {
    "duration": 3,
    "start_time": "2022-06-28T17:27:19.231Z"
   },
   {
    "duration": 22,
    "start_time": "2022-06-28T17:50:36.351Z"
   },
   {
    "duration": 4,
    "start_time": "2022-06-28T17:59:39.555Z"
   },
   {
    "duration": 4,
    "start_time": "2022-06-28T17:59:51.730Z"
   },
   {
    "duration": 80,
    "start_time": "2022-06-28T17:59:56.593Z"
   },
   {
    "duration": 49,
    "start_time": "2022-06-28T18:00:41.806Z"
   },
   {
    "duration": 53,
    "start_time": "2022-06-28T18:00:47.171Z"
   },
   {
    "duration": 58,
    "start_time": "2022-06-28T18:01:01.498Z"
   },
   {
    "duration": 21,
    "start_time": "2022-06-28T18:02:22.595Z"
   },
   {
    "duration": 123,
    "start_time": "2022-06-28T18:02:29.153Z"
   },
   {
    "duration": 116,
    "start_time": "2022-06-28T18:03:08.880Z"
   },
   {
    "duration": 77748,
    "start_time": "2022-06-28T18:09:02.588Z"
   },
   {
    "duration": 51,
    "start_time": "2022-06-28T18:11:09.219Z"
   },
   {
    "duration": 3490,
    "start_time": "2022-06-28T18:21:09.018Z"
   },
   {
    "duration": 27,
    "start_time": "2022-06-28T18:21:12.510Z"
   },
   {
    "duration": 198,
    "start_time": "2022-06-28T18:21:12.539Z"
   },
   {
    "duration": 5,
    "start_time": "2022-06-28T18:21:12.740Z"
   },
   {
    "duration": 14,
    "start_time": "2022-06-28T18:21:12.746Z"
   },
   {
    "duration": 17,
    "start_time": "2022-06-28T18:21:12.762Z"
   },
   {
    "duration": 48,
    "start_time": "2022-06-28T18:21:12.780Z"
   },
   {
    "duration": 13,
    "start_time": "2022-06-28T18:21:12.830Z"
   },
   {
    "duration": 22,
    "start_time": "2022-06-28T18:21:12.844Z"
   },
   {
    "duration": 682,
    "start_time": "2022-06-28T18:21:12.869Z"
   },
   {
    "duration": 121,
    "start_time": "2022-06-28T18:21:13.552Z"
   },
   {
    "duration": 4,
    "start_time": "2022-06-28T18:21:13.674Z"
   },
   {
    "duration": 216,
    "start_time": "2022-06-28T18:21:13.679Z"
   },
   {
    "duration": 73730,
    "start_time": "2022-06-28T18:21:13.897Z"
   },
   {
    "duration": 108,
    "start_time": "2022-06-28T18:22:27.628Z"
   },
   {
    "duration": 67087,
    "start_time": "2022-06-28T18:22:27.738Z"
   },
   {
    "duration": 2053,
    "start_time": "2022-06-28T18:23:34.827Z"
   },
   {
    "duration": 16,
    "start_time": "2022-06-28T18:23:36.881Z"
   },
   {
    "duration": 645,
    "start_time": "2022-06-28T18:23:36.898Z"
   },
   {
    "duration": 2334,
    "start_time": "2022-06-28T18:23:37.545Z"
   },
   {
    "duration": 102,
    "start_time": "2022-06-28T18:23:39.880Z"
   },
   {
    "duration": 67040,
    "start_time": "2022-06-28T18:23:39.984Z"
   },
   {
    "duration": 1995,
    "start_time": "2022-06-28T18:24:47.027Z"
   },
   {
    "duration": 716,
    "start_time": "2022-06-28T18:24:49.023Z"
   },
   {
    "duration": 97,
    "start_time": "2022-06-28T18:24:49.831Z"
   },
   {
    "duration": 89831,
    "start_time": "2022-06-28T18:24:49.930Z"
   },
   {
    "duration": 2032,
    "start_time": "2022-06-28T18:26:19.762Z"
   },
   {
    "duration": 110,
    "start_time": "2022-06-28T18:26:21.796Z"
   }
  ],
  "kernelspec": {
   "display_name": "Python 3 (ipykernel)",
   "language": "python",
   "name": "python3"
  },
  "language_info": {
   "codemirror_mode": {
    "name": "ipython",
    "version": 3
   },
   "file_extension": ".py",
   "mimetype": "text/x-python",
   "name": "python",
   "nbconvert_exporter": "python",
   "pygments_lexer": "ipython3",
   "version": "3.9.12"
  },
  "toc": {
   "base_numbering": 1,
   "nav_menu": {},
   "number_sections": true,
   "sideBar": true,
   "skip_h1_title": true,
   "title_cell": "Содержание",
   "title_sidebar": "Contents",
   "toc_cell": true,
   "toc_position": {
    "height": "calc(100% - 180px)",
    "left": "10px",
    "top": "150px",
    "width": "282.969px"
   },
   "toc_section_display": true,
   "toc_window_display": true
  }
 },
 "nbformat": 4,
 "nbformat_minor": 2
}
