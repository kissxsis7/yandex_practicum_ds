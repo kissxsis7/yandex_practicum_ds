{
 "cells": [
  {
   "cell_type": "markdown",
   "metadata": {},
   "source": [
    "# Рекомендация тарифов"
   ]
  },
  {
   "cell_type": "markdown",
   "metadata": {},
   "source": [
    "Оператору мобильной связи «Мегалайн» необходимо построить систему, способную проанализировать поведение клиентов на основании их архивных данных и предложить им новый тариф: «Смарт» или «Ультра».\n",
    "\n",
    "**Цель исследования** — <u>построить модели и выбрать ту, у которой натбольший accuracy (не менее 0.75) </u> <a id='hypothesis'></a>\n",
    "\n",
    "**Ход исследования:**\n",
    "\n",
    "В вашем распоряжении данные о поведении клиентов, которые уже перешли на эти тарифы. Так как предобработка данных уже проведена, исследование пройдёт в 6 этапов:\n",
    " 1. Обзор данных.\n",
    " 2. Разбиение данных на выборки.\n",
    " 3. Исследование моделей.\n",
    " 4. Проверка моделей на тестовой выборке.\n",
    " 5. Проверка моделей на адекватность.\n",
    " 6. Общий вывод."
   ]
  },
  {
   "cell_type": "markdown",
   "metadata": {},
   "source": [
    "## Обзор данных"
   ]
  },
  {
   "cell_type": "code",
   "execution_count": 10,
   "metadata": {},
   "outputs": [],
   "source": [
    "import pandas as pd\n",
    "import sklearn \n",
    "from sklearn.model_selection import train_test_split, StratifiedKFold, GridSearchCV\n",
    "from sklearn.metrics import accuracy_score\n",
    "import numpy as np\n",
    "\n",
    "from sklearn.tree import DecisionTreeClassifier\n",
    "from sklearn.ensemble import RandomForestClassifier\n",
    "from sklearn.linear_model import LogisticRegression \n",
    "from sklearn.dummy import DummyClassifier\n",
    "\n",
    "from tqdm import tqdm\n",
    "import matplotlib.pyplot as plt"
   ]
  },
  {
   "cell_type": "code",
   "execution_count": 11,
   "metadata": {},
   "outputs": [
    {
     "data": {
      "text/html": [
       "<div>\n",
       "<style scoped>\n",
       "    .dataframe tbody tr th:only-of-type {\n",
       "        vertical-align: middle;\n",
       "    }\n",
       "\n",
       "    .dataframe tbody tr th {\n",
       "        vertical-align: top;\n",
       "    }\n",
       "\n",
       "    .dataframe thead th {\n",
       "        text-align: right;\n",
       "    }\n",
       "</style>\n",
       "<table border=\"1\" class=\"dataframe\">\n",
       "  <thead>\n",
       "    <tr style=\"text-align: right;\">\n",
       "      <th></th>\n",
       "      <th>calls</th>\n",
       "      <th>minutes</th>\n",
       "      <th>messages</th>\n",
       "      <th>mb_used</th>\n",
       "      <th>is_ultra</th>\n",
       "    </tr>\n",
       "  </thead>\n",
       "  <tbody>\n",
       "    <tr>\n",
       "      <th>0</th>\n",
       "      <td>40.0</td>\n",
       "      <td>311.90</td>\n",
       "      <td>83.0</td>\n",
       "      <td>19915.42</td>\n",
       "      <td>0</td>\n",
       "    </tr>\n",
       "    <tr>\n",
       "      <th>1</th>\n",
       "      <td>85.0</td>\n",
       "      <td>516.75</td>\n",
       "      <td>56.0</td>\n",
       "      <td>22696.96</td>\n",
       "      <td>0</td>\n",
       "    </tr>\n",
       "    <tr>\n",
       "      <th>2</th>\n",
       "      <td>77.0</td>\n",
       "      <td>467.66</td>\n",
       "      <td>86.0</td>\n",
       "      <td>21060.45</td>\n",
       "      <td>0</td>\n",
       "    </tr>\n",
       "    <tr>\n",
       "      <th>3</th>\n",
       "      <td>106.0</td>\n",
       "      <td>745.53</td>\n",
       "      <td>81.0</td>\n",
       "      <td>8437.39</td>\n",
       "      <td>1</td>\n",
       "    </tr>\n",
       "    <tr>\n",
       "      <th>4</th>\n",
       "      <td>66.0</td>\n",
       "      <td>418.74</td>\n",
       "      <td>1.0</td>\n",
       "      <td>14502.75</td>\n",
       "      <td>0</td>\n",
       "    </tr>\n",
       "    <tr>\n",
       "      <th>5</th>\n",
       "      <td>58.0</td>\n",
       "      <td>344.56</td>\n",
       "      <td>21.0</td>\n",
       "      <td>15823.37</td>\n",
       "      <td>0</td>\n",
       "    </tr>\n",
       "    <tr>\n",
       "      <th>6</th>\n",
       "      <td>57.0</td>\n",
       "      <td>431.64</td>\n",
       "      <td>20.0</td>\n",
       "      <td>3738.90</td>\n",
       "      <td>1</td>\n",
       "    </tr>\n",
       "    <tr>\n",
       "      <th>7</th>\n",
       "      <td>15.0</td>\n",
       "      <td>132.40</td>\n",
       "      <td>6.0</td>\n",
       "      <td>21911.60</td>\n",
       "      <td>0</td>\n",
       "    </tr>\n",
       "    <tr>\n",
       "      <th>8</th>\n",
       "      <td>7.0</td>\n",
       "      <td>43.39</td>\n",
       "      <td>3.0</td>\n",
       "      <td>2538.67</td>\n",
       "      <td>1</td>\n",
       "    </tr>\n",
       "    <tr>\n",
       "      <th>9</th>\n",
       "      <td>90.0</td>\n",
       "      <td>665.41</td>\n",
       "      <td>38.0</td>\n",
       "      <td>17358.61</td>\n",
       "      <td>0</td>\n",
       "    </tr>\n",
       "  </tbody>\n",
       "</table>\n",
       "</div>"
      ],
      "text/plain": [
       "   calls  minutes  messages   mb_used  is_ultra\n",
       "0   40.0   311.90      83.0  19915.42         0\n",
       "1   85.0   516.75      56.0  22696.96         0\n",
       "2   77.0   467.66      86.0  21060.45         0\n",
       "3  106.0   745.53      81.0   8437.39         1\n",
       "4   66.0   418.74       1.0  14502.75         0\n",
       "5   58.0   344.56      21.0  15823.37         0\n",
       "6   57.0   431.64      20.0   3738.90         1\n",
       "7   15.0   132.40       6.0  21911.60         0\n",
       "8    7.0    43.39       3.0   2538.67         1\n",
       "9   90.0   665.41      38.0  17358.61         0"
      ]
     },
     "metadata": {},
     "output_type": "display_data"
    },
    {
     "name": "stdout",
     "output_type": "stream",
     "text": [
      "<class 'pandas.core.frame.DataFrame'>\n",
      "RangeIndex: 3214 entries, 0 to 3213\n",
      "Data columns (total 5 columns):\n",
      " #   Column    Non-Null Count  Dtype  \n",
      "---  ------    --------------  -----  \n",
      " 0   calls     3214 non-null   float64\n",
      " 1   minutes   3214 non-null   float64\n",
      " 2   messages  3214 non-null   float64\n",
      " 3   mb_used   3214 non-null   float64\n",
      " 4   is_ultra  3214 non-null   int64  \n",
      "dtypes: float64(4), int64(1)\n",
      "memory usage: 125.7 KB\n"
     ]
    },
    {
     "data": {
      "text/plain": [
       "None"
      ]
     },
     "metadata": {},
     "output_type": "display_data"
    },
    {
     "data": {
      "text/html": [
       "<div>\n",
       "<style scoped>\n",
       "    .dataframe tbody tr th:only-of-type {\n",
       "        vertical-align: middle;\n",
       "    }\n",
       "\n",
       "    .dataframe tbody tr th {\n",
       "        vertical-align: top;\n",
       "    }\n",
       "\n",
       "    .dataframe thead th {\n",
       "        text-align: right;\n",
       "    }\n",
       "</style>\n",
       "<table border=\"1\" class=\"dataframe\">\n",
       "  <thead>\n",
       "    <tr style=\"text-align: right;\">\n",
       "      <th></th>\n",
       "      <th>calls</th>\n",
       "      <th>minutes</th>\n",
       "      <th>messages</th>\n",
       "      <th>mb_used</th>\n",
       "      <th>is_ultra</th>\n",
       "    </tr>\n",
       "  </thead>\n",
       "  <tbody>\n",
       "    <tr>\n",
       "      <th>count</th>\n",
       "      <td>3214.000000</td>\n",
       "      <td>3214.000000</td>\n",
       "      <td>3214.000000</td>\n",
       "      <td>3214.000000</td>\n",
       "      <td>3214.000000</td>\n",
       "    </tr>\n",
       "    <tr>\n",
       "      <th>mean</th>\n",
       "      <td>63.038892</td>\n",
       "      <td>438.208787</td>\n",
       "      <td>38.281269</td>\n",
       "      <td>17207.673836</td>\n",
       "      <td>0.306472</td>\n",
       "    </tr>\n",
       "    <tr>\n",
       "      <th>std</th>\n",
       "      <td>33.236368</td>\n",
       "      <td>234.569872</td>\n",
       "      <td>36.148326</td>\n",
       "      <td>7570.968246</td>\n",
       "      <td>0.461100</td>\n",
       "    </tr>\n",
       "    <tr>\n",
       "      <th>min</th>\n",
       "      <td>0.000000</td>\n",
       "      <td>0.000000</td>\n",
       "      <td>0.000000</td>\n",
       "      <td>0.000000</td>\n",
       "      <td>0.000000</td>\n",
       "    </tr>\n",
       "    <tr>\n",
       "      <th>25%</th>\n",
       "      <td>40.000000</td>\n",
       "      <td>274.575000</td>\n",
       "      <td>9.000000</td>\n",
       "      <td>12491.902500</td>\n",
       "      <td>0.000000</td>\n",
       "    </tr>\n",
       "    <tr>\n",
       "      <th>50%</th>\n",
       "      <td>62.000000</td>\n",
       "      <td>430.600000</td>\n",
       "      <td>30.000000</td>\n",
       "      <td>16943.235000</td>\n",
       "      <td>0.000000</td>\n",
       "    </tr>\n",
       "    <tr>\n",
       "      <th>75%</th>\n",
       "      <td>82.000000</td>\n",
       "      <td>571.927500</td>\n",
       "      <td>57.000000</td>\n",
       "      <td>21424.700000</td>\n",
       "      <td>1.000000</td>\n",
       "    </tr>\n",
       "    <tr>\n",
       "      <th>max</th>\n",
       "      <td>244.000000</td>\n",
       "      <td>1632.060000</td>\n",
       "      <td>224.000000</td>\n",
       "      <td>49745.730000</td>\n",
       "      <td>1.000000</td>\n",
       "    </tr>\n",
       "  </tbody>\n",
       "</table>\n",
       "</div>"
      ],
      "text/plain": [
       "             calls      minutes     messages       mb_used     is_ultra\n",
       "count  3214.000000  3214.000000  3214.000000   3214.000000  3214.000000\n",
       "mean     63.038892   438.208787    38.281269  17207.673836     0.306472\n",
       "std      33.236368   234.569872    36.148326   7570.968246     0.461100\n",
       "min       0.000000     0.000000     0.000000      0.000000     0.000000\n",
       "25%      40.000000   274.575000     9.000000  12491.902500     0.000000\n",
       "50%      62.000000   430.600000    30.000000  16943.235000     0.000000\n",
       "75%      82.000000   571.927500    57.000000  21424.700000     1.000000\n",
       "max     244.000000  1632.060000   224.000000  49745.730000     1.000000"
      ]
     },
     "metadata": {},
     "output_type": "display_data"
    },
    {
     "name": "stdout",
     "output_type": "stream",
     "text": [
      "Количество дубликатов: 0\n"
     ]
    }
   ],
   "source": [
    "df = pd.read_csv('/datasets/users_behavior.csv')\n",
    "display(df.head(10))\n",
    "display(df.info())\n",
    "display(df.describe())\n",
    "print('Количество дубликатов:', df.duplicated().sum())"
   ]
  },
  {
   "cell_type": "markdown",
   "metadata": {},
   "source": [
    "**Столбцы:**\n",
    "\n",
    "- `сalls` — количество звонков,\n",
    "- `minutes` — суммарная длительность звонков в минутах,\n",
    "- `messages` — количество sms-сообщений,\n",
    "- `mb_used` — израсходованный интернет-трафик в Мб,\n",
    "- `is_ultra` — каким тарифом пользовался в течение месяца («Ультра» — 1, «Смарт» — 0)."
   ]
  },
  {
   "cell_type": "markdown",
   "metadata": {},
   "source": [
    "### Вывод\n",
    "В датафрейме 5 столбцов и 3214 строк с информацией о потреблении трафика пользователей тарифов «Смарт» или «Ультра». \n",
    "Видно, что наша выборка несбалансированная: около 30% клиентов используют тариф «Ультра», 70% - «Смарт»."
   ]
  },
  {
   "cell_type": "code",
   "execution_count": 12,
   "metadata": {
    "scrolled": true
   },
   "outputs": [
    {
     "data": {
      "image/png": "[encoded data removed]",
      "text/plain": [
       "<Figure size 432x288 with 1 Axes>"
      ]
     },
     "metadata": {},
     "output_type": "display_data"
    }
   ],
   "source": [
    "tariffs_pivot = df.pivot_table(index='is_ultra', values='calls', aggfunc='count')\n",
    "\n",
    "values = tariffs_pivot['calls'].values.tolist()\n",
    "labels = ['\"Смарт\"', '\"Ультра\"']\n",
    "\n",
    "fig, ax = plt.subplots()\n",
    "\n",
    "ax.pie(values, labels=labels, autopct='%1.1f%%', colors = ['lightgrey', 'thistle'], \n",
    "           wedgeprops = {'lw':1, 'ls':'-','edgecolor':'black'},\n",
    "           explode = [0.1, 0.1], shadow = True, textprops={'fontsize': 13})\n",
    "plt.title('Распределение абонентов из выборки по тарифам', fontsize = 15)         \n",
    "plt.show()"
   ]
  },
  {
   "cell_type": "markdown",
   "metadata": {},
   "source": [
    "## Разбиение данных на выборки"
   ]
  },
  {
   "cell_type": "code",
   "execution_count": 13,
   "metadata": {},
   "outputs": [],
   "source": [
    "# разобъем исходные данные на тестовую и оставшуюся выборку в соотношении 1:4\n",
    "# получим df_test, равную 20% от исходного df\n",
    "df_remain, df_test = train_test_split(df, test_size=0.2, random_state=12345, stratify=df['is_ultra'])\n",
    "\n",
    "# разобъем оставшуюся выборку на обучающую и валидационную в соотношении 1:3\n",
    "# получим df_train, df_valid, 60% и 20% от исходного df соответственно\n",
    "df_train, df_valid = train_test_split(df_remain, test_size=0.25, random_state=12345, stratify=df_remain['is_ultra'])"
   ]
  },
  {
   "cell_type": "markdown",
   "metadata": {},
   "source": [
    "Убедимся, что сохранили изначальное распределение таргетов во всех новых датасетах. Посмотрим на круговые диаграммы распределения абонетов по тарифам:"
   ]
  },
  {
   "cell_type": "code",
   "execution_count": 14,
   "metadata": {},
   "outputs": [
    {
     "name": "stderr",
     "output_type": "stream",
     "text": [
      "3it [00:00, 64.80it/s]\n"
     ]
    },
    {
     "data": {
      "image/png": "[encoded data removed]",
      "text/plain": [
       "<Figure size 1800x1800 with 3 Axes>"
      ]
     },
     "metadata": {},
     "output_type": "display_data"
    }
   ],
   "source": [
    "fig = plt.figure(figsize=(25,25))\n",
    "\n",
    "for sample, s_name, i in tqdm(zip([df_train, df_test, df_valid], \n",
    "                                  ['обучающей', 'тестовой', 'валидационной'],\n",
    "                                  [0,1,2])):\n",
    "\n",
    "    values = sample['is_ultra'].value_counts().tolist()\n",
    "    labels = ['\"Смарт\"', '\"Ультра\"']    \n",
    "    ax1 = plt.subplot2grid((1,3),(0,i))       \n",
    "    plt.pie(values, labels=labels, autopct='%1.1f%%', colors = ['lightgrey', 'lightpink'], \n",
    "               wedgeprops = {'lw':1, 'ls':'-','edgecolor':'black'},\n",
    "               explode = [0.1, 0.1], shadow = True, textprops={'fontsize': 20})\n",
    "    plt.title(f'Распределение абонентов по тарифам\\n в {s_name} выборке', fontsize = 22) \n",
    "    \n",
    "plt.show()"
   ]
  },
  {
   "cell_type": "code",
   "execution_count": 15,
   "metadata": {
    "scrolled": true
   },
   "outputs": [
    {
     "name": "stdout",
     "output_type": "stream",
     "text": [
      "features_train\n"
     ]
    },
    {
     "data": {
      "text/html": [
       "<div>\n",
       "<style scoped>\n",
       "    .dataframe tbody tr th:only-of-type {\n",
       "        vertical-align: middle;\n",
       "    }\n",
       "\n",
       "    .dataframe tbody tr th {\n",
       "        vertical-align: top;\n",
       "    }\n",
       "\n",
       "    .dataframe thead th {\n",
       "        text-align: right;\n",
       "    }\n",
       "</style>\n",
       "<table border=\"1\" class=\"dataframe\">\n",
       "  <thead>\n",
       "    <tr style=\"text-align: right;\">\n",
       "      <th></th>\n",
       "      <th>calls</th>\n",
       "      <th>minutes</th>\n",
       "      <th>messages</th>\n",
       "      <th>mb_used</th>\n",
       "    </tr>\n",
       "  </thead>\n",
       "  <tbody>\n",
       "    <tr>\n",
       "      <th>2123</th>\n",
       "      <td>34.0</td>\n",
       "      <td>252.87</td>\n",
       "      <td>26.0</td>\n",
       "      <td>24550.06</td>\n",
       "    </tr>\n",
       "    <tr>\n",
       "      <th>2444</th>\n",
       "      <td>71.0</td>\n",
       "      <td>528.33</td>\n",
       "      <td>17.0</td>\n",
       "      <td>19918.66</td>\n",
       "    </tr>\n",
       "    <tr>\n",
       "      <th>1598</th>\n",
       "      <td>0.0</td>\n",
       "      <td>0.00</td>\n",
       "      <td>28.0</td>\n",
       "      <td>16573.03</td>\n",
       "    </tr>\n",
       "    <tr>\n",
       "      <th>1883</th>\n",
       "      <td>55.0</td>\n",
       "      <td>388.18</td>\n",
       "      <td>40.0</td>\n",
       "      <td>12398.26</td>\n",
       "    </tr>\n",
       "    <tr>\n",
       "      <th>934</th>\n",
       "      <td>70.0</td>\n",
       "      <td>450.03</td>\n",
       "      <td>51.0</td>\n",
       "      <td>17567.13</td>\n",
       "    </tr>\n",
       "  </tbody>\n",
       "</table>\n",
       "</div>"
      ],
      "text/plain": [
       "      calls  minutes  messages   mb_used\n",
       "2123   34.0   252.87      26.0  24550.06\n",
       "2444   71.0   528.33      17.0  19918.66\n",
       "1598    0.0     0.00      28.0  16573.03\n",
       "1883   55.0   388.18      40.0  12398.26\n",
       "934    70.0   450.03      51.0  17567.13"
      ]
     },
     "metadata": {},
     "output_type": "display_data"
    },
    {
     "name": "stdout",
     "output_type": "stream",
     "text": [
      "target_train\n"
     ]
    },
    {
     "data": {
      "text/plain": [
       "108     1\n",
       "990     0\n",
       "462     1\n",
       "726     0\n",
       "2230    0\n",
       "Name: is_ultra, dtype: int64"
      ]
     },
     "metadata": {},
     "output_type": "display_data"
    },
    {
     "name": "stdout",
     "output_type": "stream",
     "text": [
      "Доля df_train от исходного df - 60 %\n",
      "\n",
      "features_test\n"
     ]
    },
    {
     "data": {
      "text/html": [
       "<div>\n",
       "<style scoped>\n",
       "    .dataframe tbody tr th:only-of-type {\n",
       "        vertical-align: middle;\n",
       "    }\n",
       "\n",
       "    .dataframe tbody tr th {\n",
       "        vertical-align: top;\n",
       "    }\n",
       "\n",
       "    .dataframe thead th {\n",
       "        text-align: right;\n",
       "    }\n",
       "</style>\n",
       "<table border=\"1\" class=\"dataframe\">\n",
       "  <thead>\n",
       "    <tr style=\"text-align: right;\">\n",
       "      <th></th>\n",
       "      <th>calls</th>\n",
       "      <th>minutes</th>\n",
       "      <th>messages</th>\n",
       "      <th>mb_used</th>\n",
       "    </tr>\n",
       "  </thead>\n",
       "  <tbody>\n",
       "    <tr>\n",
       "      <th>902</th>\n",
       "      <td>98.0</td>\n",
       "      <td>657.01</td>\n",
       "      <td>70.0</td>\n",
       "      <td>13309.90</td>\n",
       "    </tr>\n",
       "    <tr>\n",
       "      <th>2053</th>\n",
       "      <td>72.0</td>\n",
       "      <td>490.54</td>\n",
       "      <td>64.0</td>\n",
       "      <td>12550.98</td>\n",
       "    </tr>\n",
       "    <tr>\n",
       "      <th>754</th>\n",
       "      <td>98.0</td>\n",
       "      <td>723.12</td>\n",
       "      <td>10.0</td>\n",
       "      <td>14688.44</td>\n",
       "    </tr>\n",
       "    <tr>\n",
       "      <th>1283</th>\n",
       "      <td>60.0</td>\n",
       "      <td>427.29</td>\n",
       "      <td>6.0</td>\n",
       "      <td>7023.77</td>\n",
       "    </tr>\n",
       "    <tr>\n",
       "      <th>1119</th>\n",
       "      <td>72.0</td>\n",
       "      <td>415.28</td>\n",
       "      <td>25.0</td>\n",
       "      <td>30960.74</td>\n",
       "    </tr>\n",
       "  </tbody>\n",
       "</table>\n",
       "</div>"
      ],
      "text/plain": [
       "      calls  minutes  messages   mb_used\n",
       "902    98.0   657.01      70.0  13309.90\n",
       "2053   72.0   490.54      64.0  12550.98\n",
       "754    98.0   723.12      10.0  14688.44\n",
       "1283   60.0   427.29       6.0   7023.77\n",
       "1119   72.0   415.28      25.0  30960.74"
      ]
     },
     "metadata": {},
     "output_type": "display_data"
    },
    {
     "name": "stdout",
     "output_type": "stream",
     "text": [
      "target_test\n"
     ]
    },
    {
     "data": {
      "text/plain": [
       "3175    0\n",
       "2509    0\n",
       "2972    0\n",
       "205     1\n",
       "511     0\n",
       "Name: is_ultra, dtype: int64"
      ]
     },
     "metadata": {},
     "output_type": "display_data"
    },
    {
     "name": "stdout",
     "output_type": "stream",
     "text": [
      "Доля df_test от исходного df - 20 %\n",
      "\n",
      "features_valid\n"
     ]
    },
    {
     "data": {
      "text/html": [
       "<div>\n",
       "<style scoped>\n",
       "    .dataframe tbody tr th:only-of-type {\n",
       "        vertical-align: middle;\n",
       "    }\n",
       "\n",
       "    .dataframe tbody tr th {\n",
       "        vertical-align: top;\n",
       "    }\n",
       "\n",
       "    .dataframe thead th {\n",
       "        text-align: right;\n",
       "    }\n",
       "</style>\n",
       "<table border=\"1\" class=\"dataframe\">\n",
       "  <thead>\n",
       "    <tr style=\"text-align: right;\">\n",
       "      <th></th>\n",
       "      <th>calls</th>\n",
       "      <th>minutes</th>\n",
       "      <th>messages</th>\n",
       "      <th>mb_used</th>\n",
       "    </tr>\n",
       "  </thead>\n",
       "  <tbody>\n",
       "    <tr>\n",
       "      <th>2475</th>\n",
       "      <td>29.0</td>\n",
       "      <td>136.48</td>\n",
       "      <td>0.0</td>\n",
       "      <td>18100.45</td>\n",
       "    </tr>\n",
       "    <tr>\n",
       "      <th>2214</th>\n",
       "      <td>69.0</td>\n",
       "      <td>538.58</td>\n",
       "      <td>64.0</td>\n",
       "      <td>28639.49</td>\n",
       "    </tr>\n",
       "    <tr>\n",
       "      <th>45</th>\n",
       "      <td>35.0</td>\n",
       "      <td>235.58</td>\n",
       "      <td>97.0</td>\n",
       "      <td>20710.71</td>\n",
       "    </tr>\n",
       "    <tr>\n",
       "      <th>1299</th>\n",
       "      <td>76.0</td>\n",
       "      <td>501.18</td>\n",
       "      <td>0.0</td>\n",
       "      <td>16152.55</td>\n",
       "    </tr>\n",
       "    <tr>\n",
       "      <th>3088</th>\n",
       "      <td>122.0</td>\n",
       "      <td>783.69</td>\n",
       "      <td>0.0</td>\n",
       "      <td>17135.40</td>\n",
       "    </tr>\n",
       "  </tbody>\n",
       "</table>\n",
       "</div>"
      ],
      "text/plain": [
       "      calls  minutes  messages   mb_used\n",
       "2475   29.0   136.48       0.0  18100.45\n",
       "2214   69.0   538.58      64.0  28639.49\n",
       "45     35.0   235.58      97.0  20710.71\n",
       "1299   76.0   501.18       0.0  16152.55\n",
       "3088  122.0   783.69       0.0  17135.40"
      ]
     },
     "metadata": {},
     "output_type": "display_data"
    },
    {
     "name": "stdout",
     "output_type": "stream",
     "text": [
      "target_valid\n"
     ]
    },
    {
     "data": {
      "text/plain": [
       "2803    0\n",
       "2261    0\n",
       "1611    0\n",
       "1268    0\n",
       "2529    0\n",
       "Name: is_ultra, dtype: int64"
      ]
     },
     "metadata": {},
     "output_type": "display_data"
    },
    {
     "name": "stdout",
     "output_type": "stream",
     "text": [
      "Доля df_valid от исходного df - 20 %\n",
      "\n",
      "features_remain\n"
     ]
    },
    {
     "data": {
      "text/html": [
       "<div>\n",
       "<style scoped>\n",
       "    .dataframe tbody tr th:only-of-type {\n",
       "        vertical-align: middle;\n",
       "    }\n",
       "\n",
       "    .dataframe tbody tr th {\n",
       "        vertical-align: top;\n",
       "    }\n",
       "\n",
       "    .dataframe thead th {\n",
       "        text-align: right;\n",
       "    }\n",
       "</style>\n",
       "<table border=\"1\" class=\"dataframe\">\n",
       "  <thead>\n",
       "    <tr style=\"text-align: right;\">\n",
       "      <th></th>\n",
       "      <th>calls</th>\n",
       "      <th>minutes</th>\n",
       "      <th>messages</th>\n",
       "      <th>mb_used</th>\n",
       "    </tr>\n",
       "  </thead>\n",
       "  <tbody>\n",
       "    <tr>\n",
       "      <th>2314</th>\n",
       "      <td>32.0</td>\n",
       "      <td>182.24</td>\n",
       "      <td>131.0</td>\n",
       "      <td>23932.64</td>\n",
       "    </tr>\n",
       "    <tr>\n",
       "      <th>1247</th>\n",
       "      <td>55.0</td>\n",
       "      <td>389.33</td>\n",
       "      <td>29.0</td>\n",
       "      <td>25047.08</td>\n",
       "    </tr>\n",
       "    <tr>\n",
       "      <th>2004</th>\n",
       "      <td>59.0</td>\n",
       "      <td>452.15</td>\n",
       "      <td>47.0</td>\n",
       "      <td>13053.02</td>\n",
       "    </tr>\n",
       "    <tr>\n",
       "      <th>976</th>\n",
       "      <td>43.0</td>\n",
       "      <td>321.24</td>\n",
       "      <td>6.0</td>\n",
       "      <td>8395.77</td>\n",
       "    </tr>\n",
       "    <tr>\n",
       "      <th>936</th>\n",
       "      <td>75.0</td>\n",
       "      <td>520.47</td>\n",
       "      <td>0.0</td>\n",
       "      <td>18194.45</td>\n",
       "    </tr>\n",
       "  </tbody>\n",
       "</table>\n",
       "</div>"
      ],
      "text/plain": [
       "      calls  minutes  messages   mb_used\n",
       "2314   32.0   182.24     131.0  23932.64\n",
       "1247   55.0   389.33      29.0  25047.08\n",
       "2004   59.0   452.15      47.0  13053.02\n",
       "976    43.0   321.24       6.0   8395.77\n",
       "936    75.0   520.47       0.0  18194.45"
      ]
     },
     "metadata": {},
     "output_type": "display_data"
    },
    {
     "name": "stdout",
     "output_type": "stream",
     "text": [
      "target_remain\n"
     ]
    },
    {
     "data": {
      "text/plain": [
       "1285    0\n",
       "1161    1\n",
       "633     0\n",
       "1182    0\n",
       "1488    0\n",
       "Name: is_ultra, dtype: int64"
      ]
     },
     "metadata": {},
     "output_type": "display_data"
    },
    {
     "name": "stdout",
     "output_type": "stream",
     "text": [
      "Доля df_remain от исходного df - 80 %\n",
      "\n"
     ]
    }
   ],
   "source": [
    "# для каждой выборки объявим признаки features и целевой признак target\n",
    "selection_types = ['train', 'test', 'valid','remain']\n",
    "for type in selection_types:\n",
    "    globals()['features_%s' % type] = globals()['df_%s' % type].drop('is_ultra', axis=1)\n",
    "    globals()['target_%s' % type] = globals()['df_%s' % type]['is_ultra']\n",
    "    \n",
    "    # выведем переменные с признаками:\n",
    "    print(f'features_{type}')\n",
    "    display((globals()['features_%s' % type]).sample(5))\n",
    "    \n",
    "    # и с целевыми признакми:\n",
    "    print(f'target_{type}')\n",
    "    display((globals()['target_%s' % type]).sample(5))\n",
    "\n",
    "    # выведем доли выборок от исходных данных:\n",
    "    print(f'Доля df_{type} от исходного df -', int(round(len(globals()['df_%s' % type]) / len(df),2)*100),'%')\n",
    "    print()"
   ]
  },
  {
   "cell_type": "markdown",
   "metadata": {},
   "source": [
    "### Вывод\n",
    "\n",
    "Мы разбили данные на три выборки: обучающую, валидационную и тестовую в соотношении 3:1:1 соответственно, сохранив при этом соотношение таргетов."
   ]
  },
  {
   "cell_type": "markdown",
   "metadata": {},
   "source": [
    "## Исследование моделей"
   ]
  },
  {
   "cell_type": "markdown",
   "metadata": {},
   "source": [
    "### Decision Tree "
   ]
  },
  {
   "cell_type": "code",
   "execution_count": 16,
   "metadata": {},
   "outputs": [
    {
     "name": "stderr",
     "output_type": "stream",
     "text": [
      "100%|██████████| 12/12 [00:01<00:00,  9.17it/s]\n"
     ]
    },
    {
     "name": "stdout",
     "output_type": "stream",
     "text": [
      "Accuracy наилучшей модели на валидационной выборке:0.8164852255054432\n",
      "\n",
      "Максимальная глубина: 5\n",
      "Минимальное количество объектов в промежуточном узле: 2\n",
      "Минимальное количество объектов в листе: 1\n"
     ]
    },
    {
     "data": {
      "image/png": "[encoded data removed]",
      "text/plain": [
       "<Figure size 720x504 with 1 Axes>"
      ]
     },
     "metadata": {
      "needs_background": "light"
     },
     "output_type": "display_data"
    }
   ],
   "source": [
    "best_accuracy = 0\n",
    "\n",
    "x_max_depth = []\n",
    "y_accuracy = []\n",
    "\n",
    "for depth in tqdm(range(3, 15)):\n",
    "    for sample_s in [2,4,8,16]:\n",
    "        for sample_l in range(1,5):\n",
    "            model = DecisionTreeClassifier(max_depth=depth, min_samples_split = sample_s, \n",
    "                                           min_samples_leaf=sample_l, random_state=12345)\n",
    "            model.fit(features_train, target_train) # обучаем модель\n",
    "            predictions_valid = model.predict(features_valid) # получаем предсказания модели\n",
    "            accuracy = accuracy_score(target_valid, predictions_valid) # считаем качество модели\n",
    "            if accuracy > best_accuracy:\n",
    "                best_dtc_model = model\n",
    "                best_accuracy = accuracy\n",
    "                best_depth = depth\n",
    "                best_sample_l = sample_l\n",
    "                best_sample_s = sample_s\n",
    "                \n",
    "            x_max_depth.append(depth)\n",
    "            y_accuracy.append(accuracy)\n",
    "            \n",
    "def accuracy_scatter(x_max_depth,y_accuracy, model_name):\n",
    "    plt.figure(figsize=(10,7))\n",
    "    plt.scatter(x_max_depth,y_accuracy, color = 'purple')\n",
    "    plt.title(f'Зависимость качества предсказаний модели {model_name} от гиперпараметра max_depth', fontsize = 15)\n",
    "    plt.xlabel('max_depth', fontsize = 12)\n",
    "    plt.ylabel('accuracy', fontsize = 12)\n",
    "\n",
    "    for label in (ax.get_xticklabels() + ax.get_yticklabels()):\n",
    "        label.set_fontsize(15)\n",
    "\n",
    "    plt.grid(linestyle='-', linewidth='0.1', color='black')          \n",
    "    plt.xticks(range(1,15))\n",
    "    plt.show()\n",
    "                \n",
    "        \n",
    "print(f'Accuracy наилучшей модели на валидационной выборке:{best_accuracy}\\n\\\n",
    "\\nМаксимальная глубина: {best_depth}\\nМинимальное количество объектов в промежуточном узле: {best_sample_s}\\n\\\n",
    "Минимальное количество объектов в листе: {best_sample_l}')\n",
    "accuracy_scatter(x_max_depth,y_accuracy, 'DTC')"
   ]
  },
  {
   "cell_type": "markdown",
   "metadata": {},
   "source": [
    "На графике можно наблюдать недообучение модели при при высоте дерева до 5 условий. Перенасыщение происходит после достижения высоты в 9 условий. Точность предсказаний для обучающей выборки будет расти вместе с глубиной дерева."
   ]
  },
  {
   "cell_type": "markdown",
   "metadata": {},
   "source": [
    "### Random Forest "
   ]
  },
  {
   "cell_type": "code",
   "execution_count": 17,
   "metadata": {},
   "outputs": [
    {
     "name": "stderr",
     "output_type": "stream",
     "text": [
      "100%|██████████| 12/12 [00:11<00:00,  1.07it/s]"
     ]
    },
    {
     "name": "stdout",
     "output_type": "stream",
     "text": [
      "Accuracy наилучшей модели на валидационной выборке:0.8320373250388803\n",
      "Количество деревьев: 10\n",
      "Максимальная глубина: 8\n",
      "Минимальное количество объектов в листе: 1\n"
     ]
    },
    {
     "name": "stderr",
     "output_type": "stream",
     "text": [
      "\n"
     ]
    },
    {
     "data": {
      "image/png": "[encoded data removed]",
      "text/plain": [
       "<Figure size 720x504 with 1 Axes>"
      ]
     },
     "metadata": {
      "needs_background": "light"
     },
     "output_type": "display_data"
    }
   ],
   "source": [
    "best_accuracy = 0\n",
    "x_max_depth = []\n",
    "y_accuracy = []\n",
    "\n",
    "for depth in tqdm(range(3, 15)):\n",
    "    for est in [5,10,15,20,30]:\n",
    "        for sample in range(1,5):\n",
    "            model = RandomForestClassifier(max_depth=depth, n_estimators=est, \n",
    "                                           min_samples_leaf=sample, random_state=12345) # почему с последним параметром не становится быстрее?\n",
    "            model.fit(features_train, target_train)\n",
    "            accuracy = model.score(features_valid, target_valid)\n",
    "            if accuracy > best_accuracy:\n",
    "                best_rf_model = model\n",
    "                best_accuracy = accuracy\n",
    "                best_depth = depth\n",
    "                best_est = est\n",
    "                best_sample = sample\n",
    "                \n",
    "            x_max_depth.append(depth)\n",
    "            y_accuracy.append(accuracy)\n",
    "            \n",
    "             \n",
    "print(f'Accuracy наилучшей модели на валидационной выборке:{best_accuracy}\\nКоличество деревьев: {best_est}\\\n",
    "\\nМаксимальная глубина: {best_depth}\\nМинимальное количество объектов в листе: {best_sample}')\n",
    "\n",
    "accuracy_scatter(x_max_depth,y_accuracy, 'RF')\n"
   ]
  },
  {
   "cell_type": "markdown",
   "metadata": {},
   "source": [
    "До глубины 9 качество модели растет, достигая пика на отметке 8. Кажется, что accuracy перестает зависеть от глубины в отметке 9-11, так как данные заканчиваются раньше, чем дерево доходит до максимальной глубины."
   ]
  },
  {
   "cell_type": "markdown",
   "metadata": {},
   "source": [
    "Теперь построим RF с помощью `GridSearchCV`, выведем гиперпараметры лучшей:"
   ]
  },
  {
   "cell_type": "code",
   "execution_count": 18,
   "metadata": {},
   "outputs": [
    {
     "name": "stdout",
     "output_type": "stream",
     "text": [
      "{'max_depth': 6, 'min_samples_leaf': 2, 'n_estimators': 50}\n"
     ]
    }
   ],
   "source": [
    "rfc = RandomForestClassifier() \n",
    "skf = StratifiedKFold(5)\n",
    "skf.get_n_splits(features_remain, target_remain)\n",
    "\n",
    "\n",
    "param_grid = { \n",
    "    'max_depth': range(3,16),\n",
    "    'n_estimators': [20,30,50,100],\n",
    "    'min_samples_leaf': range(1,6),\n",
    "    \n",
    "}\n",
    "\n",
    "CV_rfc = GridSearchCV(estimator=rfc, param_grid=param_grid, cv= skf) \n",
    "CV_rfc.fit(features_train, target_train)\n",
    "print(CV_rfc.best_params_)"
   ]
  },
  {
   "cell_type": "markdown",
   "metadata": {},
   "source": [
    "Сохраним лучшую модель в best_rf_model_2, выведем accuracy:"
   ]
  },
  {
   "cell_type": "code",
   "execution_count": 19,
   "metadata": {},
   "outputs": [
    {
     "data": {
      "text/plain": [
       "0.8180404354587869"
      ]
     },
     "execution_count": 19,
     "metadata": {},
     "output_type": "execute_result"
    }
   ],
   "source": [
    "best_rf_model_2 = CV_rfc.best_estimator_\n",
    "accuracy = best_rf_model_2.score(features_valid, target_valid)\n",
    "accuracy"
   ]
  },
  {
   "cell_type": "markdown",
   "metadata": {},
   "source": [
    "### Logistic Regression"
   ]
  },
  {
   "cell_type": "code",
   "execution_count": 20,
   "metadata": {},
   "outputs": [
    {
     "name": "stdout",
     "output_type": "stream",
     "text": [
      "Accuracy: 0.7558320373250389\n"
     ]
    }
   ],
   "source": [
    "model_lr = LogisticRegression(random_state=12345, solver='lbfgs', max_iter=1000)\n",
    "model_lr.fit(features_train, target_train)\n",
    "accuracy = model_lr.score(features_valid, target_valid)\n",
    "print(f'Accuracy: {accuracy}')"
   ]
  },
  {
   "cell_type": "markdown",
   "metadata": {},
   "source": [
    "Выведем гистограммы для всех признаков так, чтобы в одной оси были 2 графика для каждого из тарифов:"
   ]
  },
  {
   "cell_type": "code",
   "execution_count": 21,
   "metadata": {},
   "outputs": [
    {
     "data": {
      "image/png": "[encoded data removed]",
      "text/plain": [
       "<Figure size 720x360 with 1 Axes>"
      ]
     },
     "metadata": {
      "needs_background": "light"
     },
     "output_type": "display_data"
    },
    {
     "data": {
      "image/png": "[encoded data removed]",
      "text/plain": [
       "<Figure size 720x360 with 1 Axes>"
      ]
     },
     "metadata": {
      "needs_background": "light"
     },
     "output_type": "display_data"
    },
    {
     "data": {
      "image/png": "[encoded data removed]",
      "text/plain": [
       "<Figure size 720x360 with 1 Axes>"
      ]
     },
     "metadata": {
      "needs_background": "light"
     },
     "output_type": "display_data"
    },
    {
     "data": {
      "image/png": "[encoded data removed]",
      "text/plain": [
       "<Figure size 720x360 with 1 Axes>"
      ]
     },
     "metadata": {
      "needs_background": "light"
     },
     "output_type": "display_data"
    }
   ],
   "source": [
    "df_ultra = df.query('is_ultra == 1')\n",
    "df_smart = df.query('is_ultra == 0')\n",
    "\n",
    "for param in df.drop('is_ultra', axis=1).columns:\n",
    "    plt.figure(figsize=(10,5))\n",
    "    ax = plt.gca()\n",
    "    df_ultra[param].hist(alpha =0.5, density = True, label = 'Ultra')\n",
    "    df_smart[param].hist(alpha =0.5, density = True, label = 'Smart')\n",
    "    plt.title(param, fontsize = 22) \n",
    "    plt.ylabel('Frequency', fontsize = 10)\n",
    "    plt.xlabel(param, fontsize = 10)  \n",
    "    plt.legend(fontsize = 15)\n",
    "    "
   ]
  },
  {
   "cell_type": "markdown",
   "metadata": {},
   "source": [
    "### Вывод\n",
    "\n",
    "Наиболее качественная модель - случайный лес с гиперпараметрами:\n",
    "- количество деревьев: 10;\n",
    "- максимальная глубина: 11;\n",
    "- минимальное количество объектов в листе: 3\n",
    "и accuracy = 0.8164852255054432.\n",
    "\n",
    "За ней следует решающее дерево (максимальная глубина: 7; минимальное количество объектов в промежуточном узле: 2;\n",
    "минимальное количество объектов в листе: 3 и accuracy около 80%). Самая неточная модель - логистическая регрессия с accuracy 68%."
   ]
  },
  {
   "cell_type": "markdown",
   "metadata": {},
   "source": [
    "## Проверка модели на тестовой выборке"
   ]
  },
  {
   "cell_type": "code",
   "execution_count": 22,
   "metadata": {},
   "outputs": [
    {
     "name": "stdout",
     "output_type": "stream",
     "text": [
      "Accuracy: 0.8087091757387247\n"
     ]
    }
   ],
   "source": [
    "accuracy = best_rf_model_2.score(features_test, target_test)\n",
    "print(f'Accuracy: {accuracy}')"
   ]
  },
  {
   "cell_type": "markdown",
   "metadata": {},
   "source": [
    "### Вывод:\n",
    "\n",
    "Качество `best_rf_model_2` незначительно снизилось - на 1%."
   ]
  },
  {
   "cell_type": "markdown",
   "metadata": {},
   "source": [
    "## Проверка моделей на адекватность"
   ]
  },
  {
   "cell_type": "markdown",
   "metadata": {},
   "source": [
    "Создадим вручную «игрушечную модель», которая считает, что все клиенты - пользователи тарифа «Смарт», измерим ее качество:"
   ]
  },
  {
   "cell_type": "code",
   "execution_count": 23,
   "metadata": {},
   "outputs": [
    {
     "data": {
      "text/plain": [
       "0.6936236391912908"
      ]
     },
     "execution_count": 23,
     "metadata": {},
     "output_type": "execute_result"
    }
   ],
   "source": [
    "dummy_predictions = np.zeros(len(features_test))\n",
    "dummy_accuracy = (dummy_predictions == target_test).sum()/len(target_test)\n",
    "dummy_accuracy"
   ]
  },
  {
   "cell_type": "markdown",
   "metadata": {},
   "source": [
    "Сделаем то же самое с помощью DummyClassifier:"
   ]
  },
  {
   "cell_type": "code",
   "execution_count": 24,
   "metadata": {},
   "outputs": [
    {
     "data": {
      "text/plain": [
       "0.6936236391912908"
      ]
     },
     "execution_count": 24,
     "metadata": {},
     "output_type": "execute_result"
    }
   ],
   "source": [
    "dummy_clf = DummyClassifier(strategy='prior')\n",
    "dummy_clf.fit(features_train, target_train)\n",
    "accuracy = dummy_clf.score(features_test, target_test)\n",
    "accuracy"
   ]
  },
  {
   "cell_type": "markdown",
   "metadata": {},
   "source": [
    "### Вывод\n",
    "\n",
    "Мы видим, что модель логистической регрессии практически не работает, она лучше «игрушечной» по качеству всего на 1%. Случайный лес - самая полезная модель, ее качество больше качества «игрушечной» почти на 10%. Решающее дерево, хоть и менее эффективно, но бесполезной назвать эту модель нельзя, ее качество лучше качество «игрушечной модели» почти на 8%."
   ]
  },
  {
   "cell_type": "markdown",
   "metadata": {},
   "source": [
    "# Вывод\n",
    "\n",
    "1. Мы изучили данные и выяснили, что наша выборка несбалансированная: около 30% клиентов используют тариф «Ультра», 70% - «Смарт».\n",
    "\n",
    "2. Разбили данные на три выборки: обучающую, валидационную и тестовую выборки, в соотношении 3:1:1 соответственно.\n",
    "\n",
    "3. Рассмотрели 3 вида моделей для задачи классификации: решающее дерево, случайный лес и логистическую регрессию с разными гиперпараметрами.\n",
    "\n",
    "4. Определили наиболее точную из рассмотренных - случайный лес (`best_rf_model_2`) с гиперпараметрами:\n",
    "    - количество деревьев: 30;\n",
    "    - максимальная глубина: 6;\n",
    "    - минимальное количество объектов в листе: 1.\n",
    "    \n",
    "    \n",
    "5. Измерили качество модели на тестовой выборке(81% точности).\n",
    "6. Выяснили, что модель логистической регрессии оказалась бесполезной.\n",
    "\n",
    "**Таким образом, предлагаем оператору «Мегалайн» модель `best_rf_model_2` для рекомендации пользователям тарифов «Смарт» и «Ультра».**"
   ]
  },
  {
   "cell_type": "markdown",
   "metadata": {},
   "source": [
    "## Чек-лист готовности проекта"
   ]
  },
  {
   "cell_type": "markdown",
   "metadata": {},
   "source": [
    "Поставьте 'x' в выполненных пунктах. Далее нажмите Shift+Enter."
   ]
  },
  {
   "cell_type": "markdown",
   "metadata": {},
   "source": [
    "- [x] Jupyter Notebook открыт\n",
    "- [x] Весь код исполняется без ошибок\n",
    "- [x] Ячейки с кодом расположены в порядке исполнения\n",
    "- [x] Выполнено задание 1: данные загружены и изучены\n",
    "- [x] Выполнено задание 2: данные разбиты на три выборки\n",
    "- [x] Выполнено задание 3: проведено исследование моделей\n",
    "    - [x] Рассмотрено больше одной модели\n",
    "    - [x] Рассмотрено хотя бы 3 значения гипепараметров для какой-нибудь модели\n",
    "    - [x] Написаны выводы по результатам исследования\n",
    "- [x] Выполнено задание 3: Проведено тестирование\n",
    "- [x] Удалось достичь accuracy не меньше 0.75"
   ]
  }
 ],
 "metadata": {
  "ExecuteTimeLog": [
   {
    "duration": 32,
    "start_time": "2022-06-10T07:21:56.417Z"
   },
   {
    "duration": 44,
    "start_time": "2022-06-10T07:22:04.953Z"
   },
   {
    "duration": 370,
    "start_time": "2022-06-10T07:22:18.005Z"
   },
   {
    "duration": 27,
    "start_time": "2022-06-10T07:22:18.377Z"
   },
   {
    "duration": 3,
    "start_time": "2022-06-10T07:22:22.406Z"
   },
   {
    "duration": 119,
    "start_time": "2022-06-10T07:22:22.614Z"
   },
   {
    "duration": 762,
    "start_time": "2022-06-10T07:26:36.857Z"
   },
   {
    "duration": 45,
    "start_time": "2022-06-10T07:57:42.449Z"
   },
   {
    "duration": 42,
    "start_time": "2022-06-10T07:58:20.858Z"
   },
   {
    "duration": 44,
    "start_time": "2022-06-10T07:58:43.205Z"
   },
   {
    "duration": 55,
    "start_time": "2022-06-10T07:58:46.976Z"
   },
   {
    "duration": 26,
    "start_time": "2022-06-10T07:58:54.902Z"
   },
   {
    "duration": 4,
    "start_time": "2022-06-10T08:08:10.204Z"
   },
   {
    "duration": 4,
    "start_time": "2022-06-10T08:08:40.766Z"
   },
   {
    "duration": 14,
    "start_time": "2022-06-10T08:09:48.105Z"
   },
   {
    "duration": 5,
    "start_time": "2022-06-10T08:11:09.147Z"
   },
   {
    "duration": 5,
    "start_time": "2022-06-10T08:11:12.457Z"
   },
   {
    "duration": 9,
    "start_time": "2022-06-10T08:11:54.750Z"
   },
   {
    "duration": 8,
    "start_time": "2022-06-10T08:12:20.605Z"
   },
   {
    "duration": 13,
    "start_time": "2022-06-10T08:12:41.693Z"
   },
   {
    "duration": 5,
    "start_time": "2022-06-10T08:13:02.202Z"
   },
   {
    "duration": 8,
    "start_time": "2022-06-10T08:13:02.734Z"
   },
   {
    "duration": 9,
    "start_time": "2022-06-10T08:14:13.921Z"
   },
   {
    "duration": 8,
    "start_time": "2022-06-10T08:14:29.550Z"
   },
   {
    "duration": 12,
    "start_time": "2022-06-10T08:15:35.848Z"
   },
   {
    "duration": 7,
    "start_time": "2022-06-10T08:18:32.195Z"
   },
   {
    "duration": 7,
    "start_time": "2022-06-10T08:18:32.895Z"
   },
   {
    "duration": 5,
    "start_time": "2022-06-10T08:18:35.748Z"
   },
   {
    "duration": 5,
    "start_time": "2022-06-10T08:19:36.299Z"
   },
   {
    "duration": 4,
    "start_time": "2022-06-10T08:23:40.633Z"
   },
   {
    "duration": 5,
    "start_time": "2022-06-10T08:23:59.035Z"
   },
   {
    "duration": 5,
    "start_time": "2022-06-10T08:24:21.931Z"
   },
   {
    "duration": 59,
    "start_time": "2022-06-10T08:25:03.656Z"
   },
   {
    "duration": 5,
    "start_time": "2022-06-10T08:25:14.637Z"
   },
   {
    "duration": 6,
    "start_time": "2022-06-10T08:27:13.850Z"
   },
   {
    "duration": 19,
    "start_time": "2022-06-10T08:30:20.506Z"
   },
   {
    "duration": 6,
    "start_time": "2022-06-10T08:31:25.772Z"
   },
   {
    "duration": 6,
    "start_time": "2022-06-10T08:31:51.545Z"
   },
   {
    "duration": 8,
    "start_time": "2022-06-10T08:31:54.955Z"
   },
   {
    "duration": 13,
    "start_time": "2022-06-10T08:32:54.361Z"
   },
   {
    "duration": 11,
    "start_time": "2022-06-10T08:33:01.296Z"
   },
   {
    "duration": 57,
    "start_time": "2022-06-10T08:33:11.068Z"
   },
   {
    "duration": 44,
    "start_time": "2022-06-10T08:53:54.717Z"
   },
   {
    "duration": 29,
    "start_time": "2022-06-10T08:54:48.974Z"
   },
   {
    "duration": 32,
    "start_time": "2022-06-10T08:54:59.462Z"
   },
   {
    "duration": 53,
    "start_time": "2022-06-10T08:55:22.000Z"
   },
   {
    "duration": 31,
    "start_time": "2022-06-10T08:56:07.044Z"
   },
   {
    "duration": 46,
    "start_time": "2022-06-10T08:57:29.103Z"
   },
   {
    "duration": 41,
    "start_time": "2022-06-10T08:57:53.557Z"
   },
   {
    "duration": 54,
    "start_time": "2022-06-10T08:57:58.306Z"
   },
   {
    "duration": 38,
    "start_time": "2022-06-10T08:58:11.137Z"
   },
   {
    "duration": 40,
    "start_time": "2022-06-10T08:58:21.014Z"
   },
   {
    "duration": 31,
    "start_time": "2022-06-10T09:01:08.039Z"
   },
   {
    "duration": 47,
    "start_time": "2022-06-10T09:01:33.306Z"
   },
   {
    "duration": 38,
    "start_time": "2022-06-10T09:02:13.405Z"
   },
   {
    "duration": 53,
    "start_time": "2022-06-10T09:02:36.398Z"
   },
   {
    "duration": 31,
    "start_time": "2022-06-10T09:02:40.512Z"
   },
   {
    "duration": 31,
    "start_time": "2022-06-10T09:02:54.620Z"
   },
   {
    "duration": 46,
    "start_time": "2022-06-10T09:03:03.654Z"
   },
   {
    "duration": 65,
    "start_time": "2022-06-10T09:03:11.774Z"
   },
   {
    "duration": 40,
    "start_time": "2022-06-10T09:03:44.744Z"
   },
   {
    "duration": 8,
    "start_time": "2022-06-10T09:04:10.110Z"
   },
   {
    "duration": 42,
    "start_time": "2022-06-10T09:04:14.404Z"
   },
   {
    "duration": 41,
    "start_time": "2022-06-10T09:04:42.495Z"
   },
   {
    "duration": 37,
    "start_time": "2022-06-10T09:04:49.004Z"
   },
   {
    "duration": 29,
    "start_time": "2022-06-10T09:05:06.743Z"
   },
   {
    "duration": 47,
    "start_time": "2022-06-10T09:05:27.975Z"
   },
   {
    "duration": 36,
    "start_time": "2022-06-10T09:05:50.663Z"
   },
   {
    "duration": 51,
    "start_time": "2022-06-10T09:05:57.703Z"
   },
   {
    "duration": 40,
    "start_time": "2022-06-10T09:06:07.214Z"
   },
   {
    "duration": 10,
    "start_time": "2022-06-10T09:06:37.175Z"
   },
   {
    "duration": 118,
    "start_time": "2022-06-10T09:06:39.071Z"
   },
   {
    "duration": 6,
    "start_time": "2022-06-10T09:06:41.964Z"
   },
   {
    "duration": 31,
    "start_time": "2022-06-10T09:06:43.042Z"
   },
   {
    "duration": 45,
    "start_time": "2022-06-10T09:07:56.258Z"
   },
   {
    "duration": 3,
    "start_time": "2022-06-10T09:37:04.493Z"
   },
   {
    "duration": 18,
    "start_time": "2022-06-10T09:45:08.396Z"
   },
   {
    "duration": 13,
    "start_time": "2022-06-10T09:45:34.561Z"
   },
   {
    "duration": 138,
    "start_time": "2022-06-10T09:45:50.902Z"
   },
   {
    "duration": 51,
    "start_time": "2022-06-10T09:46:02.102Z"
   },
   {
    "duration": 27,
    "start_time": "2022-06-10T09:46:09.950Z"
   },
   {
    "duration": 118,
    "start_time": "2022-06-10T09:46:18.229Z"
   },
   {
    "duration": 135,
    "start_time": "2022-06-10T09:49:52.493Z"
   },
   {
    "duration": 9,
    "start_time": "2022-06-10T09:49:56.366Z"
   },
   {
    "duration": 16,
    "start_time": "2022-06-10T09:50:00.943Z"
   },
   {
    "duration": 22,
    "start_time": "2022-06-10T09:50:16.974Z"
   },
   {
    "duration": 400,
    "start_time": "2022-06-10T09:50:21.644Z"
   },
   {
    "duration": 330,
    "start_time": "2022-06-10T09:51:25.228Z"
   },
   {
    "duration": 159,
    "start_time": "2022-06-10T09:51:29.619Z"
   },
   {
    "duration": 199,
    "start_time": "2022-06-10T09:51:34.010Z"
   },
   {
    "duration": 212,
    "start_time": "2022-06-10T09:51:37.881Z"
   },
   {
    "duration": 220,
    "start_time": "2022-06-10T09:51:40.966Z"
   },
   {
    "duration": 203,
    "start_time": "2022-06-10T09:51:44.253Z"
   },
   {
    "duration": 226,
    "start_time": "2022-06-10T09:52:18.108Z"
   },
   {
    "duration": 270,
    "start_time": "2022-06-10T09:52:28.852Z"
   },
   {
    "duration": 216,
    "start_time": "2022-06-10T09:52:36.327Z"
   },
   {
    "duration": 224,
    "start_time": "2022-06-10T09:52:51.048Z"
   },
   {
    "duration": 198,
    "start_time": "2022-06-10T09:53:03.630Z"
   },
   {
    "duration": 223,
    "start_time": "2022-06-10T09:53:52.477Z"
   },
   {
    "duration": 273,
    "start_time": "2022-06-10T09:54:01.765Z"
   },
   {
    "duration": 216,
    "start_time": "2022-06-10T09:55:10.145Z"
   },
   {
    "duration": 234,
    "start_time": "2022-06-10T09:55:20.798Z"
   },
   {
    "duration": 2,
    "start_time": "2022-06-10T10:00:20.335Z"
   },
   {
    "duration": 1081,
    "start_time": "2022-06-11T13:34:38.790Z"
   },
   {
    "duration": 178,
    "start_time": "2022-06-11T13:34:39.874Z"
   },
   {
    "duration": 7,
    "start_time": "2022-06-11T13:34:40.054Z"
   },
   {
    "duration": 46,
    "start_time": "2022-06-11T13:34:40.062Z"
   },
   {
    "duration": 280,
    "start_time": "2022-06-11T13:34:40.110Z"
   },
   {
    "duration": 36,
    "start_time": "2022-06-11T13:34:40.391Z"
   },
   {
    "duration": 10,
    "start_time": "2022-06-11T13:38:49.897Z"
   },
   {
    "duration": 214,
    "start_time": "2022-06-11T13:38:58.401Z"
   },
   {
    "duration": 220,
    "start_time": "2022-06-11T13:42:11.484Z"
   },
   {
    "duration": 45,
    "start_time": "2022-06-11T13:42:23.825Z"
   },
   {
    "duration": 54,
    "start_time": "2022-06-11T13:42:53.652Z"
   },
   {
    "duration": 982,
    "start_time": "2022-06-11T13:43:08.997Z"
   },
   {
    "duration": 60,
    "start_time": "2022-06-11T13:43:16.777Z"
   },
   {
    "duration": 12,
    "start_time": "2022-06-11T13:47:13.849Z"
   },
   {
    "duration": 304,
    "start_time": "2022-06-11T13:49:18.787Z"
   },
   {
    "duration": 923,
    "start_time": "2022-06-11T13:49:28.359Z"
   },
   {
    "duration": 16981,
    "start_time": "2022-06-11T14:27:02.191Z"
   },
   {
    "duration": 122,
    "start_time": "2022-06-11T14:43:41.600Z"
   },
   {
    "duration": 17356,
    "start_time": "2022-06-11T14:43:42.403Z"
   },
   {
    "duration": 6,
    "start_time": "2022-06-11T14:44:15.316Z"
   },
   {
    "duration": 17550,
    "start_time": "2022-06-11T14:44:16.149Z"
   },
   {
    "duration": 28,
    "start_time": "2022-06-11T14:47:45.306Z"
   },
   {
    "duration": 29,
    "start_time": "2022-06-11T14:48:08.997Z"
   },
   {
    "duration": 17370,
    "start_time": "2022-06-11T14:48:16.511Z"
   },
   {
    "duration": 25,
    "start_time": "2022-06-11T14:48:59.733Z"
   },
   {
    "duration": 21,
    "start_time": "2022-06-11T14:49:04.521Z"
   },
   {
    "duration": 21,
    "start_time": "2022-06-11T14:49:11.582Z"
   },
   {
    "duration": 16988,
    "start_time": "2022-06-11T14:50:05.664Z"
   },
   {
    "duration": 31104,
    "start_time": "2022-06-11T14:50:45.927Z"
   },
   {
    "duration": 17780,
    "start_time": "2022-06-11T15:03:42.539Z"
   },
   {
    "duration": 67,
    "start_time": "2022-06-11T15:04:47.128Z"
   },
   {
    "duration": 13,
    "start_time": "2022-06-11T15:25:12.894Z"
   },
   {
    "duration": 15,
    "start_time": "2022-06-11T15:25:17.614Z"
   },
   {
    "duration": 16921,
    "start_time": "2022-06-11T15:25:44.612Z"
   },
   {
    "duration": 175,
    "start_time": "2022-06-11T15:26:24.721Z"
   },
   {
    "duration": 36,
    "start_time": "2022-06-11T15:29:57.281Z"
   },
   {
    "duration": 7,
    "start_time": "2022-06-11T15:45:54.154Z"
   },
   {
    "duration": 1109,
    "start_time": "2022-06-11T15:46:11.440Z"
   },
   {
    "duration": 107,
    "start_time": "2022-06-11T15:46:12.551Z"
   },
   {
    "duration": 7,
    "start_time": "2022-06-11T15:46:12.663Z"
   },
   {
    "duration": 55,
    "start_time": "2022-06-11T15:46:12.672Z"
   },
   {
    "duration": 101,
    "start_time": "2022-06-11T15:46:12.729Z"
   },
   {
    "duration": 18135,
    "start_time": "2022-06-11T15:46:12.832Z"
   },
   {
    "duration": 197,
    "start_time": "2022-06-11T15:46:30.969Z"
   },
   {
    "duration": 9,
    "start_time": "2022-06-11T15:46:31.168Z"
   },
   {
    "duration": 83,
    "start_time": "2022-06-11T15:54:17.982Z"
   },
   {
    "duration": 6,
    "start_time": "2022-06-11T15:54:26.764Z"
   },
   {
    "duration": 8,
    "start_time": "2022-06-11T15:54:55.405Z"
   },
   {
    "duration": 157,
    "start_time": "2022-06-11T15:56:55.324Z"
   },
   {
    "duration": 40,
    "start_time": "2022-06-11T15:57:24.198Z"
   },
   {
    "duration": 9,
    "start_time": "2022-06-11T15:57:30.685Z"
   },
   {
    "duration": 10,
    "start_time": "2022-06-11T15:57:36.650Z"
   },
   {
    "duration": 3,
    "start_time": "2022-06-11T18:14:32.400Z"
   },
   {
    "duration": 66,
    "start_time": "2022-06-11T18:14:32.405Z"
   },
   {
    "duration": 5,
    "start_time": "2022-06-11T18:14:32.473Z"
   },
   {
    "duration": 38,
    "start_time": "2022-06-11T18:14:32.479Z"
   },
   {
    "duration": 95,
    "start_time": "2022-06-11T18:14:32.518Z"
   },
   {
    "duration": 16182,
    "start_time": "2022-06-11T18:14:32.615Z"
   },
   {
    "duration": 23,
    "start_time": "2022-06-11T18:14:48.798Z"
   },
   {
    "duration": 6,
    "start_time": "2022-06-11T18:14:48.823Z"
   },
   {
    "duration": 9,
    "start_time": "2022-06-11T18:14:48.832Z"
   },
   {
    "duration": 7,
    "start_time": "2022-06-11T18:14:48.865Z"
   },
   {
    "duration": 15998,
    "start_time": "2022-06-11T18:17:04.468Z"
   },
   {
    "duration": 15708,
    "start_time": "2022-06-11T18:17:26.230Z"
   },
   {
    "duration": 435,
    "start_time": "2022-06-11T18:55:26.350Z"
   },
   {
    "duration": 934,
    "start_time": "2022-06-11T18:55:40.322Z"
   },
   {
    "duration": 54,
    "start_time": "2022-06-11T18:55:49.352Z"
   },
   {
    "duration": 18318,
    "start_time": "2022-06-11T18:59:36.020Z"
   },
   {
    "duration": 3,
    "start_time": "2022-06-11T19:02:46.523Z"
   },
   {
    "duration": 78,
    "start_time": "2022-06-11T19:02:46.528Z"
   },
   {
    "duration": 7,
    "start_time": "2022-06-11T19:02:46.608Z"
   },
   {
    "duration": 66,
    "start_time": "2022-06-11T19:02:46.618Z"
   },
   {
    "duration": 81,
    "start_time": "2022-06-11T19:02:46.685Z"
   },
   {
    "duration": 19930,
    "start_time": "2022-06-11T19:02:46.768Z"
   },
   {
    "duration": 23,
    "start_time": "2022-06-11T19:03:06.699Z"
   },
   {
    "duration": 7,
    "start_time": "2022-06-11T19:03:06.723Z"
   },
   {
    "duration": 8,
    "start_time": "2022-06-11T19:03:06.731Z"
   },
   {
    "duration": 5,
    "start_time": "2022-06-11T19:03:06.764Z"
   },
   {
    "duration": 53260,
    "start_time": "2022-06-11T19:03:55.218Z"
   },
   {
    "duration": 53200,
    "start_time": "2022-06-11T19:08:08.911Z"
   },
   {
    "duration": 33,
    "start_time": "2022-06-11T19:12:39.896Z"
   },
   {
    "duration": 100,
    "start_time": "2022-06-11T19:12:56.839Z"
   },
   {
    "duration": 1359,
    "start_time": "2022-06-11T19:13:04.470Z"
   },
   {
    "duration": 1382,
    "start_time": "2022-06-11T19:14:14.905Z"
   },
   {
    "duration": 11015,
    "start_time": "2022-06-11T19:16:46.211Z"
   },
   {
    "duration": 11046,
    "start_time": "2022-06-11T19:17:25.036Z"
   },
   {
    "duration": 8,
    "start_time": "2022-06-11T19:18:33.993Z"
   },
   {
    "duration": 5,
    "start_time": "2022-06-11T19:18:42.537Z"
   },
   {
    "duration": 8,
    "start_time": "2022-06-11T19:18:47.699Z"
   },
   {
    "duration": 6,
    "start_time": "2022-06-11T19:18:52.260Z"
   },
   {
    "duration": 9,
    "start_time": "2022-06-11T19:26:30.559Z"
   },
   {
    "duration": 21,
    "start_time": "2022-06-11T19:26:48.252Z"
   },
   {
    "duration": 4,
    "start_time": "2022-06-11T19:26:55.775Z"
   },
   {
    "duration": 17,
    "start_time": "2022-06-11T19:27:00.602Z"
   },
   {
    "duration": 5,
    "start_time": "2022-06-11T19:27:06.940Z"
   },
   {
    "duration": 11197,
    "start_time": "2022-06-11T19:33:21.085Z"
   },
   {
    "duration": 9,
    "start_time": "2022-06-11T19:33:49.090Z"
   },
   {
    "duration": 11319,
    "start_time": "2022-06-11T19:34:05.764Z"
   },
   {
    "duration": 3,
    "start_time": "2022-06-11T19:36:46.666Z"
   },
   {
    "duration": 5,
    "start_time": "2022-06-11T19:39:30.677Z"
   },
   {
    "duration": 5,
    "start_time": "2022-06-11T19:39:35.472Z"
   },
   {
    "duration": 26,
    "start_time": "2022-06-11T19:40:21.791Z"
   },
   {
    "duration": 6,
    "start_time": "2022-06-11T19:40:29.255Z"
   },
   {
    "duration": 5,
    "start_time": "2022-06-11T19:40:48.091Z"
   },
   {
    "duration": 910,
    "start_time": "2022-06-11T22:03:38.760Z"
   },
   {
    "duration": 155,
    "start_time": "2022-06-11T22:03:39.671Z"
   },
   {
    "duration": 6,
    "start_time": "2022-06-11T22:03:39.827Z"
   },
   {
    "duration": 33,
    "start_time": "2022-06-11T22:03:39.835Z"
   },
   {
    "duration": 122,
    "start_time": "2022-06-11T22:03:39.869Z"
   },
   {
    "duration": 0,
    "start_time": "2022-06-11T22:03:39.993Z"
   },
   {
    "duration": 0,
    "start_time": "2022-06-11T22:03:39.994Z"
   },
   {
    "duration": 0,
    "start_time": "2022-06-11T22:03:39.995Z"
   },
   {
    "duration": 0,
    "start_time": "2022-06-11T22:03:39.995Z"
   },
   {
    "duration": 0,
    "start_time": "2022-06-11T22:03:39.996Z"
   },
   {
    "duration": 0,
    "start_time": "2022-06-11T22:03:39.997Z"
   },
   {
    "duration": 0,
    "start_time": "2022-06-11T22:03:39.998Z"
   },
   {
    "duration": 3,
    "start_time": "2022-06-11T22:03:44.235Z"
   },
   {
    "duration": 69,
    "start_time": "2022-06-11T22:03:44.240Z"
   },
   {
    "duration": 5,
    "start_time": "2022-06-11T22:03:44.310Z"
   },
   {
    "duration": 34,
    "start_time": "2022-06-11T22:03:44.317Z"
   },
   {
    "duration": 9,
    "start_time": "2022-06-11T22:03:44.353Z"
   },
   {
    "duration": 0,
    "start_time": "2022-06-11T22:03:44.364Z"
   },
   {
    "duration": 0,
    "start_time": "2022-06-11T22:03:44.365Z"
   },
   {
    "duration": 1,
    "start_time": "2022-06-11T22:03:44.365Z"
   },
   {
    "duration": 0,
    "start_time": "2022-06-11T22:03:44.367Z"
   },
   {
    "duration": 0,
    "start_time": "2022-06-11T22:03:44.368Z"
   },
   {
    "duration": 0,
    "start_time": "2022-06-11T22:03:44.368Z"
   },
   {
    "duration": 0,
    "start_time": "2022-06-11T22:03:44.369Z"
   },
   {
    "duration": 6,
    "start_time": "2022-06-11T22:04:13.717Z"
   },
   {
    "duration": 68,
    "start_time": "2022-06-11T22:04:13.725Z"
   },
   {
    "duration": 7,
    "start_time": "2022-06-11T22:04:13.795Z"
   },
   {
    "duration": 57,
    "start_time": "2022-06-11T22:04:13.803Z"
   },
   {
    "duration": 1346,
    "start_time": "2022-06-11T22:04:13.862Z"
   },
   {
    "duration": 11373,
    "start_time": "2022-06-11T22:04:15.210Z"
   },
   {
    "duration": 22,
    "start_time": "2022-06-11T22:04:26.585Z"
   },
   {
    "duration": 22,
    "start_time": "2022-06-11T22:04:26.608Z"
   },
   {
    "duration": 24,
    "start_time": "2022-06-11T22:04:26.631Z"
   },
   {
    "duration": 26,
    "start_time": "2022-06-11T22:04:26.656Z"
   },
   {
    "duration": 15,
    "start_time": "2022-06-11T22:04:26.683Z"
   },
   {
    "duration": 15,
    "start_time": "2022-06-11T22:04:26.700Z"
   },
   {
    "duration": 32,
    "start_time": "2022-06-11T22:14:35.682Z"
   },
   {
    "duration": 362,
    "start_time": "2022-06-11T22:24:15.639Z"
   },
   {
    "duration": 3,
    "start_time": "2022-06-11T22:28:03.730Z"
   },
   {
    "duration": 75,
    "start_time": "2022-06-11T22:28:03.735Z"
   },
   {
    "duration": 301,
    "start_time": "2022-06-11T22:28:03.811Z"
   },
   {
    "duration": 0,
    "start_time": "2022-06-11T22:28:04.113Z"
   },
   {
    "duration": 0,
    "start_time": "2022-06-11T22:28:04.115Z"
   },
   {
    "duration": 0,
    "start_time": "2022-06-11T22:28:04.116Z"
   },
   {
    "duration": 0,
    "start_time": "2022-06-11T22:28:04.116Z"
   },
   {
    "duration": 1,
    "start_time": "2022-06-11T22:28:04.117Z"
   },
   {
    "duration": 0,
    "start_time": "2022-06-11T22:28:04.119Z"
   },
   {
    "duration": 1,
    "start_time": "2022-06-11T22:28:04.119Z"
   },
   {
    "duration": 0,
    "start_time": "2022-06-11T22:28:04.121Z"
   },
   {
    "duration": 0,
    "start_time": "2022-06-11T22:28:04.121Z"
   },
   {
    "duration": 0,
    "start_time": "2022-06-11T22:28:04.122Z"
   },
   {
    "duration": 4,
    "start_time": "2022-06-11T22:29:08.363Z"
   },
   {
    "duration": 3,
    "start_time": "2022-06-11T22:29:10.109Z"
   },
   {
    "duration": 319,
    "start_time": "2022-06-11T22:29:12.678Z"
   },
   {
    "duration": 10,
    "start_time": "2022-06-11T22:29:27.263Z"
   },
   {
    "duration": 12,
    "start_time": "2022-06-11T22:29:38.244Z"
   },
   {
    "duration": 332,
    "start_time": "2022-06-11T22:29:53.257Z"
   },
   {
    "duration": 16,
    "start_time": "2022-06-11T22:30:28.160Z"
   },
   {
    "duration": 109,
    "start_time": "2022-06-11T22:30:32.561Z"
   },
   {
    "duration": 94,
    "start_time": "2022-06-11T22:31:17.470Z"
   },
   {
    "duration": 108,
    "start_time": "2022-06-11T22:31:33.209Z"
   },
   {
    "duration": 160,
    "start_time": "2022-06-11T22:31:55.251Z"
   },
   {
    "duration": 81,
    "start_time": "2022-06-11T22:32:28.914Z"
   },
   {
    "duration": 97,
    "start_time": "2022-06-11T22:33:28.039Z"
   },
   {
    "duration": 87,
    "start_time": "2022-06-11T22:33:32.716Z"
   },
   {
    "duration": 84,
    "start_time": "2022-06-11T22:34:08.466Z"
   },
   {
    "duration": 86,
    "start_time": "2022-06-11T22:35:08.843Z"
   },
   {
    "duration": 86,
    "start_time": "2022-06-11T22:35:18.161Z"
   },
   {
    "duration": 100,
    "start_time": "2022-06-11T22:35:59.447Z"
   },
   {
    "duration": 85,
    "start_time": "2022-06-11T22:36:06.739Z"
   },
   {
    "duration": 81,
    "start_time": "2022-06-11T22:37:55.174Z"
   },
   {
    "duration": 96,
    "start_time": "2022-06-11T22:38:00.604Z"
   },
   {
    "duration": 96,
    "start_time": "2022-06-11T22:38:06.585Z"
   },
   {
    "duration": 80,
    "start_time": "2022-06-11T22:38:10.808Z"
   },
   {
    "duration": 83,
    "start_time": "2022-06-11T22:38:16.585Z"
   },
   {
    "duration": 86,
    "start_time": "2022-06-11T22:38:20.058Z"
   },
   {
    "duration": 164,
    "start_time": "2022-06-11T22:38:50.244Z"
   },
   {
    "duration": 87,
    "start_time": "2022-06-11T22:38:58.976Z"
   },
   {
    "duration": 101,
    "start_time": "2022-06-11T22:39:04.787Z"
   },
   {
    "duration": 94,
    "start_time": "2022-06-11T22:39:07.054Z"
   },
   {
    "duration": 103,
    "start_time": "2022-06-11T22:39:09.233Z"
   },
   {
    "duration": 86,
    "start_time": "2022-06-11T22:39:14.267Z"
   },
   {
    "duration": 90,
    "start_time": "2022-06-11T22:39:24.718Z"
   },
   {
    "duration": 81,
    "start_time": "2022-06-11T22:39:29.318Z"
   },
   {
    "duration": 87,
    "start_time": "2022-06-11T22:39:32.958Z"
   },
   {
    "duration": 4,
    "start_time": "2022-06-11T22:42:09.338Z"
   },
   {
    "duration": 69,
    "start_time": "2022-06-11T22:42:09.343Z"
   },
   {
    "duration": 85,
    "start_time": "2022-06-11T22:42:09.414Z"
   },
   {
    "duration": 6,
    "start_time": "2022-06-11T22:42:09.500Z"
   },
   {
    "duration": 45,
    "start_time": "2022-06-11T22:42:09.507Z"
   },
   {
    "duration": 1903,
    "start_time": "2022-06-11T22:42:09.554Z"
   },
   {
    "duration": 10712,
    "start_time": "2022-06-11T22:42:11.459Z"
   },
   {
    "duration": 20,
    "start_time": "2022-06-11T22:42:22.172Z"
   },
   {
    "duration": 4,
    "start_time": "2022-06-11T22:42:22.194Z"
   },
   {
    "duration": 10,
    "start_time": "2022-06-11T22:42:22.199Z"
   },
   {
    "duration": 5,
    "start_time": "2022-06-11T22:42:22.227Z"
   },
   {
    "duration": 10,
    "start_time": "2022-06-11T22:42:22.233Z"
   },
   {
    "duration": 6,
    "start_time": "2022-06-11T22:42:22.244Z"
   },
   {
    "duration": 95,
    "start_time": "2022-06-11T22:42:33.216Z"
   },
   {
    "duration": 94,
    "start_time": "2022-06-11T22:42:40.269Z"
   },
   {
    "duration": 82,
    "start_time": "2022-06-11T22:42:49.431Z"
   },
   {
    "duration": 84,
    "start_time": "2022-06-11T22:42:54.437Z"
   },
   {
    "duration": 153,
    "start_time": "2022-06-11T22:43:17.443Z"
   },
   {
    "duration": 3,
    "start_time": "2022-06-11T23:34:15.841Z"
   },
   {
    "duration": 68,
    "start_time": "2022-06-11T23:34:15.846Z"
   },
   {
    "duration": 87,
    "start_time": "2022-06-11T23:34:15.916Z"
   },
   {
    "duration": 22,
    "start_time": "2022-06-11T23:34:16.005Z"
   },
   {
    "duration": 30,
    "start_time": "2022-06-11T23:34:16.029Z"
   },
   {
    "duration": 1361,
    "start_time": "2022-06-11T23:34:16.060Z"
   },
   {
    "duration": 11079,
    "start_time": "2022-06-11T23:34:17.427Z"
   },
   {
    "duration": 35,
    "start_time": "2022-06-11T23:34:28.507Z"
   },
   {
    "duration": 5,
    "start_time": "2022-06-11T23:34:28.543Z"
   },
   {
    "duration": 8,
    "start_time": "2022-06-11T23:34:28.550Z"
   },
   {
    "duration": 5,
    "start_time": "2022-06-11T23:34:28.559Z"
   },
   {
    "duration": 6,
    "start_time": "2022-06-11T23:34:28.565Z"
   },
   {
    "duration": 6,
    "start_time": "2022-06-11T23:34:28.572Z"
   },
   {
    "duration": 4,
    "start_time": "2022-06-11T23:35:49.123Z"
   },
   {
    "duration": 67,
    "start_time": "2022-06-11T23:35:49.128Z"
   },
   {
    "duration": 91,
    "start_time": "2022-06-11T23:35:49.196Z"
   },
   {
    "duration": 6,
    "start_time": "2022-06-11T23:35:49.289Z"
   },
   {
    "duration": 45,
    "start_time": "2022-06-11T23:35:49.297Z"
   },
   {
    "duration": 1328,
    "start_time": "2022-06-11T23:35:49.343Z"
   },
   {
    "duration": 11188,
    "start_time": "2022-06-11T23:35:50.673Z"
   },
   {
    "duration": 25,
    "start_time": "2022-06-11T23:36:01.863Z"
   },
   {
    "duration": 6,
    "start_time": "2022-06-11T23:36:01.889Z"
   },
   {
    "duration": 36,
    "start_time": "2022-06-11T23:36:01.897Z"
   },
   {
    "duration": 8,
    "start_time": "2022-06-11T23:36:01.935Z"
   },
   {
    "duration": 14,
    "start_time": "2022-06-11T23:36:01.945Z"
   },
   {
    "duration": 13,
    "start_time": "2022-06-11T23:36:01.961Z"
   },
   {
    "duration": 1145,
    "start_time": "2022-06-12T03:07:16.807Z"
   },
   {
    "duration": 72,
    "start_time": "2022-06-12T03:07:17.954Z"
   },
   {
    "duration": 103,
    "start_time": "2022-06-12T03:07:18.028Z"
   },
   {
    "duration": 7,
    "start_time": "2022-06-12T03:07:18.132Z"
   },
   {
    "duration": 46,
    "start_time": "2022-06-12T03:07:18.140Z"
   },
   {
    "duration": 1382,
    "start_time": "2022-06-12T03:07:18.188Z"
   },
   {
    "duration": 10961,
    "start_time": "2022-06-12T03:07:19.572Z"
   },
   {
    "duration": 42,
    "start_time": "2022-06-12T03:07:30.535Z"
   },
   {
    "duration": 7,
    "start_time": "2022-06-12T03:07:30.578Z"
   },
   {
    "duration": 28,
    "start_time": "2022-06-12T03:07:30.587Z"
   },
   {
    "duration": 25,
    "start_time": "2022-06-12T03:07:30.616Z"
   },
   {
    "duration": 21,
    "start_time": "2022-06-12T03:07:30.642Z"
   },
   {
    "duration": 22,
    "start_time": "2022-06-12T03:07:30.664Z"
   },
   {
    "duration": 1297,
    "start_time": "2022-06-14T13:20:45.094Z"
   },
   {
    "duration": 109,
    "start_time": "2022-06-14T13:20:46.393Z"
   },
   {
    "duration": 113,
    "start_time": "2022-06-14T13:20:46.504Z"
   },
   {
    "duration": 14,
    "start_time": "2022-06-14T13:20:46.619Z"
   },
   {
    "duration": 42,
    "start_time": "2022-06-14T13:20:46.638Z"
   },
   {
    "duration": 1292,
    "start_time": "2022-06-14T13:20:46.682Z"
   },
   {
    "duration": 10452,
    "start_time": "2022-06-14T13:20:47.976Z"
   },
   {
    "duration": 24,
    "start_time": "2022-06-14T13:20:58.429Z"
   },
   {
    "duration": 9,
    "start_time": "2022-06-14T13:20:58.455Z"
   },
   {
    "duration": 29,
    "start_time": "2022-06-14T13:20:58.466Z"
   },
   {
    "duration": 22,
    "start_time": "2022-06-14T13:20:58.497Z"
   },
   {
    "duration": 63,
    "start_time": "2022-06-14T13:20:58.520Z"
   },
   {
    "duration": 65,
    "start_time": "2022-06-14T13:20:58.584Z"
   },
   {
    "duration": 13,
    "start_time": "2022-06-14T14:27:26.414Z"
   },
   {
    "duration": 14,
    "start_time": "2022-06-14T14:27:51.582Z"
   },
   {
    "duration": 22,
    "start_time": "2022-06-14T14:28:00.395Z"
   },
   {
    "duration": 108,
    "start_time": "2022-06-14T14:29:11.500Z"
   },
   {
    "duration": 26,
    "start_time": "2022-06-14T14:29:50.685Z"
   },
   {
    "duration": 40,
    "start_time": "2022-06-14T14:30:09.726Z"
   },
   {
    "duration": 13,
    "start_time": "2022-06-14T14:30:20.056Z"
   },
   {
    "duration": 12,
    "start_time": "2022-06-14T14:30:37.950Z"
   },
   {
    "duration": 14,
    "start_time": "2022-06-14T14:31:21.841Z"
   },
   {
    "duration": 13,
    "start_time": "2022-06-14T14:31:55.554Z"
   },
   {
    "duration": 3,
    "start_time": "2022-06-14T14:32:17.248Z"
   },
   {
    "duration": 65,
    "start_time": "2022-06-14T14:32:17.253Z"
   },
   {
    "duration": 87,
    "start_time": "2022-06-14T14:32:17.319Z"
   },
   {
    "duration": 21,
    "start_time": "2022-06-14T14:32:17.407Z"
   },
   {
    "duration": 0,
    "start_time": "2022-06-14T14:32:17.432Z"
   },
   {
    "duration": 0,
    "start_time": "2022-06-14T14:32:17.433Z"
   },
   {
    "duration": 0,
    "start_time": "2022-06-14T14:32:17.434Z"
   },
   {
    "duration": 0,
    "start_time": "2022-06-14T14:32:17.435Z"
   },
   {
    "duration": 0,
    "start_time": "2022-06-14T14:32:17.436Z"
   },
   {
    "duration": 0,
    "start_time": "2022-06-14T14:32:17.437Z"
   },
   {
    "duration": 0,
    "start_time": "2022-06-14T14:32:17.438Z"
   },
   {
    "duration": 0,
    "start_time": "2022-06-14T14:32:17.439Z"
   },
   {
    "duration": 0,
    "start_time": "2022-06-14T14:32:17.439Z"
   },
   {
    "duration": 12,
    "start_time": "2022-06-14T14:32:51.000Z"
   },
   {
    "duration": 31,
    "start_time": "2022-06-14T14:35:33.369Z"
   },
   {
    "duration": 6,
    "start_time": "2022-06-14T14:36:16.113Z"
   },
   {
    "duration": 12,
    "start_time": "2022-06-14T14:36:25.191Z"
   },
   {
    "duration": 13,
    "start_time": "2022-06-14T14:36:29.059Z"
   },
   {
    "duration": 19,
    "start_time": "2022-06-14T14:37:19.496Z"
   },
   {
    "duration": 25,
    "start_time": "2022-06-14T14:40:56.999Z"
   },
   {
    "duration": 16,
    "start_time": "2022-06-14T14:41:14.655Z"
   },
   {
    "duration": 46,
    "start_time": "2022-06-14T14:41:25.425Z"
   },
   {
    "duration": 19,
    "start_time": "2022-06-14T14:41:29.940Z"
   },
   {
    "duration": 15,
    "start_time": "2022-06-14T14:41:44.770Z"
   },
   {
    "duration": 13,
    "start_time": "2022-06-14T14:41:56.238Z"
   },
   {
    "duration": 13,
    "start_time": "2022-06-14T14:43:58.398Z"
   },
   {
    "duration": 15,
    "start_time": "2022-06-14T14:44:14.061Z"
   },
   {
    "duration": 12,
    "start_time": "2022-06-14T14:45:26.828Z"
   },
   {
    "duration": 14,
    "start_time": "2022-06-14T14:45:58.940Z"
   },
   {
    "duration": 14,
    "start_time": "2022-06-14T14:46:26.742Z"
   },
   {
    "duration": 34,
    "start_time": "2022-06-14T14:46:28.169Z"
   },
   {
    "duration": 17,
    "start_time": "2022-06-14T14:50:38.290Z"
   },
   {
    "duration": 12,
    "start_time": "2022-06-14T14:53:07.277Z"
   },
   {
    "duration": 4,
    "start_time": "2022-06-14T14:53:28.057Z"
   },
   {
    "duration": 5,
    "start_time": "2022-06-14T14:53:44.670Z"
   },
   {
    "duration": 9,
    "start_time": "2022-06-14T14:54:00.205Z"
   },
   {
    "duration": 5,
    "start_time": "2022-06-14T14:55:21.897Z"
   },
   {
    "duration": 5,
    "start_time": "2022-06-14T14:55:34.861Z"
   },
   {
    "duration": 251,
    "start_time": "2022-06-14T14:56:39.431Z"
   },
   {
    "duration": 552,
    "start_time": "2022-06-14T14:57:38.180Z"
   },
   {
    "duration": 28,
    "start_time": "2022-06-14T14:57:56.165Z"
   },
   {
    "duration": 254,
    "start_time": "2022-06-14T14:59:05.439Z"
   },
   {
    "duration": 52,
    "start_time": "2022-06-14T15:01:06.390Z"
   },
   {
    "duration": 822,
    "start_time": "2022-06-14T15:01:16.353Z"
   },
   {
    "duration": 256,
    "start_time": "2022-06-14T15:01:25.677Z"
   },
   {
    "duration": 1086,
    "start_time": "2022-06-14T15:02:57.106Z"
   },
   {
    "duration": 683,
    "start_time": "2022-06-14T15:03:21.925Z"
   },
   {
    "duration": 472,
    "start_time": "2022-06-14T15:11:32.672Z"
   },
   {
    "duration": 415,
    "start_time": "2022-06-14T15:11:40.169Z"
   },
   {
    "duration": 272,
    "start_time": "2022-06-14T15:12:05.688Z"
   },
   {
    "duration": 174,
    "start_time": "2022-06-14T15:12:14.542Z"
   },
   {
    "duration": 200,
    "start_time": "2022-06-14T15:12:21.212Z"
   },
   {
    "duration": 183,
    "start_time": "2022-06-14T15:12:38.236Z"
   },
   {
    "duration": 209,
    "start_time": "2022-06-14T15:13:08.069Z"
   },
   {
    "duration": 212,
    "start_time": "2022-06-14T15:13:53.988Z"
   },
   {
    "duration": 215,
    "start_time": "2022-06-14T15:17:21.784Z"
   },
   {
    "duration": 1636,
    "start_time": "2022-06-14T18:56:31.206Z"
   },
   {
    "duration": 175,
    "start_time": "2022-06-14T18:56:32.844Z"
   },
   {
    "duration": 115,
    "start_time": "2022-06-14T18:56:33.021Z"
   },
   {
    "duration": 16,
    "start_time": "2022-06-14T18:56:33.138Z"
   },
   {
    "duration": 6,
    "start_time": "2022-06-14T18:56:33.156Z"
   },
   {
    "duration": 408,
    "start_time": "2022-06-14T18:56:33.163Z"
   },
   {
    "duration": 0,
    "start_time": "2022-06-14T18:56:33.573Z"
   },
   {
    "duration": 0,
    "start_time": "2022-06-14T18:56:33.575Z"
   },
   {
    "duration": 0,
    "start_time": "2022-06-14T18:56:33.577Z"
   },
   {
    "duration": 0,
    "start_time": "2022-06-14T18:56:33.578Z"
   },
   {
    "duration": 0,
    "start_time": "2022-06-14T18:56:33.579Z"
   },
   {
    "duration": 0,
    "start_time": "2022-06-14T18:56:33.580Z"
   },
   {
    "duration": 0,
    "start_time": "2022-06-14T18:56:33.582Z"
   },
   {
    "duration": 0,
    "start_time": "2022-06-14T18:56:33.583Z"
   },
   {
    "duration": 0,
    "start_time": "2022-06-14T18:56:33.584Z"
   },
   {
    "duration": 225,
    "start_time": "2022-06-14T18:57:28.961Z"
   },
   {
    "duration": 221,
    "start_time": "2022-06-14T18:57:41.736Z"
   },
   {
    "duration": 316,
    "start_time": "2022-06-14T18:57:52.609Z"
   },
   {
    "duration": 216,
    "start_time": "2022-06-14T19:01:08.770Z"
   },
   {
    "duration": 201,
    "start_time": "2022-06-14T19:01:26.481Z"
   },
   {
    "duration": 215,
    "start_time": "2022-06-14T19:01:39.415Z"
   },
   {
    "duration": 247,
    "start_time": "2022-06-14T19:03:31.603Z"
   },
   {
    "duration": 261,
    "start_time": "2022-06-14T19:04:12.465Z"
   },
   {
    "duration": 198,
    "start_time": "2022-06-14T19:08:23.712Z"
   },
   {
    "duration": 198,
    "start_time": "2022-06-14T19:08:35.547Z"
   },
   {
    "duration": 204,
    "start_time": "2022-06-14T19:09:00.090Z"
   },
   {
    "duration": 217,
    "start_time": "2022-06-14T19:09:09.617Z"
   },
   {
    "duration": 208,
    "start_time": "2022-06-14T19:09:54.311Z"
   },
   {
    "duration": 1923,
    "start_time": "2022-06-14T19:14:52.273Z"
   },
   {
    "duration": 1374,
    "start_time": "2022-06-14T19:15:58.490Z"
   },
   {
    "duration": 157,
    "start_time": "2022-06-14T19:15:59.866Z"
   },
   {
    "duration": 113,
    "start_time": "2022-06-14T19:16:00.024Z"
   },
   {
    "duration": 14,
    "start_time": "2022-06-14T19:16:00.139Z"
   },
   {
    "duration": 36,
    "start_time": "2022-06-14T19:16:00.155Z"
   },
   {
    "duration": 21371,
    "start_time": "2022-06-14T19:16:00.192Z"
   },
   {
    "duration": 7526,
    "start_time": "2022-06-14T19:16:21.564Z"
   },
   {
    "duration": 0,
    "start_time": "2022-06-14T19:16:29.093Z"
   },
   {
    "duration": 0,
    "start_time": "2022-06-14T19:16:29.094Z"
   },
   {
    "duration": 0,
    "start_time": "2022-06-14T19:16:29.095Z"
   },
   {
    "duration": 0,
    "start_time": "2022-06-14T19:16:29.096Z"
   },
   {
    "duration": 0,
    "start_time": "2022-06-14T19:16:29.097Z"
   },
   {
    "duration": 0,
    "start_time": "2022-06-14T19:16:29.098Z"
   },
   {
    "duration": 0,
    "start_time": "2022-06-14T19:16:29.099Z"
   },
   {
    "duration": 0,
    "start_time": "2022-06-14T19:16:29.100Z"
   },
   {
    "duration": 0,
    "start_time": "2022-06-14T19:16:29.101Z"
   },
   {
    "duration": 57,
    "start_time": "2022-06-14T19:17:22.756Z"
   },
   {
    "duration": 1333,
    "start_time": "2022-06-14T19:17:30.011Z"
   },
   {
    "duration": 147,
    "start_time": "2022-06-14T19:17:31.347Z"
   },
   {
    "duration": 106,
    "start_time": "2022-06-14T19:17:31.495Z"
   },
   {
    "duration": 21,
    "start_time": "2022-06-14T19:17:31.603Z"
   },
   {
    "duration": 41,
    "start_time": "2022-06-14T19:17:31.626Z"
   },
   {
    "duration": 26465,
    "start_time": "2022-06-14T19:17:31.668Z"
   },
   {
    "duration": 89,
    "start_time": "2022-06-14T19:17:58.135Z"
   },
   {
    "duration": 1678,
    "start_time": "2022-06-14T19:17:58.225Z"
   },
   {
    "duration": 1505,
    "start_time": "2022-06-14T19:17:59.904Z"
   },
   {
    "duration": 0,
    "start_time": "2022-06-14T19:18:01.412Z"
   },
   {
    "duration": 0,
    "start_time": "2022-06-14T19:18:01.424Z"
   },
   {
    "duration": 0,
    "start_time": "2022-06-14T19:18:01.426Z"
   },
   {
    "duration": 0,
    "start_time": "2022-06-14T19:18:01.428Z"
   },
   {
    "duration": 0,
    "start_time": "2022-06-14T19:18:01.429Z"
   },
   {
    "duration": 0,
    "start_time": "2022-06-14T19:18:01.431Z"
   },
   {
    "duration": 281,
    "start_time": "2022-06-14T19:18:13.105Z"
   },
   {
    "duration": 282,
    "start_time": "2022-06-14T19:18:24.673Z"
   },
   {
    "duration": 387,
    "start_time": "2022-06-14T19:18:33.230Z"
   },
   {
    "duration": 255,
    "start_time": "2022-06-14T19:18:38.329Z"
   },
   {
    "duration": 249,
    "start_time": "2022-06-14T19:18:43.157Z"
   },
   {
    "duration": 330,
    "start_time": "2022-06-14T19:18:52.493Z"
   },
   {
    "duration": 278,
    "start_time": "2022-06-14T19:19:02.289Z"
   },
   {
    "duration": 247,
    "start_time": "2022-06-14T19:19:08.299Z"
   },
   {
    "duration": 269,
    "start_time": "2022-06-14T19:19:20.230Z"
   },
   {
    "duration": 270,
    "start_time": "2022-06-14T19:19:24.062Z"
   },
   {
    "duration": 272,
    "start_time": "2022-06-14T19:19:50.001Z"
   },
   {
    "duration": 241,
    "start_time": "2022-06-14T19:19:59.433Z"
   },
   {
    "duration": 239,
    "start_time": "2022-06-14T19:20:04.361Z"
   },
   {
    "duration": 367,
    "start_time": "2022-06-14T19:20:10.636Z"
   },
   {
    "duration": 246,
    "start_time": "2022-06-14T19:20:17.488Z"
   },
   {
    "duration": 264,
    "start_time": "2022-06-14T19:20:25.142Z"
   },
   {
    "duration": 224,
    "start_time": "2022-06-14T19:21:36.215Z"
   },
   {
    "duration": 221,
    "start_time": "2022-06-14T19:21:47.544Z"
   },
   {
    "duration": 219,
    "start_time": "2022-06-14T19:21:57.192Z"
   },
   {
    "duration": 239,
    "start_time": "2022-06-14T19:22:07.961Z"
   },
   {
    "duration": 213,
    "start_time": "2022-06-14T19:22:18.643Z"
   },
   {
    "duration": 209,
    "start_time": "2022-06-14T19:22:26.630Z"
   },
   {
    "duration": 212,
    "start_time": "2022-06-14T19:22:34.928Z"
   },
   {
    "duration": 232,
    "start_time": "2022-06-14T19:22:39.524Z"
   },
   {
    "duration": 346,
    "start_time": "2022-06-14T19:22:45.730Z"
   },
   {
    "duration": 225,
    "start_time": "2022-06-14T19:23:07.120Z"
   },
   {
    "duration": 216,
    "start_time": "2022-06-14T19:23:46.115Z"
   },
   {
    "duration": 244,
    "start_time": "2022-06-14T19:23:52.379Z"
   },
   {
    "duration": 221,
    "start_time": "2022-06-14T19:23:57.159Z"
   },
   {
    "duration": 214,
    "start_time": "2022-06-14T19:26:00.979Z"
   },
   {
    "duration": 248,
    "start_time": "2022-06-14T19:26:16.907Z"
   },
   {
    "duration": 212,
    "start_time": "2022-06-14T19:26:23.469Z"
   },
   {
    "duration": 295,
    "start_time": "2022-06-14T19:26:31.430Z"
   },
   {
    "duration": 361,
    "start_time": "2022-06-14T19:26:41.170Z"
   },
   {
    "duration": 507,
    "start_time": "2022-06-14T19:26:49.241Z"
   },
   {
    "duration": 333,
    "start_time": "2022-06-14T19:26:57.046Z"
   },
   {
    "duration": 322,
    "start_time": "2022-06-14T19:27:03.791Z"
   },
   {
    "duration": 359,
    "start_time": "2022-06-14T19:27:15.124Z"
   },
   {
    "duration": 318,
    "start_time": "2022-06-14T19:27:19.348Z"
   },
   {
    "duration": 315,
    "start_time": "2022-06-14T19:27:24.085Z"
   },
   {
    "duration": 319,
    "start_time": "2022-06-14T19:27:31.633Z"
   },
   {
    "duration": 289,
    "start_time": "2022-06-14T19:27:38.309Z"
   },
   {
    "duration": 312,
    "start_time": "2022-06-14T19:27:43.686Z"
   },
   {
    "duration": 317,
    "start_time": "2022-06-14T19:28:40.650Z"
   },
   {
    "duration": 333,
    "start_time": "2022-06-14T19:29:03.491Z"
   },
   {
    "duration": 314,
    "start_time": "2022-06-14T19:29:08.451Z"
   },
   {
    "duration": 437,
    "start_time": "2022-06-14T19:29:13.340Z"
   },
   {
    "duration": 328,
    "start_time": "2022-06-14T19:29:31.989Z"
   },
   {
    "duration": 335,
    "start_time": "2022-06-14T19:29:54.563Z"
   },
   {
    "duration": 283,
    "start_time": "2022-06-14T19:30:13.199Z"
   },
   {
    "duration": 273,
    "start_time": "2022-06-14T19:30:19.499Z"
   },
   {
    "duration": 301,
    "start_time": "2022-06-14T19:30:25.301Z"
   },
   {
    "duration": 292,
    "start_time": "2022-06-14T19:30:39.290Z"
   },
   {
    "duration": 11,
    "start_time": "2022-06-14T19:31:23.120Z"
   },
   {
    "duration": 306,
    "start_time": "2022-06-14T19:31:53.125Z"
   },
   {
    "duration": 296,
    "start_time": "2022-06-14T19:31:58.495Z"
   },
   {
    "duration": 320,
    "start_time": "2022-06-14T19:32:46.073Z"
   },
   {
    "duration": 304,
    "start_time": "2022-06-14T19:33:00.746Z"
   },
   {
    "duration": 481,
    "start_time": "2022-06-14T19:33:17.553Z"
   },
   {
    "duration": 311,
    "start_time": "2022-06-14T19:35:09.224Z"
   },
   {
    "duration": 285,
    "start_time": "2022-06-14T19:36:00.385Z"
   },
   {
    "duration": 280,
    "start_time": "2022-06-14T19:37:48.462Z"
   },
   {
    "duration": 4,
    "start_time": "2022-06-14T19:38:41.754Z"
   },
   {
    "duration": 65,
    "start_time": "2022-06-14T19:38:41.759Z"
   },
   {
    "duration": 100,
    "start_time": "2022-06-14T19:38:41.825Z"
   },
   {
    "duration": 8,
    "start_time": "2022-06-14T19:38:41.927Z"
   },
   {
    "duration": 315,
    "start_time": "2022-06-14T19:38:41.936Z"
   },
   {
    "duration": 75,
    "start_time": "2022-06-14T19:38:42.253Z"
   },
   {
    "duration": 1434,
    "start_time": "2022-06-14T19:38:42.329Z"
   },
   {
    "duration": 12519,
    "start_time": "2022-06-14T19:38:43.764Z"
   },
   {
    "duration": 49,
    "start_time": "2022-06-14T19:38:56.284Z"
   },
   {
    "duration": 8,
    "start_time": "2022-06-14T19:38:56.340Z"
   },
   {
    "duration": 27,
    "start_time": "2022-06-14T19:38:56.350Z"
   },
   {
    "duration": 6,
    "start_time": "2022-06-14T19:38:56.379Z"
   },
   {
    "duration": 9,
    "start_time": "2022-06-14T19:38:56.386Z"
   },
   {
    "duration": 28,
    "start_time": "2022-06-14T19:38:56.396Z"
   },
   {
    "duration": 21,
    "start_time": "2022-06-14T21:36:30.538Z"
   },
   {
    "duration": 1655,
    "start_time": "2022-06-14T21:36:37.754Z"
   },
   {
    "duration": 16312,
    "start_time": "2022-06-14T21:36:54.829Z"
   },
   {
    "duration": 274,
    "start_time": "2022-06-14T21:42:34.023Z"
   },
   {
    "duration": 303,
    "start_time": "2022-06-14T21:43:01.670Z"
   },
   {
    "duration": 265,
    "start_time": "2022-06-14T21:44:01.220Z"
   },
   {
    "duration": 259,
    "start_time": "2022-06-14T21:46:03.790Z"
   },
   {
    "duration": 3069,
    "start_time": "2022-06-14T21:46:16.959Z"
   },
   {
    "duration": 1913,
    "start_time": "2022-06-14T21:47:18.304Z"
   },
   {
    "duration": 3352,
    "start_time": "2022-06-14T21:48:00.799Z"
   },
   {
    "duration": 2854,
    "start_time": "2022-06-14T21:48:33.970Z"
   },
   {
    "duration": 3080,
    "start_time": "2022-06-14T21:49:08.995Z"
   },
   {
    "duration": 3289,
    "start_time": "2022-06-14T21:53:45.572Z"
   },
   {
    "duration": 3123,
    "start_time": "2022-06-14T21:54:13.067Z"
   },
   {
    "duration": 3322,
    "start_time": "2022-06-14T21:55:09.336Z"
   },
   {
    "duration": 3322,
    "start_time": "2022-06-14T21:55:26.181Z"
   },
   {
    "duration": 3205,
    "start_time": "2022-06-14T21:56:14.814Z"
   },
   {
    "duration": 3190,
    "start_time": "2022-06-14T21:56:28.371Z"
   },
   {
    "duration": 3336,
    "start_time": "2022-06-14T21:56:47.706Z"
   },
   {
    "duration": 3159,
    "start_time": "2022-06-14T21:57:53.777Z"
   },
   {
    "duration": 2975,
    "start_time": "2022-06-14T21:58:14.507Z"
   },
   {
    "duration": 2939,
    "start_time": "2022-06-14T22:01:17.873Z"
   },
   {
    "duration": 3126,
    "start_time": "2022-06-14T22:01:29.740Z"
   },
   {
    "duration": 2982,
    "start_time": "2022-06-14T22:02:27.011Z"
   },
   {
    "duration": 2912,
    "start_time": "2022-06-14T22:06:13.012Z"
   },
   {
    "duration": 35,
    "start_time": "2022-06-14T22:07:31.521Z"
   },
   {
    "duration": 2926,
    "start_time": "2022-06-14T22:07:52.194Z"
   },
   {
    "duration": 3101,
    "start_time": "2022-06-14T22:07:58.681Z"
   },
   {
    "duration": 2985,
    "start_time": "2022-06-14T22:08:28.976Z"
   },
   {
    "duration": 11312,
    "start_time": "2022-06-14T22:37:01.313Z"
   },
   {
    "duration": 10884,
    "start_time": "2022-06-14T22:37:34.026Z"
   },
   {
    "duration": 4,
    "start_time": "2022-06-15T11:17:08.313Z"
   },
   {
    "duration": 91,
    "start_time": "2022-06-15T11:17:08.319Z"
   },
   {
    "duration": 119,
    "start_time": "2022-06-15T11:17:08.412Z"
   },
   {
    "duration": 11,
    "start_time": "2022-06-15T11:17:08.542Z"
   },
   {
    "duration": 344,
    "start_time": "2022-06-15T11:17:08.555Z"
   },
   {
    "duration": 51,
    "start_time": "2022-06-15T11:17:08.901Z"
   },
   {
    "duration": 3514,
    "start_time": "2022-06-15T11:17:08.953Z"
   },
   {
    "duration": 13230,
    "start_time": "2022-06-15T11:17:12.469Z"
   },
   {
    "duration": 73,
    "start_time": "2022-06-15T11:17:25.702Z"
   },
   {
    "duration": 0,
    "start_time": "2022-06-15T11:17:25.777Z"
   },
   {
    "duration": 0,
    "start_time": "2022-06-15T11:17:25.779Z"
   },
   {
    "duration": 0,
    "start_time": "2022-06-15T11:17:25.780Z"
   },
   {
    "duration": 0,
    "start_time": "2022-06-15T11:17:25.781Z"
   },
   {
    "duration": 1,
    "start_time": "2022-06-15T11:17:25.782Z"
   },
   {
    "duration": 0,
    "start_time": "2022-06-15T11:17:25.785Z"
   },
   {
    "duration": 1570,
    "start_time": "2022-06-15T16:29:06.531Z"
   },
   {
    "duration": 154,
    "start_time": "2022-06-15T16:29:08.103Z"
   },
   {
    "duration": 116,
    "start_time": "2022-06-15T16:29:08.258Z"
   },
   {
    "duration": 9,
    "start_time": "2022-06-15T16:29:08.377Z"
   },
   {
    "duration": 414,
    "start_time": "2022-06-15T16:29:08.389Z"
   },
   {
    "duration": 45,
    "start_time": "2022-06-15T16:29:08.805Z"
   },
   {
    "duration": 3802,
    "start_time": "2022-06-15T16:29:08.852Z"
   },
   {
    "duration": 12517,
    "start_time": "2022-06-15T16:29:12.656Z"
   },
   {
    "duration": 6,
    "start_time": "2022-06-15T16:29:25.175Z"
   },
   {
    "duration": 0,
    "start_time": "2022-06-15T16:29:25.183Z"
   },
   {
    "duration": 0,
    "start_time": "2022-06-15T16:29:25.185Z"
   },
   {
    "duration": 0,
    "start_time": "2022-06-15T16:29:25.187Z"
   },
   {
    "duration": 0,
    "start_time": "2022-06-15T16:29:25.188Z"
   },
   {
    "duration": 0,
    "start_time": "2022-06-15T16:29:25.189Z"
   },
   {
    "duration": 0,
    "start_time": "2022-06-15T16:29:25.191Z"
   },
   {
    "duration": 276,
    "start_time": "2022-06-15T16:37:45.277Z"
   },
   {
    "duration": 132,
    "start_time": "2022-06-15T16:37:59.849Z"
   },
   {
    "duration": 3202,
    "start_time": "2022-06-15T16:39:11.379Z"
   },
   {
    "duration": 1695,
    "start_time": "2022-06-15T16:40:51.686Z"
   },
   {
    "duration": 3,
    "start_time": "2022-06-15T16:41:57.643Z"
   },
   {
    "duration": 11,
    "start_time": "2022-06-15T16:42:13.918Z"
   },
   {
    "duration": 3,
    "start_time": "2022-06-15T16:42:21.428Z"
   },
   {
    "duration": 3,
    "start_time": "2022-06-15T16:42:33.446Z"
   },
   {
    "duration": 4,
    "start_time": "2022-06-15T16:43:14.953Z"
   },
   {
    "duration": 3,
    "start_time": "2022-06-15T16:43:59.737Z"
   },
   {
    "duration": 1612,
    "start_time": "2022-06-15T16:47:34.292Z"
   },
   {
    "duration": 1828,
    "start_time": "2022-06-15T16:48:55.064Z"
   },
   {
    "duration": 1815,
    "start_time": "2022-06-15T16:49:28.593Z"
   },
   {
    "duration": 1750,
    "start_time": "2022-06-15T16:49:59.942Z"
   },
   {
    "duration": 12583,
    "start_time": "2022-06-15T16:50:37.161Z"
   },
   {
    "duration": 4,
    "start_time": "2022-06-15T16:52:28.074Z"
   },
   {
    "duration": 12290,
    "start_time": "2022-06-15T16:53:02.986Z"
   },
   {
    "duration": 25726,
    "start_time": "2022-06-15T16:54:47.638Z"
   },
   {
    "duration": 12663,
    "start_time": "2022-06-15T16:55:42.951Z"
   },
   {
    "duration": 12333,
    "start_time": "2022-06-15T16:56:06.408Z"
   },
   {
    "duration": 12406,
    "start_time": "2022-06-15T16:56:41.781Z"
   },
   {
    "duration": 9,
    "start_time": "2022-06-15T17:09:46.765Z"
   },
   {
    "duration": 4,
    "start_time": "2022-06-15T17:09:52.879Z"
   },
   {
    "duration": 3,
    "start_time": "2022-06-15T17:09:53.543Z"
   },
   {
    "duration": 22,
    "start_time": "2022-06-15T17:11:19.737Z"
   },
   {
    "duration": 4,
    "start_time": "2022-06-15T17:12:01.704Z"
   },
   {
    "duration": 3,
    "start_time": "2022-06-15T17:12:04.551Z"
   },
   {
    "duration": 11,
    "start_time": "2022-06-15T17:14:47.010Z"
   },
   {
    "duration": 11,
    "start_time": "2022-06-15T17:15:51.655Z"
   },
   {
    "duration": 3,
    "start_time": "2022-06-15T17:16:42.078Z"
   },
   {
    "duration": 72976,
    "start_time": "2022-06-15T17:16:46.498Z"
   },
   {
    "duration": 76105,
    "start_time": "2022-06-15T17:18:30.502Z"
   },
   {
    "duration": 3,
    "start_time": "2022-06-15T17:26:09.940Z"
   },
   {
    "duration": 83,
    "start_time": "2022-06-15T17:26:09.945Z"
   },
   {
    "duration": 107,
    "start_time": "2022-06-15T17:26:10.030Z"
   },
   {
    "duration": 10,
    "start_time": "2022-06-15T17:26:10.139Z"
   },
   {
    "duration": 360,
    "start_time": "2022-06-15T17:26:10.151Z"
   },
   {
    "duration": 58,
    "start_time": "2022-06-15T17:26:10.512Z"
   },
   {
    "duration": 1728,
    "start_time": "2022-06-15T17:26:10.571Z"
   },
   {
    "duration": 13700,
    "start_time": "2022-06-15T17:26:12.301Z"
   },
   {
    "duration": 78537,
    "start_time": "2022-06-15T17:26:26.005Z"
   },
   {
    "duration": 3,
    "start_time": "2022-06-15T17:27:44.544Z"
   },
   {
    "duration": 43,
    "start_time": "2022-06-15T17:27:44.548Z"
   },
   {
    "duration": 6,
    "start_time": "2022-06-15T17:27:44.593Z"
   },
   {
    "duration": 21,
    "start_time": "2022-06-15T17:27:44.601Z"
   },
   {
    "duration": 6,
    "start_time": "2022-06-15T17:27:44.623Z"
   },
   {
    "duration": 9,
    "start_time": "2022-06-15T17:27:44.631Z"
   },
   {
    "duration": 29,
    "start_time": "2022-06-15T17:27:44.641Z"
   },
   {
    "duration": 43,
    "start_time": "2022-06-15T17:29:37.332Z"
   },
   {
    "duration": 9,
    "start_time": "2022-06-15T17:30:37.296Z"
   },
   {
    "duration": 10,
    "start_time": "2022-06-15T17:30:40.139Z"
   },
   {
    "duration": 51,
    "start_time": "2022-06-15T17:30:44.149Z"
   },
   {
    "duration": 23,
    "start_time": "2022-06-15T17:31:52.308Z"
   },
   {
    "duration": 46,
    "start_time": "2022-06-15T17:32:39.931Z"
   },
   {
    "duration": 9,
    "start_time": "2022-06-15T17:33:23.687Z"
   },
   {
    "duration": 46,
    "start_time": "2022-06-15T17:33:27.712Z"
   },
   {
    "duration": 4,
    "start_time": "2022-06-15T17:33:37.503Z"
   },
   {
    "duration": 83,
    "start_time": "2022-06-15T17:33:37.509Z"
   },
   {
    "duration": 114,
    "start_time": "2022-06-15T17:33:37.594Z"
   },
   {
    "duration": 9,
    "start_time": "2022-06-15T17:33:37.710Z"
   },
   {
    "duration": 360,
    "start_time": "2022-06-15T17:33:37.720Z"
   },
   {
    "duration": 87,
    "start_time": "2022-06-15T17:33:38.081Z"
   },
   {
    "duration": 5,
    "start_time": "2022-06-15T17:34:01.958Z"
   },
   {
    "duration": 110,
    "start_time": "2022-06-15T17:34:01.965Z"
   },
   {
    "duration": 111,
    "start_time": "2022-06-15T17:34:02.077Z"
   },
   {
    "duration": 10,
    "start_time": "2022-06-15T17:34:02.190Z"
   },
   {
    "duration": 348,
    "start_time": "2022-06-15T17:34:02.201Z"
   },
   {
    "duration": 160,
    "start_time": "2022-06-15T17:34:02.551Z"
   },
   {
    "duration": 1671,
    "start_time": "2022-06-15T17:34:02.713Z"
   },
   {
    "duration": 11795,
    "start_time": "2022-06-15T17:34:04.386Z"
   },
   {
    "duration": 76423,
    "start_time": "2022-06-15T17:34:16.183Z"
   },
   {
    "duration": 3,
    "start_time": "2022-06-15T17:35:32.610Z"
   },
   {
    "duration": 36,
    "start_time": "2022-06-15T17:35:32.615Z"
   },
   {
    "duration": 16,
    "start_time": "2022-06-15T17:35:32.653Z"
   },
   {
    "duration": 12,
    "start_time": "2022-06-15T17:35:32.671Z"
   },
   {
    "duration": 13,
    "start_time": "2022-06-15T17:35:32.684Z"
   },
   {
    "duration": 15,
    "start_time": "2022-06-15T17:35:32.699Z"
   },
   {
    "duration": 7,
    "start_time": "2022-06-15T17:35:32.716Z"
   },
   {
    "duration": 77286,
    "start_time": "2022-06-15T17:39:21.859Z"
   },
   {
    "duration": 166619,
    "start_time": "2022-06-15T17:41:37.789Z"
   },
   {
    "duration": 11,
    "start_time": "2022-06-15T17:47:03.702Z"
   },
   {
    "duration": 748,
    "start_time": "2022-06-15T17:55:17.088Z"
   },
   {
    "duration": 117,
    "start_time": "2022-06-15T17:55:42.006Z"
   },
   {
    "duration": 619,
    "start_time": "2022-06-15T17:55:49.604Z"
   },
   {
    "duration": 637,
    "start_time": "2022-06-15T17:57:48.708Z"
   },
   {
    "duration": 750,
    "start_time": "2022-06-15T18:04:41.532Z"
   },
   {
    "duration": 6,
    "start_time": "2022-06-15T18:27:06.893Z"
   },
   {
    "duration": 2,
    "start_time": "2022-06-15T18:27:45.208Z"
   },
   {
    "duration": 12,
    "start_time": "2022-06-15T18:28:02.257Z"
   },
   {
    "duration": 19,
    "start_time": "2022-06-15T19:17:12.951Z"
   },
   {
    "duration": 1615,
    "start_time": "2022-06-15T19:20:31.276Z"
   },
   {
    "duration": 11572,
    "start_time": "2022-06-15T19:21:41.766Z"
   },
   {
    "duration": 1596,
    "start_time": "2022-06-15T19:23:24.039Z"
   },
   {
    "duration": 1637,
    "start_time": "2022-06-15T19:23:50.949Z"
   },
   {
    "duration": 11488,
    "start_time": "2022-06-15T19:24:25.488Z"
   },
   {
    "duration": 1553,
    "start_time": "2022-06-15T19:24:56.396Z"
   },
   {
    "duration": 11761,
    "start_time": "2022-06-15T19:25:00.482Z"
   },
   {
    "duration": 23,
    "start_time": "2022-06-15T19:27:12.125Z"
   },
   {
    "duration": 1619,
    "start_time": "2022-06-15T19:27:37.340Z"
   },
   {
    "duration": 1668,
    "start_time": "2022-06-15T19:28:10.340Z"
   },
   {
    "duration": 16,
    "start_time": "2022-06-15T19:45:01.284Z"
   },
   {
    "duration": 19,
    "start_time": "2022-06-15T19:47:38.855Z"
   },
   {
    "duration": 619,
    "start_time": "2022-06-15T20:04:16.948Z"
   },
   {
    "duration": 154,
    "start_time": "2022-06-15T20:04:38.656Z"
   },
   {
    "duration": 588,
    "start_time": "2022-06-15T20:04:47.474Z"
   },
   {
    "duration": 593,
    "start_time": "2022-06-15T20:06:29.045Z"
   },
   {
    "duration": 737,
    "start_time": "2022-06-15T20:06:52.967Z"
   },
   {
    "duration": 733,
    "start_time": "2022-06-15T20:06:58.244Z"
   },
   {
    "duration": 704,
    "start_time": "2022-06-15T20:07:06.100Z"
   },
   {
    "duration": 868,
    "start_time": "2022-06-15T20:08:07.172Z"
   },
   {
    "duration": 740,
    "start_time": "2022-06-15T20:09:03.808Z"
   },
   {
    "duration": 11,
    "start_time": "2022-06-15T20:19:53.333Z"
   },
   {
    "duration": 11,
    "start_time": "2022-06-15T20:20:00.641Z"
   },
   {
    "duration": 12,
    "start_time": "2022-06-15T20:20:09.138Z"
   },
   {
    "duration": 57,
    "start_time": "2022-06-15T20:20:31.687Z"
   },
   {
    "duration": 11673,
    "start_time": "2022-06-15T20:21:53.103Z"
   },
   {
    "duration": 12,
    "start_time": "2022-06-15T20:24:14.914Z"
   },
   {
    "duration": 27,
    "start_time": "2022-06-15T20:29:05.224Z"
   },
   {
    "duration": 5,
    "start_time": "2022-06-15T20:29:24.402Z"
   },
   {
    "duration": 76,
    "start_time": "2022-06-15T20:29:24.409Z"
   },
   {
    "duration": 122,
    "start_time": "2022-06-15T20:29:24.487Z"
   },
   {
    "duration": 11,
    "start_time": "2022-06-15T20:29:24.612Z"
   },
   {
    "duration": 351,
    "start_time": "2022-06-15T20:29:24.625Z"
   },
   {
    "duration": 50,
    "start_time": "2022-06-15T20:29:24.978Z"
   },
   {
    "duration": 1669,
    "start_time": "2022-06-15T20:29:25.064Z"
   },
   {
    "duration": 12412,
    "start_time": "2022-06-15T20:29:26.735Z"
   },
   {
    "duration": 162552,
    "start_time": "2022-06-15T20:29:39.149Z"
   },
   {
    "duration": 10,
    "start_time": "2022-06-15T20:32:21.703Z"
   },
   {
    "duration": 32,
    "start_time": "2022-06-15T20:32:21.715Z"
   },
   {
    "duration": 751,
    "start_time": "2022-06-15T20:32:21.749Z"
   },
   {
    "duration": 10,
    "start_time": "2022-06-15T20:32:22.501Z"
   },
   {
    "duration": 5,
    "start_time": "2022-06-15T20:32:22.512Z"
   },
   {
    "duration": 7,
    "start_time": "2022-06-15T20:32:22.519Z"
   },
   {
    "duration": 1858,
    "start_time": "2022-06-16T05:12:55.815Z"
   },
   {
    "duration": 124,
    "start_time": "2022-06-16T05:12:57.675Z"
   },
   {
    "duration": 186,
    "start_time": "2022-06-16T05:12:57.806Z"
   },
   {
    "duration": 12,
    "start_time": "2022-06-16T05:12:57.995Z"
   },
   {
    "duration": 419,
    "start_time": "2022-06-16T05:12:58.009Z"
   },
   {
    "duration": 72,
    "start_time": "2022-06-16T05:12:58.430Z"
   },
   {
    "duration": 1951,
    "start_time": "2022-06-16T05:12:58.505Z"
   },
   {
    "duration": 14960,
    "start_time": "2022-06-16T05:13:00.459Z"
   },
   {
    "duration": 207627,
    "start_time": "2022-06-16T05:13:15.422Z"
   },
   {
    "duration": 12,
    "start_time": "2022-06-16T05:16:43.051Z"
   },
   {
    "duration": 62,
    "start_time": "2022-06-16T05:16:43.065Z"
   },
   {
    "duration": 1033,
    "start_time": "2022-06-16T05:16:43.129Z"
   },
   {
    "duration": 13,
    "start_time": "2022-06-16T05:16:44.164Z"
   },
   {
    "duration": 26,
    "start_time": "2022-06-16T05:16:44.180Z"
   },
   {
    "duration": 12,
    "start_time": "2022-06-16T05:16:44.208Z"
   },
   {
    "duration": 535,
    "start_time": "2022-06-16T05:21:04.152Z"
   },
   {
    "duration": 961,
    "start_time": "2022-06-16T05:21:11.390Z"
   },
   {
    "duration": 102,
    "start_time": "2022-06-16T05:21:12.353Z"
   },
   {
    "duration": 97,
    "start_time": "2022-06-16T05:21:12.457Z"
   },
   {
    "duration": 8,
    "start_time": "2022-06-16T05:21:12.556Z"
   },
   {
    "duration": 346,
    "start_time": "2022-06-16T05:21:12.566Z"
   },
   {
    "duration": 44,
    "start_time": "2022-06-16T05:21:12.914Z"
   },
   {
    "duration": 1463,
    "start_time": "2022-06-16T05:21:12.959Z"
   },
   {
    "duration": 59,
    "start_time": "2022-06-16T05:21:14.424Z"
   },
   {
    "duration": 0,
    "start_time": "2022-06-16T05:21:14.484Z"
   },
   {
    "duration": 0,
    "start_time": "2022-06-16T05:21:14.486Z"
   },
   {
    "duration": 0,
    "start_time": "2022-06-16T05:21:14.487Z"
   },
   {
    "duration": 0,
    "start_time": "2022-06-16T05:21:14.488Z"
   },
   {
    "duration": 0,
    "start_time": "2022-06-16T05:21:14.489Z"
   },
   {
    "duration": 0,
    "start_time": "2022-06-16T05:21:14.490Z"
   },
   {
    "duration": 0,
    "start_time": "2022-06-16T05:21:14.491Z"
   },
   {
    "duration": 0,
    "start_time": "2022-06-16T05:21:14.492Z"
   },
   {
    "duration": 3,
    "start_time": "2022-06-16T05:21:56.218Z"
   },
   {
    "duration": 71,
    "start_time": "2022-06-16T05:21:56.223Z"
   },
   {
    "duration": 165,
    "start_time": "2022-06-16T05:21:56.296Z"
   },
   {
    "duration": 19,
    "start_time": "2022-06-16T05:21:56.462Z"
   },
   {
    "duration": 288,
    "start_time": "2022-06-16T05:21:56.482Z"
   },
   {
    "duration": 41,
    "start_time": "2022-06-16T05:21:56.771Z"
   },
   {
    "duration": 1507,
    "start_time": "2022-06-16T05:21:56.813Z"
   },
   {
    "duration": 11369,
    "start_time": "2022-06-16T05:21:58.322Z"
   },
   {
    "duration": 148129,
    "start_time": "2022-06-16T05:22:09.693Z"
   },
   {
    "duration": 12,
    "start_time": "2022-06-16T05:24:37.823Z"
   },
   {
    "duration": 28,
    "start_time": "2022-06-16T05:24:37.836Z"
   },
   {
    "duration": 772,
    "start_time": "2022-06-16T05:24:37.877Z"
   },
   {
    "duration": 12,
    "start_time": "2022-06-16T05:24:38.651Z"
   },
   {
    "duration": 15,
    "start_time": "2022-06-16T05:24:38.664Z"
   },
   {
    "duration": 6,
    "start_time": "2022-06-16T05:24:38.680Z"
   }
  ],
  "kernelspec": {
   "display_name": "Python 3 (ipykernel)",
   "language": "python",
   "name": "python3"
  },
  "language_info": {
   "codemirror_mode": {
    "name": "ipython",
    "version": 3
   },
   "file_extension": ".py",
   "mimetype": "text/x-python",
   "name": "python",
   "nbconvert_exporter": "python",
   "pygments_lexer": "ipython3",
   "version": "3.9.12"
  },
  "toc": {
   "base_numbering": 1,
   "nav_menu": {},
   "number_sections": true,
   "sideBar": true,
   "skip_h1_title": true,
   "title_cell": "Table of Contents",
   "title_sidebar": "Contents",
   "toc_cell": false,
   "toc_position": {
    "height": "calc(100% - 180px)",
    "left": "10px",
    "top": "150px",
    "width": "165px"
   },
   "toc_section_display": true,
   "toc_window_display": true
  }
 },
 "nbformat": 4,
 "nbformat_minor": 2
}
