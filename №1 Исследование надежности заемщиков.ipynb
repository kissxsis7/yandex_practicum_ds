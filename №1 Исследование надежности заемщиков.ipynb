{
 "cells": [
  {
   "cell_type": "markdown",
   "id": "9c9797be",
   "metadata": {},
   "source": [
    "# Исследование надежности заемщиков.\n",
    "\n",
    "Кредитный отдел банка заинтересован в том, чтобы иметь возможность оценить надежность своего потенциального заемщика.\n",
    "\n",
    "Изучим статистику о платёжеспособности клиентов, предоставленную банком, и попытаемся определить факторы, способные влиять на кредитоспособность."
   ]
  },
  {
   "cell_type": "markdown",
   "id": "9314c3d7",
   "source": [
    "**Цель исследования** — <u>проверить 4 гипотезы:</u> <a id='hypothesis'></a>\n",
    "1. На способность потенциального заемщика погасить кредит в срок влияет его семейный статус.\n",
    "2. Количество детей клиента влияет на факт погашения кредита в срок.\n",
    "3. Между уровнем дохода и возвратом кредита в срок сщуествует зависимость.\n",
    "4. Разные цели кредита по-разному влияют на его возврат в срок."
   ]
  },
  {
   "cell_type": "markdown",
   "id": "33122b7b",
   "metadata": {},
   "source": [
    "**Ход исследования**\n",
    "Данные о платежеспособности клиентов получим из файла `data.csv`. О качестве данных ничего не известно. Поэтому перед проверкой гипотез понадобится обзор и предобработка данных, в случае, если в них будут обнаружены артефакты.\n",
    "\n",
    "Начнем с проверки данных на ошибки и оценим их влияние на исследование. Затем, на этапе предобработки постараемся исправить самые критичные ошибки данных.\n",
    " \n",
    "Таким образом, исследование пройдёт в три этапа:\n",
    " 1. Обзор данных.\n",
    " 2. Предобработка данных.\n",
    " 3. Проверка гипотез ."
   ]
  },
  {
   "cell_type": "markdown",
   "id": "1fed4085",
   "metadata": {},
   "source": [
    "## Обзор данных <a id='intro'>"
   ]
  },
  {
   "cell_type": "markdown",
   "id": "cc71e225",
   "metadata": {},
   "source": [
    "Составим первое представление о данных, предоставленных банком."
   ]
  },
  {
   "cell_type": "markdown",
   "id": "b1407372",
   "metadata": {},
   "source": [
    "Для работы с датафреймом нам потребуется библиотека pandas, импортируем ее:"
   ]
  },
  {
   "cell_type": "code",
   "execution_count": 44,
   "id": "b05303c3",
   "metadata": {},
   "outputs": [],
   "source": [
    "import pandas as pd "
   ]
  },
  {
   "cell_type": "code",
   "execution_count": 4,
   "id": "5a4a93fb",
   "metadata": {
    "scrolled": true
   },
   "outputs": [
    {
     "data": {
      "text/html": [
       "<div>\n",
       "<style scoped>\n",
       "    .dataframe tbody tr th:only-of-type {\n",
       "        vertical-align: middle;\n",
       "    }\n",
       "\n",
       "    .dataframe tbody tr th {\n",
       "        vertical-align: top;\n",
       "    }\n",
       "\n",
       "    .dataframe thead th {\n",
       "        text-align: right;\n",
       "    }\n",
       "</style>\n",
       "<table border=\"1\" class=\"dataframe\">\n",
       "  <thead>\n",
       "    <tr style=\"text-align: right;\">\n",
       "      <th></th>\n",
       "      <th>children</th>\n",
       "      <th>days_employed</th>\n",
       "      <th>dob_years</th>\n",
       "      <th>education</th>\n",
       "      <th>education_id</th>\n",
       "      <th>family_status</th>\n",
       "      <th>family_status_id</th>\n",
       "      <th>gender</th>\n",
       "      <th>income_type</th>\n",
       "      <th>debt</th>\n",
       "      <th>total_income</th>\n",
       "      <th>purpose</th>\n",
       "    </tr>\n",
       "  </thead>\n",
       "  <tbody>\n",
       "    <tr>\n",
       "      <td>0</td>\n",
       "      <td>1</td>\n",
       "      <td>-8437.673028</td>\n",
       "      <td>42</td>\n",
       "      <td>высшее</td>\n",
       "      <td>0</td>\n",
       "      <td>женат / замужем</td>\n",
       "      <td>0</td>\n",
       "      <td>F</td>\n",
       "      <td>сотрудник</td>\n",
       "      <td>0</td>\n",
       "      <td>253875.639453</td>\n",
       "      <td>покупка жилья</td>\n",
       "    </tr>\n",
       "    <tr>\n",
       "      <td>1</td>\n",
       "      <td>1</td>\n",
       "      <td>-4024.803754</td>\n",
       "      <td>36</td>\n",
       "      <td>среднее</td>\n",
       "      <td>1</td>\n",
       "      <td>женат / замужем</td>\n",
       "      <td>0</td>\n",
       "      <td>F</td>\n",
       "      <td>сотрудник</td>\n",
       "      <td>0</td>\n",
       "      <td>112080.014102</td>\n",
       "      <td>приобретение автомобиля</td>\n",
       "    </tr>\n",
       "    <tr>\n",
       "      <td>2</td>\n",
       "      <td>0</td>\n",
       "      <td>-5623.422610</td>\n",
       "      <td>33</td>\n",
       "      <td>Среднее</td>\n",
       "      <td>1</td>\n",
       "      <td>женат / замужем</td>\n",
       "      <td>0</td>\n",
       "      <td>M</td>\n",
       "      <td>сотрудник</td>\n",
       "      <td>0</td>\n",
       "      <td>145885.952297</td>\n",
       "      <td>покупка жилья</td>\n",
       "    </tr>\n",
       "    <tr>\n",
       "      <td>3</td>\n",
       "      <td>3</td>\n",
       "      <td>-4124.747207</td>\n",
       "      <td>32</td>\n",
       "      <td>среднее</td>\n",
       "      <td>1</td>\n",
       "      <td>женат / замужем</td>\n",
       "      <td>0</td>\n",
       "      <td>M</td>\n",
       "      <td>сотрудник</td>\n",
       "      <td>0</td>\n",
       "      <td>267628.550329</td>\n",
       "      <td>дополнительное образование</td>\n",
       "    </tr>\n",
       "    <tr>\n",
       "      <td>4</td>\n",
       "      <td>0</td>\n",
       "      <td>340266.072047</td>\n",
       "      <td>53</td>\n",
       "      <td>среднее</td>\n",
       "      <td>1</td>\n",
       "      <td>гражданский брак</td>\n",
       "      <td>1</td>\n",
       "      <td>F</td>\n",
       "      <td>пенсионер</td>\n",
       "      <td>0</td>\n",
       "      <td>158616.077870</td>\n",
       "      <td>сыграть свадьбу</td>\n",
       "    </tr>\n",
       "    <tr>\n",
       "      <td>5</td>\n",
       "      <td>0</td>\n",
       "      <td>-926.185831</td>\n",
       "      <td>27</td>\n",
       "      <td>высшее</td>\n",
       "      <td>0</td>\n",
       "      <td>гражданский брак</td>\n",
       "      <td>1</td>\n",
       "      <td>M</td>\n",
       "      <td>компаньон</td>\n",
       "      <td>0</td>\n",
       "      <td>255763.565419</td>\n",
       "      <td>покупка жилья</td>\n",
       "    </tr>\n",
       "    <tr>\n",
       "      <td>6</td>\n",
       "      <td>0</td>\n",
       "      <td>-2879.202052</td>\n",
       "      <td>43</td>\n",
       "      <td>высшее</td>\n",
       "      <td>0</td>\n",
       "      <td>женат / замужем</td>\n",
       "      <td>0</td>\n",
       "      <td>F</td>\n",
       "      <td>компаньон</td>\n",
       "      <td>0</td>\n",
       "      <td>240525.971920</td>\n",
       "      <td>операции с жильем</td>\n",
       "    </tr>\n",
       "    <tr>\n",
       "      <td>7</td>\n",
       "      <td>0</td>\n",
       "      <td>-152.779569</td>\n",
       "      <td>50</td>\n",
       "      <td>СРЕДНЕЕ</td>\n",
       "      <td>1</td>\n",
       "      <td>женат / замужем</td>\n",
       "      <td>0</td>\n",
       "      <td>M</td>\n",
       "      <td>сотрудник</td>\n",
       "      <td>0</td>\n",
       "      <td>135823.934197</td>\n",
       "      <td>образование</td>\n",
       "    </tr>\n",
       "    <tr>\n",
       "      <td>8</td>\n",
       "      <td>2</td>\n",
       "      <td>-6929.865299</td>\n",
       "      <td>35</td>\n",
       "      <td>ВЫСШЕЕ</td>\n",
       "      <td>0</td>\n",
       "      <td>гражданский брак</td>\n",
       "      <td>1</td>\n",
       "      <td>F</td>\n",
       "      <td>сотрудник</td>\n",
       "      <td>0</td>\n",
       "      <td>95856.832424</td>\n",
       "      <td>на проведение свадьбы</td>\n",
       "    </tr>\n",
       "    <tr>\n",
       "      <td>9</td>\n",
       "      <td>0</td>\n",
       "      <td>-2188.756445</td>\n",
       "      <td>41</td>\n",
       "      <td>среднее</td>\n",
       "      <td>1</td>\n",
       "      <td>женат / замужем</td>\n",
       "      <td>0</td>\n",
       "      <td>M</td>\n",
       "      <td>сотрудник</td>\n",
       "      <td>0</td>\n",
       "      <td>144425.938277</td>\n",
       "      <td>покупка жилья для семьи</td>\n",
       "    </tr>\n",
       "  </tbody>\n",
       "</table>\n",
       "</div>"
      ],
      "text/plain": [
       "   children  days_employed  dob_years education  education_id  \\\n",
       "0         1   -8437.673028         42    высшее             0   \n",
       "1         1   -4024.803754         36   среднее             1   \n",
       "2         0   -5623.422610         33   Среднее             1   \n",
       "3         3   -4124.747207         32   среднее             1   \n",
       "4         0  340266.072047         53   среднее             1   \n",
       "5         0    -926.185831         27    высшее             0   \n",
       "6         0   -2879.202052         43    высшее             0   \n",
       "7         0    -152.779569         50   СРЕДНЕЕ             1   \n",
       "8         2   -6929.865299         35    ВЫСШЕЕ             0   \n",
       "9         0   -2188.756445         41   среднее             1   \n",
       "\n",
       "      family_status  family_status_id gender income_type  debt   total_income  \\\n",
       "0   женат / замужем                 0      F   сотрудник     0  253875.639453   \n",
       "1   женат / замужем                 0      F   сотрудник     0  112080.014102   \n",
       "2   женат / замужем                 0      M   сотрудник     0  145885.952297   \n",
       "3   женат / замужем                 0      M   сотрудник     0  267628.550329   \n",
       "4  гражданский брак                 1      F   пенсионер     0  158616.077870   \n",
       "5  гражданский брак                 1      M   компаньон     0  255763.565419   \n",
       "6   женат / замужем                 0      F   компаньон     0  240525.971920   \n",
       "7   женат / замужем                 0      M   сотрудник     0  135823.934197   \n",
       "8  гражданский брак                 1      F   сотрудник     0   95856.832424   \n",
       "9   женат / замужем                 0      M   сотрудник     0  144425.938277   \n",
       "\n",
       "                      purpose  \n",
       "0               покупка жилья  \n",
       "1     приобретение автомобиля  \n",
       "2               покупка жилья  \n",
       "3  дополнительное образование  \n",
       "4             сыграть свадьбу  \n",
       "5               покупка жилья  \n",
       "6           операции с жильем  \n",
       "7                 образование  \n",
       "8       на проведение свадьбы  \n",
       "9     покупка жилья для семьи  "
      ]
     },
     "execution_count": 4,
     "metadata": {},
     "output_type": "execute_result"
    }
   ],
   "source": [
    "df = pd.read_csv('/datasets/data.csv') # cчитаем файл data.csv из папки /datasets и сохраним его в переменной df\n",
    "df.head(10) # выведем на экран первые 10 строк таблицы"
   ]
  },
  {
   "cell_type": "markdown",
   "id": "4a9f2480",
   "metadata": {},
   "source": [
    "На первый взгляд, критичных отклонений в данных нет, за исключением аномалии в столбце `days_employed` - отрицательных количеств дней трудового стажа. Смущает, что дни выражены в вещественных числах. Также бросаются в глаза дубликаты в столбце `education`, записанные в разных регистрах."
   ]
  },
  {
   "cell_type": "markdown",
   "id": "0a5e5011",
   "metadata": {},
   "source": [
    "Рассмотрим общую информацию о данных в таблице df:"
   ]
  },
  {
   "cell_type": "code",
   "execution_count": 5,
   "id": "f955fa48",
   "metadata": {},
   "outputs": [
    {
     "name": "stdout",
     "output_type": "stream",
     "text": [
      "<class 'pandas.core.frame.DataFrame'>\n",
      "RangeIndex: 21525 entries, 0 to 21524\n",
      "Data columns (total 12 columns):\n",
      "children            21525 non-null int64\n",
      "days_employed       19351 non-null float64\n",
      "dob_years           21525 non-null int64\n",
      "education           21525 non-null object\n",
      "education_id        21525 non-null int64\n",
      "family_status       21525 non-null object\n",
      "family_status_id    21525 non-null int64\n",
      "gender              21525 non-null object\n",
      "income_type         21525 non-null object\n",
      "debt                21525 non-null int64\n",
      "total_income        19351 non-null float64\n",
      "purpose             21525 non-null object\n",
      "dtypes: float64(2), int64(5), object(5)\n",
      "memory usage: 2.0+ MB\n"
     ]
    }
   ],
   "source": [
    "df.info() "
   ]
  },
  {
   "cell_type": "markdown",
   "id": "34e03ab0",
   "metadata": {},
   "source": [
    "Итак, в таблице 12 столбцов. Используются 3 типа данных: `float64`, `int64`, `object`.\n",
    "\n",
    "Согласно документации к данным:\n",
    "* **`children`** — количество детей в семье \n",
    "* **`days_employed`** — общий трудовой стаж в днях \n",
    "* **`dob_years`** — возраст клиента в годах \n",
    "* **`education`**— уровень образования клиента\n",
    "* **`education_id`** — идентификатор уровня образования\n",
    "* **`family_status`** — семейное положение\n",
    "* **`family_status_id`** — идентификатор семейного положения\n",
    "* **`gender`** — пол клиента\n",
    "* **`income_type`** — тип занятости\n",
    "* **`debt`** — имел ли задолженность по возврату кредитов\n",
    "* **`total_income`** — ежемесячный доход\n",
    "* **`purpose`** — цель получения кредита\n",
    "\n",
    "В столбцах `days_employed` и `total_income` есть пропущенные значения. "
   ]
  },
  {
   "cell_type": "markdown",
   "id": "42dd9888",
   "metadata": {},
   "source": [
    "**Выводы**\n",
    "\n",
    "В каждой строке таблицы лежат данные о кредитозаемщике банка. Бóльшая часть колонок описывает личную информацию о клиенте, такую, как возраст, семейное положение, ежемесячный доход и т.д. Столбцы `debt` и `purpose` дают представление о наличии задолженности по возврату кредита и цели его получения соответственно.\n",
    "\n",
    "Предварительно можно утверждать, что данных достаточно для проверки гипотез. Однако встречаются пропуски в данных, чтобы двигаться дальше, устраним эту проблему."
   ]
  },
  {
   "cell_type": "markdown",
   "id": "776db197",
   "metadata": {},
   "source": [
    "## Предобработка данных"
   ]
  },
  {
   "cell_type": "markdown",
   "id": "349213dc",
   "metadata": {},
   "source": [
    "### Заполнение пропусков <a id='abc'></a>"
   ]
  },
  {
   "cell_type": "markdown",
   "id": "b7413323",
   "metadata": {},
   "source": [
    "Посчитаем, сколько в таблице пропущенных значений. Для этого воспользуемся двумя методами pandas (isna() - чтобы определить пустые ячейки и sum() - для подсчета их количества в каждом столбце) :"
   ]
  },
  {
   "cell_type": "code",
   "execution_count": 6,
   "id": "2b57be54",
   "metadata": {},
   "outputs": [
    {
     "data": {
      "text/plain": [
       "children               0\n",
       "days_employed       2174\n",
       "dob_years              0\n",
       "education              0\n",
       "education_id           0\n",
       "family_status          0\n",
       "family_status_id       0\n",
       "gender                 0\n",
       "income_type            0\n",
       "debt                   0\n",
       "total_income        2174\n",
       "purpose                0\n",
       "dtype: int64"
      ]
     },
     "execution_count": 6,
     "metadata": {},
     "output_type": "execute_result"
    }
   ],
   "source": [
    "df.isna().sum()"
   ]
  },
  {
   "cell_type": "markdown",
   "id": "90f04276",
   "metadata": {},
   "source": [
    "Мы убедились в том, что в столбцах `days_employed` и `total_income` есть пропущенные значения.\n",
    "\n",
    "Рассчитаем долю пропущенных значений для стобца `days_employed`. Так как количество пропусков в обоих столбцах одинаково, пропуски в колонке `total_income` будут составлять такую же долю."
   ]
  },
  {
   "cell_type": "code",
   "execution_count": 7,
   "id": "d79407de",
   "metadata": {},
   "outputs": [
    {
     "data": {
      "text/plain": [
       "0.1"
      ]
     },
     "execution_count": 7,
     "metadata": {},
     "output_type": "execute_result"
    }
   ],
   "source": [
    "# Чтобы посчитать долю пропусков (isna_share) - разделим кол-во пропусков на длинну столбца:\n",
    "isna_share=len(df[df['days_employed'].isna()])/len(df['days_employed'])\n",
    "# Округлим значение до десятых:\n",
    "round(isna_share, 1)"
   ]
  },
  {
   "cell_type": "markdown",
   "id": "7967bb31",
   "metadata": {},
   "source": [
    "Таким образом, в колнках `days_employed` и `total_income` есть пропущенные значения, доля которых составляет 10% в каждом из столбцов.\n",
    "Рассмотрим первые 10 строк с пропущенными значениями в с толбце `days_employed` и попытаемся понять причину отсутствия этих значений в таблице."
   ]
  },
  {
   "cell_type": "code",
   "execution_count": 8,
   "id": "30288716",
   "metadata": {
    "scrolled": false
   },
   "outputs": [
    {
     "data": {
      "text/html": [
       "<div>\n",
       "<style scoped>\n",
       "    .dataframe tbody tr th:only-of-type {\n",
       "        vertical-align: middle;\n",
       "    }\n",
       "\n",
       "    .dataframe tbody tr th {\n",
       "        vertical-align: top;\n",
       "    }\n",
       "\n",
       "    .dataframe thead th {\n",
       "        text-align: right;\n",
       "    }\n",
       "</style>\n",
       "<table border=\"1\" class=\"dataframe\">\n",
       "  <thead>\n",
       "    <tr style=\"text-align: right;\">\n",
       "      <th></th>\n",
       "      <th>children</th>\n",
       "      <th>days_employed</th>\n",
       "      <th>dob_years</th>\n",
       "      <th>education</th>\n",
       "      <th>education_id</th>\n",
       "      <th>family_status</th>\n",
       "      <th>family_status_id</th>\n",
       "      <th>gender</th>\n",
       "      <th>income_type</th>\n",
       "      <th>debt</th>\n",
       "      <th>total_income</th>\n",
       "      <th>purpose</th>\n",
       "    </tr>\n",
       "  </thead>\n",
       "  <tbody>\n",
       "    <tr>\n",
       "      <td>12</td>\n",
       "      <td>0</td>\n",
       "      <td>NaN</td>\n",
       "      <td>65</td>\n",
       "      <td>среднее</td>\n",
       "      <td>1</td>\n",
       "      <td>гражданский брак</td>\n",
       "      <td>1</td>\n",
       "      <td>M</td>\n",
       "      <td>пенсионер</td>\n",
       "      <td>0</td>\n",
       "      <td>NaN</td>\n",
       "      <td>сыграть свадьбу</td>\n",
       "    </tr>\n",
       "    <tr>\n",
       "      <td>26</td>\n",
       "      <td>0</td>\n",
       "      <td>NaN</td>\n",
       "      <td>41</td>\n",
       "      <td>среднее</td>\n",
       "      <td>1</td>\n",
       "      <td>женат / замужем</td>\n",
       "      <td>0</td>\n",
       "      <td>M</td>\n",
       "      <td>госслужащий</td>\n",
       "      <td>0</td>\n",
       "      <td>NaN</td>\n",
       "      <td>образование</td>\n",
       "    </tr>\n",
       "    <tr>\n",
       "      <td>29</td>\n",
       "      <td>0</td>\n",
       "      <td>NaN</td>\n",
       "      <td>63</td>\n",
       "      <td>среднее</td>\n",
       "      <td>1</td>\n",
       "      <td>Не женат / не замужем</td>\n",
       "      <td>4</td>\n",
       "      <td>F</td>\n",
       "      <td>пенсионер</td>\n",
       "      <td>0</td>\n",
       "      <td>NaN</td>\n",
       "      <td>строительство жилой недвижимости</td>\n",
       "    </tr>\n",
       "    <tr>\n",
       "      <td>41</td>\n",
       "      <td>0</td>\n",
       "      <td>NaN</td>\n",
       "      <td>50</td>\n",
       "      <td>среднее</td>\n",
       "      <td>1</td>\n",
       "      <td>женат / замужем</td>\n",
       "      <td>0</td>\n",
       "      <td>F</td>\n",
       "      <td>госслужащий</td>\n",
       "      <td>0</td>\n",
       "      <td>NaN</td>\n",
       "      <td>сделка с подержанным автомобилем</td>\n",
       "    </tr>\n",
       "    <tr>\n",
       "      <td>55</td>\n",
       "      <td>0</td>\n",
       "      <td>NaN</td>\n",
       "      <td>54</td>\n",
       "      <td>среднее</td>\n",
       "      <td>1</td>\n",
       "      <td>гражданский брак</td>\n",
       "      <td>1</td>\n",
       "      <td>F</td>\n",
       "      <td>пенсионер</td>\n",
       "      <td>1</td>\n",
       "      <td>NaN</td>\n",
       "      <td>сыграть свадьбу</td>\n",
       "    </tr>\n",
       "    <tr>\n",
       "      <td>65</td>\n",
       "      <td>0</td>\n",
       "      <td>NaN</td>\n",
       "      <td>21</td>\n",
       "      <td>среднее</td>\n",
       "      <td>1</td>\n",
       "      <td>Не женат / не замужем</td>\n",
       "      <td>4</td>\n",
       "      <td>M</td>\n",
       "      <td>компаньон</td>\n",
       "      <td>0</td>\n",
       "      <td>NaN</td>\n",
       "      <td>операции с коммерческой недвижимостью</td>\n",
       "    </tr>\n",
       "    <tr>\n",
       "      <td>67</td>\n",
       "      <td>0</td>\n",
       "      <td>NaN</td>\n",
       "      <td>52</td>\n",
       "      <td>высшее</td>\n",
       "      <td>0</td>\n",
       "      <td>женат / замужем</td>\n",
       "      <td>0</td>\n",
       "      <td>F</td>\n",
       "      <td>пенсионер</td>\n",
       "      <td>0</td>\n",
       "      <td>NaN</td>\n",
       "      <td>покупка жилья для семьи</td>\n",
       "    </tr>\n",
       "    <tr>\n",
       "      <td>72</td>\n",
       "      <td>1</td>\n",
       "      <td>NaN</td>\n",
       "      <td>32</td>\n",
       "      <td>высшее</td>\n",
       "      <td>0</td>\n",
       "      <td>женат / замужем</td>\n",
       "      <td>0</td>\n",
       "      <td>M</td>\n",
       "      <td>госслужащий</td>\n",
       "      <td>0</td>\n",
       "      <td>NaN</td>\n",
       "      <td>операции с коммерческой недвижимостью</td>\n",
       "    </tr>\n",
       "    <tr>\n",
       "      <td>82</td>\n",
       "      <td>2</td>\n",
       "      <td>NaN</td>\n",
       "      <td>50</td>\n",
       "      <td>высшее</td>\n",
       "      <td>0</td>\n",
       "      <td>женат / замужем</td>\n",
       "      <td>0</td>\n",
       "      <td>F</td>\n",
       "      <td>сотрудник</td>\n",
       "      <td>0</td>\n",
       "      <td>NaN</td>\n",
       "      <td>жилье</td>\n",
       "    </tr>\n",
       "    <tr>\n",
       "      <td>83</td>\n",
       "      <td>0</td>\n",
       "      <td>NaN</td>\n",
       "      <td>52</td>\n",
       "      <td>среднее</td>\n",
       "      <td>1</td>\n",
       "      <td>женат / замужем</td>\n",
       "      <td>0</td>\n",
       "      <td>M</td>\n",
       "      <td>сотрудник</td>\n",
       "      <td>0</td>\n",
       "      <td>NaN</td>\n",
       "      <td>жилье</td>\n",
       "    </tr>\n",
       "  </tbody>\n",
       "</table>\n",
       "</div>"
      ],
      "text/plain": [
       "    children  days_employed  dob_years education  education_id  \\\n",
       "12         0            NaN         65   среднее             1   \n",
       "26         0            NaN         41   среднее             1   \n",
       "29         0            NaN         63   среднее             1   \n",
       "41         0            NaN         50   среднее             1   \n",
       "55         0            NaN         54   среднее             1   \n",
       "65         0            NaN         21   среднее             1   \n",
       "67         0            NaN         52    высшее             0   \n",
       "72         1            NaN         32    высшее             0   \n",
       "82         2            NaN         50    высшее             0   \n",
       "83         0            NaN         52   среднее             1   \n",
       "\n",
       "            family_status  family_status_id gender  income_type  debt  \\\n",
       "12       гражданский брак                 1      M    пенсионер     0   \n",
       "26        женат / замужем                 0      M  госслужащий     0   \n",
       "29  Не женат / не замужем                 4      F    пенсионер     0   \n",
       "41        женат / замужем                 0      F  госслужащий     0   \n",
       "55       гражданский брак                 1      F    пенсионер     1   \n",
       "65  Не женат / не замужем                 4      M    компаньон     0   \n",
       "67        женат / замужем                 0      F    пенсионер     0   \n",
       "72        женат / замужем                 0      M  госслужащий     0   \n",
       "82        женат / замужем                 0      F    сотрудник     0   \n",
       "83        женат / замужем                 0      M    сотрудник     0   \n",
       "\n",
       "    total_income                                purpose  \n",
       "12           NaN                        сыграть свадьбу  \n",
       "26           NaN                            образование  \n",
       "29           NaN       строительство жилой недвижимости  \n",
       "41           NaN       сделка с подержанным автомобилем  \n",
       "55           NaN                        сыграть свадьбу  \n",
       "65           NaN  операции с коммерческой недвижимостью  \n",
       "67           NaN                покупка жилья для семьи  \n",
       "72           NaN  операции с коммерческой недвижимостью  \n",
       "82           NaN                                  жилье  \n",
       "83           NaN                                  жилье  "
      ]
     },
     "execution_count": 8,
     "metadata": {},
     "output_type": "execute_result"
    }
   ],
   "source": [
    "# Выведем первые 10 строк с пропущенными значениями с  помощью функций isna() и head()\n",
    "df[df['days_employed'].isna()].head(10)"
   ]
  },
  {
   "cell_type": "markdown",
   "id": "cfebc654",
   "metadata": {},
   "source": [
    "Кажется, что данные о трудовом стаже и месячном доходе отсутствуют у одних и тех же людей. Проверим это, посчитав среднее арифметическое значений `total_income` в тех series, где у `days_employed` отсутствуют значения:"
   ]
  },
  {
   "cell_type": "code",
   "execution_count": 9,
   "id": "06dbf6b3",
   "metadata": {},
   "outputs": [
    {
     "data": {
      "text/plain": [
       "nan"
      ]
     },
     "execution_count": 9,
     "metadata": {},
     "output_type": "execute_result"
    }
   ],
   "source": [
    "df[df['days_employed'].isna()]['total_income'].mean()"
   ]
  },
  {
   "cell_type": "markdown",
   "id": "17de694a",
   "metadata": {},
   "source": [
    "Действительно, во всех строках, где значения `days_employed` отсутствуют, также отсутствуют и значения `total_income`. Учитывая, что в обоих столбцах одинаковое количество пропусков, делаем вывод, что данные о трудовом стаже и месячном доходе пропущенны у одних и тех же людей. Однако другие взаимосвязи в данной выборке мы не наблюдаем. Сложно предположить, что заемщики сами не посчитали нужным предоставлять данную информацию, так как документы, подтверждающие финансовое состояние и трудовую занятость заемщика требуются банками в обязательном порядке. Следовательно, вероятнее всего, пропуски возникли по технологическим причинам."
   ]
  },
  {
   "cell_type": "markdown",
   "id": "75dab3cb",
   "metadata": {},
   "source": [
    "В то время, как значения трудового стажа вовсе не повлияют на наше исследование, пропуски в данных о ежемесячных доходах клиентов важны для проверки [3ей гипотизы](#hypothesis).  \n",
    "\n",
    "Возможности установить точную причину пропусков и восстановить данные у нас нет. Отсутствующие значения в обоих колонках логично заполнить медианными значениями, так как:\n",
    "1. удаление более 1% пропусков от всех значений датафрейма (в нашем случае 10%) может повлиять на точность исследования, поэтому, чтобы не терять данные, пропуски лучше заполнить; \n",
    "2. переменные, содержащиеся в обоих колонках, являются количественными;\n",
    "3. значения уровня месячного дохода и трудового стажа отдельных клиентов могут сильно выделяться среди большинства, из чего следует, что медиана, в отличае от среднего арифметического, позволит нивелировать влияние таких отклонений. "
   ]
  },
  {
   "cell_type": "markdown",
   "id": "7605f7ab",
   "metadata": {},
   "source": [
    "Пропуски в трудовом стаже и в ежемесячном доходе логичнее заполнять не медианой от всех значений по столбцу соттветственно, а по гуппам типа занятости. Для этого создадим функцию `fillna_median_by_group`, которая будет принимать:\n",
    "- колонку с пропусками - `column_1`\n",
    "- колонку, по которой осуществляется группировка - `column_2`.\n",
    "Что сделает наша функция:\n",
    "- выдаст количество пропусков в `column_1`;\n",
    "- с помощью `unique()` разобъет `column_2`на группы;\n",
    "- с `loc` сделает срезы по выделенным группам, где пропущенны значения `column_1`;\n",
    "- найдет медиану по группе и заполнит ей пропуски в этой группе;\n",
    "- выдаст оставшееся количество пропусков."
   ]
  },
  {
   "cell_type": "code",
   "execution_count": 10,
   "id": "59b862f3",
   "metadata": {},
   "outputs": [],
   "source": [
    "def fillna_median_by_group(column_1, column_2):\n",
    "\n",
    "    print('Пропуски до:', df[column_1].isna().sum())\n",
    "\n",
    "    for type in df[column_2].unique():\n",
    "        median = df.loc[df[column_2] == type, column_1].median()\n",
    "        print(type, median)\n",
    "        df.loc[(df[column_1].isna()) & (df[column_2] == type), column_1] = median\n",
    "    print('Пропуски после:', df[column_1].isna().sum())"
   ]
  },
  {
   "cell_type": "markdown",
   "id": "ae25d4e3",
   "metadata": {},
   "source": [
    "Применим функцию `fillna_median_by_group` к `days_employed` и к `total_income` соответственно:"
   ]
  },
  {
   "cell_type": "code",
   "execution_count": 11,
   "id": "5eff2609",
   "metadata": {},
   "outputs": [
    {
     "name": "stdout",
     "output_type": "stream",
     "text": [
      "Пропуски до: 2174\n",
      "сотрудник -1574.2028211070851\n",
      "пенсионер 365213.30626573117\n",
      "компаньон -1547.3822226779334\n",
      "госслужащий -2689.3683533043886\n",
      "безработный 366413.65274420456\n",
      "предприниматель -520.8480834953765\n",
      "студент -578.7515535382181\n",
      "в декрете -3296.7599620220594\n",
      "Пропуски после: 0\n",
      "None\n",
      "\n",
      "Пропуски до: 2174\n",
      "сотрудник 142594.39684740017\n",
      "пенсионер 118514.48641164352\n",
      "компаньон 172357.95096577113\n",
      "госслужащий 150447.9352830068\n",
      "безработный 131339.7516762103\n",
      "предприниматель 499163.1449470857\n",
      "студент 98201.62531401133\n",
      "в декрете 53829.13072905995\n",
      "Пропуски после: 0\n"
     ]
    }
   ],
   "source": [
    "print(fillna_median_by_group('days_employed', 'income_type'))\n",
    "print()\n",
    "fillna_median_by_group('total_income', 'income_type')  "
   ]
  },
  {
   "cell_type": "markdown",
   "id": "dd14231f",
   "metadata": {},
   "source": [
    "Благодаря функции, пропусков в данных колонках не осталось. Финально убедимся, что во всем датафрейме больше нет пропущенных значений:"
   ]
  },
  {
   "cell_type": "code",
   "execution_count": 12,
   "id": "95dfebd8",
   "metadata": {},
   "outputs": [
    {
     "data": {
      "text/plain": [
       "children            0\n",
       "days_employed       0\n",
       "dob_years           0\n",
       "education           0\n",
       "education_id        0\n",
       "family_status       0\n",
       "family_status_id    0\n",
       "gender              0\n",
       "income_type         0\n",
       "debt                0\n",
       "total_income        0\n",
       "purpose             0\n",
       "dtype: int64"
      ]
     },
     "execution_count": 12,
     "metadata": {},
     "output_type": "execute_result"
    }
   ],
   "source": [
    "df.isna().sum()"
   ]
  },
  {
   "cell_type": "markdown",
   "id": "18eef9e9",
   "metadata": {},
   "source": [
    "### Проверка данных на аномалии и исправления. <a id='anomalies'></a>"
   ]
  },
  {
   "cell_type": "markdown",
   "id": "f28aa5b2",
   "metadata": {},
   "source": [
    "В ходе [Обзора данных](#intro) мы обнаружили артефакт в общем трудовом стаже заемщика в днях - отрицательное количество дней трудового стажа. Вероятнее всего, знак \"-\" появился случайно. Избавимся от знака минус - с помощью `abs()`, вычислив модуль и выведем первые 5 значений столбца `days_employed`:\n"
   ]
  },
  {
   "cell_type": "code",
   "execution_count": 13,
   "id": "3123e759",
   "metadata": {},
   "outputs": [
    {
     "data": {
      "text/plain": [
       "0      8437.673028\n",
       "1      4024.803754\n",
       "2      5623.422610\n",
       "3      4124.747207\n",
       "4    340266.072047\n",
       "Name: days_employed, dtype: float64"
      ]
     },
     "execution_count": 13,
     "metadata": {},
     "output_type": "execute_result"
    }
   ],
   "source": [
    "df['days_employed'] = abs(df['days_employed'])\n",
    "df['days_employed'].head()"
   ]
  },
  {
   "cell_type": "markdown",
   "id": "1a78047c",
   "metadata": {},
   "source": [
    "Бросается в глаза значение под индексом 4. Посчитаем, сколько примерно лет проработал этот человек:"
   ]
  },
  {
   "cell_type": "code",
   "execution_count": 14,
   "id": "8ff72ab3",
   "metadata": {},
   "outputs": [
    {
     "data": {
      "text/plain": [
       "932.0"
      ]
     },
     "execution_count": 14,
     "metadata": {},
     "output_type": "execute_result"
    }
   ],
   "source": [
    "df['days_employed'][4]//365"
   ]
  },
  {
   "cell_type": "markdown",
   "id": "677bef38",
   "metadata": {},
   "source": [
    "932 года - кажется, чересчур. Интересно, единственный ли \"долгожитель\" в нашем датафрейме? Гипотетически представим человека, который проработал с 18 до 65 лет, примем его стаж за условный максимум."
   ]
  },
  {
   "cell_type": "code",
   "execution_count": 15,
   "id": "5d5837f4",
   "metadata": {},
   "outputs": [
    {
     "name": "stdout",
     "output_type": "stream",
     "text": [
      "Условный максимальный стаж работы:  17155 дней\n"
     ]
    }
   ],
   "source": [
    "# посчитаем условный максимальный стаж работы в днях:\n",
    "print('Условный максимальный стаж работы: ',(65-18)*365, 'дней') \n"
   ]
  },
  {
   "cell_type": "code",
   "execution_count": 16,
   "id": "34937848",
   "metadata": {},
   "outputs": [
    {
     "name": "stdout",
     "output_type": "stream",
     "text": [
      "Приблизительная доля людей, чей стаж превышает условный максиму: 17.932636469221837 %\n"
     ]
    },
    {
     "data": {
      "text/html": [
       "<div>\n",
       "<style scoped>\n",
       "    .dataframe tbody tr th:only-of-type {\n",
       "        vertical-align: middle;\n",
       "    }\n",
       "\n",
       "    .dataframe tbody tr th {\n",
       "        vertical-align: top;\n",
       "    }\n",
       "\n",
       "    .dataframe thead th {\n",
       "        text-align: right;\n",
       "    }\n",
       "</style>\n",
       "<table border=\"1\" class=\"dataframe\">\n",
       "  <thead>\n",
       "    <tr style=\"text-align: right;\">\n",
       "      <th></th>\n",
       "      <th>children</th>\n",
       "      <th>days_employed</th>\n",
       "      <th>dob_years</th>\n",
       "      <th>education</th>\n",
       "      <th>education_id</th>\n",
       "      <th>family_status</th>\n",
       "      <th>family_status_id</th>\n",
       "      <th>gender</th>\n",
       "      <th>income_type</th>\n",
       "      <th>debt</th>\n",
       "      <th>total_income</th>\n",
       "      <th>purpose</th>\n",
       "    </tr>\n",
       "  </thead>\n",
       "  <tbody>\n",
       "    <tr>\n",
       "      <td>6954</td>\n",
       "      <td>0</td>\n",
       "      <td>401755.400475</td>\n",
       "      <td>56</td>\n",
       "      <td>среднее</td>\n",
       "      <td>1</td>\n",
       "      <td>вдовец / вдова</td>\n",
       "      <td>2</td>\n",
       "      <td>F</td>\n",
       "      <td>пенсионер</td>\n",
       "      <td>0</td>\n",
       "      <td>176278.441171</td>\n",
       "      <td>ремонт жилью</td>\n",
       "    </tr>\n",
       "    <tr>\n",
       "      <td>10006</td>\n",
       "      <td>0</td>\n",
       "      <td>401715.811749</td>\n",
       "      <td>69</td>\n",
       "      <td>высшее</td>\n",
       "      <td>0</td>\n",
       "      <td>Не женат / не замужем</td>\n",
       "      <td>4</td>\n",
       "      <td>F</td>\n",
       "      <td>пенсионер</td>\n",
       "      <td>0</td>\n",
       "      <td>57390.256908</td>\n",
       "      <td>получение образования</td>\n",
       "    </tr>\n",
       "    <tr>\n",
       "      <td>7664</td>\n",
       "      <td>1</td>\n",
       "      <td>401675.093434</td>\n",
       "      <td>61</td>\n",
       "      <td>среднее</td>\n",
       "      <td>1</td>\n",
       "      <td>женат / замужем</td>\n",
       "      <td>0</td>\n",
       "      <td>F</td>\n",
       "      <td>пенсионер</td>\n",
       "      <td>0</td>\n",
       "      <td>126214.519212</td>\n",
       "      <td>операции с жильем</td>\n",
       "    </tr>\n",
       "    <tr>\n",
       "      <td>2156</td>\n",
       "      <td>0</td>\n",
       "      <td>401674.466633</td>\n",
       "      <td>60</td>\n",
       "      <td>среднее</td>\n",
       "      <td>1</td>\n",
       "      <td>женат / замужем</td>\n",
       "      <td>0</td>\n",
       "      <td>M</td>\n",
       "      <td>пенсионер</td>\n",
       "      <td>0</td>\n",
       "      <td>325395.724541</td>\n",
       "      <td>автомобили</td>\n",
       "    </tr>\n",
       "    <tr>\n",
       "      <td>7794</td>\n",
       "      <td>0</td>\n",
       "      <td>401663.850046</td>\n",
       "      <td>61</td>\n",
       "      <td>среднее</td>\n",
       "      <td>1</td>\n",
       "      <td>гражданский брак</td>\n",
       "      <td>1</td>\n",
       "      <td>F</td>\n",
       "      <td>пенсионер</td>\n",
       "      <td>0</td>\n",
       "      <td>48286.441362</td>\n",
       "      <td>свадьба</td>\n",
       "    </tr>\n",
       "    <tr>\n",
       "      <td>4697</td>\n",
       "      <td>0</td>\n",
       "      <td>401635.032697</td>\n",
       "      <td>56</td>\n",
       "      <td>среднее</td>\n",
       "      <td>1</td>\n",
       "      <td>женат / замужем</td>\n",
       "      <td>0</td>\n",
       "      <td>F</td>\n",
       "      <td>пенсионер</td>\n",
       "      <td>0</td>\n",
       "      <td>48242.322502</td>\n",
       "      <td>покупка недвижимости</td>\n",
       "    </tr>\n",
       "    <tr>\n",
       "      <td>13420</td>\n",
       "      <td>0</td>\n",
       "      <td>401619.633298</td>\n",
       "      <td>63</td>\n",
       "      <td>Среднее</td>\n",
       "      <td>1</td>\n",
       "      <td>гражданский брак</td>\n",
       "      <td>1</td>\n",
       "      <td>F</td>\n",
       "      <td>пенсионер</td>\n",
       "      <td>0</td>\n",
       "      <td>51449.788325</td>\n",
       "      <td>сыграть свадьбу</td>\n",
       "    </tr>\n",
       "    <tr>\n",
       "      <td>17823</td>\n",
       "      <td>0</td>\n",
       "      <td>401614.475622</td>\n",
       "      <td>59</td>\n",
       "      <td>среднее</td>\n",
       "      <td>1</td>\n",
       "      <td>женат / замужем</td>\n",
       "      <td>0</td>\n",
       "      <td>F</td>\n",
       "      <td>пенсионер</td>\n",
       "      <td>0</td>\n",
       "      <td>152769.694536</td>\n",
       "      <td>покупка жилья для сдачи</td>\n",
       "    </tr>\n",
       "    <tr>\n",
       "      <td>10991</td>\n",
       "      <td>0</td>\n",
       "      <td>401591.828457</td>\n",
       "      <td>56</td>\n",
       "      <td>среднее</td>\n",
       "      <td>1</td>\n",
       "      <td>в разводе</td>\n",
       "      <td>3</td>\n",
       "      <td>F</td>\n",
       "      <td>пенсионер</td>\n",
       "      <td>0</td>\n",
       "      <td>39513.517543</td>\n",
       "      <td>получение дополнительного образования</td>\n",
       "    </tr>\n",
       "    <tr>\n",
       "      <td>8369</td>\n",
       "      <td>0</td>\n",
       "      <td>401590.452231</td>\n",
       "      <td>58</td>\n",
       "      <td>среднее</td>\n",
       "      <td>1</td>\n",
       "      <td>женат / замужем</td>\n",
       "      <td>0</td>\n",
       "      <td>F</td>\n",
       "      <td>пенсионер</td>\n",
       "      <td>0</td>\n",
       "      <td>175306.312902</td>\n",
       "      <td>образование</td>\n",
       "    </tr>\n",
       "  </tbody>\n",
       "</table>\n",
       "</div>"
      ],
      "text/plain": [
       "       children  days_employed  dob_years education  education_id  \\\n",
       "6954          0  401755.400475         56   среднее             1   \n",
       "10006         0  401715.811749         69    высшее             0   \n",
       "7664          1  401675.093434         61   среднее             1   \n",
       "2156          0  401674.466633         60   среднее             1   \n",
       "7794          0  401663.850046         61   среднее             1   \n",
       "4697          0  401635.032697         56   среднее             1   \n",
       "13420         0  401619.633298         63   Среднее             1   \n",
       "17823         0  401614.475622         59   среднее             1   \n",
       "10991         0  401591.828457         56   среднее             1   \n",
       "8369          0  401590.452231         58   среднее             1   \n",
       "\n",
       "               family_status  family_status_id gender income_type  debt  \\\n",
       "6954          вдовец / вдова                 2      F   пенсионер     0   \n",
       "10006  Не женат / не замужем                 4      F   пенсионер     0   \n",
       "7664         женат / замужем                 0      F   пенсионер     0   \n",
       "2156         женат / замужем                 0      M   пенсионер     0   \n",
       "7794        гражданский брак                 1      F   пенсионер     0   \n",
       "4697         женат / замужем                 0      F   пенсионер     0   \n",
       "13420       гражданский брак                 1      F   пенсионер     0   \n",
       "17823        женат / замужем                 0      F   пенсионер     0   \n",
       "10991              в разводе                 3      F   пенсионер     0   \n",
       "8369         женат / замужем                 0      F   пенсионер     0   \n",
       "\n",
       "        total_income                                purpose  \n",
       "6954   176278.441171                           ремонт жилью  \n",
       "10006   57390.256908                  получение образования  \n",
       "7664   126214.519212                      операции с жильем  \n",
       "2156   325395.724541                             автомобили  \n",
       "7794    48286.441362                                свадьба  \n",
       "4697    48242.322502                   покупка недвижимости  \n",
       "13420   51449.788325                        сыграть свадьбу  \n",
       "17823  152769.694536                покупка жилья для сдачи  \n",
       "10991   39513.517543  получение дополнительного образования  \n",
       "8369   175306.312902                            образование  "
      ]
     },
     "execution_count": 16,
     "metadata": {},
     "output_type": "execute_result"
    }
   ],
   "source": [
    "# посчитаем количество людей, чей стаж превышает условный максимум:\n",
    "print('Приблизительная доля людей, чей стаж превышает условный максиму:', len(df[df['days_employed'] > 17155])/len(df)*100,'%')\n",
    "# отсортируем датафрейм по трудовому стажу в порядке убывания и выведем 10 первых значений\n",
    "df.sort_values(by='days_employed',ascending=False).head(10) "
   ]
  },
  {
   "cell_type": "markdown",
   "id": "d8a37561",
   "metadata": {},
   "source": [
    "Мы видим, что людей, чей стаж работы указан неверно - значительное колличество, а именно 18%."
   ]
  },
  {
   "cell_type": "markdown",
   "id": "aa582db1",
   "metadata": {},
   "source": [
    "Предположим, что у \"долгожителей\" трудовой стаж указан в месяцах. Посчитаем, сколько примерно лет проработал такой заемщик:"
   ]
  },
  {
   "cell_type": "code",
   "execution_count": 17,
   "id": "1a2bb064",
   "metadata": {},
   "outputs": [
    {
     "data": {
      "text/plain": [
       "30434.0"
      ]
     },
     "execution_count": 17,
     "metadata": {},
     "output_type": "execute_result"
    }
   ],
   "source": [
    "df[df['days_employed'] > 17155]['days_employed'].median()//12"
   ]
  },
  {
   "cell_type": "markdown",
   "id": "8e7236d8",
   "metadata": {},
   "source": [
    "Более 30 тысяч лет - невозможно, значит здесь временная единица - точно не месяц. Проверим также часы и минуты по порядку:"
   ]
  },
  {
   "cell_type": "code",
   "execution_count": 18,
   "id": "10b48d86",
   "metadata": {},
   "outputs": [
    {
     "name": "stdout",
     "output_type": "stream",
     "text": [
      "125.07305009100382\n"
     ]
    },
    {
     "data": {
      "text/plain": [
       "2.084550834850064"
      ]
     },
     "execution_count": 18,
     "metadata": {},
     "output_type": "execute_result"
    }
   ],
   "source": [
    "# на 8 часов - получим кол-во рабочих дней и 365 - получим кол-во лет\n",
    "print(df[df['days_employed'] > 17155]['days_employed'].median()/8/365) \n",
    "\n",
    "# на 60 минут - получим часы, на 8 часов - получим кол-во рабочих дней и 365 - получим кол-во лет\n",
    "df[df['days_employed'] > 17155]['days_employed'].median()/60/8/365"
   ]
  },
  {
   "cell_type": "markdown",
   "id": "f447e851",
   "metadata": {},
   "source": [
    "125 лет - слишком много, 2 года - тоже маловероятно."
   ]
  },
  {
   "cell_type": "markdown",
   "id": "fe0609eb",
   "metadata": {},
   "source": [
    "Несмотря на то, что мы столкнулись с очевидной масштабной ошибкой в данных, удалить все строки, где есть ошибка мы не можем, так как рискуем утратить другую, полезную для исследования информацию. Мы убедились, что временная единица в стаже у \"долгожителей\" - не месяцы и не часы. Также маловероятно, что она указана минутах.\n",
    "Чтобы разобраться с данной аномалией, предстоит обратиться к сотрудникам банка."
   ]
  },
  {
   "cell_type": "markdown",
   "id": "9b892bc4",
   "metadata": {},
   "source": [
    "Проверим на наличие артефактов клювые для нашего исследования столбцы, а именно:\n",
    "- `family_status` \n",
    "- `children`\n",
    "- `total_income` \n",
    "- `purpose` "
   ]
  },
  {
   "cell_type": "markdown",
   "id": "4db9b45f",
   "metadata": {},
   "source": [
    "Выведем все уникальные значения колонки семейного положения с помощью функции `unique()`:"
   ]
  },
  {
   "cell_type": "code",
   "execution_count": 19,
   "id": "6fb4bf1e",
   "metadata": {},
   "outputs": [
    {
     "data": {
      "text/plain": [
       "array(['женат / замужем', 'гражданский брак', 'вдовец / вдова',\n",
       "       'в разводе', 'Не женат / не замужем'], dtype=object)"
      ]
     },
     "execution_count": 19,
     "metadata": {},
     "output_type": "execute_result"
    }
   ],
   "source": [
    "df['family_status'].unique()"
   ]
  },
  {
   "cell_type": "markdown",
   "id": "1b542d9a",
   "metadata": {},
   "source": [
    "Мы убедились, что в данном столбце нет аномальных значений или дубликатов. Есть расхождение в регистрах: `'Не женат / не замужем'` написано с заглавной буквы, устсраним его с помощью метода `str.lower()`:"
   ]
  },
  {
   "cell_type": "code",
   "execution_count": 20,
   "id": "0bab4ed7",
   "metadata": {},
   "outputs": [
    {
     "data": {
      "text/plain": [
       "array(['женат / замужем', 'гражданский брак', 'вдовец / вдова',\n",
       "       'в разводе', 'не женат / не замужем'], dtype=object)"
      ]
     },
     "execution_count": 20,
     "metadata": {},
     "output_type": "execute_result"
    }
   ],
   "source": [
    "df['family_status'] = df['family_status'].str.lower() \n",
    "df['family_status'].unique()"
   ]
  },
  {
   "cell_type": "markdown",
   "id": "02839627",
   "metadata": {},
   "source": [
    "Перейдем к колонке, обозначающую количество детей в семье, выведем уникальные значения в порядке возрастания:"
   ]
  },
  {
   "cell_type": "code",
   "execution_count": 21,
   "id": "96505c6f",
   "metadata": {},
   "outputs": [
    {
     "data": {
      "text/plain": [
       "array([-1,  0,  1,  2,  3,  4,  5, 20])"
      ]
     },
     "execution_count": 21,
     "metadata": {},
     "output_type": "execute_result"
    }
   ],
   "source": [
    "# отсортируем значения и сохраним в переменную sorted_by_amount:\n",
    "sorted_by_amount = df.sort_values(by='children') \n",
    "# выведем уникальные значения:\n",
    "sorted_by_amount['children'].unique()"
   ]
  },
  {
   "cell_type": "markdown",
   "id": "dd0665a3",
   "metadata": {},
   "source": [
    "Значения `-1` и `20` кажутся как минимум нереалистичными, с ними стоит разобраться. Узнаем, как часто встречаются данные значения:"
   ]
  },
  {
   "cell_type": "code",
   "execution_count": 22,
   "id": "1cb8e8f2",
   "metadata": {},
   "outputs": [
    {
     "name": "stdout",
     "output_type": "stream",
     "text": [
      "Количество заемщиков с -1 ребенком: 47\n",
      "Количество заемщиков с 20 детьми: 76\n"
     ]
    }
   ],
   "source": [
    "print('Количество заемщиков с -1 ребенком:', len(df[df['children'] == -1]))\n",
    "print('Количество заемщиков с 20 детьми:', len(df[df['children'] == 20]))"
   ]
  },
  {
   "cell_type": "markdown",
   "id": "15ad6046",
   "metadata": {},
   "source": [
    "В данном случае, вероятнее всего, причиной ошибок служат опечатки: заменим значения `-1` на `1`, а `20` на `2` с помощью функции `replace()`:"
   ]
  },
  {
   "cell_type": "code",
   "execution_count": 23,
   "id": "ab09815e",
   "metadata": {},
   "outputs": [
    {
     "data": {
      "text/plain": [
       "array([1, 0, 3, 2, 4, 5])"
      ]
     },
     "execution_count": 23,
     "metadata": {},
     "output_type": "execute_result"
    }
   ],
   "source": [
    "df['children'] = df['children'].replace(to_replace = -1, value = 1)\n",
    "df['children'] = df['children'].replace(to_replace = 20, value = 2)\n",
    "# Выведем уникальные значения столбца, чтобы убедиться, замена значений сработал:\n",
    "df['children'].unique()"
   ]
  },
  {
   "cell_type": "markdown",
   "id": "e1dfc66d",
   "metadata": {},
   "source": [
    "Рассмотрим столбец `total_income` на наличие аномальных значений. Выведем минимальное и максимальное значения (с помощью функций `min()` и `max()`), чтобы понимать насколько реалистечен зарплатный диапазон:"
   ]
  },
  {
   "cell_type": "code",
   "execution_count": 24,
   "id": "34e52a87",
   "metadata": {},
   "outputs": [
    {
     "name": "stdout",
     "output_type": "stream",
     "text": [
      "Минимальное значение ежемесчного дохода: 20667.26379327158\n",
      "Максимальное значение ежемесчного дохода: 2265604.028722744\n"
     ]
    }
   ],
   "source": [
    "print('Минимальное значение ежемесчного дохода:',df['total_income'].min())\n",
    "print('Максимальное значение ежемесчного дохода:',df['total_income'].max())"
   ]
  },
  {
   "cell_type": "markdown",
   "id": "902c8871",
   "metadata": {},
   "source": [
    "Значения не вызывают сомнений: доходы заемщиков варьируются от 20667 до 2265604 рублей (в документации значение валюты не указано, но помнимаем, что вероятнее всего это рубли)."
   ]
  },
  {
   "cell_type": "markdown",
   "id": "2183dd21",
   "metadata": {},
   "source": [
    "Проверим последний, важный для нашего исследования столбец - `purpose`, выведем все уникальные значения:"
   ]
  },
  {
   "cell_type": "code",
   "execution_count": 25,
   "id": "f63a487a",
   "metadata": {},
   "outputs": [
    {
     "data": {
      "text/plain": [
       "array(['автомобили', 'автомобиль', 'высшее образование',\n",
       "       'дополнительное образование', 'жилье',\n",
       "       'заняться высшим образованием', 'заняться образованием',\n",
       "       'на покупку автомобиля', 'на покупку подержанного автомобиля',\n",
       "       'на покупку своего автомобиля', 'на проведение свадьбы',\n",
       "       'недвижимость', 'образование', 'операции с жильем',\n",
       "       'операции с коммерческой недвижимостью',\n",
       "       'операции с недвижимостью', 'операции со своей недвижимостью',\n",
       "       'покупка жилой недвижимости', 'покупка жилья',\n",
       "       'покупка жилья для сдачи', 'покупка жилья для семьи',\n",
       "       'покупка коммерческой недвижимости', 'покупка недвижимости',\n",
       "       'покупка своего жилья', 'получение высшего образования',\n",
       "       'получение дополнительного образования', 'получение образования',\n",
       "       'приобретение автомобиля', 'профильное образование',\n",
       "       'ремонт жилью', 'свадьба', 'свой автомобиль',\n",
       "       'сделка с автомобилем', 'сделка с подержанным автомобилем',\n",
       "       'строительство жилой недвижимости', 'строительство недвижимости',\n",
       "       'строительство собственной недвижимости', 'сыграть свадьбу'],\n",
       "      dtype=object)"
      ]
     },
     "execution_count": 25,
     "metadata": {},
     "output_type": "execute_result"
    }
   ],
   "source": [
    "df['purpose'].sort_values().unique() "
   ]
  },
  {
   "cell_type": "markdown",
   "id": "7a274ee0",
   "metadata": {},
   "source": [
    "В данных о целях получения кредита аномалий нет."
   ]
  },
  {
   "cell_type": "markdown",
   "id": "a8de435d",
   "metadata": {},
   "source": [
    "Также рассмотрим `dob_years` на наличие аномальных значений:"
   ]
  },
  {
   "cell_type": "code",
   "execution_count": 26,
   "id": "f8aba755",
   "metadata": {},
   "outputs": [
    {
     "data": {
      "text/plain": [
       "array([ 0, 19, 20, 21, 22, 23, 24, 25, 26, 27, 28, 29, 30, 31, 32, 33, 34,\n",
       "       35, 36, 37, 38, 39, 40, 41, 42, 43, 44, 45, 46, 47, 48, 49, 50, 51,\n",
       "       52, 53, 54, 55, 56, 57, 58, 59, 60, 61, 62, 63, 64, 65, 66, 67, 68,\n",
       "       69, 70, 71, 72, 73, 74, 75])"
      ]
     },
     "execution_count": 26,
     "metadata": {},
     "output_type": "execute_result"
    }
   ],
   "source": [
    "df['dob_years'].sort_values().unique()"
   ]
  },
  {
   "cell_type": "markdown",
   "id": "bcf69e80",
   "metadata": {},
   "source": [
    "В наш список заемщиков попали \"груднички\", которым 0 лет. Узнаем, их долю от всех заемщиков:"
   ]
  },
  {
   "cell_type": "code",
   "execution_count": 27,
   "id": "bcbf8449",
   "metadata": {},
   "outputs": [
    {
     "data": {
      "text/plain": [
       "0.004692218350754936"
      ]
     },
     "execution_count": 27,
     "metadata": {},
     "output_type": "execute_result"
    }
   ],
   "source": [
    "len(df.query('dob_years == 0'))/len(df)\n"
   ]
  },
  {
   "cell_type": "markdown",
   "id": "debf7e33",
   "metadata": {},
   "source": [
    " Меньше процента — это немного, в нашем исследовании удаление такой доли строк не повлияет на результаты. "
   ]
  },
  {
   "cell_type": "markdown",
   "id": "ec7e252f",
   "metadata": {},
   "source": [
    "### Изменение типов данных."
   ]
  },
  {
   "cell_type": "markdown",
   "id": "9b87797e",
   "metadata": {},
   "source": [
    "На этапе знакомства с данными мы обнаружили, что значения общего трудовой стаж в днях (`days_employed`) и ежемесячного дохода в рублях (`total_income`) выражены в вещественных числах. Такой формат не воспринимается наглядно и может затруднить дальнейшую работу с данными. С помощью метода `astype()` переведем значения в тип `int`:"
   ]
  },
  {
   "cell_type": "code",
   "execution_count": 28,
   "id": "668863cd",
   "metadata": {},
   "outputs": [
    {
     "data": {
      "text/plain": [
       "days_employed    int64\n",
       "total_income     int64\n",
       "dtype: object"
      ]
     },
     "execution_count": 28,
     "metadata": {},
     "output_type": "execute_result"
    }
   ],
   "source": [
    "df['days_employed'] = df['days_employed'].astype('int')\n",
    "df['total_income'] = df['total_income'].astype('int')\n",
    "# с помощью метода .dtypes убедимся, что тип данных изменился:\n",
    "df[['days_employed','total_income']].dtypes \n"
   ]
  },
  {
   "cell_type": "markdown",
   "id": "5bcd5ff9",
   "metadata": {},
   "source": [
    "### Удаление дубликатов.   "
   ]
  },
  {
   "cell_type": "markdown",
   "id": "fdc58c13",
   "metadata": {},
   "source": [
    "Посчитайем явные дубликаты в таблице командой sum():"
   ]
  },
  {
   "cell_type": "code",
   "execution_count": 29,
   "id": "7e98a3d2",
   "metadata": {},
   "outputs": [
    {
     "data": {
      "text/plain": [
       "54"
      ]
     },
     "execution_count": 29,
     "metadata": {},
     "output_type": "execute_result"
    }
   ],
   "source": [
    "df.duplicated().sum()"
   ]
  },
  {
   "cell_type": "markdown",
   "id": "04a4fb83",
   "metadata": {},
   "source": [
    "Удалим явные дубликаты с помощью метода drop_duplicates(), а с помощью метода reset_index() обновим индексы:"
   ]
  },
  {
   "cell_type": "code",
   "execution_count": 30,
   "id": "c049b7e1",
   "metadata": {},
   "outputs": [
    {
     "data": {
      "text/plain": [
       "0"
      ]
     },
     "execution_count": 30,
     "metadata": {},
     "output_type": "execute_result"
    }
   ],
   "source": [
    "df = df.drop_duplicates().reset_index(drop=True)\n",
    "# ещё раз посчитаем явные дубликаты в таблице — убедимся, что полностью от них избавились:\n",
    "df.duplicated().sum()"
   ]
  },
  {
   "cell_type": "markdown",
   "id": "9996e664",
   "metadata": {},
   "source": [
    "Дублирующиеся строки, вероятнее всего, появились по технологической ошибки, например, при копирование данных."
   ]
  },
  {
   "cell_type": "markdown",
   "id": "987e287c",
   "metadata": {},
   "source": [
    "Рассмотрим столбец `education`, выведем все уникальные значения, чтобы выявить неявные дубликаты:"
   ]
  },
  {
   "cell_type": "code",
   "execution_count": 31,
   "id": "05d99a24",
   "metadata": {},
   "outputs": [
    {
     "data": {
      "text/plain": [
       "array(['высшее', 'среднее', 'Среднее', 'СРЕДНЕЕ', 'ВЫСШЕЕ',\n",
       "       'неоконченное высшее', 'начальное', 'Высшее',\n",
       "       'НЕОКОНЧЕННОЕ ВЫСШЕЕ', 'Неоконченное высшее', 'НАЧАЛЬНОЕ',\n",
       "       'Начальное', 'Ученая степень', 'УЧЕНАЯ СТЕПЕНЬ', 'ученая степень'],\n",
       "      dtype=object)"
      ]
     },
     "execution_count": 31,
     "metadata": {},
     "output_type": "execute_result"
    }
   ],
   "source": [
    "df['education'].unique()"
   ]
  },
  {
   "cell_type": "markdown",
   "id": "48f6b4b1",
   "metadata": {},
   "source": [
    "Избавиться от этих дубликатов логичнее всего с помощью приведения всех значений к нижнему регистру, используем метод `str.lower()`:"
   ]
  },
  {
   "cell_type": "code",
   "execution_count": 32,
   "id": "4d43f2e8",
   "metadata": {},
   "outputs": [
    {
     "data": {
      "text/plain": [
       "array(['высшее', 'среднее', 'неоконченное высшее', 'начальное',\n",
       "       'ученая степень'], dtype=object)"
      ]
     },
     "execution_count": 32,
     "metadata": {},
     "output_type": "execute_result"
    }
   ],
   "source": [
    "df['education'] = df['education'].str.lower()\n",
    "df['education'].unique() # выведем уникальные значения, чтобы убедиться, что дубликатов больше нет"
   ]
  },
  {
   "cell_type": "markdown",
   "id": "7d90ae02",
   "metadata": {},
   "source": [
    "Расхождения в регистре - ошибка, возникшая в результате человекческого фактора: данные вносили разные люди, кто-то не придерживался общего стиля."
   ]
  },
  {
   "cell_type": "markdown",
   "id": "5a9e6c42",
   "metadata": {},
   "source": [
    "Финально проверим датасет на дубликаты:"
   ]
  },
  {
   "cell_type": "code",
   "execution_count": 33,
   "id": "927e8810",
   "metadata": {},
   "outputs": [
    {
     "data": {
      "text/plain": [
       "17"
      ]
     },
     "execution_count": 33,
     "metadata": {},
     "output_type": "execute_result"
    }
   ],
   "source": [
    "df.duplicated().sum()"
   ]
  },
  {
   "cell_type": "markdown",
   "id": "dee6d600",
   "metadata": {},
   "source": [
    "Все чисто."
   ]
  },
  {
   "cell_type": "markdown",
   "id": "b5960d02",
   "metadata": {},
   "source": [
    "###  Формирование дополнительных датафреймов словарей, декомпозиция исходного датафрейма."
   ]
  },
  {
   "cell_type": "markdown",
   "id": "7e433682",
   "metadata": {},
   "source": [
    "Создадим два новых датафрейма-словаря:\n",
    "- `education` c идентификаторами уровня образования\n",
    "- `family_status` c идентификаторами семейного положения"
   ]
  },
  {
   "cell_type": "code",
   "execution_count": 34,
   "id": "d1c467e6",
   "metadata": {},
   "outputs": [
    {
     "data": {
      "text/html": [
       "<div>\n",
       "<style scoped>\n",
       "    .dataframe tbody tr th:only-of-type {\n",
       "        vertical-align: middle;\n",
       "    }\n",
       "\n",
       "    .dataframe tbody tr th {\n",
       "        vertical-align: top;\n",
       "    }\n",
       "\n",
       "    .dataframe thead th {\n",
       "        text-align: right;\n",
       "    }\n",
       "</style>\n",
       "<table border=\"1\" class=\"dataframe\">\n",
       "  <thead>\n",
       "    <tr style=\"text-align: right;\">\n",
       "      <th></th>\n",
       "      <th>education</th>\n",
       "    </tr>\n",
       "    <tr>\n",
       "      <th>education_id</th>\n",
       "      <th></th>\n",
       "    </tr>\n",
       "  </thead>\n",
       "  <tbody>\n",
       "    <tr>\n",
       "      <td>0</td>\n",
       "      <td>высшее</td>\n",
       "    </tr>\n",
       "    <tr>\n",
       "      <td>1</td>\n",
       "      <td>среднее</td>\n",
       "    </tr>\n",
       "    <tr>\n",
       "      <td>2</td>\n",
       "      <td>неоконченное высшее</td>\n",
       "    </tr>\n",
       "    <tr>\n",
       "      <td>3</td>\n",
       "      <td>начальное</td>\n",
       "    </tr>\n",
       "    <tr>\n",
       "      <td>4</td>\n",
       "      <td>ученая степень</td>\n",
       "    </tr>\n",
       "  </tbody>\n",
       "</table>\n",
       "</div>"
      ],
      "text/plain": [
       "                        education\n",
       "education_id                     \n",
       "0                          высшее\n",
       "1                         среднее\n",
       "2             неоконченное высшее\n",
       "3                       начальное\n",
       "4                  ученая степень"
      ]
     },
     "metadata": {},
     "output_type": "display_data"
    },
    {
     "data": {
      "text/html": [
       "<div>\n",
       "<style scoped>\n",
       "    .dataframe tbody tr th:only-of-type {\n",
       "        vertical-align: middle;\n",
       "    }\n",
       "\n",
       "    .dataframe tbody tr th {\n",
       "        vertical-align: top;\n",
       "    }\n",
       "\n",
       "    .dataframe thead th {\n",
       "        text-align: right;\n",
       "    }\n",
       "</style>\n",
       "<table border=\"1\" class=\"dataframe\">\n",
       "  <thead>\n",
       "    <tr style=\"text-align: right;\">\n",
       "      <th></th>\n",
       "      <th>family_status</th>\n",
       "    </tr>\n",
       "    <tr>\n",
       "      <th>family_status_id</th>\n",
       "      <th></th>\n",
       "    </tr>\n",
       "  </thead>\n",
       "  <tbody>\n",
       "    <tr>\n",
       "      <td>0</td>\n",
       "      <td>женат / замужем</td>\n",
       "    </tr>\n",
       "    <tr>\n",
       "      <td>1</td>\n",
       "      <td>гражданский брак</td>\n",
       "    </tr>\n",
       "    <tr>\n",
       "      <td>2</td>\n",
       "      <td>вдовец / вдова</td>\n",
       "    </tr>\n",
       "    <tr>\n",
       "      <td>3</td>\n",
       "      <td>в разводе</td>\n",
       "    </tr>\n",
       "    <tr>\n",
       "      <td>4</td>\n",
       "      <td>не женат / не замужем</td>\n",
       "    </tr>\n",
       "  </tbody>\n",
       "</table>\n",
       "</div>"
      ],
      "text/plain": [
       "                          family_status\n",
       "family_status_id                       \n",
       "0                       женат / замужем\n",
       "1                      гражданский брак\n",
       "2                        вдовец / вдова\n",
       "3                             в разводе\n",
       "4                 не женат / не замужем"
      ]
     },
     "execution_count": 34,
     "metadata": {},
     "output_type": "execute_result"
    }
   ],
   "source": [
    "# добавим в новый датафрейм столбцы об образовании\n",
    "education = df[['education_id','education']] \n",
    "# удалим индексы\n",
    "education.set_index('education_id', inplace=True)\n",
    "# удалим дубликаты\n",
    "education = education.drop_duplicates()\n",
    "\n",
    "# добавим в новый датафрейм столбцы о семейном положении\n",
    "family_status = df[['family_status_id', 'family_status']] \n",
    "# удалим индексы\n",
    "family_status.set_index('family_status_id', inplace=True)\n",
    "# удалим дубликаты\n",
    "family_status = family_status.drop_duplicates()\n",
    "\n",
    "# выведем получившиеся словари\n",
    "display(education)\n",
    "family_status"
   ]
  },
  {
   "cell_type": "markdown",
   "id": "814f1fb6",
   "metadata": {},
   "source": [
    "Удалим из исходного датафрейма столбцы `education` и `family_status`, оставив только их идентификаторы: `education_id` и `family_status_id`. Выведем обновленный перечень столбцов."
   ]
  },
  {
   "cell_type": "code",
   "execution_count": 35,
   "id": "8f19b4c4",
   "metadata": {
    "scrolled": true
   },
   "outputs": [
    {
     "data": {
      "text/plain": [
       "['children',\n",
       " 'days_employed',\n",
       " 'dob_years',\n",
       " 'education_id',\n",
       " 'family_status_id',\n",
       " 'gender',\n",
       " 'income_type',\n",
       " 'debt',\n",
       " 'total_income',\n",
       " 'purpose']"
      ]
     },
     "execution_count": 35,
     "metadata": {},
     "output_type": "execute_result"
    }
   ],
   "source": [
    "df.drop(['education','family_status'], axis=1, inplace=True) \n",
    "list(df)"
   ]
  },
  {
   "cell_type": "markdown",
   "id": "29da3855",
   "metadata": {},
   "source": [
    "### Категоризация дохода."
   ]
  },
  {
   "cell_type": "markdown",
   "id": "e65a0ceb",
   "metadata": {},
   "source": [
    "Напишем функцию `total_income_category`, которая возвращает категорию дохода по значению столбца `total_income`, используя правила:\n",
    "- 0–30000 — 'E';\n",
    "- 30001–50000 — 'D';\n",
    "- 50001–200000 — 'C';\n",
    "- 200001–1000000 — 'B';\n",
    "- 1000001 и выше — 'A'."
   ]
  },
  {
   "cell_type": "code",
   "execution_count": 36,
   "id": "47df8877",
   "metadata": {},
   "outputs": [
    {
     "name": "stdout",
     "output_type": "stream",
     "text": [
      "E\n"
     ]
    },
    {
     "data": {
      "text/plain": [
       "'B'"
      ]
     },
     "execution_count": 36,
     "metadata": {},
     "output_type": "execute_result"
    }
   ],
   "source": [
    "def total_income_category(total_income):\n",
    "    if total_income <= 30000:\n",
    "        return 'E'\n",
    "    if total_income >= 30001 and total_income < 50000:\n",
    "        return 'D'\n",
    "    if total_income >= 50001 and total_income < 200000:\n",
    "        return 'C';\n",
    "    if total_income >= 200001 and total_income < 1000000:\n",
    "        return 'B';\n",
    "    return 'A'\n",
    "# проверим работу функции на двух значениях.\n",
    "print(total_income_category(25000))\n",
    "total_income_category(235000)"
   ]
  },
  {
   "cell_type": "markdown",
   "id": "80f70644",
   "metadata": {},
   "source": [
    "Создадим отдельный столбец с доходными категориями и выведем первые 5 строк датафрейма:"
   ]
  },
  {
   "cell_type": "code",
   "execution_count": 37,
   "id": "bdc57e1f",
   "metadata": {},
   "outputs": [
    {
     "data": {
      "text/html": [
       "<div>\n",
       "<style scoped>\n",
       "    .dataframe tbody tr th:only-of-type {\n",
       "        vertical-align: middle;\n",
       "    }\n",
       "\n",
       "    .dataframe tbody tr th {\n",
       "        vertical-align: top;\n",
       "    }\n",
       "\n",
       "    .dataframe thead th {\n",
       "        text-align: right;\n",
       "    }\n",
       "</style>\n",
       "<table border=\"1\" class=\"dataframe\">\n",
       "  <thead>\n",
       "    <tr style=\"text-align: right;\">\n",
       "      <th></th>\n",
       "      <th>children</th>\n",
       "      <th>days_employed</th>\n",
       "      <th>dob_years</th>\n",
       "      <th>education_id</th>\n",
       "      <th>family_status_id</th>\n",
       "      <th>gender</th>\n",
       "      <th>income_type</th>\n",
       "      <th>debt</th>\n",
       "      <th>total_income</th>\n",
       "      <th>purpose</th>\n",
       "      <th>total_income_category</th>\n",
       "    </tr>\n",
       "  </thead>\n",
       "  <tbody>\n",
       "    <tr>\n",
       "      <td>0</td>\n",
       "      <td>1</td>\n",
       "      <td>8437</td>\n",
       "      <td>42</td>\n",
       "      <td>0</td>\n",
       "      <td>0</td>\n",
       "      <td>F</td>\n",
       "      <td>сотрудник</td>\n",
       "      <td>0</td>\n",
       "      <td>253875</td>\n",
       "      <td>покупка жилья</td>\n",
       "      <td>B</td>\n",
       "    </tr>\n",
       "    <tr>\n",
       "      <td>1</td>\n",
       "      <td>1</td>\n",
       "      <td>4024</td>\n",
       "      <td>36</td>\n",
       "      <td>1</td>\n",
       "      <td>0</td>\n",
       "      <td>F</td>\n",
       "      <td>сотрудник</td>\n",
       "      <td>0</td>\n",
       "      <td>112080</td>\n",
       "      <td>приобретение автомобиля</td>\n",
       "      <td>C</td>\n",
       "    </tr>\n",
       "    <tr>\n",
       "      <td>2</td>\n",
       "      <td>0</td>\n",
       "      <td>5623</td>\n",
       "      <td>33</td>\n",
       "      <td>1</td>\n",
       "      <td>0</td>\n",
       "      <td>M</td>\n",
       "      <td>сотрудник</td>\n",
       "      <td>0</td>\n",
       "      <td>145885</td>\n",
       "      <td>покупка жилья</td>\n",
       "      <td>C</td>\n",
       "    </tr>\n",
       "    <tr>\n",
       "      <td>3</td>\n",
       "      <td>3</td>\n",
       "      <td>4124</td>\n",
       "      <td>32</td>\n",
       "      <td>1</td>\n",
       "      <td>0</td>\n",
       "      <td>M</td>\n",
       "      <td>сотрудник</td>\n",
       "      <td>0</td>\n",
       "      <td>267628</td>\n",
       "      <td>дополнительное образование</td>\n",
       "      <td>B</td>\n",
       "    </tr>\n",
       "    <tr>\n",
       "      <td>4</td>\n",
       "      <td>0</td>\n",
       "      <td>340266</td>\n",
       "      <td>53</td>\n",
       "      <td>1</td>\n",
       "      <td>1</td>\n",
       "      <td>F</td>\n",
       "      <td>пенсионер</td>\n",
       "      <td>0</td>\n",
       "      <td>158616</td>\n",
       "      <td>сыграть свадьбу</td>\n",
       "      <td>C</td>\n",
       "    </tr>\n",
       "  </tbody>\n",
       "</table>\n",
       "</div>"
      ],
      "text/plain": [
       "   children  days_employed  dob_years  education_id  family_status_id gender  \\\n",
       "0         1           8437         42             0                 0      F   \n",
       "1         1           4024         36             1                 0      F   \n",
       "2         0           5623         33             1                 0      M   \n",
       "3         3           4124         32             1                 0      M   \n",
       "4         0         340266         53             1                 1      F   \n",
       "\n",
       "  income_type  debt  total_income                     purpose  \\\n",
       "0   сотрудник     0        253875               покупка жилья   \n",
       "1   сотрудник     0        112080     приобретение автомобиля   \n",
       "2   сотрудник     0        145885               покупка жилья   \n",
       "3   сотрудник     0        267628  дополнительное образование   \n",
       "4   пенсионер     0        158616             сыграть свадьбу   \n",
       "\n",
       "  total_income_category  \n",
       "0                     B  \n",
       "1                     C  \n",
       "2                     C  \n",
       "3                     B  \n",
       "4                     C  "
      ]
     },
     "execution_count": 37,
     "metadata": {},
     "output_type": "execute_result"
    }
   ],
   "source": [
    "df['total_income_category'] = df['total_income'].apply(total_income_category)\n",
    "df.head()"
   ]
  },
  {
   "cell_type": "markdown",
   "id": "819c1070",
   "metadata": {},
   "source": [
    "### Категоризация целей кредита."
   ]
  },
  {
   "cell_type": "markdown",
   "id": "82587961",
   "metadata": {},
   "source": [
    "Изучим данные в столбце `purpose` и определим, какие подстроки помогут нам правильно определить категорию для целей кредита."
   ]
  },
  {
   "cell_type": "code",
   "execution_count": 38,
   "id": "93c2e100",
   "metadata": {},
   "outputs": [
    {
     "data": {
      "text/plain": [
       "array(['автомобили', 'автомобиль', 'высшее образование',\n",
       "       'дополнительное образование', 'жилье',\n",
       "       'заняться высшим образованием', 'заняться образованием',\n",
       "       'на покупку автомобиля', 'на покупку подержанного автомобиля',\n",
       "       'на покупку своего автомобиля', 'на проведение свадьбы',\n",
       "       'недвижимость', 'образование', 'операции с жильем',\n",
       "       'операции с коммерческой недвижимостью',\n",
       "       'операции с недвижимостью', 'операции со своей недвижимостью',\n",
       "       'покупка жилой недвижимости', 'покупка жилья',\n",
       "       'покупка жилья для сдачи', 'покупка жилья для семьи',\n",
       "       'покупка коммерческой недвижимости', 'покупка недвижимости',\n",
       "       'покупка своего жилья', 'получение высшего образования',\n",
       "       'получение дополнительного образования', 'получение образования',\n",
       "       'приобретение автомобиля', 'профильное образование',\n",
       "       'ремонт жилью', 'свадьба', 'свой автомобиль',\n",
       "       'сделка с автомобилем', 'сделка с подержанным автомобилем',\n",
       "       'строительство жилой недвижимости', 'строительство недвижимости',\n",
       "       'строительство собственной недвижимости', 'сыграть свадьбу'],\n",
       "      dtype=object)"
      ]
     },
     "execution_count": 38,
     "metadata": {},
     "output_type": "execute_result"
    }
   ],
   "source": [
    "df['purpose'].sort_values().unique() # выведем отсортированные уникальные значения"
   ]
  },
  {
   "cell_type": "markdown",
   "id": "7b37b42c",
   "metadata": {},
   "source": [
    "Создадим функцию `purpose_category`, которая на основании цели кредита выведет соответствующую категорию из четырех:\n",
    "- 'операции с автомобилем',\n",
    "- 'операции с недвижимостью',\n",
    "- 'проведение свадьбы',\n",
    "- 'получение образования'."
   ]
  },
  {
   "cell_type": "code",
   "execution_count": 39,
   "id": "9b7121f5",
   "metadata": {},
   "outputs": [
    {
     "data": {
      "text/html": [
       "<div>\n",
       "<style scoped>\n",
       "    .dataframe tbody tr th:only-of-type {\n",
       "        vertical-align: middle;\n",
       "    }\n",
       "\n",
       "    .dataframe tbody tr th {\n",
       "        vertical-align: top;\n",
       "    }\n",
       "\n",
       "    .dataframe thead th {\n",
       "        text-align: right;\n",
       "    }\n",
       "</style>\n",
       "<table border=\"1\" class=\"dataframe\">\n",
       "  <thead>\n",
       "    <tr style=\"text-align: right;\">\n",
       "      <th></th>\n",
       "      <th>children</th>\n",
       "      <th>days_employed</th>\n",
       "      <th>dob_years</th>\n",
       "      <th>education_id</th>\n",
       "      <th>family_status_id</th>\n",
       "      <th>gender</th>\n",
       "      <th>income_type</th>\n",
       "      <th>debt</th>\n",
       "      <th>total_income</th>\n",
       "      <th>purpose</th>\n",
       "      <th>total_income_category</th>\n",
       "      <th>purpose_category</th>\n",
       "    </tr>\n",
       "  </thead>\n",
       "  <tbody>\n",
       "    <tr>\n",
       "      <td>0</td>\n",
       "      <td>1</td>\n",
       "      <td>8437</td>\n",
       "      <td>42</td>\n",
       "      <td>0</td>\n",
       "      <td>0</td>\n",
       "      <td>F</td>\n",
       "      <td>сотрудник</td>\n",
       "      <td>0</td>\n",
       "      <td>253875</td>\n",
       "      <td>покупка жилья</td>\n",
       "      <td>B</td>\n",
       "      <td>операции с недвижимостью</td>\n",
       "    </tr>\n",
       "    <tr>\n",
       "      <td>1</td>\n",
       "      <td>1</td>\n",
       "      <td>4024</td>\n",
       "      <td>36</td>\n",
       "      <td>1</td>\n",
       "      <td>0</td>\n",
       "      <td>F</td>\n",
       "      <td>сотрудник</td>\n",
       "      <td>0</td>\n",
       "      <td>112080</td>\n",
       "      <td>приобретение автомобиля</td>\n",
       "      <td>C</td>\n",
       "      <td>операции с автомобилем</td>\n",
       "    </tr>\n",
       "    <tr>\n",
       "      <td>2</td>\n",
       "      <td>0</td>\n",
       "      <td>5623</td>\n",
       "      <td>33</td>\n",
       "      <td>1</td>\n",
       "      <td>0</td>\n",
       "      <td>M</td>\n",
       "      <td>сотрудник</td>\n",
       "      <td>0</td>\n",
       "      <td>145885</td>\n",
       "      <td>покупка жилья</td>\n",
       "      <td>C</td>\n",
       "      <td>операции с недвижимостью</td>\n",
       "    </tr>\n",
       "    <tr>\n",
       "      <td>3</td>\n",
       "      <td>3</td>\n",
       "      <td>4124</td>\n",
       "      <td>32</td>\n",
       "      <td>1</td>\n",
       "      <td>0</td>\n",
       "      <td>M</td>\n",
       "      <td>сотрудник</td>\n",
       "      <td>0</td>\n",
       "      <td>267628</td>\n",
       "      <td>дополнительное образование</td>\n",
       "      <td>B</td>\n",
       "      <td>получение образования</td>\n",
       "    </tr>\n",
       "    <tr>\n",
       "      <td>4</td>\n",
       "      <td>0</td>\n",
       "      <td>340266</td>\n",
       "      <td>53</td>\n",
       "      <td>1</td>\n",
       "      <td>1</td>\n",
       "      <td>F</td>\n",
       "      <td>пенсионер</td>\n",
       "      <td>0</td>\n",
       "      <td>158616</td>\n",
       "      <td>сыграть свадьбу</td>\n",
       "      <td>C</td>\n",
       "      <td>проведение свадьбы</td>\n",
       "    </tr>\n",
       "  </tbody>\n",
       "</table>\n",
       "</div>"
      ],
      "text/plain": [
       "   children  days_employed  dob_years  education_id  family_status_id gender  \\\n",
       "0         1           8437         42             0                 0      F   \n",
       "1         1           4024         36             1                 0      F   \n",
       "2         0           5623         33             1                 0      M   \n",
       "3         3           4124         32             1                 0      M   \n",
       "4         0         340266         53             1                 1      F   \n",
       "\n",
       "  income_type  debt  total_income                     purpose  \\\n",
       "0   сотрудник     0        253875               покупка жилья   \n",
       "1   сотрудник     0        112080     приобретение автомобиля   \n",
       "2   сотрудник     0        145885               покупка жилья   \n",
       "3   сотрудник     0        267628  дополнительное образование   \n",
       "4   пенсионер     0        158616             сыграть свадьбу   \n",
       "\n",
       "  total_income_category          purpose_category  \n",
       "0                     B  операции с недвижимостью  \n",
       "1                     C    операции с автомобилем  \n",
       "2                     C  операции с недвижимостью  \n",
       "3                     B     получение образования  \n",
       "4                     C        проведение свадьбы  "
      ]
     },
     "execution_count": 39,
     "metadata": {},
     "output_type": "execute_result"
    }
   ],
   "source": [
    "def purpose_category(purpose):\n",
    "    # создадим 4 условия, на основании которых функция будет выбирать соответствующую категорию:   \n",
    "    if 'автомоб' in purpose:\n",
    "        return 'операции с автомобилем'\n",
    "    if 'жиль' in purpose or 'недвижим' in purpose:\n",
    "        return 'операции с недвижимостью'\n",
    "    if 'свадьб' in purpose:\n",
    "        return 'проведение свадьбы'\n",
    "    if 'образова' in purpose:\n",
    "        return 'получение образования'\n",
    "    return ('Ошибка! Цель кредита не попадает ни под одну категорию.')\n",
    "# cоздадим отдельный столбец для категорий целей, применим к нему функцию и выведем первые 5 строк датафрейма:\n",
    "df['purpose_category'] = df['purpose'].apply(purpose_category)\n",
    "df.head(5)  "
   ]
  },
  {
   "cell_type": "markdown",
   "id": "a08d1cb3",
   "metadata": {},
   "source": [
    "**Выводы**\n",
    "\n",
    "Предобработка обнаружила четыре проблемы в данных:\n",
    "\n",
    "- пропущенные значения,\n",
    "- аномалии,\n",
    "- нарушения в типах данных,\n",
    "- дубликаты — явные и неявные.\n",
    "\n",
    "Мы исправили ошибки, чтобы упростить дальнейшую работу с таблицей. Без дубликатов, пропусков, неверных типов данных исследование станет более точным.\n",
    "\n",
    "Значительная часть ошибок произошла по вине человекческого фактора. Сотрудниками банка, которые работают с данной таблицей и вносят новые данные, можно порекоммендовать пользоваться единым шаблоном, чтобы избежать новых ошибок.\n",
    "\n",
    "Теперь можно перейти к проверке гипотез. "
   ]
  },
  {
   "cell_type": "markdown",
   "id": "79bfbac2",
   "metadata": {},
   "source": [
    "## Проверка гипотиз"
   ]
  },
  {
   "cell_type": "markdown",
   "id": "b8445368",
   "metadata": {},
   "source": [
    "##### Проверка первой гипотизы"
   ]
  },
  {
   "cell_type": "markdown",
   "id": "5743797a",
   "metadata": {},
   "source": [
    "***Гипотиза №1: На способность потенциального заемщика погасить кредит в срок влияет его семейный статус.***\n",
    "\n",
    "Для того, чтобы подтвердить, или опровергнуть данную гипотизу, нам необходимо понять, какой процент заемщиков имеет задолженность в каждой категории семейного положения. Для этого создадим сводную таблицу `pivot_family_status` c подсчетами для каждой категории."
   ]
  },
  {
   "cell_type": "code",
   "execution_count": 40,
   "id": "05dec756",
   "metadata": {},
   "outputs": [
    {
     "data": {
      "text/html": [
       "<div>\n",
       "<style scoped>\n",
       "    .dataframe tbody tr th:only-of-type {\n",
       "        vertical-align: middle;\n",
       "    }\n",
       "\n",
       "    .dataframe tbody tr th {\n",
       "        vertical-align: top;\n",
       "    }\n",
       "\n",
       "    .dataframe thead th {\n",
       "        text-align: right;\n",
       "    }\n",
       "</style>\n",
       "<table border=\"1\" class=\"dataframe\">\n",
       "  <thead>\n",
       "    <tr style=\"text-align: right;\">\n",
       "      <th>debt</th>\n",
       "      <th>0</th>\n",
       "      <th>1</th>\n",
       "      <th>total</th>\n",
       "      <th>percentage of debtors</th>\n",
       "    </tr>\n",
       "    <tr>\n",
       "      <th>family_status</th>\n",
       "      <th></th>\n",
       "      <th></th>\n",
       "      <th></th>\n",
       "      <th></th>\n",
       "    </tr>\n",
       "  </thead>\n",
       "  <tbody>\n",
       "    <tr>\n",
       "      <td>не женат / не замужем</td>\n",
       "      <td>2536</td>\n",
       "      <td>274</td>\n",
       "      <td>2810</td>\n",
       "      <td>9.750890</td>\n",
       "    </tr>\n",
       "    <tr>\n",
       "      <td>гражданский брак</td>\n",
       "      <td>3775</td>\n",
       "      <td>388</td>\n",
       "      <td>4163</td>\n",
       "      <td>9.320202</td>\n",
       "    </tr>\n",
       "    <tr>\n",
       "      <td>женат / замужем</td>\n",
       "      <td>11413</td>\n",
       "      <td>931</td>\n",
       "      <td>12344</td>\n",
       "      <td>7.542126</td>\n",
       "    </tr>\n",
       "    <tr>\n",
       "      <td>в разводе</td>\n",
       "      <td>1110</td>\n",
       "      <td>85</td>\n",
       "      <td>1195</td>\n",
       "      <td>7.112971</td>\n",
       "    </tr>\n",
       "    <tr>\n",
       "      <td>вдовец / вдова</td>\n",
       "      <td>896</td>\n",
       "      <td>63</td>\n",
       "      <td>959</td>\n",
       "      <td>6.569343</td>\n",
       "    </tr>\n",
       "  </tbody>\n",
       "</table>\n",
       "</div>"
      ],
      "text/plain": [
       "debt                       0    1  total  percentage of debtors\n",
       "family_status                                                  \n",
       "не женат / не замужем   2536  274   2810               9.750890\n",
       "гражданский брак        3775  388   4163               9.320202\n",
       "женат / замужем        11413  931  12344               7.542126\n",
       "в разводе               1110   85   1195               7.112971\n",
       "вдовец / вдова           896   63    959               6.569343"
      ]
     },
     "execution_count": 40,
     "metadata": {},
     "output_type": "execute_result"
    }
   ],
   "source": [
    "'''создадим новый датафрейн, в который добавим 2 столбца: \n",
    "идентификатор семейного положения и имел/не имел задолженность'''\n",
    "family_status_debt = df[['family_status_id', 'debt']]\n",
    "\n",
    "# к этой таблице с помощбю метода merge() присоединим словарь family_status:\n",
    "family_status_debt = family_status_debt.merge(family_status, on='family_status_id', how='left')\n",
    "\n",
    "# создадим сводную таблицу:\n",
    "pivot_family_status = family_status_debt.pivot_table(index='family_status', columns='debt', values='family_status_id', aggfunc='count')\n",
    "\n",
    "# добавим столбец total со значением общего количества заемщиков для конкретной категории:\n",
    "pivot_family_status['total'] = pivot_family_status[0] + pivot_family_status[1] \n",
    "\n",
    "''' добавим столбец percentage of debtors, отражающий процент людей в конкретной категории, \n",
    "которые имеют задолженности'''\n",
    "pivot_family_status['percentage of debtors'] = (pivot_family_status[1] / pivot_family_status['total']*100)\n",
    "\n",
    "# отсортируем столбец percentage of debtors по убыванию\n",
    "pivot_family_status.sort_values(by = 'percentage of debtors', ascending = False)\n"
   ]
  },
  {
   "cell_type": "markdown",
   "id": "78c6da12",
   "metadata": {},
   "source": [
    "##### Вывод 1:"
   ]
  },
  {
   "cell_type": "markdown",
   "id": "2ba267a4",
   "metadata": {},
   "source": [
    "Процент должников по всем 5 категориям семейного положения приблизительно варьируется от 7 до 10 процентов. \n",
    "\n",
    "Наиболее достоверным расчетом можно считать процент клиентов, имевших задолженность по кредиту, в категории `женат / замужем`, так как это самая многочисленная категория (12344 человека). Можно утверждать, что человек, состоящий в браке с вероятностью 8% будет иметь задолженность.\n",
    "\n",
    "Выборки не состоящих в браке людей и проживающих в гражданском браке значительно меньше, чем женатых/замужних - 2810 и 4163 человека соответственно. Однако именно среди этих двух выборок клиенты с бóльшей вероятностью имеют задолженности примерно 10% и 9%, согласно нашим рассчетам. Поэтому, мы можем только предположить, 'свободные' люди, или люди, состоящие в неузаконенных отношениях, являются менее надежными клиентами для банка.\n",
    "\n",
    "Согласно сводной таблице, клиенты в разводе и овдовевшие люди - наиболее 'пунктальные' кредиторы, но не стоит забывать, что это - самые маленькие выборки (`в разводе` - 1195 человек, `вдовец / вдова` - 959 человек), поэтому данное утверждение имеет меньший вес.\n",
    "\n",
    "**Таким образом, яркой корреляции между семейным положением и вероятностью человека вернуть кредит в срок нет.**  \n"
   ]
  },
  {
   "cell_type": "markdown",
   "id": "2d9452b4",
   "metadata": {},
   "source": [
    "##### Проверка второй гипотизы"
   ]
  },
  {
   "cell_type": "markdown",
   "id": "af7d4b0f",
   "metadata": {},
   "source": [
    "***Гипотиза №2: Количество детей клиента влияет на факт погашения кредита в срок.***\n"
   ]
  },
  {
   "cell_type": "markdown",
   "id": "6a825c9c",
   "metadata": {},
   "source": [
    "Для того, чтобы подтвердить, или опровергнуть данную гипотизу, нам необходимо понять, какой процент заемщиков имеет задолженность в каждой категории количества детей в семье. Для этого создадим сводную таблицу `pivot_children` c подсчетами для каждой категории."
   ]
  },
  {
   "cell_type": "code",
   "execution_count": 41,
   "id": "6fa53044",
   "metadata": {},
   "outputs": [
    {
     "data": {
      "text/html": [
       "<div>\n",
       "<style scoped>\n",
       "    .dataframe tbody tr th:only-of-type {\n",
       "        vertical-align: middle;\n",
       "    }\n",
       "\n",
       "    .dataframe tbody tr th {\n",
       "        vertical-align: top;\n",
       "    }\n",
       "\n",
       "    .dataframe thead th {\n",
       "        text-align: right;\n",
       "    }\n",
       "</style>\n",
       "<table border=\"1\" class=\"dataframe\">\n",
       "  <thead>\n",
       "    <tr style=\"text-align: right;\">\n",
       "      <th>debt</th>\n",
       "      <th>0</th>\n",
       "      <th>1</th>\n",
       "      <th>total</th>\n",
       "      <th>percentage of debtors</th>\n",
       "    </tr>\n",
       "    <tr>\n",
       "      <th>children</th>\n",
       "      <th></th>\n",
       "      <th></th>\n",
       "      <th></th>\n",
       "      <th></th>\n",
       "    </tr>\n",
       "  </thead>\n",
       "  <tbody>\n",
       "    <tr>\n",
       "      <td>4</td>\n",
       "      <td>37</td>\n",
       "      <td>4</td>\n",
       "      <td>41</td>\n",
       "      <td>9.756098</td>\n",
       "    </tr>\n",
       "    <tr>\n",
       "      <td>2</td>\n",
       "      <td>1926</td>\n",
       "      <td>202</td>\n",
       "      <td>2128</td>\n",
       "      <td>9.492481</td>\n",
       "    </tr>\n",
       "    <tr>\n",
       "      <td>1</td>\n",
       "      <td>4411</td>\n",
       "      <td>445</td>\n",
       "      <td>4856</td>\n",
       "      <td>9.163921</td>\n",
       "    </tr>\n",
       "    <tr>\n",
       "      <td>3</td>\n",
       "      <td>303</td>\n",
       "      <td>27</td>\n",
       "      <td>330</td>\n",
       "      <td>8.181818</td>\n",
       "    </tr>\n",
       "    <tr>\n",
       "      <td>0</td>\n",
       "      <td>13044</td>\n",
       "      <td>1063</td>\n",
       "      <td>14107</td>\n",
       "      <td>7.535266</td>\n",
       "    </tr>\n",
       "    <tr>\n",
       "      <td>5</td>\n",
       "      <td>9</td>\n",
       "      <td>0</td>\n",
       "      <td>9</td>\n",
       "      <td>0.000000</td>\n",
       "    </tr>\n",
       "  </tbody>\n",
       "</table>\n",
       "</div>"
      ],
      "text/plain": [
       "debt          0     1  total  percentage of debtors\n",
       "children                                           \n",
       "4            37     4     41               9.756098\n",
       "2          1926   202   2128               9.492481\n",
       "1          4411   445   4856               9.163921\n",
       "3           303    27    330               8.181818\n",
       "0         13044  1063  14107               7.535266\n",
       "5             9     0      9               0.000000"
      ]
     },
     "execution_count": 41,
     "metadata": {},
     "output_type": "execute_result"
    }
   ],
   "source": [
    "# создадим сводную таблицу:\n",
    "pivot_children = df.pivot_table(index='children', columns='debt', values='gender', aggfunc='count')\n",
    "\n",
    "# заменим Nan в сводной\n",
    "pivot_children = pivot_children.fillna(0) \n",
    "\n",
    "# добавим столбец total со значением общего количества заемщиков для конкретной категории:\n",
    "pivot_children['total'] = pivot_children[0] + pivot_children[1] \n",
    "\n",
    "''' добавим столбец percentage of debtors, отражающий процент людей в конкретной категории, \n",
    "которые имеют задолженности'''\n",
    "pivot_children['percentage of debtors'] = (pivot_children[1] / pivot_children['total'] * 100)\n",
    "\n",
    "# изменим тип данных в остальных столбцах:\n",
    "pivot_children[[0,1,'total']] = pivot_children[[0,1,'total']].astype('int')\n",
    "\n",
    "# отсортируем столбец percentage of debtors по убыванию:\n",
    "pivot_children.sort_values(by = 'percentage of debtors', ascending = False)"
   ]
  },
  {
   "cell_type": "markdown",
   "id": "4b33f3ca",
   "metadata": {},
   "source": [
    "##### Вывод 2:"
   ]
  },
  {
   "cell_type": "markdown",
   "id": "774192a6",
   "metadata": {},
   "source": [
    "Процент должников по всем 6 категориям количества детей в семье приблизительно варьируется от 7,5 до 10 процентов.\n",
    "\n",
    "Самая большая выборка - заемщики, не имеющие детей - 13044 человека. Соответственно, говоря о людях из этой категории, можно с бóльшей достоверностью утверждать, что человек без детей будет иметь задолженность по кредиту с вероятностью 8%.\n",
    "\n",
    "Самая маленькая выборка - клиенты, у которых по 5 детей (9 человек), среди которых нет должников. Действительно, такие многодетные семьи редкость. Учитывая размер выборки, сделать однозначное заключение о том, что у данных заемщиков самая маленькая вероятность просрочить кредит нельзя.\n",
    "\n",
    "Остальные категории по своей численности варьируются от 41 до 4856 человек, при этом процент должников в них практически одинаковый (от 8 до 10%). Самая маленькая выборка (клиенты с 4 детьми) в стро двадцать раз меньше, чем кол-во клиентов с 1 ребенком. Учитывая такой разброс, сложно сделать достоверные выводы.\n",
    "\n",
    "**Таким образом, яркой корреляции между количеством детей в семье заемщика и его вероятностью вернуть кредит в срок нет. Единственное, что можно заметить, что у клиента с 4 детьми с бóльшей вероятностью будет задолженность по кредиту, чем у клиента с 5 детьми.**"
   ]
  },
  {
   "cell_type": "markdown",
   "id": "80bab197",
   "metadata": {},
   "source": [
    "##### Проверка третей гипотизы"
   ]
  },
  {
   "cell_type": "markdown",
   "id": "52580467",
   "metadata": {},
   "source": [
    "***Гипотиза №3: Между уровнем дохода и возвратом кредита в срок сщуествует зависимость.***"
   ]
  },
  {
   "cell_type": "markdown",
   "id": "3d577150",
   "metadata": {},
   "source": [
    "Для того, чтобы подтвердить, или опровергнуть данную гипотизу, нам необходимо понять, какой процент заемщиков имеет задолженность в каждой категории месячного дохода. Для этого создадим сводную таблицу `pivot_total_income` c подсчетами для каждой категории."
   ]
  },
  {
   "cell_type": "code",
   "execution_count": 42,
   "id": "2526cde4",
   "metadata": {},
   "outputs": [
    {
     "data": {
      "text/html": [
       "<div>\n",
       "<style scoped>\n",
       "    .dataframe tbody tr th:only-of-type {\n",
       "        vertical-align: middle;\n",
       "    }\n",
       "\n",
       "    .dataframe tbody tr th {\n",
       "        vertical-align: top;\n",
       "    }\n",
       "\n",
       "    .dataframe thead th {\n",
       "        text-align: right;\n",
       "    }\n",
       "</style>\n",
       "<table border=\"1\" class=\"dataframe\">\n",
       "  <thead>\n",
       "    <tr style=\"text-align: right;\">\n",
       "      <th>debt</th>\n",
       "      <th>0</th>\n",
       "      <th>1</th>\n",
       "      <th>total</th>\n",
       "      <th>percentage of debtors</th>\n",
       "    </tr>\n",
       "    <tr>\n",
       "      <th>total_income_category</th>\n",
       "      <th></th>\n",
       "      <th></th>\n",
       "      <th></th>\n",
       "      <th></th>\n",
       "    </tr>\n",
       "  </thead>\n",
       "  <tbody>\n",
       "    <tr>\n",
       "      <td>A</td>\n",
       "      <td>23</td>\n",
       "      <td>2</td>\n",
       "      <td>25</td>\n",
       "      <td>8.000000</td>\n",
       "    </tr>\n",
       "    <tr>\n",
       "      <td>B</td>\n",
       "      <td>4686</td>\n",
       "      <td>356</td>\n",
       "      <td>5042</td>\n",
       "      <td>7.060690</td>\n",
       "    </tr>\n",
       "    <tr>\n",
       "      <td>C</td>\n",
       "      <td>14672</td>\n",
       "      <td>1360</td>\n",
       "      <td>16032</td>\n",
       "      <td>8.483034</td>\n",
       "    </tr>\n",
       "    <tr>\n",
       "      <td>D</td>\n",
       "      <td>329</td>\n",
       "      <td>21</td>\n",
       "      <td>350</td>\n",
       "      <td>6.000000</td>\n",
       "    </tr>\n",
       "    <tr>\n",
       "      <td>E</td>\n",
       "      <td>20</td>\n",
       "      <td>2</td>\n",
       "      <td>22</td>\n",
       "      <td>9.090909</td>\n",
       "    </tr>\n",
       "  </tbody>\n",
       "</table>\n",
       "</div>"
      ],
      "text/plain": [
       "debt                       0     1  total  percentage of debtors\n",
       "total_income_category                                           \n",
       "A                         23     2     25               8.000000\n",
       "B                       4686   356   5042               7.060690\n",
       "C                      14672  1360  16032               8.483034\n",
       "D                        329    21    350               6.000000\n",
       "E                         20     2     22               9.090909"
      ]
     },
     "execution_count": 42,
     "metadata": {},
     "output_type": "execute_result"
    }
   ],
   "source": [
    "# создадим сводную таблицу:\n",
    "pivot_total_income  = df.pivot_table(index='total_income_category', columns='debt', values='gender', aggfunc='count')\n",
    "\n",
    "# добавим столбец total со значением общего количества заемщиков для конкретной категории:\n",
    "pivot_total_income['total'] = pivot_total_income[0] + pivot_total_income[1] \n",
    "\n",
    "''' добавим столбец percentage of debtors, отражающий процент людей в конкретной категории, \n",
    "которые имеют задолженности:'''\n",
    "pivot_total_income['percentage of debtors'] = (pivot_total_income[1] / pivot_total_income['total'] * 100)\n",
    "\n",
    "# выведем сводную таблицу\n",
    "pivot_total_income"
   ]
  },
  {
   "cell_type": "markdown",
   "id": "8413d5e5",
   "metadata": {},
   "source": [
    "*Классификации доходов:*\n",
    "- 1000001 и выше — 'A';\n",
    "- 200001–1000000 — 'B';\n",
    "- 50001–200000 — 'C';\n",
    "- 30001–50000 — 'D';\n",
    "- 0–30000 — 'E'."
   ]
  },
  {
   "cell_type": "markdown",
   "id": "ef156e42",
   "metadata": {},
   "source": [
    "##### Вывод 3:"
   ]
  },
  {
   "cell_type": "markdown",
   "id": "105df8b8",
   "metadata": {},
   "source": [
    "Большая часть клиентов (16033) имеет доход категории С - 50001–200000 условной валюты. 8% из них имели задолженности. \n",
    "Эта выборка значительно превышает остальные категории, и данный подсчет можно назвать самым достоверным.\n",
    "Наибольшая вероятность (9%), что заемщик просрочит кредит среди людей, чей доход не превышает 30000. Несмотря на то, что это самая маленькая выборка (22 человека), данный подсчет кажется логичным: людям с самым маленьким доходом сложнее всех вернуть кредит в срок.\n",
    "Наименьшая доля должников (6%) среди людей с категорией дохода D (от 30000 до 50000).\n",
    "У первых двух категорий, заемщиков, чей доход превышает 200000, доля должников практически одинаковая: 7-8%. При этом численность выборки А в 200 раз больше, чем выборки В.\n",
    "\n",
    "**Таким образом, яркой корреляции между уровнем дохода заемщика и его вероятностью вернуть кредит в срок нет. Тем не менее, можно предположить, что люди с самым низким доходом (до 30000) с наибольшей вероятностью просрочат выплату.**"
   ]
  },
  {
   "cell_type": "markdown",
   "id": "7bbd78dc",
   "metadata": {},
   "source": [
    "##### Проверка четвертой гипотизы"
   ]
  },
  {
   "cell_type": "markdown",
   "id": "e1e52b44",
   "metadata": {},
   "source": [
    "***Гипотиза №4: Разные цели кредита по-разному влияют на его возврат в срок.***"
   ]
  },
  {
   "cell_type": "markdown",
   "id": "f2977d1f",
   "metadata": {},
   "source": [
    "Для того, чтобы подтвердить, или опровергнуть данную гипотизу, нам необходимо понять, какой процент заемщиков имеет задолженность в каждой категории цели получения кредита. Для этого создадим сводную таблицу pivot_purpose c подсчетами для каждой категории."
   ]
  },
  {
   "cell_type": "code",
   "execution_count": 43,
   "id": "6e7e07a6",
   "metadata": {},
   "outputs": [
    {
     "data": {
      "text/html": [
       "<div>\n",
       "<style scoped>\n",
       "    .dataframe tbody tr th:only-of-type {\n",
       "        vertical-align: middle;\n",
       "    }\n",
       "\n",
       "    .dataframe tbody tr th {\n",
       "        vertical-align: top;\n",
       "    }\n",
       "\n",
       "    .dataframe thead th {\n",
       "        text-align: right;\n",
       "    }\n",
       "</style>\n",
       "<table border=\"1\" class=\"dataframe\">\n",
       "  <thead>\n",
       "    <tr style=\"text-align: right;\">\n",
       "      <th>debt</th>\n",
       "      <th>0</th>\n",
       "      <th>1</th>\n",
       "      <th>total</th>\n",
       "      <th>percentage of debtors</th>\n",
       "    </tr>\n",
       "    <tr>\n",
       "      <th>purpose_category</th>\n",
       "      <th></th>\n",
       "      <th></th>\n",
       "      <th></th>\n",
       "      <th></th>\n",
       "    </tr>\n",
       "  </thead>\n",
       "  <tbody>\n",
       "    <tr>\n",
       "      <td>операции с автомобилем</td>\n",
       "      <td>3905</td>\n",
       "      <td>403</td>\n",
       "      <td>4308</td>\n",
       "      <td>9.354689</td>\n",
       "    </tr>\n",
       "    <tr>\n",
       "      <td>получение образования</td>\n",
       "      <td>3644</td>\n",
       "      <td>370</td>\n",
       "      <td>4014</td>\n",
       "      <td>9.217738</td>\n",
       "    </tr>\n",
       "    <tr>\n",
       "      <td>проведение свадьбы</td>\n",
       "      <td>2149</td>\n",
       "      <td>186</td>\n",
       "      <td>2335</td>\n",
       "      <td>7.965739</td>\n",
       "    </tr>\n",
       "    <tr>\n",
       "      <td>операции с недвижимостью</td>\n",
       "      <td>10032</td>\n",
       "      <td>782</td>\n",
       "      <td>10814</td>\n",
       "      <td>7.231367</td>\n",
       "    </tr>\n",
       "  </tbody>\n",
       "</table>\n",
       "</div>"
      ],
      "text/plain": [
       "debt                          0    1  total  percentage of debtors\n",
       "purpose_category                                                  \n",
       "операции с автомобилем     3905  403   4308               9.354689\n",
       "получение образования      3644  370   4014               9.217738\n",
       "проведение свадьбы         2149  186   2335               7.965739\n",
       "операции с недвижимостью  10032  782  10814               7.231367"
      ]
     },
     "execution_count": 43,
     "metadata": {},
     "output_type": "execute_result"
    }
   ],
   "source": [
    "# создадим сводную таблицу:\n",
    "pivot_purpose = df.pivot_table(index='purpose_category', columns='debt', values='gender', aggfunc='count')\n",
    "\n",
    "# добавим столбец total со значением общего количества заемщиков для конкретной категории:\n",
    "pivot_purpose['total'] = pivot_purpose[0] + pivot_purpose[1] \n",
    "\n",
    "''' добавим столбец percentage of debtors, отражающий процент людей в конкретной категории, \n",
    "которые имеют задолженности:'''\n",
    "pivot_purpose['percentage of debtors'] = (pivot_purpose[1] / pivot_purpose['total']) * 100\n",
    "\n",
    "# выведем отсортированную сводную таблицу\n",
    "pivot_purpose.sort_values(by = 'percentage of debtors', ascending = False)"
   ]
  },
  {
   "cell_type": "markdown",
   "id": "4e352e1d",
   "metadata": {},
   "source": [
    "##### Вывод 4:"
   ]
  },
  {
   "cell_type": "markdown",
   "id": "266a083b",
   "metadata": {},
   "source": [
    "Мы можем наблюдать, что наибольшее количество кредиторов, не вернувших кредит в срок, среди людей, чья цель кредита связана с операцией с автомобилем и с получением образования - 9% от этих заемщиков. \n",
    "В то же время, наименьший процент задолженников среди тех, кто брал кредит для проведения операции с недвижимостью. \n",
    "**Выборки в данном исследовании соизмерими, поэтому можно с уверенностью утверждать, что наиболее 'безопасными' заемщиками для банка являются те, кто брали кредит для операций с недвижимостью. Наименее привлекательные клиенты для банка те, кому нужен кредит для операции с автомобилем, или для получения образования. Гипотиза подтверждается.**"
   ]
  },
  {
   "cell_type": "markdown",
   "id": "e8a13d5e",
   "metadata": {},
   "source": [
    "## Общий вывод:"
   ]
  },
  {
   "cell_type": "markdown",
   "id": "38309247",
   "metadata": {},
   "source": [
    "Благодаря предобработке, мы обнаружили **четыре основные проблемы в данных:**\n",
    "\n",
    "- пропущенные значения,\n",
    "- аномалии,\n",
    "- нарушения в типах данных,\n",
    "- дубликаты — явные и неявные.\n",
    "\n",
    "Значительная часть ошибок произошла по вине человекческого фактора. Сотрудниками банка, которые работают с предоставленной нам таблицей и вносят новые данные, можно порекоммендовать пользоваться единым шаблоном, чтобы избежать новых ошибок.\n",
    "\n",
    "**Были исправлены все проблемы, за исключением:**\n",
    "- должников, чей возраст = 0 лет (таких кредиторов меньше 1%);\n",
    "- трудового стажа \"долгожителей\" (более 18%).\n",
    "\n",
    "Для устранения этих ошибок необходимо обратиться за информацией к сотрудникам банка.\n",
    "\n",
    "\n",
    "**Очистив данные, мы проверили четыре гипотезы, 3 из которых не подтвердились на основании предоставленных данных:**\n",
    "\n",
    "1. На способность потенциального заемщика погасить кредит в срок влияет его семейный статус.\n",
    "2. Количество детей клиента влияет на факт погашения кредита в срок.\n",
    "3. Между уровнем дохода и возвратом кредита в срок сщуествует зависимость.\n",
    "\n",
    "Причиной этому может быть тот факт, что гипотизы неверны, либо корреляция совсем незначительна, для того, чтобы ее отследить, нужно больше данных и более соизмеримые выборки по категориям.\n",
    "\n",
    "**Последняя гипотеза полностью подтвердилась.**\n",
    "\n",
    "4. Разные цели кредита, хоть и незначительно, но по-разному влияют на его возврат в срок:\n",
    "\n",
    "наиболее 'безопасными' заемщиками для банка являются те, кто брали кредит для операций с недвижимостью. Наименее привлекательные клиенты для банка те, кому нужен кредит для операции с автомобилем, или для получения образования."
   ]
  }
 ],
 "metadata": {
  "ExecuteTimeLog": [
   {
    "duration": 837,
    "start_time": "2022-02-21T18:50:14.765Z"
   },
   {
    "duration": 75,
    "start_time": "2022-02-21T18:51:11.042Z"
   },
   {
    "duration": 80,
    "start_time": "2022-02-21T19:24:26.849Z"
   },
   {
    "duration": 87,
    "start_time": "2022-02-21T19:28:06.855Z"
   },
   {
    "duration": 74,
    "start_time": "2022-02-21T19:32:10.830Z"
   },
   {
    "duration": 16,
    "start_time": "2022-02-21T19:33:00.464Z"
   },
   {
    "duration": 129,
    "start_time": "2022-02-21T19:35:01.340Z"
   },
   {
    "duration": 81,
    "start_time": "2022-02-21T20:18:39.495Z"
   },
   {
    "duration": 75,
    "start_time": "2022-02-21T20:18:55.914Z"
   },
   {
    "duration": 12,
    "start_time": "2022-02-21T20:38:58.344Z"
   },
   {
    "duration": 347,
    "start_time": "2022-02-21T20:39:27.915Z"
   },
   {
    "duration": 81,
    "start_time": "2022-02-21T20:39:40.232Z"
   },
   {
    "duration": 98,
    "start_time": "2022-02-21T20:40:23.504Z"
   },
   {
    "duration": 15,
    "start_time": "2022-02-21T20:40:27.824Z"
   },
   {
    "duration": 1839,
    "start_time": "2022-02-21T21:11:13.012Z"
   },
   {
    "duration": 278,
    "start_time": "2022-02-21T21:11:22.826Z"
   },
   {
    "duration": 81,
    "start_time": "2022-02-21T21:11:34.619Z"
   },
   {
    "duration": 16,
    "start_time": "2022-02-21T21:11:34.807Z"
   },
   {
    "duration": 292,
    "start_time": "2022-02-21T21:11:34.826Z"
   },
   {
    "duration": 268,
    "start_time": "2022-02-21T21:11:52.429Z"
   },
   {
    "duration": 21,
    "start_time": "2022-02-21T21:12:54.124Z"
   },
   {
    "duration": 36,
    "start_time": "2022-02-21T21:13:11.654Z"
   },
   {
    "duration": 12,
    "start_time": "2022-02-21T21:13:44.737Z"
   },
   {
    "duration": 7,
    "start_time": "2022-02-21T21:21:08.291Z"
   },
   {
    "duration": 6574,
    "start_time": "2022-02-21T22:10:28.882Z"
   },
   {
    "duration": 867,
    "start_time": "2022-02-21T22:10:46.649Z"
   },
   {
    "duration": 7,
    "start_time": "2022-02-21T22:17:43.359Z"
   },
   {
    "duration": 23,
    "start_time": "2022-02-21T22:17:59.629Z"
   },
   {
    "duration": 75,
    "start_time": "2022-02-21T22:18:17.964Z"
   },
   {
    "duration": 93,
    "start_time": "2022-02-21T22:18:27.200Z"
   },
   {
    "duration": 38,
    "start_time": "2022-02-21T22:18:46.618Z"
   },
   {
    "duration": 37,
    "start_time": "2022-02-21T22:20:11.799Z"
   },
   {
    "duration": 75,
    "start_time": "2022-02-21T22:20:52.942Z"
   },
   {
    "duration": 4,
    "start_time": "2022-02-21T22:21:17.178Z"
   },
   {
    "duration": 4,
    "start_time": "2022-02-21T22:25:47.018Z"
   },
   {
    "duration": 99,
    "start_time": "2022-02-21T22:26:38.287Z"
   },
   {
    "duration": 4,
    "start_time": "2022-02-21T22:28:13.962Z"
   },
   {
    "duration": 8,
    "start_time": "2022-02-21T22:28:17.563Z"
   },
   {
    "duration": 35,
    "start_time": "2022-02-21T22:28:54.395Z"
   },
   {
    "duration": 7,
    "start_time": "2022-02-21T22:29:45.884Z"
   },
   {
    "duration": 19,
    "start_time": "2022-02-21T22:31:20.229Z"
   },
   {
    "duration": 7,
    "start_time": "2022-02-21T22:37:01.193Z"
   },
   {
    "duration": 277,
    "start_time": "2022-02-21T22:37:21.080Z"
   },
   {
    "duration": 7,
    "start_time": "2022-02-21T22:38:16.731Z"
   },
   {
    "duration": 7,
    "start_time": "2022-02-21T22:39:28.777Z"
   },
   {
    "duration": 7,
    "start_time": "2022-02-21T22:39:45.372Z"
   },
   {
    "duration": 77,
    "start_time": "2022-02-21T22:40:21.808Z"
   },
   {
    "duration": 17,
    "start_time": "2022-02-21T22:40:21.887Z"
   },
   {
    "duration": 29,
    "start_time": "2022-02-21T22:40:21.907Z"
   },
   {
    "duration": 86,
    "start_time": "2022-02-21T22:40:21.940Z"
   },
   {
    "duration": 884,
    "start_time": "2022-02-21T22:40:21.145Z"
   },
   {
    "duration": 877,
    "start_time": "2022-02-21T22:40:21.154Z"
   },
   {
    "duration": 876,
    "start_time": "2022-02-21T22:40:21.156Z"
   },
   {
    "duration": 873,
    "start_time": "2022-02-21T22:40:21.161Z"
   },
   {
    "duration": 8,
    "start_time": "2022-02-21T22:40:42.763Z"
   },
   {
    "duration": 5,
    "start_time": "2022-02-21T22:45:47.866Z"
   },
   {
    "duration": 95,
    "start_time": "2022-02-21T22:46:00.778Z"
   },
   {
    "duration": 79,
    "start_time": "2022-02-21T22:46:41.211Z"
   },
   {
    "duration": 9,
    "start_time": "2022-02-21T22:46:55.050Z"
   },
   {
    "duration": 9,
    "start_time": "2022-02-21T22:48:02.422Z"
   },
   {
    "duration": 9,
    "start_time": "2022-02-21T22:48:12.658Z"
   },
   {
    "duration": 258,
    "start_time": "2022-02-21T22:48:38.407Z"
   },
   {
    "duration": 5,
    "start_time": "2022-02-21T22:49:29.462Z"
   },
   {
    "duration": 448,
    "start_time": "2022-02-21T22:49:41.913Z"
   },
   {
    "duration": 8,
    "start_time": "2022-02-21T22:50:20.739Z"
   },
   {
    "duration": 11,
    "start_time": "2022-02-21T22:51:11.578Z"
   },
   {
    "duration": 959,
    "start_time": "2022-02-22T19:25:35.298Z"
   },
   {
    "duration": 19,
    "start_time": "2022-02-22T19:25:36.260Z"
   },
   {
    "duration": 43,
    "start_time": "2022-02-22T19:25:36.283Z"
   },
   {
    "duration": 19,
    "start_time": "2022-02-22T19:25:36.329Z"
   },
   {
    "duration": 10,
    "start_time": "2022-02-22T19:25:36.354Z"
   },
   {
    "duration": 11,
    "start_time": "2022-02-22T19:25:36.367Z"
   },
   {
    "duration": 16,
    "start_time": "2022-02-22T19:25:36.380Z"
   },
   {
    "duration": 20,
    "start_time": "2022-02-22T19:25:36.426Z"
   },
   {
    "duration": 76,
    "start_time": "2022-02-22T19:53:15.844Z"
   },
   {
    "duration": 8,
    "start_time": "2022-02-22T19:53:54.339Z"
   },
   {
    "duration": 10,
    "start_time": "2022-02-22T19:54:28.556Z"
   },
   {
    "duration": 868,
    "start_time": "2022-02-22T19:54:41.418Z"
   },
   {
    "duration": 16,
    "start_time": "2022-02-22T19:54:42.289Z"
   },
   {
    "duration": 26,
    "start_time": "2022-02-22T19:54:42.311Z"
   },
   {
    "duration": 13,
    "start_time": "2022-02-22T19:54:42.339Z"
   },
   {
    "duration": 6,
    "start_time": "2022-02-22T19:54:42.354Z"
   },
   {
    "duration": 5,
    "start_time": "2022-02-22T19:54:42.362Z"
   },
   {
    "duration": 57,
    "start_time": "2022-02-22T19:54:42.369Z"
   },
   {
    "duration": 13,
    "start_time": "2022-02-22T19:54:42.430Z"
   },
   {
    "duration": 1558,
    "start_time": "2022-02-22T19:55:21.184Z"
   },
   {
    "duration": 6209,
    "start_time": "2022-02-22T19:55:27.007Z"
   },
   {
    "duration": 6448,
    "start_time": "2022-02-22T19:55:34.425Z"
   },
   {
    "duration": 13,
    "start_time": "2022-02-22T19:55:42.440Z"
   },
   {
    "duration": 15,
    "start_time": "2022-02-22T19:55:52.233Z"
   },
   {
    "duration": 79,
    "start_time": "2022-02-22T19:56:11.089Z"
   },
   {
    "duration": 16,
    "start_time": "2022-02-22T19:56:11.170Z"
   },
   {
    "duration": 14,
    "start_time": "2022-02-22T19:56:11.189Z"
   },
   {
    "duration": 5962,
    "start_time": "2022-02-22T19:56:11.226Z"
   },
   {
    "duration": 1553,
    "start_time": "2022-02-22T19:56:15.638Z"
   },
   {
    "duration": 1553,
    "start_time": "2022-02-22T19:56:15.640Z"
   },
   {
    "duration": 1539,
    "start_time": "2022-02-22T19:56:15.655Z"
   },
   {
    "duration": 1539,
    "start_time": "2022-02-22T19:56:15.657Z"
   },
   {
    "duration": 14,
    "start_time": "2022-02-22T19:56:17.292Z"
   },
   {
    "duration": 6416,
    "start_time": "2022-02-22T19:56:23.904Z"
   },
   {
    "duration": 13,
    "start_time": "2022-02-22T19:56:33.920Z"
   },
   {
    "duration": 9,
    "start_time": "2022-02-22T19:56:43.988Z"
   },
   {
    "duration": 75,
    "start_time": "2022-02-22T20:01:48.375Z"
   },
   {
    "duration": 15,
    "start_time": "2022-02-22T20:01:48.452Z"
   },
   {
    "duration": 12,
    "start_time": "2022-02-22T20:01:48.471Z"
   },
   {
    "duration": 9,
    "start_time": "2022-02-22T20:01:48.486Z"
   },
   {
    "duration": 5,
    "start_time": "2022-02-22T20:01:48.527Z"
   },
   {
    "duration": 5,
    "start_time": "2022-02-22T20:01:48.534Z"
   },
   {
    "duration": 13,
    "start_time": "2022-02-22T20:01:48.542Z"
   },
   {
    "duration": 15,
    "start_time": "2022-02-22T20:01:48.559Z"
   },
   {
    "duration": 8,
    "start_time": "2022-02-22T20:07:28.370Z"
   },
   {
    "duration": 7,
    "start_time": "2022-02-22T20:07:47.306Z"
   },
   {
    "duration": 8,
    "start_time": "2022-02-22T20:07:55.946Z"
   },
   {
    "duration": 75,
    "start_time": "2022-02-22T20:08:07.173Z"
   },
   {
    "duration": 17,
    "start_time": "2022-02-22T20:08:07.251Z"
   },
   {
    "duration": 14,
    "start_time": "2022-02-22T20:08:07.273Z"
   },
   {
    "duration": 37,
    "start_time": "2022-02-22T20:08:07.290Z"
   },
   {
    "duration": 9,
    "start_time": "2022-02-22T20:08:07.330Z"
   },
   {
    "duration": 4,
    "start_time": "2022-02-22T20:08:07.342Z"
   },
   {
    "duration": 9,
    "start_time": "2022-02-22T20:08:07.348Z"
   },
   {
    "duration": 13,
    "start_time": "2022-02-22T20:08:07.360Z"
   },
   {
    "duration": 7,
    "start_time": "2022-02-22T20:08:31.818Z"
   },
   {
    "duration": 73,
    "start_time": "2022-02-22T20:08:39.403Z"
   },
   {
    "duration": 14,
    "start_time": "2022-02-22T20:08:39.479Z"
   },
   {
    "duration": 33,
    "start_time": "2022-02-22T20:08:39.496Z"
   },
   {
    "duration": 6,
    "start_time": "2022-02-22T20:08:39.532Z"
   },
   {
    "duration": 6,
    "start_time": "2022-02-22T20:08:39.541Z"
   },
   {
    "duration": 7,
    "start_time": "2022-02-22T20:08:39.550Z"
   },
   {
    "duration": 10,
    "start_time": "2022-02-22T20:08:39.559Z"
   },
   {
    "duration": 13,
    "start_time": "2022-02-22T20:08:39.571Z"
   },
   {
    "duration": 6,
    "start_time": "2022-02-22T20:09:31.031Z"
   },
   {
    "duration": 8,
    "start_time": "2022-02-22T20:11:01.797Z"
   },
   {
    "duration": 76,
    "start_time": "2022-02-22T20:11:06.000Z"
   },
   {
    "duration": 15,
    "start_time": "2022-02-22T20:11:06.079Z"
   },
   {
    "duration": 39,
    "start_time": "2022-02-22T20:11:06.098Z"
   },
   {
    "duration": 11,
    "start_time": "2022-02-22T20:11:06.140Z"
   },
   {
    "duration": 14,
    "start_time": "2022-02-22T20:11:06.154Z"
   },
   {
    "duration": 14,
    "start_time": "2022-02-22T20:11:06.170Z"
   },
   {
    "duration": 14,
    "start_time": "2022-02-22T20:11:06.186Z"
   },
   {
    "duration": 33,
    "start_time": "2022-02-22T20:11:06.203Z"
   },
   {
    "duration": 8,
    "start_time": "2022-02-22T20:11:23.108Z"
   },
   {
    "duration": 78,
    "start_time": "2022-02-22T20:11:41.936Z"
   },
   {
    "duration": 20,
    "start_time": "2022-02-22T20:11:42.018Z"
   },
   {
    "duration": 13,
    "start_time": "2022-02-22T20:11:42.041Z"
   },
   {
    "duration": 8,
    "start_time": "2022-02-22T20:11:42.057Z"
   },
   {
    "duration": 4,
    "start_time": "2022-02-22T20:11:42.068Z"
   },
   {
    "duration": 53,
    "start_time": "2022-02-22T20:11:42.074Z"
   },
   {
    "duration": 14,
    "start_time": "2022-02-22T20:11:42.130Z"
   },
   {
    "duration": 77,
    "start_time": "2022-02-22T20:12:00.245Z"
   },
   {
    "duration": 19,
    "start_time": "2022-02-22T20:12:00.325Z"
   },
   {
    "duration": 24,
    "start_time": "2022-02-22T20:12:00.348Z"
   },
   {
    "duration": 9,
    "start_time": "2022-02-22T20:12:03.985Z"
   },
   {
    "duration": 81,
    "start_time": "2022-02-22T20:12:57.315Z"
   },
   {
    "duration": 9,
    "start_time": "2022-02-22T20:13:03.233Z"
   },
   {
    "duration": 88,
    "start_time": "2022-02-22T20:13:16.646Z"
   },
   {
    "duration": 8,
    "start_time": "2022-02-22T20:14:00.082Z"
   },
   {
    "duration": 75,
    "start_time": "2022-02-22T20:14:33.821Z"
   },
   {
    "duration": 9,
    "start_time": "2022-02-22T20:14:38.191Z"
   },
   {
    "duration": 8,
    "start_time": "2022-02-22T20:16:57.095Z"
   },
   {
    "duration": 77,
    "start_time": "2022-02-22T20:26:54.405Z"
   },
   {
    "duration": 88,
    "start_time": "2022-02-22T20:27:04.009Z"
   },
   {
    "duration": 75,
    "start_time": "2022-02-22T20:29:06.213Z"
   },
   {
    "duration": 241,
    "start_time": "2022-02-22T20:30:31.794Z"
   },
   {
    "duration": 21,
    "start_time": "2022-02-22T20:32:01.245Z"
   },
   {
    "duration": 24,
    "start_time": "2022-02-22T20:32:20.707Z"
   },
   {
    "duration": 90,
    "start_time": "2022-02-22T20:33:31.587Z"
   },
   {
    "duration": 26,
    "start_time": "2022-02-22T20:36:17.175Z"
   },
   {
    "duration": 23,
    "start_time": "2022-02-22T20:36:47.357Z"
   },
   {
    "duration": 27,
    "start_time": "2022-02-22T22:01:20.878Z"
   },
   {
    "duration": 28,
    "start_time": "2022-02-22T22:01:39.232Z"
   },
   {
    "duration": 33,
    "start_time": "2022-02-22T22:01:44.937Z"
   },
   {
    "duration": 44,
    "start_time": "2022-02-22T22:02:04.654Z"
   },
   {
    "duration": 25,
    "start_time": "2022-02-22T22:02:32.176Z"
   },
   {
    "duration": 24,
    "start_time": "2022-02-22T22:02:48.435Z"
   },
   {
    "duration": 10,
    "start_time": "2022-02-22T22:06:08.947Z"
   },
   {
    "duration": 83,
    "start_time": "2022-02-22T22:12:55.592Z"
   },
   {
    "duration": 79,
    "start_time": "2022-02-22T22:18:53.179Z"
   },
   {
    "duration": 16,
    "start_time": "2022-02-22T22:18:53.261Z"
   },
   {
    "duration": 14,
    "start_time": "2022-02-22T22:18:53.280Z"
   },
   {
    "duration": 33,
    "start_time": "2022-02-22T22:18:53.298Z"
   },
   {
    "duration": 29,
    "start_time": "2022-02-22T22:18:53.334Z"
   },
   {
    "duration": 6,
    "start_time": "2022-02-22T22:18:53.366Z"
   },
   {
    "duration": 10,
    "start_time": "2022-02-22T22:18:53.374Z"
   },
   {
    "duration": 47,
    "start_time": "2022-02-22T22:18:53.386Z"
   },
   {
    "duration": 813,
    "start_time": "2022-02-22T22:25:28.776Z"
   },
   {
    "duration": 15,
    "start_time": "2022-02-22T22:25:29.592Z"
   },
   {
    "duration": 25,
    "start_time": "2022-02-22T22:25:29.610Z"
   },
   {
    "duration": 8,
    "start_time": "2022-02-22T22:25:29.638Z"
   },
   {
    "duration": 25,
    "start_time": "2022-02-22T22:25:29.649Z"
   },
   {
    "duration": 4,
    "start_time": "2022-02-22T22:25:29.676Z"
   },
   {
    "duration": 44,
    "start_time": "2022-02-22T22:25:29.683Z"
   },
   {
    "duration": 16,
    "start_time": "2022-02-22T22:25:29.730Z"
   },
   {
    "duration": 832,
    "start_time": "2022-02-22T22:35:36.573Z"
   },
   {
    "duration": 23,
    "start_time": "2022-02-22T22:35:37.408Z"
   },
   {
    "duration": 19,
    "start_time": "2022-02-22T22:35:37.435Z"
   },
   {
    "duration": 14,
    "start_time": "2022-02-22T22:35:37.457Z"
   },
   {
    "duration": 58,
    "start_time": "2022-02-22T22:35:37.474Z"
   },
   {
    "duration": 5,
    "start_time": "2022-02-22T22:35:37.535Z"
   },
   {
    "duration": 11,
    "start_time": "2022-02-22T22:35:37.543Z"
   },
   {
    "duration": 15,
    "start_time": "2022-02-22T22:35:37.557Z"
   },
   {
    "duration": 6,
    "start_time": "2022-02-22T22:43:42.227Z"
   },
   {
    "duration": 8,
    "start_time": "2022-02-22T22:44:32.879Z"
   },
   {
    "duration": 13,
    "start_time": "2022-02-22T22:44:45.973Z"
   },
   {
    "duration": 20,
    "start_time": "2022-02-22T22:45:04.914Z"
   },
   {
    "duration": 84,
    "start_time": "2022-02-22T22:49:55.449Z"
   },
   {
    "duration": 985,
    "start_time": "2022-02-22T22:50:00.222Z"
   },
   {
    "duration": 2742,
    "start_time": "2022-02-22T23:12:43.227Z"
   },
   {
    "duration": 1793,
    "start_time": "2022-02-22T23:12:47.799Z"
   },
   {
    "duration": 264,
    "start_time": "2022-02-22T23:14:03.792Z"
   },
   {
    "duration": 75,
    "start_time": "2022-02-22T23:22:44.935Z"
   },
   {
    "duration": 746,
    "start_time": "2022-02-22T23:22:49.556Z"
   },
   {
    "duration": 258,
    "start_time": "2022-02-22T23:23:02.183Z"
   },
   {
    "duration": 249,
    "start_time": "2022-02-22T23:34:30.024Z"
   },
   {
    "duration": 1797,
    "start_time": "2022-02-22T23:35:33.463Z"
   },
   {
    "duration": 863,
    "start_time": "2022-02-22T23:37:40.922Z"
   },
   {
    "duration": 16,
    "start_time": "2022-02-22T23:37:41.787Z"
   },
   {
    "duration": 25,
    "start_time": "2022-02-22T23:37:41.806Z"
   },
   {
    "duration": 8,
    "start_time": "2022-02-22T23:37:41.834Z"
   },
   {
    "duration": 23,
    "start_time": "2022-02-22T23:37:41.844Z"
   },
   {
    "duration": 3,
    "start_time": "2022-02-22T23:37:41.870Z"
   },
   {
    "duration": 15,
    "start_time": "2022-02-22T23:37:41.876Z"
   },
   {
    "duration": 13,
    "start_time": "2022-02-22T23:37:41.928Z"
   },
   {
    "duration": 79,
    "start_time": "2022-02-22T23:43:31.545Z"
   },
   {
    "duration": 15,
    "start_time": "2022-02-22T23:43:34.497Z"
   },
   {
    "duration": 7,
    "start_time": "2022-02-22T23:44:39.022Z"
   },
   {
    "duration": 337,
    "start_time": "2022-02-22T23:44:53.704Z"
   },
   {
    "duration": 6,
    "start_time": "2022-02-22T23:46:23.955Z"
   },
   {
    "duration": 6,
    "start_time": "2022-02-22T23:46:36.758Z"
   },
   {
    "duration": 5,
    "start_time": "2022-02-22T23:47:12.927Z"
   },
   {
    "duration": 1114,
    "start_time": "2022-02-22T23:48:13.454Z"
   },
   {
    "duration": 611,
    "start_time": "2022-02-22T23:48:32.262Z"
   },
   {
    "duration": 291,
    "start_time": "2022-02-22T23:48:50.647Z"
   },
   {
    "duration": 628,
    "start_time": "2022-02-22T23:49:00.077Z"
   },
   {
    "duration": 3889,
    "start_time": "2022-02-22T23:49:16.595Z"
   },
   {
    "duration": 884,
    "start_time": "2022-02-22T23:49:58.736Z"
   },
   {
    "duration": 504,
    "start_time": "2022-02-22T23:52:08.448Z"
   },
   {
    "duration": 11,
    "start_time": "2022-02-22T23:57:11.385Z"
   },
   {
    "duration": 12,
    "start_time": "2022-02-22T23:57:33.003Z"
   },
   {
    "duration": 325,
    "start_time": "2022-02-22T23:59:08.216Z"
   },
   {
    "duration": 277,
    "start_time": "2022-02-22T23:59:34.426Z"
   },
   {
    "duration": 6,
    "start_time": "2022-02-23T00:02:21.872Z"
   },
   {
    "duration": 250,
    "start_time": "2022-02-23T00:03:10.319Z"
   },
   {
    "duration": 260,
    "start_time": "2022-02-23T00:03:20.549Z"
   },
   {
    "duration": 43,
    "start_time": "2022-02-23T00:04:13.967Z"
   },
   {
    "duration": 41,
    "start_time": "2022-02-23T00:04:35.903Z"
   },
   {
    "duration": 6,
    "start_time": "2022-02-23T00:05:12.535Z"
   },
   {
    "duration": 4,
    "start_time": "2022-02-23T00:05:45.521Z"
   },
   {
    "duration": 5,
    "start_time": "2022-02-23T00:05:48.193Z"
   },
   {
    "duration": 5,
    "start_time": "2022-02-23T00:06:09.332Z"
   },
   {
    "duration": 274,
    "start_time": "2022-02-23T00:06:13.236Z"
   },
   {
    "duration": 4,
    "start_time": "2022-02-23T00:06:19.019Z"
   },
   {
    "duration": 5,
    "start_time": "2022-02-23T00:06:21.001Z"
   },
   {
    "duration": 7,
    "start_time": "2022-02-23T00:06:26.998Z"
   },
   {
    "duration": 5802,
    "start_time": "2022-02-23T00:08:37.995Z"
   },
   {
    "duration": 6,
    "start_time": "2022-02-23T00:08:46.275Z"
   },
   {
    "duration": 8,
    "start_time": "2022-02-23T00:08:58.661Z"
   },
   {
    "duration": 17,
    "start_time": "2022-02-23T00:10:17.060Z"
   },
   {
    "duration": 16,
    "start_time": "2022-02-23T00:13:06.579Z"
   },
   {
    "duration": 252,
    "start_time": "2022-02-23T00:13:45.963Z"
   },
   {
    "duration": 7,
    "start_time": "2022-02-23T00:13:50.146Z"
   },
   {
    "duration": 36,
    "start_time": "2022-02-23T00:14:08.170Z"
   },
   {
    "duration": 7,
    "start_time": "2022-02-23T00:16:55.771Z"
   },
   {
    "duration": 8,
    "start_time": "2022-02-23T00:17:19.623Z"
   },
   {
    "duration": -234,
    "start_time": "2022-02-23T00:17:48.991Z"
   },
   {
    "duration": 8,
    "start_time": "2022-02-23T00:18:03.251Z"
   },
   {
    "duration": 7,
    "start_time": "2022-02-23T00:20:01.968Z"
   },
   {
    "duration": 267,
    "start_time": "2022-02-23T00:20:36.214Z"
   },
   {
    "duration": 250,
    "start_time": "2022-02-23T00:20:53.133Z"
   },
   {
    "duration": 620,
    "start_time": "2022-02-23T00:21:01.535Z"
   },
   {
    "duration": 6858,
    "start_time": "2022-02-23T00:25:01.468Z"
   },
   {
    "duration": 8,
    "start_time": "2022-02-23T00:25:14.862Z"
   },
   {
    "duration": 257,
    "start_time": "2022-02-23T00:29:20.468Z"
   },
   {
    "duration": 251,
    "start_time": "2022-02-23T00:30:49.213Z"
   },
   {
    "duration": 5,
    "start_time": "2022-02-23T00:32:55.776Z"
   },
   {
    "duration": 39,
    "start_time": "2022-02-23T00:33:08.891Z"
   },
   {
    "duration": 5,
    "start_time": "2022-02-23T00:34:49.656Z"
   },
   {
    "duration": 5,
    "start_time": "2022-02-23T00:35:43.426Z"
   },
   {
    "duration": 664,
    "start_time": "2022-02-23T00:35:50.271Z"
   },
   {
    "duration": 7,
    "start_time": "2022-02-23T00:36:22.544Z"
   },
   {
    "duration": 7,
    "start_time": "2022-02-23T00:37:59.984Z"
   },
   {
    "duration": 75,
    "start_time": "2022-02-23T15:38:14.223Z"
   },
   {
    "duration": 14,
    "start_time": "2022-02-23T15:38:14.301Z"
   },
   {
    "duration": 12,
    "start_time": "2022-02-23T15:38:14.318Z"
   },
   {
    "duration": 32,
    "start_time": "2022-02-23T15:38:14.333Z"
   },
   {
    "duration": 23,
    "start_time": "2022-02-23T15:38:14.367Z"
   },
   {
    "duration": 5,
    "start_time": "2022-02-23T15:38:14.392Z"
   },
   {
    "duration": 10,
    "start_time": "2022-02-23T15:38:14.399Z"
   },
   {
    "duration": 12,
    "start_time": "2022-02-23T15:38:14.462Z"
   },
   {
    "duration": 3,
    "start_time": "2022-02-23T15:38:14.478Z"
   },
   {
    "duration": 5,
    "start_time": "2022-02-23T15:38:14.484Z"
   },
   {
    "duration": 7,
    "start_time": "2022-02-23T15:38:14.492Z"
   },
   {
    "duration": 731,
    "start_time": "2022-02-23T15:38:14.501Z"
   },
   {
    "duration": 9,
    "start_time": "2022-02-23T15:38:15.235Z"
   },
   {
    "duration": 10,
    "start_time": "2022-02-23T15:38:15.263Z"
   },
   {
    "duration": 15,
    "start_time": "2022-02-23T15:38:15.276Z"
   },
   {
    "duration": 84,
    "start_time": "2022-02-23T15:38:15.294Z"
   },
   {
    "duration": 91,
    "start_time": "2022-02-23T15:42:06.211Z"
   },
   {
    "duration": 339,
    "start_time": "2022-02-24T09:24:01.738Z"
   },
   {
    "duration": 697,
    "start_time": "2022-02-24T09:24:09.625Z"
   },
   {
    "duration": 12,
    "start_time": "2022-02-24T09:24:10.324Z"
   },
   {
    "duration": 10,
    "start_time": "2022-02-24T09:24:10.338Z"
   },
   {
    "duration": 24,
    "start_time": "2022-02-24T09:24:10.350Z"
   },
   {
    "duration": 19,
    "start_time": "2022-02-24T09:24:10.375Z"
   },
   {
    "duration": 3,
    "start_time": "2022-02-24T09:24:10.396Z"
   },
   {
    "duration": 10,
    "start_time": "2022-02-24T09:24:10.400Z"
   },
   {
    "duration": 10,
    "start_time": "2022-02-24T09:24:10.413Z"
   },
   {
    "duration": 48,
    "start_time": "2022-02-24T09:24:10.425Z"
   },
   {
    "duration": 8,
    "start_time": "2022-02-24T09:24:10.475Z"
   },
   {
    "duration": 8,
    "start_time": "2022-02-24T09:24:10.485Z"
   },
   {
    "duration": 6,
    "start_time": "2022-02-24T09:24:10.495Z"
   },
   {
    "duration": 1136,
    "start_time": "2022-02-24T09:24:10.504Z"
   },
   {
    "duration": 6,
    "start_time": "2022-02-24T09:24:11.642Z"
   },
   {
    "duration": 21,
    "start_time": "2022-02-24T09:24:11.650Z"
   },
   {
    "duration": 8,
    "start_time": "2022-02-24T09:24:11.672Z"
   },
   {
    "duration": 25,
    "start_time": "2022-02-24T09:24:11.682Z"
   },
   {
    "duration": 5,
    "start_time": "2022-02-24T09:26:29.249Z"
   },
   {
    "duration": 6,
    "start_time": "2022-02-24T09:26:43.985Z"
   },
   {
    "duration": 67,
    "start_time": "2022-02-24T09:27:12.937Z"
   },
   {
    "duration": 12,
    "start_time": "2022-02-24T09:27:13.006Z"
   },
   {
    "duration": 13,
    "start_time": "2022-02-24T09:27:13.020Z"
   },
   {
    "duration": 35,
    "start_time": "2022-02-24T09:27:13.035Z"
   },
   {
    "duration": 21,
    "start_time": "2022-02-24T09:27:13.072Z"
   },
   {
    "duration": 4,
    "start_time": "2022-02-24T09:27:13.094Z"
   },
   {
    "duration": 9,
    "start_time": "2022-02-24T09:27:13.100Z"
   },
   {
    "duration": 12,
    "start_time": "2022-02-24T09:27:13.112Z"
   },
   {
    "duration": 5,
    "start_time": "2022-02-24T09:27:13.225Z"
   },
   {
    "duration": 14,
    "start_time": "2022-02-24T09:27:13.232Z"
   },
   {
    "duration": 9,
    "start_time": "2022-02-24T09:27:13.249Z"
   },
   {
    "duration": 7,
    "start_time": "2022-02-24T09:27:13.260Z"
   },
   {
    "duration": 452,
    "start_time": "2022-02-24T09:27:13.269Z"
   },
   {
    "duration": 6,
    "start_time": "2022-02-24T09:27:13.723Z"
   },
   {
    "duration": 10,
    "start_time": "2022-02-24T09:27:13.730Z"
   },
   {
    "duration": 35,
    "start_time": "2022-02-24T09:27:13.742Z"
   },
   {
    "duration": 25,
    "start_time": "2022-02-24T09:27:13.780Z"
   },
   {
    "duration": 5,
    "start_time": "2022-02-24T09:27:21.155Z"
   },
   {
    "duration": 85,
    "start_time": "2022-02-24T09:27:25.210Z"
   },
   {
    "duration": 11,
    "start_time": "2022-02-24T09:27:25.297Z"
   },
   {
    "duration": 14,
    "start_time": "2022-02-24T09:27:25.311Z"
   },
   {
    "duration": 6,
    "start_time": "2022-02-24T09:27:25.327Z"
   },
   {
    "duration": 45,
    "start_time": "2022-02-24T09:27:25.335Z"
   },
   {
    "duration": 3,
    "start_time": "2022-02-24T09:27:25.382Z"
   },
   {
    "duration": 9,
    "start_time": "2022-02-24T09:27:25.386Z"
   },
   {
    "duration": 9,
    "start_time": "2022-02-24T09:27:25.397Z"
   },
   {
    "duration": 6,
    "start_time": "2022-02-24T09:27:25.409Z"
   },
   {
    "duration": 6,
    "start_time": "2022-02-24T09:27:25.417Z"
   },
   {
    "duration": 46,
    "start_time": "2022-02-24T09:27:25.424Z"
   },
   {
    "duration": 10,
    "start_time": "2022-02-24T09:27:25.472Z"
   },
   {
    "duration": 473,
    "start_time": "2022-02-24T09:27:25.484Z"
   },
   {
    "duration": 6,
    "start_time": "2022-02-24T09:27:25.958Z"
   },
   {
    "duration": 14,
    "start_time": "2022-02-24T09:27:25.969Z"
   },
   {
    "duration": 14,
    "start_time": "2022-02-24T09:27:25.985Z"
   },
   {
    "duration": 40,
    "start_time": "2022-02-24T09:27:26.001Z"
   },
   {
    "duration": 4,
    "start_time": "2022-02-24T09:54:27.444Z"
   },
   {
    "duration": 6,
    "start_time": "2022-02-24T09:54:33.790Z"
   },
   {
    "duration": 79,
    "start_time": "2022-02-24T09:54:46.383Z"
   },
   {
    "duration": 13,
    "start_time": "2022-02-24T09:54:46.464Z"
   },
   {
    "duration": 13,
    "start_time": "2022-02-24T09:54:46.479Z"
   },
   {
    "duration": 8,
    "start_time": "2022-02-24T09:54:46.494Z"
   },
   {
    "duration": 21,
    "start_time": "2022-02-24T09:54:46.504Z"
   },
   {
    "duration": 3,
    "start_time": "2022-02-24T09:54:46.527Z"
   },
   {
    "duration": 38,
    "start_time": "2022-02-24T09:54:46.532Z"
   },
   {
    "duration": 15,
    "start_time": "2022-02-24T09:54:46.572Z"
   },
   {
    "duration": 5,
    "start_time": "2022-02-24T09:54:46.664Z"
   },
   {
    "duration": 8,
    "start_time": "2022-02-24T09:54:46.671Z"
   },
   {
    "duration": 4,
    "start_time": "2022-02-24T09:54:46.925Z"
   },
   {
    "duration": 24,
    "start_time": "2022-02-24T09:54:46.931Z"
   },
   {
    "duration": 23,
    "start_time": "2022-02-24T09:54:46.958Z"
   },
   {
    "duration": 468,
    "start_time": "2022-02-24T09:54:46.983Z"
   },
   {
    "duration": 6,
    "start_time": "2022-02-24T09:54:47.453Z"
   },
   {
    "duration": 12,
    "start_time": "2022-02-24T09:54:47.469Z"
   },
   {
    "duration": 32,
    "start_time": "2022-02-24T09:54:47.483Z"
   },
   {
    "duration": 31,
    "start_time": "2022-02-24T09:54:47.517Z"
   },
   {
    "duration": 4,
    "start_time": "2022-02-24T09:57:46.080Z"
   },
   {
    "duration": 7,
    "start_time": "2022-02-24T09:57:47.701Z"
   },
   {
    "duration": 66,
    "start_time": "2022-02-24T09:57:50.998Z"
   },
   {
    "duration": 13,
    "start_time": "2022-02-24T09:57:51.066Z"
   },
   {
    "duration": 14,
    "start_time": "2022-02-24T09:57:51.082Z"
   },
   {
    "duration": 19,
    "start_time": "2022-02-24T09:57:51.098Z"
   },
   {
    "duration": 36,
    "start_time": "2022-02-24T09:57:51.119Z"
   },
   {
    "duration": 12,
    "start_time": "2022-02-24T09:57:51.157Z"
   },
   {
    "duration": 17,
    "start_time": "2022-02-24T09:57:51.171Z"
   },
   {
    "duration": 10,
    "start_time": "2022-02-24T09:57:51.191Z"
   },
   {
    "duration": 26,
    "start_time": "2022-02-24T09:57:51.203Z"
   },
   {
    "duration": 27,
    "start_time": "2022-02-24T09:57:51.231Z"
   },
   {
    "duration": 10,
    "start_time": "2022-02-24T09:57:51.260Z"
   },
   {
    "duration": 28,
    "start_time": "2022-02-24T09:57:51.272Z"
   },
   {
    "duration": 87,
    "start_time": "2022-02-24T09:57:51.303Z"
   },
   {
    "duration": 466,
    "start_time": "2022-02-24T09:57:51.393Z"
   },
   {
    "duration": 11,
    "start_time": "2022-02-24T09:57:51.861Z"
   },
   {
    "duration": 27,
    "start_time": "2022-02-24T09:57:51.874Z"
   },
   {
    "duration": 20,
    "start_time": "2022-02-24T09:57:51.903Z"
   },
   {
    "duration": 39,
    "start_time": "2022-02-24T09:57:51.925Z"
   },
   {
    "duration": 5,
    "start_time": "2022-02-24T10:16:39.340Z"
   },
   {
    "duration": 5,
    "start_time": "2022-02-24T10:16:41.854Z"
   },
   {
    "duration": 5,
    "start_time": "2022-02-24T10:16:57.749Z"
   },
   {
    "duration": 344,
    "start_time": "2022-02-24T10:17:17.947Z"
   },
   {
    "duration": 66,
    "start_time": "2022-02-24T10:17:22.961Z"
   },
   {
    "duration": 11,
    "start_time": "2022-02-24T10:17:23.029Z"
   },
   {
    "duration": 30,
    "start_time": "2022-02-24T10:17:23.043Z"
   },
   {
    "duration": 6,
    "start_time": "2022-02-24T10:17:23.075Z"
   },
   {
    "duration": 28,
    "start_time": "2022-02-24T10:17:23.083Z"
   },
   {
    "duration": 3,
    "start_time": "2022-02-24T10:17:23.113Z"
   },
   {
    "duration": 9,
    "start_time": "2022-02-24T10:17:23.118Z"
   },
   {
    "duration": 9,
    "start_time": "2022-02-24T10:17:23.130Z"
   },
   {
    "duration": 16,
    "start_time": "2022-02-24T10:17:23.248Z"
   },
   {
    "duration": 17,
    "start_time": "2022-02-24T10:17:23.266Z"
   },
   {
    "duration": 16,
    "start_time": "2022-02-24T10:17:23.286Z"
   },
   {
    "duration": 14,
    "start_time": "2022-02-24T10:17:23.304Z"
   },
   {
    "duration": 447,
    "start_time": "2022-02-24T10:17:23.320Z"
   },
   {
    "duration": 6,
    "start_time": "2022-02-24T10:17:23.769Z"
   },
   {
    "duration": 13,
    "start_time": "2022-02-24T10:17:23.776Z"
   },
   {
    "duration": 9,
    "start_time": "2022-02-24T10:17:23.791Z"
   },
   {
    "duration": 24,
    "start_time": "2022-02-24T10:17:23.802Z"
   },
   {
    "duration": 7,
    "start_time": "2022-02-24T10:17:36.586Z"
   },
   {
    "duration": 8,
    "start_time": "2022-02-24T10:19:03.802Z"
   },
   {
    "duration": 9,
    "start_time": "2022-02-24T10:20:39.656Z"
   },
   {
    "duration": 257,
    "start_time": "2022-02-24T10:20:59.591Z"
   },
   {
    "duration": 10,
    "start_time": "2022-02-24T10:21:28.138Z"
   },
   {
    "duration": 23,
    "start_time": "2022-02-24T10:22:09.891Z"
   },
   {
    "duration": 338,
    "start_time": "2022-02-24T10:23:21.542Z"
   },
   {
    "duration": 4,
    "start_time": "2022-02-24T10:23:26.535Z"
   },
   {
    "duration": 24,
    "start_time": "2022-02-24T10:33:12.997Z"
   },
   {
    "duration": 22,
    "start_time": "2022-02-24T10:33:42.425Z"
   },
   {
    "duration": 101,
    "start_time": "2022-02-24T11:16:19.021Z"
   },
   {
    "duration": 68,
    "start_time": "2022-02-24T11:16:28.172Z"
   },
   {
    "duration": 15,
    "start_time": "2022-02-24T11:16:28.242Z"
   },
   {
    "duration": 21,
    "start_time": "2022-02-24T11:16:28.260Z"
   },
   {
    "duration": 8,
    "start_time": "2022-02-24T11:16:28.283Z"
   },
   {
    "duration": 19,
    "start_time": "2022-02-24T11:16:28.294Z"
   },
   {
    "duration": 4,
    "start_time": "2022-02-24T11:16:28.315Z"
   },
   {
    "duration": 53,
    "start_time": "2022-02-24T11:16:28.321Z"
   },
   {
    "duration": 11,
    "start_time": "2022-02-24T11:16:28.376Z"
   },
   {
    "duration": 155,
    "start_time": "2022-02-24T11:16:28.473Z"
   },
   {
    "duration": 825,
    "start_time": "2022-02-24T11:16:27.805Z"
   },
   {
    "duration": 823,
    "start_time": "2022-02-24T11:16:27.808Z"
   },
   {
    "duration": 822,
    "start_time": "2022-02-24T11:16:27.810Z"
   },
   {
    "duration": 821,
    "start_time": "2022-02-24T11:16:27.812Z"
   },
   {
    "duration": 819,
    "start_time": "2022-02-24T11:16:27.815Z"
   },
   {
    "duration": 818,
    "start_time": "2022-02-24T11:16:27.817Z"
   },
   {
    "duration": 816,
    "start_time": "2022-02-24T11:16:27.820Z"
   },
   {
    "duration": 816,
    "start_time": "2022-02-24T11:16:27.822Z"
   },
   {
    "duration": 814,
    "start_time": "2022-02-24T11:16:27.824Z"
   },
   {
    "duration": 813,
    "start_time": "2022-02-24T11:16:27.826Z"
   },
   {
    "duration": 812,
    "start_time": "2022-02-24T11:16:27.829Z"
   },
   {
    "duration": 8,
    "start_time": "2022-02-24T11:16:36.766Z"
   },
   {
    "duration": 6,
    "start_time": "2022-02-24T11:16:52.603Z"
   },
   {
    "duration": 7413,
    "start_time": "2022-02-24T11:18:50.080Z"
   },
   {
    "duration": 6,
    "start_time": "2022-02-24T11:19:23.941Z"
   },
   {
    "duration": 8,
    "start_time": "2022-02-24T11:24:44.183Z"
   },
   {
    "duration": 8,
    "start_time": "2022-02-24T11:25:18.008Z"
   },
   {
    "duration": 7,
    "start_time": "2022-02-24T11:25:20.950Z"
   },
   {
    "duration": 67,
    "start_time": "2022-02-24T11:25:25.038Z"
   },
   {
    "duration": 13,
    "start_time": "2022-02-24T11:25:25.107Z"
   },
   {
    "duration": 12,
    "start_time": "2022-02-24T11:25:25.122Z"
   },
   {
    "duration": 36,
    "start_time": "2022-02-24T11:25:25.137Z"
   },
   {
    "duration": 17,
    "start_time": "2022-02-24T11:25:25.176Z"
   },
   {
    "duration": 4,
    "start_time": "2022-02-24T11:25:25.195Z"
   },
   {
    "duration": 10,
    "start_time": "2022-02-24T11:25:25.201Z"
   },
   {
    "duration": 11,
    "start_time": "2022-02-24T11:25:25.214Z"
   },
   {
    "duration": 8,
    "start_time": "2022-02-24T11:25:25.270Z"
   },
   {
    "duration": 9,
    "start_time": "2022-02-24T11:25:25.281Z"
   },
   {
    "duration": 6,
    "start_time": "2022-02-24T11:25:25.292Z"
   },
   {
    "duration": 70,
    "start_time": "2022-02-24T11:25:25.300Z"
   },
   {
    "duration": 4,
    "start_time": "2022-02-24T11:25:25.372Z"
   },
   {
    "duration": 9,
    "start_time": "2022-02-24T11:25:25.377Z"
   },
   {
    "duration": 12,
    "start_time": "2022-02-24T11:25:25.388Z"
   },
   {
    "duration": 489,
    "start_time": "2022-02-24T11:25:25.402Z"
   },
   {
    "duration": 8,
    "start_time": "2022-02-24T11:25:25.893Z"
   },
   {
    "duration": 8,
    "start_time": "2022-02-24T11:25:25.902Z"
   },
   {
    "duration": 9,
    "start_time": "2022-02-24T11:25:25.912Z"
   },
   {
    "duration": 58,
    "start_time": "2022-02-24T11:25:25.922Z"
   },
   {
    "duration": 4,
    "start_time": "2022-02-24T11:36:13.965Z"
   },
   {
    "duration": 5,
    "start_time": "2022-02-24T11:38:01.407Z"
   },
   {
    "duration": 4,
    "start_time": "2022-02-24T11:38:16.067Z"
   },
   {
    "duration": 24,
    "start_time": "2022-02-24T11:38:31.880Z"
   },
   {
    "duration": 25,
    "start_time": "2022-02-24T11:39:56.202Z"
   },
   {
    "duration": 24,
    "start_time": "2022-02-24T11:41:21.721Z"
   },
   {
    "duration": 289,
    "start_time": "2022-02-24T11:43:35.705Z"
   },
   {
    "duration": 293,
    "start_time": "2022-02-24T11:43:46.470Z"
   },
   {
    "duration": 80,
    "start_time": "2022-02-24T11:44:04.945Z"
   },
   {
    "duration": 13,
    "start_time": "2022-02-24T11:44:05.027Z"
   },
   {
    "duration": 33,
    "start_time": "2022-02-24T11:44:05.043Z"
   },
   {
    "duration": 8,
    "start_time": "2022-02-24T11:44:05.080Z"
   },
   {
    "duration": 17,
    "start_time": "2022-02-24T11:44:05.090Z"
   },
   {
    "duration": 3,
    "start_time": "2022-02-24T11:44:05.109Z"
   },
   {
    "duration": 55,
    "start_time": "2022-02-24T11:44:05.114Z"
   },
   {
    "duration": 11,
    "start_time": "2022-02-24T11:44:05.172Z"
   },
   {
    "duration": 7,
    "start_time": "2022-02-24T11:44:05.185Z"
   },
   {
    "duration": 289,
    "start_time": "2022-02-24T11:44:05.259Z"
   },
   {
    "duration": 873,
    "start_time": "2022-02-24T11:44:04.677Z"
   },
   {
    "duration": 869,
    "start_time": "2022-02-24T11:44:04.682Z"
   },
   {
    "duration": 870,
    "start_time": "2022-02-24T11:44:04.683Z"
   },
   {
    "duration": 869,
    "start_time": "2022-02-24T11:44:04.685Z"
   },
   {
    "duration": 868,
    "start_time": "2022-02-24T11:44:04.687Z"
   },
   {
    "duration": 868,
    "start_time": "2022-02-24T11:44:04.688Z"
   },
   {
    "duration": 867,
    "start_time": "2022-02-24T11:44:04.690Z"
   },
   {
    "duration": 866,
    "start_time": "2022-02-24T11:44:04.692Z"
   },
   {
    "duration": 866,
    "start_time": "2022-02-24T11:44:04.694Z"
   },
   {
    "duration": 866,
    "start_time": "2022-02-24T11:44:04.695Z"
   },
   {
    "duration": 865,
    "start_time": "2022-02-24T11:44:04.697Z"
   },
   {
    "duration": 22,
    "start_time": "2022-02-24T11:44:14.351Z"
   },
   {
    "duration": 300,
    "start_time": "2022-02-24T19:36:44.557Z"
   },
   {
    "duration": 716,
    "start_time": "2022-02-24T19:36:55.174Z"
   },
   {
    "duration": 16,
    "start_time": "2022-02-24T19:36:55.892Z"
   },
   {
    "duration": 12,
    "start_time": "2022-02-24T19:36:55.911Z"
   },
   {
    "duration": 15,
    "start_time": "2022-02-24T19:36:55.925Z"
   },
   {
    "duration": 19,
    "start_time": "2022-02-24T19:36:55.942Z"
   },
   {
    "duration": 12,
    "start_time": "2022-02-24T19:36:55.963Z"
   },
   {
    "duration": 34,
    "start_time": "2022-02-24T19:36:55.977Z"
   },
   {
    "duration": 13,
    "start_time": "2022-02-24T19:36:56.013Z"
   },
   {
    "duration": 13,
    "start_time": "2022-02-24T19:36:56.029Z"
   },
   {
    "duration": 51,
    "start_time": "2022-02-24T19:36:56.044Z"
   },
   {
    "duration": 7,
    "start_time": "2022-02-24T19:36:56.096Z"
   },
   {
    "duration": 20,
    "start_time": "2022-02-24T19:36:56.104Z"
   },
   {
    "duration": 32,
    "start_time": "2022-02-24T19:36:56.126Z"
   },
   {
    "duration": 3,
    "start_time": "2022-02-24T19:36:56.160Z"
   },
   {
    "duration": 14,
    "start_time": "2022-02-24T19:36:56.165Z"
   },
   {
    "duration": 10,
    "start_time": "2022-02-24T19:36:56.181Z"
   },
   {
    "duration": 1337,
    "start_time": "2022-02-24T19:36:56.192Z"
   },
   {
    "duration": 8,
    "start_time": "2022-02-24T19:36:57.531Z"
   },
   {
    "duration": 7,
    "start_time": "2022-02-24T19:36:57.541Z"
   },
   {
    "duration": 67,
    "start_time": "2022-02-24T19:36:57.550Z"
   },
   {
    "duration": 94,
    "start_time": "2022-02-24T19:36:57.619Z"
   },
   {
    "duration": 26,
    "start_time": "2022-02-24T19:37:08.399Z"
   },
   {
    "duration": 26,
    "start_time": "2022-02-24T19:37:24.024Z"
   },
   {
    "duration": 26,
    "start_time": "2022-02-24T19:38:10.342Z"
   },
   {
    "duration": 27,
    "start_time": "2022-02-24T19:38:36.384Z"
   },
   {
    "duration": 28,
    "start_time": "2022-02-24T19:39:34.648Z"
   },
   {
    "duration": 34,
    "start_time": "2022-02-24T19:41:30.120Z"
   },
   {
    "duration": 6,
    "start_time": "2022-02-24T19:58:19.982Z"
   },
   {
    "duration": 315,
    "start_time": "2022-02-24T20:01:02.672Z"
   },
   {
    "duration": 241,
    "start_time": "2022-02-24T20:02:10.511Z"
   },
   {
    "duration": 240,
    "start_time": "2022-02-24T20:03:20.252Z"
   },
   {
    "duration": 236,
    "start_time": "2022-02-24T20:03:31.654Z"
   },
   {
    "duration": 8,
    "start_time": "2022-02-24T20:06:47.649Z"
   },
   {
    "duration": 25,
    "start_time": "2022-02-24T20:09:48.479Z"
   },
   {
    "duration": 81,
    "start_time": "2022-02-24T20:10:38.266Z"
   },
   {
    "duration": 15,
    "start_time": "2022-02-24T20:10:46.692Z"
   },
   {
    "duration": 14,
    "start_time": "2022-02-24T20:10:56.169Z"
   },
   {
    "duration": 68,
    "start_time": "2022-02-24T20:10:59.919Z"
   },
   {
    "duration": 18,
    "start_time": "2022-02-24T20:10:59.989Z"
   },
   {
    "duration": 13,
    "start_time": "2022-02-24T20:11:00.010Z"
   },
   {
    "duration": 8,
    "start_time": "2022-02-24T20:11:00.026Z"
   },
   {
    "duration": 16,
    "start_time": "2022-02-24T20:11:00.036Z"
   },
   {
    "duration": 4,
    "start_time": "2022-02-24T20:11:00.054Z"
   },
   {
    "duration": 37,
    "start_time": "2022-02-24T20:11:00.060Z"
   },
   {
    "duration": 19,
    "start_time": "2022-02-24T20:11:00.109Z"
   },
   {
    "duration": 11,
    "start_time": "2022-02-24T20:11:00.131Z"
   },
   {
    "duration": 36,
    "start_time": "2022-02-24T20:11:00.144Z"
   },
   {
    "duration": 7,
    "start_time": "2022-02-24T20:11:00.182Z"
   },
   {
    "duration": 37,
    "start_time": "2022-02-24T20:11:00.191Z"
   },
   {
    "duration": 15,
    "start_time": "2022-02-24T20:11:00.230Z"
   },
   {
    "duration": 8,
    "start_time": "2022-02-24T20:11:00.246Z"
   },
   {
    "duration": 19,
    "start_time": "2022-02-24T20:11:00.256Z"
   },
   {
    "duration": 43,
    "start_time": "2022-02-24T20:11:00.277Z"
   },
   {
    "duration": 440,
    "start_time": "2022-02-24T20:11:00.322Z"
   },
   {
    "duration": 7,
    "start_time": "2022-02-24T20:11:00.764Z"
   },
   {
    "duration": 10,
    "start_time": "2022-02-24T20:11:00.773Z"
   },
   {
    "duration": 29,
    "start_time": "2022-02-24T20:11:00.786Z"
   },
   {
    "duration": 25,
    "start_time": "2022-02-24T20:11:00.817Z"
   },
   {
    "duration": 10,
    "start_time": "2022-02-24T20:12:34.503Z"
   },
   {
    "duration": 10,
    "start_time": "2022-02-24T20:18:51.126Z"
   },
   {
    "duration": 10,
    "start_time": "2022-02-24T20:18:58.075Z"
   },
   {
    "duration": 5,
    "start_time": "2022-02-24T20:21:47.122Z"
   },
   {
    "duration": 82,
    "start_time": "2022-02-24T20:22:11.430Z"
   },
   {
    "duration": 5,
    "start_time": "2022-02-24T20:22:17.590Z"
   },
   {
    "duration": 9,
    "start_time": "2022-02-24T20:22:58.592Z"
   },
   {
    "duration": 9,
    "start_time": "2022-02-24T20:25:06.695Z"
   },
   {
    "duration": 61,
    "start_time": "2022-02-24T20:27:54.960Z"
   },
   {
    "duration": 11,
    "start_time": "2022-02-24T20:27:55.023Z"
   },
   {
    "duration": 15,
    "start_time": "2022-02-24T20:27:55.037Z"
   },
   {
    "duration": 6,
    "start_time": "2022-02-24T20:27:55.054Z"
   },
   {
    "duration": 25,
    "start_time": "2022-02-24T20:27:55.062Z"
   },
   {
    "duration": 22,
    "start_time": "2022-02-24T20:27:55.089Z"
   },
   {
    "duration": 21,
    "start_time": "2022-02-24T20:27:55.113Z"
   },
   {
    "duration": 13,
    "start_time": "2022-02-24T20:27:55.136Z"
   },
   {
    "duration": 9,
    "start_time": "2022-02-24T20:27:55.151Z"
   },
   {
    "duration": 28,
    "start_time": "2022-02-24T20:27:55.162Z"
   },
   {
    "duration": 6,
    "start_time": "2022-02-24T20:27:55.208Z"
   },
   {
    "duration": 13,
    "start_time": "2022-02-24T20:27:55.288Z"
   },
   {
    "duration": 11,
    "start_time": "2022-02-24T20:27:55.303Z"
   },
   {
    "duration": 5,
    "start_time": "2022-02-24T20:27:55.317Z"
   },
   {
    "duration": 8,
    "start_time": "2022-02-24T20:27:55.325Z"
   },
   {
    "duration": 442,
    "start_time": "2022-02-24T20:27:55.335Z"
   },
   {
    "duration": 5,
    "start_time": "2022-02-24T20:27:55.779Z"
   },
   {
    "duration": 22,
    "start_time": "2022-02-24T20:27:55.785Z"
   },
   {
    "duration": 9,
    "start_time": "2022-02-24T20:27:55.809Z"
   },
   {
    "duration": 24,
    "start_time": "2022-02-24T20:27:55.820Z"
   },
   {
    "duration": 9,
    "start_time": "2022-02-24T20:43:35.165Z"
   },
   {
    "duration": 8,
    "start_time": "2022-02-24T20:43:42.059Z"
   },
   {
    "duration": 10,
    "start_time": "2022-02-24T20:43:48.546Z"
   },
   {
    "duration": 61,
    "start_time": "2022-02-24T20:43:51.765Z"
   },
   {
    "duration": 14,
    "start_time": "2022-02-24T20:43:51.828Z"
   },
   {
    "duration": 12,
    "start_time": "2022-02-24T20:43:51.845Z"
   },
   {
    "duration": 13,
    "start_time": "2022-02-24T20:43:51.859Z"
   },
   {
    "duration": 40,
    "start_time": "2022-02-24T20:43:51.873Z"
   },
   {
    "duration": 3,
    "start_time": "2022-02-24T20:43:51.915Z"
   },
   {
    "duration": 9,
    "start_time": "2022-02-24T20:43:51.920Z"
   },
   {
    "duration": 12,
    "start_time": "2022-02-24T20:43:51.932Z"
   },
   {
    "duration": 12,
    "start_time": "2022-02-24T20:43:51.946Z"
   },
   {
    "duration": 49,
    "start_time": "2022-02-24T20:43:51.960Z"
   },
   {
    "duration": 6,
    "start_time": "2022-02-24T20:43:52.010Z"
   },
   {
    "duration": 17,
    "start_time": "2022-02-24T20:43:52.018Z"
   },
   {
    "duration": 13,
    "start_time": "2022-02-24T20:43:52.037Z"
   },
   {
    "duration": 5,
    "start_time": "2022-02-24T20:43:52.052Z"
   },
   {
    "duration": 13,
    "start_time": "2022-02-24T20:43:52.058Z"
   },
   {
    "duration": 36,
    "start_time": "2022-02-24T20:43:52.073Z"
   },
   {
    "duration": 425,
    "start_time": "2022-02-24T20:43:52.112Z"
   },
   {
    "duration": 5,
    "start_time": "2022-02-24T20:43:52.538Z"
   },
   {
    "duration": 7,
    "start_time": "2022-02-24T20:43:52.545Z"
   },
   {
    "duration": 9,
    "start_time": "2022-02-24T20:43:52.553Z"
   },
   {
    "duration": 52,
    "start_time": "2022-02-24T20:43:52.564Z"
   },
   {
    "duration": 78,
    "start_time": "2022-02-24T20:44:11.684Z"
   },
   {
    "duration": 85,
    "start_time": "2022-02-24T20:44:29.045Z"
   },
   {
    "duration": 7,
    "start_time": "2022-02-24T20:44:46.155Z"
   },
   {
    "duration": 10,
    "start_time": "2022-02-24T20:52:18.166Z"
   },
   {
    "duration": 7,
    "start_time": "2022-02-24T20:56:10.124Z"
   },
   {
    "duration": 19,
    "start_time": "2022-02-24T20:56:55.187Z"
   },
   {
    "duration": 61,
    "start_time": "2022-02-24T20:56:58.983Z"
   },
   {
    "duration": 11,
    "start_time": "2022-02-24T20:56:59.046Z"
   },
   {
    "duration": 12,
    "start_time": "2022-02-24T20:56:59.060Z"
   },
   {
    "duration": 35,
    "start_time": "2022-02-24T20:56:59.074Z"
   },
   {
    "duration": 14,
    "start_time": "2022-02-24T20:56:59.112Z"
   },
   {
    "duration": 3,
    "start_time": "2022-02-24T20:56:59.128Z"
   },
   {
    "duration": 14,
    "start_time": "2022-02-24T20:56:59.133Z"
   },
   {
    "duration": 11,
    "start_time": "2022-02-24T20:56:59.149Z"
   },
   {
    "duration": 86,
    "start_time": "2022-02-24T20:56:59.163Z"
   },
   {
    "duration": 30,
    "start_time": "2022-02-24T20:56:59.252Z"
   },
   {
    "duration": 5,
    "start_time": "2022-02-24T20:56:59.284Z"
   },
   {
    "duration": 11,
    "start_time": "2022-02-24T20:56:59.308Z"
   },
   {
    "duration": 11,
    "start_time": "2022-02-24T20:56:59.322Z"
   },
   {
    "duration": 10,
    "start_time": "2022-02-24T20:56:59.335Z"
   },
   {
    "duration": 13,
    "start_time": "2022-02-24T20:56:59.347Z"
   },
   {
    "duration": 46,
    "start_time": "2022-02-24T20:56:59.361Z"
   },
   {
    "duration": 457,
    "start_time": "2022-02-24T20:56:59.409Z"
   },
   {
    "duration": 5,
    "start_time": "2022-02-24T20:56:59.868Z"
   },
   {
    "duration": 7,
    "start_time": "2022-02-24T20:56:59.875Z"
   },
   {
    "duration": 29,
    "start_time": "2022-02-24T20:56:59.884Z"
   },
   {
    "duration": 25,
    "start_time": "2022-02-24T20:56:59.915Z"
   },
   {
    "duration": 21,
    "start_time": "2022-02-24T20:57:32.001Z"
   },
   {
    "duration": 24,
    "start_time": "2022-02-24T20:58:16.082Z"
   },
   {
    "duration": 802,
    "start_time": "2022-02-25T15:31:20.335Z"
   },
   {
    "duration": 14,
    "start_time": "2022-02-25T15:31:21.139Z"
   },
   {
    "duration": 12,
    "start_time": "2022-02-25T15:31:21.156Z"
   },
   {
    "duration": 28,
    "start_time": "2022-02-25T15:31:21.171Z"
   },
   {
    "duration": 23,
    "start_time": "2022-02-25T15:31:21.201Z"
   },
   {
    "duration": 6,
    "start_time": "2022-02-25T15:31:21.226Z"
   },
   {
    "duration": 11,
    "start_time": "2022-02-25T15:31:21.234Z"
   },
   {
    "duration": 52,
    "start_time": "2022-02-25T15:31:21.249Z"
   },
   {
    "duration": 7,
    "start_time": "2022-02-25T15:31:21.304Z"
   },
   {
    "duration": 31,
    "start_time": "2022-02-25T15:31:21.313Z"
   },
   {
    "duration": 52,
    "start_time": "2022-02-25T15:31:21.346Z"
   },
   {
    "duration": 21,
    "start_time": "2022-02-25T15:31:21.400Z"
   },
   {
    "duration": 12,
    "start_time": "2022-02-25T15:31:21.423Z"
   },
   {
    "duration": 5,
    "start_time": "2022-02-25T15:31:21.437Z"
   },
   {
    "duration": 52,
    "start_time": "2022-02-25T15:31:21.445Z"
   },
   {
    "duration": 20,
    "start_time": "2022-02-25T15:31:21.499Z"
   },
   {
    "duration": 1749,
    "start_time": "2022-02-25T15:31:21.522Z"
   },
   {
    "duration": 7,
    "start_time": "2022-02-25T15:31:23.274Z"
   },
   {
    "duration": 7,
    "start_time": "2022-02-25T15:31:23.294Z"
   },
   {
    "duration": 11,
    "start_time": "2022-02-25T15:31:23.304Z"
   },
   {
    "duration": 76,
    "start_time": "2022-02-25T15:31:23.318Z"
   },
   {
    "duration": 31,
    "start_time": "2022-02-25T15:35:03.509Z"
   },
   {
    "duration": 77,
    "start_time": "2022-02-25T15:35:32.368Z"
   },
   {
    "duration": 14,
    "start_time": "2022-02-25T15:35:32.447Z"
   },
   {
    "duration": 36,
    "start_time": "2022-02-25T15:35:32.464Z"
   },
   {
    "duration": 8,
    "start_time": "2022-02-25T15:35:32.503Z"
   },
   {
    "duration": 32,
    "start_time": "2022-02-25T15:35:32.513Z"
   },
   {
    "duration": 4,
    "start_time": "2022-02-25T15:35:32.547Z"
   },
   {
    "duration": 44,
    "start_time": "2022-02-25T15:35:32.553Z"
   },
   {
    "duration": 14,
    "start_time": "2022-02-25T15:35:32.601Z"
   },
   {
    "duration": 7,
    "start_time": "2022-02-25T15:35:32.618Z"
   },
   {
    "duration": 88,
    "start_time": "2022-02-25T15:35:32.628Z"
   },
   {
    "duration": 8,
    "start_time": "2022-02-25T15:35:32.718Z"
   },
   {
    "duration": 17,
    "start_time": "2022-02-25T15:35:32.728Z"
   },
   {
    "duration": 49,
    "start_time": "2022-02-25T15:35:32.747Z"
   },
   {
    "duration": 9,
    "start_time": "2022-02-25T15:35:32.798Z"
   },
   {
    "duration": 26,
    "start_time": "2022-02-25T15:35:32.809Z"
   },
   {
    "duration": 711,
    "start_time": "2022-02-25T15:35:32.837Z"
   },
   {
    "duration": 7,
    "start_time": "2022-02-25T15:35:33.550Z"
   },
   {
    "duration": 36,
    "start_time": "2022-02-25T15:35:33.559Z"
   },
   {
    "duration": 12,
    "start_time": "2022-02-25T15:35:33.598Z"
   },
   {
    "duration": 38,
    "start_time": "2022-02-25T15:35:33.613Z"
   },
   {
    "duration": 21,
    "start_time": "2022-02-25T15:37:40.964Z"
   },
   {
    "duration": 826,
    "start_time": "2022-02-25T15:37:43.021Z"
   },
   {
    "duration": 432,
    "start_time": "2022-02-25T15:39:48.983Z"
   },
   {
    "duration": 1562,
    "start_time": "2022-02-25T15:40:03.872Z"
   },
   {
    "duration": 257,
    "start_time": "2022-02-25T15:40:25.498Z"
   },
   {
    "duration": 1100,
    "start_time": "2022-02-25T15:40:36.161Z"
   },
   {
    "duration": 292,
    "start_time": "2022-02-25T15:41:46.671Z"
   },
   {
    "duration": 79,
    "start_time": "2022-02-25T15:42:01.438Z"
   },
   {
    "duration": 18,
    "start_time": "2022-02-25T15:42:01.520Z"
   },
   {
    "duration": 53,
    "start_time": "2022-02-25T15:42:01.543Z"
   },
   {
    "duration": 11,
    "start_time": "2022-02-25T15:42:01.600Z"
   },
   {
    "duration": 26,
    "start_time": "2022-02-25T15:42:01.615Z"
   },
   {
    "duration": 4,
    "start_time": "2022-02-25T15:42:01.644Z"
   },
   {
    "duration": 68,
    "start_time": "2022-02-25T15:42:01.650Z"
   },
   {
    "duration": 12,
    "start_time": "2022-02-25T15:42:01.721Z"
   },
   {
    "duration": 17,
    "start_time": "2022-02-25T15:42:01.736Z"
   },
   {
    "duration": 61,
    "start_time": "2022-02-25T15:42:01.756Z"
   },
   {
    "duration": 7,
    "start_time": "2022-02-25T15:42:01.820Z"
   },
   {
    "duration": 37,
    "start_time": "2022-02-25T15:42:01.829Z"
   },
   {
    "duration": 27,
    "start_time": "2022-02-25T15:42:01.869Z"
   },
   {
    "duration": 9,
    "start_time": "2022-02-25T15:42:01.899Z"
   },
   {
    "duration": 46,
    "start_time": "2022-02-25T15:42:01.910Z"
   },
   {
    "duration": 696,
    "start_time": "2022-02-25T15:42:01.959Z"
   },
   {
    "duration": 7,
    "start_time": "2022-02-25T15:42:02.658Z"
   },
   {
    "duration": 39,
    "start_time": "2022-02-25T15:42:02.667Z"
   },
   {
    "duration": 23,
    "start_time": "2022-02-25T15:42:02.708Z"
   },
   {
    "duration": 83,
    "start_time": "2022-02-25T15:42:02.734Z"
   },
   {
    "duration": 8,
    "start_time": "2022-02-25T15:48:22.897Z"
   },
   {
    "duration": 10,
    "start_time": "2022-02-25T15:49:21.963Z"
   },
   {
    "duration": 10,
    "start_time": "2022-02-25T15:55:32.344Z"
   },
   {
    "duration": 29,
    "start_time": "2022-02-25T15:55:49.078Z"
   },
   {
    "duration": 7,
    "start_time": "2022-02-25T15:57:06.134Z"
   },
   {
    "duration": 6,
    "start_time": "2022-02-25T15:57:24.976Z"
   },
   {
    "duration": 243,
    "start_time": "2022-02-25T16:11:40.331Z"
   },
   {
    "duration": 195,
    "start_time": "2022-02-25T16:11:50.583Z"
   },
   {
    "duration": 681,
    "start_time": "2022-02-25T16:11:55.615Z"
   },
   {
    "duration": 12,
    "start_time": "2022-02-25T16:11:56.298Z"
   },
   {
    "duration": 14,
    "start_time": "2022-02-25T16:11:56.312Z"
   },
   {
    "duration": 6,
    "start_time": "2022-02-25T16:11:56.328Z"
   },
   {
    "duration": 16,
    "start_time": "2022-02-25T16:11:56.336Z"
   },
   {
    "duration": 3,
    "start_time": "2022-02-25T16:11:56.354Z"
   },
   {
    "duration": 8,
    "start_time": "2022-02-25T16:11:56.359Z"
   },
   {
    "duration": 9,
    "start_time": "2022-02-25T16:11:56.369Z"
   },
   {
    "duration": 42,
    "start_time": "2022-02-25T16:11:56.382Z"
   },
   {
    "duration": 29,
    "start_time": "2022-02-25T16:11:56.426Z"
   },
   {
    "duration": 5,
    "start_time": "2022-02-25T16:11:56.457Z"
   },
   {
    "duration": 10,
    "start_time": "2022-02-25T16:11:56.463Z"
   },
   {
    "duration": 7,
    "start_time": "2022-02-25T16:11:56.475Z"
   },
   {
    "duration": 7,
    "start_time": "2022-02-25T16:11:56.520Z"
   },
   {
    "duration": 7,
    "start_time": "2022-02-25T16:11:56.529Z"
   },
   {
    "duration": 7,
    "start_time": "2022-02-25T16:11:56.537Z"
   },
   {
    "duration": 6,
    "start_time": "2022-02-25T16:11:56.546Z"
   },
   {
    "duration": 6,
    "start_time": "2022-02-25T16:11:56.554Z"
   },
   {
    "duration": 10,
    "start_time": "2022-02-25T16:11:56.562Z"
   },
   {
    "duration": 47,
    "start_time": "2022-02-25T16:11:56.574Z"
   },
   {
    "duration": 6,
    "start_time": "2022-02-25T16:12:11.205Z"
   },
   {
    "duration": 92,
    "start_time": "2022-02-25T16:12:49.165Z"
   },
   {
    "duration": 6,
    "start_time": "2022-02-25T16:13:12.094Z"
   },
   {
    "duration": 5,
    "start_time": "2022-02-25T16:13:22.832Z"
   },
   {
    "duration": 224,
    "start_time": "2022-02-25T16:20:10.235Z"
   },
   {
    "duration": 198,
    "start_time": "2022-02-25T16:20:36.709Z"
   },
   {
    "duration": 6,
    "start_time": "2022-02-25T16:22:39.175Z"
   },
   {
    "duration": 203,
    "start_time": "2022-02-25T16:32:09.613Z"
   },
   {
    "duration": 34,
    "start_time": "2022-02-25T16:32:26.916Z"
   },
   {
    "duration": 297,
    "start_time": "2022-02-25T16:32:48.940Z"
   },
   {
    "duration": 19,
    "start_time": "2022-02-25T16:33:13.285Z"
   },
   {
    "duration": 6,
    "start_time": "2022-02-25T17:03:55.891Z"
   },
   {
    "duration": 7,
    "start_time": "2022-02-25T17:04:46.644Z"
   },
   {
    "duration": 2578,
    "start_time": "2022-02-25T17:05:08.898Z"
   },
   {
    "duration": 56,
    "start_time": "2022-02-25T17:05:37.218Z"
   },
   {
    "duration": 2839,
    "start_time": "2022-02-25T17:05:41.712Z"
   },
   {
    "duration": 347,
    "start_time": "2022-02-25T17:08:58.549Z"
   },
   {
    "duration": 11,
    "start_time": "2022-02-25T17:09:40.073Z"
   },
   {
    "duration": 13,
    "start_time": "2022-02-25T17:22:42.723Z"
   },
   {
    "duration": 10,
    "start_time": "2022-02-25T17:22:54.355Z"
   },
   {
    "duration": 11,
    "start_time": "2022-02-25T17:23:05.218Z"
   },
   {
    "duration": 10,
    "start_time": "2022-02-25T17:23:11.677Z"
   },
   {
    "duration": 11,
    "start_time": "2022-02-25T17:23:23.213Z"
   },
   {
    "duration": 56,
    "start_time": "2022-02-25T17:23:29.227Z"
   },
   {
    "duration": 11,
    "start_time": "2022-02-25T17:23:29.285Z"
   },
   {
    "duration": 22,
    "start_time": "2022-02-25T17:23:29.298Z"
   },
   {
    "duration": 6,
    "start_time": "2022-02-25T17:23:29.322Z"
   },
   {
    "duration": 13,
    "start_time": "2022-02-25T17:23:29.330Z"
   },
   {
    "duration": 2,
    "start_time": "2022-02-25T17:23:29.345Z"
   },
   {
    "duration": 10,
    "start_time": "2022-02-25T17:23:29.349Z"
   },
   {
    "duration": 9,
    "start_time": "2022-02-25T17:23:29.361Z"
   },
   {
    "duration": 5,
    "start_time": "2022-02-25T17:23:29.372Z"
   },
   {
    "duration": 59,
    "start_time": "2022-02-25T17:23:29.379Z"
   },
   {
    "duration": 5,
    "start_time": "2022-02-25T17:23:29.439Z"
   },
   {
    "duration": 10,
    "start_time": "2022-02-25T17:23:29.446Z"
   },
   {
    "duration": 8,
    "start_time": "2022-02-25T17:23:29.458Z"
   },
   {
    "duration": 7,
    "start_time": "2022-02-25T17:23:29.467Z"
   },
   {
    "duration": 45,
    "start_time": "2022-02-25T17:23:29.475Z"
   },
   {
    "duration": 5,
    "start_time": "2022-02-25T17:23:29.521Z"
   },
   {
    "duration": 21,
    "start_time": "2022-02-25T17:23:29.528Z"
   },
   {
    "duration": 11,
    "start_time": "2022-02-25T17:23:29.551Z"
   },
   {
    "duration": 12,
    "start_time": "2022-02-25T17:24:48.822Z"
   },
   {
    "duration": 20,
    "start_time": "2022-02-25T17:27:23.095Z"
   },
   {
    "duration": 656,
    "start_time": "2022-02-27T15:19:33.346Z"
   },
   {
    "duration": 11,
    "start_time": "2022-02-27T15:19:34.004Z"
   },
   {
    "duration": 9,
    "start_time": "2022-02-27T15:19:34.017Z"
   },
   {
    "duration": 6,
    "start_time": "2022-02-27T15:19:34.027Z"
   },
   {
    "duration": 14,
    "start_time": "2022-02-27T15:19:34.059Z"
   },
   {
    "duration": 3,
    "start_time": "2022-02-27T15:19:34.075Z"
   },
   {
    "duration": 9,
    "start_time": "2022-02-27T15:19:34.080Z"
   },
   {
    "duration": 9,
    "start_time": "2022-02-27T15:19:34.091Z"
   },
   {
    "duration": 6,
    "start_time": "2022-02-27T15:19:34.102Z"
   },
   {
    "duration": 57,
    "start_time": "2022-02-27T15:19:34.110Z"
   },
   {
    "duration": 5,
    "start_time": "2022-02-27T15:19:34.169Z"
   },
   {
    "duration": 14,
    "start_time": "2022-02-27T15:19:34.175Z"
   },
   {
    "duration": 8,
    "start_time": "2022-02-27T15:19:34.191Z"
   },
   {
    "duration": 6,
    "start_time": "2022-02-27T15:19:34.200Z"
   },
   {
    "duration": 6,
    "start_time": "2022-02-27T15:19:34.208Z"
   },
   {
    "duration": 5,
    "start_time": "2022-02-27T15:19:34.259Z"
   },
   {
    "duration": 19,
    "start_time": "2022-02-27T15:19:34.266Z"
   },
   {
    "duration": 10,
    "start_time": "2022-02-27T15:19:34.287Z"
   },
   {
    "duration": 19,
    "start_time": "2022-02-27T15:19:34.299Z"
   },
   {
    "duration": 16,
    "start_time": "2022-02-27T15:23:24.960Z"
   },
   {
    "duration": 22,
    "start_time": "2022-02-27T15:23:31.916Z"
   },
   {
    "duration": 3,
    "start_time": "2022-02-27T15:34:17.571Z"
   },
   {
    "duration": 3,
    "start_time": "2022-02-27T15:35:19.054Z"
   },
   {
    "duration": 3,
    "start_time": "2022-02-27T15:40:26.578Z"
   },
   {
    "duration": 13,
    "start_time": "2022-02-27T15:41:17.270Z"
   },
   {
    "duration": 42,
    "start_time": "2022-02-27T15:41:27.448Z"
   },
   {
    "duration": 4,
    "start_time": "2022-02-27T15:41:47.052Z"
   },
   {
    "duration": 4,
    "start_time": "2022-02-27T15:50:20.584Z"
   },
   {
    "duration": 53,
    "start_time": "2022-02-27T15:50:21.935Z"
   },
   {
    "duration": 6,
    "start_time": "2022-02-27T15:50:29.282Z"
   },
   {
    "duration": 4,
    "start_time": "2022-02-27T15:50:31.868Z"
   },
   {
    "duration": 78,
    "start_time": "2022-02-27T15:50:33.038Z"
   },
   {
    "duration": 4,
    "start_time": "2022-02-27T15:51:10.808Z"
   },
   {
    "duration": 61,
    "start_time": "2022-02-27T15:51:12.464Z"
   },
   {
    "duration": 3,
    "start_time": "2022-02-27T15:53:05.360Z"
   },
   {
    "duration": 4,
    "start_time": "2022-02-27T15:53:08.100Z"
   },
   {
    "duration": 46,
    "start_time": "2022-02-27T15:53:10.756Z"
   },
   {
    "duration": 12,
    "start_time": "2022-02-27T16:08:00.906Z"
   },
   {
    "duration": 293,
    "start_time": "2022-02-27T16:20:43.363Z"
   },
   {
    "duration": 13,
    "start_time": "2022-02-27T16:20:54.547Z"
   },
   {
    "duration": 28,
    "start_time": "2022-02-27T16:22:25.473Z"
   },
   {
    "duration": 16,
    "start_time": "2022-02-27T16:23:17.632Z"
   },
   {
    "duration": 27,
    "start_time": "2022-02-27T16:23:35.954Z"
   },
   {
    "duration": 28,
    "start_time": "2022-02-27T16:25:05.524Z"
   },
   {
    "duration": 20,
    "start_time": "2022-02-27T16:27:14.682Z"
   },
   {
    "duration": 17,
    "start_time": "2022-02-27T16:32:27.378Z"
   },
   {
    "duration": 30,
    "start_time": "2022-02-27T16:32:42.982Z"
   },
   {
    "duration": 2883,
    "start_time": "2022-02-27T16:33:15.948Z"
   },
   {
    "duration": 215,
    "start_time": "2022-02-27T16:33:20.289Z"
   },
   {
    "duration": 53,
    "start_time": "2022-02-27T16:33:27.108Z"
   },
   {
    "duration": 11,
    "start_time": "2022-02-27T16:33:27.162Z"
   },
   {
    "duration": 9,
    "start_time": "2022-02-27T16:33:27.175Z"
   },
   {
    "duration": 5,
    "start_time": "2022-02-27T16:33:27.186Z"
   },
   {
    "duration": 14,
    "start_time": "2022-02-27T16:33:27.192Z"
   },
   {
    "duration": 3,
    "start_time": "2022-02-27T16:33:27.208Z"
   },
   {
    "duration": 53,
    "start_time": "2022-02-27T16:33:27.212Z"
   },
   {
    "duration": 10,
    "start_time": "2022-02-27T16:33:27.268Z"
   },
   {
    "duration": 6,
    "start_time": "2022-02-27T16:33:27.280Z"
   },
   {
    "duration": 24,
    "start_time": "2022-02-27T16:33:27.287Z"
   },
   {
    "duration": 5,
    "start_time": "2022-02-27T16:33:27.313Z"
   },
   {
    "duration": 44,
    "start_time": "2022-02-27T16:33:27.320Z"
   },
   {
    "duration": 9,
    "start_time": "2022-02-27T16:33:27.366Z"
   },
   {
    "duration": 7,
    "start_time": "2022-02-27T16:33:27.376Z"
   },
   {
    "duration": 7,
    "start_time": "2022-02-27T16:33:27.385Z"
   },
   {
    "duration": 7,
    "start_time": "2022-02-27T16:33:27.394Z"
   },
   {
    "duration": 69,
    "start_time": "2022-02-27T16:33:27.403Z"
   },
   {
    "duration": 12,
    "start_time": "2022-02-27T16:33:27.474Z"
   },
   {
    "duration": 31,
    "start_time": "2022-02-27T16:33:27.488Z"
   },
   {
    "duration": 47,
    "start_time": "2022-02-27T16:33:27.520Z"
   },
   {
    "duration": 3,
    "start_time": "2022-02-27T16:33:27.683Z"
   },
   {
    "duration": 4,
    "start_time": "2022-02-27T16:33:27.946Z"
   },
   {
    "duration": 55,
    "start_time": "2022-02-27T16:33:27.952Z"
   },
   {
    "duration": 15,
    "start_time": "2022-02-27T16:33:28.009Z"
   },
   {
    "duration": 31,
    "start_time": "2022-02-27T16:33:55.331Z"
   },
   {
    "duration": 50,
    "start_time": "2022-02-27T16:34:03.178Z"
   },
   {
    "duration": 10,
    "start_time": "2022-02-27T16:34:03.229Z"
   },
   {
    "duration": 19,
    "start_time": "2022-02-27T16:34:03.241Z"
   },
   {
    "duration": 5,
    "start_time": "2022-02-27T16:34:03.261Z"
   },
   {
    "duration": 15,
    "start_time": "2022-02-27T16:34:03.268Z"
   },
   {
    "duration": 2,
    "start_time": "2022-02-27T16:34:03.285Z"
   },
   {
    "duration": 8,
    "start_time": "2022-02-27T16:34:03.289Z"
   },
   {
    "duration": 9,
    "start_time": "2022-02-27T16:34:03.299Z"
   },
   {
    "duration": 5,
    "start_time": "2022-02-27T16:34:03.310Z"
   },
   {
    "duration": 58,
    "start_time": "2022-02-27T16:34:03.317Z"
   },
   {
    "duration": 4,
    "start_time": "2022-02-27T16:34:03.376Z"
   },
   {
    "duration": 8,
    "start_time": "2022-02-27T16:34:03.382Z"
   },
   {
    "duration": 8,
    "start_time": "2022-02-27T16:34:03.392Z"
   },
   {
    "duration": 5,
    "start_time": "2022-02-27T16:34:03.401Z"
   },
   {
    "duration": 53,
    "start_time": "2022-02-27T16:34:03.407Z"
   },
   {
    "duration": 4,
    "start_time": "2022-02-27T16:34:03.461Z"
   },
   {
    "duration": 17,
    "start_time": "2022-02-27T16:34:03.467Z"
   },
   {
    "duration": 10,
    "start_time": "2022-02-27T16:34:03.485Z"
   },
   {
    "duration": 26,
    "start_time": "2022-02-27T16:34:03.496Z"
   },
   {
    "duration": 46,
    "start_time": "2022-02-27T16:34:03.524Z"
   },
   {
    "duration": 3,
    "start_time": "2022-02-27T16:34:03.572Z"
   },
   {
    "duration": 4,
    "start_time": "2022-02-27T16:34:03.577Z"
   },
   {
    "duration": 81,
    "start_time": "2022-02-27T16:34:03.582Z"
   },
   {
    "duration": 13,
    "start_time": "2022-02-27T16:34:03.665Z"
   },
   {
    "duration": 28,
    "start_time": "2022-02-27T16:36:28.863Z"
   },
   {
    "duration": 18,
    "start_time": "2022-02-27T16:36:33.608Z"
   },
   {
    "duration": 15,
    "start_time": "2022-02-27T16:37:49.857Z"
   },
   {
    "duration": 50,
    "start_time": "2022-02-27T16:37:54.281Z"
   },
   {
    "duration": 9,
    "start_time": "2022-02-27T16:37:54.333Z"
   },
   {
    "duration": 15,
    "start_time": "2022-02-27T16:37:54.344Z"
   },
   {
    "duration": 6,
    "start_time": "2022-02-27T16:37:54.361Z"
   },
   {
    "duration": 16,
    "start_time": "2022-02-27T16:37:54.368Z"
   },
   {
    "duration": 20,
    "start_time": "2022-02-27T16:37:54.386Z"
   },
   {
    "duration": 11,
    "start_time": "2022-02-27T16:37:54.408Z"
   },
   {
    "duration": 10,
    "start_time": "2022-02-27T16:37:54.420Z"
   },
   {
    "duration": 9,
    "start_time": "2022-02-27T16:37:54.432Z"
   },
   {
    "duration": 35,
    "start_time": "2022-02-27T16:37:54.443Z"
   },
   {
    "duration": 17,
    "start_time": "2022-02-27T16:37:54.479Z"
   },
   {
    "duration": 13,
    "start_time": "2022-02-27T16:37:54.498Z"
   },
   {
    "duration": 15,
    "start_time": "2022-02-27T16:37:54.513Z"
   },
   {
    "duration": 7,
    "start_time": "2022-02-27T16:37:54.530Z"
   },
   {
    "duration": 6,
    "start_time": "2022-02-27T16:37:54.560Z"
   },
   {
    "duration": 10,
    "start_time": "2022-02-27T16:37:54.567Z"
   },
   {
    "duration": 22,
    "start_time": "2022-02-27T16:37:54.578Z"
   },
   {
    "duration": 10,
    "start_time": "2022-02-27T16:37:54.602Z"
   },
   {
    "duration": 55,
    "start_time": "2022-02-27T16:37:54.614Z"
   },
   {
    "duration": 17,
    "start_time": "2022-02-27T16:37:54.672Z"
   },
   {
    "duration": 18,
    "start_time": "2022-02-27T16:37:54.691Z"
   },
   {
    "duration": 4,
    "start_time": "2022-02-27T16:37:54.711Z"
   },
   {
    "duration": 5,
    "start_time": "2022-02-27T16:37:54.716Z"
   },
   {
    "duration": 84,
    "start_time": "2022-02-27T16:37:54.722Z"
   },
   {
    "duration": 20,
    "start_time": "2022-02-27T16:37:54.808Z"
   },
   {
    "duration": 30,
    "start_time": "2022-02-27T16:38:53.647Z"
   },
   {
    "duration": 183,
    "start_time": "2022-02-27T16:57:36.407Z"
   },
   {
    "duration": 9,
    "start_time": "2022-02-27T16:58:28.682Z"
   },
   {
    "duration": 192,
    "start_time": "2022-02-27T17:00:38.022Z"
   },
   {
    "duration": 8,
    "start_time": "2022-02-27T17:01:07.919Z"
   },
   {
    "duration": 7,
    "start_time": "2022-02-27T17:01:23.438Z"
   },
   {
    "duration": 10,
    "start_time": "2022-02-27T17:02:07.562Z"
   },
   {
    "duration": 12,
    "start_time": "2022-02-27T17:03:22.735Z"
   },
   {
    "duration": 13,
    "start_time": "2022-02-27T17:03:35.772Z"
   },
   {
    "duration": 21,
    "start_time": "2022-02-27T17:03:51.608Z"
   },
   {
    "duration": 210,
    "start_time": "2022-02-27T17:04:05.094Z"
   },
   {
    "duration": 20,
    "start_time": "2022-02-27T17:04:20.268Z"
   },
   {
    "duration": 21,
    "start_time": "2022-02-27T17:04:28.746Z"
   },
   {
    "duration": 17,
    "start_time": "2022-02-27T17:04:52.731Z"
   },
   {
    "duration": 5,
    "start_time": "2022-02-27T17:06:42.906Z"
   },
   {
    "duration": 58,
    "start_time": "2022-02-27T17:06:48.577Z"
   },
   {
    "duration": 11,
    "start_time": "2022-02-27T17:06:48.637Z"
   },
   {
    "duration": 12,
    "start_time": "2022-02-27T17:06:48.650Z"
   },
   {
    "duration": 7,
    "start_time": "2022-02-27T17:06:48.664Z"
   },
   {
    "duration": 17,
    "start_time": "2022-02-27T17:06:48.673Z"
   },
   {
    "duration": 4,
    "start_time": "2022-02-27T17:06:48.692Z"
   },
   {
    "duration": 8,
    "start_time": "2022-02-27T17:06:48.698Z"
   },
   {
    "duration": 55,
    "start_time": "2022-02-27T17:06:48.708Z"
   },
   {
    "duration": 5,
    "start_time": "2022-02-27T17:06:48.766Z"
   },
   {
    "duration": 21,
    "start_time": "2022-02-27T17:06:48.773Z"
   },
   {
    "duration": 5,
    "start_time": "2022-02-27T17:06:48.796Z"
   },
   {
    "duration": 9,
    "start_time": "2022-02-27T17:06:48.803Z"
   },
   {
    "duration": 52,
    "start_time": "2022-02-27T17:06:48.813Z"
   },
   {
    "duration": 7,
    "start_time": "2022-02-27T17:06:48.867Z"
   },
   {
    "duration": 7,
    "start_time": "2022-02-27T17:06:48.876Z"
   },
   {
    "duration": 5,
    "start_time": "2022-02-27T17:06:48.884Z"
   },
   {
    "duration": 19,
    "start_time": "2022-02-27T17:06:48.891Z"
   },
   {
    "duration": 50,
    "start_time": "2022-02-27T17:06:48.911Z"
   },
   {
    "duration": 19,
    "start_time": "2022-02-27T17:06:48.962Z"
   },
   {
    "duration": 29,
    "start_time": "2022-02-27T17:06:48.983Z"
   },
   {
    "duration": 5,
    "start_time": "2022-02-27T17:06:49.016Z"
   },
   {
    "duration": 53,
    "start_time": "2022-02-27T17:06:49.023Z"
   },
   {
    "duration": 18,
    "start_time": "2022-02-27T17:06:49.078Z"
   },
   {
    "duration": 3,
    "start_time": "2022-02-27T17:06:49.097Z"
   },
   {
    "duration": 5,
    "start_time": "2022-02-27T17:06:49.101Z"
   },
   {
    "duration": 91,
    "start_time": "2022-02-27T17:06:49.107Z"
   },
   {
    "duration": 13,
    "start_time": "2022-02-27T17:06:49.200Z"
   },
   {
    "duration": 17,
    "start_time": "2022-02-27T17:09:34.760Z"
   },
   {
    "duration": 52,
    "start_time": "2022-02-27T17:09:48.354Z"
   },
   {
    "duration": 10,
    "start_time": "2022-02-27T17:09:48.407Z"
   },
   {
    "duration": 14,
    "start_time": "2022-02-27T17:09:48.419Z"
   },
   {
    "duration": 26,
    "start_time": "2022-02-27T17:09:48.434Z"
   },
   {
    "duration": 27,
    "start_time": "2022-02-27T17:09:48.461Z"
   },
   {
    "duration": 3,
    "start_time": "2022-02-27T17:09:48.489Z"
   },
   {
    "duration": 13,
    "start_time": "2022-02-27T17:09:48.493Z"
   },
   {
    "duration": 24,
    "start_time": "2022-02-27T17:09:48.508Z"
   },
   {
    "duration": 7,
    "start_time": "2022-02-27T17:09:48.535Z"
   },
   {
    "duration": 35,
    "start_time": "2022-02-27T17:09:48.544Z"
   },
   {
    "duration": 12,
    "start_time": "2022-02-27T17:09:48.581Z"
   },
   {
    "duration": 18,
    "start_time": "2022-02-27T17:09:48.595Z"
   },
   {
    "duration": 25,
    "start_time": "2022-02-27T17:09:48.615Z"
   },
   {
    "duration": 8,
    "start_time": "2022-02-27T17:09:48.642Z"
   },
   {
    "duration": 19,
    "start_time": "2022-02-27T17:09:48.651Z"
   },
   {
    "duration": 25,
    "start_time": "2022-02-27T17:09:48.671Z"
   },
   {
    "duration": 30,
    "start_time": "2022-02-27T17:09:48.698Z"
   },
   {
    "duration": 27,
    "start_time": "2022-02-27T17:09:48.729Z"
   },
   {
    "duration": 28,
    "start_time": "2022-02-27T17:09:48.757Z"
   },
   {
    "duration": 36,
    "start_time": "2022-02-27T17:09:48.786Z"
   },
   {
    "duration": 6,
    "start_time": "2022-02-27T17:09:48.824Z"
   },
   {
    "duration": 18,
    "start_time": "2022-02-27T17:09:48.831Z"
   },
   {
    "duration": 23,
    "start_time": "2022-02-27T17:09:48.851Z"
   },
   {
    "duration": 7,
    "start_time": "2022-02-27T17:09:48.877Z"
   },
   {
    "duration": 23,
    "start_time": "2022-02-27T17:09:48.885Z"
   },
   {
    "duration": 86,
    "start_time": "2022-02-27T17:09:48.910Z"
   },
   {
    "duration": 12,
    "start_time": "2022-02-27T17:09:48.999Z"
   },
   {
    "duration": 55,
    "start_time": "2022-02-27T17:23:54.853Z"
   },
   {
    "duration": 9,
    "start_time": "2022-02-27T17:23:54.910Z"
   },
   {
    "duration": 10,
    "start_time": "2022-02-27T17:23:54.922Z"
   },
   {
    "duration": 5,
    "start_time": "2022-02-27T17:23:54.959Z"
   },
   {
    "duration": 14,
    "start_time": "2022-02-27T17:23:54.966Z"
   },
   {
    "duration": 2,
    "start_time": "2022-02-27T17:23:54.982Z"
   },
   {
    "duration": 6,
    "start_time": "2022-02-27T17:23:54.986Z"
   },
   {
    "duration": 9,
    "start_time": "2022-02-27T17:23:54.994Z"
   },
   {
    "duration": 6,
    "start_time": "2022-02-27T17:23:55.005Z"
   },
   {
    "duration": 20,
    "start_time": "2022-02-27T17:23:55.060Z"
   },
   {
    "duration": 5,
    "start_time": "2022-02-27T17:23:55.082Z"
   },
   {
    "duration": 10,
    "start_time": "2022-02-27T17:23:55.088Z"
   },
   {
    "duration": 8,
    "start_time": "2022-02-27T17:23:55.100Z"
   },
   {
    "duration": 6,
    "start_time": "2022-02-27T17:23:55.109Z"
   },
   {
    "duration": 54,
    "start_time": "2022-02-27T17:23:55.116Z"
   },
   {
    "duration": 5,
    "start_time": "2022-02-27T17:23:55.171Z"
   },
   {
    "duration": 19,
    "start_time": "2022-02-27T17:23:55.177Z"
   },
   {
    "duration": 10,
    "start_time": "2022-02-27T17:23:55.198Z"
   },
   {
    "duration": 51,
    "start_time": "2022-02-27T17:23:55.210Z"
   },
   {
    "duration": 29,
    "start_time": "2022-02-27T17:23:55.263Z"
   },
   {
    "duration": 5,
    "start_time": "2022-02-27T17:23:55.293Z"
   },
   {
    "duration": 16,
    "start_time": "2022-02-27T17:23:55.299Z"
   },
   {
    "duration": 49,
    "start_time": "2022-02-27T17:23:55.317Z"
   },
   {
    "duration": 3,
    "start_time": "2022-02-27T17:23:55.368Z"
   },
   {
    "duration": 4,
    "start_time": "2022-02-27T17:23:55.372Z"
   },
   {
    "duration": 49,
    "start_time": "2022-02-27T17:23:55.378Z"
   },
   {
    "duration": 34,
    "start_time": "2022-02-27T17:23:55.429Z"
   },
   {
    "duration": 4,
    "start_time": "2022-02-27T17:38:23.086Z"
   },
   {
    "duration": 11,
    "start_time": "2022-02-27T17:38:29.297Z"
   },
   {
    "duration": 13,
    "start_time": "2022-02-27T17:39:52.431Z"
   },
   {
    "duration": 12,
    "start_time": "2022-02-27T17:41:32.306Z"
   },
   {
    "duration": 12,
    "start_time": "2022-02-27T17:41:43.054Z"
   },
   {
    "duration": 7,
    "start_time": "2022-02-27T17:42:01.027Z"
   },
   {
    "duration": 13,
    "start_time": "2022-02-27T17:42:41.725Z"
   },
   {
    "duration": 14,
    "start_time": "2022-02-27T17:42:47.917Z"
   },
   {
    "duration": 188,
    "start_time": "2022-02-27T17:47:49.690Z"
   },
   {
    "duration": 7,
    "start_time": "2022-02-27T17:47:54.962Z"
   },
   {
    "duration": 200,
    "start_time": "2022-02-27T17:48:42.842Z"
   },
   {
    "duration": 275,
    "start_time": "2022-02-27T17:48:50.179Z"
   },
   {
    "duration": 56,
    "start_time": "2022-02-27T17:48:55.105Z"
   },
   {
    "duration": 11,
    "start_time": "2022-02-27T17:48:55.162Z"
   },
   {
    "duration": 9,
    "start_time": "2022-02-27T17:48:55.175Z"
   },
   {
    "duration": 6,
    "start_time": "2022-02-27T17:48:55.185Z"
   },
   {
    "duration": 15,
    "start_time": "2022-02-27T17:48:55.193Z"
   },
   {
    "duration": 49,
    "start_time": "2022-02-27T17:48:55.210Z"
   },
   {
    "duration": 7,
    "start_time": "2022-02-27T17:48:55.261Z"
   },
   {
    "duration": 11,
    "start_time": "2022-02-27T17:48:55.270Z"
   },
   {
    "duration": 6,
    "start_time": "2022-02-27T17:48:55.285Z"
   },
   {
    "duration": 21,
    "start_time": "2022-02-27T17:48:55.294Z"
   },
   {
    "duration": 6,
    "start_time": "2022-02-27T17:48:55.360Z"
   },
   {
    "duration": 12,
    "start_time": "2022-02-27T17:48:55.368Z"
   },
   {
    "duration": 9,
    "start_time": "2022-02-27T17:48:55.382Z"
   },
   {
    "duration": 5,
    "start_time": "2022-02-27T17:48:55.393Z"
   },
   {
    "duration": 5,
    "start_time": "2022-02-27T17:48:55.400Z"
   },
   {
    "duration": 5,
    "start_time": "2022-02-27T17:48:55.459Z"
   },
   {
    "duration": 17,
    "start_time": "2022-02-27T17:48:55.466Z"
   },
   {
    "duration": 9,
    "start_time": "2022-02-27T17:48:55.485Z"
   },
   {
    "duration": 14,
    "start_time": "2022-02-27T17:48:55.496Z"
   },
   {
    "duration": 67,
    "start_time": "2022-02-27T17:48:55.512Z"
   },
   {
    "duration": 4,
    "start_time": "2022-02-27T17:48:55.581Z"
   },
   {
    "duration": 15,
    "start_time": "2022-02-27T17:48:55.586Z"
   },
   {
    "duration": 17,
    "start_time": "2022-02-27T17:48:55.603Z"
   },
   {
    "duration": 2,
    "start_time": "2022-02-27T17:48:55.622Z"
   },
   {
    "duration": 4,
    "start_time": "2022-02-27T17:48:55.660Z"
   },
   {
    "duration": 52,
    "start_time": "2022-02-27T17:48:55.665Z"
   },
   {
    "duration": 39,
    "start_time": "2022-02-27T17:48:55.720Z"
   },
   {
    "duration": 18,
    "start_time": "2022-02-27T17:48:55.761Z"
   },
   {
    "duration": 205,
    "start_time": "2022-02-27T17:49:31.990Z"
   },
   {
    "duration": 196,
    "start_time": "2022-02-27T17:49:55.660Z"
   },
   {
    "duration": 50,
    "start_time": "2022-02-27T17:49:58.582Z"
   },
   {
    "duration": 11,
    "start_time": "2022-02-27T17:49:58.633Z"
   },
   {
    "duration": 13,
    "start_time": "2022-02-27T17:49:58.646Z"
   },
   {
    "duration": 6,
    "start_time": "2022-02-27T17:49:58.660Z"
   },
   {
    "duration": 14,
    "start_time": "2022-02-27T17:49:58.667Z"
   },
   {
    "duration": 2,
    "start_time": "2022-02-27T17:49:58.683Z"
   },
   {
    "duration": 8,
    "start_time": "2022-02-27T17:49:58.687Z"
   },
   {
    "duration": 9,
    "start_time": "2022-02-27T17:49:58.698Z"
   },
   {
    "duration": 6,
    "start_time": "2022-02-27T17:49:58.709Z"
   },
   {
    "duration": 22,
    "start_time": "2022-02-27T17:49:58.760Z"
   },
   {
    "duration": 5,
    "start_time": "2022-02-27T17:49:58.784Z"
   },
   {
    "duration": 11,
    "start_time": "2022-02-27T17:49:58.791Z"
   },
   {
    "duration": 8,
    "start_time": "2022-02-27T17:49:58.804Z"
   },
   {
    "duration": 6,
    "start_time": "2022-02-27T17:49:58.814Z"
   },
   {
    "duration": 7,
    "start_time": "2022-02-27T17:49:58.859Z"
   },
   {
    "duration": 5,
    "start_time": "2022-02-27T17:49:58.867Z"
   },
   {
    "duration": 18,
    "start_time": "2022-02-27T17:49:58.874Z"
   },
   {
    "duration": 8,
    "start_time": "2022-02-27T17:49:58.894Z"
   },
   {
    "duration": 64,
    "start_time": "2022-02-27T17:49:58.904Z"
   },
   {
    "duration": 28,
    "start_time": "2022-02-27T17:49:58.970Z"
   },
   {
    "duration": 5,
    "start_time": "2022-02-27T17:49:58.999Z"
   },
   {
    "duration": 16,
    "start_time": "2022-02-27T17:49:59.005Z"
   },
   {
    "duration": 51,
    "start_time": "2022-02-27T17:49:59.024Z"
   },
   {
    "duration": 2,
    "start_time": "2022-02-27T17:49:59.077Z"
   },
   {
    "duration": 4,
    "start_time": "2022-02-27T17:49:59.081Z"
   },
   {
    "duration": 50,
    "start_time": "2022-02-27T17:49:59.086Z"
   },
   {
    "duration": 31,
    "start_time": "2022-02-27T17:49:59.138Z"
   },
   {
    "duration": 18,
    "start_time": "2022-02-27T17:49:59.171Z"
   },
   {
    "duration": 55,
    "start_time": "2022-02-27T17:56:19.656Z"
   },
   {
    "duration": 13,
    "start_time": "2022-02-27T17:56:19.714Z"
   },
   {
    "duration": 30,
    "start_time": "2022-02-27T17:56:19.730Z"
   },
   {
    "duration": 7,
    "start_time": "2022-02-27T17:56:19.762Z"
   },
   {
    "duration": 17,
    "start_time": "2022-02-27T17:56:19.771Z"
   },
   {
    "duration": 3,
    "start_time": "2022-02-27T17:56:19.790Z"
   },
   {
    "duration": 8,
    "start_time": "2022-02-27T17:56:19.795Z"
   },
   {
    "duration": 55,
    "start_time": "2022-02-27T17:56:19.805Z"
   },
   {
    "duration": 8,
    "start_time": "2022-02-27T17:56:19.864Z"
   },
   {
    "duration": 24,
    "start_time": "2022-02-27T17:56:19.874Z"
   },
   {
    "duration": 7,
    "start_time": "2022-02-27T17:56:19.900Z"
   },
   {
    "duration": 60,
    "start_time": "2022-02-27T17:56:19.909Z"
   },
   {
    "duration": 11,
    "start_time": "2022-02-27T17:56:19.971Z"
   },
   {
    "duration": 8,
    "start_time": "2022-02-27T17:56:19.984Z"
   },
   {
    "duration": 7,
    "start_time": "2022-02-27T17:56:19.994Z"
   },
   {
    "duration": 9,
    "start_time": "2022-02-27T17:56:20.002Z"
   },
   {
    "duration": 18,
    "start_time": "2022-02-27T17:56:20.060Z"
   },
   {
    "duration": 11,
    "start_time": "2022-02-27T17:56:20.079Z"
   },
   {
    "duration": 14,
    "start_time": "2022-02-27T17:56:20.091Z"
   },
   {
    "duration": 57,
    "start_time": "2022-02-27T17:56:20.107Z"
   },
   {
    "duration": 5,
    "start_time": "2022-02-27T17:56:20.165Z"
   },
   {
    "duration": 18,
    "start_time": "2022-02-27T17:56:20.171Z"
   },
   {
    "duration": 11,
    "start_time": "2022-02-27T17:56:20.190Z"
   },
   {
    "duration": 57,
    "start_time": "2022-02-27T17:56:20.203Z"
   },
   {
    "duration": 200,
    "start_time": "2022-02-27T18:05:49.532Z"
   },
   {
    "duration": 203,
    "start_time": "2022-02-27T18:06:25.984Z"
   },
   {
    "duration": 52,
    "start_time": "2022-02-27T18:06:28.358Z"
   },
   {
    "duration": 12,
    "start_time": "2022-02-27T18:06:28.412Z"
   },
   {
    "duration": 34,
    "start_time": "2022-02-27T18:06:28.426Z"
   },
   {
    "duration": 22,
    "start_time": "2022-02-27T18:06:28.462Z"
   },
   {
    "duration": 44,
    "start_time": "2022-02-27T18:06:28.485Z"
   },
   {
    "duration": 17,
    "start_time": "2022-02-27T18:06:28.531Z"
   },
   {
    "duration": 31,
    "start_time": "2022-02-27T18:06:28.550Z"
   },
   {
    "duration": 22,
    "start_time": "2022-02-27T18:06:28.583Z"
   },
   {
    "duration": 21,
    "start_time": "2022-02-27T18:06:28.608Z"
   },
   {
    "duration": 26,
    "start_time": "2022-02-27T18:06:28.631Z"
   },
   {
    "duration": 23,
    "start_time": "2022-02-27T18:06:28.659Z"
   },
   {
    "duration": 32,
    "start_time": "2022-02-27T18:06:28.684Z"
   },
   {
    "duration": 17,
    "start_time": "2022-02-27T18:06:28.718Z"
   },
   {
    "duration": 12,
    "start_time": "2022-02-27T18:06:28.737Z"
   },
   {
    "duration": 17,
    "start_time": "2022-02-27T18:06:28.751Z"
   },
   {
    "duration": 38,
    "start_time": "2022-02-27T18:06:28.770Z"
   },
   {
    "duration": 29,
    "start_time": "2022-02-27T18:06:28.810Z"
   },
   {
    "duration": 20,
    "start_time": "2022-02-27T18:06:28.841Z"
   },
   {
    "duration": 29,
    "start_time": "2022-02-27T18:06:28.863Z"
   },
   {
    "duration": 30,
    "start_time": "2022-02-27T18:06:28.895Z"
   },
   {
    "duration": 5,
    "start_time": "2022-02-27T18:06:28.927Z"
   },
   {
    "duration": 36,
    "start_time": "2022-02-27T18:06:28.934Z"
   },
   {
    "duration": 21,
    "start_time": "2022-02-27T18:06:28.972Z"
   },
   {
    "duration": 26,
    "start_time": "2022-02-27T18:06:28.994Z"
   },
   {
    "duration": 209,
    "start_time": "2022-02-27T18:06:58.901Z"
   },
   {
    "duration": 51,
    "start_time": "2022-02-27T18:07:00.986Z"
   },
   {
    "duration": 23,
    "start_time": "2022-02-27T18:07:01.039Z"
   },
   {
    "duration": 100,
    "start_time": "2022-02-27T18:07:01.064Z"
   },
   {
    "duration": 45,
    "start_time": "2022-02-27T18:07:01.166Z"
   },
   {
    "duration": 95,
    "start_time": "2022-02-27T18:07:01.213Z"
   },
   {
    "duration": 391,
    "start_time": "2022-02-27T18:07:01.310Z"
   },
   {
    "duration": 110,
    "start_time": "2022-02-27T18:07:01.703Z"
   },
   {
    "duration": 61,
    "start_time": "2022-02-27T18:07:01.814Z"
   },
   {
    "duration": 46,
    "start_time": "2022-02-27T18:07:01.879Z"
   },
   {
    "duration": 43,
    "start_time": "2022-02-27T18:07:01.927Z"
   },
   {
    "duration": 64,
    "start_time": "2022-02-27T18:07:01.972Z"
   },
   {
    "duration": 30,
    "start_time": "2022-02-27T18:07:02.038Z"
   },
   {
    "duration": 28,
    "start_time": "2022-02-27T18:07:02.071Z"
   },
   {
    "duration": 22,
    "start_time": "2022-02-27T18:07:02.101Z"
   },
   {
    "duration": 10,
    "start_time": "2022-02-27T18:07:02.125Z"
   },
   {
    "duration": 18,
    "start_time": "2022-02-27T18:07:02.137Z"
   },
   {
    "duration": 25,
    "start_time": "2022-02-27T18:07:02.157Z"
   },
   {
    "duration": 52,
    "start_time": "2022-02-27T18:07:02.184Z"
   },
   {
    "duration": 18,
    "start_time": "2022-02-27T18:07:02.238Z"
   },
   {
    "duration": 30,
    "start_time": "2022-02-27T18:07:02.257Z"
   },
   {
    "duration": 5,
    "start_time": "2022-02-27T18:07:02.288Z"
   },
   {
    "duration": 34,
    "start_time": "2022-02-27T18:07:02.294Z"
   },
   {
    "duration": 21,
    "start_time": "2022-02-27T18:07:02.330Z"
   },
   {
    "duration": 17,
    "start_time": "2022-02-27T18:07:02.353Z"
   },
   {
    "duration": 203,
    "start_time": "2022-02-27T18:07:21.932Z"
   },
   {
    "duration": 53,
    "start_time": "2022-02-27T18:07:23.670Z"
   },
   {
    "duration": 10,
    "start_time": "2022-02-27T18:07:23.724Z"
   },
   {
    "duration": 27,
    "start_time": "2022-02-27T18:07:23.736Z"
   },
   {
    "duration": 7,
    "start_time": "2022-02-27T18:07:23.765Z"
   },
   {
    "duration": 15,
    "start_time": "2022-02-27T18:07:23.774Z"
   },
   {
    "duration": 4,
    "start_time": "2022-02-27T18:07:23.791Z"
   },
   {
    "duration": 9,
    "start_time": "2022-02-27T18:07:23.796Z"
   },
   {
    "duration": 53,
    "start_time": "2022-02-27T18:07:23.807Z"
   },
   {
    "duration": 9,
    "start_time": "2022-02-27T18:07:23.864Z"
   },
   {
    "duration": 23,
    "start_time": "2022-02-27T18:07:23.875Z"
   },
   {
    "duration": 7,
    "start_time": "2022-02-27T18:07:23.900Z"
   },
   {
    "duration": 56,
    "start_time": "2022-02-27T18:07:23.909Z"
   },
   {
    "duration": 10,
    "start_time": "2022-02-27T18:07:23.967Z"
   },
   {
    "duration": 8,
    "start_time": "2022-02-27T18:07:23.979Z"
   },
   {
    "duration": 8,
    "start_time": "2022-02-27T18:07:23.988Z"
   },
   {
    "duration": 5,
    "start_time": "2022-02-27T18:07:23.999Z"
   },
   {
    "duration": 72,
    "start_time": "2022-02-27T18:07:24.006Z"
   },
   {
    "duration": 11,
    "start_time": "2022-02-27T18:07:24.081Z"
   },
   {
    "duration": 16,
    "start_time": "2022-02-27T18:07:24.095Z"
   },
   {
    "duration": 71,
    "start_time": "2022-02-27T18:07:24.113Z"
   },
   {
    "duration": 6,
    "start_time": "2022-02-27T18:07:24.186Z"
   },
   {
    "duration": 17,
    "start_time": "2022-02-27T18:07:24.194Z"
   },
   {
    "duration": 52,
    "start_time": "2022-02-27T18:07:24.213Z"
   },
   {
    "duration": 18,
    "start_time": "2022-02-27T18:07:24.266Z"
   },
   {
    "duration": 197,
    "start_time": "2022-02-27T18:08:06.903Z"
   },
   {
    "duration": 51,
    "start_time": "2022-02-27T18:09:45.991Z"
   },
   {
    "duration": 10,
    "start_time": "2022-02-27T18:09:46.043Z"
   },
   {
    "duration": 9,
    "start_time": "2022-02-27T18:09:46.055Z"
   },
   {
    "duration": 5,
    "start_time": "2022-02-27T18:09:46.066Z"
   },
   {
    "duration": 14,
    "start_time": "2022-02-27T18:09:46.072Z"
   },
   {
    "duration": 2,
    "start_time": "2022-02-27T18:09:46.088Z"
   },
   {
    "duration": 6,
    "start_time": "2022-02-27T18:09:46.092Z"
   },
   {
    "duration": 8,
    "start_time": "2022-02-27T18:09:46.100Z"
   },
   {
    "duration": 49,
    "start_time": "2022-02-27T18:09:46.111Z"
   },
   {
    "duration": 21,
    "start_time": "2022-02-27T18:09:46.162Z"
   },
   {
    "duration": 4,
    "start_time": "2022-02-27T18:09:46.185Z"
   },
   {
    "duration": 15,
    "start_time": "2022-02-27T18:09:46.191Z"
   },
   {
    "duration": 16,
    "start_time": "2022-02-27T18:09:46.208Z"
   },
   {
    "duration": 37,
    "start_time": "2022-02-27T18:09:46.226Z"
   },
   {
    "duration": 22,
    "start_time": "2022-02-27T18:09:46.265Z"
   },
   {
    "duration": 22,
    "start_time": "2022-02-27T18:09:46.288Z"
   },
   {
    "duration": 20,
    "start_time": "2022-02-27T18:09:46.311Z"
   },
   {
    "duration": 12,
    "start_time": "2022-02-27T18:09:46.333Z"
   },
   {
    "duration": 20,
    "start_time": "2022-02-27T18:09:46.346Z"
   },
   {
    "duration": 27,
    "start_time": "2022-02-27T18:09:46.368Z"
   },
   {
    "duration": 4,
    "start_time": "2022-02-27T18:09:46.396Z"
   },
   {
    "duration": 25,
    "start_time": "2022-02-27T18:09:46.402Z"
   },
   {
    "duration": 40,
    "start_time": "2022-02-27T18:09:46.428Z"
   },
   {
    "duration": 16,
    "start_time": "2022-02-27T18:09:46.470Z"
   },
   {
    "duration": 198,
    "start_time": "2022-02-27T18:13:21.014Z"
   },
   {
    "duration": 58,
    "start_time": "2022-02-27T18:13:23.467Z"
   },
   {
    "duration": 11,
    "start_time": "2022-02-27T18:13:23.527Z"
   },
   {
    "duration": 23,
    "start_time": "2022-02-27T18:13:23.540Z"
   },
   {
    "duration": 32,
    "start_time": "2022-02-27T18:13:23.564Z"
   },
   {
    "duration": 17,
    "start_time": "2022-02-27T18:13:23.597Z"
   },
   {
    "duration": 17,
    "start_time": "2022-02-27T18:13:23.616Z"
   },
   {
    "duration": 20,
    "start_time": "2022-02-27T18:13:23.635Z"
   },
   {
    "duration": 26,
    "start_time": "2022-02-27T18:13:23.657Z"
   },
   {
    "duration": 11,
    "start_time": "2022-02-27T18:13:23.686Z"
   },
   {
    "duration": 35,
    "start_time": "2022-02-27T18:13:23.699Z"
   },
   {
    "duration": 22,
    "start_time": "2022-02-27T18:13:23.736Z"
   },
   {
    "duration": 28,
    "start_time": "2022-02-27T18:13:23.759Z"
   },
   {
    "duration": 18,
    "start_time": "2022-02-27T18:13:23.789Z"
   },
   {
    "duration": 7,
    "start_time": "2022-02-27T18:13:23.809Z"
   },
   {
    "duration": 30,
    "start_time": "2022-02-27T18:13:23.818Z"
   },
   {
    "duration": 30,
    "start_time": "2022-02-27T18:13:23.849Z"
   },
   {
    "duration": 36,
    "start_time": "2022-02-27T18:13:23.881Z"
   },
   {
    "duration": 20,
    "start_time": "2022-02-27T18:13:23.919Z"
   },
   {
    "duration": 20,
    "start_time": "2022-02-27T18:13:23.941Z"
   },
   {
    "duration": 31,
    "start_time": "2022-02-27T18:13:23.962Z"
   },
   {
    "duration": 4,
    "start_time": "2022-02-27T18:13:23.995Z"
   },
   {
    "duration": 20,
    "start_time": "2022-02-27T18:13:24.001Z"
   },
   {
    "duration": 42,
    "start_time": "2022-02-27T18:13:24.023Z"
   },
   {
    "duration": 18,
    "start_time": "2022-02-27T18:13:24.067Z"
   },
   {
    "duration": 234,
    "start_time": "2022-02-27T18:15:26.338Z"
   },
   {
    "duration": 55,
    "start_time": "2022-02-27T18:15:32.997Z"
   },
   {
    "duration": 13,
    "start_time": "2022-02-27T18:15:33.054Z"
   },
   {
    "duration": 11,
    "start_time": "2022-02-27T18:15:33.070Z"
   },
   {
    "duration": 8,
    "start_time": "2022-02-27T18:15:33.084Z"
   },
   {
    "duration": 14,
    "start_time": "2022-02-27T18:15:33.094Z"
   },
   {
    "duration": 3,
    "start_time": "2022-02-27T18:15:33.110Z"
   },
   {
    "duration": 49,
    "start_time": "2022-02-27T18:15:33.114Z"
   },
   {
    "duration": 10,
    "start_time": "2022-02-27T18:15:33.165Z"
   },
   {
    "duration": 6,
    "start_time": "2022-02-27T18:15:33.177Z"
   },
   {
    "duration": 23,
    "start_time": "2022-02-27T18:15:33.184Z"
   },
   {
    "duration": 6,
    "start_time": "2022-02-27T18:15:33.210Z"
   },
   {
    "duration": 12,
    "start_time": "2022-02-27T18:15:33.260Z"
   },
   {
    "duration": 11,
    "start_time": "2022-02-27T18:15:33.274Z"
   },
   {
    "duration": 8,
    "start_time": "2022-02-27T18:15:33.287Z"
   },
   {
    "duration": 8,
    "start_time": "2022-02-27T18:15:33.297Z"
   },
   {
    "duration": 5,
    "start_time": "2022-02-27T18:15:33.360Z"
   },
   {
    "duration": 20,
    "start_time": "2022-02-27T18:15:33.368Z"
   },
   {
    "duration": 11,
    "start_time": "2022-02-27T18:15:33.391Z"
   },
   {
    "duration": 57,
    "start_time": "2022-02-27T18:15:33.403Z"
   },
   {
    "duration": 29,
    "start_time": "2022-02-27T18:15:33.462Z"
   },
   {
    "duration": 5,
    "start_time": "2022-02-27T18:15:33.492Z"
   },
   {
    "duration": 24,
    "start_time": "2022-02-27T18:15:33.498Z"
   },
   {
    "duration": 43,
    "start_time": "2022-02-27T18:15:33.525Z"
   },
   {
    "duration": 7,
    "start_time": "2022-02-27T18:15:33.570Z"
   },
   {
    "duration": 90,
    "start_time": "2022-02-27T18:36:34.951Z"
   },
   {
    "duration": 6,
    "start_time": "2022-02-27T18:36:38.630Z"
   },
   {
    "duration": 187,
    "start_time": "2022-02-27T18:41:45.806Z"
   },
   {
    "duration": 51,
    "start_time": "2022-02-27T18:41:56.345Z"
   },
   {
    "duration": 9,
    "start_time": "2022-02-27T18:41:56.398Z"
   },
   {
    "duration": 9,
    "start_time": "2022-02-27T18:41:56.409Z"
   },
   {
    "duration": 5,
    "start_time": "2022-02-27T18:41:56.420Z"
   },
   {
    "duration": 45,
    "start_time": "2022-02-27T18:41:56.426Z"
   },
   {
    "duration": 3,
    "start_time": "2022-02-27T18:41:56.472Z"
   },
   {
    "duration": 9,
    "start_time": "2022-02-27T18:41:56.476Z"
   },
   {
    "duration": 8,
    "start_time": "2022-02-27T18:41:56.487Z"
   },
   {
    "duration": 5,
    "start_time": "2022-02-27T18:41:56.497Z"
   },
   {
    "duration": 57,
    "start_time": "2022-02-27T18:41:56.503Z"
   },
   {
    "duration": 4,
    "start_time": "2022-02-27T18:41:56.562Z"
   },
   {
    "duration": 9,
    "start_time": "2022-02-27T18:41:56.568Z"
   },
   {
    "duration": 10,
    "start_time": "2022-02-27T18:41:56.579Z"
   },
   {
    "duration": 6,
    "start_time": "2022-02-27T18:41:56.590Z"
   },
   {
    "duration": 6,
    "start_time": "2022-02-27T18:41:56.597Z"
   },
   {
    "duration": 5,
    "start_time": "2022-02-27T18:41:56.604Z"
   },
   {
    "duration": 18,
    "start_time": "2022-02-27T18:41:56.660Z"
   },
   {
    "duration": 9,
    "start_time": "2022-02-27T18:41:56.680Z"
   },
   {
    "duration": 14,
    "start_time": "2022-02-27T18:41:56.691Z"
   },
   {
    "duration": 61,
    "start_time": "2022-02-27T18:41:56.707Z"
   },
   {
    "duration": 5,
    "start_time": "2022-02-27T18:41:56.769Z"
   },
   {
    "duration": 15,
    "start_time": "2022-02-27T18:41:56.775Z"
   },
   {
    "duration": 18,
    "start_time": "2022-02-27T18:41:56.793Z"
   },
   {
    "duration": 46,
    "start_time": "2022-02-27T18:41:56.813Z"
   },
   {
    "duration": 5,
    "start_time": "2022-02-27T18:41:56.861Z"
   },
   {
    "duration": 11,
    "start_time": "2022-02-27T18:41:56.867Z"
   },
   {
    "duration": 21,
    "start_time": "2022-02-27T18:42:03.300Z"
   },
   {
    "duration": 5,
    "start_time": "2022-02-27T18:45:17.174Z"
   },
   {
    "duration": 17,
    "start_time": "2022-02-27T18:46:43.919Z"
   },
   {
    "duration": 193,
    "start_time": "2022-02-27T18:49:50.601Z"
   },
   {
    "duration": 17,
    "start_time": "2022-02-27T18:50:02.224Z"
   },
   {
    "duration": 18,
    "start_time": "2022-02-27T18:50:15.797Z"
   },
   {
    "duration": 4,
    "start_time": "2022-02-27T19:01:20.999Z"
   },
   {
    "duration": 25,
    "start_time": "2022-02-27T19:02:12.962Z"
   },
   {
    "duration": 30,
    "start_time": "2022-02-27T19:08:12.444Z"
   },
   {
    "duration": 12,
    "start_time": "2022-02-27T19:11:06.621Z"
   },
   {
    "duration": 12,
    "start_time": "2022-02-27T19:14:36.784Z"
   },
   {
    "duration": 11,
    "start_time": "2022-02-27T19:15:10.253Z"
   },
   {
    "duration": 13,
    "start_time": "2022-02-27T19:15:18.230Z"
   },
   {
    "duration": 12,
    "start_time": "2022-02-27T19:15:40.435Z"
   },
   {
    "duration": 17,
    "start_time": "2022-02-27T19:16:45.295Z"
   },
   {
    "duration": 17,
    "start_time": "2022-02-27T19:22:04.410Z"
   },
   {
    "duration": 236,
    "start_time": "2022-02-27T19:29:16.255Z"
   },
   {
    "duration": 60,
    "start_time": "2022-02-27T19:29:24.135Z"
   },
   {
    "duration": 13,
    "start_time": "2022-02-27T19:29:24.197Z"
   },
   {
    "duration": 11,
    "start_time": "2022-02-27T19:29:24.213Z"
   },
   {
    "duration": 6,
    "start_time": "2022-02-27T19:29:24.259Z"
   },
   {
    "duration": 16,
    "start_time": "2022-02-27T19:29:24.268Z"
   },
   {
    "duration": 3,
    "start_time": "2022-02-27T19:29:24.286Z"
   },
   {
    "duration": 9,
    "start_time": "2022-02-27T19:29:24.291Z"
   },
   {
    "duration": 11,
    "start_time": "2022-02-27T19:29:24.302Z"
   },
   {
    "duration": 45,
    "start_time": "2022-02-27T19:29:24.316Z"
   },
   {
    "duration": 21,
    "start_time": "2022-02-27T19:29:24.362Z"
   },
   {
    "duration": 4,
    "start_time": "2022-02-27T19:29:24.384Z"
   },
   {
    "duration": 8,
    "start_time": "2022-02-27T19:29:24.390Z"
   },
   {
    "duration": 8,
    "start_time": "2022-02-27T19:29:24.399Z"
   },
   {
    "duration": 5,
    "start_time": "2022-02-27T19:29:24.409Z"
   },
   {
    "duration": 7,
    "start_time": "2022-02-27T19:29:24.459Z"
   },
   {
    "duration": 7,
    "start_time": "2022-02-27T19:29:24.468Z"
   },
   {
    "duration": 20,
    "start_time": "2022-02-27T19:29:24.477Z"
   },
   {
    "duration": 9,
    "start_time": "2022-02-27T19:29:24.498Z"
   },
   {
    "duration": 53,
    "start_time": "2022-02-27T19:29:24.509Z"
   },
   {
    "duration": 28,
    "start_time": "2022-02-27T19:29:24.564Z"
   },
   {
    "duration": 4,
    "start_time": "2022-02-27T19:29:24.594Z"
   },
   {
    "duration": 21,
    "start_time": "2022-02-27T19:29:24.599Z"
   },
   {
    "duration": 46,
    "start_time": "2022-02-27T19:29:24.622Z"
   },
   {
    "duration": 7,
    "start_time": "2022-02-27T19:29:24.670Z"
   },
   {
    "duration": 15,
    "start_time": "2022-02-27T19:29:24.679Z"
   },
   {
    "duration": 26,
    "start_time": "2022-02-27T19:29:24.697Z"
   },
   {
    "duration": 42,
    "start_time": "2022-02-27T19:29:24.724Z"
   },
   {
    "duration": 31,
    "start_time": "2022-02-27T19:29:24.768Z"
   },
   {
    "duration": 211,
    "start_time": "2022-02-27T19:29:25.021Z"
   },
   {
    "duration": -328,
    "start_time": "2022-02-27T19:29:25.562Z"
   },
   {
    "duration": 18,
    "start_time": "2022-02-27T19:29:25.309Z"
   },
   {
    "duration": 196,
    "start_time": "2022-02-27T19:29:46.815Z"
   },
   {
    "duration": 227,
    "start_time": "2022-02-27T19:29:56.220Z"
   },
   {
    "duration": 17,
    "start_time": "2022-02-27T19:30:04.790Z"
   },
   {
    "duration": 21,
    "start_time": "2022-02-27T19:30:16.431Z"
   },
   {
    "duration": 19,
    "start_time": "2022-02-27T19:31:27.017Z"
   },
   {
    "duration": 72,
    "start_time": "2022-02-27T19:31:33.224Z"
   },
   {
    "duration": 208,
    "start_time": "2022-02-27T19:32:59.475Z"
   },
   {
    "duration": 23,
    "start_time": "2022-02-27T19:33:07.179Z"
   },
   {
    "duration": 23,
    "start_time": "2022-02-27T19:34:07.655Z"
   },
   {
    "duration": 260,
    "start_time": "2022-02-27T19:34:48.972Z"
   },
   {
    "duration": 67,
    "start_time": "2022-02-27T19:34:59.931Z"
   },
   {
    "duration": 56,
    "start_time": "2022-02-27T19:35:10.976Z"
   },
   {
    "duration": 304,
    "start_time": "2022-02-27T19:35:11.034Z"
   },
   {
    "duration": 492,
    "start_time": "2022-02-27T19:35:11.340Z"
   },
   {
    "duration": 51,
    "start_time": "2022-02-27T19:35:11.834Z"
   },
   {
    "duration": 15,
    "start_time": "2022-02-27T19:35:11.887Z"
   },
   {
    "duration": 5,
    "start_time": "2022-02-27T19:35:11.904Z"
   },
   {
    "duration": 10,
    "start_time": "2022-02-27T19:35:11.910Z"
   },
   {
    "duration": 8,
    "start_time": "2022-02-27T19:35:11.923Z"
   },
   {
    "duration": 5,
    "start_time": "2022-02-27T19:35:11.933Z"
   },
   {
    "duration": 36,
    "start_time": "2022-02-27T19:35:11.940Z"
   },
   {
    "duration": 6,
    "start_time": "2022-02-27T19:35:11.978Z"
   },
   {
    "duration": 11,
    "start_time": "2022-02-27T19:35:11.985Z"
   },
   {
    "duration": 10,
    "start_time": "2022-02-27T19:35:11.997Z"
   },
   {
    "duration": 5,
    "start_time": "2022-02-27T19:35:12.008Z"
   },
   {
    "duration": 45,
    "start_time": "2022-02-27T19:35:12.015Z"
   },
   {
    "duration": 18,
    "start_time": "2022-02-27T19:35:12.062Z"
   },
   {
    "duration": 19,
    "start_time": "2022-02-27T19:35:12.082Z"
   },
   {
    "duration": 9,
    "start_time": "2022-02-27T19:35:12.102Z"
   },
   {
    "duration": 15,
    "start_time": "2022-02-27T19:35:12.112Z"
   },
   {
    "duration": 53,
    "start_time": "2022-02-27T19:35:12.128Z"
   },
   {
    "duration": 5,
    "start_time": "2022-02-27T19:35:12.182Z"
   },
   {
    "duration": 15,
    "start_time": "2022-02-27T19:35:12.188Z"
   },
   {
    "duration": 17,
    "start_time": "2022-02-27T19:35:12.206Z"
   },
   {
    "duration": 40,
    "start_time": "2022-02-27T19:35:12.224Z"
   },
   {
    "duration": 5,
    "start_time": "2022-02-27T19:35:12.266Z"
   },
   {
    "duration": 16,
    "start_time": "2022-02-27T19:35:12.273Z"
   },
   {
    "duration": 17,
    "start_time": "2022-02-27T19:35:12.291Z"
   },
   {
    "duration": 70,
    "start_time": "2022-02-27T19:35:12.309Z"
   },
   {
    "duration": 66,
    "start_time": "2022-02-27T19:35:12.380Z"
   },
   {
    "duration": 45,
    "start_time": "2022-02-27T19:35:12.403Z"
   },
   {
    "duration": 44,
    "start_time": "2022-02-27T19:35:12.405Z"
   },
   {
    "duration": 24,
    "start_time": "2022-02-27T19:35:35.740Z"
   },
   {
    "duration": 23,
    "start_time": "2022-02-27T19:35:51.794Z"
   },
   {
    "duration": 25,
    "start_time": "2022-02-27T19:38:04.704Z"
   },
   {
    "duration": 24,
    "start_time": "2022-02-27T19:38:12.987Z"
   },
   {
    "duration": 4748,
    "start_time": "2022-02-27T19:40:11.989Z"
   },
   {
    "duration": 42,
    "start_time": "2022-02-27T19:41:22.205Z"
   },
   {
    "duration": 52,
    "start_time": "2022-02-27T19:41:31.871Z"
   },
   {
    "duration": 10,
    "start_time": "2022-02-27T19:41:31.924Z"
   },
   {
    "duration": 25,
    "start_time": "2022-02-27T19:41:31.936Z"
   },
   {
    "duration": 6,
    "start_time": "2022-02-27T19:41:31.963Z"
   },
   {
    "duration": 16,
    "start_time": "2022-02-27T19:41:31.971Z"
   },
   {
    "duration": 3,
    "start_time": "2022-02-27T19:41:31.988Z"
   },
   {
    "duration": 8,
    "start_time": "2022-02-27T19:41:31.992Z"
   },
   {
    "duration": 9,
    "start_time": "2022-02-27T19:41:32.003Z"
   },
   {
    "duration": 46,
    "start_time": "2022-02-27T19:41:32.014Z"
   },
   {
    "duration": 21,
    "start_time": "2022-02-27T19:41:32.062Z"
   },
   {
    "duration": 5,
    "start_time": "2022-02-27T19:41:32.085Z"
   },
   {
    "duration": 10,
    "start_time": "2022-02-27T19:41:32.091Z"
   },
   {
    "duration": 8,
    "start_time": "2022-02-27T19:41:32.102Z"
   },
   {
    "duration": 6,
    "start_time": "2022-02-27T19:41:32.160Z"
   },
   {
    "duration": 6,
    "start_time": "2022-02-27T19:41:32.167Z"
   },
   {
    "duration": 4,
    "start_time": "2022-02-27T19:41:32.175Z"
   },
   {
    "duration": 17,
    "start_time": "2022-02-27T19:41:32.181Z"
   },
   {
    "duration": 7,
    "start_time": "2022-02-27T19:41:32.200Z"
   },
   {
    "duration": 62,
    "start_time": "2022-02-27T19:41:32.209Z"
   },
   {
    "duration": 28,
    "start_time": "2022-02-27T19:41:32.273Z"
   },
   {
    "duration": 4,
    "start_time": "2022-02-27T19:41:32.303Z"
   },
   {
    "duration": 14,
    "start_time": "2022-02-27T19:41:32.308Z"
   },
   {
    "duration": 50,
    "start_time": "2022-02-27T19:41:32.324Z"
   },
   {
    "duration": 7,
    "start_time": "2022-02-27T19:41:32.376Z"
   },
   {
    "duration": 9,
    "start_time": "2022-02-27T19:41:32.385Z"
   },
   {
    "duration": 23,
    "start_time": "2022-02-27T19:41:32.395Z"
   },
   {
    "duration": 48,
    "start_time": "2022-02-27T19:41:32.419Z"
   },
   {
    "duration": 30,
    "start_time": "2022-02-27T19:41:32.469Z"
   },
   {
    "duration": 4859,
    "start_time": "2022-02-27T19:41:32.501Z"
   },
   {
    "duration": 39,
    "start_time": "2022-02-27T19:41:37.322Z"
   },
   {
    "duration": 36,
    "start_time": "2022-02-27T19:41:37.326Z"
   },
   {
    "duration": 25,
    "start_time": "2022-02-27T19:42:16.693Z"
   },
   {
    "duration": 23,
    "start_time": "2022-02-27T19:42:28.987Z"
   },
   {
    "duration": 22,
    "start_time": "2022-02-27T19:43:20.994Z"
   },
   {
    "duration": 18,
    "start_time": "2022-02-27T19:44:16.738Z"
   },
   {
    "duration": 45,
    "start_time": "2022-02-27T19:46:13.982Z"
   },
   {
    "duration": 18,
    "start_time": "2022-02-27T19:46:30.618Z"
   },
   {
    "duration": 26,
    "start_time": "2022-02-27T19:46:48.623Z"
   },
   {
    "duration": 24,
    "start_time": "2022-02-27T19:48:24.302Z"
   },
   {
    "duration": 2,
    "start_time": "2022-02-27T19:48:47.816Z"
   },
   {
    "duration": 2,
    "start_time": "2022-02-27T19:49:10.801Z"
   },
   {
    "duration": 3,
    "start_time": "2022-02-27T19:50:10.122Z"
   },
   {
    "duration": 25,
    "start_time": "2022-02-27T19:54:47.860Z"
   },
   {
    "duration": 23,
    "start_time": "2022-02-27T19:57:09.507Z"
   },
   {
    "duration": 194,
    "start_time": "2022-02-27T19:59:11.843Z"
   },
   {
    "duration": 52,
    "start_time": "2022-02-27T19:59:23.705Z"
   },
   {
    "duration": 10,
    "start_time": "2022-02-27T19:59:23.758Z"
   },
   {
    "duration": 9,
    "start_time": "2022-02-27T19:59:23.770Z"
   },
   {
    "duration": 6,
    "start_time": "2022-02-27T19:59:23.781Z"
   },
   {
    "duration": 15,
    "start_time": "2022-02-27T19:59:23.788Z"
   },
   {
    "duration": 2,
    "start_time": "2022-02-27T19:59:23.805Z"
   },
   {
    "duration": 7,
    "start_time": "2022-02-27T19:59:23.809Z"
   },
   {
    "duration": 9,
    "start_time": "2022-02-27T19:59:23.860Z"
   },
   {
    "duration": 5,
    "start_time": "2022-02-27T19:59:23.871Z"
   },
   {
    "duration": 21,
    "start_time": "2022-02-27T19:59:23.878Z"
   },
   {
    "duration": 5,
    "start_time": "2022-02-27T19:59:23.900Z"
   },
   {
    "duration": 9,
    "start_time": "2022-02-27T19:59:23.906Z"
   },
   {
    "duration": 9,
    "start_time": "2022-02-27T19:59:23.959Z"
   },
   {
    "duration": 6,
    "start_time": "2022-02-27T19:59:23.969Z"
   },
   {
    "duration": 7,
    "start_time": "2022-02-27T19:59:23.977Z"
   },
   {
    "duration": 5,
    "start_time": "2022-02-27T19:59:23.986Z"
   },
   {
    "duration": 19,
    "start_time": "2022-02-27T19:59:23.992Z"
   },
   {
    "duration": 53,
    "start_time": "2022-02-27T19:59:24.013Z"
   },
   {
    "duration": 56,
    "start_time": "2022-02-27T19:59:24.068Z"
   },
   {
    "duration": 28,
    "start_time": "2022-02-27T19:59:24.126Z"
   },
   {
    "duration": 4,
    "start_time": "2022-02-27T19:59:24.156Z"
   },
   {
    "duration": 17,
    "start_time": "2022-02-27T19:59:24.162Z"
   },
   {
    "duration": 23,
    "start_time": "2022-02-27T19:59:24.182Z"
   },
   {
    "duration": 20,
    "start_time": "2022-02-27T19:59:24.207Z"
   },
   {
    "duration": 5,
    "start_time": "2022-02-27T19:59:24.229Z"
   },
   {
    "duration": 34,
    "start_time": "2022-02-27T19:59:24.236Z"
   },
   {
    "duration": 20,
    "start_time": "2022-02-27T19:59:24.271Z"
   },
   {
    "duration": 27,
    "start_time": "2022-02-27T19:59:24.292Z"
   },
   {
    "duration": 45,
    "start_time": "2022-02-27T19:59:24.321Z"
   },
   {
    "duration": 25,
    "start_time": "2022-02-27T19:59:24.524Z"
   },
   {
    "duration": 23,
    "start_time": "2022-02-27T19:59:24.550Z"
   },
   {
    "duration": 206,
    "start_time": "2022-02-27T19:59:38.725Z"
   },
   {
    "duration": 268,
    "start_time": "2022-02-27T20:00:47.415Z"
   },
   {
    "duration": 15,
    "start_time": "2022-02-27T20:00:51.458Z"
   },
   {
    "duration": 16,
    "start_time": "2022-02-27T20:01:03.968Z"
   },
   {
    "duration": 711,
    "start_time": "2022-02-28T08:42:30.873Z"
   },
   {
    "duration": 13,
    "start_time": "2022-02-28T08:42:31.587Z"
   },
   {
    "duration": 11,
    "start_time": "2022-02-28T08:42:31.603Z"
   },
   {
    "duration": 5,
    "start_time": "2022-02-28T08:42:31.617Z"
   },
   {
    "duration": 57,
    "start_time": "2022-02-28T08:42:31.624Z"
   },
   {
    "duration": 3,
    "start_time": "2022-02-28T08:42:31.683Z"
   },
   {
    "duration": 8,
    "start_time": "2022-02-28T08:42:31.687Z"
   },
   {
    "duration": 10,
    "start_time": "2022-02-28T08:42:31.697Z"
   },
   {
    "duration": 5,
    "start_time": "2022-02-28T08:42:31.709Z"
   },
   {
    "duration": 22,
    "start_time": "2022-02-28T08:42:31.716Z"
   },
   {
    "duration": 38,
    "start_time": "2022-02-28T08:42:31.740Z"
   },
   {
    "duration": 17,
    "start_time": "2022-02-28T08:42:31.780Z"
   },
   {
    "duration": 8,
    "start_time": "2022-02-28T08:42:31.799Z"
   },
   {
    "duration": 7,
    "start_time": "2022-02-28T08:42:31.809Z"
   },
   {
    "duration": 8,
    "start_time": "2022-02-28T08:42:31.818Z"
   },
   {
    "duration": 52,
    "start_time": "2022-02-28T08:42:31.828Z"
   },
   {
    "duration": 22,
    "start_time": "2022-02-28T08:42:31.882Z"
   },
   {
    "duration": 12,
    "start_time": "2022-02-28T08:42:31.906Z"
   },
   {
    "duration": 58,
    "start_time": "2022-02-28T08:42:31.920Z"
   },
   {
    "duration": 31,
    "start_time": "2022-02-28T08:42:31.980Z"
   },
   {
    "duration": 5,
    "start_time": "2022-02-28T08:42:32.012Z"
   },
   {
    "duration": 22,
    "start_time": "2022-02-28T08:42:32.018Z"
   },
   {
    "duration": 49,
    "start_time": "2022-02-28T08:42:32.043Z"
   },
   {
    "duration": 7,
    "start_time": "2022-02-28T08:42:32.094Z"
   },
   {
    "duration": 9,
    "start_time": "2022-02-28T08:42:32.102Z"
   },
   {
    "duration": 19,
    "start_time": "2022-02-28T08:42:32.113Z"
   },
   {
    "duration": 53,
    "start_time": "2022-02-28T08:42:32.134Z"
   },
   {
    "duration": 99,
    "start_time": "2022-02-28T08:46:59.415Z"
   },
   {
    "duration": 351,
    "start_time": "2022-02-28T08:47:04.679Z"
   },
   {
    "duration": 71,
    "start_time": "2022-02-28T08:47:20.283Z"
   },
   {
    "duration": 11,
    "start_time": "2022-02-28T08:47:20.356Z"
   },
   {
    "duration": 16,
    "start_time": "2022-02-28T08:47:20.369Z"
   },
   {
    "duration": 5,
    "start_time": "2022-02-28T08:47:20.387Z"
   },
   {
    "duration": 15,
    "start_time": "2022-02-28T08:47:20.394Z"
   },
   {
    "duration": 3,
    "start_time": "2022-02-28T08:47:20.410Z"
   },
   {
    "duration": 11,
    "start_time": "2022-02-28T08:47:20.414Z"
   },
   {
    "duration": 49,
    "start_time": "2022-02-28T08:47:20.428Z"
   },
   {
    "duration": 6,
    "start_time": "2022-02-28T08:47:20.479Z"
   },
   {
    "duration": 27,
    "start_time": "2022-02-28T08:47:20.486Z"
   },
   {
    "duration": 4,
    "start_time": "2022-02-28T08:47:20.515Z"
   },
   {
    "duration": 12,
    "start_time": "2022-02-28T08:47:20.521Z"
   },
   {
    "duration": 46,
    "start_time": "2022-02-28T08:47:20.535Z"
   },
   {
    "duration": 6,
    "start_time": "2022-02-28T08:47:20.583Z"
   },
   {
    "duration": 14,
    "start_time": "2022-02-28T08:47:20.590Z"
   },
   {
    "duration": 21,
    "start_time": "2022-02-28T08:47:20.606Z"
   },
   {
    "duration": 24,
    "start_time": "2022-02-28T08:47:20.629Z"
   },
   {
    "duration": 28,
    "start_time": "2022-02-28T08:47:20.656Z"
   },
   {
    "duration": 18,
    "start_time": "2022-02-28T08:47:20.686Z"
   },
   {
    "duration": 32,
    "start_time": "2022-02-28T08:47:20.706Z"
   },
   {
    "duration": 42,
    "start_time": "2022-02-28T08:47:20.740Z"
   },
   {
    "duration": 23,
    "start_time": "2022-02-28T08:47:20.784Z"
   },
   {
    "duration": 22,
    "start_time": "2022-02-28T08:47:20.812Z"
   },
   {
    "duration": 41,
    "start_time": "2022-02-28T08:47:20.836Z"
   },
   {
    "duration": 6,
    "start_time": "2022-02-28T08:47:20.879Z"
   },
   {
    "duration": 23,
    "start_time": "2022-02-28T08:47:20.887Z"
   },
   {
    "duration": 19,
    "start_time": "2022-02-28T08:47:20.912Z"
   },
   {
    "duration": 66,
    "start_time": "2022-02-28T08:47:20.934Z"
   },
   {
    "duration": 26,
    "start_time": "2022-02-28T08:47:21.002Z"
   },
   {
    "duration": 48,
    "start_time": "2022-02-28T08:47:21.030Z"
   },
   {
    "duration": 27,
    "start_time": "2022-02-28T08:47:21.080Z"
   },
   {
    "duration": 89,
    "start_time": "2022-02-28T08:48:04.757Z"
   },
   {
    "duration": 26,
    "start_time": "2022-02-28T08:48:16.432Z"
   },
   {
    "duration": 122,
    "start_time": "2022-02-28T09:56:25.172Z"
   },
   {
    "duration": 17,
    "start_time": "2022-02-28T09:56:49.280Z"
   },
   {
    "duration": 280,
    "start_time": "2022-02-28T10:07:43.323Z"
   },
   {
    "duration": 78,
    "start_time": "2022-02-28T10:08:19.115Z"
   },
   {
    "duration": 12,
    "start_time": "2022-02-28T10:08:19.195Z"
   },
   {
    "duration": 20,
    "start_time": "2022-02-28T10:08:19.210Z"
   },
   {
    "duration": 7,
    "start_time": "2022-02-28T10:08:19.232Z"
   },
   {
    "duration": 14,
    "start_time": "2022-02-28T10:08:19.278Z"
   },
   {
    "duration": 3,
    "start_time": "2022-02-28T10:08:19.294Z"
   },
   {
    "duration": 9,
    "start_time": "2022-02-28T10:08:19.299Z"
   },
   {
    "duration": 10,
    "start_time": "2022-02-28T10:08:19.311Z"
   },
   {
    "duration": 55,
    "start_time": "2022-02-28T10:08:19.323Z"
   },
   {
    "duration": 25,
    "start_time": "2022-02-28T10:08:19.380Z"
   },
   {
    "duration": 8,
    "start_time": "2022-02-28T10:08:19.407Z"
   },
   {
    "duration": 10,
    "start_time": "2022-02-28T10:08:19.416Z"
   },
   {
    "duration": 49,
    "start_time": "2022-02-28T10:08:19.428Z"
   },
   {
    "duration": 8,
    "start_time": "2022-02-28T10:08:19.479Z"
   },
   {
    "duration": 8,
    "start_time": "2022-02-28T10:08:19.488Z"
   },
   {
    "duration": 5,
    "start_time": "2022-02-28T10:08:19.497Z"
   },
   {
    "duration": 22,
    "start_time": "2022-02-28T10:08:19.503Z"
   },
   {
    "duration": 53,
    "start_time": "2022-02-28T10:08:19.527Z"
   },
   {
    "duration": 19,
    "start_time": "2022-02-28T10:08:19.582Z"
   },
   {
    "duration": 33,
    "start_time": "2022-02-28T10:08:19.603Z"
   },
   {
    "duration": 5,
    "start_time": "2022-02-28T10:08:19.638Z"
   },
   {
    "duration": 56,
    "start_time": "2022-02-28T10:08:19.644Z"
   },
   {
    "duration": 22,
    "start_time": "2022-02-28T10:08:19.704Z"
   },
   {
    "duration": 50,
    "start_time": "2022-02-28T10:08:19.729Z"
   },
   {
    "duration": 8,
    "start_time": "2022-02-28T10:08:19.782Z"
   },
   {
    "duration": 23,
    "start_time": "2022-02-28T10:08:19.792Z"
   },
   {
    "duration": 66,
    "start_time": "2022-02-28T10:08:19.817Z"
   },
   {
    "duration": 32,
    "start_time": "2022-02-28T10:08:19.885Z"
   },
   {
    "duration": 300,
    "start_time": "2022-02-28T10:08:19.919Z"
   },
   {
    "duration": -5,
    "start_time": "2022-02-28T10:08:20.226Z"
   },
   {
    "duration": -8,
    "start_time": "2022-02-28T10:08:20.231Z"
   },
   {
    "duration": 285,
    "start_time": "2022-02-28T10:09:28.366Z"
   },
   {
    "duration": 630,
    "start_time": "2022-02-28T10:09:43.152Z"
   },
   {
    "duration": 23,
    "start_time": "2022-02-28T10:10:17.923Z"
   },
   {
    "duration": 288,
    "start_time": "2022-02-28T10:13:27.993Z"
   },
   {
    "duration": 63,
    "start_time": "2022-02-28T10:13:47.859Z"
   },
   {
    "duration": 15,
    "start_time": "2022-02-28T10:13:47.925Z"
   },
   {
    "duration": 46,
    "start_time": "2022-02-28T10:13:47.943Z"
   },
   {
    "duration": 8,
    "start_time": "2022-02-28T10:13:47.992Z"
   },
   {
    "duration": 18,
    "start_time": "2022-02-28T10:13:48.002Z"
   },
   {
    "duration": 4,
    "start_time": "2022-02-28T10:13:48.022Z"
   },
   {
    "duration": 55,
    "start_time": "2022-02-28T10:13:48.028Z"
   },
   {
    "duration": 15,
    "start_time": "2022-02-28T10:13:48.087Z"
   },
   {
    "duration": 8,
    "start_time": "2022-02-28T10:13:48.106Z"
   },
   {
    "duration": 63,
    "start_time": "2022-02-28T10:13:48.116Z"
   },
   {
    "duration": 7,
    "start_time": "2022-02-28T10:13:48.181Z"
   },
   {
    "duration": 13,
    "start_time": "2022-02-28T10:13:48.191Z"
   },
   {
    "duration": 10,
    "start_time": "2022-02-28T10:13:48.206Z"
   },
   {
    "duration": 18,
    "start_time": "2022-02-28T10:13:48.218Z"
   },
   {
    "duration": 7,
    "start_time": "2022-02-28T10:13:48.277Z"
   },
   {
    "duration": 7,
    "start_time": "2022-02-28T10:13:48.286Z"
   },
   {
    "duration": 21,
    "start_time": "2022-02-28T10:13:48.295Z"
   },
   {
    "duration": 10,
    "start_time": "2022-02-28T10:13:48.318Z"
   },
   {
    "duration": 58,
    "start_time": "2022-02-28T10:13:48.330Z"
   },
   {
    "duration": 32,
    "start_time": "2022-02-28T10:13:48.390Z"
   },
   {
    "duration": 5,
    "start_time": "2022-02-28T10:13:48.423Z"
   },
   {
    "duration": 48,
    "start_time": "2022-02-28T10:13:48.430Z"
   },
   {
    "duration": 21,
    "start_time": "2022-02-28T10:13:48.481Z"
   },
   {
    "duration": 8,
    "start_time": "2022-02-28T10:13:48.504Z"
   },
   {
    "duration": 6,
    "start_time": "2022-02-28T10:13:48.514Z"
   },
   {
    "duration": 63,
    "start_time": "2022-02-28T10:13:48.522Z"
   },
   {
    "duration": 20,
    "start_time": "2022-02-28T10:13:48.587Z"
   },
   {
    "duration": 34,
    "start_time": "2022-02-28T10:13:48.609Z"
   },
   {
    "duration": 335,
    "start_time": "2022-02-28T10:13:48.645Z"
   },
   {
    "duration": 38,
    "start_time": "2022-02-28T10:13:48.944Z"
   },
   {
    "duration": 36,
    "start_time": "2022-02-28T10:13:48.947Z"
   },
   {
    "duration": 28,
    "start_time": "2022-02-28T10:14:32.489Z"
   },
   {
    "duration": 342,
    "start_time": "2022-02-28T10:21:56.956Z"
   },
   {
    "duration": 8,
    "start_time": "2022-02-28T10:22:16.285Z"
   },
   {
    "duration": 8,
    "start_time": "2022-02-28T10:22:19.033Z"
   },
   {
    "duration": 13,
    "start_time": "2022-02-28T10:22:27.431Z"
   },
   {
    "duration": 28,
    "start_time": "2022-02-28T10:27:43.503Z"
   },
   {
    "duration": 28,
    "start_time": "2022-02-28T10:29:05.204Z"
   },
   {
    "duration": 30,
    "start_time": "2022-02-28T10:29:51.035Z"
   },
   {
    "duration": 22,
    "start_time": "2022-02-28T10:54:11.596Z"
   },
   {
    "duration": 71,
    "start_time": "2022-02-28T10:55:21.020Z"
   },
   {
    "duration": 11,
    "start_time": "2022-02-28T10:55:21.093Z"
   },
   {
    "duration": 28,
    "start_time": "2022-02-28T10:55:21.107Z"
   },
   {
    "duration": 22,
    "start_time": "2022-02-28T10:55:21.137Z"
   },
   {
    "duration": 42,
    "start_time": "2022-02-28T10:55:21.161Z"
   },
   {
    "duration": 8,
    "start_time": "2022-02-28T10:55:21.204Z"
   },
   {
    "duration": 22,
    "start_time": "2022-02-28T10:55:21.213Z"
   },
   {
    "duration": 28,
    "start_time": "2022-02-28T10:55:21.238Z"
   },
   {
    "duration": 17,
    "start_time": "2022-02-28T10:55:21.268Z"
   },
   {
    "duration": 42,
    "start_time": "2022-02-28T10:55:21.286Z"
   },
   {
    "duration": 5,
    "start_time": "2022-02-28T10:55:21.330Z"
   },
   {
    "duration": 15,
    "start_time": "2022-02-28T10:55:21.336Z"
   },
   {
    "duration": 29,
    "start_time": "2022-02-28T10:55:21.352Z"
   },
   {
    "duration": 6,
    "start_time": "2022-02-28T10:55:21.383Z"
   },
   {
    "duration": 24,
    "start_time": "2022-02-28T10:55:21.390Z"
   },
   {
    "duration": 7,
    "start_time": "2022-02-28T10:55:21.416Z"
   },
   {
    "duration": 32,
    "start_time": "2022-02-28T10:55:21.425Z"
   },
   {
    "duration": 20,
    "start_time": "2022-02-28T10:55:21.459Z"
   },
   {
    "duration": 32,
    "start_time": "2022-02-28T10:55:21.481Z"
   },
   {
    "duration": 33,
    "start_time": "2022-02-28T10:55:21.515Z"
   },
   {
    "duration": 6,
    "start_time": "2022-02-28T10:55:21.550Z"
   },
   {
    "duration": 17,
    "start_time": "2022-02-28T10:55:21.578Z"
   },
   {
    "duration": 25,
    "start_time": "2022-02-28T10:55:21.599Z"
   },
   {
    "duration": 7,
    "start_time": "2022-02-28T10:55:21.626Z"
   },
   {
    "duration": 46,
    "start_time": "2022-02-28T10:55:21.635Z"
   },
   {
    "duration": 20,
    "start_time": "2022-02-28T10:55:21.682Z"
   },
   {
    "duration": 20,
    "start_time": "2022-02-28T10:55:21.703Z"
   },
   {
    "duration": 55,
    "start_time": "2022-02-28T10:55:21.724Z"
   },
   {
    "duration": 33,
    "start_time": "2022-02-28T10:55:21.780Z"
   },
   {
    "duration": 23,
    "start_time": "2022-02-28T10:55:21.815Z"
   },
   {
    "duration": 50,
    "start_time": "2022-02-28T10:55:21.839Z"
   },
   {
    "duration": 6995,
    "start_time": "2022-02-28T10:55:21.891Z"
   },
   {
    "duration": 1237,
    "start_time": "2022-02-28T10:56:37.908Z"
   },
   {
    "duration": 22,
    "start_time": "2022-02-28T11:00:06.853Z"
   },
   {
    "duration": 72,
    "start_time": "2022-02-28T11:00:40.288Z"
   },
   {
    "duration": 18,
    "start_time": "2022-02-28T11:00:40.362Z"
   },
   {
    "duration": 10,
    "start_time": "2022-02-28T11:00:40.382Z"
   },
   {
    "duration": 6,
    "start_time": "2022-02-28T11:00:40.394Z"
   },
   {
    "duration": 17,
    "start_time": "2022-02-28T11:00:40.402Z"
   },
   {
    "duration": 2,
    "start_time": "2022-02-28T11:00:40.421Z"
   },
   {
    "duration": 12,
    "start_time": "2022-02-28T11:00:40.425Z"
   },
   {
    "duration": 43,
    "start_time": "2022-02-28T11:00:40.440Z"
   },
   {
    "duration": 6,
    "start_time": "2022-02-28T11:00:40.485Z"
   },
   {
    "duration": 24,
    "start_time": "2022-02-28T11:00:40.492Z"
   },
   {
    "duration": 5,
    "start_time": "2022-02-28T11:00:40.517Z"
   },
   {
    "duration": 16,
    "start_time": "2022-02-28T11:00:40.524Z"
   },
   {
    "duration": 10,
    "start_time": "2022-02-28T11:00:40.578Z"
   },
   {
    "duration": 7,
    "start_time": "2022-02-28T11:00:40.589Z"
   },
   {
    "duration": 14,
    "start_time": "2022-02-28T11:00:40.598Z"
   },
   {
    "duration": 11,
    "start_time": "2022-02-28T11:00:40.614Z"
   },
   {
    "duration": 51,
    "start_time": "2022-02-28T11:00:40.627Z"
   },
   {
    "duration": 9,
    "start_time": "2022-02-28T11:00:40.680Z"
   },
   {
    "duration": 18,
    "start_time": "2022-02-28T11:00:40.691Z"
   },
   {
    "duration": 34,
    "start_time": "2022-02-28T11:00:40.710Z"
   },
   {
    "duration": 5,
    "start_time": "2022-02-28T11:00:40.778Z"
   },
   {
    "duration": 19,
    "start_time": "2022-02-28T11:00:40.784Z"
   },
   {
    "duration": 21,
    "start_time": "2022-02-28T11:00:40.806Z"
   },
   {
    "duration": 8,
    "start_time": "2022-02-28T11:00:40.829Z"
   },
   {
    "duration": 6,
    "start_time": "2022-02-28T11:00:40.878Z"
   },
   {
    "duration": 20,
    "start_time": "2022-02-28T11:00:40.885Z"
   },
   {
    "duration": 20,
    "start_time": "2022-02-28T11:00:40.906Z"
   },
   {
    "duration": 64,
    "start_time": "2022-02-28T11:00:40.928Z"
   },
   {
    "duration": 32,
    "start_time": "2022-02-28T11:00:40.994Z"
   },
   {
    "duration": 56,
    "start_time": "2022-02-28T11:00:41.028Z"
   },
   {
    "duration": 32,
    "start_time": "2022-02-28T11:00:41.086Z"
   },
   {
    "duration": 26,
    "start_time": "2022-02-28T11:00:41.120Z"
   },
   {
    "duration": 24,
    "start_time": "2022-02-28T11:01:06.440Z"
   },
   {
    "duration": 19,
    "start_time": "2022-02-28T11:04:37.532Z"
   },
   {
    "duration": 19,
    "start_time": "2022-02-28T11:04:43.518Z"
   },
   {
    "duration": 27,
    "start_time": "2022-02-28T11:05:54.952Z"
   },
   {
    "duration": 28,
    "start_time": "2022-02-28T11:35:05.747Z"
   },
   {
    "duration": 208,
    "start_time": "2022-02-28T17:57:58.745Z"
   },
   {
    "duration": 613,
    "start_time": "2022-02-28T17:58:13.887Z"
   },
   {
    "duration": 14,
    "start_time": "2022-02-28T17:58:14.503Z"
   },
   {
    "duration": 23,
    "start_time": "2022-02-28T17:58:14.520Z"
   },
   {
    "duration": 8,
    "start_time": "2022-02-28T17:58:14.545Z"
   },
   {
    "duration": 16,
    "start_time": "2022-02-28T17:58:14.554Z"
   },
   {
    "duration": 3,
    "start_time": "2022-02-28T17:58:14.571Z"
   },
   {
    "duration": 12,
    "start_time": "2022-02-28T17:58:14.575Z"
   },
   {
    "duration": 9,
    "start_time": "2022-02-28T17:58:14.590Z"
   },
   {
    "duration": 41,
    "start_time": "2022-02-28T17:58:14.601Z"
   },
   {
    "duration": 20,
    "start_time": "2022-02-28T17:58:14.644Z"
   },
   {
    "duration": 5,
    "start_time": "2022-02-28T17:58:14.666Z"
   },
   {
    "duration": 13,
    "start_time": "2022-02-28T17:58:14.672Z"
   },
   {
    "duration": 10,
    "start_time": "2022-02-28T17:58:14.686Z"
   },
   {
    "duration": 42,
    "start_time": "2022-02-28T17:58:14.697Z"
   },
   {
    "duration": 8,
    "start_time": "2022-02-28T17:58:14.741Z"
   },
   {
    "duration": 6,
    "start_time": "2022-02-28T17:58:14.751Z"
   },
   {
    "duration": 23,
    "start_time": "2022-02-28T17:58:14.759Z"
   },
   {
    "duration": 10,
    "start_time": "2022-02-28T17:58:14.784Z"
   },
   {
    "duration": 57,
    "start_time": "2022-02-28T17:58:14.796Z"
   },
   {
    "duration": 27,
    "start_time": "2022-02-28T17:58:14.854Z"
   },
   {
    "duration": 4,
    "start_time": "2022-02-28T17:58:14.882Z"
   },
   {
    "duration": 15,
    "start_time": "2022-02-28T17:58:14.888Z"
   },
   {
    "duration": 48,
    "start_time": "2022-02-28T17:58:14.905Z"
   },
   {
    "duration": 16,
    "start_time": "2022-02-28T17:58:14.955Z"
   },
   {
    "duration": 6,
    "start_time": "2022-02-28T17:58:14.973Z"
   },
   {
    "duration": 17,
    "start_time": "2022-02-28T17:58:14.980Z"
   },
   {
    "duration": 62,
    "start_time": "2022-02-28T17:58:14.999Z"
   },
   {
    "duration": 19,
    "start_time": "2022-02-28T17:58:15.064Z"
   },
   {
    "duration": 33,
    "start_time": "2022-02-28T17:58:15.085Z"
   },
   {
    "duration": 26,
    "start_time": "2022-02-28T17:58:15.138Z"
   },
   {
    "duration": 32,
    "start_time": "2022-02-28T17:58:15.166Z"
   },
   {
    "duration": 52,
    "start_time": "2022-02-28T17:58:15.199Z"
   },
   {
    "duration": 27,
    "start_time": "2022-02-28T18:10:10.962Z"
   },
   {
    "duration": 25,
    "start_time": "2022-02-28T18:10:44.845Z"
   },
   {
    "duration": 29,
    "start_time": "2022-02-28T18:11:35.047Z"
   },
   {
    "duration": 25,
    "start_time": "2022-02-28T18:11:48.747Z"
   },
   {
    "duration": 26,
    "start_time": "2022-02-28T18:12:03.914Z"
   },
   {
    "duration": 225,
    "start_time": "2022-02-28T18:32:19.796Z"
   },
   {
    "duration": 60,
    "start_time": "2022-02-28T18:32:26.923Z"
   },
   {
    "duration": 12,
    "start_time": "2022-02-28T18:32:26.985Z"
   },
   {
    "duration": 43,
    "start_time": "2022-02-28T18:32:26.999Z"
   },
   {
    "duration": 8,
    "start_time": "2022-02-28T18:32:27.043Z"
   },
   {
    "duration": 15,
    "start_time": "2022-02-28T18:32:27.052Z"
   },
   {
    "duration": 5,
    "start_time": "2022-02-28T18:32:27.068Z"
   },
   {
    "duration": 8,
    "start_time": "2022-02-28T18:32:27.075Z"
   },
   {
    "duration": 9,
    "start_time": "2022-02-28T18:32:27.086Z"
   },
   {
    "duration": 45,
    "start_time": "2022-02-28T18:32:27.097Z"
   },
   {
    "duration": 21,
    "start_time": "2022-02-28T18:32:27.144Z"
   },
   {
    "duration": 6,
    "start_time": "2022-02-28T18:32:27.167Z"
   },
   {
    "duration": 14,
    "start_time": "2022-02-28T18:32:27.175Z"
   },
   {
    "duration": 10,
    "start_time": "2022-02-28T18:32:27.191Z"
   },
   {
    "duration": 40,
    "start_time": "2022-02-28T18:32:27.202Z"
   },
   {
    "duration": 7,
    "start_time": "2022-02-28T18:32:27.244Z"
   },
   {
    "duration": 6,
    "start_time": "2022-02-28T18:32:27.253Z"
   },
   {
    "duration": 21,
    "start_time": "2022-02-28T18:32:27.261Z"
   },
   {
    "duration": 9,
    "start_time": "2022-02-28T18:32:27.284Z"
   },
   {
    "duration": 51,
    "start_time": "2022-02-28T18:32:27.295Z"
   },
   {
    "duration": 28,
    "start_time": "2022-02-28T18:32:27.348Z"
   },
   {
    "duration": 4,
    "start_time": "2022-02-28T18:32:27.377Z"
   },
   {
    "duration": 16,
    "start_time": "2022-02-28T18:32:27.383Z"
   },
   {
    "duration": 52,
    "start_time": "2022-02-28T18:32:27.402Z"
   },
   {
    "duration": 7,
    "start_time": "2022-02-28T18:32:27.456Z"
   },
   {
    "duration": 11,
    "start_time": "2022-02-28T18:32:27.464Z"
   },
   {
    "duration": 20,
    "start_time": "2022-02-28T18:32:27.477Z"
   },
   {
    "duration": 53,
    "start_time": "2022-02-28T18:32:27.499Z"
   },
   {
    "duration": 17,
    "start_time": "2022-02-28T18:32:27.553Z"
   },
   {
    "duration": 33,
    "start_time": "2022-02-28T18:32:27.572Z"
   },
   {
    "duration": 340,
    "start_time": "2022-02-28T18:32:27.606Z"
   },
   {
    "duration": -846,
    "start_time": "2022-02-28T18:32:28.794Z"
   },
   {
    "duration": -852,
    "start_time": "2022-02-28T18:32:28.801Z"
   },
   {
    "duration": -853,
    "start_time": "2022-02-28T18:32:28.803Z"
   },
   {
    "duration": 25,
    "start_time": "2022-02-28T18:32:32.602Z"
   },
   {
    "duration": 26,
    "start_time": "2022-02-28T18:33:05.917Z"
   },
   {
    "duration": 15,
    "start_time": "2022-02-28T18:33:48.856Z"
   },
   {
    "duration": 24,
    "start_time": "2022-02-28T18:34:12.237Z"
   },
   {
    "duration": 27,
    "start_time": "2022-02-28T18:34:33.656Z"
   },
   {
    "duration": 26,
    "start_time": "2022-02-28T18:39:01.084Z"
   },
   {
    "duration": 202,
    "start_time": "2022-02-28T18:39:21.270Z"
   },
   {
    "duration": 56,
    "start_time": "2022-02-28T18:39:26.423Z"
   },
   {
    "duration": 10,
    "start_time": "2022-02-28T18:39:26.481Z"
   },
   {
    "duration": 13,
    "start_time": "2022-02-28T18:39:26.493Z"
   },
   {
    "duration": 33,
    "start_time": "2022-02-28T18:39:26.508Z"
   },
   {
    "duration": 17,
    "start_time": "2022-02-28T18:39:26.543Z"
   },
   {
    "duration": 2,
    "start_time": "2022-02-28T18:39:26.562Z"
   },
   {
    "duration": 9,
    "start_time": "2022-02-28T18:39:26.566Z"
   },
   {
    "duration": 11,
    "start_time": "2022-02-28T18:39:26.579Z"
   },
   {
    "duration": 46,
    "start_time": "2022-02-28T18:39:26.593Z"
   },
   {
    "duration": 31,
    "start_time": "2022-02-28T18:39:26.642Z"
   },
   {
    "duration": 7,
    "start_time": "2022-02-28T18:39:26.675Z"
   },
   {
    "duration": 12,
    "start_time": "2022-02-28T18:39:26.684Z"
   },
   {
    "duration": 48,
    "start_time": "2022-02-28T18:39:26.698Z"
   },
   {
    "duration": 8,
    "start_time": "2022-02-28T18:39:26.748Z"
   },
   {
    "duration": 8,
    "start_time": "2022-02-28T18:39:26.758Z"
   },
   {
    "duration": 6,
    "start_time": "2022-02-28T18:39:26.767Z"
   },
   {
    "duration": 68,
    "start_time": "2022-02-28T18:39:26.775Z"
   },
   {
    "duration": 11,
    "start_time": "2022-02-28T18:39:26.845Z"
   },
   {
    "duration": 15,
    "start_time": "2022-02-28T18:39:26.858Z"
   },
   {
    "duration": 64,
    "start_time": "2022-02-28T18:39:26.875Z"
   },
   {
    "duration": 6,
    "start_time": "2022-02-28T18:39:26.941Z"
   },
   {
    "duration": 17,
    "start_time": "2022-02-28T18:39:26.950Z"
   },
   {
    "duration": 21,
    "start_time": "2022-02-28T18:39:26.971Z"
   },
   {
    "duration": 9,
    "start_time": "2022-02-28T18:39:27.038Z"
   },
   {
    "duration": 9,
    "start_time": "2022-02-28T18:39:27.048Z"
   },
   {
    "duration": 20,
    "start_time": "2022-02-28T18:39:27.059Z"
   },
   {
    "duration": 23,
    "start_time": "2022-02-28T18:39:27.080Z"
   },
   {
    "duration": 57,
    "start_time": "2022-02-28T18:39:27.105Z"
   },
   {
    "duration": 27,
    "start_time": "2022-02-28T18:39:27.164Z"
   },
   {
    "duration": 232,
    "start_time": "2022-02-28T18:39:27.193Z"
   },
   {
    "duration": -824,
    "start_time": "2022-02-28T18:39:28.251Z"
   },
   {
    "duration": -829,
    "start_time": "2022-02-28T18:39:28.257Z"
   },
   {
    "duration": 23,
    "start_time": "2022-02-28T18:39:56.331Z"
   },
   {
    "duration": 26,
    "start_time": "2022-02-28T18:40:01.924Z"
   },
   {
    "duration": 29,
    "start_time": "2022-02-28T18:40:15.293Z"
   },
   {
    "duration": 26,
    "start_time": "2022-02-28T18:40:17.614Z"
   },
   {
    "duration": 26,
    "start_time": "2022-02-28T19:29:07.594Z"
   },
   {
    "duration": 27,
    "start_time": "2022-02-28T19:29:12.143Z"
   },
   {
    "duration": 51,
    "start_time": "2022-02-28T19:29:23.679Z"
   },
   {
    "duration": 10,
    "start_time": "2022-02-28T19:29:23.732Z"
   },
   {
    "duration": 20,
    "start_time": "2022-02-28T19:29:23.743Z"
   },
   {
    "duration": 20,
    "start_time": "2022-02-28T19:29:23.765Z"
   },
   {
    "duration": 31,
    "start_time": "2022-02-28T19:29:23.787Z"
   },
   {
    "duration": 3,
    "start_time": "2022-02-28T19:29:23.820Z"
   },
   {
    "duration": 22,
    "start_time": "2022-02-28T19:29:23.825Z"
   },
   {
    "duration": 18,
    "start_time": "2022-02-28T19:29:23.850Z"
   },
   {
    "duration": 7,
    "start_time": "2022-02-28T19:29:23.871Z"
   },
   {
    "duration": 43,
    "start_time": "2022-02-28T19:29:23.880Z"
   },
   {
    "duration": 6,
    "start_time": "2022-02-28T19:29:23.925Z"
   },
   {
    "duration": 9,
    "start_time": "2022-02-28T19:29:23.937Z"
   },
   {
    "duration": 29,
    "start_time": "2022-02-28T19:29:23.948Z"
   },
   {
    "duration": 16,
    "start_time": "2022-02-28T19:29:23.978Z"
   },
   {
    "duration": 13,
    "start_time": "2022-02-28T19:29:23.995Z"
   },
   {
    "duration": 13,
    "start_time": "2022-02-28T19:29:24.011Z"
   },
   {
    "duration": 29,
    "start_time": "2022-02-28T19:29:24.025Z"
   },
   {
    "duration": 24,
    "start_time": "2022-02-28T19:29:24.056Z"
   },
   {
    "duration": 15,
    "start_time": "2022-02-28T19:29:24.082Z"
   },
   {
    "duration": 49,
    "start_time": "2022-02-28T19:29:24.099Z"
   },
   {
    "duration": 5,
    "start_time": "2022-02-28T19:29:24.149Z"
   },
   {
    "duration": 27,
    "start_time": "2022-02-28T19:29:24.155Z"
   },
   {
    "duration": 36,
    "start_time": "2022-02-28T19:29:24.185Z"
   },
   {
    "duration": 17,
    "start_time": "2022-02-28T19:29:24.223Z"
   },
   {
    "duration": 15,
    "start_time": "2022-02-28T19:29:24.241Z"
   },
   {
    "duration": 43,
    "start_time": "2022-02-28T19:29:24.258Z"
   },
   {
    "duration": 26,
    "start_time": "2022-02-28T19:29:24.302Z"
   },
   {
    "duration": 31,
    "start_time": "2022-02-28T19:29:24.330Z"
   },
   {
    "duration": 43,
    "start_time": "2022-02-28T19:29:24.362Z"
   },
   {
    "duration": 31,
    "start_time": "2022-02-28T19:29:24.407Z"
   },
   {
    "duration": 30,
    "start_time": "2022-02-28T19:29:24.440Z"
   },
   {
    "duration": 22,
    "start_time": "2022-02-28T19:29:24.471Z"
   },
   {
    "duration": 27,
    "start_time": "2022-02-28T19:29:45.809Z"
   },
   {
    "duration": 25,
    "start_time": "2022-02-28T19:30:01.881Z"
   },
   {
    "duration": 26,
    "start_time": "2022-02-28T19:30:16.964Z"
   },
   {
    "duration": 25,
    "start_time": "2022-02-28T19:31:07.707Z"
   },
   {
    "duration": 26,
    "start_time": "2022-02-28T20:13:41.807Z"
   },
   {
    "duration": 24,
    "start_time": "2022-02-28T20:14:10.453Z"
   },
   {
    "duration": 182,
    "start_time": "2022-02-28T20:27:25.224Z"
   },
   {
    "duration": 184,
    "start_time": "2022-02-28T20:27:43.318Z"
   },
   {
    "duration": 191,
    "start_time": "2022-02-28T20:27:46.152Z"
   },
   {
    "duration": 1928,
    "start_time": "2022-02-28T20:28:38.956Z"
   },
   {
    "duration": 232,
    "start_time": "2022-02-28T20:28:55.494Z"
   },
   {
    "duration": 284,
    "start_time": "2022-02-28T20:29:10.316Z"
   },
   {
    "duration": 38,
    "start_time": "2022-02-28T20:29:22.655Z"
   },
   {
    "duration": 173,
    "start_time": "2022-02-28T20:32:44.225Z"
   },
   {
    "duration": 26,
    "start_time": "2022-02-28T20:34:42.524Z"
   },
   {
    "duration": 25,
    "start_time": "2022-02-28T20:35:19.211Z"
   },
   {
    "duration": 24,
    "start_time": "2022-02-28T20:39:51.625Z"
   },
   {
    "duration": 20,
    "start_time": "2022-02-28T20:40:24.418Z"
   },
   {
    "duration": 25,
    "start_time": "2022-02-28T20:40:43.403Z"
   },
   {
    "duration": 24,
    "start_time": "2022-02-28T20:40:48.242Z"
   },
   {
    "duration": 24,
    "start_time": "2022-02-28T21:45:01.566Z"
   },
   {
    "duration": 23,
    "start_time": "2022-02-28T22:12:51.123Z"
   },
   {
    "duration": 22,
    "start_time": "2022-02-28T22:16:05.767Z"
   },
   {
    "duration": 21,
    "start_time": "2022-02-28T22:16:22.789Z"
   },
   {
    "duration": 22,
    "start_time": "2022-02-28T22:16:32.090Z"
   },
   {
    "duration": 23,
    "start_time": "2022-02-28T22:16:41.112Z"
   },
   {
    "duration": 51,
    "start_time": "2022-02-28T22:16:48.010Z"
   },
   {
    "duration": 10,
    "start_time": "2022-02-28T22:16:48.062Z"
   },
   {
    "duration": 8,
    "start_time": "2022-02-28T22:16:48.074Z"
   },
   {
    "duration": 7,
    "start_time": "2022-02-28T22:16:48.084Z"
   },
   {
    "duration": 45,
    "start_time": "2022-02-28T22:16:48.093Z"
   },
   {
    "duration": 3,
    "start_time": "2022-02-28T22:16:48.139Z"
   },
   {
    "duration": 11,
    "start_time": "2022-02-28T22:16:48.144Z"
   },
   {
    "duration": 8,
    "start_time": "2022-02-28T22:16:48.157Z"
   },
   {
    "duration": 6,
    "start_time": "2022-02-28T22:16:48.167Z"
   },
   {
    "duration": 21,
    "start_time": "2022-02-28T22:16:48.175Z"
   },
   {
    "duration": 5,
    "start_time": "2022-02-28T22:16:48.198Z"
   },
   {
    "duration": 41,
    "start_time": "2022-02-28T22:16:48.204Z"
   },
   {
    "duration": 9,
    "start_time": "2022-02-28T22:16:48.247Z"
   },
   {
    "duration": 6,
    "start_time": "2022-02-28T22:16:48.257Z"
   },
   {
    "duration": 10,
    "start_time": "2022-02-28T22:16:48.264Z"
   },
   {
    "duration": 10,
    "start_time": "2022-02-28T22:16:48.276Z"
   },
   {
    "duration": 54,
    "start_time": "2022-02-28T22:16:48.288Z"
   },
   {
    "duration": 8,
    "start_time": "2022-02-28T22:16:48.344Z"
   },
   {
    "duration": 14,
    "start_time": "2022-02-28T22:16:48.353Z"
   },
   {
    "duration": 28,
    "start_time": "2022-02-28T22:16:48.368Z"
   },
   {
    "duration": 5,
    "start_time": "2022-02-28T22:16:48.397Z"
   },
   {
    "duration": 16,
    "start_time": "2022-02-28T22:16:48.438Z"
   },
   {
    "duration": 18,
    "start_time": "2022-02-28T22:16:48.456Z"
   },
   {
    "duration": 7,
    "start_time": "2022-02-28T22:16:48.476Z"
   },
   {
    "duration": 9,
    "start_time": "2022-02-28T22:16:48.485Z"
   },
   {
    "duration": 52,
    "start_time": "2022-02-28T22:16:48.496Z"
   },
   {
    "duration": 16,
    "start_time": "2022-02-28T22:16:48.551Z"
   },
   {
    "duration": 17,
    "start_time": "2022-02-28T22:16:48.569Z"
   },
   {
    "duration": 55,
    "start_time": "2022-02-28T22:16:48.587Z"
   },
   {
    "duration": 24,
    "start_time": "2022-02-28T22:16:48.644Z"
   },
   {
    "duration": 21,
    "start_time": "2022-02-28T22:16:48.669Z"
   },
   {
    "duration": 56,
    "start_time": "2022-02-28T22:16:48.691Z"
   },
   {
    "duration": 24,
    "start_time": "2022-02-28T22:17:09.621Z"
   },
   {
    "duration": 197,
    "start_time": "2022-02-28T22:18:11.814Z"
   },
   {
    "duration": 26,
    "start_time": "2022-02-28T22:19:25.192Z"
   },
   {
    "duration": 53,
    "start_time": "2022-02-28T22:37:02.338Z"
   },
   {
    "duration": 10,
    "start_time": "2022-02-28T22:37:02.393Z"
   },
   {
    "duration": 42,
    "start_time": "2022-02-28T22:37:02.405Z"
   },
   {
    "duration": 11,
    "start_time": "2022-02-28T22:37:02.449Z"
   },
   {
    "duration": 20,
    "start_time": "2022-02-28T22:37:02.461Z"
   },
   {
    "duration": 2,
    "start_time": "2022-02-28T22:37:02.483Z"
   },
   {
    "duration": 14,
    "start_time": "2022-02-28T22:37:02.487Z"
   },
   {
    "duration": 13,
    "start_time": "2022-02-28T22:37:02.504Z"
   },
   {
    "duration": 23,
    "start_time": "2022-02-28T22:37:02.519Z"
   },
   {
    "duration": 22,
    "start_time": "2022-02-28T22:37:02.543Z"
   },
   {
    "duration": 4,
    "start_time": "2022-02-28T22:37:02.567Z"
   },
   {
    "duration": 19,
    "start_time": "2022-02-28T22:37:02.572Z"
   },
   {
    "duration": 9,
    "start_time": "2022-02-28T22:37:02.592Z"
   },
   {
    "duration": 41,
    "start_time": "2022-02-28T22:37:02.602Z"
   },
   {
    "duration": 15,
    "start_time": "2022-02-28T22:37:02.645Z"
   },
   {
    "duration": 12,
    "start_time": "2022-02-28T22:37:02.662Z"
   },
   {
    "duration": 19,
    "start_time": "2022-02-28T22:37:02.676Z"
   },
   {
    "duration": 11,
    "start_time": "2022-02-28T22:37:02.697Z"
   },
   {
    "duration": 44,
    "start_time": "2022-02-28T22:37:02.709Z"
   },
   {
    "duration": 29,
    "start_time": "2022-02-28T22:37:02.755Z"
   },
   {
    "duration": 4,
    "start_time": "2022-02-28T22:37:02.786Z"
   },
   {
    "duration": 46,
    "start_time": "2022-02-28T22:37:02.792Z"
   },
   {
    "duration": 18,
    "start_time": "2022-02-28T22:37:02.841Z"
   },
   {
    "duration": 7,
    "start_time": "2022-02-28T22:37:02.862Z"
   },
   {
    "duration": 11,
    "start_time": "2022-02-28T22:37:02.871Z"
   },
   {
    "duration": 20,
    "start_time": "2022-02-28T22:37:02.884Z"
   },
   {
    "duration": 18,
    "start_time": "2022-02-28T22:37:02.938Z"
   },
   {
    "duration": 18,
    "start_time": "2022-02-28T22:37:02.958Z"
   },
   {
    "duration": 25,
    "start_time": "2022-02-28T22:37:02.978Z"
   },
   {
    "duration": 55,
    "start_time": "2022-02-28T22:37:03.005Z"
   },
   {
    "duration": 20,
    "start_time": "2022-02-28T22:37:03.061Z"
   },
   {
    "duration": 21,
    "start_time": "2022-02-28T22:37:03.082Z"
   },
   {
    "duration": 25,
    "start_time": "2022-02-28T22:38:49.168Z"
   },
   {
    "duration": 753,
    "start_time": "2022-03-09T11:49:41.397Z"
   },
   {
    "duration": 16,
    "start_time": "2022-03-09T11:49:42.153Z"
   },
   {
    "duration": 12,
    "start_time": "2022-03-09T11:49:42.176Z"
   },
   {
    "duration": 8,
    "start_time": "2022-03-09T11:49:42.190Z"
   },
   {
    "duration": 65,
    "start_time": "2022-03-09T11:49:42.201Z"
   },
   {
    "duration": 4,
    "start_time": "2022-03-09T11:49:42.269Z"
   },
   {
    "duration": 9,
    "start_time": "2022-03-09T11:49:42.275Z"
   },
   {
    "duration": 11,
    "start_time": "2022-03-09T11:49:42.288Z"
   },
   {
    "duration": 7,
    "start_time": "2022-03-09T11:49:42.303Z"
   },
   {
    "duration": 75,
    "start_time": "2022-03-09T11:49:42.313Z"
   },
   {
    "duration": 7,
    "start_time": "2022-03-09T11:49:42.390Z"
   },
   {
    "duration": 13,
    "start_time": "2022-03-09T11:49:42.399Z"
   },
   {
    "duration": 12,
    "start_time": "2022-03-09T11:49:42.451Z"
   },
   {
    "duration": 9,
    "start_time": "2022-03-09T11:49:42.465Z"
   },
   {
    "duration": 10,
    "start_time": "2022-03-09T11:49:42.477Z"
   },
   {
    "duration": 6,
    "start_time": "2022-03-09T11:49:42.490Z"
   },
   {
    "duration": 73,
    "start_time": "2022-03-09T11:49:42.498Z"
   },
   {
    "duration": 12,
    "start_time": "2022-03-09T11:49:42.574Z"
   },
   {
    "duration": 21,
    "start_time": "2022-03-09T11:49:42.588Z"
   },
   {
    "duration": 72,
    "start_time": "2022-03-09T11:49:42.611Z"
   },
   {
    "duration": 6,
    "start_time": "2022-03-09T11:49:42.685Z"
   },
   {
    "duration": 24,
    "start_time": "2022-03-09T11:49:42.694Z"
   },
   {
    "duration": 47,
    "start_time": "2022-03-09T11:49:42.720Z"
   },
   {
    "duration": 11,
    "start_time": "2022-03-09T11:49:42.769Z"
   },
   {
    "duration": 8,
    "start_time": "2022-03-09T11:49:42.782Z"
   },
   {
    "duration": 70,
    "start_time": "2022-03-09T11:49:42.795Z"
   },
   {
    "duration": 24,
    "start_time": "2022-03-09T11:49:42.868Z"
   },
   {
    "duration": 27,
    "start_time": "2022-03-09T11:49:42.894Z"
   },
   {
    "duration": 66,
    "start_time": "2022-03-09T11:49:42.923Z"
   },
   {
    "duration": 38,
    "start_time": "2022-03-09T11:49:42.991Z"
   },
   {
    "duration": 32,
    "start_time": "2022-03-09T11:49:43.051Z"
   },
   {
    "duration": 33,
    "start_time": "2022-03-09T11:49:43.086Z"
   },
   {
    "duration": 40,
    "start_time": "2022-03-09T11:54:22.140Z"
   },
   {
    "duration": 22,
    "start_time": "2022-03-09T12:02:08.580Z"
   },
   {
    "duration": 38,
    "start_time": "2022-03-09T12:02:31.441Z"
   },
   {
    "duration": 38,
    "start_time": "2022-03-09T12:02:42.730Z"
   },
   {
    "duration": 868,
    "start_time": "2022-03-09T17:33:25.266Z"
   },
   {
    "duration": 86,
    "start_time": "2022-03-09T17:33:27.077Z"
   },
   {
    "duration": 4,
    "start_time": "2022-03-09T17:35:53.591Z"
   },
   {
    "duration": 75,
    "start_time": "2022-03-09T17:35:59.290Z"
   },
   {
    "duration": 107,
    "start_time": "2022-03-09T17:41:43.542Z"
   },
   {
    "duration": 79,
    "start_time": "2022-03-09T17:42:01.832Z"
   },
   {
    "duration": 78,
    "start_time": "2022-03-09T17:43:32.066Z"
   },
   {
    "duration": 9,
    "start_time": "2022-03-09T18:11:58.148Z"
   },
   {
    "duration": 7,
    "start_time": "2022-03-09T18:12:30.776Z"
   },
   {
    "duration": 10,
    "start_time": "2022-03-09T18:13:44.776Z"
   },
   {
    "duration": 8,
    "start_time": "2022-03-09T18:13:53.400Z"
   },
   {
    "duration": 8,
    "start_time": "2022-03-09T18:19:42.800Z"
   },
   {
    "duration": 371,
    "start_time": "2022-03-09T18:20:37.004Z"
   },
   {
    "duration": 7,
    "start_time": "2022-03-09T18:21:05.964Z"
   },
   {
    "duration": 6,
    "start_time": "2022-03-09T18:47:31.144Z"
   },
   {
    "duration": 257,
    "start_time": "2022-03-09T18:50:11.403Z"
   },
   {
    "duration": 43,
    "start_time": "2022-03-09T18:50:19.788Z"
   },
   {
    "duration": 89,
    "start_time": "2022-03-09T18:53:15.280Z"
   },
   {
    "duration": 78,
    "start_time": "2022-03-09T18:53:25.567Z"
   },
   {
    "duration": 76,
    "start_time": "2022-03-09T18:53:34.848Z"
   },
   {
    "duration": 73,
    "start_time": "2022-03-09T18:53:42.160Z"
   },
   {
    "duration": 6,
    "start_time": "2022-03-09T18:59:07.196Z"
   },
   {
    "duration": 72,
    "start_time": "2022-03-09T18:59:48.026Z"
   },
   {
    "duration": 194,
    "start_time": "2022-03-09T19:00:27.582Z"
   },
   {
    "duration": 145,
    "start_time": "2022-03-09T19:00:35.756Z"
   },
   {
    "duration": 143,
    "start_time": "2022-03-09T19:00:48.759Z"
   },
   {
    "duration": 129,
    "start_time": "2022-03-09T19:01:05.993Z"
   },
   {
    "duration": 4,
    "start_time": "2022-03-09T19:15:38.136Z"
   },
   {
    "duration": 94,
    "start_time": "2022-03-09T19:15:38.143Z"
   },
   {
    "duration": 16,
    "start_time": "2022-03-09T19:15:38.240Z"
   },
   {
    "duration": 25,
    "start_time": "2022-03-09T19:15:38.287Z"
   },
   {
    "duration": 8,
    "start_time": "2022-03-09T19:15:38.315Z"
   },
   {
    "duration": 21,
    "start_time": "2022-03-09T19:15:38.326Z"
   },
   {
    "duration": 11,
    "start_time": "2022-03-09T19:15:38.391Z"
   },
   {
    "duration": 167,
    "start_time": "2022-03-09T19:15:38.406Z"
   },
   {
    "duration": 5,
    "start_time": "2022-03-09T19:15:38.588Z"
   },
   {
    "duration": 31,
    "start_time": "2022-03-09T19:15:38.596Z"
   },
   {
    "duration": 18,
    "start_time": "2022-03-09T19:15:38.630Z"
   },
   {
    "duration": 8,
    "start_time": "2022-03-09T19:15:38.651Z"
   },
   {
    "duration": 42,
    "start_time": "2022-03-09T19:15:38.693Z"
   },
   {
    "duration": 7,
    "start_time": "2022-03-09T19:15:38.737Z"
   },
   {
    "duration": 62,
    "start_time": "2022-03-09T19:15:38.747Z"
   },
   {
    "duration": 21,
    "start_time": "2022-03-09T19:15:38.812Z"
   },
   {
    "duration": 10,
    "start_time": "2022-03-09T19:15:38.836Z"
   },
   {
    "duration": 52,
    "start_time": "2022-03-09T19:15:38.849Z"
   },
   {
    "duration": 10,
    "start_time": "2022-03-09T19:15:38.905Z"
   },
   {
    "duration": 26,
    "start_time": "2022-03-09T19:15:38.920Z"
   },
   {
    "duration": 16,
    "start_time": "2022-03-09T19:15:38.988Z"
   },
   {
    "duration": 43,
    "start_time": "2022-03-09T19:15:39.007Z"
   },
   {
    "duration": 84,
    "start_time": "2022-03-09T19:15:39.057Z"
   },
   {
    "duration": 46,
    "start_time": "2022-03-09T19:15:39.145Z"
   },
   {
    "duration": 26,
    "start_time": "2022-03-09T19:15:39.196Z"
   },
   {
    "duration": 61,
    "start_time": "2022-03-09T19:15:39.225Z"
   },
   {
    "duration": 20,
    "start_time": "2022-03-09T19:15:39.292Z"
   },
   {
    "duration": 10,
    "start_time": "2022-03-09T19:15:39.315Z"
   },
   {
    "duration": 77,
    "start_time": "2022-03-09T19:15:39.328Z"
   },
   {
    "duration": 31,
    "start_time": "2022-03-09T19:15:39.407Z"
   },
   {
    "duration": 68,
    "start_time": "2022-03-09T19:15:39.442Z"
   },
   {
    "duration": 92,
    "start_time": "2022-03-09T19:15:39.513Z"
   },
   {
    "duration": 55,
    "start_time": "2022-03-09T19:15:39.608Z"
   },
   {
    "duration": 61,
    "start_time": "2022-03-09T19:15:39.667Z"
   },
   {
    "duration": 75,
    "start_time": "2022-03-09T19:15:39.732Z"
   },
   {
    "duration": 7,
    "start_time": "2022-03-09T19:16:21.612Z"
   },
   {
    "duration": 140,
    "start_time": "2022-03-09T19:17:54.820Z"
   },
   {
    "duration": 3,
    "start_time": "2022-03-09T19:18:15.268Z"
   },
   {
    "duration": 81,
    "start_time": "2022-03-09T19:18:15.273Z"
   },
   {
    "duration": 49,
    "start_time": "2022-03-09T19:18:15.356Z"
   },
   {
    "duration": 14,
    "start_time": "2022-03-09T19:18:15.408Z"
   },
   {
    "duration": 8,
    "start_time": "2022-03-09T19:18:15.424Z"
   },
   {
    "duration": 67,
    "start_time": "2022-03-09T19:18:15.434Z"
   },
   {
    "duration": 9,
    "start_time": "2022-03-09T19:18:15.504Z"
   },
   {
    "duration": 6,
    "start_time": "2022-03-09T19:18:15.515Z"
   },
   {
    "duration": 174,
    "start_time": "2022-03-09T19:18:15.524Z"
   },
   {
    "duration": 4,
    "start_time": "2022-03-09T19:18:15.701Z"
   },
   {
    "duration": 17,
    "start_time": "2022-03-09T19:18:15.707Z"
   },
   {
    "duration": 15,
    "start_time": "2022-03-09T19:18:15.726Z"
   },
   {
    "duration": 9,
    "start_time": "2022-03-09T19:18:15.743Z"
   },
   {
    "duration": 69,
    "start_time": "2022-03-09T19:18:15.754Z"
   },
   {
    "duration": 7,
    "start_time": "2022-03-09T19:18:15.825Z"
   },
   {
    "duration": 62,
    "start_time": "2022-03-09T19:18:15.834Z"
   },
   {
    "duration": 19,
    "start_time": "2022-03-09T19:18:15.902Z"
   },
   {
    "duration": 9,
    "start_time": "2022-03-09T19:18:15.923Z"
   },
   {
    "duration": 10,
    "start_time": "2022-03-09T19:18:15.936Z"
   },
   {
    "duration": 45,
    "start_time": "2022-03-09T19:18:15.949Z"
   },
   {
    "duration": 32,
    "start_time": "2022-03-09T19:18:15.997Z"
   },
   {
    "duration": 12,
    "start_time": "2022-03-09T19:18:16.032Z"
   },
   {
    "duration": 58,
    "start_time": "2022-03-09T19:18:16.047Z"
   },
   {
    "duration": 45,
    "start_time": "2022-03-09T19:18:16.107Z"
   },
   {
    "duration": 42,
    "start_time": "2022-03-09T19:18:16.154Z"
   },
   {
    "duration": 22,
    "start_time": "2022-03-09T19:18:16.199Z"
   },
   {
    "duration": 27,
    "start_time": "2022-03-09T19:18:16.224Z"
   },
   {
    "duration": 42,
    "start_time": "2022-03-09T19:18:16.254Z"
   },
   {
    "duration": 12,
    "start_time": "2022-03-09T19:18:16.299Z"
   },
   {
    "duration": 28,
    "start_time": "2022-03-09T19:18:16.314Z"
   },
   {
    "duration": 75,
    "start_time": "2022-03-09T19:18:16.344Z"
   },
   {
    "duration": 28,
    "start_time": "2022-03-09T19:18:16.422Z"
   },
   {
    "duration": 75,
    "start_time": "2022-03-09T19:18:16.452Z"
   },
   {
    "duration": 81,
    "start_time": "2022-03-09T19:18:16.530Z"
   },
   {
    "duration": 31,
    "start_time": "2022-03-09T19:18:16.614Z"
   },
   {
    "duration": 67,
    "start_time": "2022-03-09T19:18:16.647Z"
   },
   {
    "duration": 13,
    "start_time": "2022-03-09T19:21:25.654Z"
   },
   {
    "duration": 5,
    "start_time": "2022-03-09T19:38:07.609Z"
   },
   {
    "duration": 6,
    "start_time": "2022-03-09T19:39:18.040Z"
   },
   {
    "duration": 25,
    "start_time": "2022-03-09T19:42:46.933Z"
   },
   {
    "duration": 38,
    "start_time": "2022-03-09T19:45:15.665Z"
   },
   {
    "duration": 4,
    "start_time": "2022-03-09T19:46:37.727Z"
   },
   {
    "duration": 30,
    "start_time": "2022-03-09T19:46:44.156Z"
   },
   {
    "duration": 4,
    "start_time": "2022-03-09T19:47:29.146Z"
   },
   {
    "duration": 81,
    "start_time": "2022-03-09T19:47:29.152Z"
   },
   {
    "duration": 19,
    "start_time": "2022-03-09T19:47:29.237Z"
   },
   {
    "duration": 41,
    "start_time": "2022-03-09T19:47:29.260Z"
   },
   {
    "duration": 14,
    "start_time": "2022-03-09T19:47:29.303Z"
   },
   {
    "duration": 25,
    "start_time": "2022-03-09T19:47:29.320Z"
   },
   {
    "duration": 10,
    "start_time": "2022-03-09T19:47:29.395Z"
   },
   {
    "duration": 6,
    "start_time": "2022-03-09T19:47:29.407Z"
   },
   {
    "duration": 182,
    "start_time": "2022-03-09T19:47:29.416Z"
   },
   {
    "duration": 13,
    "start_time": "2022-03-09T19:47:29.603Z"
   },
   {
    "duration": 8,
    "start_time": "2022-03-09T19:47:29.619Z"
   },
   {
    "duration": 5,
    "start_time": "2022-03-09T19:47:29.629Z"
   },
   {
    "duration": 7,
    "start_time": "2022-03-09T19:47:29.636Z"
   },
   {
    "duration": 34,
    "start_time": "2022-03-09T19:47:29.686Z"
   },
   {
    "duration": 6,
    "start_time": "2022-03-09T19:47:29.723Z"
   },
   {
    "duration": 66,
    "start_time": "2022-03-09T19:47:29.732Z"
   },
   {
    "duration": 20,
    "start_time": "2022-03-09T19:47:29.801Z"
   },
   {
    "duration": 9,
    "start_time": "2022-03-09T19:47:29.823Z"
   },
   {
    "duration": 9,
    "start_time": "2022-03-09T19:47:29.835Z"
   },
   {
    "duration": 9,
    "start_time": "2022-03-09T19:47:29.888Z"
   },
   {
    "duration": 31,
    "start_time": "2022-03-09T19:47:29.901Z"
   },
   {
    "duration": 59,
    "start_time": "2022-03-09T19:47:29.936Z"
   },
   {
    "duration": 26,
    "start_time": "2022-03-09T19:47:29.997Z"
   },
   {
    "duration": 87,
    "start_time": "2022-03-09T19:47:30.025Z"
   },
   {
    "duration": 9,
    "start_time": "2022-03-09T19:47:30.116Z"
   },
   {
    "duration": 27,
    "start_time": "2022-03-09T19:47:30.128Z"
   },
   {
    "duration": 39,
    "start_time": "2022-03-09T19:47:30.187Z"
   },
   {
    "duration": 13,
    "start_time": "2022-03-09T19:47:30.228Z"
   },
   {
    "duration": 57,
    "start_time": "2022-03-09T19:47:30.244Z"
   },
   {
    "duration": 33,
    "start_time": "2022-03-09T19:47:30.304Z"
   },
   {
    "duration": 64,
    "start_time": "2022-03-09T19:47:30.340Z"
   },
   {
    "duration": 29,
    "start_time": "2022-03-09T19:47:30.407Z"
   },
   {
    "duration": 72,
    "start_time": "2022-03-09T19:47:30.439Z"
   },
   {
    "duration": 42,
    "start_time": "2022-03-09T19:47:30.514Z"
   },
   {
    "duration": 64,
    "start_time": "2022-03-09T19:47:30.559Z"
   },
   {
    "duration": 71,
    "start_time": "2022-03-09T19:47:30.627Z"
   },
   {
    "duration": 30,
    "start_time": "2022-03-09T19:47:51.429Z"
   },
   {
    "duration": 32,
    "start_time": "2022-03-09T19:47:53.937Z"
   },
   {
    "duration": 31,
    "start_time": "2022-03-09T19:47:56.413Z"
   },
   {
    "duration": 4,
    "start_time": "2022-03-09T19:48:15.442Z"
   },
   {
    "duration": 109,
    "start_time": "2022-03-09T19:48:15.448Z"
   },
   {
    "duration": 33,
    "start_time": "2022-03-09T19:48:15.560Z"
   },
   {
    "duration": 13,
    "start_time": "2022-03-09T19:48:15.596Z"
   },
   {
    "duration": 10,
    "start_time": "2022-03-09T19:48:15.612Z"
   },
   {
    "duration": 30,
    "start_time": "2022-03-09T19:48:15.625Z"
   },
   {
    "duration": 10,
    "start_time": "2022-03-09T19:48:15.698Z"
   },
   {
    "duration": 8,
    "start_time": "2022-03-09T19:48:15.711Z"
   },
   {
    "duration": 189,
    "start_time": "2022-03-09T19:48:15.723Z"
   },
   {
    "duration": 12,
    "start_time": "2022-03-09T19:48:15.915Z"
   },
   {
    "duration": 13,
    "start_time": "2022-03-09T19:48:15.929Z"
   },
   {
    "duration": 6,
    "start_time": "2022-03-09T19:48:15.945Z"
   },
   {
    "duration": 39,
    "start_time": "2022-03-09T19:48:15.954Z"
   },
   {
    "duration": 35,
    "start_time": "2022-03-09T19:48:15.996Z"
   },
   {
    "duration": 7,
    "start_time": "2022-03-09T19:48:16.034Z"
   },
   {
    "duration": 19,
    "start_time": "2022-03-09T19:48:16.087Z"
   },
   {
    "duration": 24,
    "start_time": "2022-03-09T19:48:16.109Z"
   },
   {
    "duration": 11,
    "start_time": "2022-03-09T19:48:16.136Z"
   },
   {
    "duration": 49,
    "start_time": "2022-03-09T19:48:16.151Z"
   },
   {
    "duration": 14,
    "start_time": "2022-03-09T19:48:16.202Z"
   },
   {
    "duration": 29,
    "start_time": "2022-03-09T19:48:16.219Z"
   },
   {
    "duration": 55,
    "start_time": "2022-03-09T19:48:16.251Z"
   },
   {
    "duration": 31,
    "start_time": "2022-03-09T19:48:16.308Z"
   },
   {
    "duration": 75,
    "start_time": "2022-03-09T19:48:16.341Z"
   },
   {
    "duration": 6,
    "start_time": "2022-03-09T19:48:16.419Z"
   },
   {
    "duration": 25,
    "start_time": "2022-03-09T19:48:16.427Z"
   },
   {
    "duration": 68,
    "start_time": "2022-03-09T19:48:16.454Z"
   },
   {
    "duration": 15,
    "start_time": "2022-03-09T19:48:16.525Z"
   },
   {
    "duration": 49,
    "start_time": "2022-03-09T19:48:16.543Z"
   },
   {
    "duration": 30,
    "start_time": "2022-03-09T19:48:16.595Z"
   },
   {
    "duration": 68,
    "start_time": "2022-03-09T19:48:16.628Z"
   },
   {
    "duration": 30,
    "start_time": "2022-03-09T19:48:16.698Z"
   },
   {
    "duration": 70,
    "start_time": "2022-03-09T19:48:16.731Z"
   },
   {
    "duration": 36,
    "start_time": "2022-03-09T19:48:16.804Z"
   },
   {
    "duration": 63,
    "start_time": "2022-03-09T19:48:16.842Z"
   },
   {
    "duration": 35,
    "start_time": "2022-03-09T19:48:16.908Z"
   },
   {
    "duration": 30,
    "start_time": "2022-03-09T19:48:30.530Z"
   },
   {
    "duration": 8,
    "start_time": "2022-03-09T19:51:43.612Z"
   },
   {
    "duration": 8,
    "start_time": "2022-03-09T19:51:54.455Z"
   },
   {
    "duration": 9,
    "start_time": "2022-03-09T19:52:10.306Z"
   },
   {
    "duration": 9,
    "start_time": "2022-03-09T19:52:18.665Z"
   },
   {
    "duration": 10,
    "start_time": "2022-03-09T19:52:43.687Z"
   },
   {
    "duration": 10,
    "start_time": "2022-03-09T19:54:28.875Z"
   },
   {
    "duration": 12,
    "start_time": "2022-03-09T19:54:57.154Z"
   },
   {
    "duration": 10,
    "start_time": "2022-03-09T20:04:03.591Z"
   },
   {
    "duration": 15,
    "start_time": "2022-03-09T20:04:53.140Z"
   },
   {
    "duration": 15,
    "start_time": "2022-03-09T20:09:12.350Z"
   },
   {
    "duration": 13,
    "start_time": "2022-03-09T20:10:37.701Z"
   },
   {
    "duration": 5553,
    "start_time": "2022-03-09T20:14:30.832Z"
   },
   {
    "duration": 42,
    "start_time": "2022-03-09T20:15:03.687Z"
   },
   {
    "duration": 4,
    "start_time": "2022-03-09T20:15:46.040Z"
   },
   {
    "duration": 77,
    "start_time": "2022-03-09T20:15:46.046Z"
   },
   {
    "duration": 15,
    "start_time": "2022-03-09T20:15:46.125Z"
   },
   {
    "duration": 44,
    "start_time": "2022-03-09T20:15:46.143Z"
   },
   {
    "duration": 9,
    "start_time": "2022-03-09T20:15:46.190Z"
   },
   {
    "duration": 24,
    "start_time": "2022-03-09T20:15:46.202Z"
   },
   {
    "duration": 8,
    "start_time": "2022-03-09T20:15:46.229Z"
   },
   {
    "duration": 46,
    "start_time": "2022-03-09T20:15:46.240Z"
   },
   {
    "duration": 162,
    "start_time": "2022-03-09T20:15:46.289Z"
   },
   {
    "duration": 11,
    "start_time": "2022-03-09T20:15:46.454Z"
   },
   {
    "duration": 7,
    "start_time": "2022-03-09T20:15:46.487Z"
   },
   {
    "duration": 41,
    "start_time": "2022-03-09T20:15:46.497Z"
   },
   {
    "duration": 4,
    "start_time": "2022-03-09T20:15:46.541Z"
   },
   {
    "duration": 47,
    "start_time": "2022-03-09T20:15:46.547Z"
   },
   {
    "duration": 5293,
    "start_time": "2022-03-09T20:15:46.597Z"
   },
   {
    "duration": 195,
    "start_time": "2022-03-09T20:15:51.698Z"
   },
   {
    "duration": 186,
    "start_time": "2022-03-09T20:15:51.709Z"
   },
   {
    "duration": 184,
    "start_time": "2022-03-09T20:15:51.712Z"
   },
   {
    "duration": 182,
    "start_time": "2022-03-09T20:15:51.715Z"
   },
   {
    "duration": 177,
    "start_time": "2022-03-09T20:15:51.722Z"
   },
   {
    "duration": 175,
    "start_time": "2022-03-09T20:15:51.725Z"
   },
   {
    "duration": 173,
    "start_time": "2022-03-09T20:15:51.728Z"
   },
   {
    "duration": 173,
    "start_time": "2022-03-09T20:15:51.730Z"
   },
   {
    "duration": 170,
    "start_time": "2022-03-09T20:15:51.734Z"
   },
   {
    "duration": 165,
    "start_time": "2022-03-09T20:15:51.740Z"
   },
   {
    "duration": 163,
    "start_time": "2022-03-09T20:15:51.743Z"
   },
   {
    "duration": 162,
    "start_time": "2022-03-09T20:15:51.746Z"
   },
   {
    "duration": 129,
    "start_time": "2022-03-09T20:15:51.780Z"
   },
   {
    "duration": 124,
    "start_time": "2022-03-09T20:15:51.786Z"
   },
   {
    "duration": 119,
    "start_time": "2022-03-09T20:15:51.792Z"
   },
   {
    "duration": 118,
    "start_time": "2022-03-09T20:15:51.795Z"
   },
   {
    "duration": 115,
    "start_time": "2022-03-09T20:15:51.799Z"
   },
   {
    "duration": 113,
    "start_time": "2022-03-09T20:15:51.802Z"
   },
   {
    "duration": 102,
    "start_time": "2022-03-09T20:15:51.815Z"
   },
   {
    "duration": 96,
    "start_time": "2022-03-09T20:15:51.822Z"
   },
   {
    "duration": 94,
    "start_time": "2022-03-09T20:15:51.825Z"
   },
   {
    "duration": 93,
    "start_time": "2022-03-09T20:15:51.828Z"
   },
   {
    "duration": 83,
    "start_time": "2022-03-09T20:15:51.839Z"
   },
   {
    "duration": 82,
    "start_time": "2022-03-09T20:15:51.842Z"
   },
   {
    "duration": 5281,
    "start_time": "2022-03-09T20:17:22.844Z"
   },
   {
    "duration": 311,
    "start_time": "2022-03-09T20:19:53.670Z"
   },
   {
    "duration": 248,
    "start_time": "2022-03-09T20:22:16.749Z"
   },
   {
    "duration": 11,
    "start_time": "2022-03-09T20:22:29.674Z"
   },
   {
    "duration": 13,
    "start_time": "2022-03-09T20:25:19.978Z"
   },
   {
    "duration": 7,
    "start_time": "2022-03-09T20:33:43.393Z"
   },
   {
    "duration": 226,
    "start_time": "2022-03-09T20:34:48.687Z"
   },
   {
    "duration": 22,
    "start_time": "2022-03-09T20:35:10.421Z"
   },
   {
    "duration": 19,
    "start_time": "2022-03-09T20:36:21.586Z"
   },
   {
    "duration": 23,
    "start_time": "2022-03-09T20:36:31.299Z"
   },
   {
    "duration": 10,
    "start_time": "2022-03-09T20:40:13.343Z"
   },
   {
    "duration": 26,
    "start_time": "2022-03-09T20:41:26.393Z"
   },
   {
    "duration": 8,
    "start_time": "2022-03-09T20:42:34.087Z"
   },
   {
    "duration": 7,
    "start_time": "2022-03-09T20:42:44.393Z"
   },
   {
    "duration": 36,
    "start_time": "2022-03-09T20:43:03.094Z"
   },
   {
    "duration": 250,
    "start_time": "2022-03-09T20:43:14.077Z"
   },
   {
    "duration": 12,
    "start_time": "2022-03-09T20:43:22.869Z"
   },
   {
    "duration": 38,
    "start_time": "2022-03-09T20:44:51.085Z"
   },
   {
    "duration": 233,
    "start_time": "2022-03-09T20:46:11.412Z"
   },
   {
    "duration": 11,
    "start_time": "2022-03-09T20:47:07.236Z"
   },
   {
    "duration": 223,
    "start_time": "2022-03-09T20:47:12.455Z"
   },
   {
    "duration": 12,
    "start_time": "2022-03-09T20:47:17.280Z"
   },
   {
    "duration": 242,
    "start_time": "2022-03-09T20:47:36.893Z"
   },
   {
    "duration": 12,
    "start_time": "2022-03-09T20:47:41.922Z"
   },
   {
    "duration": 224,
    "start_time": "2022-03-09T20:48:09.843Z"
   },
   {
    "duration": 78,
    "start_time": "2022-03-09T20:48:23.314Z"
   },
   {
    "duration": 11,
    "start_time": "2022-03-09T20:48:29.273Z"
   },
   {
    "duration": 8,
    "start_time": "2022-03-09T20:49:53.561Z"
   },
   {
    "duration": 9,
    "start_time": "2022-03-09T20:50:06.122Z"
   },
   {
    "duration": 9,
    "start_time": "2022-03-09T20:50:42.352Z"
   },
   {
    "duration": 14,
    "start_time": "2022-03-09T20:52:54.406Z"
   },
   {
    "duration": 3,
    "start_time": "2022-03-09T20:53:27.758Z"
   },
   {
    "duration": 74,
    "start_time": "2022-03-09T20:53:27.764Z"
   },
   {
    "duration": 14,
    "start_time": "2022-03-09T20:53:27.841Z"
   },
   {
    "duration": 33,
    "start_time": "2022-03-09T20:53:27.858Z"
   },
   {
    "duration": 8,
    "start_time": "2022-03-09T20:53:27.894Z"
   },
   {
    "duration": 22,
    "start_time": "2022-03-09T20:53:27.904Z"
   },
   {
    "duration": 57,
    "start_time": "2022-03-09T20:53:27.930Z"
   },
   {
    "duration": 6,
    "start_time": "2022-03-09T20:53:27.990Z"
   },
   {
    "duration": 154,
    "start_time": "2022-03-09T20:53:27.998Z"
   },
   {
    "duration": 12,
    "start_time": "2022-03-09T20:53:28.154Z"
   },
   {
    "duration": 8,
    "start_time": "2022-03-09T20:53:28.187Z"
   },
   {
    "duration": 8,
    "start_time": "2022-03-09T20:53:28.197Z"
   },
   {
    "duration": 4,
    "start_time": "2022-03-09T20:53:28.207Z"
   },
   {
    "duration": 85,
    "start_time": "2022-03-09T20:53:28.213Z"
   },
   {
    "duration": 9,
    "start_time": "2022-03-09T20:53:28.300Z"
   },
   {
    "duration": 13,
    "start_time": "2022-03-09T20:53:28.311Z"
   },
   {
    "duration": 59,
    "start_time": "2022-03-09T20:53:28.328Z"
   },
   {
    "duration": 25,
    "start_time": "2022-03-09T20:53:28.390Z"
   },
   {
    "duration": 13,
    "start_time": "2022-03-09T20:53:28.418Z"
   },
   {
    "duration": 56,
    "start_time": "2022-03-09T20:53:28.434Z"
   },
   {
    "duration": 12,
    "start_time": "2022-03-09T20:53:28.493Z"
   },
   {
    "duration": 7,
    "start_time": "2022-03-09T20:53:28.508Z"
   },
   {
    "duration": 84,
    "start_time": "2022-03-09T20:53:28.518Z"
   },
   {
    "duration": 15,
    "start_time": "2022-03-09T20:53:28.605Z"
   },
   {
    "duration": 11,
    "start_time": "2022-03-09T20:53:28.624Z"
   },
   {
    "duration": 52,
    "start_time": "2022-03-09T20:53:28.637Z"
   },
   {
    "duration": 28,
    "start_time": "2022-03-09T20:53:28.692Z"
   },
   {
    "duration": 89,
    "start_time": "2022-03-09T20:53:28.723Z"
   },
   {
    "duration": 6,
    "start_time": "2022-03-09T20:53:28.815Z"
   },
   {
    "duration": 21,
    "start_time": "2022-03-09T20:53:28.823Z"
   },
   {
    "duration": 63,
    "start_time": "2022-03-09T20:53:28.846Z"
   },
   {
    "duration": 12,
    "start_time": "2022-03-09T20:53:28.911Z"
   },
   {
    "duration": 10,
    "start_time": "2022-03-09T20:53:28.926Z"
   },
   {
    "duration": 69,
    "start_time": "2022-03-09T20:53:28.939Z"
   },
   {
    "duration": 28,
    "start_time": "2022-03-09T20:53:29.010Z"
   },
   {
    "duration": 63,
    "start_time": "2022-03-09T20:53:29.040Z"
   },
   {
    "duration": 42,
    "start_time": "2022-03-09T20:53:29.106Z"
   },
   {
    "duration": 68,
    "start_time": "2022-03-09T20:53:29.150Z"
   },
   {
    "duration": 32,
    "start_time": "2022-03-09T20:53:29.220Z"
   },
   {
    "duration": 36,
    "start_time": "2022-03-09T20:53:29.287Z"
   },
   {
    "duration": 22,
    "start_time": "2022-03-09T20:54:11.589Z"
   },
   {
    "duration": 25,
    "start_time": "2022-03-09T20:54:25.949Z"
   },
   {
    "duration": 47,
    "start_time": "2022-03-09T20:55:21.151Z"
   },
   {
    "duration": 21,
    "start_time": "2022-03-09T20:55:32.892Z"
   },
   {
    "duration": 23,
    "start_time": "2022-03-09T20:55:36.358Z"
   },
   {
    "duration": 21,
    "start_time": "2022-03-09T20:55:50.469Z"
   },
   {
    "duration": 229,
    "start_time": "2022-03-09T20:56:40.364Z"
   },
   {
    "duration": 25,
    "start_time": "2022-03-09T21:00:11.419Z"
   },
   {
    "duration": 258,
    "start_time": "2022-03-09T21:04:34.539Z"
   },
   {
    "duration": 4,
    "start_time": "2022-03-09T21:04:47.447Z"
   },
   {
    "duration": 81,
    "start_time": "2022-03-09T21:04:47.454Z"
   },
   {
    "duration": 51,
    "start_time": "2022-03-09T21:04:47.538Z"
   },
   {
    "duration": 12,
    "start_time": "2022-03-09T21:04:47.592Z"
   },
   {
    "duration": 9,
    "start_time": "2022-03-09T21:04:47.607Z"
   },
   {
    "duration": 26,
    "start_time": "2022-03-09T21:04:47.619Z"
   },
   {
    "duration": 19,
    "start_time": "2022-03-09T21:04:47.688Z"
   },
   {
    "duration": 6,
    "start_time": "2022-03-09T21:04:47.711Z"
   },
   {
    "duration": 174,
    "start_time": "2022-03-09T21:04:47.720Z"
   },
   {
    "duration": 12,
    "start_time": "2022-03-09T21:04:47.896Z"
   },
   {
    "duration": 8,
    "start_time": "2022-03-09T21:04:47.910Z"
   },
   {
    "duration": 6,
    "start_time": "2022-03-09T21:04:47.920Z"
   },
   {
    "duration": 6,
    "start_time": "2022-03-09T21:04:47.928Z"
   },
   {
    "duration": 93,
    "start_time": "2022-03-09T21:04:47.937Z"
   },
   {
    "duration": 8,
    "start_time": "2022-03-09T21:04:48.032Z"
   },
   {
    "duration": 53,
    "start_time": "2022-03-09T21:04:48.042Z"
   },
   {
    "duration": 7,
    "start_time": "2022-03-09T21:04:48.098Z"
   },
   {
    "duration": 24,
    "start_time": "2022-03-09T21:04:48.108Z"
   },
   {
    "duration": 55,
    "start_time": "2022-03-09T21:04:48.134Z"
   },
   {
    "duration": 9,
    "start_time": "2022-03-09T21:04:48.191Z"
   },
   {
    "duration": 15,
    "start_time": "2022-03-09T21:04:48.202Z"
   },
   {
    "duration": 13,
    "start_time": "2022-03-09T21:04:48.219Z"
   },
   {
    "duration": 58,
    "start_time": "2022-03-09T21:04:48.237Z"
   },
   {
    "duration": 11,
    "start_time": "2022-03-09T21:04:48.299Z"
   },
   {
    "duration": 10,
    "start_time": "2022-03-09T21:04:48.313Z"
   },
   {
    "duration": 68,
    "start_time": "2022-03-09T21:04:48.326Z"
   },
   {
    "duration": 26,
    "start_time": "2022-03-09T21:04:48.397Z"
   },
   {
    "duration": 93,
    "start_time": "2022-03-09T21:04:48.426Z"
   },
   {
    "duration": 6,
    "start_time": "2022-03-09T21:04:48.522Z"
   },
   {
    "duration": 23,
    "start_time": "2022-03-09T21:04:48.530Z"
   },
   {
    "duration": 51,
    "start_time": "2022-03-09T21:04:48.555Z"
   },
   {
    "duration": 28,
    "start_time": "2022-03-09T21:04:48.608Z"
   },
   {
    "duration": 231,
    "start_time": "2022-03-09T21:04:48.638Z"
   },
   {
    "duration": 216,
    "start_time": "2022-03-09T21:04:48.656Z"
   },
   {
    "duration": 211,
    "start_time": "2022-03-09T21:04:48.662Z"
   },
   {
    "duration": 207,
    "start_time": "2022-03-09T21:04:48.668Z"
   },
   {
    "duration": 202,
    "start_time": "2022-03-09T21:04:48.675Z"
   },
   {
    "duration": 201,
    "start_time": "2022-03-09T21:04:48.678Z"
   },
   {
    "duration": 195,
    "start_time": "2022-03-09T21:04:48.685Z"
   },
   {
    "duration": 191,
    "start_time": "2022-03-09T21:04:48.691Z"
   },
   {
    "duration": 186,
    "start_time": "2022-03-09T21:04:48.697Z"
   },
   {
    "duration": 9,
    "start_time": "2022-03-09T21:07:07.553Z"
   },
   {
    "duration": 38,
    "start_time": "2022-03-09T21:14:16.427Z"
   },
   {
    "duration": 39,
    "start_time": "2022-03-09T21:15:01.625Z"
   },
   {
    "duration": 40,
    "start_time": "2022-03-09T21:15:51.417Z"
   },
   {
    "duration": 40,
    "start_time": "2022-03-09T21:15:59.592Z"
   },
   {
    "duration": 36,
    "start_time": "2022-03-09T21:16:06.466Z"
   },
   {
    "duration": 251,
    "start_time": "2022-03-09T21:16:09.684Z"
   },
   {
    "duration": 39,
    "start_time": "2022-03-09T21:16:17.402Z"
   },
   {
    "duration": 37,
    "start_time": "2022-03-09T21:16:57.362Z"
   },
   {
    "duration": 40,
    "start_time": "2022-03-09T21:17:38.932Z"
   },
   {
    "duration": 40,
    "start_time": "2022-03-09T21:18:06.272Z"
   },
   {
    "duration": 39,
    "start_time": "2022-03-09T21:19:01.666Z"
   },
   {
    "duration": 41,
    "start_time": "2022-03-09T21:19:09.800Z"
   },
   {
    "duration": 39,
    "start_time": "2022-03-09T21:19:13.452Z"
   },
   {
    "duration": 38,
    "start_time": "2022-03-09T21:19:30.231Z"
   },
   {
    "duration": 41,
    "start_time": "2022-03-09T21:19:36.339Z"
   },
   {
    "duration": 41,
    "start_time": "2022-03-09T21:19:43.973Z"
   },
   {
    "duration": 40,
    "start_time": "2022-03-09T21:20:45.507Z"
   },
   {
    "duration": 38,
    "start_time": "2022-03-09T21:20:58.730Z"
   },
   {
    "duration": 247,
    "start_time": "2022-03-09T21:22:06.698Z"
   },
   {
    "duration": 3,
    "start_time": "2022-03-09T21:22:29.651Z"
   },
   {
    "duration": 78,
    "start_time": "2022-03-09T21:22:29.657Z"
   },
   {
    "duration": 50,
    "start_time": "2022-03-09T21:22:29.738Z"
   },
   {
    "duration": 13,
    "start_time": "2022-03-09T21:22:29.791Z"
   },
   {
    "duration": 6,
    "start_time": "2022-03-09T21:22:29.807Z"
   },
   {
    "duration": 73,
    "start_time": "2022-03-09T21:22:29.815Z"
   },
   {
    "duration": 8,
    "start_time": "2022-03-09T21:22:29.892Z"
   },
   {
    "duration": 6,
    "start_time": "2022-03-09T21:22:29.903Z"
   },
   {
    "duration": 182,
    "start_time": "2022-03-09T21:22:29.912Z"
   },
   {
    "duration": 13,
    "start_time": "2022-03-09T21:22:30.096Z"
   },
   {
    "duration": 18,
    "start_time": "2022-03-09T21:22:30.111Z"
   },
   {
    "duration": 26,
    "start_time": "2022-03-09T21:22:30.132Z"
   },
   {
    "duration": 29,
    "start_time": "2022-03-09T21:22:30.161Z"
   },
   {
    "duration": 40,
    "start_time": "2022-03-09T21:22:30.192Z"
   },
   {
    "duration": 10,
    "start_time": "2022-03-09T21:22:30.235Z"
   },
   {
    "duration": 42,
    "start_time": "2022-03-09T21:22:30.247Z"
   },
   {
    "duration": 7,
    "start_time": "2022-03-09T21:22:30.292Z"
   },
   {
    "duration": 42,
    "start_time": "2022-03-09T21:22:30.301Z"
   },
   {
    "duration": 35,
    "start_time": "2022-03-09T21:22:30.348Z"
   },
   {
    "duration": 8,
    "start_time": "2022-03-09T21:22:30.388Z"
   },
   {
    "duration": 15,
    "start_time": "2022-03-09T21:22:30.399Z"
   },
   {
    "duration": 8,
    "start_time": "2022-03-09T21:22:30.417Z"
   },
   {
    "duration": 67,
    "start_time": "2022-03-09T21:22:30.427Z"
   },
   {
    "duration": 10,
    "start_time": "2022-03-09T21:22:30.496Z"
   },
   {
    "duration": 17,
    "start_time": "2022-03-09T21:22:30.509Z"
   },
   {
    "duration": 18,
    "start_time": "2022-03-09T21:22:30.529Z"
   },
   {
    "duration": 25,
    "start_time": "2022-03-09T21:22:30.588Z"
   },
   {
    "duration": 75,
    "start_time": "2022-03-09T21:22:30.615Z"
   },
   {
    "duration": 6,
    "start_time": "2022-03-09T21:22:30.692Z"
   },
   {
    "duration": 34,
    "start_time": "2022-03-09T21:22:30.700Z"
   },
   {
    "duration": 52,
    "start_time": "2022-03-09T21:22:30.736Z"
   },
   {
    "duration": 27,
    "start_time": "2022-03-09T21:22:30.790Z"
   },
   {
    "duration": 8,
    "start_time": "2022-03-09T21:22:30.820Z"
   },
   {
    "duration": 29,
    "start_time": "2022-03-09T21:22:30.831Z"
   },
   {
    "duration": 54,
    "start_time": "2022-03-09T21:22:30.862Z"
   },
   {
    "duration": 26,
    "start_time": "2022-03-09T21:22:30.918Z"
   },
   {
    "duration": 62,
    "start_time": "2022-03-09T21:22:30.947Z"
   },
   {
    "duration": 46,
    "start_time": "2022-03-09T21:22:31.011Z"
   },
   {
    "duration": 67,
    "start_time": "2022-03-09T21:22:31.060Z"
   },
   {
    "duration": 66,
    "start_time": "2022-03-09T21:22:31.130Z"
   },
   {
    "duration": 35,
    "start_time": "2022-03-09T21:22:31.198Z"
   },
   {
    "duration": 35,
    "start_time": "2022-03-09T21:22:50.312Z"
   },
   {
    "duration": 34,
    "start_time": "2022-03-09T21:23:29.833Z"
   },
   {
    "duration": 255,
    "start_time": "2022-03-09T21:23:57.545Z"
   },
   {
    "duration": 3,
    "start_time": "2022-03-09T21:24:03.210Z"
   },
   {
    "duration": 82,
    "start_time": "2022-03-09T21:24:03.216Z"
   },
   {
    "duration": 20,
    "start_time": "2022-03-09T21:24:03.303Z"
   },
   {
    "duration": 67,
    "start_time": "2022-03-09T21:24:03.327Z"
   },
   {
    "duration": 8,
    "start_time": "2022-03-09T21:24:03.397Z"
   },
   {
    "duration": 26,
    "start_time": "2022-03-09T21:24:03.407Z"
   },
   {
    "duration": 7,
    "start_time": "2022-03-09T21:24:03.435Z"
   },
   {
    "duration": 47,
    "start_time": "2022-03-09T21:24:03.445Z"
   },
   {
    "duration": 151,
    "start_time": "2022-03-09T21:24:03.494Z"
   },
   {
    "duration": 15,
    "start_time": "2022-03-09T21:24:03.647Z"
   },
   {
    "duration": 36,
    "start_time": "2022-03-09T21:24:03.665Z"
   },
   {
    "duration": 6,
    "start_time": "2022-03-09T21:24:03.704Z"
   },
   {
    "duration": 9,
    "start_time": "2022-03-09T21:24:03.712Z"
   },
   {
    "duration": 85,
    "start_time": "2022-03-09T21:24:03.723Z"
   },
   {
    "duration": 11,
    "start_time": "2022-03-09T21:24:03.811Z"
   },
   {
    "duration": 21,
    "start_time": "2022-03-09T21:24:03.825Z"
   },
   {
    "duration": 45,
    "start_time": "2022-03-09T21:24:03.849Z"
   },
   {
    "duration": 33,
    "start_time": "2022-03-09T21:24:03.897Z"
   },
   {
    "duration": 13,
    "start_time": "2022-03-09T21:24:03.933Z"
   },
   {
    "duration": 46,
    "start_time": "2022-03-09T21:24:03.948Z"
   },
   {
    "duration": 17,
    "start_time": "2022-03-09T21:24:03.996Z"
   },
   {
    "duration": 6,
    "start_time": "2022-03-09T21:24:04.015Z"
   },
   {
    "duration": 64,
    "start_time": "2022-03-09T21:24:04.026Z"
   },
   {
    "duration": 11,
    "start_time": "2022-03-09T21:24:04.094Z"
   },
   {
    "duration": 14,
    "start_time": "2022-03-09T21:24:04.109Z"
   },
   {
    "duration": 36,
    "start_time": "2022-03-09T21:24:04.127Z"
   },
   {
    "duration": 27,
    "start_time": "2022-03-09T21:24:04.187Z"
   },
   {
    "duration": 80,
    "start_time": "2022-03-09T21:24:04.217Z"
   },
   {
    "duration": 7,
    "start_time": "2022-03-09T21:24:04.300Z"
   },
   {
    "duration": 34,
    "start_time": "2022-03-09T21:24:04.309Z"
   },
   {
    "duration": 53,
    "start_time": "2022-03-09T21:24:04.345Z"
   },
   {
    "duration": 27,
    "start_time": "2022-03-09T21:24:04.400Z"
   },
   {
    "duration": 9,
    "start_time": "2022-03-09T21:24:04.430Z"
   },
   {
    "duration": 48,
    "start_time": "2022-03-09T21:24:04.441Z"
   },
   {
    "duration": 29,
    "start_time": "2022-03-09T21:24:04.491Z"
   },
   {
    "duration": 23,
    "start_time": "2022-03-09T21:24:04.523Z"
   },
   {
    "duration": 64,
    "start_time": "2022-03-09T21:24:04.548Z"
   },
   {
    "duration": 114,
    "start_time": "2022-03-09T21:24:04.616Z"
   },
   {
    "duration": 88,
    "start_time": "2022-03-09T21:24:04.732Z"
   },
   {
    "duration": 83,
    "start_time": "2022-03-09T21:24:04.822Z"
   },
   {
    "duration": 238,
    "start_time": "2022-03-09T21:24:04.908Z"
   },
   {
    "duration": 253,
    "start_time": "2022-03-09T21:24:17.613Z"
   },
   {
    "duration": 35,
    "start_time": "2022-03-09T21:24:22.292Z"
   },
   {
    "duration": 36,
    "start_time": "2022-03-09T21:24:52.201Z"
   },
   {
    "duration": 37,
    "start_time": "2022-03-09T21:25:04.999Z"
   },
   {
    "duration": 72,
    "start_time": "2022-03-09T21:35:33.625Z"
   },
   {
    "duration": 4,
    "start_time": "2022-03-09T21:35:43.016Z"
   },
   {
    "duration": 83,
    "start_time": "2022-03-09T21:35:43.023Z"
   },
   {
    "duration": 15,
    "start_time": "2022-03-09T21:35:43.109Z"
   },
   {
    "duration": 13,
    "start_time": "2022-03-09T21:35:43.126Z"
   },
   {
    "duration": 50,
    "start_time": "2022-03-09T21:35:43.142Z"
   },
   {
    "duration": 21,
    "start_time": "2022-03-09T21:35:43.194Z"
   },
   {
    "duration": 15,
    "start_time": "2022-03-09T21:35:43.218Z"
   },
   {
    "duration": 6,
    "start_time": "2022-03-09T21:35:43.239Z"
   },
   {
    "duration": 155,
    "start_time": "2022-03-09T21:35:43.289Z"
   },
   {
    "duration": 16,
    "start_time": "2022-03-09T21:35:43.448Z"
   },
   {
    "duration": 10,
    "start_time": "2022-03-09T21:35:43.487Z"
   },
   {
    "duration": 7,
    "start_time": "2022-03-09T21:35:43.500Z"
   },
   {
    "duration": 6,
    "start_time": "2022-03-09T21:35:43.510Z"
   },
   {
    "duration": 67,
    "start_time": "2022-03-09T21:35:43.518Z"
   },
   {
    "duration": -3,
    "start_time": "2022-03-09T21:35:43.592Z"
   },
   {
    "duration": -5,
    "start_time": "2022-03-09T21:35:43.596Z"
   },
   {
    "duration": -6,
    "start_time": "2022-03-09T21:35:43.599Z"
   },
   {
    "duration": -7,
    "start_time": "2022-03-09T21:35:43.603Z"
   },
   {
    "duration": -8,
    "start_time": "2022-03-09T21:35:43.606Z"
   },
   {
    "duration": -10,
    "start_time": "2022-03-09T21:35:43.610Z"
   },
   {
    "duration": -10,
    "start_time": "2022-03-09T21:35:43.613Z"
   },
   {
    "duration": -11,
    "start_time": "2022-03-09T21:35:43.616Z"
   },
   {
    "duration": -13,
    "start_time": "2022-03-09T21:35:43.620Z"
   },
   {
    "duration": -14,
    "start_time": "2022-03-09T21:35:43.623Z"
   },
   {
    "duration": -28,
    "start_time": "2022-03-09T21:35:43.639Z"
   },
   {
    "duration": -28,
    "start_time": "2022-03-09T21:35:43.642Z"
   },
   {
    "duration": -30,
    "start_time": "2022-03-09T21:35:43.646Z"
   },
   {
    "duration": -32,
    "start_time": "2022-03-09T21:35:43.650Z"
   },
   {
    "duration": -33,
    "start_time": "2022-03-09T21:35:43.653Z"
   },
   {
    "duration": -35,
    "start_time": "2022-03-09T21:35:43.657Z"
   },
   {
    "duration": -37,
    "start_time": "2022-03-09T21:35:43.661Z"
   },
   {
    "duration": -39,
    "start_time": "2022-03-09T21:35:43.665Z"
   },
   {
    "duration": 18,
    "start_time": "2022-03-09T21:35:43.669Z"
   },
   {
    "duration": 16,
    "start_time": "2022-03-09T21:35:43.672Z"
   },
   {
    "duration": 15,
    "start_time": "2022-03-09T21:35:43.675Z"
   },
   {
    "duration": 13,
    "start_time": "2022-03-09T21:35:43.679Z"
   },
   {
    "duration": 11,
    "start_time": "2022-03-09T21:35:43.682Z"
   },
   {
    "duration": 9,
    "start_time": "2022-03-09T21:35:43.686Z"
   },
   {
    "duration": 1,
    "start_time": "2022-03-09T21:35:43.695Z"
   },
   {
    "duration": -2,
    "start_time": "2022-03-09T21:35:43.699Z"
   },
   {
    "duration": -3,
    "start_time": "2022-03-09T21:35:43.702Z"
   },
   {
    "duration": 68,
    "start_time": "2022-03-09T21:35:58.235Z"
   },
   {
    "duration": 33,
    "start_time": "2022-03-09T21:36:45.220Z"
   },
   {
    "duration": 29,
    "start_time": "2022-03-09T21:36:54.073Z"
   },
   {
    "duration": 32,
    "start_time": "2022-03-09T21:37:49.887Z"
   },
   {
    "duration": 36,
    "start_time": "2022-03-09T21:38:17.950Z"
   },
   {
    "duration": 81,
    "start_time": "2022-03-09T21:41:25.307Z"
   },
   {
    "duration": 4,
    "start_time": "2022-03-09T21:46:56.945Z"
   },
   {
    "duration": 79,
    "start_time": "2022-03-09T21:46:56.951Z"
   },
   {
    "duration": 15,
    "start_time": "2022-03-09T21:46:57.032Z"
   },
   {
    "duration": 48,
    "start_time": "2022-03-09T21:46:57.049Z"
   },
   {
    "duration": 10,
    "start_time": "2022-03-09T21:46:57.099Z"
   },
   {
    "duration": 25,
    "start_time": "2022-03-09T21:46:57.111Z"
   },
   {
    "duration": 7,
    "start_time": "2022-03-09T21:46:57.139Z"
   },
   {
    "duration": 5,
    "start_time": "2022-03-09T21:46:57.189Z"
   },
   {
    "duration": 159,
    "start_time": "2022-03-09T21:46:57.197Z"
   },
   {
    "duration": 12,
    "start_time": "2022-03-09T21:46:57.359Z"
   },
   {
    "duration": 8,
    "start_time": "2022-03-09T21:46:57.387Z"
   },
   {
    "duration": 7,
    "start_time": "2022-03-09T21:46:57.397Z"
   },
   {
    "duration": 8,
    "start_time": "2022-03-09T21:46:57.406Z"
   },
   {
    "duration": 80,
    "start_time": "2022-03-09T21:46:57.417Z"
   },
   {
    "duration": 9,
    "start_time": "2022-03-09T21:46:57.499Z"
   },
   {
    "duration": 13,
    "start_time": "2022-03-09T21:46:57.510Z"
   },
   {
    "duration": 7,
    "start_time": "2022-03-09T21:46:57.525Z"
   },
   {
    "duration": 77,
    "start_time": "2022-03-09T21:46:57.534Z"
   },
   {
    "duration": 13,
    "start_time": "2022-03-09T21:46:57.613Z"
   },
   {
    "duration": 8,
    "start_time": "2022-03-09T21:46:57.628Z"
   },
   {
    "duration": 51,
    "start_time": "2022-03-09T21:46:57.638Z"
   },
   {
    "duration": 7,
    "start_time": "2022-03-09T21:46:57.691Z"
   },
   {
    "duration": 24,
    "start_time": "2022-03-09T21:46:57.703Z"
   },
   {
    "duration": 57,
    "start_time": "2022-03-09T21:46:57.730Z"
   },
   {
    "duration": 10,
    "start_time": "2022-03-09T21:46:57.789Z"
   },
   {
    "duration": 18,
    "start_time": "2022-03-09T21:46:57.801Z"
   },
   {
    "duration": 27,
    "start_time": "2022-03-09T21:46:57.821Z"
   },
   {
    "duration": 75,
    "start_time": "2022-03-09T21:46:57.850Z"
   },
   {
    "duration": 8,
    "start_time": "2022-03-09T21:46:57.929Z"
   },
   {
    "duration": 57,
    "start_time": "2022-03-09T21:46:57.940Z"
   },
   {
    "duration": 22,
    "start_time": "2022-03-09T21:46:57.999Z"
   },
   {
    "duration": 26,
    "start_time": "2022-03-09T21:46:58.023Z"
   },
   {
    "duration": 41,
    "start_time": "2022-03-09T21:46:58.051Z"
   },
   {
    "duration": 7,
    "start_time": "2022-03-09T21:46:58.095Z"
   },
   {
    "duration": 28,
    "start_time": "2022-03-09T21:46:58.105Z"
   },
   {
    "duration": 69,
    "start_time": "2022-03-09T21:46:58.135Z"
   },
   {
    "duration": 29,
    "start_time": "2022-03-09T21:46:58.206Z"
   },
   {
    "duration": 81,
    "start_time": "2022-03-09T21:46:58.237Z"
   },
   {
    "duration": 39,
    "start_time": "2022-03-09T21:46:58.321Z"
   },
   {
    "duration": 57,
    "start_time": "2022-03-09T21:46:58.363Z"
   },
   {
    "duration": 67,
    "start_time": "2022-03-09T21:46:58.423Z"
   },
   {
    "duration": 334,
    "start_time": "2022-03-10T21:55:33.962Z"
   },
   {
    "duration": 304,
    "start_time": "2022-03-10T21:55:39.095Z"
   },
   {
    "duration": 995,
    "start_time": "2022-03-10T21:55:45.472Z"
   },
   {
    "duration": 125,
    "start_time": "2022-03-10T21:55:46.470Z"
   },
   {
    "duration": 15,
    "start_time": "2022-03-10T21:55:46.598Z"
   },
   {
    "duration": 20,
    "start_time": "2022-03-10T21:55:46.616Z"
   },
   {
    "duration": 13,
    "start_time": "2022-03-10T21:55:46.639Z"
   },
   {
    "duration": 51,
    "start_time": "2022-03-10T21:55:46.655Z"
   },
   {
    "duration": 10,
    "start_time": "2022-03-10T21:55:46.709Z"
   },
   {
    "duration": 44,
    "start_time": "2022-03-10T21:55:46.724Z"
   },
   {
    "duration": 133,
    "start_time": "2022-03-10T21:55:46.772Z"
   },
   {
    "duration": 13,
    "start_time": "2022-03-10T21:55:46.908Z"
   },
   {
    "duration": 8,
    "start_time": "2022-03-10T21:55:46.923Z"
   },
   {
    "duration": 7,
    "start_time": "2022-03-10T21:55:46.933Z"
   },
   {
    "duration": 40,
    "start_time": "2022-03-10T21:55:46.942Z"
   },
   {
    "duration": 48,
    "start_time": "2022-03-10T21:55:46.985Z"
   },
   {
    "duration": 9,
    "start_time": "2022-03-10T21:55:47.036Z"
   },
   {
    "duration": 37,
    "start_time": "2022-03-10T21:55:47.047Z"
   },
   {
    "duration": 7,
    "start_time": "2022-03-10T21:55:47.087Z"
   },
   {
    "duration": 32,
    "start_time": "2022-03-10T21:55:47.096Z"
   },
   {
    "duration": 24,
    "start_time": "2022-03-10T21:55:47.131Z"
   },
   {
    "duration": 27,
    "start_time": "2022-03-10T21:55:47.158Z"
   },
   {
    "duration": 12,
    "start_time": "2022-03-10T21:55:47.188Z"
   },
   {
    "duration": 24,
    "start_time": "2022-03-10T21:55:47.202Z"
   },
   {
    "duration": 47,
    "start_time": "2022-03-10T21:55:47.231Z"
   },
   {
    "duration": 14,
    "start_time": "2022-03-10T21:55:47.281Z"
   },
   {
    "duration": 29,
    "start_time": "2022-03-10T21:55:47.297Z"
   },
   {
    "duration": 16,
    "start_time": "2022-03-10T21:55:47.329Z"
   },
   {
    "duration": 22,
    "start_time": "2022-03-10T21:55:47.348Z"
   },
   {
    "duration": 49,
    "start_time": "2022-03-10T21:55:47.372Z"
   },
   {
    "duration": 7,
    "start_time": "2022-03-10T21:55:47.423Z"
   },
   {
    "duration": 29,
    "start_time": "2022-03-10T21:55:47.432Z"
   },
   {
    "duration": 46,
    "start_time": "2022-03-10T21:55:47.464Z"
   },
   {
    "duration": 26,
    "start_time": "2022-03-10T21:55:47.512Z"
   },
   {
    "duration": 8,
    "start_time": "2022-03-10T21:55:47.541Z"
   },
   {
    "duration": 36,
    "start_time": "2022-03-10T21:55:47.551Z"
   },
   {
    "duration": 35,
    "start_time": "2022-03-10T21:55:47.589Z"
   },
   {
    "duration": 24,
    "start_time": "2022-03-10T21:55:47.627Z"
   },
   {
    "duration": 55,
    "start_time": "2022-03-10T21:55:47.653Z"
   },
   {
    "duration": 58,
    "start_time": "2022-03-10T21:55:47.711Z"
   },
   {
    "duration": 45,
    "start_time": "2022-03-10T21:55:47.772Z"
   },
   {
    "duration": 49,
    "start_time": "2022-03-10T21:55:47.820Z"
   },
   {
    "duration": 34,
    "start_time": "2022-03-10T21:55:47.871Z"
   },
   {
    "duration": 4,
    "start_time": "2022-03-10T22:03:51.638Z"
   }
  ],
  "kernelspec": {
   "display_name": "Python 3 (ipykernel)",
   "language": "python",
   "name": "python3"
  },
  "language_info": {
   "codemirror_mode": {
    "name": "ipython",
    "version": 3
   },
   "file_extension": ".py",
   "mimetype": "text/x-python",
   "name": "python",
   "nbconvert_exporter": "python",
   "pygments_lexer": "ipython3",
   "version": "3.9.12"
  },
  "toc": {
   "base_numbering": "1",
   "nav_menu": {
    "height": "253.991px",
    "width": "778.991px"
   },
   "number_sections": false,
   "sideBar": true,
   "skip_h1_title": false,
   "title_cell": "Содержание",
   "title_sidebar": "Contents",
   "toc_cell": true,
   "toc_position": {
    "height": "calc(100% - 180px)",
    "left": "10px",
    "top": "150px",
    "width": "202.003px"
   },
   "toc_section_display": true,
   "toc_window_display": true
  }
 },
 "nbformat": 4,
 "nbformat_minor": 5
}
