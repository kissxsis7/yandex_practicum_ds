{
 "cells": [
  {
   "cell_type": "markdown",
   "metadata": {
    "toc": true
   },
   "source": [
    "<h1>Содержание<span class=\"tocSkip\"></span></h1>\n",
    "<div class=\"toc\"><ul class=\"toc-item\"><li><span><a href=\"#Загрузка-данных\" data-toc-modified-id=\"Загрузка-данных-1\"><span class=\"toc-item-num\">1&nbsp;&nbsp;</span>Загрузка данных</a></span><ul class=\"toc-item\"><li><span><a href=\"#Вывод\" data-toc-modified-id=\"Вывод-1.1\"><span class=\"toc-item-num\">1.1&nbsp;&nbsp;</span>Вывод</a></span></li></ul></li><li><span><a href=\"#Предобработка-данных\" data-toc-modified-id=\"Предобработка-данных-2\"><span class=\"toc-item-num\">2&nbsp;&nbsp;</span>Предобработка данных</a></span><ul class=\"toc-item\"><li><span><a href=\"#Очистка-данных-от-явных-дубликатов\" data-toc-modified-id=\"Очистка-данных-от-явных-дубликатов-2.1\"><span class=\"toc-item-num\">2.1&nbsp;&nbsp;</span>Очистка данных от явных дубликатов</a></span></li><li><span><a href=\"#Изменение-типов-данных\" data-toc-modified-id=\"Изменение-типов-данных-2.2\"><span class=\"toc-item-num\">2.2&nbsp;&nbsp;</span>Изменение типов данных</a></span></li><li><span><a href=\"#Вывод\" data-toc-modified-id=\"Вывод-2.3\"><span class=\"toc-item-num\">2.3&nbsp;&nbsp;</span>Вывод</a></span></li></ul></li><li><span><a href=\"#Умножение-матриц\" data-toc-modified-id=\"Умножение-матриц-3\"><span class=\"toc-item-num\">3&nbsp;&nbsp;</span>Умножение матриц</a></span><ul class=\"toc-item\"><li><span><a href=\"#Вывод\" data-toc-modified-id=\"Вывод-3.1\"><span class=\"toc-item-num\">3.1&nbsp;&nbsp;</span>Вывод</a></span></li></ul></li><li><span><a href=\"#Алгоритм-преобразования\" data-toc-modified-id=\"Алгоритм-преобразования-4\"><span class=\"toc-item-num\">4&nbsp;&nbsp;</span>Алгоритм преобразования</a></span></li><li><span><a href=\"#Проверка-алгоритма\" data-toc-modified-id=\"Проверка-алгоритма-5\"><span class=\"toc-item-num\">5&nbsp;&nbsp;</span>Проверка алгоритма</a></span></li><li><span><a href=\"#Декодирование-данных\" data-toc-modified-id=\"Декодирование-данных-6\"><span class=\"toc-item-num\">6&nbsp;&nbsp;</span>Декодирование данных</a></span></li><li><span><a href=\"#Вывод\" data-toc-modified-id=\"Вывод-7\"><span class=\"toc-item-num\">7&nbsp;&nbsp;</span>Вывод</a></span></li><li><span><a href=\"#Чек-лист-проверки\" data-toc-modified-id=\"Чек-лист-проверки-8\"><span class=\"toc-item-num\">8&nbsp;&nbsp;</span>Чек-лист проверки</a></span></li></ul></div>"
   ]
  },
  {
   "cell_type": "markdown",
   "metadata": {},
   "source": [
    "# Защита персональных данных клиентов"
   ]
  },
  {
   "cell_type": "markdown",
   "metadata": {},
   "source": [
    "Необходимо защитить данные клиентов страховой компании «Хоть потоп». \n",
    "\n",
    "**Цель исследования** — разработать алгоритм преобразования данных, чтобы по ним было сложно восстановить персональную информацию таким образом, чтобы качество модели линейной регрессии не ухудшилось.\n",
    "\n",
    "**Исследование пройдёт в 6 основных этапов:**\n",
    " 1. Обзор данных\n",
    " 2. Предобработка данных\n",
    " 3. Умножение матриц\n",
    " 4. Алгоритм преобразования\n",
    " 5. Проверка алгоритма\n",
    " 6. Общий вывод."
   ]
  },
  {
   "cell_type": "markdown",
   "metadata": {},
   "source": [
    "## Загрузка данных"
   ]
  },
  {
   "cell_type": "code",
   "execution_count": 1,
   "metadata": {},
   "outputs": [],
   "source": [
    "import pandas as pd\n",
    "import numpy as np\n",
    "\n",
    "from sklearn.model_selection import train_test_split, cross_val_score\n",
    "from sklearn.linear_model import LinearRegression\n",
    "from sklearn.metrics import r2_score, make_scorer"
   ]
  },
  {
   "cell_type": "code",
   "execution_count": 2,
   "metadata": {},
   "outputs": [
    {
     "data": {
      "text/html": [
       "<div>\n",
       "<style scoped>\n",
       "    .dataframe tbody tr th:only-of-type {\n",
       "        vertical-align: middle;\n",
       "    }\n",
       "\n",
       "    .dataframe tbody tr th {\n",
       "        vertical-align: top;\n",
       "    }\n",
       "\n",
       "    .dataframe thead th {\n",
       "        text-align: right;\n",
       "    }\n",
       "</style>\n",
       "<table border=\"1\" class=\"dataframe\">\n",
       "  <thead>\n",
       "    <tr style=\"text-align: right;\">\n",
       "      <th></th>\n",
       "      <th>Пол</th>\n",
       "      <th>Возраст</th>\n",
       "      <th>Зарплата</th>\n",
       "      <th>Члены семьи</th>\n",
       "      <th>Страховые выплаты</th>\n",
       "    </tr>\n",
       "  </thead>\n",
       "  <tbody>\n",
       "    <tr>\n",
       "      <th>0</th>\n",
       "      <td>1</td>\n",
       "      <td>41.0</td>\n",
       "      <td>49600.0</td>\n",
       "      <td>1</td>\n",
       "      <td>0</td>\n",
       "    </tr>\n",
       "    <tr>\n",
       "      <th>1</th>\n",
       "      <td>0</td>\n",
       "      <td>46.0</td>\n",
       "      <td>38000.0</td>\n",
       "      <td>1</td>\n",
       "      <td>1</td>\n",
       "    </tr>\n",
       "    <tr>\n",
       "      <th>2</th>\n",
       "      <td>0</td>\n",
       "      <td>29.0</td>\n",
       "      <td>21000.0</td>\n",
       "      <td>0</td>\n",
       "      <td>0</td>\n",
       "    </tr>\n",
       "    <tr>\n",
       "      <th>3</th>\n",
       "      <td>0</td>\n",
       "      <td>21.0</td>\n",
       "      <td>41700.0</td>\n",
       "      <td>2</td>\n",
       "      <td>0</td>\n",
       "    </tr>\n",
       "    <tr>\n",
       "      <th>4</th>\n",
       "      <td>1</td>\n",
       "      <td>28.0</td>\n",
       "      <td>26100.0</td>\n",
       "      <td>0</td>\n",
       "      <td>0</td>\n",
       "    </tr>\n",
       "    <tr>\n",
       "      <th>5</th>\n",
       "      <td>1</td>\n",
       "      <td>43.0</td>\n",
       "      <td>41000.0</td>\n",
       "      <td>2</td>\n",
       "      <td>1</td>\n",
       "    </tr>\n",
       "    <tr>\n",
       "      <th>6</th>\n",
       "      <td>1</td>\n",
       "      <td>39.0</td>\n",
       "      <td>39700.0</td>\n",
       "      <td>2</td>\n",
       "      <td>0</td>\n",
       "    </tr>\n",
       "    <tr>\n",
       "      <th>7</th>\n",
       "      <td>1</td>\n",
       "      <td>25.0</td>\n",
       "      <td>38600.0</td>\n",
       "      <td>4</td>\n",
       "      <td>0</td>\n",
       "    </tr>\n",
       "    <tr>\n",
       "      <th>8</th>\n",
       "      <td>1</td>\n",
       "      <td>36.0</td>\n",
       "      <td>49700.0</td>\n",
       "      <td>1</td>\n",
       "      <td>0</td>\n",
       "    </tr>\n",
       "    <tr>\n",
       "      <th>9</th>\n",
       "      <td>1</td>\n",
       "      <td>32.0</td>\n",
       "      <td>51700.0</td>\n",
       "      <td>1</td>\n",
       "      <td>0</td>\n",
       "    </tr>\n",
       "  </tbody>\n",
       "</table>\n",
       "</div>"
      ],
      "text/plain": [
       "   Пол  Возраст  Зарплата  Члены семьи  Страховые выплаты\n",
       "0    1     41.0   49600.0            1                  0\n",
       "1    0     46.0   38000.0            1                  1\n",
       "2    0     29.0   21000.0            0                  0\n",
       "3    0     21.0   41700.0            2                  0\n",
       "4    1     28.0   26100.0            0                  0\n",
       "5    1     43.0   41000.0            2                  1\n",
       "6    1     39.0   39700.0            2                  0\n",
       "7    1     25.0   38600.0            4                  0\n",
       "8    1     36.0   49700.0            1                  0\n",
       "9    1     32.0   51700.0            1                  0"
      ]
     },
     "metadata": {},
     "output_type": "display_data"
    },
    {
     "name": "stdout",
     "output_type": "stream",
     "text": [
      "<class 'pandas.core.frame.DataFrame'>\n",
      "RangeIndex: 5000 entries, 0 to 4999\n",
      "Data columns (total 5 columns):\n",
      " #   Column             Non-Null Count  Dtype  \n",
      "---  ------             --------------  -----  \n",
      " 0   Пол                5000 non-null   int64  \n",
      " 1   Возраст            5000 non-null   float64\n",
      " 2   Зарплата           5000 non-null   float64\n",
      " 3   Члены семьи        5000 non-null   int64  \n",
      " 4   Страховые выплаты  5000 non-null   int64  \n",
      "dtypes: float64(2), int64(3)\n",
      "memory usage: 195.4 KB\n"
     ]
    },
    {
     "data": {
      "text/plain": [
       "None"
      ]
     },
     "metadata": {},
     "output_type": "display_data"
    },
    {
     "data": {
      "text/html": [
       "<div>\n",
       "<style scoped>\n",
       "    .dataframe tbody tr th:only-of-type {\n",
       "        vertical-align: middle;\n",
       "    }\n",
       "\n",
       "    .dataframe tbody tr th {\n",
       "        vertical-align: top;\n",
       "    }\n",
       "\n",
       "    .dataframe thead th {\n",
       "        text-align: right;\n",
       "    }\n",
       "</style>\n",
       "<table border=\"1\" class=\"dataframe\">\n",
       "  <thead>\n",
       "    <tr style=\"text-align: right;\">\n",
       "      <th></th>\n",
       "      <th>Пол</th>\n",
       "      <th>Возраст</th>\n",
       "      <th>Зарплата</th>\n",
       "      <th>Члены семьи</th>\n",
       "      <th>Страховые выплаты</th>\n",
       "    </tr>\n",
       "  </thead>\n",
       "  <tbody>\n",
       "    <tr>\n",
       "      <th>count</th>\n",
       "      <td>5000.000000</td>\n",
       "      <td>5000.000000</td>\n",
       "      <td>5000.000000</td>\n",
       "      <td>5000.000000</td>\n",
       "      <td>5000.000000</td>\n",
       "    </tr>\n",
       "    <tr>\n",
       "      <th>mean</th>\n",
       "      <td>0.499000</td>\n",
       "      <td>30.952800</td>\n",
       "      <td>39916.360000</td>\n",
       "      <td>1.194200</td>\n",
       "      <td>0.148000</td>\n",
       "    </tr>\n",
       "    <tr>\n",
       "      <th>std</th>\n",
       "      <td>0.500049</td>\n",
       "      <td>8.440807</td>\n",
       "      <td>9900.083569</td>\n",
       "      <td>1.091387</td>\n",
       "      <td>0.463183</td>\n",
       "    </tr>\n",
       "    <tr>\n",
       "      <th>min</th>\n",
       "      <td>0.000000</td>\n",
       "      <td>18.000000</td>\n",
       "      <td>5300.000000</td>\n",
       "      <td>0.000000</td>\n",
       "      <td>0.000000</td>\n",
       "    </tr>\n",
       "    <tr>\n",
       "      <th>25%</th>\n",
       "      <td>0.000000</td>\n",
       "      <td>24.000000</td>\n",
       "      <td>33300.000000</td>\n",
       "      <td>0.000000</td>\n",
       "      <td>0.000000</td>\n",
       "    </tr>\n",
       "    <tr>\n",
       "      <th>50%</th>\n",
       "      <td>0.000000</td>\n",
       "      <td>30.000000</td>\n",
       "      <td>40200.000000</td>\n",
       "      <td>1.000000</td>\n",
       "      <td>0.000000</td>\n",
       "    </tr>\n",
       "    <tr>\n",
       "      <th>75%</th>\n",
       "      <td>1.000000</td>\n",
       "      <td>37.000000</td>\n",
       "      <td>46600.000000</td>\n",
       "      <td>2.000000</td>\n",
       "      <td>0.000000</td>\n",
       "    </tr>\n",
       "    <tr>\n",
       "      <th>max</th>\n",
       "      <td>1.000000</td>\n",
       "      <td>65.000000</td>\n",
       "      <td>79000.000000</td>\n",
       "      <td>6.000000</td>\n",
       "      <td>5.000000</td>\n",
       "    </tr>\n",
       "  </tbody>\n",
       "</table>\n",
       "</div>"
      ],
      "text/plain": [
       "               Пол      Возраст      Зарплата  Члены семьи  Страховые выплаты\n",
       "count  5000.000000  5000.000000   5000.000000  5000.000000        5000.000000\n",
       "mean      0.499000    30.952800  39916.360000     1.194200           0.148000\n",
       "std       0.500049     8.440807   9900.083569     1.091387           0.463183\n",
       "min       0.000000    18.000000   5300.000000     0.000000           0.000000\n",
       "25%       0.000000    24.000000  33300.000000     0.000000           0.000000\n",
       "50%       0.000000    30.000000  40200.000000     1.000000           0.000000\n",
       "75%       1.000000    37.000000  46600.000000     2.000000           0.000000\n",
       "max       1.000000    65.000000  79000.000000     6.000000           5.000000"
      ]
     },
     "metadata": {},
     "output_type": "display_data"
    },
    {
     "name": "stdout",
     "output_type": "stream",
     "text": [
      "Количество дубликатов:\n",
      "153 - 3% от всех данных\n"
     ]
    }
   ],
   "source": [
    "df = pd.read_csv('/datasets/insurance.csv')\n",
    "display(df.head(10))\n",
    "display(df.info())\n",
    "display(df.describe())\n",
    "print(f'Количество дубликатов:\\n{df.duplicated().sum()} - {int(df.duplicated().sum() / len(df) * 100)}% от всех данных')"
   ]
  },
  {
   "cell_type": "code",
   "execution_count": 3,
   "metadata": {},
   "outputs": [
    {
     "name": "stdout",
     "output_type": "stream",
     "text": [
      "Уникальные значения в столбцах:\n",
      "\n",
      "Пол:\n"
     ]
    },
    {
     "data": {
      "text/plain": [
       "array([0, 1])"
      ]
     },
     "metadata": {},
     "output_type": "display_data"
    },
    {
     "name": "stdout",
     "output_type": "stream",
     "text": [
      "Возраст:\n"
     ]
    },
    {
     "data": {
      "text/plain": [
       "array([18., 19., 20., 21., 22., 23., 24., 25., 26., 27., 28., 29., 30.,\n",
       "       31., 32., 33., 34., 35., 36., 37., 38., 39., 40., 41., 42., 43.,\n",
       "       44., 45., 46., 47., 48., 49., 50., 51., 52., 53., 54., 55., 56.,\n",
       "       57., 58., 59., 60., 61., 62., 65.])"
      ]
     },
     "metadata": {},
     "output_type": "display_data"
    },
    {
     "name": "stdout",
     "output_type": "stream",
     "text": [
      "Зарплата:\n"
     ]
    },
    {
     "data": {
      "text/plain": [
       "array([ 5300.,  6000.,  7400.,  8900.,  9800., 10000., 10600., 10800.,\n",
       "       11000., 11200., 11300., 12200., 12900., 13000., 13200., 13300.,\n",
       "       13400., 13500., 13800., 13900., 14100., 14300., 14400., 14500.,\n",
       "       14600., 14700., 15000., 15100., 15200., 15600., 15700., 15900.,\n",
       "       16000., 16200., 16300., 16400., 16500., 16600., 16700., 17000.,\n",
       "       17100., 17300., 17400., 17500., 17600., 17700., 17800., 17900.,\n",
       "       18100., 18200., 18300., 18400., 18600., 18700., 18800., 18900.,\n",
       "       19000., 19100., 19200., 19300., 19400., 19600., 19700., 19900.,\n",
       "       20000., 20100., 20200., 20300., 20400., 20500., 20600., 20700.,\n",
       "       20800., 20900., 21000., 21100., 21200., 21300., 21400., 21500.,\n",
       "       21600., 21700., 21800., 21900., 22000., 22100., 22200., 22300.,\n",
       "       22500., 22600., 22700., 22800., 22900., 23000., 23100., 23200.,\n",
       "       23300., 23400., 23500., 23600., 23700., 23800., 23900., 24000.,\n",
       "       24100., 24200., 24300., 24400., 24500., 24600., 24700., 24800.,\n",
       "       24900., 25000., 25100., 25200., 25300., 25400., 25500., 25600.,\n",
       "       25700., 25800., 25900., 26000., 26100., 26200., 26300., 26400.,\n",
       "       26500., 26600., 26700., 26800., 26900., 27000., 27100., 27200.,\n",
       "       27300., 27400., 27500., 27600., 27700., 27800., 27900., 28000.,\n",
       "       28100., 28200., 28300., 28400., 28500., 28600., 28700., 28800.,\n",
       "       28900., 29000., 29100., 29200., 29300., 29400., 29500., 29600.,\n",
       "       29700., 29800., 29900., 30000., 30100., 30200., 30300., 30400.,\n",
       "       30500., 30600., 30700., 30800., 30900., 31000., 31100., 31200.,\n",
       "       31300., 31400., 31500., 31600., 31700., 31800., 31900., 32000.,\n",
       "       32100., 32200., 32300., 32400., 32500., 32600., 32700., 32800.,\n",
       "       32900., 33000., 33100., 33200., 33300., 33400., 33500., 33600.,\n",
       "       33700., 33800., 33900., 34000., 34100., 34200., 34300., 34400.,\n",
       "       34500., 34600., 34700., 34800., 34900., 35000., 35100., 35200.,\n",
       "       35300., 35400., 35500., 35600., 35700., 35800., 35900., 36000.,\n",
       "       36100., 36200., 36300., 36400., 36500., 36600., 36700., 36800.,\n",
       "       36900., 37000., 37100., 37200., 37300., 37400., 37500., 37600.,\n",
       "       37700., 37800., 37900., 38000., 38100., 38200., 38300., 38400.,\n",
       "       38500., 38600., 38700., 38800., 38900., 39000., 39100., 39200.,\n",
       "       39300., 39400., 39500., 39600., 39700., 39800., 39900., 40000.,\n",
       "       40100., 40200., 40300., 40400., 40500., 40600., 40700., 40800.,\n",
       "       40900., 41000., 41100., 41200., 41300., 41400., 41500., 41600.,\n",
       "       41700., 41800., 41900., 42000., 42100., 42200., 42300., 42400.,\n",
       "       42500., 42600., 42700., 42800., 42900., 43000., 43100., 43200.,\n",
       "       43300., 43400., 43500., 43600., 43700., 43800., 43900., 44000.,\n",
       "       44100., 44200., 44300., 44400., 44500., 44600., 44700., 44800.,\n",
       "       44900., 45000., 45100., 45200., 45300., 45400., 45500., 45600.,\n",
       "       45700., 45800., 45900., 46000., 46100., 46200., 46300., 46400.,\n",
       "       46500., 46600., 46700., 46800., 46900., 47000., 47100., 47200.,\n",
       "       47300., 47400., 47500., 47600., 47700., 47800., 47900., 48000.,\n",
       "       48100., 48200., 48300., 48400., 48500., 48600., 48700., 48800.,\n",
       "       48900., 49000., 49100., 49200., 49300., 49400., 49500., 49600.,\n",
       "       49700., 49800., 49900., 50000., 50100., 50200., 50300., 50400.,\n",
       "       50500., 50600., 50700., 50800., 50900., 51000., 51100., 51200.,\n",
       "       51300., 51400., 51500., 51600., 51700., 51800., 51900., 52000.,\n",
       "       52100., 52200., 52300., 52400., 52500., 52600., 52700., 52800.,\n",
       "       52900., 53000., 53100., 53200., 53300., 53400., 53500., 53600.,\n",
       "       53700., 53800., 53900., 54000., 54100., 54200., 54300., 54400.,\n",
       "       54500., 54600., 54700., 54800., 54900., 55000., 55100., 55200.,\n",
       "       55300., 55400., 55500., 55600., 55700., 55800., 55900., 56000.,\n",
       "       56100., 56200., 56300., 56400., 56500., 56600., 56700., 56800.,\n",
       "       56900., 57000., 57100., 57200., 57300., 57400., 57500., 57600.,\n",
       "       57700., 57800., 57900., 58000., 58100., 58200., 58300., 58400.,\n",
       "       58500., 58600., 58700., 58800., 58900., 59000., 59100., 59200.,\n",
       "       59300., 59500., 59600., 59700., 59800., 59900., 60000., 60100.,\n",
       "       60200., 60300., 60400., 60500., 60600., 60700., 60900., 61000.,\n",
       "       61200., 61300., 61400., 61500., 61700., 61800., 61900., 62000.,\n",
       "       62100., 62200., 62300., 62400., 62500., 62600., 62700., 62800.,\n",
       "       63100., 63200., 63300., 63400., 63500., 63600., 63700., 63800.,\n",
       "       64000., 64100., 64400., 64800., 64900., 65100., 65200., 65300.,\n",
       "       65900., 66100., 66300., 67100., 67200., 67700., 68000., 68400.,\n",
       "       68500., 68900., 69200., 69400., 70000., 70500., 70600., 71400.,\n",
       "       71600., 74800., 75200., 79000.])"
      ]
     },
     "metadata": {},
     "output_type": "display_data"
    },
    {
     "name": "stdout",
     "output_type": "stream",
     "text": [
      "Члены семьи:\n"
     ]
    },
    {
     "data": {
      "text/plain": [
       "array([0, 1, 2, 3, 4, 5, 6])"
      ]
     },
     "metadata": {},
     "output_type": "display_data"
    },
    {
     "name": "stdout",
     "output_type": "stream",
     "text": [
      "Страховые выплаты:\n"
     ]
    },
    {
     "data": {
      "text/plain": [
       "array([0, 1, 2, 3, 4, 5])"
      ]
     },
     "metadata": {},
     "output_type": "display_data"
    }
   ],
   "source": [
    "print('Уникальные значения в столбцах:')\n",
    "print()\n",
    "for col in df.columns:\n",
    "    print(col + ':')\n",
    "    display(np.sort(df[col].unique()))"
   ]
  },
  {
   "cell_type": "markdown",
   "metadata": {},
   "source": [
    "### Вывод\n",
    "\n",
    "В нашем распоряжении информация с данными клиентов компании «Хоть потоп»: 4 столбца содержат персональную информацию (пол, возраст, зарплата застрахованного, количество членов его семьи) и целевой признак - количество страховых выплат клиенту за последние 5 лет.\n",
    "\n",
    "Всего в датафрейме 5000 строк, 153 из них - явные дубликаты (3% от всех данных), избавимся от них на следующем шаге предобработки. Аномальных значений нет."
   ]
  },
  {
   "cell_type": "markdown",
   "metadata": {},
   "source": [
    "## Предобработка данных"
   ]
  },
  {
   "cell_type": "markdown",
   "metadata": {},
   "source": [
    "### Очистка данных от явных дубликатов"
   ]
  },
  {
   "cell_type": "code",
   "execution_count": 4,
   "metadata": {},
   "outputs": [
    {
     "name": "stdout",
     "output_type": "stream",
     "text": [
      "(4847, 5)\n"
     ]
    },
    {
     "data": {
      "text/html": [
       "<div>\n",
       "<style scoped>\n",
       "    .dataframe tbody tr th:only-of-type {\n",
       "        vertical-align: middle;\n",
       "    }\n",
       "\n",
       "    .dataframe tbody tr th {\n",
       "        vertical-align: top;\n",
       "    }\n",
       "\n",
       "    .dataframe thead th {\n",
       "        text-align: right;\n",
       "    }\n",
       "</style>\n",
       "<table border=\"1\" class=\"dataframe\">\n",
       "  <thead>\n",
       "    <tr style=\"text-align: right;\">\n",
       "      <th></th>\n",
       "      <th>Пол</th>\n",
       "      <th>Возраст</th>\n",
       "      <th>Зарплата</th>\n",
       "      <th>Члены семьи</th>\n",
       "      <th>Страховые выплаты</th>\n",
       "    </tr>\n",
       "  </thead>\n",
       "  <tbody>\n",
       "    <tr>\n",
       "      <th>0</th>\n",
       "      <td>1</td>\n",
       "      <td>41.0</td>\n",
       "      <td>49600.0</td>\n",
       "      <td>1</td>\n",
       "      <td>0</td>\n",
       "    </tr>\n",
       "    <tr>\n",
       "      <th>1</th>\n",
       "      <td>0</td>\n",
       "      <td>46.0</td>\n",
       "      <td>38000.0</td>\n",
       "      <td>1</td>\n",
       "      <td>1</td>\n",
       "    </tr>\n",
       "    <tr>\n",
       "      <th>2</th>\n",
       "      <td>0</td>\n",
       "      <td>29.0</td>\n",
       "      <td>21000.0</td>\n",
       "      <td>0</td>\n",
       "      <td>0</td>\n",
       "    </tr>\n",
       "  </tbody>\n",
       "</table>\n",
       "</div>"
      ],
      "text/plain": [
       "   Пол  Возраст  Зарплата  Члены семьи  Страховые выплаты\n",
       "0    1     41.0   49600.0            1                  0\n",
       "1    0     46.0   38000.0            1                  1\n",
       "2    0     29.0   21000.0            0                  0"
      ]
     },
     "execution_count": 4,
     "metadata": {},
     "output_type": "execute_result"
    }
   ],
   "source": [
    "# удалим явные дубликаты\n",
    "df = df.drop_duplicates().reset_index(drop=True)\n",
    " \n",
    "# выведем очищенный df и его размерность\n",
    "print(df.shape)\n",
    "df.head(3)"
   ]
  },
  {
   "cell_type": "markdown",
   "metadata": {},
   "source": [
    "### Изменение типов данных"
   ]
  },
  {
   "cell_type": "code",
   "execution_count": 5,
   "metadata": {},
   "outputs": [
    {
     "data": {
      "text/plain": [
       "Возраст     int64\n",
       "Зарплата    int64\n",
       "dtype: object"
      ]
     },
     "execution_count": 5,
     "metadata": {},
     "output_type": "execute_result"
    }
   ],
   "source": [
    "df['Возраст'] = df['Возраст'].astype('int')\n",
    "df['Зарплата'] = df['Зарплата'].astype('int')\n",
    "df[['Возраст', 'Зарплата']].dtypes"
   ]
  },
  {
   "cell_type": "markdown",
   "metadata": {},
   "source": [
    "### Вывод\n",
    "\n",
    "- Мы избавились от дублирующихся строк чтобы избежать искажения результатов предсказаний линейной регрессии.\n",
    "- Также привели столбцы 'Возраст' и 'Зарплата' к типу `int`, так как они содержат целочисленные данные. "
   ]
  },
  {
   "cell_type": "markdown",
   "metadata": {},
   "source": [
    "## Умножение матриц\n",
    "\n",
    "Ответим на вопрос: <u>*Признаки умножают на обратимую матрицу. Изменится ли качество линейной регрессии? (Её можно обучить заново)*</u>."
   ]
  },
  {
   "cell_type": "markdown",
   "metadata": {},
   "source": [
    "**Обозначения:**\n",
    "\n",
    "- $X$ — матрица признаков (нулевой столбец состоит из единиц)\n",
    "\n",
    "- $y$ — вектор целевого признака\n",
    "\n",
    "- $w$ — вектор весов линейной регрессии (нулевой элемент равен сдвигу)\n",
    "\n",
    "- $A$ - некая обратимая матрица, размерность которой совпадает с количеством признаков в $X$"
   ]
  },
  {
   "cell_type": "markdown",
   "metadata": {},
   "source": [
    "**Формулы:**\n",
    "\n",
    "Предсказания:\n",
    "\n",
    "$$\n",
    "a = Xw\n",
    "$$\n",
    "\n",
    "Задача обучения:\n",
    "\n",
    "$$\n",
    "w = \\arg\\min_w MSE(Xw, y)\n",
    "$$\n",
    "\n",
    "Формула обучения:\n",
    "\n",
    "$$\n",
    "w = (X^T X)^{-1} X^T y\n",
    "$$"
   ]
  },
  {
   "cell_type": "markdown",
   "metadata": {},
   "source": [
    "Напишем формулу для $\\overline{w}$ - новых весов:\n",
    "\n",
    "$\n",
    "\\overline{w} = ((XA)^T XA)^{-1} (XA)^T y\n",
    "$\n",
    "\n",
    "Раскроем скобки, пользуясь свойством транспорнированной матрицы: $(AB)^T = B^T A^T$:\n",
    "\n",
    "$\n",
    "\\overline{w} = (A^TX^T XA)^{-1} A^TX^T y\n",
    "$\n",
    "\n",
    "Вынесем $A^T$ за скобки, пользуясь свойством обратной матрицы матрицы: $(AB)^{-1} = B^{-1} A^{-1}$:\n",
    "\n",
    "$\n",
    "\\overline{w} = (X^T XA)^{-1} (A^T){-1} A^TX^T y\n",
    "$\n",
    "\n",
    "$(A^T){-1}$ и $A^T$ при умножении дают единичную матрицу, домножив которую на $X^T$ получаем $X^T$^:\n",
    "\n",
    "$\n",
    "\\overline{w} = (X^T XA)^{-1} X^T y\n",
    "$\n",
    "\n",
    "Вынесем $A$ за скобки:\n",
    "\n",
    "$\n",
    "\\overline{w} = A^{-1}(X^T X)^{-1} X^T y\n",
    "$\n",
    "\n",
    "Тогда:\n",
    "\n",
    "$\n",
    "\\overline{a} = X A A^{-1}(X^T X)^{-1} X^T y\n",
    "$\n",
    "\n",
    "$A^{-1}$ и $A$ дают единичную матрицу, получаем:\n",
    "\n",
    "$\n",
    "\\overline{a} = X(X^T X)^{-1} X^T y \\implies \\overline{a} = a\n",
    "$\n",
    "\n"
   ]
  },
  {
   "cell_type": "markdown",
   "metadata": {},
   "source": [
    "### Вывод\n",
    "\n",
    "**Ответ:** Если признаки умножить на обратимую матрицу, качество линейной регрессии не изменится.\n",
    "\n",
    "**Обоснование:** Предсказания для признаков умноженных на обратимую матрицу будут равны предсказаниям первоначальных признаков, а, следовательно, и качество модели не изменится."
   ]
  },
  {
   "cell_type": "markdown",
   "metadata": {},
   "source": [
    "## Алгоритм преобразования"
   ]
  },
  {
   "cell_type": "markdown",
   "metadata": {},
   "source": [
    "**Алгоритм:**\n",
    "1. Генерируем обратимую матрицу A, размеры которой равны кол-ву признаков.\n",
    "2. Проверяем А на обратимость.\n",
    "3. Если для A сущетсвует обратная матрица - домножаем признаки на А, если нет - возращаемся к пункту 1.\n",
    "\n",
    "Не зная, на какую конкретно матрицу была домножена матрица с данными, их не восстонавить."
   ]
  },
  {
   "cell_type": "code",
   "execution_count": 6,
   "metadata": {},
   "outputs": [],
   "source": [
    "def protect(data):\n",
    "\n",
    "    while True:\n",
    "        \n",
    "        A = np.random.normal(0, 10, (data.shape[1], data.shape[1]))\n",
    "        if np.linalg.det(A) > .1 :\n",
    "            protected_data = data @ A\n",
    "            return protected_data"
   ]
  },
  {
   "cell_type": "markdown",
   "metadata": {},
   "source": [
    "Качество линейной регрессии не изменится, см. доказательство выше."
   ]
  },
  {
   "cell_type": "markdown",
   "metadata": {},
   "source": [
    "## Проверка алгоритма"
   ]
  },
  {
   "cell_type": "markdown",
   "metadata": {},
   "source": [
    "Объявим признаки и целевой признак:"
   ]
  },
  {
   "cell_type": "code",
   "execution_count": 7,
   "metadata": {},
   "outputs": [
    {
     "data": {
      "text/html": [
       "<div>\n",
       "<style scoped>\n",
       "    .dataframe tbody tr th:only-of-type {\n",
       "        vertical-align: middle;\n",
       "    }\n",
       "\n",
       "    .dataframe tbody tr th {\n",
       "        vertical-align: top;\n",
       "    }\n",
       "\n",
       "    .dataframe thead th {\n",
       "        text-align: right;\n",
       "    }\n",
       "</style>\n",
       "<table border=\"1\" class=\"dataframe\">\n",
       "  <thead>\n",
       "    <tr style=\"text-align: right;\">\n",
       "      <th></th>\n",
       "      <th>Пол</th>\n",
       "      <th>Возраст</th>\n",
       "      <th>Зарплата</th>\n",
       "      <th>Члены семьи</th>\n",
       "    </tr>\n",
       "  </thead>\n",
       "  <tbody>\n",
       "    <tr>\n",
       "      <th>0</th>\n",
       "      <td>1</td>\n",
       "      <td>41</td>\n",
       "      <td>49600</td>\n",
       "      <td>1</td>\n",
       "    </tr>\n",
       "    <tr>\n",
       "      <th>1</th>\n",
       "      <td>0</td>\n",
       "      <td>46</td>\n",
       "      <td>38000</td>\n",
       "      <td>1</td>\n",
       "    </tr>\n",
       "    <tr>\n",
       "      <th>2</th>\n",
       "      <td>0</td>\n",
       "      <td>29</td>\n",
       "      <td>21000</td>\n",
       "      <td>0</td>\n",
       "    </tr>\n",
       "  </tbody>\n",
       "</table>\n",
       "</div>"
      ],
      "text/plain": [
       "   Пол  Возраст  Зарплата  Члены семьи\n",
       "0    1       41     49600            1\n",
       "1    0       46     38000            1\n",
       "2    0       29     21000            0"
      ]
     },
     "metadata": {},
     "output_type": "display_data"
    },
    {
     "name": "stdout",
     "output_type": "stream",
     "text": [
      "(4847, 4)\n"
     ]
    },
    {
     "data": {
      "text/plain": [
       "0    0\n",
       "1    1\n",
       "2    0\n",
       "Name: Страховые выплаты, dtype: int64"
      ]
     },
     "metadata": {},
     "output_type": "display_data"
    },
    {
     "data": {
      "text/plain": [
       "(4847, 4)"
      ]
     },
     "execution_count": 7,
     "metadata": {},
     "output_type": "execute_result"
    }
   ],
   "source": [
    "features = df.drop('Страховые выплаты',axis=1)\n",
    "\n",
    "display(features.head(3))\n",
    "print(features.shape)\n",
    "\n",
    "target = df['Страховые выплаты']\n",
    "display(target.head(3))\n",
    "features.shape"
   ]
  },
  {
   "cell_type": "code",
   "execution_count": 8,
   "metadata": {},
   "outputs": [
    {
     "data": {
      "text/plain": [
       "array([[-16.03836805,   0.64099914,   7.40891296,   1.52619194],\n",
       "       [  8.63743891,  29.13099223, -14.78823361,   9.45472975],\n",
       "       [-16.66135457,   3.43744581,  -5.12443709,  13.23758957],\n",
       "       [ -8.60280194,   5.19493199, -12.65143718, -21.59139011]])"
      ]
     },
     "execution_count": 8,
     "metadata": {},
     "output_type": "execute_result"
    }
   ],
   "source": [
    "# зафиксируем конкретный экземпляр генератора\n",
    "rng = np.random.default_rng(1234)\n",
    "\n",
    "# сгенерируем обратимую матрицу A, размеры которой равны кол-ву столбцов features\n",
    "A = rng.normal(0, 10, (features.shape[1], features.shape[1])) \n",
    "# выведем ее\n",
    "A"
   ]
  },
  {
   "cell_type": "code",
   "execution_count": 9,
   "metadata": {},
   "outputs": [
    {
     "data": {
      "text/plain": [
       "array([[-0.02781466,  0.00578412, -0.0231957 , -0.01365444],\n",
       "       [ 0.05241596,  0.03682228, -0.03160162,  0.00045445],\n",
       "       [ 0.07431541,  0.00908119, -0.05437986, -0.02411047],\n",
       "       [-0.01985122,  0.0012338 ,  0.03350239, -0.0266375 ]])"
      ]
     },
     "execution_count": 9,
     "metadata": {},
     "output_type": "execute_result"
    }
   ],
   "source": [
    "# проверим обратимость A\n",
    "np.linalg.inv(A) "
   ]
  },
  {
   "cell_type": "code",
   "execution_count": 10,
   "metadata": {},
   "outputs": [
    {
     "data": {
      "text/html": [
       "<div>\n",
       "<style scoped>\n",
       "    .dataframe tbody tr th:only-of-type {\n",
       "        vertical-align: middle;\n",
       "    }\n",
       "\n",
       "    .dataframe tbody tr th {\n",
       "        vertical-align: top;\n",
       "    }\n",
       "\n",
       "    .dataframe thead th {\n",
       "        text-align: right;\n",
       "    }\n",
       "</style>\n",
       "<table border=\"1\" class=\"dataframe\">\n",
       "  <thead>\n",
       "    <tr style=\"text-align: right;\">\n",
       "      <th></th>\n",
       "      <th>0</th>\n",
       "      <th>1</th>\n",
       "      <th>2</th>\n",
       "      <th>3</th>\n",
       "    </tr>\n",
       "  </thead>\n",
       "  <tbody>\n",
       "    <tr>\n",
       "      <th>0</th>\n",
       "      <td>-826073.693004</td>\n",
       "      <td>171697.519013</td>\n",
       "      <td>-254783.639907</td>\n",
       "      <td>656952.021239</td>\n",
       "    </tr>\n",
       "    <tr>\n",
       "      <th>1</th>\n",
       "      <td>-632742.754393</td>\n",
       "      <td>131968.161526</td>\n",
       "      <td>-195421.519711</td>\n",
       "      <td>503441.729720</td>\n",
       "    </tr>\n",
       "    <tr>\n",
       "      <th>2</th>\n",
       "      <td>-349637.960308</td>\n",
       "      <td>73031.160880</td>\n",
       "      <td>-108042.037724</td>\n",
       "      <td>278263.568067</td>\n",
       "    </tr>\n",
       "    <tr>\n",
       "      <th>3</th>\n",
       "      <td>-694614.305088</td>\n",
       "      <td>143963.631166</td>\n",
       "      <td>-214024.882552</td>\n",
       "      <td>552162.851484</td>\n",
       "    </tr>\n",
       "    <tr>\n",
       "      <th>4</th>\n",
       "      <td>-434635.544438</td>\n",
       "      <td>90533.644541</td>\n",
       "      <td>-134154.469751</td>\n",
       "      <td>345767.346321</td>\n",
       "    </tr>\n",
       "  </tbody>\n",
       "</table>\n",
       "</div>"
      ],
      "text/plain": [
       "               0              1              2              3\n",
       "0 -826073.693004  171697.519013 -254783.639907  656952.021239\n",
       "1 -632742.754393  131968.161526 -195421.519711  503441.729720\n",
       "2 -349637.960308   73031.160880 -108042.037724  278263.568067\n",
       "3 -694614.305088  143963.631166 -214024.882552  552162.851484\n",
       "4 -434635.544438   90533.644541 -134154.469751  345767.346321"
      ]
     },
     "execution_count": 10,
     "metadata": {},
     "output_type": "execute_result"
    }
   ],
   "source": [
    "# защитим данные, домножив на рандомную матрицу\n",
    "protected_features = features @ A\n",
    "\n",
    "# выведем преобразованные данные\n",
    "protected_features.head()"
   ]
  },
  {
   "cell_type": "code",
   "execution_count": 11,
   "metadata": {},
   "outputs": [],
   "source": [
    "# сначала обучим нашу модель\n",
    "\n",
    "class MyLinearRegression:\n",
    "    def fit(self, X, y):\n",
    "        X = np.concatenate([np.ones((len(X), 1)), X], axis = 1)\n",
    "        \n",
    "        w = np.linalg.inv(X.T @ X) @ X.T @ y\n",
    "        self.w0 = w[0]\n",
    "        self.w = w[1:]\n",
    "        \n",
    "    def predict(self, X):\n",
    "        return X @ self.w.reshape(-1,1) + self.w0"
   ]
  },
  {
   "cell_type": "code",
   "execution_count": 12,
   "metadata": {},
   "outputs": [
    {
     "name": "stdout",
     "output_type": "stream",
     "text": [
      "Предсказания для X:              0\n",
      "0     0.519329\n",
      "1     0.692301\n",
      "2     0.094127\n",
      "3    -0.226565\n",
      "4     0.066715\n",
      "...        ...\n",
      "4842  0.027417\n",
      "4843  0.256331\n",
      "4844 -0.261645\n",
      "4845 -0.193942\n",
      "4846  0.050448\n",
      "\n",
      "[4847 rows x 1 columns]\n",
      "Предсказания для XA:              0\n",
      "0     0.519329\n",
      "1     0.692301\n",
      "2     0.094127\n",
      "3    -0.226565\n",
      "4     0.066715\n",
      "...        ...\n",
      "4842  0.027417\n",
      "4843  0.256331\n",
      "4844 -0.261645\n",
      "4845 -0.193942\n",
      "4846  0.050448\n",
      "\n",
      "[4847 rows x 1 columns]\n",
      "Среднее отклонение = 0   -2.161631e-08\n",
      "dtype: float64\n"
     ]
    }
   ],
   "source": [
    "model = MyLinearRegression()\n",
    "\n",
    "model.fit(features, target)\n",
    "predictions = model.predict(features)\n",
    "\n",
    "model.fit(protected_features, target)\n",
    "new_predictions = model.predict(protected_features)\n",
    "\n",
    "print(f'Предсказания для X: {predictions}')  \n",
    "print(f'Предсказания для XA: {new_predictions}')  \n",
    "\n",
    "print('Среднее отклонение =', (predictions - new_predictions).mean())"
   ]
  },
  {
   "cell_type": "markdown",
   "metadata": {},
   "source": [
    "Среднее отклонение предсказаний стремится к 0. Проверим теперь на модели sklearn."
   ]
  },
  {
   "cell_type": "markdown",
   "metadata": {},
   "source": [
    "Разобьем признаки и целевой признак на выборки train и test в соотношении 1:3:"
   ]
  },
  {
   "cell_type": "code",
   "execution_count": 13,
   "metadata": {},
   "outputs": [
    {
     "name": "stdout",
     "output_type": "stream",
     "text": [
      "features_train\n"
     ]
    },
    {
     "data": {
      "text/html": [
       "<div>\n",
       "<style scoped>\n",
       "    .dataframe tbody tr th:only-of-type {\n",
       "        vertical-align: middle;\n",
       "    }\n",
       "\n",
       "    .dataframe tbody tr th {\n",
       "        vertical-align: top;\n",
       "    }\n",
       "\n",
       "    .dataframe thead th {\n",
       "        text-align: right;\n",
       "    }\n",
       "</style>\n",
       "<table border=\"1\" class=\"dataframe\">\n",
       "  <thead>\n",
       "    <tr style=\"text-align: right;\">\n",
       "      <th></th>\n",
       "      <th>Пол</th>\n",
       "      <th>Возраст</th>\n",
       "      <th>Зарплата</th>\n",
       "      <th>Члены семьи</th>\n",
       "    </tr>\n",
       "  </thead>\n",
       "  <tbody>\n",
       "    <tr>\n",
       "      <th>3711</th>\n",
       "      <td>1</td>\n",
       "      <td>37</td>\n",
       "      <td>30700</td>\n",
       "      <td>1</td>\n",
       "    </tr>\n",
       "    <tr>\n",
       "      <th>4726</th>\n",
       "      <td>1</td>\n",
       "      <td>18</td>\n",
       "      <td>36500</td>\n",
       "      <td>3</td>\n",
       "    </tr>\n",
       "    <tr>\n",
       "      <th>3911</th>\n",
       "      <td>1</td>\n",
       "      <td>29</td>\n",
       "      <td>36100</td>\n",
       "      <td>1</td>\n",
       "    </tr>\n",
       "  </tbody>\n",
       "</table>\n",
       "</div>"
      ],
      "text/plain": [
       "      Пол  Возраст  Зарплата  Члены семьи\n",
       "3711    1       37     30700            1\n",
       "4726    1       18     36500            3\n",
       "3911    1       29     36100            1"
      ]
     },
     "metadata": {},
     "output_type": "display_data"
    },
    {
     "name": "stdout",
     "output_type": "stream",
     "text": [
      "Доля features_train от исходных данных - 74.99 %\n",
      "\n",
      "target_train\n"
     ]
    },
    {
     "data": {
      "text/plain": [
       "3569    0\n",
       "1184    0\n",
       "1387    0\n",
       "Name: Страховые выплаты, dtype: int64"
      ]
     },
     "metadata": {},
     "output_type": "display_data"
    },
    {
     "name": "stdout",
     "output_type": "stream",
     "text": [
      "Доля target_train от исходных данных - 74.99 %\n",
      "\n",
      "features_test\n"
     ]
    },
    {
     "data": {
      "text/html": [
       "<div>\n",
       "<style scoped>\n",
       "    .dataframe tbody tr th:only-of-type {\n",
       "        vertical-align: middle;\n",
       "    }\n",
       "\n",
       "    .dataframe tbody tr th {\n",
       "        vertical-align: top;\n",
       "    }\n",
       "\n",
       "    .dataframe thead th {\n",
       "        text-align: right;\n",
       "    }\n",
       "</style>\n",
       "<table border=\"1\" class=\"dataframe\">\n",
       "  <thead>\n",
       "    <tr style=\"text-align: right;\">\n",
       "      <th></th>\n",
       "      <th>Пол</th>\n",
       "      <th>Возраст</th>\n",
       "      <th>Зарплата</th>\n",
       "      <th>Члены семьи</th>\n",
       "    </tr>\n",
       "  </thead>\n",
       "  <tbody>\n",
       "    <tr>\n",
       "      <th>3208</th>\n",
       "      <td>1</td>\n",
       "      <td>25</td>\n",
       "      <td>52600</td>\n",
       "      <td>1</td>\n",
       "    </tr>\n",
       "    <tr>\n",
       "      <th>4184</th>\n",
       "      <td>1</td>\n",
       "      <td>29</td>\n",
       "      <td>29100</td>\n",
       "      <td>1</td>\n",
       "    </tr>\n",
       "    <tr>\n",
       "      <th>442</th>\n",
       "      <td>1</td>\n",
       "      <td>34</td>\n",
       "      <td>44600</td>\n",
       "      <td>1</td>\n",
       "    </tr>\n",
       "  </tbody>\n",
       "</table>\n",
       "</div>"
      ],
      "text/plain": [
       "      Пол  Возраст  Зарплата  Члены семьи\n",
       "3208    1       25     52600            1\n",
       "4184    1       29     29100            1\n",
       "442     1       34     44600            1"
      ]
     },
     "metadata": {},
     "output_type": "display_data"
    },
    {
     "name": "stdout",
     "output_type": "stream",
     "text": [
      "Доля features_test от исходных данных - 25.01 %\n",
      "\n",
      "target_test\n"
     ]
    },
    {
     "data": {
      "text/plain": [
       "1552    0\n",
       "954     0\n",
       "3094    2\n",
       "Name: Страховые выплаты, dtype: int64"
      ]
     },
     "metadata": {},
     "output_type": "display_data"
    },
    {
     "name": "stdout",
     "output_type": "stream",
     "text": [
      "Доля target_test от исходных данных - 25.01 %\n",
      "\n"
     ]
    }
   ],
   "source": [
    "features_train, features_test, target_train, target_test = train_test_split(\n",
    "    features, target, test_size=0.25, random_state=12345)\n",
    "\n",
    "for type in ['train', 'test']:\n",
    "        # выведем переменные с признаками:\n",
    "        print(f'features_{type}')\n",
    "        display((globals()['features_%s' % type]).sample(3))\n",
    "        print(f'Доля features_{type} от исходных данных - {round(len(globals()[\"features_%s\" % type]) / len (features)* 100, 2)} %')\n",
    "\n",
    "        print()\n",
    "        # и с целевыми признакми:\n",
    "        print(f'target_{type}')\n",
    "        display((globals()['target_%s' % type]).sample(3))\n",
    "        print(f'Доля target_{type} от исходных данных - {round(len(globals()[\"target_%s\" % type]) / len (features) * 100, 2)} %')\n",
    "        print()"
   ]
  },
  {
   "cell_type": "code",
   "execution_count": 14,
   "metadata": {},
   "outputs": [
    {
     "name": "stdout",
     "output_type": "stream",
     "text": [
      "protected_features_train\n"
     ]
    },
    {
     "data": {
      "text/html": [
       "<div>\n",
       "<style scoped>\n",
       "    .dataframe tbody tr th:only-of-type {\n",
       "        vertical-align: middle;\n",
       "    }\n",
       "\n",
       "    .dataframe tbody tr th {\n",
       "        vertical-align: top;\n",
       "    }\n",
       "\n",
       "    .dataframe thead th {\n",
       "        text-align: right;\n",
       "    }\n",
       "</style>\n",
       "<table border=\"1\" class=\"dataframe\">\n",
       "  <thead>\n",
       "    <tr style=\"text-align: right;\">\n",
       "      <th></th>\n",
       "      <th>0</th>\n",
       "      <th>1</th>\n",
       "      <th>2</th>\n",
       "      <th>3</th>\n",
       "    </tr>\n",
       "  </thead>\n",
       "  <tbody>\n",
       "    <tr>\n",
       "      <th>582</th>\n",
       "      <td>812003.641788</td>\n",
       "      <td>-622037.081878</td>\n",
       "      <td>596707.186070</td>\n",
       "      <td>-861496.960150</td>\n",
       "    </tr>\n",
       "    <tr>\n",
       "      <th>1065</th>\n",
       "      <td>858431.767979</td>\n",
       "      <td>-657689.419714</td>\n",
       "      <td>630731.836120</td>\n",
       "      <td>-910753.168959</td>\n",
       "    </tr>\n",
       "    <tr>\n",
       "      <th>2710</th>\n",
       "      <td>491371.150742</td>\n",
       "      <td>-376569.286257</td>\n",
       "      <td>360985.290726</td>\n",
       "      <td>-521283.553086</td>\n",
       "    </tr>\n",
       "  </tbody>\n",
       "</table>\n",
       "</div>"
      ],
      "text/plain": [
       "                  0              1              2              3\n",
       "582   812003.641788 -622037.081878  596707.186070 -861496.960150\n",
       "1065  858431.767979 -657689.419714  630731.836120 -910753.168959\n",
       "2710  491371.150742 -376569.286257  360985.290726 -521283.553086"
      ]
     },
     "metadata": {},
     "output_type": "display_data"
    },
    {
     "name": "stdout",
     "output_type": "stream",
     "text": [
      "Доля features_train от исходных данных - 74.99 %\n",
      "\n",
      "target_train\n"
     ]
    },
    {
     "data": {
      "text/plain": [
       "1880    0\n",
       "1197    0\n",
       "3632    0\n",
       "Name: Страховые выплаты, dtype: int64"
      ]
     },
     "metadata": {},
     "output_type": "display_data"
    },
    {
     "name": "stdout",
     "output_type": "stream",
     "text": [
      "Доля target_train от исходных данных - 74.99 %\n",
      "\n",
      "protected_features_test\n"
     ]
    },
    {
     "data": {
      "text/html": [
       "<div>\n",
       "<style scoped>\n",
       "    .dataframe tbody tr th:only-of-type {\n",
       "        vertical-align: middle;\n",
       "    }\n",
       "\n",
       "    .dataframe tbody tr th {\n",
       "        vertical-align: top;\n",
       "    }\n",
       "\n",
       "    .dataframe thead th {\n",
       "        text-align: right;\n",
       "    }\n",
       "</style>\n",
       "<table border=\"1\" class=\"dataframe\">\n",
       "  <thead>\n",
       "    <tr style=\"text-align: right;\">\n",
       "      <th></th>\n",
       "      <th>0</th>\n",
       "      <th>1</th>\n",
       "      <th>2</th>\n",
       "      <th>3</th>\n",
       "    </tr>\n",
       "  </thead>\n",
       "  <tbody>\n",
       "    <tr>\n",
       "      <th>3781</th>\n",
       "      <td>548322.504884</td>\n",
       "      <td>-419942.033301</td>\n",
       "      <td>403115.514694</td>\n",
       "      <td>-581777.974558</td>\n",
       "    </tr>\n",
       "    <tr>\n",
       "      <th>3372</th>\n",
       "      <td>386543.355602</td>\n",
       "      <td>-295920.269873</td>\n",
       "      <td>284297.972790</td>\n",
       "      <td>-410136.257638</td>\n",
       "    </tr>\n",
       "    <tr>\n",
       "      <th>4052</th>\n",
       "      <td>578271.131057</td>\n",
       "      <td>-442971.795667</td>\n",
       "      <td>425027.126309</td>\n",
       "      <td>-613549.191906</td>\n",
       "    </tr>\n",
       "  </tbody>\n",
       "</table>\n",
       "</div>"
      ],
      "text/plain": [
       "                  0              1              2              3\n",
       "3781  548322.504884 -419942.033301  403115.514694 -581777.974558\n",
       "3372  386543.355602 -295920.269873  284297.972790 -410136.257638\n",
       "4052  578271.131057 -442971.795667  425027.126309 -613549.191906"
      ]
     },
     "metadata": {},
     "output_type": "display_data"
    },
    {
     "name": "stdout",
     "output_type": "stream",
     "text": [
      "Доля features_test от исходных данных - 25.01 %\n",
      "\n",
      "target_test\n"
     ]
    },
    {
     "data": {
      "text/plain": [
       "261     0\n",
       "4669    0\n",
       "1761    0\n",
       "Name: Страховые выплаты, dtype: int64"
      ]
     },
     "metadata": {},
     "output_type": "display_data"
    },
    {
     "name": "stdout",
     "output_type": "stream",
     "text": [
      "Доля target_test от исходных данных - 25.01 %\n",
      "\n"
     ]
    }
   ],
   "source": [
    "# также поделим XA\n",
    "\n",
    "protected_features_train, protected_features_test, target_train, target_test = train_test_split(\n",
    "    protect(features), target, test_size=0.25, random_state=12345)\n",
    "\n",
    "for type in ['train', 'test']:\n",
    "        # выведем переменные с признаками:\n",
    "        print(f'protected_features_{type}')\n",
    "        display((globals()['protected_features_%s' % type]).sample(3))\n",
    "        print(f'Доля features_{type} от исходных данных - {round(len(globals()[\"protected_features_%s\" % type]) / len (features)* 100, 2)} %')\n",
    "\n",
    "        print()\n",
    "        # и с целевыми признакми:\n",
    "        print(f'target_{type}')\n",
    "        display((globals()['target_%s' % type]).sample(3))\n",
    "        print(f'Доля target_{type} от исходных данных - {round(len(globals()[\"target_%s\" % type]) / len (features) * 100, 2)} %')\n",
    "        print()"
   ]
  },
  {
   "cell_type": "code",
   "execution_count": 15,
   "metadata": {},
   "outputs": [
    {
     "name": "stdout",
     "output_type": "stream",
     "text": [
      "R2 предсказаний первоначальных данных (X) = 0.42307727615837565\n"
     ]
    }
   ],
   "source": [
    "model_lr = LinearRegression().fit(features_train, target_train)\n",
    "predictions = model_lr.predict(features_test)\n",
    "\n",
    "r2 = r2_score(target_test, predictions)\n",
    "print('R2 предсказаний первоначальных данных (X) =', r2)"
   ]
  },
  {
   "cell_type": "code",
   "execution_count": 16,
   "metadata": {},
   "outputs": [
    {
     "name": "stdout",
     "output_type": "stream",
     "text": [
      "R2 предсказаний преобразованных данных (XA) = 0.42307727615837565\n"
     ]
    }
   ],
   "source": [
    "model_lr_2 = LinearRegression().fit(protected_features_train, target_train)\n",
    "predictions_2 = model_lr_2.predict(protected_features_test)\n",
    "\n",
    "к2_2 = r2_score(target_test, predictions_2)\n",
    "print('R2 предсказаний преобразованных данных (XA) =', r2)"
   ]
  },
  {
   "cell_type": "markdown",
   "metadata": {},
   "source": [
    "## Декодирование данных"
   ]
  },
  {
   "cell_type": "code",
   "execution_count": 17,
   "metadata": {},
   "outputs": [
    {
     "name": "stdout",
     "output_type": "stream",
     "text": [
      "Восстановленные признаки:\n"
     ]
    },
    {
     "data": {
      "text/html": [
       "<div>\n",
       "<style scoped>\n",
       "    .dataframe tbody tr th:only-of-type {\n",
       "        vertical-align: middle;\n",
       "    }\n",
       "\n",
       "    .dataframe tbody tr th {\n",
       "        vertical-align: top;\n",
       "    }\n",
       "\n",
       "    .dataframe thead th {\n",
       "        text-align: right;\n",
       "    }\n",
       "</style>\n",
       "<table border=\"1\" class=\"dataframe\">\n",
       "  <thead>\n",
       "    <tr style=\"text-align: right;\">\n",
       "      <th></th>\n",
       "      <th>0</th>\n",
       "      <th>1</th>\n",
       "      <th>2</th>\n",
       "      <th>3</th>\n",
       "    </tr>\n",
       "  </thead>\n",
       "  <tbody>\n",
       "    <tr>\n",
       "      <th>0</th>\n",
       "      <td>1</td>\n",
       "      <td>41</td>\n",
       "      <td>49600</td>\n",
       "      <td>1</td>\n",
       "    </tr>\n",
       "    <tr>\n",
       "      <th>1</th>\n",
       "      <td>0</td>\n",
       "      <td>46</td>\n",
       "      <td>38000</td>\n",
       "      <td>1</td>\n",
       "    </tr>\n",
       "    <tr>\n",
       "      <th>2</th>\n",
       "      <td>0</td>\n",
       "      <td>29</td>\n",
       "      <td>21000</td>\n",
       "      <td>0</td>\n",
       "    </tr>\n",
       "    <tr>\n",
       "      <th>3</th>\n",
       "      <td>0</td>\n",
       "      <td>21</td>\n",
       "      <td>41700</td>\n",
       "      <td>2</td>\n",
       "    </tr>\n",
       "    <tr>\n",
       "      <th>4</th>\n",
       "      <td>1</td>\n",
       "      <td>28</td>\n",
       "      <td>26100</td>\n",
       "      <td>0</td>\n",
       "    </tr>\n",
       "    <tr>\n",
       "      <th>...</th>\n",
       "      <td>...</td>\n",
       "      <td>...</td>\n",
       "      <td>...</td>\n",
       "      <td>...</td>\n",
       "    </tr>\n",
       "    <tr>\n",
       "      <th>4842</th>\n",
       "      <td>0</td>\n",
       "      <td>28</td>\n",
       "      <td>35700</td>\n",
       "      <td>2</td>\n",
       "    </tr>\n",
       "    <tr>\n",
       "      <th>4843</th>\n",
       "      <td>0</td>\n",
       "      <td>34</td>\n",
       "      <td>52400</td>\n",
       "      <td>1</td>\n",
       "    </tr>\n",
       "    <tr>\n",
       "      <th>4844</th>\n",
       "      <td>0</td>\n",
       "      <td>20</td>\n",
       "      <td>33900</td>\n",
       "      <td>2</td>\n",
       "    </tr>\n",
       "    <tr>\n",
       "      <th>4845</th>\n",
       "      <td>1</td>\n",
       "      <td>22</td>\n",
       "      <td>32700</td>\n",
       "      <td>3</td>\n",
       "    </tr>\n",
       "    <tr>\n",
       "      <th>4846</th>\n",
       "      <td>1</td>\n",
       "      <td>28</td>\n",
       "      <td>40600</td>\n",
       "      <td>1</td>\n",
       "    </tr>\n",
       "  </tbody>\n",
       "</table>\n",
       "<p>4847 rows × 4 columns</p>\n",
       "</div>"
      ],
      "text/plain": [
       "      0   1      2  3\n",
       "0     1  41  49600  1\n",
       "1     0  46  38000  1\n",
       "2     0  29  21000  0\n",
       "3     0  21  41700  2\n",
       "4     1  28  26100  0\n",
       "...  ..  ..    ... ..\n",
       "4842  0  28  35700  2\n",
       "4843  0  34  52400  1\n",
       "4844  0  20  33900  2\n",
       "4845  1  22  32700  3\n",
       "4846  1  28  40600  1\n",
       "\n",
       "[4847 rows x 4 columns]"
      ]
     },
     "metadata": {},
     "output_type": "display_data"
    },
    {
     "data": {
      "text/html": [
       "<div>\n",
       "<style scoped>\n",
       "    .dataframe tbody tr th:only-of-type {\n",
       "        vertical-align: middle;\n",
       "    }\n",
       "\n",
       "    .dataframe tbody tr th {\n",
       "        vertical-align: top;\n",
       "    }\n",
       "\n",
       "    .dataframe thead th {\n",
       "        text-align: right;\n",
       "    }\n",
       "</style>\n",
       "<table border=\"1\" class=\"dataframe\">\n",
       "  <thead>\n",
       "    <tr style=\"text-align: right;\">\n",
       "      <th></th>\n",
       "      <th>0</th>\n",
       "      <th>1</th>\n",
       "      <th>2</th>\n",
       "      <th>3</th>\n",
       "    </tr>\n",
       "  </thead>\n",
       "  <tbody>\n",
       "    <tr>\n",
       "      <th>count</th>\n",
       "      <td>4847.000000</td>\n",
       "      <td>4847.000000</td>\n",
       "      <td>4847.000000</td>\n",
       "      <td>4847.000000</td>\n",
       "    </tr>\n",
       "    <tr>\n",
       "      <th>mean</th>\n",
       "      <td>0.498453</td>\n",
       "      <td>31.023932</td>\n",
       "      <td>39895.811223</td>\n",
       "      <td>1.203425</td>\n",
       "    </tr>\n",
       "    <tr>\n",
       "      <th>std</th>\n",
       "      <td>0.500049</td>\n",
       "      <td>8.487995</td>\n",
       "      <td>9972.952441</td>\n",
       "      <td>1.098664</td>\n",
       "    </tr>\n",
       "    <tr>\n",
       "      <th>min</th>\n",
       "      <td>0.000000</td>\n",
       "      <td>18.000000</td>\n",
       "      <td>5300.000000</td>\n",
       "      <td>0.000000</td>\n",
       "    </tr>\n",
       "    <tr>\n",
       "      <th>25%</th>\n",
       "      <td>0.000000</td>\n",
       "      <td>24.000000</td>\n",
       "      <td>33200.000000</td>\n",
       "      <td>0.000000</td>\n",
       "    </tr>\n",
       "    <tr>\n",
       "      <th>50%</th>\n",
       "      <td>0.000000</td>\n",
       "      <td>30.000000</td>\n",
       "      <td>40200.000000</td>\n",
       "      <td>1.000000</td>\n",
       "    </tr>\n",
       "    <tr>\n",
       "      <th>75%</th>\n",
       "      <td>1.000000</td>\n",
       "      <td>37.000000</td>\n",
       "      <td>46600.000000</td>\n",
       "      <td>2.000000</td>\n",
       "    </tr>\n",
       "    <tr>\n",
       "      <th>max</th>\n",
       "      <td>1.000000</td>\n",
       "      <td>65.000000</td>\n",
       "      <td>79000.000000</td>\n",
       "      <td>6.000000</td>\n",
       "    </tr>\n",
       "  </tbody>\n",
       "</table>\n",
       "</div>"
      ],
      "text/plain": [
       "                 0            1             2            3\n",
       "count  4847.000000  4847.000000   4847.000000  4847.000000\n",
       "mean      0.498453    31.023932  39895.811223     1.203425\n",
       "std       0.500049     8.487995   9972.952441     1.098664\n",
       "min       0.000000    18.000000   5300.000000     0.000000\n",
       "25%       0.000000    24.000000  33200.000000     0.000000\n",
       "50%       0.000000    30.000000  40200.000000     1.000000\n",
       "75%       1.000000    37.000000  46600.000000     2.000000\n",
       "max       1.000000    65.000000  79000.000000     6.000000"
      ]
     },
     "metadata": {},
     "output_type": "display_data"
    },
    {
     "name": "stdout",
     "output_type": "stream",
     "text": [
      "Оригинальные признаки:\n"
     ]
    },
    {
     "data": {
      "text/html": [
       "<div>\n",
       "<style scoped>\n",
       "    .dataframe tbody tr th:only-of-type {\n",
       "        vertical-align: middle;\n",
       "    }\n",
       "\n",
       "    .dataframe tbody tr th {\n",
       "        vertical-align: top;\n",
       "    }\n",
       "\n",
       "    .dataframe thead th {\n",
       "        text-align: right;\n",
       "    }\n",
       "</style>\n",
       "<table border=\"1\" class=\"dataframe\">\n",
       "  <thead>\n",
       "    <tr style=\"text-align: right;\">\n",
       "      <th></th>\n",
       "      <th>Пол</th>\n",
       "      <th>Возраст</th>\n",
       "      <th>Зарплата</th>\n",
       "      <th>Члены семьи</th>\n",
       "    </tr>\n",
       "  </thead>\n",
       "  <tbody>\n",
       "    <tr>\n",
       "      <th>0</th>\n",
       "      <td>1</td>\n",
       "      <td>41</td>\n",
       "      <td>49600</td>\n",
       "      <td>1</td>\n",
       "    </tr>\n",
       "    <tr>\n",
       "      <th>1</th>\n",
       "      <td>0</td>\n",
       "      <td>46</td>\n",
       "      <td>38000</td>\n",
       "      <td>1</td>\n",
       "    </tr>\n",
       "    <tr>\n",
       "      <th>2</th>\n",
       "      <td>0</td>\n",
       "      <td>29</td>\n",
       "      <td>21000</td>\n",
       "      <td>0</td>\n",
       "    </tr>\n",
       "    <tr>\n",
       "      <th>3</th>\n",
       "      <td>0</td>\n",
       "      <td>21</td>\n",
       "      <td>41700</td>\n",
       "      <td>2</td>\n",
       "    </tr>\n",
       "    <tr>\n",
       "      <th>4</th>\n",
       "      <td>1</td>\n",
       "      <td>28</td>\n",
       "      <td>26100</td>\n",
       "      <td>0</td>\n",
       "    </tr>\n",
       "    <tr>\n",
       "      <th>...</th>\n",
       "      <td>...</td>\n",
       "      <td>...</td>\n",
       "      <td>...</td>\n",
       "      <td>...</td>\n",
       "    </tr>\n",
       "    <tr>\n",
       "      <th>4842</th>\n",
       "      <td>0</td>\n",
       "      <td>28</td>\n",
       "      <td>35700</td>\n",
       "      <td>2</td>\n",
       "    </tr>\n",
       "    <tr>\n",
       "      <th>4843</th>\n",
       "      <td>0</td>\n",
       "      <td>34</td>\n",
       "      <td>52400</td>\n",
       "      <td>1</td>\n",
       "    </tr>\n",
       "    <tr>\n",
       "      <th>4844</th>\n",
       "      <td>0</td>\n",
       "      <td>20</td>\n",
       "      <td>33900</td>\n",
       "      <td>2</td>\n",
       "    </tr>\n",
       "    <tr>\n",
       "      <th>4845</th>\n",
       "      <td>1</td>\n",
       "      <td>22</td>\n",
       "      <td>32700</td>\n",
       "      <td>3</td>\n",
       "    </tr>\n",
       "    <tr>\n",
       "      <th>4846</th>\n",
       "      <td>1</td>\n",
       "      <td>28</td>\n",
       "      <td>40600</td>\n",
       "      <td>1</td>\n",
       "    </tr>\n",
       "  </tbody>\n",
       "</table>\n",
       "<p>4847 rows × 4 columns</p>\n",
       "</div>"
      ],
      "text/plain": [
       "      Пол  Возраст  Зарплата  Члены семьи\n",
       "0       1       41     49600            1\n",
       "1       0       46     38000            1\n",
       "2       0       29     21000            0\n",
       "3       0       21     41700            2\n",
       "4       1       28     26100            0\n",
       "...   ...      ...       ...          ...\n",
       "4842    0       28     35700            2\n",
       "4843    0       34     52400            1\n",
       "4844    0       20     33900            2\n",
       "4845    1       22     32700            3\n",
       "4846    1       28     40600            1\n",
       "\n",
       "[4847 rows x 4 columns]"
      ]
     },
     "metadata": {},
     "output_type": "display_data"
    },
    {
     "data": {
      "text/html": [
       "<div>\n",
       "<style scoped>\n",
       "    .dataframe tbody tr th:only-of-type {\n",
       "        vertical-align: middle;\n",
       "    }\n",
       "\n",
       "    .dataframe tbody tr th {\n",
       "        vertical-align: top;\n",
       "    }\n",
       "\n",
       "    .dataframe thead th {\n",
       "        text-align: right;\n",
       "    }\n",
       "</style>\n",
       "<table border=\"1\" class=\"dataframe\">\n",
       "  <thead>\n",
       "    <tr style=\"text-align: right;\">\n",
       "      <th></th>\n",
       "      <th>Пол</th>\n",
       "      <th>Возраст</th>\n",
       "      <th>Зарплата</th>\n",
       "      <th>Члены семьи</th>\n",
       "    </tr>\n",
       "  </thead>\n",
       "  <tbody>\n",
       "    <tr>\n",
       "      <th>count</th>\n",
       "      <td>4847.000000</td>\n",
       "      <td>4847.000000</td>\n",
       "      <td>4847.000000</td>\n",
       "      <td>4847.000000</td>\n",
       "    </tr>\n",
       "    <tr>\n",
       "      <th>mean</th>\n",
       "      <td>0.498453</td>\n",
       "      <td>31.023932</td>\n",
       "      <td>39895.811223</td>\n",
       "      <td>1.203425</td>\n",
       "    </tr>\n",
       "    <tr>\n",
       "      <th>std</th>\n",
       "      <td>0.500049</td>\n",
       "      <td>8.487995</td>\n",
       "      <td>9972.952441</td>\n",
       "      <td>1.098664</td>\n",
       "    </tr>\n",
       "    <tr>\n",
       "      <th>min</th>\n",
       "      <td>0.000000</td>\n",
       "      <td>18.000000</td>\n",
       "      <td>5300.000000</td>\n",
       "      <td>0.000000</td>\n",
       "    </tr>\n",
       "    <tr>\n",
       "      <th>25%</th>\n",
       "      <td>0.000000</td>\n",
       "      <td>24.000000</td>\n",
       "      <td>33200.000000</td>\n",
       "      <td>0.000000</td>\n",
       "    </tr>\n",
       "    <tr>\n",
       "      <th>50%</th>\n",
       "      <td>0.000000</td>\n",
       "      <td>30.000000</td>\n",
       "      <td>40200.000000</td>\n",
       "      <td>1.000000</td>\n",
       "    </tr>\n",
       "    <tr>\n",
       "      <th>75%</th>\n",
       "      <td>1.000000</td>\n",
       "      <td>37.000000</td>\n",
       "      <td>46600.000000</td>\n",
       "      <td>2.000000</td>\n",
       "    </tr>\n",
       "    <tr>\n",
       "      <th>max</th>\n",
       "      <td>1.000000</td>\n",
       "      <td>65.000000</td>\n",
       "      <td>79000.000000</td>\n",
       "      <td>6.000000</td>\n",
       "    </tr>\n",
       "  </tbody>\n",
       "</table>\n",
       "</div>"
      ],
      "text/plain": [
       "               Пол      Возраст      Зарплата  Члены семьи\n",
       "count  4847.000000  4847.000000   4847.000000  4847.000000\n",
       "mean      0.498453    31.023932  39895.811223     1.203425\n",
       "std       0.500049     8.487995   9972.952441     1.098664\n",
       "min       0.000000    18.000000   5300.000000     0.000000\n",
       "25%       0.000000    24.000000  33200.000000     0.000000\n",
       "50%       0.000000    30.000000  40200.000000     1.000000\n",
       "75%       1.000000    37.000000  46600.000000     2.000000\n",
       "max       1.000000    65.000000  79000.000000     6.000000"
      ]
     },
     "metadata": {},
     "output_type": "display_data"
    }
   ],
   "source": [
    "# убедимся в том, что данные можно декодировать обратно и они не повредятся\n",
    "recovered_features = protected_features @ np.linalg.inv(A)\n",
    "\n",
    "recovered_features = round(recovered_features).astype('int')\n",
    "print('Восстановленные признаки:')\n",
    "display(recovered_features)\n",
    "display(recovered_features.describe())\n",
    "\n",
    "print('Оригинальные признаки:')\n",
    "display(features)\n",
    "display(features.describe())"
   ]
  },
  {
   "cell_type": "markdown",
   "metadata": {},
   "source": [
    "## Вывод\n",
    "\n",
    "Мы:\n",
    "- изучили данные;\n",
    "- удалили явные дубликаты (3% от всех данных), чтобы избежать риск искажения результатов модели LR;\n",
    "- доказали, что предсказания для признаков умноженных на обратимую матрицу будут равны предсказаниям первоначальных признаков, а, следовательно, и качество модели не изменится;\n",
    "- предложили компании «Хоть потоп» алгоритм преобразования данных с целью защиты (функция `protect(data)`). \n",
    "- построили предсказания на первоначальных и преобразованных данных, убедились, что метрика качества R2 идентична (в нашем случае = 0.423)."
   ]
  },
  {
   "cell_type": "markdown",
   "metadata": {},
   "source": [
    "## Чек-лист проверки"
   ]
  },
  {
   "cell_type": "markdown",
   "metadata": {},
   "source": [
    "Поставьте 'x' в выполненных пунктах. Далее нажмите Shift+Enter."
   ]
  },
  {
   "cell_type": "markdown",
   "metadata": {},
   "source": [
    "- [x]  Jupyter Notebook открыт\n",
    "- [ ]  Весь код выполняется без ошибок\n",
    "- [ ]  Ячейки с кодом расположены в порядке исполнения\n",
    "- [ ]  Выполнен шаг 1: данные загружены\n",
    "- [ ]  Выполнен шаг 2: получен ответ на вопрос об умножении матриц\n",
    "    - [ ]  Указан правильный вариант ответа\n",
    "    - [ ]  Вариант обоснован\n",
    "- [ ]  Выполнен шаг 3: предложен алгоритм преобразования\n",
    "    - [ ]  Алгоритм описан\n",
    "    - [ ]  Алгоритм обоснован\n",
    "- [ ]  Выполнен шаг 4: алгоритм проверен\n",
    "    - [ ]  Алгоритм реализован\n",
    "    - [ ]  Проведено сравнение качества моделей до и после преобразования"
   ]
  }
 ],
 "metadata": {
  "ExecuteTimeLog": [
   {
    "duration": 744,
    "start_time": "2022-08-07T17:51:23.950Z"
   },
   {
    "duration": 74,
    "start_time": "2022-08-07T17:52:21.515Z"
   },
   {
    "duration": 15,
    "start_time": "2022-08-07T17:52:25.394Z"
   },
   {
    "duration": 59,
    "start_time": "2022-08-07T17:53:49.225Z"
   },
   {
    "duration": 6,
    "start_time": "2022-08-07T17:56:25.099Z"
   },
   {
    "duration": 14,
    "start_time": "2022-08-07T17:56:44.783Z"
   },
   {
    "duration": 55,
    "start_time": "2022-08-07T18:08:31.432Z"
   },
   {
    "duration": 55,
    "start_time": "2022-08-07T18:08:42.574Z"
   },
   {
    "duration": 62,
    "start_time": "2022-08-07T18:08:54.790Z"
   },
   {
    "duration": 58,
    "start_time": "2022-08-07T18:09:19.686Z"
   },
   {
    "duration": 57,
    "start_time": "2022-08-07T18:09:37.127Z"
   },
   {
    "duration": 58,
    "start_time": "2022-08-07T18:10:38.983Z"
   },
   {
    "duration": 56,
    "start_time": "2022-08-07T18:10:55.113Z"
   },
   {
    "duration": 58,
    "start_time": "2022-08-07T18:15:42.987Z"
   },
   {
    "duration": 56,
    "start_time": "2022-08-07T18:15:48.005Z"
   },
   {
    "duration": 59,
    "start_time": "2022-08-07T18:15:53.571Z"
   },
   {
    "duration": 59,
    "start_time": "2022-08-07T18:15:58.765Z"
   },
   {
    "duration": 128,
    "start_time": "2022-08-07T18:19:20.345Z"
   },
   {
    "duration": 71,
    "start_time": "2022-08-07T18:19:28.915Z"
   },
   {
    "duration": 71,
    "start_time": "2022-08-07T18:19:39.371Z"
   },
   {
    "duration": 62,
    "start_time": "2022-08-07T18:19:57.909Z"
   },
   {
    "duration": 8,
    "start_time": "2022-08-07T18:20:03.775Z"
   },
   {
    "duration": 5,
    "start_time": "2022-08-07T18:21:19.632Z"
   },
   {
    "duration": 5,
    "start_time": "2022-08-07T18:21:45.190Z"
   },
   {
    "duration": 10,
    "start_time": "2022-08-07T18:22:21.412Z"
   },
   {
    "duration": 10,
    "start_time": "2022-08-07T18:22:48.168Z"
   },
   {
    "duration": 8,
    "start_time": "2022-08-07T18:22:55.302Z"
   },
   {
    "duration": 15,
    "start_time": "2022-08-07T18:23:10.165Z"
   },
   {
    "duration": 8,
    "start_time": "2022-08-07T18:23:24.730Z"
   },
   {
    "duration": 9,
    "start_time": "2022-08-07T18:24:03.049Z"
   },
   {
    "duration": 17,
    "start_time": "2022-08-07T18:24:17.169Z"
   },
   {
    "duration": 18,
    "start_time": "2022-08-07T18:24:22.455Z"
   },
   {
    "duration": 14,
    "start_time": "2022-08-07T18:25:17.517Z"
   },
   {
    "duration": 17,
    "start_time": "2022-08-07T18:25:27.528Z"
   },
   {
    "duration": 73,
    "start_time": "2022-08-07T18:25:51.716Z"
   },
   {
    "duration": 70,
    "start_time": "2022-08-07T18:26:25.007Z"
   },
   {
    "duration": 58,
    "start_time": "2022-08-07T18:26:52.215Z"
   },
   {
    "duration": 14,
    "start_time": "2022-08-07T18:26:55.876Z"
   },
   {
    "duration": 12,
    "start_time": "2022-08-07T18:31:30.127Z"
   },
   {
    "duration": 9,
    "start_time": "2022-08-07T18:31:47.288Z"
   },
   {
    "duration": 6,
    "start_time": "2022-08-07T18:31:59.796Z"
   },
   {
    "duration": 3,
    "start_time": "2022-08-07T18:32:09.374Z"
   },
   {
    "duration": 9,
    "start_time": "2022-08-07T18:32:52.719Z"
   },
   {
    "duration": 8,
    "start_time": "2022-08-07T18:33:02.158Z"
   },
   {
    "duration": 11,
    "start_time": "2022-08-07T18:38:45.439Z"
   },
   {
    "duration": 13,
    "start_time": "2022-08-07T18:38:51.660Z"
   },
   {
    "duration": 2,
    "start_time": "2022-08-07T18:46:14.298Z"
   },
   {
    "duration": 15,
    "start_time": "2022-08-07T18:46:55.472Z"
   },
   {
    "duration": 13,
    "start_time": "2022-08-07T18:48:49.814Z"
   },
   {
    "duration": 9,
    "start_time": "2022-08-07T18:49:27.435Z"
   },
   {
    "duration": 8,
    "start_time": "2022-08-07T18:49:51.855Z"
   },
   {
    "duration": 2,
    "start_time": "2022-08-07T18:50:10.176Z"
   },
   {
    "duration": 8,
    "start_time": "2022-08-07T18:51:33.359Z"
   },
   {
    "duration": 12,
    "start_time": "2022-08-07T18:51:37.256Z"
   },
   {
    "duration": 9,
    "start_time": "2022-08-07T18:54:12.712Z"
   },
   {
    "duration": 9,
    "start_time": "2022-08-07T18:54:41.305Z"
   },
   {
    "duration": 2,
    "start_time": "2022-08-07T18:54:53.809Z"
   },
   {
    "duration": 6,
    "start_time": "2022-08-07T18:54:54.233Z"
   },
   {
    "duration": 7,
    "start_time": "2022-08-07T18:57:56.292Z"
   },
   {
    "duration": 6,
    "start_time": "2022-08-07T18:58:08.239Z"
   },
   {
    "duration": 3,
    "start_time": "2022-08-07T18:58:11.376Z"
   },
   {
    "duration": 65,
    "start_time": "2022-08-07T18:58:11.380Z"
   },
   {
    "duration": 19,
    "start_time": "2022-08-07T18:58:11.446Z"
   },
   {
    "duration": 12,
    "start_time": "2022-08-07T18:58:11.467Z"
   },
   {
    "duration": 9,
    "start_time": "2022-08-07T18:58:11.511Z"
   },
   {
    "duration": 9,
    "start_time": "2022-08-07T18:58:11.522Z"
   },
   {
    "duration": 12,
    "start_time": "2022-08-07T18:58:11.533Z"
   },
   {
    "duration": 4,
    "start_time": "2022-08-07T19:01:07.180Z"
   },
   {
    "duration": 75,
    "start_time": "2022-08-07T19:01:07.186Z"
   },
   {
    "duration": 14,
    "start_time": "2022-08-07T19:01:07.263Z"
   },
   {
    "duration": 38,
    "start_time": "2022-08-07T19:01:07.278Z"
   },
   {
    "duration": 7,
    "start_time": "2022-08-07T19:01:07.318Z"
   },
   {
    "duration": 8,
    "start_time": "2022-08-07T19:01:07.327Z"
   },
   {
    "duration": 6,
    "start_time": "2022-08-07T19:01:07.337Z"
   },
   {
    "duration": 4,
    "start_time": "2022-08-07T19:02:36.505Z"
   },
   {
    "duration": 11,
    "start_time": "2022-08-07T19:02:54.486Z"
   },
   {
    "duration": 11,
    "start_time": "2022-08-07T19:03:03.614Z"
   },
   {
    "duration": 15,
    "start_time": "2022-08-07T19:03:12.872Z"
   },
   {
    "duration": 12,
    "start_time": "2022-08-07T19:06:44.474Z"
   },
   {
    "duration": 10,
    "start_time": "2022-08-07T19:14:53.257Z"
   },
   {
    "duration": 2,
    "start_time": "2022-08-07T19:16:50.886Z"
   },
   {
    "duration": 77,
    "start_time": "2022-08-07T19:56:05.122Z"
   },
   {
    "duration": 56,
    "start_time": "2022-08-07T20:44:53.262Z"
   },
   {
    "duration": 3,
    "start_time": "2022-08-07T20:57:56.365Z"
   },
   {
    "duration": 43,
    "start_time": "2022-08-07T21:35:55.272Z"
   },
   {
    "duration": 47,
    "start_time": "2022-08-07T21:38:54.432Z"
   },
   {
    "duration": 704,
    "start_time": "2022-08-08T09:32:44.548Z"
   },
   {
    "duration": 134,
    "start_time": "2022-08-08T09:32:45.254Z"
   },
   {
    "duration": 14,
    "start_time": "2022-08-08T09:32:45.390Z"
   },
   {
    "duration": 10,
    "start_time": "2022-08-08T09:32:45.405Z"
   },
   {
    "duration": 7,
    "start_time": "2022-08-08T09:32:45.416Z"
   },
   {
    "duration": 9,
    "start_time": "2022-08-08T09:32:45.424Z"
   },
   {
    "duration": 9,
    "start_time": "2022-08-08T09:32:45.434Z"
   },
   {
    "duration": 10,
    "start_time": "2022-08-08T09:32:45.444Z"
   },
   {
    "duration": 12,
    "start_time": "2022-08-08T09:32:45.455Z"
   },
   {
    "duration": 9,
    "start_time": "2022-08-08T09:33:57.416Z"
   },
   {
    "duration": 12,
    "start_time": "2022-08-08T09:36:59.072Z"
   },
   {
    "duration": 12,
    "start_time": "2022-08-08T09:37:04.143Z"
   },
   {
    "duration": 73,
    "start_time": "2022-08-08T09:39:29.063Z"
   },
   {
    "duration": 3,
    "start_time": "2022-08-08T09:39:36.664Z"
   },
   {
    "duration": 4,
    "start_time": "2022-08-08T09:39:42.645Z"
   },
   {
    "duration": 5,
    "start_time": "2022-08-08T09:39:56.086Z"
   },
   {
    "duration": 668,
    "start_time": "2022-08-08T09:40:42.057Z"
   },
   {
    "duration": 4,
    "start_time": "2022-08-08T09:40:49.500Z"
   },
   {
    "duration": 4,
    "start_time": "2022-08-08T09:47:56.847Z"
   },
   {
    "duration": 4,
    "start_time": "2022-08-08T09:49:43.383Z"
   },
   {
    "duration": 4,
    "start_time": "2022-08-08T09:50:08.834Z"
   },
   {
    "duration": 6,
    "start_time": "2022-08-08T09:53:49.903Z"
   },
   {
    "duration": 107,
    "start_time": "2022-08-08T09:53:55.698Z"
   },
   {
    "duration": 5,
    "start_time": "2022-08-08T09:54:01.390Z"
   },
   {
    "duration": 105,
    "start_time": "2022-08-08T09:54:02.165Z"
   },
   {
    "duration": 3,
    "start_time": "2022-08-08T09:54:34.231Z"
   },
   {
    "duration": 9,
    "start_time": "2022-08-08T09:54:41.766Z"
   },
   {
    "duration": 749,
    "start_time": "2022-08-08T10:13:56.387Z"
   },
   {
    "duration": 2,
    "start_time": "2022-08-08T10:15:02.621Z"
   },
   {
    "duration": 5,
    "start_time": "2022-08-08T11:54:54.191Z"
   },
   {
    "duration": 5,
    "start_time": "2022-08-08T11:55:01.874Z"
   },
   {
    "duration": 49,
    "start_time": "2022-08-08T11:59:14.261Z"
   },
   {
    "duration": 15,
    "start_time": "2022-08-08T11:59:58.848Z"
   },
   {
    "duration": 15,
    "start_time": "2022-08-08T12:00:45.540Z"
   },
   {
    "duration": 22,
    "start_time": "2022-08-08T12:01:15.481Z"
   },
   {
    "duration": 5,
    "start_time": "2022-08-08T12:01:47.037Z"
   },
   {
    "duration": 5,
    "start_time": "2022-08-08T12:01:50.374Z"
   },
   {
    "duration": 11,
    "start_time": "2022-08-08T12:03:43.342Z"
   },
   {
    "duration": 2,
    "start_time": "2022-08-08T12:07:28.552Z"
   },
   {
    "duration": 9,
    "start_time": "2022-08-08T12:07:40.742Z"
   },
   {
    "duration": 5,
    "start_time": "2022-08-08T12:07:53.047Z"
   },
   {
    "duration": 5,
    "start_time": "2022-08-08T12:07:56.942Z"
   },
   {
    "duration": 5,
    "start_time": "2022-08-08T12:07:57.633Z"
   },
   {
    "duration": 5,
    "start_time": "2022-08-08T12:08:00.146Z"
   },
   {
    "duration": 3,
    "start_time": "2022-08-08T12:08:05.119Z"
   },
   {
    "duration": 6,
    "start_time": "2022-08-08T12:08:06.442Z"
   },
   {
    "duration": 5,
    "start_time": "2022-08-08T12:08:08.693Z"
   },
   {
    "duration": 6,
    "start_time": "2022-08-08T12:08:59.956Z"
   },
   {
    "duration": 8,
    "start_time": "2022-08-08T12:09:00.580Z"
   },
   {
    "duration": 5,
    "start_time": "2022-08-08T12:09:02.405Z"
   },
   {
    "duration": 5,
    "start_time": "2022-08-08T12:09:58.678Z"
   },
   {
    "duration": 5,
    "start_time": "2022-08-08T12:09:59.178Z"
   },
   {
    "duration": 16,
    "start_time": "2022-08-08T12:09:59.748Z"
   },
   {
    "duration": 4,
    "start_time": "2022-08-08T12:15:37.829Z"
   },
   {
    "duration": 11,
    "start_time": "2022-08-08T12:16:24.160Z"
   },
   {
    "duration": 6,
    "start_time": "2022-08-08T12:16:24.817Z"
   },
   {
    "duration": 7,
    "start_time": "2022-08-08T12:16:25.216Z"
   },
   {
    "duration": 10,
    "start_time": "2022-08-08T12:16:27.118Z"
   },
   {
    "duration": 4,
    "start_time": "2022-08-08T12:18:10.562Z"
   },
   {
    "duration": 39,
    "start_time": "2022-08-08T12:21:22.373Z"
   },
   {
    "duration": 7,
    "start_time": "2022-08-08T12:22:09.202Z"
   },
   {
    "duration": 56,
    "start_time": "2022-08-08T12:22:09.953Z"
   },
   {
    "duration": 3,
    "start_time": "2022-08-08T12:24:35.148Z"
   },
   {
    "duration": 4,
    "start_time": "2022-08-08T12:24:40.623Z"
   },
   {
    "duration": 91,
    "start_time": "2022-08-08T12:24:45.917Z"
   },
   {
    "duration": 13,
    "start_time": "2022-08-08T12:25:16.829Z"
   },
   {
    "duration": 16,
    "start_time": "2022-08-08T12:25:16.845Z"
   },
   {
    "duration": 16,
    "start_time": "2022-08-08T12:25:16.863Z"
   },
   {
    "duration": 34,
    "start_time": "2022-08-08T12:25:16.882Z"
   },
   {
    "duration": 88,
    "start_time": "2022-08-08T12:25:16.918Z"
   },
   {
    "duration": 106,
    "start_time": "2022-08-08T12:25:17.008Z"
   },
   {
    "duration": 24,
    "start_time": "2022-08-08T12:25:24.988Z"
   },
   {
    "duration": 4,
    "start_time": "2022-08-08T12:26:01.795Z"
   },
   {
    "duration": 106,
    "start_time": "2022-08-08T12:26:04.202Z"
   },
   {
    "duration": 4,
    "start_time": "2022-08-08T12:27:25.650Z"
   },
   {
    "duration": 46,
    "start_time": "2022-08-08T12:27:26.261Z"
   },
   {
    "duration": 4,
    "start_time": "2022-08-08T12:29:16.978Z"
   },
   {
    "duration": 16,
    "start_time": "2022-08-08T12:29:17.594Z"
   },
   {
    "duration": 14,
    "start_time": "2022-08-08T12:29:49.692Z"
   },
   {
    "duration": 4,
    "start_time": "2022-08-08T12:29:52.321Z"
   },
   {
    "duration": 58,
    "start_time": "2022-08-08T12:29:52.748Z"
   },
   {
    "duration": 4,
    "start_time": "2022-08-08T12:30:07.595Z"
   },
   {
    "duration": 13,
    "start_time": "2022-08-08T12:30:07.973Z"
   },
   {
    "duration": 2,
    "start_time": "2022-08-08T13:53:59.044Z"
   },
   {
    "duration": 69,
    "start_time": "2022-08-08T13:53:59.048Z"
   },
   {
    "duration": 16,
    "start_time": "2022-08-08T13:53:59.119Z"
   },
   {
    "duration": 14,
    "start_time": "2022-08-08T13:53:59.137Z"
   },
   {
    "duration": 9,
    "start_time": "2022-08-08T13:53:59.153Z"
   },
   {
    "duration": 10,
    "start_time": "2022-08-08T13:53:59.207Z"
   },
   {
    "duration": 7,
    "start_time": "2022-08-08T13:53:59.218Z"
   },
   {
    "duration": 7,
    "start_time": "2022-08-08T13:53:59.226Z"
   },
   {
    "duration": 14,
    "start_time": "2022-08-08T13:53:59.235Z"
   },
   {
    "duration": 5,
    "start_time": "2022-08-08T13:53:59.250Z"
   },
   {
    "duration": 6,
    "start_time": "2022-08-08T13:53:59.257Z"
   },
   {
    "duration": 54,
    "start_time": "2022-08-08T13:53:59.264Z"
   },
   {
    "duration": 5,
    "start_time": "2022-08-08T13:53:59.320Z"
   },
   {
    "duration": 106,
    "start_time": "2022-08-08T13:53:59.407Z"
   },
   {
    "duration": 11,
    "start_time": "2022-08-08T20:28:02.538Z"
   },
   {
    "duration": 11,
    "start_time": "2022-08-08T20:40:48.475Z"
   },
   {
    "duration": 13,
    "start_time": "2022-08-08T20:40:57.394Z"
   },
   {
    "duration": 8,
    "start_time": "2022-08-08T20:42:49.326Z"
   },
   {
    "duration": 3,
    "start_time": "2022-08-08T20:43:20.433Z"
   },
   {
    "duration": 5,
    "start_time": "2022-08-08T20:43:30.125Z"
   },
   {
    "duration": 12,
    "start_time": "2022-08-08T20:44:35.217Z"
   },
   {
    "duration": 13,
    "start_time": "2022-08-08T20:46:13.717Z"
   },
   {
    "duration": 3,
    "start_time": "2022-08-08T20:46:23.071Z"
   },
   {
    "duration": 77,
    "start_time": "2022-08-08T20:46:23.076Z"
   },
   {
    "duration": 15,
    "start_time": "2022-08-08T20:46:23.154Z"
   },
   {
    "duration": 10,
    "start_time": "2022-08-08T20:46:23.170Z"
   },
   {
    "duration": 41,
    "start_time": "2022-08-08T20:46:23.182Z"
   },
   {
    "duration": 8,
    "start_time": "2022-08-08T20:46:23.224Z"
   },
   {
    "duration": 2,
    "start_time": "2022-08-08T20:46:23.233Z"
   },
   {
    "duration": 5,
    "start_time": "2022-08-08T20:46:23.236Z"
   },
   {
    "duration": 76,
    "start_time": "2022-08-08T20:46:23.242Z"
   },
   {
    "duration": 0,
    "start_time": "2022-08-08T20:46:23.320Z"
   },
   {
    "duration": 0,
    "start_time": "2022-08-08T20:46:23.321Z"
   },
   {
    "duration": 0,
    "start_time": "2022-08-08T20:46:23.323Z"
   },
   {
    "duration": 0,
    "start_time": "2022-08-08T20:46:23.324Z"
   },
   {
    "duration": 0,
    "start_time": "2022-08-08T20:46:23.325Z"
   },
   {
    "duration": 0,
    "start_time": "2022-08-08T20:46:23.326Z"
   },
   {
    "duration": 0,
    "start_time": "2022-08-08T20:46:23.327Z"
   },
   {
    "duration": 0,
    "start_time": "2022-08-08T20:46:23.329Z"
   },
   {
    "duration": 0,
    "start_time": "2022-08-08T20:46:23.330Z"
   },
   {
    "duration": 0,
    "start_time": "2022-08-08T20:46:23.331Z"
   },
   {
    "duration": 12,
    "start_time": "2022-08-08T20:46:26.977Z"
   },
   {
    "duration": 4,
    "start_time": "2022-08-08T20:46:38.785Z"
   },
   {
    "duration": 4,
    "start_time": "2022-08-08T20:46:40.789Z"
   },
   {
    "duration": 12,
    "start_time": "2022-08-08T20:49:24.650Z"
   },
   {
    "duration": 4,
    "start_time": "2022-08-08T21:09:46.768Z"
   },
   {
    "duration": 4,
    "start_time": "2022-08-08T21:24:07.110Z"
   },
   {
    "duration": 10,
    "start_time": "2022-08-08T21:26:00.557Z"
   },
   {
    "duration": 8,
    "start_time": "2022-08-08T21:26:09.409Z"
   },
   {
    "duration": 9,
    "start_time": "2022-08-08T21:27:06.074Z"
   },
   {
    "duration": 17,
    "start_time": "2022-08-08T21:30:25.520Z"
   },
   {
    "duration": 6,
    "start_time": "2022-08-08T21:40:07.383Z"
   },
   {
    "duration": 9,
    "start_time": "2022-08-08T21:43:30.759Z"
   },
   {
    "duration": 3,
    "start_time": "2022-08-08T21:43:57.371Z"
   },
   {
    "duration": 10,
    "start_time": "2022-08-08T21:44:02.234Z"
   },
   {
    "duration": 18,
    "start_time": "2022-08-08T21:46:18.620Z"
   },
   {
    "duration": 18,
    "start_time": "2022-08-08T21:46:53.249Z"
   },
   {
    "duration": 29,
    "start_time": "2022-08-08T21:47:47.992Z"
   },
   {
    "duration": 28,
    "start_time": "2022-08-08T21:50:39.333Z"
   },
   {
    "duration": 8,
    "start_time": "2022-08-08T21:51:05.249Z"
   },
   {
    "duration": 4,
    "start_time": "2022-08-08T21:51:10.257Z"
   },
   {
    "duration": 4,
    "start_time": "2022-08-08T21:59:11.857Z"
   },
   {
    "duration": 13,
    "start_time": "2022-08-08T21:59:12.469Z"
   },
   {
    "duration": 4,
    "start_time": "2022-08-08T21:59:35.735Z"
   },
   {
    "duration": 13,
    "start_time": "2022-08-08T21:59:37.265Z"
   },
   {
    "duration": 4,
    "start_time": "2022-08-08T22:00:26.793Z"
   },
   {
    "duration": 17,
    "start_time": "2022-08-08T22:00:27.260Z"
   },
   {
    "duration": 4,
    "start_time": "2022-08-08T22:01:27.100Z"
   },
   {
    "duration": 12,
    "start_time": "2022-08-08T22:01:27.710Z"
   },
   {
    "duration": 3,
    "start_time": "2022-08-08T22:04:03.808Z"
   },
   {
    "duration": 13,
    "start_time": "2022-08-08T22:04:04.354Z"
   },
   {
    "duration": 75,
    "start_time": "2022-08-08T23:46:56.457Z"
   },
   {
    "duration": 70,
    "start_time": "2022-08-09T00:16:39.678Z"
   },
   {
    "duration": 3,
    "start_time": "2022-08-09T00:23:09.529Z"
   },
   {
    "duration": 104,
    "start_time": "2022-08-09T00:25:16.298Z"
   },
   {
    "duration": 3,
    "start_time": "2022-08-09T00:30:14.017Z"
   },
   {
    "duration": 14,
    "start_time": "2022-08-09T00:30:33.015Z"
   },
   {
    "duration": 97,
    "start_time": "2022-08-09T00:31:41.188Z"
   },
   {
    "duration": 2,
    "start_time": "2022-08-09T00:31:53.833Z"
   },
   {
    "duration": 77,
    "start_time": "2022-08-09T00:31:58.026Z"
   },
   {
    "duration": 5,
    "start_time": "2022-08-09T00:32:38.029Z"
   },
   {
    "duration": 5344,
    "start_time": "2022-08-09T00:32:39.068Z"
   },
   {
    "duration": 4,
    "start_time": "2022-08-09T00:33:03.912Z"
   },
   {
    "duration": 2652,
    "start_time": "2022-08-09T00:33:05.160Z"
   },
   {
    "duration": 8,
    "start_time": "2022-08-09T00:35:17.014Z"
   },
   {
    "duration": 4,
    "start_time": "2022-08-09T00:36:53.660Z"
   },
   {
    "duration": 4022,
    "start_time": "2022-08-09T00:36:55.325Z"
   },
   {
    "duration": 4,
    "start_time": "2022-08-09T00:37:50.111Z"
   },
   {
    "duration": 3039,
    "start_time": "2022-08-09T00:37:51.173Z"
   },
   {
    "duration": 79,
    "start_time": "2022-08-09T00:38:48.336Z"
   },
   {
    "duration": 3,
    "start_time": "2022-08-09T00:38:59.014Z"
   },
   {
    "duration": 1919,
    "start_time": "2022-08-09T00:38:59.693Z"
   },
   {
    "duration": 148,
    "start_time": "2022-08-09T00:40:04.649Z"
   },
   {
    "duration": 4,
    "start_time": "2022-08-09T00:41:45.423Z"
   },
   {
    "duration": 13,
    "start_time": "2022-08-09T00:41:46.009Z"
   },
   {
    "duration": 11,
    "start_time": "2022-08-09T00:41:52.275Z"
   },
   {
    "duration": 3,
    "start_time": "2022-08-09T00:42:07.112Z"
   },
   {
    "duration": 11,
    "start_time": "2022-08-09T00:42:07.967Z"
   },
   {
    "duration": 11,
    "start_time": "2022-08-09T00:42:10.230Z"
   },
   {
    "duration": 4,
    "start_time": "2022-08-09T00:42:28.105Z"
   },
   {
    "duration": 15,
    "start_time": "2022-08-09T00:42:28.932Z"
   },
   {
    "duration": 11,
    "start_time": "2022-08-09T00:42:48.560Z"
   },
   {
    "duration": 4,
    "start_time": "2022-08-09T00:49:17.101Z"
   },
   {
    "duration": 7,
    "start_time": "2022-08-09T00:49:17.728Z"
   },
   {
    "duration": 3,
    "start_time": "2022-08-09T00:49:23.594Z"
   },
   {
    "duration": 13,
    "start_time": "2022-08-09T00:49:24.031Z"
   },
   {
    "duration": 76,
    "start_time": "2022-08-09T06:22:25.488Z"
   },
   {
    "duration": 1070,
    "start_time": "2022-08-09T06:22:29.434Z"
   },
   {
    "duration": 119,
    "start_time": "2022-08-09T06:22:30.506Z"
   },
   {
    "duration": 16,
    "start_time": "2022-08-09T06:22:30.627Z"
   },
   {
    "duration": 31,
    "start_time": "2022-08-09T06:22:30.644Z"
   },
   {
    "duration": 31,
    "start_time": "2022-08-09T06:22:30.677Z"
   },
   {
    "duration": 35,
    "start_time": "2022-08-09T06:22:30.710Z"
   },
   {
    "duration": 11,
    "start_time": "2022-08-09T06:22:30.748Z"
   },
   {
    "duration": 14,
    "start_time": "2022-08-09T06:22:30.762Z"
   },
   {
    "duration": 48,
    "start_time": "2022-08-09T06:22:30.778Z"
   },
   {
    "duration": 0,
    "start_time": "2022-08-09T06:22:30.828Z"
   },
   {
    "duration": 0,
    "start_time": "2022-08-09T06:22:30.830Z"
   },
   {
    "duration": 0,
    "start_time": "2022-08-09T06:22:30.831Z"
   },
   {
    "duration": 0,
    "start_time": "2022-08-09T06:22:30.832Z"
   },
   {
    "duration": 0,
    "start_time": "2022-08-09T06:22:30.834Z"
   },
   {
    "duration": 0,
    "start_time": "2022-08-09T06:22:30.835Z"
   },
   {
    "duration": 0,
    "start_time": "2022-08-09T06:22:30.837Z"
   },
   {
    "duration": 0,
    "start_time": "2022-08-09T06:22:30.838Z"
   },
   {
    "duration": 0,
    "start_time": "2022-08-09T06:22:30.840Z"
   },
   {
    "duration": 0,
    "start_time": "2022-08-09T06:22:30.841Z"
   },
   {
    "duration": 5,
    "start_time": "2022-08-09T06:22:40.170Z"
   },
   {
    "duration": 67,
    "start_time": "2022-08-09T06:22:43.737Z"
   },
   {
    "duration": 9,
    "start_time": "2022-08-09T06:22:52.415Z"
   },
   {
    "duration": 3,
    "start_time": "2022-08-09T06:23:19.144Z"
   },
   {
    "duration": 67,
    "start_time": "2022-08-09T06:23:19.149Z"
   },
   {
    "duration": 16,
    "start_time": "2022-08-09T06:23:19.217Z"
   },
   {
    "duration": 11,
    "start_time": "2022-08-09T06:23:19.234Z"
   },
   {
    "duration": 8,
    "start_time": "2022-08-09T06:23:19.247Z"
   },
   {
    "duration": 50,
    "start_time": "2022-08-09T06:23:19.257Z"
   },
   {
    "duration": 3,
    "start_time": "2022-08-09T06:23:19.308Z"
   },
   {
    "duration": 5,
    "start_time": "2022-08-09T06:23:19.312Z"
   },
   {
    "duration": 9,
    "start_time": "2022-08-09T06:23:19.318Z"
   },
   {
    "duration": 11,
    "start_time": "2022-08-09T06:23:19.328Z"
   },
   {
    "duration": 13,
    "start_time": "2022-08-09T06:23:22.018Z"
   },
   {
    "duration": 16,
    "start_time": "2022-08-09T06:23:28.672Z"
   },
   {
    "duration": 6,
    "start_time": "2022-08-09T06:23:34.868Z"
   },
   {
    "duration": 15,
    "start_time": "2022-08-09T06:23:41.525Z"
   },
   {
    "duration": 16,
    "start_time": "2022-08-09T06:24:37.971Z"
   },
   {
    "duration": 5,
    "start_time": "2022-08-09T06:24:39.771Z"
   },
   {
    "duration": 17,
    "start_time": "2022-08-09T06:24:41.543Z"
   },
   {
    "duration": 7,
    "start_time": "2022-08-09T06:25:02.395Z"
   },
   {
    "duration": 5,
    "start_time": "2022-08-09T06:25:03.280Z"
   },
   {
    "duration": 8,
    "start_time": "2022-08-09T06:25:03.879Z"
   },
   {
    "duration": 5,
    "start_time": "2022-08-09T06:25:04.406Z"
   },
   {
    "duration": 67,
    "start_time": "2022-08-09T06:25:05.033Z"
   },
   {
    "duration": 5,
    "start_time": "2022-08-09T06:28:09.794Z"
   },
   {
    "duration": 63,
    "start_time": "2022-08-09T06:32:32.863Z"
   },
   {
    "duration": 21,
    "start_time": "2022-08-09T06:32:53.071Z"
   },
   {
    "duration": 21,
    "start_time": "2022-08-09T06:34:04.256Z"
   },
   {
    "duration": 20,
    "start_time": "2022-08-09T06:34:12.759Z"
   },
   {
    "duration": 22,
    "start_time": "2022-08-09T06:34:48.564Z"
   },
   {
    "duration": 20,
    "start_time": "2022-08-09T06:35:16.782Z"
   },
   {
    "duration": 21,
    "start_time": "2022-08-09T06:35:42.094Z"
   },
   {
    "duration": 52,
    "start_time": "2022-08-09T06:35:56.015Z"
   },
   {
    "duration": 48,
    "start_time": "2022-08-09T06:36:02.869Z"
   },
   {
    "duration": 53,
    "start_time": "2022-08-09T06:36:09.325Z"
   },
   {
    "duration": 24,
    "start_time": "2022-08-09T06:36:49.525Z"
   },
   {
    "duration": 20,
    "start_time": "2022-08-09T06:39:32.191Z"
   },
   {
    "duration": 3,
    "start_time": "2022-08-09T06:51:41.885Z"
   },
   {
    "duration": 15,
    "start_time": "2022-08-09T07:15:08.815Z"
   },
   {
    "duration": 4,
    "start_time": "2022-08-09T07:15:24.811Z"
   },
   {
    "duration": 12,
    "start_time": "2022-08-09T07:15:54.593Z"
   },
   {
    "duration": 9,
    "start_time": "2022-08-09T07:16:09.534Z"
   },
   {
    "duration": 10,
    "start_time": "2022-08-09T07:17:31.946Z"
   },
   {
    "duration": 3,
    "start_time": "2022-08-09T07:20:53.552Z"
   },
   {
    "duration": 8,
    "start_time": "2022-08-09T07:21:23.977Z"
   },
   {
    "duration": 12,
    "start_time": "2022-08-09T07:21:31.021Z"
   },
   {
    "duration": 9,
    "start_time": "2022-08-09T07:21:34.817Z"
   },
   {
    "duration": 9,
    "start_time": "2022-08-09T07:21:38.930Z"
   },
   {
    "duration": 4,
    "start_time": "2022-08-09T07:51:36.423Z"
   },
   {
    "duration": 3,
    "start_time": "2022-08-09T07:53:27.455Z"
   },
   {
    "duration": 11,
    "start_time": "2022-08-09T07:53:36.143Z"
   },
   {
    "duration": 4,
    "start_time": "2022-08-09T07:54:14.378Z"
   },
   {
    "duration": 8,
    "start_time": "2022-08-09T07:59:57.311Z"
   },
   {
    "duration": 7,
    "start_time": "2022-08-09T08:00:12.289Z"
   },
   {
    "duration": 9,
    "start_time": "2022-08-09T08:00:14.381Z"
   },
   {
    "duration": 10,
    "start_time": "2022-08-09T08:00:16.425Z"
   },
   {
    "duration": 3,
    "start_time": "2022-08-09T08:06:03.627Z"
   },
   {
    "duration": 87,
    "start_time": "2022-08-09T08:06:03.632Z"
   },
   {
    "duration": 15,
    "start_time": "2022-08-09T08:06:03.721Z"
   },
   {
    "duration": 14,
    "start_time": "2022-08-09T08:06:03.738Z"
   },
   {
    "duration": 20,
    "start_time": "2022-08-09T08:06:03.753Z"
   },
   {
    "duration": 52,
    "start_time": "2022-08-09T08:06:03.774Z"
   },
   {
    "duration": 29,
    "start_time": "2022-08-09T08:06:03.827Z"
   },
   {
    "duration": 11,
    "start_time": "2022-08-09T08:06:03.857Z"
   },
   {
    "duration": 42,
    "start_time": "2022-08-09T08:06:03.869Z"
   },
   {
    "duration": 23,
    "start_time": "2022-08-09T08:06:03.914Z"
   },
   {
    "duration": 20,
    "start_time": "2022-08-09T08:06:03.939Z"
   },
   {
    "duration": 31,
    "start_time": "2022-08-09T08:06:03.961Z"
   },
   {
    "duration": 116,
    "start_time": "2022-08-09T08:06:03.993Z"
   },
   {
    "duration": 5,
    "start_time": "2022-08-09T08:06:04.113Z"
   },
   {
    "duration": 96,
    "start_time": "2022-08-09T08:06:04.120Z"
   },
   {
    "duration": 223,
    "start_time": "2022-08-09T08:06:04.218Z"
   },
   {
    "duration": 57,
    "start_time": "2022-08-09T08:06:04.444Z"
   },
   {
    "duration": 109,
    "start_time": "2022-08-09T08:06:04.505Z"
   },
   {
    "duration": 1055,
    "start_time": "2022-08-09T08:06:29.672Z"
   },
   {
    "duration": 80,
    "start_time": "2022-08-09T08:06:30.729Z"
   },
   {
    "duration": 18,
    "start_time": "2022-08-09T08:06:30.814Z"
   },
   {
    "duration": 12,
    "start_time": "2022-08-09T08:06:30.833Z"
   },
   {
    "duration": 13,
    "start_time": "2022-08-09T08:06:30.846Z"
   },
   {
    "duration": 47,
    "start_time": "2022-08-09T08:06:30.861Z"
   },
   {
    "duration": 3,
    "start_time": "2022-08-09T08:06:30.910Z"
   },
   {
    "duration": 15,
    "start_time": "2022-08-09T08:06:30.915Z"
   },
   {
    "duration": 26,
    "start_time": "2022-08-09T08:06:30.933Z"
   },
   {
    "duration": 26,
    "start_time": "2022-08-09T08:06:30.961Z"
   },
   {
    "duration": 29,
    "start_time": "2022-08-09T08:06:30.989Z"
   },
   {
    "duration": 29,
    "start_time": "2022-08-09T08:06:31.019Z"
   },
   {
    "duration": 52,
    "start_time": "2022-08-09T08:06:31.050Z"
   },
   {
    "duration": 8,
    "start_time": "2022-08-09T08:06:31.108Z"
   },
   {
    "duration": 288,
    "start_time": "2022-08-09T08:06:31.118Z"
   },
   {
    "duration": 117,
    "start_time": "2022-08-09T08:06:31.412Z"
   },
   {
    "duration": 8,
    "start_time": "2022-08-09T08:06:31.530Z"
   },
   {
    "duration": 74,
    "start_time": "2022-08-09T08:06:31.540Z"
   },
   {
    "duration": 9,
    "start_time": "2022-08-09T08:07:07.559Z"
   },
   {
    "duration": 5,
    "start_time": "2022-08-09T08:07:35.878Z"
   },
   {
    "duration": 4,
    "start_time": "2022-08-09T08:09:04.735Z"
   },
   {
    "duration": 13,
    "start_time": "2022-08-09T08:09:11.643Z"
   },
   {
    "duration": 8,
    "start_time": "2022-08-09T08:09:17.416Z"
   },
   {
    "duration": 1080,
    "start_time": "2022-08-09T08:09:32.850Z"
   },
   {
    "duration": 88,
    "start_time": "2022-08-09T08:09:33.932Z"
   },
   {
    "duration": 15,
    "start_time": "2022-08-09T08:09:34.022Z"
   },
   {
    "duration": 11,
    "start_time": "2022-08-09T08:09:34.039Z"
   },
   {
    "duration": 52,
    "start_time": "2022-08-09T08:09:34.052Z"
   },
   {
    "duration": 14,
    "start_time": "2022-08-09T08:09:34.106Z"
   },
   {
    "duration": 5,
    "start_time": "2022-08-09T08:09:34.121Z"
   },
   {
    "duration": 6,
    "start_time": "2022-08-09T08:09:34.127Z"
   },
   {
    "duration": 5,
    "start_time": "2022-08-09T08:09:34.135Z"
   },
   {
    "duration": 75,
    "start_time": "2022-08-09T08:09:34.142Z"
   },
   {
    "duration": 6,
    "start_time": "2022-08-09T08:09:34.218Z"
   },
   {
    "duration": 6,
    "start_time": "2022-08-09T08:09:34.226Z"
   },
   {
    "duration": 86,
    "start_time": "2022-08-09T08:09:34.234Z"
   },
   {
    "duration": 91,
    "start_time": "2022-08-09T08:09:34.322Z"
   },
   {
    "duration": 189,
    "start_time": "2022-08-09T08:09:34.415Z"
   },
   {
    "duration": 132,
    "start_time": "2022-08-09T08:09:34.612Z"
   },
   {
    "duration": 9,
    "start_time": "2022-08-09T08:09:34.745Z"
   },
   {
    "duration": 12,
    "start_time": "2022-08-09T08:09:34.805Z"
   },
   {
    "duration": 10,
    "start_time": "2022-08-09T08:09:45.111Z"
   },
   {
    "duration": 10,
    "start_time": "2022-08-09T08:11:21.408Z"
   },
   {
    "duration": 5,
    "start_time": "2022-08-09T08:12:20.167Z"
   },
   {
    "duration": 8,
    "start_time": "2022-08-09T08:12:26.258Z"
   },
   {
    "duration": 12,
    "start_time": "2022-08-09T08:12:54.250Z"
   },
   {
    "duration": 9,
    "start_time": "2022-08-09T08:13:08.413Z"
   },
   {
    "duration": 8,
    "start_time": "2022-08-09T08:13:15.515Z"
   },
   {
    "duration": 8,
    "start_time": "2022-08-09T08:13:22.133Z"
   },
   {
    "duration": 3,
    "start_time": "2022-08-09T08:14:09.474Z"
   },
   {
    "duration": 9,
    "start_time": "2022-08-09T08:15:46.199Z"
   },
   {
    "duration": 11,
    "start_time": "2022-08-09T08:15:46.711Z"
   },
   {
    "duration": 2,
    "start_time": "2022-08-09T08:15:50.486Z"
   },
   {
    "duration": 5,
    "start_time": "2022-08-09T08:15:50.492Z"
   },
   {
    "duration": 23,
    "start_time": "2022-08-09T08:15:50.502Z"
   },
   {
    "duration": 16,
    "start_time": "2022-08-09T08:15:50.527Z"
   },
   {
    "duration": 7,
    "start_time": "2022-08-09T08:15:50.545Z"
   },
   {
    "duration": 6,
    "start_time": "2022-08-09T08:15:50.554Z"
   },
   {
    "duration": 51,
    "start_time": "2022-08-09T08:15:50.563Z"
   },
   {
    "duration": 101,
    "start_time": "2022-08-09T08:15:50.615Z"
   },
   {
    "duration": 88,
    "start_time": "2022-08-09T08:15:50.718Z"
   },
   {
    "duration": 141,
    "start_time": "2022-08-09T08:15:50.807Z"
   },
   {
    "duration": 9,
    "start_time": "2022-08-09T08:15:50.950Z"
   },
   {
    "duration": 21,
    "start_time": "2022-08-09T08:15:50.961Z"
   },
   {
    "duration": 48,
    "start_time": "2022-08-09T08:15:50.984Z"
   },
   {
    "duration": 10,
    "start_time": "2022-08-09T08:15:55.550Z"
   },
   {
    "duration": 14,
    "start_time": "2022-08-09T08:16:52.141Z"
   },
   {
    "duration": 8,
    "start_time": "2022-08-09T08:18:07.172Z"
   },
   {
    "duration": 8,
    "start_time": "2022-08-09T08:18:13.822Z"
   },
   {
    "duration": 14,
    "start_time": "2022-08-09T08:18:19.490Z"
   },
   {
    "duration": 8,
    "start_time": "2022-08-09T08:18:50.872Z"
   },
   {
    "duration": 26,
    "start_time": "2022-08-09T08:19:28.892Z"
   },
   {
    "duration": 7,
    "start_time": "2022-08-09T08:19:35.011Z"
   },
   {
    "duration": 1171,
    "start_time": "2022-08-09T08:20:08.880Z"
   },
   {
    "duration": 79,
    "start_time": "2022-08-09T08:20:10.053Z"
   },
   {
    "duration": 16,
    "start_time": "2022-08-09T08:20:10.133Z"
   },
   {
    "duration": 11,
    "start_time": "2022-08-09T08:20:10.151Z"
   },
   {
    "duration": 60,
    "start_time": "2022-08-09T08:20:10.164Z"
   },
   {
    "duration": 14,
    "start_time": "2022-08-09T08:20:10.226Z"
   },
   {
    "duration": 22,
    "start_time": "2022-08-09T08:20:10.243Z"
   },
   {
    "duration": 11,
    "start_time": "2022-08-09T08:20:10.267Z"
   },
   {
    "duration": 16,
    "start_time": "2022-08-09T08:20:10.281Z"
   },
   {
    "duration": 19,
    "start_time": "2022-08-09T08:20:10.307Z"
   },
   {
    "duration": 19,
    "start_time": "2022-08-09T08:20:10.328Z"
   },
   {
    "duration": 6,
    "start_time": "2022-08-09T08:20:10.349Z"
   },
   {
    "duration": 15,
    "start_time": "2022-08-09T08:20:10.357Z"
   },
   {
    "duration": 54,
    "start_time": "2022-08-09T08:20:10.374Z"
   },
   {
    "duration": 74,
    "start_time": "2022-08-09T08:20:10.430Z"
   },
   {
    "duration": 103,
    "start_time": "2022-08-09T08:20:10.505Z"
   },
   {
    "duration": 126,
    "start_time": "2022-08-09T08:20:10.610Z"
   },
   {
    "duration": 9,
    "start_time": "2022-08-09T08:20:10.738Z"
   },
   {
    "duration": 10,
    "start_time": "2022-08-09T08:20:10.748Z"
   },
   {
    "duration": 11,
    "start_time": "2022-08-09T08:20:10.760Z"
   },
   {
    "duration": 35,
    "start_time": "2022-08-09T08:20:10.773Z"
   },
   {
    "duration": 12,
    "start_time": "2022-08-09T08:20:10.810Z"
   },
   {
    "duration": 10,
    "start_time": "2022-08-09T08:20:10.823Z"
   },
   {
    "duration": 325,
    "start_time": "2022-08-09T08:20:57.792Z"
   },
   {
    "duration": 104,
    "start_time": "2022-08-09T08:21:13.726Z"
   },
   {
    "duration": 9,
    "start_time": "2022-08-09T08:21:48.251Z"
   },
   {
    "duration": 13,
    "start_time": "2022-08-09T08:21:55.442Z"
   },
   {
    "duration": 28,
    "start_time": "2022-08-09T08:22:02.588Z"
   },
   {
    "duration": 8,
    "start_time": "2022-08-09T08:22:12.753Z"
   },
   {
    "duration": 23,
    "start_time": "2022-08-09T08:22:14.596Z"
   },
   {
    "duration": 9,
    "start_time": "2022-08-09T08:22:15.432Z"
   },
   {
    "duration": 27,
    "start_time": "2022-08-09T08:25:43.890Z"
   },
   {
    "duration": 22,
    "start_time": "2022-08-09T08:26:08.625Z"
   },
   {
    "duration": 9,
    "start_time": "2022-08-09T08:26:22.147Z"
   },
   {
    "duration": 1159,
    "start_time": "2022-08-09T10:23:31.137Z"
   },
   {
    "duration": 181,
    "start_time": "2022-08-09T10:23:32.298Z"
   },
   {
    "duration": 16,
    "start_time": "2022-08-09T10:23:32.480Z"
   },
   {
    "duration": 11,
    "start_time": "2022-08-09T10:23:32.498Z"
   },
   {
    "duration": 56,
    "start_time": "2022-08-09T10:23:32.510Z"
   },
   {
    "duration": 9,
    "start_time": "2022-08-09T10:23:32.568Z"
   },
   {
    "duration": 5,
    "start_time": "2022-08-09T10:23:32.579Z"
   },
   {
    "duration": 13,
    "start_time": "2022-08-09T10:23:32.586Z"
   },
   {
    "duration": 8,
    "start_time": "2022-08-09T10:23:32.601Z"
   },
   {
    "duration": 48,
    "start_time": "2022-08-09T10:23:32.613Z"
   },
   {
    "duration": 5,
    "start_time": "2022-08-09T10:23:32.663Z"
   },
   {
    "duration": 12,
    "start_time": "2022-08-09T10:23:32.669Z"
   },
   {
    "duration": 83,
    "start_time": "2022-08-09T10:23:32.682Z"
   },
   {
    "duration": 95,
    "start_time": "2022-08-09T10:23:32.768Z"
   },
   {
    "duration": 199,
    "start_time": "2022-08-09T10:23:32.865Z"
   },
   {
    "duration": 114,
    "start_time": "2022-08-09T10:23:33.067Z"
   },
   {
    "duration": 72,
    "start_time": "2022-08-09T10:23:33.183Z"
   },
   {
    "duration": 10,
    "start_time": "2022-08-09T10:23:33.257Z"
   },
   {
    "duration": 10,
    "start_time": "2022-08-09T10:23:33.268Z"
   },
   {
    "duration": 8,
    "start_time": "2022-08-09T10:23:33.280Z"
   },
   {
    "duration": 9,
    "start_time": "2022-08-09T10:23:33.290Z"
   },
   {
    "duration": 57,
    "start_time": "2022-08-09T10:23:33.301Z"
   },
   {
    "duration": 11,
    "start_time": "2022-08-09T10:23:33.359Z"
   },
   {
    "duration": 78,
    "start_time": "2022-08-09T10:39:22.596Z"
   },
   {
    "duration": 4,
    "start_time": "2022-08-09T11:42:24.627Z"
   },
   {
    "duration": 271,
    "start_time": "2022-08-09T11:46:35.232Z"
   },
   {
    "duration": 83,
    "start_time": "2022-08-09T11:46:51.373Z"
   },
   {
    "duration": 7,
    "start_time": "2022-08-09T11:54:20.614Z"
   },
   {
    "duration": 8,
    "start_time": "2022-08-09T11:54:30.334Z"
   },
   {
    "duration": 8,
    "start_time": "2022-08-09T11:57:44.232Z"
   },
   {
    "duration": 1085,
    "start_time": "2022-08-09T11:57:57.054Z"
   },
   {
    "duration": 69,
    "start_time": "2022-08-09T11:57:58.140Z"
   },
   {
    "duration": 19,
    "start_time": "2022-08-09T11:57:58.210Z"
   },
   {
    "duration": 36,
    "start_time": "2022-08-09T11:57:58.231Z"
   },
   {
    "duration": 8,
    "start_time": "2022-08-09T11:57:58.269Z"
   },
   {
    "duration": 16,
    "start_time": "2022-08-09T11:57:58.279Z"
   },
   {
    "duration": 21,
    "start_time": "2022-08-09T11:57:58.296Z"
   },
   {
    "duration": 13,
    "start_time": "2022-08-09T11:57:58.319Z"
   },
   {
    "duration": 25,
    "start_time": "2022-08-09T11:57:58.333Z"
   },
   {
    "duration": 96,
    "start_time": "2022-08-09T11:57:58.360Z"
   },
   {
    "duration": 5,
    "start_time": "2022-08-09T11:57:58.457Z"
   },
   {
    "duration": 191,
    "start_time": "2022-08-09T11:57:58.463Z"
   },
   {
    "duration": 110,
    "start_time": "2022-08-09T11:57:58.656Z"
   },
   {
    "duration": 20,
    "start_time": "2022-08-09T11:57:58.768Z"
   },
   {
    "duration": 7,
    "start_time": "2022-08-09T11:57:58.789Z"
   },
   {
    "duration": 57,
    "start_time": "2022-08-09T11:57:58.798Z"
   },
   {
    "duration": 7,
    "start_time": "2022-08-09T11:58:02.898Z"
   },
   {
    "duration": 967,
    "start_time": "2022-08-09T12:03:39.408Z"
   },
   {
    "duration": 72,
    "start_time": "2022-08-09T12:03:40.376Z"
   },
   {
    "duration": 16,
    "start_time": "2022-08-09T12:03:40.449Z"
   },
   {
    "duration": 10,
    "start_time": "2022-08-09T12:03:40.467Z"
   },
   {
    "duration": 7,
    "start_time": "2022-08-09T12:03:40.478Z"
   },
   {
    "duration": 5,
    "start_time": "2022-08-09T12:03:40.486Z"
   },
   {
    "duration": 11,
    "start_time": "2022-08-09T12:03:40.493Z"
   },
   {
    "duration": 52,
    "start_time": "2022-08-09T12:03:40.505Z"
   },
   {
    "duration": 4,
    "start_time": "2022-08-09T12:03:40.558Z"
   },
   {
    "duration": 14,
    "start_time": "2022-08-09T12:03:40.564Z"
   },
   {
    "duration": 80,
    "start_time": "2022-08-09T12:03:40.579Z"
   },
   {
    "duration": 194,
    "start_time": "2022-08-09T12:03:40.661Z"
   },
   {
    "duration": 108,
    "start_time": "2022-08-09T12:03:40.857Z"
   },
   {
    "duration": 25,
    "start_time": "2022-08-09T12:03:40.967Z"
   },
   {
    "duration": 20,
    "start_time": "2022-08-09T12:03:40.994Z"
   },
   {
    "duration": 58,
    "start_time": "2022-08-09T12:03:41.016Z"
   },
   {
    "duration": 19,
    "start_time": "2022-08-09T12:05:10.005Z"
   },
   {
    "duration": 5,
    "start_time": "2022-08-09T12:05:17.021Z"
   },
   {
    "duration": 22,
    "start_time": "2022-08-09T12:05:22.644Z"
   },
   {
    "duration": 8,
    "start_time": "2022-08-09T12:05:54.635Z"
   },
   {
    "duration": 8,
    "start_time": "2022-08-09T12:05:57.151Z"
   },
   {
    "duration": 9,
    "start_time": "2022-08-09T12:06:04.508Z"
   },
   {
    "duration": 103,
    "start_time": "2022-08-09T18:33:24.515Z"
   },
   {
    "duration": 49,
    "start_time": "2022-08-09T19:07:52.888Z"
   },
   {
    "duration": 1111,
    "start_time": "2022-08-09T19:07:56.634Z"
   },
   {
    "duration": 131,
    "start_time": "2022-08-09T19:07:57.748Z"
   },
   {
    "duration": 18,
    "start_time": "2022-08-09T19:07:57.881Z"
   },
   {
    "duration": 13,
    "start_time": "2022-08-09T19:07:57.901Z"
   },
   {
    "duration": 10,
    "start_time": "2022-08-09T19:07:57.916Z"
   },
   {
    "duration": 4,
    "start_time": "2022-08-09T19:07:57.928Z"
   },
   {
    "duration": 20,
    "start_time": "2022-08-09T19:07:57.934Z"
   },
   {
    "duration": 40,
    "start_time": "2022-08-09T19:07:57.955Z"
   },
   {
    "duration": 5,
    "start_time": "2022-08-09T19:07:57.997Z"
   },
   {
    "duration": 92,
    "start_time": "2022-08-09T19:07:58.005Z"
   },
   {
    "duration": 12,
    "start_time": "2022-08-09T19:07:58.099Z"
   },
   {
    "duration": 101,
    "start_time": "2022-08-09T19:07:58.192Z"
   },
   {
    "duration": 121,
    "start_time": "2022-08-09T19:07:58.295Z"
   },
   {
    "duration": 24,
    "start_time": "2022-08-09T19:07:58.418Z"
   },
   {
    "duration": 52,
    "start_time": "2022-08-09T19:07:58.444Z"
   },
   {
    "duration": 8,
    "start_time": "2022-08-09T19:07:58.498Z"
   },
   {
    "duration": 12,
    "start_time": "2022-08-09T19:07:58.508Z"
   },
   {
    "duration": 14,
    "start_time": "2022-08-09T19:08:27.185Z"
   },
   {
    "duration": 74,
    "start_time": "2022-08-09T19:09:22.090Z"
   },
   {
    "duration": 22,
    "start_time": "2022-08-09T19:10:55.164Z"
   },
   {
    "duration": 9,
    "start_time": "2022-08-09T19:11:09.716Z"
   },
   {
    "duration": 444,
    "start_time": "2022-08-09T19:11:37.882Z"
   },
   {
    "duration": 22,
    "start_time": "2022-08-09T19:13:01.440Z"
   },
   {
    "duration": 5,
    "start_time": "2022-08-09T19:13:28.770Z"
   },
   {
    "duration": 12,
    "start_time": "2022-08-09T19:13:37.372Z"
   },
   {
    "duration": 17,
    "start_time": "2022-08-09T19:14:23.766Z"
   },
   {
    "duration": 14,
    "start_time": "2022-08-09T19:15:58.047Z"
   },
   {
    "duration": 65,
    "start_time": "2022-08-09T19:16:13.127Z"
   },
   {
    "duration": 19,
    "start_time": "2022-08-09T19:17:00.032Z"
   },
   {
    "duration": 17,
    "start_time": "2022-08-09T19:17:06.664Z"
   },
   {
    "duration": 11,
    "start_time": "2022-08-09T19:17:14.039Z"
   },
   {
    "duration": 11,
    "start_time": "2022-08-09T19:17:19.901Z"
   },
   {
    "duration": 5,
    "start_time": "2022-08-09T19:17:29.689Z"
   },
   {
    "duration": 10,
    "start_time": "2022-08-09T19:17:32.489Z"
   },
   {
    "duration": 16,
    "start_time": "2022-08-09T19:17:35.920Z"
   },
   {
    "duration": 21,
    "start_time": "2022-08-09T19:17:41.978Z"
   },
   {
    "duration": 10,
    "start_time": "2022-08-09T19:17:49.478Z"
   },
   {
    "duration": 20,
    "start_time": "2022-08-09T19:18:10.728Z"
   },
   {
    "duration": 20,
    "start_time": "2022-08-09T19:21:28.071Z"
   },
   {
    "duration": 15,
    "start_time": "2022-08-09T19:21:35.087Z"
   },
   {
    "duration": 33,
    "start_time": "2022-08-09T19:22:38.666Z"
   },
   {
    "duration": 72,
    "start_time": "2022-08-09T19:22:45.435Z"
   },
   {
    "duration": 140,
    "start_time": "2022-08-09T19:23:18.567Z"
   },
   {
    "duration": 199,
    "start_time": "2022-08-09T19:24:28.596Z"
   },
   {
    "duration": 76,
    "start_time": "2022-08-09T20:29:27.718Z"
   },
   {
    "duration": 1173,
    "start_time": "2022-08-09T20:36:46.976Z"
   },
   {
    "duration": 75,
    "start_time": "2022-08-09T20:36:48.151Z"
   },
   {
    "duration": 17,
    "start_time": "2022-08-09T20:36:48.228Z"
   },
   {
    "duration": 12,
    "start_time": "2022-08-09T20:36:48.247Z"
   },
   {
    "duration": 38,
    "start_time": "2022-08-09T20:36:48.261Z"
   },
   {
    "duration": 4,
    "start_time": "2022-08-09T20:36:48.301Z"
   },
   {
    "duration": 16,
    "start_time": "2022-08-09T20:36:48.306Z"
   },
   {
    "duration": 8,
    "start_time": "2022-08-09T20:36:48.324Z"
   },
   {
    "duration": 10,
    "start_time": "2022-08-09T20:36:48.334Z"
   },
   {
    "duration": 58,
    "start_time": "2022-08-09T20:36:48.346Z"
   },
   {
    "duration": 85,
    "start_time": "2022-08-09T20:36:48.407Z"
   },
   {
    "duration": 102,
    "start_time": "2022-08-09T20:36:48.494Z"
   },
   {
    "duration": 118,
    "start_time": "2022-08-09T20:36:48.598Z"
   },
   {
    "duration": 27,
    "start_time": "2022-08-09T20:36:48.718Z"
   },
   {
    "duration": 47,
    "start_time": "2022-08-09T20:36:48.746Z"
   },
   {
    "duration": 10,
    "start_time": "2022-08-09T20:36:48.795Z"
   },
   {
    "duration": 201,
    "start_time": "2022-08-09T20:36:48.806Z"
   }
  ],
  "kernelspec": {
   "display_name": "Python 3 (ipykernel)",
   "language": "python",
   "name": "python3"
  },
  "language_info": {
   "codemirror_mode": {
    "name": "ipython",
    "version": 3
   },
   "file_extension": ".py",
   "mimetype": "text/x-python",
   "name": "python",
   "nbconvert_exporter": "python",
   "pygments_lexer": "ipython3",
   "version": "3.9.12"
  },
  "toc": {
   "base_numbering": 1,
   "nav_menu": {},
   "number_sections": true,
   "sideBar": true,
   "skip_h1_title": true,
   "title_cell": "Содержание",
   "title_sidebar": "Contents",
   "toc_cell": true,
   "toc_position": {
    "height": "calc(100% - 180px)",
    "left": "10px",
    "top": "150px",
    "width": "365px"
   },
   "toc_section_display": true,
   "toc_window_display": true
  }
 },
 "nbformat": 4,
 "nbformat_minor": 2
}
