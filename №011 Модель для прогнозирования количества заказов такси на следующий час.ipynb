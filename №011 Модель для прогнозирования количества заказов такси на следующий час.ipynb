{
 "cells": [
  {
   "cell_type": "markdown",
   "metadata": {
    "toc": true
   },
   "source": [
    "<h1>Содержание<span class=\"tocSkip\"></span></h1>\n",
    "<div class=\"toc\"><ul class=\"toc-item\"><li><span><a href=\"#Обзор-данных\" data-toc-modified-id=\"Обзор-данных-1\"><span class=\"toc-item-num\">1&nbsp;&nbsp;</span>Обзор данных</a></span><ul class=\"toc-item\"><li><span><a href=\"#Вывод\" data-toc-modified-id=\"Вывод-1.1\"><span class=\"toc-item-num\">1.1&nbsp;&nbsp;</span>Вывод</a></span></li></ul></li><li><span><a href=\"#Подготовка\" data-toc-modified-id=\"Подготовка-2\"><span class=\"toc-item-num\">2&nbsp;&nbsp;</span>Подготовка</a></span></li><li><span><a href=\"#Анализ\" data-toc-modified-id=\"Анализ-3\"><span class=\"toc-item-num\">3&nbsp;&nbsp;</span>Анализ</a></span><ul class=\"toc-item\"><li><span><a href=\"#Тренд-и-сезонность\" data-toc-modified-id=\"Тренд-и-сезонность-3.1\"><span class=\"toc-item-num\">3.1&nbsp;&nbsp;</span>Тренд и сезонность</a></span></li><li><span><a href=\"#Вывод\" data-toc-modified-id=\"Вывод-3.2\"><span class=\"toc-item-num\">3.2&nbsp;&nbsp;</span>Вывод</a></span></li></ul></li><li><span><a href=\"#Подготовка-данных-к-обучению-моделей\" data-toc-modified-id=\"Подготовка-данных-к-обучению-моделей-4\"><span class=\"toc-item-num\">4&nbsp;&nbsp;</span>Подготовка данных к обучению моделей</a></span><ul class=\"toc-item\"><li><span><a href=\"#Содание-признаков\" data-toc-modified-id=\"Содание-признаков-4.1\"><span class=\"toc-item-num\">4.1&nbsp;&nbsp;</span>Содание признаков</a></span></li><li><span><a href=\"#Разбиение-на-выборки\" data-toc-modified-id=\"Разбиение-на-выборки-4.2\"><span class=\"toc-item-num\">4.2&nbsp;&nbsp;</span>Разбиение на выборки</a></span></li><li><span><a href=\"#Подбор-лагов\" data-toc-modified-id=\"Подбор-лагов-4.3\"><span class=\"toc-item-num\">4.3&nbsp;&nbsp;</span>Подбор лагов</a></span></li><li><span><a href=\"#Вывод\" data-toc-modified-id=\"Вывод-4.4\"><span class=\"toc-item-num\">4.4&nbsp;&nbsp;</span>Вывод</a></span></li></ul></li><li><span><a href=\"#Обучение\" data-toc-modified-id=\"Обучение-5\"><span class=\"toc-item-num\">5&nbsp;&nbsp;</span>Обучение</a></span><ul class=\"toc-item\"><li><span><a href=\"#Прогноз-константой\" data-toc-modified-id=\"Прогноз-константой-5.1\"><span class=\"toc-item-num\">5.1&nbsp;&nbsp;</span>Прогноз константой</a></span></li><li><span><a href=\"#Прогноз-предыдущим-значением-ряда\" data-toc-modified-id=\"Прогноз-предыдущим-значением-ряда-5.2\"><span class=\"toc-item-num\">5.2&nbsp;&nbsp;</span>Прогноз предыдущим значением ряда</a></span></li><li><span><a href=\"#LinearRegression\" data-toc-modified-id=\"LinearRegression-5.3\"><span class=\"toc-item-num\">5.3&nbsp;&nbsp;</span>LinearRegression</a></span></li><li><span><a href=\"#DecisionTreeRegressor\" data-toc-modified-id=\"DecisionTreeRegressor-5.4\"><span class=\"toc-item-num\">5.4&nbsp;&nbsp;</span>DecisionTreeRegressor</a></span></li><li><span><a href=\"#CatBoostRegressor\" data-toc-modified-id=\"CatBoostRegressor-5.5\"><span class=\"toc-item-num\">5.5&nbsp;&nbsp;</span>CatBoostRegressor</a></span></li><li><span><a href=\"#Вывод\" data-toc-modified-id=\"Вывод-5.6\"><span class=\"toc-item-num\">5.6&nbsp;&nbsp;</span>Вывод</a></span></li></ul></li><li><span><a href=\"#Тестирование\" data-toc-modified-id=\"Тестирование-6\"><span class=\"toc-item-num\">6&nbsp;&nbsp;</span>Тестирование</a></span><ul class=\"toc-item\"><li><span><a href=\"#LinearRegression\" data-toc-modified-id=\"LinearRegression-6.1\"><span class=\"toc-item-num\">6.1&nbsp;&nbsp;</span>LinearRegression</a></span></li><li><span><a href=\"#DecisionTreeRegressor\" data-toc-modified-id=\"DecisionTreeRegressor-6.2\"><span class=\"toc-item-num\">6.2&nbsp;&nbsp;</span>DecisionTreeRegressor</a></span></li><li><span><a href=\"#CatBoostRegressor\" data-toc-modified-id=\"CatBoostRegressor-6.3\"><span class=\"toc-item-num\">6.3&nbsp;&nbsp;</span>CatBoostRegressor</a></span></li><li><span><a href=\"#Вывод\" data-toc-modified-id=\"Вывод-6.4\"><span class=\"toc-item-num\">6.4&nbsp;&nbsp;</span>Вывод</a></span></li></ul></li><li><span><a href=\"#Общий-вывод\" data-toc-modified-id=\"Общий-вывод-7\"><span class=\"toc-item-num\">7&nbsp;&nbsp;</span>Общий вывод</a></span></li><li><span><a href=\"#Чек-лист-проверки\" data-toc-modified-id=\"Чек-лист-проверки-8\"><span class=\"toc-item-num\">8&nbsp;&nbsp;</span>Чек-лист проверки</a></span></li></ul></div>"
   ]
  },
  {
   "cell_type": "markdown",
   "metadata": {},
   "source": [
    "#  Прогнозирование заказов такси"
   ]
  },
  {
   "cell_type": "markdown",
   "metadata": {},
   "source": [
    "Компания «Чётенькое такси» собрала исторические данные о заказах такси в аэропортах. Чтобы привлекать больше водителей в период пиковой нагрузки, нужно спрогнозировать количество заказов такси на следующий час. \n",
    "\n",
    "\n",
    "**Цель исследования** — <u> построить модель для предсказания количества заказов такси на следующий час (значение метрики *RMSE* на тестовой выборке должно быть не больше 48.).</u> <a id='hypothesis'></a>\n",
    "\n",
    "\n",
    "**Исследование пройдёт в 6 основных этапов:**\n",
    " 1. Обзор данных;\n",
    " 2. Подготовка к обучению;\n",
    " 3. Анализ;\n",
    " 4. Обучение моделей;\n",
    " 5. Тестирование;\n",
    " 6. Общий вывод."
   ]
  },
  {
   "cell_type": "markdown",
   "metadata": {},
   "source": [
    "## Обзор данных"
   ]
  },
  {
   "cell_type": "code",
   "execution_count": 1,
   "metadata": {},
   "outputs": [],
   "source": [
    "import pandas as pd\n",
    "import numpy as np\n",
    "\n",
    "import statsmodels.api as sm\n",
    "import matplotlib.pyplot as plt\n",
    "import matplotlib.ticker as ticker\n",
    "import seaborn as sns \n",
    "\n",
    "from scipy import stats\n",
    "\n",
    "from statsmodels.tsa.seasonal import seasonal_decompose\n",
    "from statsmodels.graphics.tsaplots import plot_acf\n",
    "\n",
    "from sklearn.model_selection import train_test_split, GridSearchCV, TimeSeriesSplit, cross_val_score\n",
    "from sklearn.metrics import mean_squared_error\n",
    "\n",
    "from sklearn.linear_model import LinearRegression \n",
    "from sklearn.tree import DecisionTreeRegressor\n",
    "from catboost import CatBoostRegressor"
   ]
  },
  {
   "cell_type": "code",
   "execution_count": 2,
   "metadata": {},
   "outputs": [
    {
     "data": {
      "text/html": [
       "\n",
       "<style>\n",
       ".output_png {\n",
       "    display: table-cell;\n",
       "    text-align: center;\n",
       "    vertical-align: middle;\n",
       "}\n",
       "</style>\n"
      ],
      "text/plain": [
       "<IPython.core.display.HTML object>"
      ]
     },
     "execution_count": 2,
     "metadata": {},
     "output_type": "execute_result"
    }
   ],
   "source": [
    "from IPython.core.display import HTML\n",
    "HTML(\"\"\"\n",
    "<style>\n",
    ".output_png {\n",
    "    display: table-cell;\n",
    "    text-align: center;\n",
    "    vertical-align: middle;\n",
    "}\n",
    "</style>\n",
    "\"\"\")"
   ]
  },
  {
   "cell_type": "code",
   "execution_count": 3,
   "metadata": {},
   "outputs": [
    {
     "data": {
      "text/html": [
       "<div>\n",
       "<style scoped>\n",
       "    .dataframe tbody tr th:only-of-type {\n",
       "        vertical-align: middle;\n",
       "    }\n",
       "\n",
       "    .dataframe tbody tr th {\n",
       "        vertical-align: top;\n",
       "    }\n",
       "\n",
       "    .dataframe thead th {\n",
       "        text-align: right;\n",
       "    }\n",
       "</style>\n",
       "<table border=\"1\" class=\"dataframe\">\n",
       "  <thead>\n",
       "    <tr style=\"text-align: right;\">\n",
       "      <th></th>\n",
       "      <th>num_orders</th>\n",
       "    </tr>\n",
       "    <tr>\n",
       "      <th>datetime</th>\n",
       "      <th></th>\n",
       "    </tr>\n",
       "  </thead>\n",
       "  <tbody>\n",
       "    <tr>\n",
       "      <th>2018-03-01 00:00:00</th>\n",
       "      <td>9</td>\n",
       "    </tr>\n",
       "    <tr>\n",
       "      <th>2018-03-01 00:10:00</th>\n",
       "      <td>14</td>\n",
       "    </tr>\n",
       "    <tr>\n",
       "      <th>2018-03-01 00:20:00</th>\n",
       "      <td>28</td>\n",
       "    </tr>\n",
       "    <tr>\n",
       "      <th>2018-03-01 00:30:00</th>\n",
       "      <td>20</td>\n",
       "    </tr>\n",
       "    <tr>\n",
       "      <th>2018-03-01 00:40:00</th>\n",
       "      <td>32</td>\n",
       "    </tr>\n",
       "    <tr>\n",
       "      <th>2018-03-01 00:50:00</th>\n",
       "      <td>21</td>\n",
       "    </tr>\n",
       "    <tr>\n",
       "      <th>2018-03-01 01:00:00</th>\n",
       "      <td>7</td>\n",
       "    </tr>\n",
       "    <tr>\n",
       "      <th>2018-03-01 01:10:00</th>\n",
       "      <td>5</td>\n",
       "    </tr>\n",
       "    <tr>\n",
       "      <th>2018-03-01 01:20:00</th>\n",
       "      <td>17</td>\n",
       "    </tr>\n",
       "    <tr>\n",
       "      <th>2018-03-01 01:30:00</th>\n",
       "      <td>12</td>\n",
       "    </tr>\n",
       "  </tbody>\n",
       "</table>\n",
       "</div>"
      ],
      "text/plain": [
       "                     num_orders\n",
       "datetime                       \n",
       "2018-03-01 00:00:00           9\n",
       "2018-03-01 00:10:00          14\n",
       "2018-03-01 00:20:00          28\n",
       "2018-03-01 00:30:00          20\n",
       "2018-03-01 00:40:00          32\n",
       "2018-03-01 00:50:00          21\n",
       "2018-03-01 01:00:00           7\n",
       "2018-03-01 01:10:00           5\n",
       "2018-03-01 01:20:00          17\n",
       "2018-03-01 01:30:00          12"
      ]
     },
     "metadata": {},
     "output_type": "display_data"
    },
    {
     "data": {
      "text/html": [
       "<div>\n",
       "<style scoped>\n",
       "    .dataframe tbody tr th:only-of-type {\n",
       "        vertical-align: middle;\n",
       "    }\n",
       "\n",
       "    .dataframe tbody tr th {\n",
       "        vertical-align: top;\n",
       "    }\n",
       "\n",
       "    .dataframe thead th {\n",
       "        text-align: right;\n",
       "    }\n",
       "</style>\n",
       "<table border=\"1\" class=\"dataframe\">\n",
       "  <thead>\n",
       "    <tr style=\"text-align: right;\">\n",
       "      <th></th>\n",
       "      <th>num_orders</th>\n",
       "    </tr>\n",
       "    <tr>\n",
       "      <th>datetime</th>\n",
       "      <th></th>\n",
       "    </tr>\n",
       "  </thead>\n",
       "  <tbody>\n",
       "    <tr>\n",
       "      <th>2018-08-31 22:20:00</th>\n",
       "      <td>48</td>\n",
       "    </tr>\n",
       "    <tr>\n",
       "      <th>2018-08-31 22:30:00</th>\n",
       "      <td>41</td>\n",
       "    </tr>\n",
       "    <tr>\n",
       "      <th>2018-08-31 22:40:00</th>\n",
       "      <td>34</td>\n",
       "    </tr>\n",
       "    <tr>\n",
       "      <th>2018-08-31 22:50:00</th>\n",
       "      <td>34</td>\n",
       "    </tr>\n",
       "    <tr>\n",
       "      <th>2018-08-31 23:00:00</th>\n",
       "      <td>30</td>\n",
       "    </tr>\n",
       "    <tr>\n",
       "      <th>2018-08-31 23:10:00</th>\n",
       "      <td>32</td>\n",
       "    </tr>\n",
       "    <tr>\n",
       "      <th>2018-08-31 23:20:00</th>\n",
       "      <td>24</td>\n",
       "    </tr>\n",
       "    <tr>\n",
       "      <th>2018-08-31 23:30:00</th>\n",
       "      <td>27</td>\n",
       "    </tr>\n",
       "    <tr>\n",
       "      <th>2018-08-31 23:40:00</th>\n",
       "      <td>39</td>\n",
       "    </tr>\n",
       "    <tr>\n",
       "      <th>2018-08-31 23:50:00</th>\n",
       "      <td>53</td>\n",
       "    </tr>\n",
       "  </tbody>\n",
       "</table>\n",
       "</div>"
      ],
      "text/plain": [
       "                     num_orders\n",
       "datetime                       \n",
       "2018-08-31 22:20:00          48\n",
       "2018-08-31 22:30:00          41\n",
       "2018-08-31 22:40:00          34\n",
       "2018-08-31 22:50:00          34\n",
       "2018-08-31 23:00:00          30\n",
       "2018-08-31 23:10:00          32\n",
       "2018-08-31 23:20:00          24\n",
       "2018-08-31 23:30:00          27\n",
       "2018-08-31 23:40:00          39\n",
       "2018-08-31 23:50:00          53"
      ]
     },
     "metadata": {},
     "output_type": "display_data"
    },
    {
     "name": "stdout",
     "output_type": "stream",
     "text": [
      "<class 'pandas.core.frame.DataFrame'>\n",
      "DatetimeIndex: 26496 entries, 2018-03-01 00:00:00 to 2018-08-31 23:50:00\n",
      "Data columns (total 1 columns):\n",
      " #   Column      Non-Null Count  Dtype\n",
      "---  ------      --------------  -----\n",
      " 0   num_orders  26496 non-null  int64\n",
      "dtypes: int64(1)\n",
      "memory usage: 414.0 KB\n"
     ]
    },
    {
     "data": {
      "text/plain": [
       "None"
      ]
     },
     "metadata": {},
     "output_type": "display_data"
    },
    {
     "data": {
      "text/html": [
       "<div>\n",
       "<style scoped>\n",
       "    .dataframe tbody tr th:only-of-type {\n",
       "        vertical-align: middle;\n",
       "    }\n",
       "\n",
       "    .dataframe tbody tr th {\n",
       "        vertical-align: top;\n",
       "    }\n",
       "\n",
       "    .dataframe thead th {\n",
       "        text-align: right;\n",
       "    }\n",
       "</style>\n",
       "<table border=\"1\" class=\"dataframe\">\n",
       "  <thead>\n",
       "    <tr style=\"text-align: right;\">\n",
       "      <th></th>\n",
       "      <th>num_orders</th>\n",
       "    </tr>\n",
       "  </thead>\n",
       "  <tbody>\n",
       "    <tr>\n",
       "      <th>count</th>\n",
       "      <td>26496.000000</td>\n",
       "    </tr>\n",
       "    <tr>\n",
       "      <th>mean</th>\n",
       "      <td>14.070463</td>\n",
       "    </tr>\n",
       "    <tr>\n",
       "      <th>std</th>\n",
       "      <td>9.211330</td>\n",
       "    </tr>\n",
       "    <tr>\n",
       "      <th>min</th>\n",
       "      <td>0.000000</td>\n",
       "    </tr>\n",
       "    <tr>\n",
       "      <th>25%</th>\n",
       "      <td>8.000000</td>\n",
       "    </tr>\n",
       "    <tr>\n",
       "      <th>50%</th>\n",
       "      <td>13.000000</td>\n",
       "    </tr>\n",
       "    <tr>\n",
       "      <th>75%</th>\n",
       "      <td>19.000000</td>\n",
       "    </tr>\n",
       "    <tr>\n",
       "      <th>max</th>\n",
       "      <td>119.000000</td>\n",
       "    </tr>\n",
       "  </tbody>\n",
       "</table>\n",
       "</div>"
      ],
      "text/plain": [
       "         num_orders\n",
       "count  26496.000000\n",
       "mean      14.070463\n",
       "std        9.211330\n",
       "min        0.000000\n",
       "25%        8.000000\n",
       "50%       13.000000\n",
       "75%       19.000000\n",
       "max      119.000000"
      ]
     },
     "metadata": {},
     "output_type": "display_data"
    },
    {
     "name": "stdout",
     "output_type": "stream",
     "text": [
      "Даты и время расположены в хронологическом порядке\n"
     ]
    }
   ],
   "source": [
    "df = pd.read_csv('/datasets/taxi.csv', index_col=[0], parse_dates=[0])\n",
    "\n",
    "# сортировка не понадобилась, так как хронологический порядок и так соблюден\n",
    "# df.sort_index(inplace=True)\n",
    "\n",
    "display(df.head(10))\n",
    "display(df.tail(10))\n",
    "display(df.info())\n",
    "display(df.describe())\n",
    "\n",
    "if df.index.is_monotonic == True:\n",
    "    print('Даты и время расположены в хронологическом порядке')\n",
    "else:\n",
    "    print('Хронологический порядок даты и времени не соблюден')"
   ]
  },
  {
   "cell_type": "markdown",
   "metadata": {},
   "source": [
    "**Целевой признак:**\n",
    "\n",
    "`num_orders` - количество заказов такси."
   ]
  },
  {
   "cell_type": "code",
   "execution_count": 4,
   "metadata": {
    "scrolled": true
   },
   "outputs": [
    {
     "data": {
      "image/png": "[encoded data removed]",
      "text/plain": [
       "<Figure size 720x360 with 1 Axes>"
      ]
     },
     "metadata": {
      "needs_background": "light"
     },
     "output_type": "display_data"
    }
   ],
   "source": [
    "q1 = df[['num_orders']].quantile(.25)['num_orders']\n",
    "q3 = df[['num_orders']].quantile(.75)['num_orders']\n",
    "\n",
    "iqr = q3 - q1\n",
    "\n",
    "plt.figure(figsize=(10, 5))\n",
    "ax = df['num_orders'].plot(kind ='hist', bins=60, range=(df['num_orders'].min(),q3+3*iqr),\n",
    "                           color='#CC79A7', edgecolor='black')\n",
    "\n",
    "ax.xaxis.set_major_locator(ticker.MultipleLocator(10))\n",
    "ax.xaxis.set_minor_locator(ticker.MultipleLocator(1))\n",
    "\n",
    "ax.yaxis.set_major_locator(ticker.MultipleLocator(200))\n",
    "ax.yaxis.set_minor_locator(ticker.MultipleLocator(50))\n",
    "\n",
    "plt.title(f'Распределение количества заказов', fontsize=14)\n",
    "plt.xlabel('Количество заказов за 10 минут', fontsize=13)\n",
    "plt.ylabel('Частота', fontsize=13)\n",
    "plt.tick_params(labelsize=13)\n",
    "\n",
    "ax.grid(which='major', linestyle='-', linewidth='0.1', color='black')\n",
    "ax.grid(which='minor', linestyle='-', linewidth='0.06', color='gray')"
   ]
  },
  {
   "cell_type": "code",
   "execution_count": 5,
   "metadata": {},
   "outputs": [
    {
     "data": {
      "image/png": "[encoded data removed]",
      "text/plain": [
       "<Figure size 720x360 with 1 Axes>"
      ]
     },
     "metadata": {
      "needs_background": "light"
     },
     "output_type": "display_data"
    }
   ],
   "source": [
    "fig, ax = plt.subplots(figsize=(10, 5))\n",
    "\n",
    "sm.qqplot(df['num_orders'], line='45', ax=ax)\n",
    "\n",
    "plt.title(f'График квантиль-квантиль', fontsize=14)\n",
    "plt.xlabel('Теоретические квантили', fontsize=13)\n",
    "plt.ylabel('фактические данные', fontsize=13)\n",
    "plt.tick_params(labelsize=13)\n",
    "\n",
    "plt.show()"
   ]
  },
  {
   "cell_type": "code",
   "execution_count": 5,
   "metadata": {},
   "outputs": [
    {
     "data": {
      "image/png": "[encoded data removed]",
      "text/plain": [
       "<Figure size 432x288 with 1 Axes>"
      ]
     },
     "metadata": {
      "needs_background": "light"
     },
     "output_type": "display_data"
    }
   ],
   "source": [
    "# Комментарий ревьюера\n",
    "\n",
    "import numpy as np \n",
    "import pylab \n",
    "import scipy.stats as stats\n",
    "\n",
    "stats.probplot(df['num_orders'], dist=\"norm\", plot=pylab)\n",
    "pylab.show()"
   ]
  },
  {
   "cell_type": "markdown",
   "metadata": {},
   "source": [
    "### Вывод\n",
    "\n",
    "\n",
    "Данные, которые нам предоставила компания «Чётенькое такси», собраны за полгода: с 1-ого марта по 31-ое августа 2018 года. Интервал значений ряда равен 10 минутам, то есть столбец `num_orders` отражает количество заказов такси в течение 10 минут, всего таких интервалов 26496, пропусков в данных нет. Хронологический порядок соблюден.\n",
    "\n",
    "Мы видим, что максимальное количество заказов за 10 минут равно 119, минимальное значение - 0. Средние значение - 14, медианное - 13, распределение Пуассона. Самое распростроненное количество заказов за 10 минут - 9, встречается, примерно, 1370 раз.\n",
    "\n",
    "В представленном датафрейме нет пропусков, дубликатов и аномалий, данных достаточно для проведения исследования. На следующем этапе подготовки данных будет достаточным выполнить их ресемплирование по одному часу."
   ]
  },
  {
   "cell_type": "markdown",
   "metadata": {},
   "source": [
    "## Подготовка"
   ]
  },
  {
   "cell_type": "code",
   "execution_count": 6,
   "metadata": {},
   "outputs": [
    {
     "data": {
      "text/html": [
       "<div>\n",
       "<style scoped>\n",
       "    .dataframe tbody tr th:only-of-type {\n",
       "        vertical-align: middle;\n",
       "    }\n",
       "\n",
       "    .dataframe tbody tr th {\n",
       "        vertical-align: top;\n",
       "    }\n",
       "\n",
       "    .dataframe thead th {\n",
       "        text-align: right;\n",
       "    }\n",
       "</style>\n",
       "<table border=\"1\" class=\"dataframe\">\n",
       "  <thead>\n",
       "    <tr style=\"text-align: right;\">\n",
       "      <th></th>\n",
       "      <th>num_orders</th>\n",
       "    </tr>\n",
       "    <tr>\n",
       "      <th>datetime</th>\n",
       "      <th></th>\n",
       "    </tr>\n",
       "  </thead>\n",
       "  <tbody>\n",
       "    <tr>\n",
       "      <th>2018-03-01 00:00:00</th>\n",
       "      <td>124</td>\n",
       "    </tr>\n",
       "    <tr>\n",
       "      <th>2018-03-01 01:00:00</th>\n",
       "      <td>85</td>\n",
       "    </tr>\n",
       "    <tr>\n",
       "      <th>2018-03-01 02:00:00</th>\n",
       "      <td>71</td>\n",
       "    </tr>\n",
       "    <tr>\n",
       "      <th>2018-03-01 03:00:00</th>\n",
       "      <td>66</td>\n",
       "    </tr>\n",
       "    <tr>\n",
       "      <th>2018-03-01 04:00:00</th>\n",
       "      <td>43</td>\n",
       "    </tr>\n",
       "  </tbody>\n",
       "</table>\n",
       "</div>"
      ],
      "text/plain": [
       "                     num_orders\n",
       "datetime                       \n",
       "2018-03-01 00:00:00         124\n",
       "2018-03-01 01:00:00          85\n",
       "2018-03-01 02:00:00          71\n",
       "2018-03-01 03:00:00          66\n",
       "2018-03-01 04:00:00          43"
      ]
     },
     "metadata": {},
     "output_type": "display_data"
    },
    {
     "data": {
      "text/html": [
       "<div>\n",
       "<style scoped>\n",
       "    .dataframe tbody tr th:only-of-type {\n",
       "        vertical-align: middle;\n",
       "    }\n",
       "\n",
       "    .dataframe tbody tr th {\n",
       "        vertical-align: top;\n",
       "    }\n",
       "\n",
       "    .dataframe thead th {\n",
       "        text-align: right;\n",
       "    }\n",
       "</style>\n",
       "<table border=\"1\" class=\"dataframe\">\n",
       "  <thead>\n",
       "    <tr style=\"text-align: right;\">\n",
       "      <th></th>\n",
       "      <th>num_orders</th>\n",
       "    </tr>\n",
       "    <tr>\n",
       "      <th>datetime</th>\n",
       "      <th></th>\n",
       "    </tr>\n",
       "  </thead>\n",
       "  <tbody>\n",
       "    <tr>\n",
       "      <th>2018-08-31 19:00:00</th>\n",
       "      <td>136</td>\n",
       "    </tr>\n",
       "    <tr>\n",
       "      <th>2018-08-31 20:00:00</th>\n",
       "      <td>154</td>\n",
       "    </tr>\n",
       "    <tr>\n",
       "      <th>2018-08-31 21:00:00</th>\n",
       "      <td>159</td>\n",
       "    </tr>\n",
       "    <tr>\n",
       "      <th>2018-08-31 22:00:00</th>\n",
       "      <td>223</td>\n",
       "    </tr>\n",
       "    <tr>\n",
       "      <th>2018-08-31 23:00:00</th>\n",
       "      <td>205</td>\n",
       "    </tr>\n",
       "  </tbody>\n",
       "</table>\n",
       "</div>"
      ],
      "text/plain": [
       "                     num_orders\n",
       "datetime                       \n",
       "2018-08-31 19:00:00         136\n",
       "2018-08-31 20:00:00         154\n",
       "2018-08-31 21:00:00         159\n",
       "2018-08-31 22:00:00         223\n",
       "2018-08-31 23:00:00         205"
      ]
     },
     "execution_count": 6,
     "metadata": {},
     "output_type": "execute_result"
    }
   ],
   "source": [
    "# ресемплируем временной ряд по часу\n",
    "\n",
    "df = df.resample('1H').sum()\n",
    "display(df.head())\n",
    "df.tail()"
   ]
  },
  {
   "cell_type": "markdown",
   "metadata": {},
   "source": [
    "## Анализ"
   ]
  },
  {
   "cell_type": "markdown",
   "metadata": {},
   "source": [
    "### Тренд и сезонность"
   ]
  },
  {
   "cell_type": "code",
   "execution_count": 7,
   "metadata": {},
   "outputs": [
    {
     "data": {
      "image/png": "[encoded data removed]",
      "text/plain": [
       "<Figure size 1440x360 with 3 Axes>"
      ]
     },
     "metadata": {
      "needs_background": "light"
     },
     "output_type": "display_data"
    }
   ],
   "source": [
    "plt.style.use('bmh')\n",
    "\n",
    "fig, axes = plt.subplots(1,3, figsize = (20, 5))\n",
    "fig.suptitle('Среднее количество заказов такси в час', fontsize = 16)\n",
    "\n",
    "for index, unit, ax in zip([df.index.month, df.index.weekday, df.index.hour],\n",
    "                           ['месяцам', 'дням недели', 'часам'], [0,1,2]):\n",
    "    \n",
    "    ax = pd.pivot_table(df, index=index, values='num_orders',\n",
    "               aggfunc='mean').plot(kind='bar', ax=axes[ax], color='#7A68A6', edgecolor='black')\n",
    "    \n",
    "    ax.set_ylabel('Среднее количество заказов', fontsize=12)\n",
    "    ax.set_xlabel(f'по {unit}', fontsize=12) \n",
    "    \n",
    "    if unit == 'месяцам':\n",
    "        ax.set_xticklabels(labels=ax.get_xticks()+3, rotation=0)\n",
    "    elif unit == 'дням недели':\n",
    "        ax.set_xticklabels(ax.get_xticks()+1, rotation=0)\n",
    "    else:\n",
    "        ax.set_xticklabels(ax.get_xticks(), rotation=0)"
   ]
  },
  {
   "cell_type": "code",
   "execution_count": 8,
   "metadata": {},
   "outputs": [
    {
     "data": {
      "image/png": "[encoded data removed]",
      "text/plain": [
       "<Figure size 720x1080 with 3 Axes>"
      ]
     },
     "metadata": {
      "needs_background": "light"
     },
     "output_type": "display_data"
    }
   ],
   "source": [
    "decomposed = seasonal_decompose(df)\n",
    "\n",
    "plt.figure(figsize=(10, 15))\n",
    "plt.suptitle('Тренд и сезонная компонента всего временного ряда\\n', fontsize = 16)\n",
    "\n",
    "plt.subplot(311)\n",
    "decomposed.trend.plot(ax=plt.gca())\n",
    "plt.title('Тренд')\n",
    "\n",
    "plt.subplot(312)\n",
    "decomposed.seasonal.plot(ax=plt.gca()) \n",
    "plt.title('Сезонность')\n",
    "\n",
    "plt.subplot(313)\n",
    "decomposed.resid.plot(ax=plt.gca()) \n",
    "plt.title('Случайные колебания')\n",
    "\n",
    "plt.tight_layout()"
   ]
  },
  {
   "cell_type": "code",
   "execution_count": 9,
   "metadata": {},
   "outputs": [
    {
     "data": {
      "image/png": "[encoded data removed]",
      "text/plain": [
       "<Figure size 720x1080 with 4 Axes>"
      ]
     },
     "metadata": {
      "needs_background": "light"
     },
     "output_type": "display_data"
    }
   ],
   "source": [
    "plt.figure(figsize=(10, 15))\n",
    "\n",
    "plt.subplot(411)\n",
    "decomposed.seasonal['2018-03-1':'2018-03-7'].plot(ax=plt.gca(), color='#009E73')\n",
    "plt.title('Сезонность в масштабе недели')\n",
    "\n",
    "plt.subplot(412)\n",
    "decomposed.resid['2018-03-1':'2018-03-7'].plot(ax=plt.gca(), color='#009E73')\n",
    "plt.title('Колебания в масштабе недели')\n",
    "\n",
    "plt.subplot(413)\n",
    "decomposed.seasonal['2018-03-02'].plot(ax=plt.gca(), color='#D55E00')\n",
    "plt.title('Сезонность в масштабе суток')\n",
    "\n",
    "plt.subplot(414)\n",
    "decomposed.resid['2018-03-2'].plot(ax=plt.gca(), color='#D55E00')\n",
    "plt.title('Колебания в масштабе суток')\n",
    "\n",
    "plt.tight_layout()"
   ]
  },
  {
   "cell_type": "code",
   "execution_count": 10,
   "metadata": {},
   "outputs": [
    {
     "data": {
      "image/png": "[encoded data removed]",
      "text/plain": [
       "<Figure size 720x432 with 1 Axes>"
      ]
     },
     "metadata": {
      "needs_background": "light"
     },
     "output_type": "display_data"
    }
   ],
   "source": [
    "# посмотрим на скользящее среднее и сандартное отклонение\n",
    "\n",
    "rolling_df = df.resample('1D').sum()\n",
    "rolling_df['mean'] = rolling_df['num_orders'].rolling(7).mean()\n",
    "rolling_df['std'] = rolling_df['num_orders'].rolling(7).std()\n",
    "rolling_df.plot(figsize=(10,6))\n",
    "\n",
    "plt.title('Cкользящее среднее и скользящее стандартное отклонение с размером окна = 7\\n')\n",
    "\n",
    "plt.show()"
   ]
  },
  {
   "cell_type": "markdown",
   "metadata": {},
   "source": [
    "### Вывод\n",
    "\n",
    "1. Прослеживается тренд - линейное увеличение среднего количества заказов такси со временем: в марте - около 60 заказов, в августе - около 130.\n",
    "\n",
    "2. Такси в аэропортах пользуются бóльшим спросом по понедельникам и пятницам, наименьшим - по вторниками, назвать это сезонностью сложнно из-за сильной зашумленности.\n",
    "\n",
    "3. Более явная сезонность прослеживается в масштабе суток: ночью на такси повышается спрос, среднее значение заказов такси в час достигает пикового значения в полночь и к утру иде на спад.\n",
    "\n",
    "4. Временной ряд нестационарен так есть тренд."
   ]
  },
  {
   "cell_type": "markdown",
   "metadata": {},
   "source": [
    "## Подготовка данных к обучению моделей"
   ]
  },
  {
   "cell_type": "markdown",
   "metadata": {},
   "source": [
    "### Содание признаков"
   ]
  },
  {
   "cell_type": "code",
   "execution_count": 11,
   "metadata": {},
   "outputs": [],
   "source": [
    "# создадим функцию которая добавит в копию df столбцы с features и lag'и\n",
    "\n",
    "def make_features(df, lag_list):\n",
    "    \n",
    "    data = df.copy()\n",
    "\n",
    "    data['day'] = data.index.day\n",
    "    data['dayofweek'] = data.index.dayofweek\n",
    "    \n",
    "    for lag in lag_list:\n",
    "        data['lag_{}'.format(lag)] = data['num_orders'].shift(lag)\n",
    "    \n",
    "    data = data.fillna(data['num_orders'].iloc[0])\n",
    "    features_train = data.drop('num_orders', axis=1)\n",
    "\n",
    "    return features_train"
   ]
  },
  {
   "cell_type": "code",
   "execution_count": 12,
   "metadata": {},
   "outputs": [
    {
     "data": {
      "image/png": "[encoded data removed]",
      "text/plain": [
       "<Figure size 1080x360 with 1 Axes>"
      ]
     },
     "metadata": {
      "needs_background": "light"
     },
     "output_type": "display_data"
    },
    {
     "data": {
      "image/png": "[encoded data removed]",
      "text/plain": [
       "<Figure size 1080x360 with 1 Axes>"
      ]
     },
     "metadata": {
      "needs_background": "light"
     },
     "output_type": "display_data"
    },
    {
     "data": {
      "image/png": "[encoded data removed]",
      "text/plain": [
       "<Figure size 1080x360 with 1 Axes>"
      ]
     },
     "metadata": {
      "needs_background": "light"
     },
     "output_type": "display_data"
    }
   ],
   "source": [
    "# посмотрим, какие отстающие значения имеют бóльшую корреляцию\n",
    "\n",
    "for lags, unit in zip([24, 24*7, 24*7*4], ['сутки', 'неделя', 'месяц']):\n",
    "    \n",
    "    fig, ax = plt.subplots(figsize=(15, 5))\n",
    "    plot_acf(df['num_orders'], lags=lags, ax=ax, color='black', title=f'Размер отстающего значения: {unit}')\n",
    "\n",
    "    plt.show()"
   ]
  },
  {
   "cell_type": "markdown",
   "metadata": {},
   "source": [
    "### Разбиение на выборки"
   ]
  },
  {
   "cell_type": "code",
   "execution_count": 13,
   "metadata": {},
   "outputs": [
    {
     "name": "stdout",
     "output_type": "stream",
     "text": [
      "train\n"
     ]
    },
    {
     "data": {
      "text/html": [
       "<div>\n",
       "<style scoped>\n",
       "    .dataframe tbody tr th:only-of-type {\n",
       "        vertical-align: middle;\n",
       "    }\n",
       "\n",
       "    .dataframe tbody tr th {\n",
       "        vertical-align: top;\n",
       "    }\n",
       "\n",
       "    .dataframe thead th {\n",
       "        text-align: right;\n",
       "    }\n",
       "</style>\n",
       "<table border=\"1\" class=\"dataframe\">\n",
       "  <thead>\n",
       "    <tr style=\"text-align: right;\">\n",
       "      <th></th>\n",
       "      <th>num_orders</th>\n",
       "    </tr>\n",
       "    <tr>\n",
       "      <th>datetime</th>\n",
       "      <th></th>\n",
       "    </tr>\n",
       "  </thead>\n",
       "  <tbody>\n",
       "    <tr>\n",
       "      <th>2018-03-01 00:00:00</th>\n",
       "      <td>124</td>\n",
       "    </tr>\n",
       "    <tr>\n",
       "      <th>2018-03-01 01:00:00</th>\n",
       "      <td>85</td>\n",
       "    </tr>\n",
       "    <tr>\n",
       "      <th>2018-03-01 02:00:00</th>\n",
       "      <td>71</td>\n",
       "    </tr>\n",
       "    <tr>\n",
       "      <th>2018-03-01 03:00:00</th>\n",
       "      <td>66</td>\n",
       "    </tr>\n",
       "    <tr>\n",
       "      <th>2018-03-01 04:00:00</th>\n",
       "      <td>43</td>\n",
       "    </tr>\n",
       "  </tbody>\n",
       "</table>\n",
       "</div>"
      ],
      "text/plain": [
       "                     num_orders\n",
       "datetime                       \n",
       "2018-03-01 00:00:00         124\n",
       "2018-03-01 01:00:00          85\n",
       "2018-03-01 02:00:00          71\n",
       "2018-03-01 03:00:00          66\n",
       "2018-03-01 04:00:00          43"
      ]
     },
     "metadata": {},
     "output_type": "display_data"
    },
    {
     "name": "stdout",
     "output_type": "stream",
     "text": [
      "(3974, 1)\n",
      "Минимальное значение: 2018-03-01 00:00:00,\n",
      "максимальное: 2018-08-13 13:00:00\n",
      "Доля train от df - 89 %\n",
      "\n",
      "test\n"
     ]
    },
    {
     "data": {
      "text/html": [
       "<div>\n",
       "<style scoped>\n",
       "    .dataframe tbody tr th:only-of-type {\n",
       "        vertical-align: middle;\n",
       "    }\n",
       "\n",
       "    .dataframe tbody tr th {\n",
       "        vertical-align: top;\n",
       "    }\n",
       "\n",
       "    .dataframe thead th {\n",
       "        text-align: right;\n",
       "    }\n",
       "</style>\n",
       "<table border=\"1\" class=\"dataframe\">\n",
       "  <thead>\n",
       "    <tr style=\"text-align: right;\">\n",
       "      <th></th>\n",
       "      <th>num_orders</th>\n",
       "    </tr>\n",
       "    <tr>\n",
       "      <th>datetime</th>\n",
       "      <th></th>\n",
       "    </tr>\n",
       "  </thead>\n",
       "  <tbody>\n",
       "    <tr>\n",
       "      <th>2018-08-13 14:00:00</th>\n",
       "      <td>102</td>\n",
       "    </tr>\n",
       "    <tr>\n",
       "      <th>2018-08-13 15:00:00</th>\n",
       "      <td>175</td>\n",
       "    </tr>\n",
       "    <tr>\n",
       "      <th>2018-08-13 16:00:00</th>\n",
       "      <td>144</td>\n",
       "    </tr>\n",
       "    <tr>\n",
       "      <th>2018-08-13 17:00:00</th>\n",
       "      <td>152</td>\n",
       "    </tr>\n",
       "    <tr>\n",
       "      <th>2018-08-13 18:00:00</th>\n",
       "      <td>104</td>\n",
       "    </tr>\n",
       "  </tbody>\n",
       "</table>\n",
       "</div>"
      ],
      "text/plain": [
       "                     num_orders\n",
       "datetime                       \n",
       "2018-08-13 14:00:00         102\n",
       "2018-08-13 15:00:00         175\n",
       "2018-08-13 16:00:00         144\n",
       "2018-08-13 17:00:00         152\n",
       "2018-08-13 18:00:00         104"
      ]
     },
     "metadata": {},
     "output_type": "display_data"
    },
    {
     "name": "stdout",
     "output_type": "stream",
     "text": [
      "(442, 1)\n",
      "Минимальное значение: 2018-08-13 14:00:00,\n",
      "максимальное: 2018-08-31 23:00:00\n",
      "Доля test от df - 10 %\n",
      "\n"
     ]
    }
   ],
   "source": [
    "train, test = train_test_split(df, shuffle=False, test_size=0.1)\n",
    "\n",
    "for sample, name in zip([train, test], \n",
    "                        ['train', 'test']):\n",
    "\n",
    "    print(name)\n",
    "    display(sample.head())\n",
    "    print(sample.shape)\n",
    "    print(f'Минимальное значение: {sample.index.min()},\\nмаксимальное: {sample.index.max()}')\n",
    "    print(f'Доля {name} от df -', int((len(sample) / len(df))*100), '%')\n",
    "    print()"
   ]
  },
  {
   "cell_type": "markdown",
   "metadata": {},
   "source": [
    "### Подбор лагов"
   ]
  },
  {
   "cell_type": "code",
   "execution_count": 14,
   "metadata": {},
   "outputs": [],
   "source": [
    "tscv = TimeSeriesSplit(n_splits=3)\n",
    "lag_lists = [[1,2,3], [24, 24*7], [1,2,3, 24, 24*7], [1,24,24*7], [1,24,24*7*2]]"
   ]
  },
  {
   "cell_type": "code",
   "execution_count": 15,
   "metadata": {},
   "outputs": [],
   "source": [
    "def best_features(model, query = None):\n",
    "    \n",
    "    best_result = 100\n",
    "\n",
    "    for lag_list in lag_lists:\n",
    "\n",
    "        features_train = make_features(train, lag_list)\n",
    "        \n",
    "        rmse = np.abs(cross_val_score(model, features_train, \n",
    "                                      train, cv = tscv, scoring = 'neg_root_mean_squared_error').mean())\n",
    "        \n",
    "        if rmse < best_result:\n",
    "            best_result = rmse\n",
    "            best_features = features_train\n",
    "            best_lag_list = lag_list\n",
    "            \n",
    "        if query == None:\n",
    "            print('lag_list =', lag_list)\n",
    "            print('RMSE =', rmse)\n",
    "            print()\n",
    "                \n",
    "    if query == None:\n",
    "        print(f'Лучший результат: RMSE = {best_result} при lag_list = {best_lag_list}')\n",
    "\n",
    "    else:\n",
    "        return best_features  "
   ]
  },
  {
   "cell_type": "markdown",
   "metadata": {},
   "source": [
    "### Вывод\n",
    "\n",
    "1. Мы создали функцию `make_features(df, lag_list)`, которая возвращает копию df, добавля столбцы с features и lag'и\n",
    "2. Визуально выявили: самым сильным представляется недельный лаг, чуть слабее - суточный.\n",
    "3. Разбили выборку на обучающую и тестову в соотношении 9:1.\n",
    "4. Написали функцию `best_features(model, query = None)`, которая без условия подбирает разные признаки, проходясь по разным списков лагов, и выводит RMSE модели, обученной на них. С условием - выводит features, которые дали наилучшее качество."
   ]
  },
  {
   "cell_type": "markdown",
   "metadata": {},
   "source": [
    "## Обучение"
   ]
  },
  {
   "cell_type": "markdown",
   "metadata": {},
   "source": [
    "### Прогноз константой"
   ]
  },
  {
   "cell_type": "code",
   "execution_count": 16,
   "metadata": {},
   "outputs": [
    {
     "name": "stdout",
     "output_type": "stream",
     "text": [
      "Среднее количество заказов в час: 78.29063915450428\n",
      "RMSE: 87.15277582981295\n"
     ]
    }
   ],
   "source": [
    "print(\"Среднее количество заказов в час:\", train.mean().iloc[0])\n",
    "\n",
    "pred_median = np.ones(test.shape[0]) * train.median().iloc[0]\n",
    "\n",
    "print(\"RMSE:\", mean_squared_error(test, pred_median)**(.5))"
   ]
  },
  {
   "cell_type": "markdown",
   "metadata": {},
   "source": [
    "### Прогноз предыдущим значением ряда"
   ]
  },
  {
   "cell_type": "code",
   "execution_count": 17,
   "metadata": {},
   "outputs": [
    {
     "name": "stdout",
     "output_type": "stream",
     "text": [
      "RMSE: 58.856486242815066\n"
     ]
    }
   ],
   "source": [
    "pred_previous = test.shift()\n",
    "pred_previous.iloc[0] = train.iloc[-1]\n",
    "\n",
    "print(\"RMSE:\", mean_squared_error(test, pred_previous)**(.5))"
   ]
  },
  {
   "cell_type": "markdown",
   "metadata": {},
   "source": [
    "### LinearRegression"
   ]
  },
  {
   "cell_type": "code",
   "execution_count": 18,
   "metadata": {},
   "outputs": [
    {
     "name": "stdout",
     "output_type": "stream",
     "text": [
      "lag_list = [1, 2, 3]\n",
      "RMSE = 33.94181356246483\n",
      "\n",
      "lag_list = [24, 168]\n",
      "RMSE = 26.32844113813239\n",
      "\n",
      "lag_list = [1, 2, 3, 24, 168]\n",
      "RMSE = 24.940452559819757\n",
      "\n",
      "lag_list = [1, 24, 168]\n",
      "RMSE = 25.045697737864618\n",
      "\n",
      "lag_list = [1, 24, 336]\n",
      "RMSE = 26.346130342520954\n",
      "\n",
      "Лучший результат: RMSE = 24.940452559819757 при lag_list = [1, 2, 3, 24, 168]\n"
     ]
    }
   ],
   "source": [
    "model_lr = LinearRegression()\n",
    "\n",
    "best_features(model_lr)"
   ]
  },
  {
   "cell_type": "markdown",
   "metadata": {},
   "source": [
    "### DecisionTreeRegressor"
   ]
  },
  {
   "cell_type": "code",
   "execution_count": 19,
   "metadata": {},
   "outputs": [
    {
     "name": "stdout",
     "output_type": "stream",
     "text": [
      "lag_list = [1, 2, 3]\n",
      "RMSE = 36.41220688748865\n",
      "\n",
      "lag_list = [24, 168]\n",
      "RMSE = 26.727079208931965\n",
      "\n",
      "lag_list = [1, 2, 3, 24, 168]\n",
      "RMSE = 27.241530470560082\n",
      "\n",
      "lag_list = [1, 24, 168]\n",
      "RMSE = 27.144243335419834\n",
      "\n",
      "lag_list = [1, 24, 336]\n",
      "RMSE = 28.287606068495197\n",
      "\n",
      "Лучший результат: RMSE = 26.727079208931965 при lag_list = [24, 168]\n"
     ]
    }
   ],
   "source": [
    "model_dtr = DecisionTreeRegressor(random_state=12345, max_depth=6)\n",
    "\n",
    "best_features(model_dtr)"
   ]
  },
  {
   "cell_type": "code",
   "execution_count": 20,
   "metadata": {},
   "outputs": [
    {
     "name": "stdout",
     "output_type": "stream",
     "text": [
      "Fitting 3 folds for each of 27 candidates, totalling 81 fits\n",
      "[CV 1/3] END max_depth=4, min_samples_leaf=2, min_samples_split=4; total time=   0.0s\n",
      "[CV 2/3] END max_depth=4, min_samples_leaf=2, min_samples_split=4; total time=   0.0s\n",
      "[CV 3/3] END max_depth=4, min_samples_leaf=2, min_samples_split=4; total time=   0.0s\n",
      "[CV 1/3] END max_depth=4, min_samples_leaf=2, min_samples_split=6; total time=   0.1s\n",
      "[CV 2/3] END max_depth=4, min_samples_leaf=2, min_samples_split=6; total time=   0.0s\n",
      "[CV 3/3] END max_depth=4, min_samples_leaf=2, min_samples_split=6; total time=   0.0s\n",
      "[CV 1/3] END max_depth=4, min_samples_leaf=2, min_samples_split=8; total time=   0.0s\n",
      "[CV 2/3] END max_depth=4, min_samples_leaf=2, min_samples_split=8; total time=   0.0s\n",
      "[CV 3/3] END max_depth=4, min_samples_leaf=2, min_samples_split=8; total time=   0.0s\n",
      "[CV 1/3] END max_depth=4, min_samples_leaf=4, min_samples_split=4; total time=   0.0s\n",
      "[CV 2/3] END max_depth=4, min_samples_leaf=4, min_samples_split=4; total time=   0.0s\n",
      "[CV 3/3] END max_depth=4, min_samples_leaf=4, min_samples_split=4; total time=   0.0s\n",
      "[CV 1/3] END max_depth=4, min_samples_leaf=4, min_samples_split=6; total time=   0.0s\n",
      "[CV 2/3] END max_depth=4, min_samples_leaf=4, min_samples_split=6; total time=   0.0s\n",
      "[CV 3/3] END max_depth=4, min_samples_leaf=4, min_samples_split=6; total time=   0.0s\n",
      "[CV 1/3] END max_depth=4, min_samples_leaf=4, min_samples_split=8; total time=   0.0s\n",
      "[CV 2/3] END max_depth=4, min_samples_leaf=4, min_samples_split=8; total time=   0.0s\n",
      "[CV 3/3] END max_depth=4, min_samples_leaf=4, min_samples_split=8; total time=   0.0s\n",
      "[CV 1/3] END max_depth=4, min_samples_leaf=6, min_samples_split=4; total time=   0.0s\n",
      "[CV 2/3] END max_depth=4, min_samples_leaf=6, min_samples_split=4; total time=   0.0s\n",
      "[CV 3/3] END max_depth=4, min_samples_leaf=6, min_samples_split=4; total time=   0.0s\n",
      "[CV 1/3] END max_depth=4, min_samples_leaf=6, min_samples_split=6; total time=   0.0s\n",
      "[CV 2/3] END max_depth=4, min_samples_leaf=6, min_samples_split=6; total time=   0.0s\n",
      "[CV 3/3] END max_depth=4, min_samples_leaf=6, min_samples_split=6; total time=   0.0s\n",
      "[CV 1/3] END max_depth=4, min_samples_leaf=6, min_samples_split=8; total time=   0.0s\n",
      "[CV 2/3] END max_depth=4, min_samples_leaf=6, min_samples_split=8; total time=   0.0s\n",
      "[CV 3/3] END max_depth=4, min_samples_leaf=6, min_samples_split=8; total time=   0.0s\n",
      "[CV 1/3] END max_depth=6, min_samples_leaf=2, min_samples_split=4; total time=   0.0s\n",
      "[CV 2/3] END max_depth=6, min_samples_leaf=2, min_samples_split=4; total time=   0.0s\n",
      "[CV 3/3] END max_depth=6, min_samples_leaf=2, min_samples_split=4; total time=   0.0s\n",
      "[CV 1/3] END max_depth=6, min_samples_leaf=2, min_samples_split=6; total time=   0.0s\n",
      "[CV 2/3] END max_depth=6, min_samples_leaf=2, min_samples_split=6; total time=   0.0s\n",
      "[CV 3/3] END max_depth=6, min_samples_leaf=2, min_samples_split=6; total time=   0.0s\n",
      "[CV 1/3] END max_depth=6, min_samples_leaf=2, min_samples_split=8; total time=   0.0s\n",
      "[CV 2/3] END max_depth=6, min_samples_leaf=2, min_samples_split=8; total time=   0.0s\n",
      "[CV 3/3] END max_depth=6, min_samples_leaf=2, min_samples_split=8; total time=   0.0s\n",
      "[CV 1/3] END max_depth=6, min_samples_leaf=4, min_samples_split=4; total time=   0.0s\n",
      "[CV 2/3] END max_depth=6, min_samples_leaf=4, min_samples_split=4; total time=   0.0s\n",
      "[CV 3/3] END max_depth=6, min_samples_leaf=4, min_samples_split=4; total time=   0.0s\n",
      "[CV 1/3] END max_depth=6, min_samples_leaf=4, min_samples_split=6; total time=   0.0s\n",
      "[CV 2/3] END max_depth=6, min_samples_leaf=4, min_samples_split=6; total time=   0.0s\n",
      "[CV 3/3] END max_depth=6, min_samples_leaf=4, min_samples_split=6; total time=   0.0s\n",
      "[CV 1/3] END max_depth=6, min_samples_leaf=4, min_samples_split=8; total time=   0.0s\n",
      "[CV 2/3] END max_depth=6, min_samples_leaf=4, min_samples_split=8; total time=   0.0s\n",
      "[CV 3/3] END max_depth=6, min_samples_leaf=4, min_samples_split=8; total time=   0.0s\n",
      "[CV 1/3] END max_depth=6, min_samples_leaf=6, min_samples_split=4; total time=   0.0s\n",
      "[CV 2/3] END max_depth=6, min_samples_leaf=6, min_samples_split=4; total time=   0.0s\n",
      "[CV 3/3] END max_depth=6, min_samples_leaf=6, min_samples_split=4; total time=   0.0s\n",
      "[CV 1/3] END max_depth=6, min_samples_leaf=6, min_samples_split=6; total time=   0.0s\n",
      "[CV 2/3] END max_depth=6, min_samples_leaf=6, min_samples_split=6; total time=   0.0s\n",
      "[CV 3/3] END max_depth=6, min_samples_leaf=6, min_samples_split=6; total time=   0.0s\n",
      "[CV 1/3] END max_depth=6, min_samples_leaf=6, min_samples_split=8; total time=   0.0s\n",
      "[CV 2/3] END max_depth=6, min_samples_leaf=6, min_samples_split=8; total time=   0.0s\n",
      "[CV 3/3] END max_depth=6, min_samples_leaf=6, min_samples_split=8; total time=   0.0s\n",
      "[CV 1/3] END max_depth=8, min_samples_leaf=2, min_samples_split=4; total time=   0.0s\n",
      "[CV 2/3] END max_depth=8, min_samples_leaf=2, min_samples_split=4; total time=   0.0s\n",
      "[CV 3/3] END max_depth=8, min_samples_leaf=2, min_samples_split=4; total time=   0.0s\n",
      "[CV 1/3] END max_depth=8, min_samples_leaf=2, min_samples_split=6; total time=   0.0s\n",
      "[CV 2/3] END max_depth=8, min_samples_leaf=2, min_samples_split=6; total time=   0.0s\n",
      "[CV 3/3] END max_depth=8, min_samples_leaf=2, min_samples_split=6; total time=   0.0s\n",
      "[CV 1/3] END max_depth=8, min_samples_leaf=2, min_samples_split=8; total time=   0.0s\n",
      "[CV 2/3] END max_depth=8, min_samples_leaf=2, min_samples_split=8; total time=   0.0s\n",
      "[CV 3/3] END max_depth=8, min_samples_leaf=2, min_samples_split=8; total time=   0.0s\n",
      "[CV 1/3] END max_depth=8, min_samples_leaf=4, min_samples_split=4; total time=   0.0s\n",
      "[CV 2/3] END max_depth=8, min_samples_leaf=4, min_samples_split=4; total time=   0.0s\n",
      "[CV 3/3] END max_depth=8, min_samples_leaf=4, min_samples_split=4; total time=   0.0s\n",
      "[CV 1/3] END max_depth=8, min_samples_leaf=4, min_samples_split=6; total time=   0.0s\n",
      "[CV 2/3] END max_depth=8, min_samples_leaf=4, min_samples_split=6; total time=   0.0s\n",
      "[CV 3/3] END max_depth=8, min_samples_leaf=4, min_samples_split=6; total time=   0.0s\n",
      "[CV 1/3] END max_depth=8, min_samples_leaf=4, min_samples_split=8; total time=   0.0s\n",
      "[CV 2/3] END max_depth=8, min_samples_leaf=4, min_samples_split=8; total time=   0.0s\n",
      "[CV 3/3] END max_depth=8, min_samples_leaf=4, min_samples_split=8; total time=   0.0s\n",
      "[CV 1/3] END max_depth=8, min_samples_leaf=6, min_samples_split=4; total time=   0.0s\n",
      "[CV 2/3] END max_depth=8, min_samples_leaf=6, min_samples_split=4; total time=   0.0s\n",
      "[CV 3/3] END max_depth=8, min_samples_leaf=6, min_samples_split=4; total time=   0.0s\n",
      "[CV 1/3] END max_depth=8, min_samples_leaf=6, min_samples_split=6; total time=   0.0s\n",
      "[CV 2/3] END max_depth=8, min_samples_leaf=6, min_samples_split=6; total time=   0.0s\n",
      "[CV 3/3] END max_depth=8, min_samples_leaf=6, min_samples_split=6; total time=   0.0s\n",
      "[CV 1/3] END max_depth=8, min_samples_leaf=6, min_samples_split=8; total time=   0.0s\n",
      "[CV 2/3] END max_depth=8, min_samples_leaf=6, min_samples_split=8; total time=   0.0s\n",
      "[CV 3/3] END max_depth=8, min_samples_leaf=6, min_samples_split=8; total time=   0.0s\n",
      "\n",
      "{'max_depth': 6, 'min_samples_leaf': 6, 'min_samples_split': 4}\n",
      "RMSE =  26.400315162468974\n"
     ]
    }
   ],
   "source": [
    "features_train = best_features(model_dtr, query = True)\n",
    "\n",
    "param_grid = {'max_depth': [4, 6, 8],\n",
    "             'min_samples_leaf': [2,4,6],\n",
    "             'min_samples_split': [4,6,8]}\n",
    "\n",
    "CV_dtr = GridSearchCV(estimator = model_dtr, param_grid=param_grid, \n",
    "                          cv = tscv, scoring = 'neg_root_mean_squared_error', verbose = 3) \n",
    "CV_dtr.fit(features_train, train)\n",
    "\n",
    "print()\n",
    "print(CV_dtr.best_params_)\n",
    "print('RMSE = ', - CV_dtr.best_score_)"
   ]
  },
  {
   "cell_type": "markdown",
   "metadata": {},
   "source": [
    "### CatBoostRegressor"
   ]
  },
  {
   "cell_type": "code",
   "execution_count": 21,
   "metadata": {},
   "outputs": [
    {
     "name": "stdout",
     "output_type": "stream",
     "text": [
      "lag_list = [1, 2, 3]\n",
      "RMSE = 35.58341330476528\n",
      "\n",
      "lag_list = [24, 168]\n",
      "RMSE = 25.655889501366357\n",
      "\n",
      "lag_list = [1, 2, 3, 24, 168]\n",
      "RMSE = 24.82708560841553\n",
      "\n",
      "lag_list = [1, 24, 168]\n",
      "RMSE = 25.16177601899898\n",
      "\n",
      "lag_list = [1, 24, 336]\n",
      "RMSE = 26.47546121047011\n",
      "\n",
      "Лучший результат: RMSE = 24.82708560841553 при lag_list = [1, 2, 3, 24, 168]\n"
     ]
    }
   ],
   "source": [
    "model_cbr = CatBoostRegressor(random_state=12345, verbose = 0)\n",
    "\n",
    "best_features(model_cbr)"
   ]
  },
  {
   "cell_type": "code",
   "execution_count": 22,
   "metadata": {},
   "outputs": [
    {
     "name": "stdout",
     "output_type": "stream",
     "text": [
      "Fitting 3 folds for each of 8 candidates, totalling 24 fits\n",
      "[CV 1/3] END .................max_depth=4, n_estimators=1000; total time=   1.2s\n",
      "[CV 2/3] END .................max_depth=4, n_estimators=1000; total time=   1.4s\n",
      "[CV 3/3] END .................max_depth=4, n_estimators=1000; total time=   1.5s\n",
      "[CV 1/3] END .................max_depth=4, n_estimators=1500; total time=   1.6s\n",
      "[CV 2/3] END .................max_depth=4, n_estimators=1500; total time=   1.7s\n",
      "[CV 3/3] END .................max_depth=4, n_estimators=1500; total time=   2.4s\n",
      "[CV 1/3] END .................max_depth=6, n_estimators=1000; total time=   1.8s\n",
      "[CV 2/3] END .................max_depth=6, n_estimators=1000; total time=   1.9s\n",
      "[CV 3/3] END .................max_depth=6, n_estimators=1000; total time=   2.3s\n",
      "[CV 1/3] END .................max_depth=6, n_estimators=1500; total time=   2.4s\n",
      "[CV 2/3] END .................max_depth=6, n_estimators=1500; total time=   3.3s\n",
      "[CV 3/3] END .................max_depth=6, n_estimators=1500; total time=   3.2s\n",
      "[CV 1/3] END .................max_depth=8, n_estimators=1000; total time=   3.2s\n",
      "[CV 2/3] END .................max_depth=8, n_estimators=1000; total time=   3.8s\n",
      "[CV 3/3] END .................max_depth=8, n_estimators=1000; total time=   4.3s\n",
      "[CV 1/3] END .................max_depth=8, n_estimators=1500; total time=   4.8s\n",
      "[CV 2/3] END .................max_depth=8, n_estimators=1500; total time=   5.5s\n",
      "[CV 3/3] END .................max_depth=8, n_estimators=1500; total time=   6.0s\n",
      "[CV 1/3] END ................max_depth=10, n_estimators=1000; total time=   8.2s\n",
      "[CV 2/3] END ................max_depth=10, n_estimators=1000; total time=   9.6s\n",
      "[CV 3/3] END ................max_depth=10, n_estimators=1000; total time=  10.7s\n",
      "[CV 1/3] END ................max_depth=10, n_estimators=1500; total time=  12.0s\n",
      "[CV 2/3] END ................max_depth=10, n_estimators=1500; total time=  13.8s\n",
      "[CV 3/3] END ................max_depth=10, n_estimators=1500; total time=  15.7s\n",
      "\n",
      "{'max_depth': 4, 'n_estimators': 1000}\n",
      "RMSE =  24.734275348320285\n"
     ]
    }
   ],
   "source": [
    "features_train = best_features(model_cbr, query = True)\n",
    "\n",
    "param_grid = {'max_depth': [4, 6, 8, 10],\n",
    "             'n_estimators': [1000, 1500]}\n",
    "\n",
    "CV_cbr = GridSearchCV(estimator = model_cbr, param_grid=param_grid, \n",
    "                          cv = tscv, scoring = 'neg_root_mean_squared_error', verbose = 3) \n",
    "CV_cbr.fit(features_train, train)\n",
    "\n",
    "print()\n",
    "print(CV_cbr.best_params_)\n",
    "print('RMSE = ', - CV_cbr.best_score_)"
   ]
  },
  {
   "cell_type": "markdown",
   "metadata": {},
   "source": [
    "### Вывод\n",
    "\n",
    "\n",
    "Наилучший RMSE = 24.7 на обучающей выборке дал кэтбуст, обученный на признаках, включающих список лагов [1, 2, 3, 24, 168] с гиперпараметрами max_depth = 4, n_estimators = 1000. \n",
    "\n",
    "За ним по качеству следует линейная регрессия с RMSE = 24.9, далее дерево решений с RMSE = 26.4. Прогнозы констатой и предыдущим значением сильно отстают с RMSE 87.1 и 58.8 соответственно.\n",
    "\n",
    "Из-за специфики наших выборок (в обучающей лежат данные за шесть месяцев, а в тестовой только за конец августа) мы не можем быть уверены, что не тесте модели поведут себя так же, протестируем все на следующем этапе."
   ]
  },
  {
   "cell_type": "markdown",
   "metadata": {},
   "source": [
    "## Тестирование"
   ]
  },
  {
   "cell_type": "markdown",
   "metadata": {},
   "source": [
    "### LinearRegression"
   ]
  },
  {
   "cell_type": "code",
   "execution_count": 23,
   "metadata": {},
   "outputs": [
    {
     "name": "stdout",
     "output_type": "stream",
     "text": [
      "RMSE =  42.839981229676546\n"
     ]
    }
   ],
   "source": [
    "features_train = make_features(train, [1, 2, 3, 24, 168])\n",
    "features_test = make_features(test, [1, 2, 3, 24, 168])\n",
    "\n",
    "model_lr.fit(features_train, train)\n",
    "\n",
    "lr_predictions = model_lr.predict(features_test)\n",
    "\n",
    "print('RMSE = ', mean_squared_error(lr_predictions, test)** .5)"
   ]
  },
  {
   "cell_type": "markdown",
   "metadata": {},
   "source": [
    "### DecisionTreeRegressor"
   ]
  },
  {
   "cell_type": "code",
   "execution_count": 24,
   "metadata": {},
   "outputs": [
    {
     "name": "stdout",
     "output_type": "stream",
     "text": [
      "RMSE =  48.038781685509754\n"
     ]
    }
   ],
   "source": [
    "# DTR\n",
    "\n",
    "features_test = make_features(test, [24, 168])\n",
    "\n",
    "cbr_predictions = CV_dtr.best_estimator_.predict(features_test)\n",
    "\n",
    "print('RMSE = ', mean_squared_error(cbr_predictions, test)** .5)"
   ]
  },
  {
   "cell_type": "code",
   "execution_count": 25,
   "metadata": {},
   "outputs": [
    {
     "name": "stdout",
     "output_type": "stream",
     "text": [
      "RMSE =  48.14430638554289\n"
     ]
    }
   ],
   "source": [
    "# DTR без гиперпараметров\n",
    "\n",
    "features_test = make_features(test, [24, 168])\n",
    "\n",
    "model_dtr.fit(best_features(model_dtr, query = True), train)\n",
    "\n",
    "dtr_predictions2 = model_dtr.predict(features_test)\n",
    "\n",
    "print('RMSE = ', mean_squared_error(dtr_predictions2, test)** .5)"
   ]
  },
  {
   "cell_type": "markdown",
   "metadata": {},
   "source": [
    "### CatBoostRegressor"
   ]
  },
  {
   "cell_type": "code",
   "execution_count": 26,
   "metadata": {},
   "outputs": [
    {
     "name": "stdout",
     "output_type": "stream",
     "text": [
      "RMSE =  46.71925486504565\n"
     ]
    }
   ],
   "source": [
    "# CBR\n",
    "\n",
    "features_test = make_features(test, [1, 2, 3, 24, 168])\n",
    "\n",
    "cbr_predictions = CV_cbr.best_estimator_.predict(features_test)\n",
    "\n",
    "print('RMSE = ', mean_squared_error(cbr_predictions, test)** .5)"
   ]
  },
  {
   "cell_type": "code",
   "execution_count": 27,
   "metadata": {},
   "outputs": [
    {
     "name": "stdout",
     "output_type": "stream",
     "text": [
      "RMSE =  46.54332938725903\n"
     ]
    }
   ],
   "source": [
    "# CBR без гиперпараметров\n",
    "\n",
    "features_test = make_features(test, [1, 2, 3, 24, 168])\n",
    "\n",
    "model_cbr.fit(best_features(model_cbr, query = True), train)\n",
    "\n",
    "cbr_predictions2 = model_cbr.predict(features_test)\n",
    "\n",
    "print('RMSE = ', mean_squared_error(cbr_predictions2, test)** .5)"
   ]
  },
  {
   "cell_type": "markdown",
   "metadata": {},
   "source": [
    "### Вывод\n",
    "\n",
    "Лучше всего с предсказаниями на тестовой выборке справилась линейная регрессия, которая в среднем дает ошибку 42 заказа за час.\n",
    "CBR и DTR сильно подстраиваются под специфику перода в обучающей выборке, что портит качество прогноза. CBR с гиперпараметрами max_depth = 4, n_estimators = 1500 переобучается."
   ]
  },
  {
   "cell_type": "markdown",
   "metadata": {},
   "source": [
    "## Общий вывод\n",
    "\n",
    "Данные, которые нам предоставила компания «Чётенькое такси», собраны за полгода: с 1-ого марта по 31-ое августа 2018 года. Интервал значений ряда равен 10 минутам, хронологический порядок соблюден. Пропусков, дубликатов и аномалий нет.\n",
    "\n",
    "**Мы:**\n",
    "1. Выполнили ресемплирование по одному часу.\n",
    "2. Выявили тренд - линейное увеличение среднего количества заказов такси со временем и сезонность в масштабе суток: ночью на такси повышается спрос.\n",
    "3. Разбили выборку на обучающую и тестову в соотношении 9:1.\n",
    "3. Задали функцию `make_features(df, lag_list)` (возвращает копию датафрейма со следующими признаками: месяц, день, день недели, лаги из списка).\n",
    "5. Проанализировали лаги и выявили, что самую сильную корреляцию представляет недельный и суточные лаги.\n",
    "6. Написали функцию` best_features(model, query = None)`, которая подбирает признаки, проходясь по спискам лагов, и выводит RMSE модели (полученной в качестве аргумента) обученной на них. С условием выводит признаки, которые дали наилучший результат.\n",
    "7. Обучили, протестировали и оценили модели: LR, DTR, CBR.\n",
    "\n",
    "\n",
    "**Таким образом, для прогноза количества заказов такси на следующий час рекомендуем компании «Чётенькое такси» модель model_lr с добавлением в features списка лагов [1, 2, 3, 24, 168], которая показала наилучший результат на тестовой выборке - RMSE = 42.8.** Линейная регрессия не так сильно подстраивается под обучающую выборку, зависимости, характерные конкретному периоду, а именно: с марта по август 18 года, что дает ей преимущество в прогнозе будущего периода."
   ]
  },
  {
   "cell_type": "markdown",
   "metadata": {},
   "source": [
    "## Чек-лист проверки"
   ]
  },
  {
   "cell_type": "markdown",
   "metadata": {},
   "source": [
    "- [x]  Jupyter Notebook открыт\n",
    "- [ ]  Весь код выполняется без ошибок\n",
    "- [ ]  Ячейки с кодом расположены в порядке исполнения\n",
    "- [ ]  Данные загружены и подготовлены\n",
    "- [ ]  Данные проанализированы\n",
    "- [ ]  Модель обучена, гиперпараметры подобраны\n",
    "- [ ]  Качество моделей проверено, выводы сделаны\n",
    "- [ ]  Значение *RMSE* на тестовой выборке не больше 48"
   ]
  }
 ],
 "metadata": {
  "ExecuteTimeLog": [
   {
    "duration": 423,
    "start_time": "2022-09-11T18:46:13.301Z"
   },
   {
    "duration": 137,
    "start_time": "2022-09-11T18:47:19.530Z"
   },
   {
    "duration": 20,
    "start_time": "2022-09-11T18:47:19.944Z"
   },
   {
    "duration": 46,
    "start_time": "2022-09-11T18:48:34.740Z"
   },
   {
    "duration": 11,
    "start_time": "2022-09-11T18:48:35.216Z"
   },
   {
    "duration": 70,
    "start_time": "2022-09-11T18:49:14.055Z"
   },
   {
    "duration": 80,
    "start_time": "2022-09-11T18:49:39.298Z"
   },
   {
    "duration": 80,
    "start_time": "2022-09-11T18:50:06.349Z"
   },
   {
    "duration": 77,
    "start_time": "2022-09-11T18:50:57.578Z"
   },
   {
    "duration": 6,
    "start_time": "2022-09-11T18:52:01.525Z"
   },
   {
    "duration": 7,
    "start_time": "2022-09-11T18:52:35.840Z"
   },
   {
    "duration": 6,
    "start_time": "2022-09-11T18:52:42.207Z"
   },
   {
    "duration": 78,
    "start_time": "2022-09-11T18:54:26.703Z"
   },
   {
    "duration": 87,
    "start_time": "2022-09-11T18:56:21.879Z"
   },
   {
    "duration": 145,
    "start_time": "2022-09-11T19:03:40.320Z"
   },
   {
    "duration": 76,
    "start_time": "2022-09-11T19:03:46.776Z"
   },
   {
    "duration": 71,
    "start_time": "2022-09-11T19:03:49.981Z"
   },
   {
    "duration": 3,
    "start_time": "2022-09-11T19:05:31.315Z"
   },
   {
    "duration": 81,
    "start_time": "2022-09-11T19:05:31.319Z"
   },
   {
    "duration": 469,
    "start_time": "2022-09-11T19:11:32.645Z"
   },
   {
    "duration": 83,
    "start_time": "2022-09-11T19:11:33.116Z"
   },
   {
    "duration": 74,
    "start_time": "2022-09-11T19:18:52.103Z"
   },
   {
    "duration": 72,
    "start_time": "2022-09-11T19:25:05.011Z"
   },
   {
    "duration": 10,
    "start_time": "2022-09-11T19:25:28.600Z"
   },
   {
    "duration": 14,
    "start_time": "2022-09-11T19:25:50.705Z"
   },
   {
    "duration": 15,
    "start_time": "2022-09-11T19:26:34.291Z"
   },
   {
    "duration": 929,
    "start_time": "2022-09-11T19:45:15.894Z"
   },
   {
    "duration": 45,
    "start_time": "2022-09-11T19:45:19.784Z"
   },
   {
    "duration": 1433,
    "start_time": "2022-09-11T19:45:27.275Z"
   },
   {
    "duration": 1561,
    "start_time": "2022-09-11T19:47:40.663Z"
   },
   {
    "duration": 71,
    "start_time": "2022-09-11T19:48:11.638Z"
   },
   {
    "duration": 69,
    "start_time": "2022-09-11T19:48:30.850Z"
   },
   {
    "duration": 15,
    "start_time": "2022-09-11T19:49:53.932Z"
   },
   {
    "duration": 73,
    "start_time": "2022-09-11T19:49:58.798Z"
   },
   {
    "duration": 11,
    "start_time": "2022-09-11T19:50:31.961Z"
   },
   {
    "duration": 5,
    "start_time": "2022-09-11T19:51:26.335Z"
   },
   {
    "duration": 9,
    "start_time": "2022-09-11T19:52:40.879Z"
   },
   {
    "duration": 10,
    "start_time": "2022-09-11T19:53:14.022Z"
   },
   {
    "duration": 32,
    "start_time": "2022-09-11T19:54:03.045Z"
   },
   {
    "duration": 8,
    "start_time": "2022-09-11T19:55:07.634Z"
   },
   {
    "duration": 14,
    "start_time": "2022-09-11T19:55:33.842Z"
   },
   {
    "duration": 10,
    "start_time": "2022-09-11T19:55:49.138Z"
   },
   {
    "duration": 6,
    "start_time": "2022-09-11T19:56:01.589Z"
   },
   {
    "duration": 164,
    "start_time": "2022-09-11T19:56:09.075Z"
   },
   {
    "duration": 172,
    "start_time": "2022-09-11T19:56:31.748Z"
   },
   {
    "duration": 16,
    "start_time": "2022-09-11T19:57:16.443Z"
   },
   {
    "duration": 11,
    "start_time": "2022-09-11T19:57:24.180Z"
   },
   {
    "duration": 1255,
    "start_time": "2022-09-11T19:57:29.580Z"
   },
   {
    "duration": 11,
    "start_time": "2022-09-11T19:57:40.635Z"
   },
   {
    "duration": 5,
    "start_time": "2022-09-11T19:58:25.403Z"
   },
   {
    "duration": 102,
    "start_time": "2022-09-11T19:58:37.804Z"
   },
   {
    "duration": 31,
    "start_time": "2022-09-11T19:58:49.081Z"
   },
   {
    "duration": 29,
    "start_time": "2022-09-11T19:59:16.823Z"
   },
   {
    "duration": 2612,
    "start_time": "2022-09-11T20:02:54.609Z"
   },
   {
    "duration": 156,
    "start_time": "2022-09-11T20:03:33.425Z"
   },
   {
    "duration": 209,
    "start_time": "2022-09-11T20:03:42.375Z"
   },
   {
    "duration": 231,
    "start_time": "2022-09-11T20:03:49.393Z"
   },
   {
    "duration": 254,
    "start_time": "2022-09-11T20:03:59.746Z"
   },
   {
    "duration": 10,
    "start_time": "2022-09-11T20:05:09.276Z"
   },
   {
    "duration": 12,
    "start_time": "2022-09-11T20:05:34.142Z"
   },
   {
    "duration": 31,
    "start_time": "2022-09-11T20:05:37.477Z"
   },
   {
    "duration": 11,
    "start_time": "2022-09-11T20:05:55.089Z"
   },
   {
    "duration": 139,
    "start_time": "2022-09-11T20:06:23.438Z"
   },
   {
    "duration": 8,
    "start_time": "2022-09-11T20:06:30.551Z"
   },
   {
    "duration": 1578,
    "start_time": "2022-09-11T20:07:53.100Z"
   },
   {
    "duration": 248,
    "start_time": "2022-09-11T20:08:12.166Z"
   },
   {
    "duration": 275,
    "start_time": "2022-09-11T20:12:33.404Z"
   },
   {
    "duration": 285,
    "start_time": "2022-09-11T20:13:06.854Z"
   },
   {
    "duration": 11,
    "start_time": "2022-09-11T20:17:55.842Z"
   },
   {
    "duration": 263,
    "start_time": "2022-09-11T20:18:11.428Z"
   },
   {
    "duration": 209,
    "start_time": "2022-09-11T20:18:22.993Z"
   },
   {
    "duration": 209,
    "start_time": "2022-09-11T20:19:50.744Z"
   },
   {
    "duration": 350,
    "start_time": "2022-09-11T20:19:57.515Z"
   },
   {
    "duration": 2,
    "start_time": "2022-09-11T20:23:02.842Z"
   },
   {
    "duration": 17,
    "start_time": "2022-09-11T20:24:00.280Z"
   },
   {
    "duration": 211,
    "start_time": "2022-09-11T20:24:05.933Z"
   },
   {
    "duration": 202,
    "start_time": "2022-09-11T20:24:35.567Z"
   },
   {
    "duration": 202,
    "start_time": "2022-09-11T20:24:46.537Z"
   },
   {
    "duration": 320,
    "start_time": "2022-09-11T20:26:07.821Z"
   },
   {
    "duration": 800,
    "start_time": "2022-09-11T20:26:18.865Z"
   },
   {
    "duration": 314,
    "start_time": "2022-09-11T20:26:23.983Z"
   },
   {
    "duration": 342,
    "start_time": "2022-09-11T20:27:49.672Z"
   },
   {
    "duration": 347,
    "start_time": "2022-09-11T20:29:47.543Z"
   },
   {
    "duration": 521,
    "start_time": "2022-09-11T20:29:55.040Z"
   },
   {
    "duration": 325,
    "start_time": "2022-09-11T20:30:30.636Z"
   },
   {
    "duration": 367,
    "start_time": "2022-09-11T20:31:10.380Z"
   },
   {
    "duration": 625,
    "start_time": "2022-09-11T20:31:50.480Z"
   },
   {
    "duration": 339,
    "start_time": "2022-09-11T20:32:00.810Z"
   },
   {
    "duration": 394,
    "start_time": "2022-09-11T20:32:20.587Z"
   },
   {
    "duration": 488,
    "start_time": "2022-09-11T20:33:04.205Z"
   },
   {
    "duration": 612,
    "start_time": "2022-09-11T20:33:22.703Z"
   },
   {
    "duration": 389,
    "start_time": "2022-09-11T20:33:47.911Z"
   },
   {
    "duration": 403,
    "start_time": "2022-09-11T20:33:56.641Z"
   },
   {
    "duration": 413,
    "start_time": "2022-09-11T20:34:02.112Z"
   },
   {
    "duration": 408,
    "start_time": "2022-09-11T20:34:07.274Z"
   },
   {
    "duration": 409,
    "start_time": "2022-09-11T20:34:31.342Z"
   },
   {
    "duration": 418,
    "start_time": "2022-09-11T20:34:38.233Z"
   },
   {
    "duration": 627,
    "start_time": "2022-09-11T20:34:44.572Z"
   },
   {
    "duration": 403,
    "start_time": "2022-09-11T20:34:58.996Z"
   },
   {
    "duration": 639,
    "start_time": "2022-09-11T20:37:26.983Z"
   },
   {
    "duration": 463,
    "start_time": "2022-09-11T20:37:33.145Z"
   },
   {
    "duration": 437,
    "start_time": "2022-09-11T20:37:44.040Z"
   },
   {
    "duration": 392,
    "start_time": "2022-09-11T20:38:33.188Z"
   },
   {
    "duration": 3319,
    "start_time": "2022-09-11T20:39:03.851Z"
   },
   {
    "duration": 448,
    "start_time": "2022-09-11T20:39:23.116Z"
   },
   {
    "duration": 660,
    "start_time": "2022-09-11T20:39:37.421Z"
   },
   {
    "duration": 440,
    "start_time": "2022-09-11T20:40:05.597Z"
   },
   {
    "duration": 13,
    "start_time": "2022-09-11T20:40:56.892Z"
   },
   {
    "duration": 8,
    "start_time": "2022-09-11T20:41:01.623Z"
   },
   {
    "duration": 135,
    "start_time": "2022-09-11T20:41:38.152Z"
   },
   {
    "duration": 132,
    "start_time": "2022-09-11T20:41:50.435Z"
   },
   {
    "duration": 9,
    "start_time": "2022-09-11T20:41:58.517Z"
   },
   {
    "duration": 8,
    "start_time": "2022-09-11T20:42:11.025Z"
   },
   {
    "duration": 139,
    "start_time": "2022-09-11T20:42:20.573Z"
   },
   {
    "duration": 7,
    "start_time": "2022-09-11T20:42:34.816Z"
   },
   {
    "duration": 7,
    "start_time": "2022-09-11T20:42:50.635Z"
   },
   {
    "duration": 6,
    "start_time": "2022-09-11T20:45:19.886Z"
   },
   {
    "duration": 8,
    "start_time": "2022-09-11T20:45:24.188Z"
   },
   {
    "duration": 7,
    "start_time": "2022-09-11T20:45:30.061Z"
   },
   {
    "duration": 233,
    "start_time": "2022-09-11T20:49:30.441Z"
   },
   {
    "duration": 6,
    "start_time": "2022-09-11T20:50:42.311Z"
   },
   {
    "duration": 248,
    "start_time": "2022-09-11T20:50:46.564Z"
   },
   {
    "duration": 258,
    "start_time": "2022-09-11T20:51:26.953Z"
   },
   {
    "duration": 274,
    "start_time": "2022-09-11T20:51:48.408Z"
   },
   {
    "duration": 223,
    "start_time": "2022-09-11T20:51:52.384Z"
   },
   {
    "duration": 275,
    "start_time": "2022-09-11T20:52:07.345Z"
   },
   {
    "duration": 12,
    "start_time": "2022-09-11T20:58:21.126Z"
   },
   {
    "duration": 10,
    "start_time": "2022-09-11T20:58:54.051Z"
   },
   {
    "duration": 488,
    "start_time": "2022-09-11T21:01:33.710Z"
   },
   {
    "duration": 11,
    "start_time": "2022-09-11T21:09:34.751Z"
   },
   {
    "duration": 301,
    "start_time": "2022-09-11T21:09:38.180Z"
   },
   {
    "duration": 383,
    "start_time": "2022-09-11T21:09:49.848Z"
   },
   {
    "duration": 204,
    "start_time": "2022-09-11T21:10:15.940Z"
   },
   {
    "duration": 199,
    "start_time": "2022-09-11T21:11:11.298Z"
   },
   {
    "duration": 194,
    "start_time": "2022-09-11T21:12:43.498Z"
   },
   {
    "duration": 12,
    "start_time": "2022-09-11T21:40:21.312Z"
   },
   {
    "duration": 24,
    "start_time": "2022-09-11T21:40:41.996Z"
   },
   {
    "duration": 766,
    "start_time": "2022-09-11T21:40:47.378Z"
   },
   {
    "duration": 728,
    "start_time": "2022-09-11T21:41:03.901Z"
   },
   {
    "duration": 699,
    "start_time": "2022-09-11T21:41:44.185Z"
   },
   {
    "duration": 896,
    "start_time": "2022-09-11T21:41:57.235Z"
   },
   {
    "duration": 761,
    "start_time": "2022-09-11T21:42:06.261Z"
   },
   {
    "duration": 836,
    "start_time": "2022-09-11T21:42:14.677Z"
   },
   {
    "duration": 339,
    "start_time": "2022-09-11T21:44:27.915Z"
   },
   {
    "duration": 3,
    "start_time": "2022-09-11T21:44:37.210Z"
   },
   {
    "duration": 80,
    "start_time": "2022-09-11T21:44:37.215Z"
   },
   {
    "duration": 435,
    "start_time": "2022-09-11T21:44:37.297Z"
   },
   {
    "duration": 12,
    "start_time": "2022-09-11T21:44:37.734Z"
   },
   {
    "duration": 302,
    "start_time": "2022-09-11T21:44:37.748Z"
   },
   {
    "duration": 185,
    "start_time": "2022-09-11T21:44:38.052Z"
   },
   {
    "duration": 202,
    "start_time": "2022-09-11T21:44:38.238Z"
   },
   {
    "duration": 1145,
    "start_time": "2022-09-11T21:44:38.442Z"
   },
   {
    "duration": 788,
    "start_time": "2022-09-11T21:46:11.160Z"
   },
   {
    "duration": 858,
    "start_time": "2022-09-11T21:46:15.189Z"
   },
   {
    "duration": 859,
    "start_time": "2022-09-11T21:49:35.737Z"
   },
   {
    "duration": 203,
    "start_time": "2022-09-11T21:51:05.354Z"
   },
   {
    "duration": 159,
    "start_time": "2022-09-11T21:51:16.106Z"
   },
   {
    "duration": 168,
    "start_time": "2022-09-11T21:51:51.110Z"
   },
   {
    "duration": 178,
    "start_time": "2022-09-11T21:52:18.174Z"
   },
   {
    "duration": 154,
    "start_time": "2022-09-11T21:52:24.353Z"
   },
   {
    "duration": 178,
    "start_time": "2022-09-11T21:52:37.281Z"
   },
   {
    "duration": 164,
    "start_time": "2022-09-11T21:53:10.731Z"
   },
   {
    "duration": 1111,
    "start_time": "2022-09-11T22:06:41.549Z"
   },
   {
    "duration": 609,
    "start_time": "2022-09-11T22:07:35.342Z"
   },
   {
    "duration": 877,
    "start_time": "2022-09-11T22:19:49.656Z"
   },
   {
    "duration": 861,
    "start_time": "2022-09-11T22:21:16.473Z"
   },
   {
    "duration": 60,
    "start_time": "2022-09-11T22:21:30.456Z"
   },
   {
    "duration": 885,
    "start_time": "2022-09-11T22:21:35.648Z"
   },
   {
    "duration": 842,
    "start_time": "2022-09-11T22:21:46.557Z"
   },
   {
    "duration": 1095,
    "start_time": "2022-09-11T22:22:10.720Z"
   },
   {
    "duration": 756,
    "start_time": "2022-09-11T22:22:21.126Z"
   },
   {
    "duration": 298,
    "start_time": "2022-09-11T22:22:53.370Z"
   },
   {
    "duration": 301,
    "start_time": "2022-09-11T22:23:32.972Z"
   },
   {
    "duration": 310,
    "start_time": "2022-09-11T22:23:49.962Z"
   },
   {
    "duration": 293,
    "start_time": "2022-09-11T22:23:53.301Z"
   },
   {
    "duration": 335,
    "start_time": "2022-09-11T22:23:56.673Z"
   },
   {
    "duration": 3,
    "start_time": "2022-09-11T22:23:59.619Z"
   },
   {
    "duration": 75,
    "start_time": "2022-09-11T22:23:59.624Z"
   },
   {
    "duration": 402,
    "start_time": "2022-09-11T22:23:59.701Z"
   },
   {
    "duration": 12,
    "start_time": "2022-09-11T22:24:00.105Z"
   },
   {
    "duration": 744,
    "start_time": "2022-09-11T22:24:00.120Z"
   },
   {
    "duration": 177,
    "start_time": "2022-09-11T22:24:00.866Z"
   },
   {
    "duration": 168,
    "start_time": "2022-09-11T22:24:01.045Z"
   },
   {
    "duration": 193,
    "start_time": "2022-09-11T22:24:01.216Z"
   },
   {
    "duration": 926,
    "start_time": "2022-09-11T22:24:01.410Z"
   },
   {
    "duration": 308,
    "start_time": "2022-09-11T22:24:10.876Z"
   },
   {
    "duration": 1304,
    "start_time": "2022-09-11T22:24:23.009Z"
   },
   {
    "duration": 178,
    "start_time": "2022-09-11T22:24:24.315Z"
   },
   {
    "duration": 909,
    "start_time": "2022-09-11T22:24:24.495Z"
   },
   {
    "duration": 13,
    "start_time": "2022-09-11T22:24:25.407Z"
   },
   {
    "duration": 1035,
    "start_time": "2022-09-11T22:24:25.422Z"
   },
   {
    "duration": 164,
    "start_time": "2022-09-11T22:24:26.459Z"
   },
   {
    "duration": 258,
    "start_time": "2022-09-11T22:24:26.625Z"
   },
   {
    "duration": 184,
    "start_time": "2022-09-11T22:24:26.884Z"
   },
   {
    "duration": 616,
    "start_time": "2022-09-11T22:24:27.070Z"
   },
   {
    "duration": 314,
    "start_time": "2022-09-11T22:25:59.324Z"
   },
   {
    "duration": 1219,
    "start_time": "2022-09-11T22:26:10.624Z"
   },
   {
    "duration": 88,
    "start_time": "2022-09-11T22:26:11.846Z"
   },
   {
    "duration": 448,
    "start_time": "2022-09-11T22:26:11.938Z"
   },
   {
    "duration": 14,
    "start_time": "2022-09-11T22:26:12.388Z"
   },
   {
    "duration": 734,
    "start_time": "2022-09-11T22:26:12.404Z"
   },
   {
    "duration": 173,
    "start_time": "2022-09-11T22:26:13.140Z"
   },
   {
    "duration": 241,
    "start_time": "2022-09-11T22:26:13.314Z"
   },
   {
    "duration": 173,
    "start_time": "2022-09-11T22:26:13.557Z"
   },
   {
    "duration": 963,
    "start_time": "2022-09-11T22:26:13.732Z"
   },
   {
    "duration": 316,
    "start_time": "2022-09-11T22:27:11.923Z"
   },
   {
    "duration": 1548,
    "start_time": "2022-09-11T22:27:35.946Z"
   },
   {
    "duration": 122,
    "start_time": "2022-09-11T22:27:37.497Z"
   },
   {
    "duration": 908,
    "start_time": "2022-09-11T22:27:37.624Z"
   },
   {
    "duration": 69,
    "start_time": "2022-09-11T22:27:38.534Z"
   },
   {
    "duration": 872,
    "start_time": "2022-09-11T22:27:38.604Z"
   },
   {
    "duration": 173,
    "start_time": "2022-09-11T22:27:39.478Z"
   },
   {
    "duration": 260,
    "start_time": "2022-09-11T22:27:39.653Z"
   },
   {
    "duration": 184,
    "start_time": "2022-09-11T22:27:39.915Z"
   },
   {
    "duration": 609,
    "start_time": "2022-09-11T22:27:40.102Z"
   },
   {
    "duration": 337,
    "start_time": "2022-09-11T22:28:04.315Z"
   },
   {
    "duration": 327,
    "start_time": "2022-09-11T22:28:16.892Z"
   },
   {
    "duration": 1640,
    "start_time": "2022-09-11T22:28:32.277Z"
   },
   {
    "duration": 175,
    "start_time": "2022-09-11T22:28:33.920Z"
   },
   {
    "duration": 895,
    "start_time": "2022-09-11T22:28:34.097Z"
   },
   {
    "duration": 13,
    "start_time": "2022-09-11T22:28:34.994Z"
   },
   {
    "duration": 763,
    "start_time": "2022-09-11T22:28:35.009Z"
   },
   {
    "duration": 168,
    "start_time": "2022-09-11T22:28:35.774Z"
   },
   {
    "duration": 245,
    "start_time": "2022-09-11T22:28:35.944Z"
   },
   {
    "duration": 179,
    "start_time": "2022-09-11T22:28:36.190Z"
   },
   {
    "duration": 626,
    "start_time": "2022-09-11T22:28:36.371Z"
   },
   {
    "duration": 755,
    "start_time": "2022-09-11T22:29:27.272Z"
   },
   {
    "duration": 866,
    "start_time": "2022-09-11T22:30:55.734Z"
   },
   {
    "duration": 803,
    "start_time": "2022-09-11T22:31:35.609Z"
   },
   {
    "duration": 810,
    "start_time": "2022-09-11T22:31:39.915Z"
   },
   {
    "duration": 4,
    "start_time": "2022-09-11T22:31:49.966Z"
   },
   {
    "duration": 84,
    "start_time": "2022-09-11T22:31:49.972Z"
   },
   {
    "duration": 565,
    "start_time": "2022-09-11T22:31:50.058Z"
   },
   {
    "duration": 10,
    "start_time": "2022-09-11T22:31:50.625Z"
   },
   {
    "duration": 779,
    "start_time": "2022-09-11T22:31:50.637Z"
   },
   {
    "duration": 176,
    "start_time": "2022-09-11T22:31:51.418Z"
   },
   {
    "duration": 176,
    "start_time": "2022-09-11T22:31:51.596Z"
   },
   {
    "duration": 225,
    "start_time": "2022-09-11T22:31:51.774Z"
   },
   {
    "duration": 628,
    "start_time": "2022-09-11T22:31:52.001Z"
   },
   {
    "duration": 142,
    "start_time": "2022-09-11T22:32:29.932Z"
   },
   {
    "duration": 3,
    "start_time": "2022-09-11T22:32:35.737Z"
   },
   {
    "duration": 77,
    "start_time": "2022-09-11T22:32:35.742Z"
   },
   {
    "duration": 576,
    "start_time": "2022-09-11T22:32:35.820Z"
   },
   {
    "duration": 12,
    "start_time": "2022-09-11T22:32:36.398Z"
   },
   {
    "duration": 49,
    "start_time": "2022-09-11T22:32:36.411Z"
   },
   {
    "duration": 0,
    "start_time": "2022-09-11T22:32:36.462Z"
   },
   {
    "duration": 0,
    "start_time": "2022-09-11T22:32:36.463Z"
   },
   {
    "duration": 0,
    "start_time": "2022-09-11T22:32:36.465Z"
   },
   {
    "duration": 0,
    "start_time": "2022-09-11T22:32:36.466Z"
   },
   {
    "duration": 783,
    "start_time": "2022-09-11T22:32:49.835Z"
   },
   {
    "duration": 1548,
    "start_time": "2022-09-11T22:32:58.756Z"
   },
   {
    "duration": 120,
    "start_time": "2022-09-11T22:33:00.307Z"
   },
   {
    "duration": 974,
    "start_time": "2022-09-11T22:33:00.429Z"
   },
   {
    "duration": 14,
    "start_time": "2022-09-11T22:33:01.406Z"
   },
   {
    "duration": 995,
    "start_time": "2022-09-11T22:33:01.422Z"
   },
   {
    "duration": 169,
    "start_time": "2022-09-11T22:33:02.419Z"
   },
   {
    "duration": 252,
    "start_time": "2022-09-11T22:33:02.592Z"
   },
   {
    "duration": 183,
    "start_time": "2022-09-11T22:33:02.846Z"
   },
   {
    "duration": 657,
    "start_time": "2022-09-11T22:33:03.030Z"
   },
   {
    "duration": 319,
    "start_time": "2022-09-11T22:33:09.614Z"
   },
   {
    "duration": 235,
    "start_time": "2022-09-11T22:35:55.264Z"
   },
   {
    "duration": 333,
    "start_time": "2022-09-11T22:36:04.936Z"
   },
   {
    "duration": 1286,
    "start_time": "2022-09-11T22:36:21.577Z"
   },
   {
    "duration": 82,
    "start_time": "2022-09-11T22:36:22.866Z"
   },
   {
    "duration": 462,
    "start_time": "2022-09-11T22:36:22.952Z"
   },
   {
    "duration": 13,
    "start_time": "2022-09-11T22:36:23.416Z"
   },
   {
    "duration": 838,
    "start_time": "2022-09-11T22:36:23.431Z"
   },
   {
    "duration": 173,
    "start_time": "2022-09-11T22:36:24.271Z"
   },
   {
    "duration": 250,
    "start_time": "2022-09-11T22:36:24.446Z"
   },
   {
    "duration": 182,
    "start_time": "2022-09-11T22:36:24.697Z"
   },
   {
    "duration": 925,
    "start_time": "2022-09-11T22:36:24.880Z"
   },
   {
    "duration": 1527,
    "start_time": "2022-09-12T19:14:03.117Z"
   },
   {
    "duration": 287,
    "start_time": "2022-09-12T19:14:04.646Z"
   },
   {
    "duration": 922,
    "start_time": "2022-09-12T19:14:04.935Z"
   },
   {
    "duration": 62,
    "start_time": "2022-09-12T19:14:05.859Z"
   },
   {
    "duration": 1339,
    "start_time": "2022-09-12T19:14:05.924Z"
   },
   {
    "duration": 166,
    "start_time": "2022-09-12T19:14:07.265Z"
   },
   {
    "duration": 256,
    "start_time": "2022-09-12T19:14:07.433Z"
   },
   {
    "duration": 193,
    "start_time": "2022-09-12T19:14:07.691Z"
   },
   {
    "duration": 678,
    "start_time": "2022-09-12T19:14:07.886Z"
   },
   {
    "duration": 207,
    "start_time": "2022-09-12T19:34:53.375Z"
   },
   {
    "duration": 162,
    "start_time": "2022-09-12T19:35:40.995Z"
   },
   {
    "duration": 188,
    "start_time": "2022-09-12T19:36:01.036Z"
   },
   {
    "duration": 377,
    "start_time": "2022-09-12T19:36:29.768Z"
   },
   {
    "duration": 266,
    "start_time": "2022-09-12T19:36:40.568Z"
   },
   {
    "duration": 118,
    "start_time": "2022-09-12T19:42:27.970Z"
   },
   {
    "duration": 18344,
    "start_time": "2022-09-12T19:42:33.663Z"
   },
   {
    "duration": 541,
    "start_time": "2022-09-12T19:52:43.150Z"
   },
   {
    "duration": 354,
    "start_time": "2022-09-12T19:52:57.830Z"
   },
   {
    "duration": 285,
    "start_time": "2022-09-12T19:53:03.228Z"
   },
   {
    "duration": 266,
    "start_time": "2022-09-12T19:53:08.283Z"
   },
   {
    "duration": 235,
    "start_time": "2022-09-12T19:53:14.144Z"
   },
   {
    "duration": 179,
    "start_time": "2022-09-12T19:53:20.999Z"
   },
   {
    "duration": 270,
    "start_time": "2022-09-12T19:53:28.314Z"
   },
   {
    "duration": 250,
    "start_time": "2022-09-12T19:53:42.035Z"
   },
   {
    "duration": 247,
    "start_time": "2022-09-12T19:55:00.880Z"
   },
   {
    "duration": 237,
    "start_time": "2022-09-12T19:55:51.136Z"
   },
   {
    "duration": 709,
    "start_time": "2022-09-12T19:56:28.421Z"
   },
   {
    "duration": 448,
    "start_time": "2022-09-12T19:56:34.358Z"
   },
   {
    "duration": 616,
    "start_time": "2022-09-12T19:56:45.850Z"
   },
   {
    "duration": 656,
    "start_time": "2022-09-12T19:56:50.391Z"
   },
   {
    "duration": 707,
    "start_time": "2022-09-12T19:57:02.222Z"
   },
   {
    "duration": 1243,
    "start_time": "2022-09-12T20:02:25.757Z"
   },
   {
    "duration": 719,
    "start_time": "2022-09-12T20:02:32.803Z"
   },
   {
    "duration": 704,
    "start_time": "2022-09-12T20:02:45.819Z"
   },
   {
    "duration": 723,
    "start_time": "2022-09-12T20:07:21.091Z"
   },
   {
    "duration": 715,
    "start_time": "2022-09-12T20:07:43.002Z"
   },
   {
    "duration": 730,
    "start_time": "2022-09-12T20:09:30.216Z"
   },
   {
    "duration": 727,
    "start_time": "2022-09-12T20:09:42.999Z"
   },
   {
    "duration": 763,
    "start_time": "2022-09-12T20:10:31.868Z"
   },
   {
    "duration": 757,
    "start_time": "2022-09-12T20:10:37.169Z"
   },
   {
    "duration": 53,
    "start_time": "2022-09-12T20:11:40.788Z"
   },
   {
    "duration": 393,
    "start_time": "2022-09-12T20:11:54.765Z"
   },
   {
    "duration": 408,
    "start_time": "2022-09-12T20:12:02.046Z"
   },
   {
    "duration": 391,
    "start_time": "2022-09-12T20:12:19.790Z"
   },
   {
    "duration": 775,
    "start_time": "2022-09-12T20:12:27.302Z"
   },
   {
    "duration": 735,
    "start_time": "2022-09-12T20:13:20.525Z"
   },
   {
    "duration": 734,
    "start_time": "2022-09-12T20:13:27.866Z"
   },
   {
    "duration": 819,
    "start_time": "2022-09-12T20:13:48.379Z"
   },
   {
    "duration": 1094,
    "start_time": "2022-09-12T20:13:56.577Z"
   },
   {
    "duration": 706,
    "start_time": "2022-09-12T20:14:07.199Z"
   },
   {
    "duration": 701,
    "start_time": "2022-09-12T20:14:15.031Z"
   },
   {
    "duration": 671,
    "start_time": "2022-09-12T20:14:30.920Z"
   },
   {
    "duration": 699,
    "start_time": "2022-09-12T20:14:36.969Z"
   },
   {
    "duration": 3,
    "start_time": "2022-09-12T20:15:54.436Z"
   },
   {
    "duration": 81,
    "start_time": "2022-09-12T20:15:54.441Z"
   },
   {
    "duration": 450,
    "start_time": "2022-09-12T20:15:54.523Z"
   },
   {
    "duration": 12,
    "start_time": "2022-09-12T20:15:54.976Z"
   },
   {
    "duration": 723,
    "start_time": "2022-09-12T20:15:54.990Z"
   },
   {
    "duration": 807,
    "start_time": "2022-09-12T20:15:55.715Z"
   },
   {
    "duration": 169,
    "start_time": "2022-09-12T20:15:56.523Z"
   },
   {
    "duration": 181,
    "start_time": "2022-09-12T20:15:56.694Z"
   },
   {
    "duration": 190,
    "start_time": "2022-09-12T20:15:56.877Z"
   },
   {
    "duration": 662,
    "start_time": "2022-09-12T20:15:57.070Z"
   },
   {
    "duration": 1266,
    "start_time": "2022-09-12T20:16:01.731Z"
   },
   {
    "duration": 97,
    "start_time": "2022-09-12T20:16:03.000Z"
   },
   {
    "duration": 467,
    "start_time": "2022-09-12T20:16:03.100Z"
   },
   {
    "duration": 16,
    "start_time": "2022-09-12T20:16:03.568Z"
   },
   {
    "duration": 827,
    "start_time": "2022-09-12T20:16:03.586Z"
   },
   {
    "duration": 909,
    "start_time": "2022-09-12T20:16:04.421Z"
   },
   {
    "duration": 178,
    "start_time": "2022-09-12T20:16:05.332Z"
   },
   {
    "duration": 185,
    "start_time": "2022-09-12T20:16:05.512Z"
   },
   {
    "duration": 205,
    "start_time": "2022-09-12T20:16:05.699Z"
   },
   {
    "duration": 672,
    "start_time": "2022-09-12T20:16:05.907Z"
   },
   {
    "duration": 817,
    "start_time": "2022-09-12T20:22:43.208Z"
   },
   {
    "duration": 885,
    "start_time": "2022-09-12T20:23:20.397Z"
   },
   {
    "duration": 816,
    "start_time": "2022-09-12T20:23:37.100Z"
   },
   {
    "duration": 722,
    "start_time": "2022-09-12T20:24:27.747Z"
   },
   {
    "duration": 784,
    "start_time": "2022-09-12T20:25:49.055Z"
   },
   {
    "duration": 351,
    "start_time": "2022-09-12T20:29:27.112Z"
   },
   {
    "duration": 21,
    "start_time": "2022-09-12T20:29:52.593Z"
   },
   {
    "duration": 792,
    "start_time": "2022-09-12T20:29:57.998Z"
   },
   {
    "duration": 30,
    "start_time": "2022-09-12T20:31:50.293Z"
   },
   {
    "duration": 887,
    "start_time": "2022-09-12T20:31:50.826Z"
   },
   {
    "duration": 42,
    "start_time": "2022-09-12T20:33:01.735Z"
   },
   {
    "duration": 32,
    "start_time": "2022-09-12T20:34:02.997Z"
   },
   {
    "duration": 850,
    "start_time": "2022-09-12T20:34:05.676Z"
   },
   {
    "duration": 24,
    "start_time": "2022-09-12T20:34:47.614Z"
   },
   {
    "duration": 832,
    "start_time": "2022-09-12T20:35:12.489Z"
   },
   {
    "duration": 27,
    "start_time": "2022-09-12T20:35:17.731Z"
   },
   {
    "duration": 901,
    "start_time": "2022-09-12T20:35:24.151Z"
   },
   {
    "duration": 47,
    "start_time": "2022-09-12T20:35:31.620Z"
   },
   {
    "duration": 1287,
    "start_time": "2022-09-12T20:35:44.090Z"
   },
   {
    "duration": 84,
    "start_time": "2022-09-12T20:35:45.379Z"
   },
   {
    "duration": 458,
    "start_time": "2022-09-12T20:35:45.465Z"
   },
   {
    "duration": 15,
    "start_time": "2022-09-12T20:35:45.925Z"
   },
   {
    "duration": 724,
    "start_time": "2022-09-12T20:35:45.942Z"
   },
   {
    "duration": 1685,
    "start_time": "2022-09-12T20:35:46.668Z"
   },
   {
    "duration": 613,
    "start_time": "2022-09-12T20:35:48.355Z"
   },
   {
    "duration": 224,
    "start_time": "2022-09-12T20:35:48.970Z"
   },
   {
    "duration": 191,
    "start_time": "2022-09-12T20:35:49.195Z"
   },
   {
    "duration": 183,
    "start_time": "2022-09-12T20:35:49.389Z"
   },
   {
    "duration": 668,
    "start_time": "2022-09-12T20:35:49.573Z"
   },
   {
    "duration": 25,
    "start_time": "2022-09-12T20:36:14.692Z"
   },
   {
    "duration": 896,
    "start_time": "2022-09-12T20:36:27.815Z"
   },
   {
    "duration": 37,
    "start_time": "2022-09-12T20:36:44.563Z"
   },
   {
    "duration": 654,
    "start_time": "2022-09-12T20:36:49.366Z"
   },
   {
    "duration": 350,
    "start_time": "2022-09-12T20:37:35.675Z"
   },
   {
    "duration": 234,
    "start_time": "2022-09-12T20:38:49.733Z"
   },
   {
    "duration": 295,
    "start_time": "2022-09-12T20:39:10.445Z"
   },
   {
    "duration": 19,
    "start_time": "2022-09-12T20:39:26.859Z"
   },
   {
    "duration": 439,
    "start_time": "2022-09-12T20:39:31.082Z"
   },
   {
    "duration": 467,
    "start_time": "2022-09-12T20:39:45.270Z"
   },
   {
    "duration": 391,
    "start_time": "2022-09-12T20:39:57.570Z"
   },
   {
    "duration": 376,
    "start_time": "2022-09-12T20:40:06.465Z"
   },
   {
    "duration": 373,
    "start_time": "2022-09-12T20:40:42.906Z"
   },
   {
    "duration": 1229,
    "start_time": "2022-09-12T20:41:33.321Z"
   },
   {
    "duration": 26,
    "start_time": "2022-09-12T20:41:34.552Z"
   },
   {
    "duration": 80,
    "start_time": "2022-09-12T20:41:34.580Z"
   },
   {
    "duration": 446,
    "start_time": "2022-09-12T20:41:34.662Z"
   },
   {
    "duration": 20,
    "start_time": "2022-09-12T20:41:35.110Z"
   },
   {
    "duration": 672,
    "start_time": "2022-09-12T20:41:35.132Z"
   },
   {
    "duration": 886,
    "start_time": "2022-09-12T20:41:35.806Z"
   },
   {
    "duration": 392,
    "start_time": "2022-09-12T20:41:36.693Z"
   },
   {
    "duration": 171,
    "start_time": "2022-09-12T20:41:37.087Z"
   },
   {
    "duration": 171,
    "start_time": "2022-09-12T20:41:37.260Z"
   },
   {
    "duration": 182,
    "start_time": "2022-09-12T20:41:37.432Z"
   },
   {
    "duration": 629,
    "start_time": "2022-09-12T20:41:37.620Z"
   },
   {
    "duration": 1251,
    "start_time": "2022-09-12T20:43:18.911Z"
   },
   {
    "duration": 27,
    "start_time": "2022-09-12T20:43:20.164Z"
   },
   {
    "duration": 82,
    "start_time": "2022-09-12T20:43:20.193Z"
   },
   {
    "duration": 467,
    "start_time": "2022-09-12T20:43:20.276Z"
   },
   {
    "duration": 12,
    "start_time": "2022-09-12T20:43:20.745Z"
   },
   {
    "duration": 715,
    "start_time": "2022-09-12T20:43:20.758Z"
   },
   {
    "duration": 893,
    "start_time": "2022-09-12T20:43:21.475Z"
   },
   {
    "duration": 388,
    "start_time": "2022-09-12T20:43:22.370Z"
   },
   {
    "duration": 167,
    "start_time": "2022-09-12T20:43:22.759Z"
   },
   {
    "duration": 175,
    "start_time": "2022-09-12T20:43:22.927Z"
   },
   {
    "duration": 187,
    "start_time": "2022-09-12T20:43:23.104Z"
   },
   {
    "duration": 656,
    "start_time": "2022-09-12T20:43:23.293Z"
   },
   {
    "duration": 414,
    "start_time": "2022-09-12T20:43:42.533Z"
   },
   {
    "duration": 360,
    "start_time": "2022-09-12T20:45:03.377Z"
   },
   {
    "duration": 410,
    "start_time": "2022-09-12T20:45:16.616Z"
   },
   {
    "duration": 494,
    "start_time": "2022-09-12T20:45:25.354Z"
   },
   {
    "duration": 386,
    "start_time": "2022-09-12T20:45:39.512Z"
   },
   {
    "duration": 399,
    "start_time": "2022-09-12T20:45:42.905Z"
   },
   {
    "duration": 374,
    "start_time": "2022-09-12T20:46:38.469Z"
   },
   {
    "duration": 381,
    "start_time": "2022-09-12T20:49:37.186Z"
   },
   {
    "duration": 6,
    "start_time": "2022-09-12T20:59:07.639Z"
   },
   {
    "duration": 906,
    "start_time": "2022-09-12T20:59:46.902Z"
   },
   {
    "duration": 536,
    "start_time": "2022-09-12T21:00:19.011Z"
   },
   {
    "duration": 504,
    "start_time": "2022-09-12T21:00:43.903Z"
   },
   {
    "duration": 9,
    "start_time": "2022-09-12T21:02:07.023Z"
   },
   {
    "duration": 393,
    "start_time": "2022-09-12T21:02:10.172Z"
   },
   {
    "duration": 413,
    "start_time": "2022-09-12T21:02:41.745Z"
   },
   {
    "duration": 7,
    "start_time": "2022-09-12T21:03:06.937Z"
   },
   {
    "duration": 7,
    "start_time": "2022-09-12T21:03:13.051Z"
   },
   {
    "duration": 1051,
    "start_time": "2022-09-12T21:03:18.022Z"
   },
   {
    "duration": 671,
    "start_time": "2022-09-12T21:17:45.878Z"
   },
   {
    "duration": 885,
    "start_time": "2022-09-12T21:25:11.295Z"
   },
   {
    "duration": 407,
    "start_time": "2022-09-12T22:47:25.251Z"
   },
   {
    "duration": 362,
    "start_time": "2022-09-12T22:47:34.496Z"
   },
   {
    "duration": 395,
    "start_time": "2022-09-12T22:47:50.742Z"
   },
   {
    "duration": 10,
    "start_time": "2022-09-12T22:52:52.909Z"
   },
   {
    "duration": 11,
    "start_time": "2022-09-12T22:53:14.206Z"
   },
   {
    "duration": 14,
    "start_time": "2022-09-12T22:53:26.255Z"
   },
   {
    "duration": 13,
    "start_time": "2022-09-12T22:54:25.536Z"
   },
   {
    "duration": 3,
    "start_time": "2022-09-12T22:54:41.362Z"
   },
   {
    "duration": 39,
    "start_time": "2022-09-12T22:54:41.367Z"
   },
   {
    "duration": 75,
    "start_time": "2022-09-12T22:54:41.408Z"
   },
   {
    "duration": 416,
    "start_time": "2022-09-12T22:54:41.485Z"
   },
   {
    "duration": 17,
    "start_time": "2022-09-12T22:54:41.904Z"
   },
   {
    "duration": 668,
    "start_time": "2022-09-12T22:54:41.923Z"
   },
   {
    "duration": 893,
    "start_time": "2022-09-12T22:54:42.592Z"
   },
   {
    "duration": 366,
    "start_time": "2022-09-12T22:54:43.487Z"
   },
   {
    "duration": 4,
    "start_time": "2022-09-12T22:54:43.855Z"
   },
   {
    "duration": 18,
    "start_time": "2022-09-12T22:54:43.860Z"
   },
   {
    "duration": 218,
    "start_time": "2022-09-12T22:56:46.074Z"
   },
   {
    "duration": 24,
    "start_time": "2022-09-12T23:01:17.946Z"
   },
   {
    "duration": 15,
    "start_time": "2022-09-12T23:04:59.289Z"
   },
   {
    "duration": 170,
    "start_time": "2022-09-12T23:06:30.244Z"
   },
   {
    "duration": 1611,
    "start_time": "2022-09-12T23:06:34.316Z"
   },
   {
    "duration": 1585,
    "start_time": "2022-09-12T23:07:26.844Z"
   },
   {
    "duration": 871,
    "start_time": "2022-09-12T23:07:51.258Z"
   },
   {
    "duration": 1784,
    "start_time": "2022-09-12T23:08:01.442Z"
   },
   {
    "duration": 868,
    "start_time": "2022-09-12T23:08:12.659Z"
   },
   {
    "duration": 1331,
    "start_time": "2022-09-12T23:08:20.398Z"
   },
   {
    "duration": 2296,
    "start_time": "2022-09-12T23:08:27.929Z"
   },
   {
    "duration": 910,
    "start_time": "2022-09-12T23:15:15.194Z"
   },
   {
    "duration": 782,
    "start_time": "2022-09-12T23:15:27.753Z"
   },
   {
    "duration": 3896,
    "start_time": "2022-09-12T23:20:57.326Z"
   },
   {
    "duration": 1346,
    "start_time": "2022-09-12T23:23:30.578Z"
   },
   {
    "duration": 1666,
    "start_time": "2022-09-12T23:23:41.356Z"
   },
   {
    "duration": 4,
    "start_time": "2022-09-12T23:29:36.854Z"
   },
   {
    "duration": 1545,
    "start_time": "2022-09-13T06:51:50.201Z"
   },
   {
    "duration": 35,
    "start_time": "2022-09-13T06:51:51.748Z"
   },
   {
    "duration": 169,
    "start_time": "2022-09-13T06:51:51.785Z"
   },
   {
    "duration": 499,
    "start_time": "2022-09-13T06:51:51.957Z"
   },
   {
    "duration": 13,
    "start_time": "2022-09-13T06:51:52.458Z"
   },
   {
    "duration": 1502,
    "start_time": "2022-09-13T06:51:52.473Z"
   },
   {
    "duration": 1297,
    "start_time": "2022-09-13T06:51:53.977Z"
   },
   {
    "duration": 401,
    "start_time": "2022-09-13T06:51:55.275Z"
   },
   {
    "duration": 3,
    "start_time": "2022-09-13T06:51:55.678Z"
   },
   {
    "duration": 243,
    "start_time": "2022-09-13T06:51:55.683Z"
   },
   {
    "duration": 2,
    "start_time": "2022-09-13T06:51:55.928Z"
   },
   {
    "duration": 2198,
    "start_time": "2022-09-13T06:51:55.932Z"
   },
   {
    "duration": 5,
    "start_time": "2022-09-13T06:51:58.222Z"
   },
   {
    "duration": 1514,
    "start_time": "2022-09-13T06:54:55.607Z"
   },
   {
    "duration": 2090,
    "start_time": "2022-09-13T07:01:19.839Z"
   },
   {
    "duration": 1641,
    "start_time": "2022-09-13T07:01:28.980Z"
   },
   {
    "duration": 1444,
    "start_time": "2022-09-13T07:03:13.286Z"
   },
   {
    "duration": 5,
    "start_time": "2022-09-13T07:11:49.899Z"
   },
   {
    "duration": 278,
    "start_time": "2022-09-13T07:20:17.214Z"
   },
   {
    "duration": 4,
    "start_time": "2022-09-13T07:23:48.335Z"
   },
   {
    "duration": 263,
    "start_time": "2022-09-13T07:25:37.499Z"
   },
   {
    "duration": 361,
    "start_time": "2022-09-13T07:25:46.078Z"
   },
   {
    "duration": 233,
    "start_time": "2022-09-13T07:25:56.791Z"
   },
   {
    "duration": 253,
    "start_time": "2022-09-13T07:26:17.849Z"
   },
   {
    "duration": 3,
    "start_time": "2022-09-13T07:30:09.351Z"
   },
   {
    "duration": 130,
    "start_time": "2022-09-13T07:34:21.196Z"
   },
   {
    "duration": 221,
    "start_time": "2022-09-13T07:35:29.491Z"
   },
   {
    "duration": 7,
    "start_time": "2022-09-13T07:35:40.960Z"
   },
   {
    "duration": 7,
    "start_time": "2022-09-13T07:38:36.925Z"
   },
   {
    "duration": 12,
    "start_time": "2022-09-13T07:39:28.797Z"
   },
   {
    "duration": 20,
    "start_time": "2022-09-13T07:40:50.815Z"
   },
   {
    "duration": 17,
    "start_time": "2022-09-13T07:40:54.844Z"
   },
   {
    "duration": 35,
    "start_time": "2022-09-13T07:41:36.011Z"
   },
   {
    "duration": 40,
    "start_time": "2022-09-13T07:42:11.123Z"
   },
   {
    "duration": 46,
    "start_time": "2022-09-13T07:43:30.218Z"
   },
   {
    "duration": 38,
    "start_time": "2022-09-13T07:43:37.058Z"
   },
   {
    "duration": 101,
    "start_time": "2022-09-13T07:46:39.534Z"
   },
   {
    "duration": 90,
    "start_time": "2022-09-13T07:46:46.260Z"
   },
   {
    "duration": 31,
    "start_time": "2022-09-13T07:46:51.132Z"
   },
   {
    "duration": 38,
    "start_time": "2022-09-13T07:47:13.012Z"
   },
   {
    "duration": 9,
    "start_time": "2022-09-13T07:52:35.838Z"
   },
   {
    "duration": 38,
    "start_time": "2022-09-13T07:52:50.527Z"
   },
   {
    "duration": 3,
    "start_time": "2022-09-13T07:55:25.071Z"
   },
   {
    "duration": 17,
    "start_time": "2022-09-13T07:55:42.963Z"
   },
   {
    "duration": 4,
    "start_time": "2022-09-13T08:00:11.638Z"
   },
   {
    "duration": 66,
    "start_time": "2022-09-13T08:02:22.496Z"
   },
   {
    "duration": 32,
    "start_time": "2022-09-13T08:06:38.008Z"
   },
   {
    "duration": 3,
    "start_time": "2022-09-13T08:35:16.104Z"
   },
   {
    "duration": 3,
    "start_time": "2022-09-13T08:35:50.232Z"
   },
   {
    "duration": 697,
    "start_time": "2022-09-13T08:37:11.008Z"
   },
   {
    "duration": 6,
    "start_time": "2022-09-13T08:41:47.738Z"
   },
   {
    "duration": 557,
    "start_time": "2022-09-13T08:51:46.809Z"
   },
   {
    "duration": 734,
    "start_time": "2022-09-13T08:51:56.440Z"
   },
   {
    "duration": 747,
    "start_time": "2022-09-13T08:54:57.235Z"
   },
   {
    "duration": 765,
    "start_time": "2022-09-13T08:55:17.871Z"
   },
   {
    "duration": 376,
    "start_time": "2022-09-13T09:02:05.854Z"
   },
   {
    "duration": 4,
    "start_time": "2022-09-13T09:02:18.231Z"
   },
   {
    "duration": 182,
    "start_time": "2022-09-13T09:02:18.238Z"
   },
   {
    "duration": 79,
    "start_time": "2022-09-13T09:02:18.423Z"
   },
   {
    "duration": 655,
    "start_time": "2022-09-13T09:02:18.504Z"
   },
   {
    "duration": 19,
    "start_time": "2022-09-13T09:02:19.162Z"
   },
   {
    "duration": 836,
    "start_time": "2022-09-13T09:02:19.184Z"
   },
   {
    "duration": 831,
    "start_time": "2022-09-13T09:02:20.023Z"
   },
   {
    "duration": 406,
    "start_time": "2022-09-13T09:02:20.855Z"
   },
   {
    "duration": 271,
    "start_time": "2022-09-13T09:02:21.263Z"
   },
   {
    "duration": 1632,
    "start_time": "2022-09-13T09:02:37.806Z"
   },
   {
    "duration": 33,
    "start_time": "2022-09-13T09:02:39.440Z"
   },
   {
    "duration": 79,
    "start_time": "2022-09-13T09:02:39.475Z"
   },
   {
    "duration": 500,
    "start_time": "2022-09-13T09:02:39.555Z"
   },
   {
    "duration": 67,
    "start_time": "2022-09-13T09:02:40.057Z"
   },
   {
    "duration": 1711,
    "start_time": "2022-09-13T09:02:40.126Z"
   },
   {
    "duration": 1028,
    "start_time": "2022-09-13T09:02:41.839Z"
   },
   {
    "duration": 402,
    "start_time": "2022-09-13T09:02:42.868Z"
   },
   {
    "duration": 294,
    "start_time": "2022-09-13T09:02:43.273Z"
   },
   {
    "duration": 278,
    "start_time": "2022-09-13T09:02:43.569Z"
   },
   {
    "duration": 4,
    "start_time": "2022-09-13T09:02:43.850Z"
   },
   {
    "duration": 62,
    "start_time": "2022-09-13T09:02:43.856Z"
   },
   {
    "duration": 34,
    "start_time": "2022-09-13T09:02:43.920Z"
   },
   {
    "duration": 6,
    "start_time": "2022-09-13T09:02:43.956Z"
   },
   {
    "duration": 101,
    "start_time": "2022-09-13T09:02:43.964Z"
   },
   {
    "duration": 0,
    "start_time": "2022-09-13T09:02:44.067Z"
   },
   {
    "duration": 0,
    "start_time": "2022-09-13T09:02:44.068Z"
   },
   {
    "duration": 17,
    "start_time": "2022-09-13T09:05:53.567Z"
   },
   {
    "duration": 365,
    "start_time": "2022-09-13T09:10:09.210Z"
   },
   {
    "duration": 308,
    "start_time": "2022-09-13T09:10:38.792Z"
   },
   {
    "duration": 308,
    "start_time": "2022-09-13T09:11:58.990Z"
   },
   {
    "duration": 262,
    "start_time": "2022-09-13T09:12:17.842Z"
   },
   {
    "duration": 259,
    "start_time": "2022-09-13T09:13:08.266Z"
   },
   {
    "duration": 272,
    "start_time": "2022-09-13T09:13:26.134Z"
   },
   {
    "duration": 241,
    "start_time": "2022-09-13T09:14:38.557Z"
   },
   {
    "duration": 304,
    "start_time": "2022-09-13T09:15:05.075Z"
   },
   {
    "duration": 334,
    "start_time": "2022-09-13T09:15:19.107Z"
   },
   {
    "duration": 405,
    "start_time": "2022-09-13T09:15:38.289Z"
   },
   {
    "duration": 282,
    "start_time": "2022-09-13T09:15:45.315Z"
   },
   {
    "duration": 244,
    "start_time": "2022-09-13T09:25:51.762Z"
   },
   {
    "duration": 238,
    "start_time": "2022-09-13T09:26:01.259Z"
   },
   {
    "duration": 266,
    "start_time": "2022-09-13T09:26:25.429Z"
   },
   {
    "duration": 552,
    "start_time": "2022-09-13T09:27:00.655Z"
   },
   {
    "duration": 989,
    "start_time": "2022-09-13T09:28:33.518Z"
   },
   {
    "duration": 864,
    "start_time": "2022-09-13T09:28:51.329Z"
   },
   {
    "duration": 36,
    "start_time": "2022-09-13T09:30:02.168Z"
   },
   {
    "duration": 4,
    "start_time": "2022-09-13T09:30:13.951Z"
   },
   {
    "duration": 45,
    "start_time": "2022-09-13T09:30:13.957Z"
   },
   {
    "duration": 72,
    "start_time": "2022-09-13T09:30:14.004Z"
   },
   {
    "duration": 433,
    "start_time": "2022-09-13T09:30:14.078Z"
   },
   {
    "duration": 11,
    "start_time": "2022-09-13T09:30:14.520Z"
   },
   {
    "duration": 732,
    "start_time": "2022-09-13T09:30:14.532Z"
   },
   {
    "duration": 1366,
    "start_time": "2022-09-13T09:30:15.266Z"
   },
   {
    "duration": 707,
    "start_time": "2022-09-13T09:30:16.634Z"
   },
   {
    "duration": 525,
    "start_time": "2022-09-13T09:30:17.343Z"
   },
   {
    "duration": 5,
    "start_time": "2022-09-13T09:30:17.869Z"
   },
   {
    "duration": 915,
    "start_time": "2022-09-13T09:30:17.876Z"
   },
   {
    "duration": 22,
    "start_time": "2022-09-13T09:30:20.777Z"
   },
   {
    "duration": 9,
    "start_time": "2022-09-13T09:32:58.999Z"
   },
   {
    "duration": 5,
    "start_time": "2022-09-13T09:35:49.974Z"
   },
   {
    "duration": 15,
    "start_time": "2022-09-13T09:45:59.075Z"
   },
   {
    "duration": 6,
    "start_time": "2022-09-13T09:46:28.088Z"
   },
   {
    "duration": 11,
    "start_time": "2022-09-13T09:46:31.980Z"
   },
   {
    "duration": 12,
    "start_time": "2022-09-13T09:46:42.301Z"
   },
   {
    "duration": 4,
    "start_time": "2022-09-13T09:46:44.932Z"
   },
   {
    "duration": 13,
    "start_time": "2022-09-13T09:46:46.574Z"
   },
   {
    "duration": 20,
    "start_time": "2022-09-13T09:50:15.348Z"
   },
   {
    "duration": 438,
    "start_time": "2022-09-13T09:50:50.808Z"
   },
   {
    "duration": 283,
    "start_time": "2022-09-13T09:51:20.293Z"
   },
   {
    "duration": 5,
    "start_time": "2022-09-13T09:51:55.473Z"
   },
   {
    "duration": 9,
    "start_time": "2022-09-13T09:53:02.198Z"
   },
   {
    "duration": 8,
    "start_time": "2022-09-13T09:53:19.268Z"
   },
   {
    "duration": 6,
    "start_time": "2022-09-13T09:55:09.020Z"
   },
   {
    "duration": 4,
    "start_time": "2022-09-13T09:56:38.324Z"
   },
   {
    "duration": 25,
    "start_time": "2022-09-13T09:56:39.467Z"
   },
   {
    "duration": 22,
    "start_time": "2022-09-13T09:56:59.382Z"
   },
   {
    "duration": 4,
    "start_time": "2022-09-13T09:58:49.468Z"
   },
   {
    "duration": 40,
    "start_time": "2022-09-13T10:06:17.069Z"
   },
   {
    "duration": 3,
    "start_time": "2022-09-13T10:10:28.435Z"
   },
   {
    "duration": 24,
    "start_time": "2022-09-13T10:11:51.066Z"
   },
   {
    "duration": 29,
    "start_time": "2022-09-13T10:13:40.152Z"
   },
   {
    "duration": 3,
    "start_time": "2022-09-13T10:14:01.643Z"
   },
   {
    "duration": 28,
    "start_time": "2022-09-13T10:14:04.107Z"
   },
   {
    "duration": 3,
    "start_time": "2022-09-13T10:14:14.293Z"
   },
   {
    "duration": 27,
    "start_time": "2022-09-13T10:14:14.903Z"
   },
   {
    "duration": 3,
    "start_time": "2022-09-13T10:14:20.751Z"
   },
   {
    "duration": 28,
    "start_time": "2022-09-13T10:14:21.649Z"
   },
   {
    "duration": 3,
    "start_time": "2022-09-13T10:14:28.951Z"
   },
   {
    "duration": 37,
    "start_time": "2022-09-13T10:14:30.407Z"
   },
   {
    "duration": 4,
    "start_time": "2022-09-13T10:14:41.153Z"
   },
   {
    "duration": 31,
    "start_time": "2022-09-13T10:14:41.672Z"
   },
   {
    "duration": 5,
    "start_time": "2022-09-13T10:15:21.208Z"
   },
   {
    "duration": 93,
    "start_time": "2022-09-13T10:15:21.215Z"
   },
   {
    "duration": 94,
    "start_time": "2022-09-13T10:15:21.311Z"
   },
   {
    "duration": 777,
    "start_time": "2022-09-13T10:15:21.408Z"
   },
   {
    "duration": 16,
    "start_time": "2022-09-13T10:15:22.190Z"
   },
   {
    "duration": 1056,
    "start_time": "2022-09-13T10:15:22.209Z"
   },
   {
    "duration": 1768,
    "start_time": "2022-09-13T10:15:23.268Z"
   },
   {
    "duration": 917,
    "start_time": "2022-09-13T10:15:25.039Z"
   },
   {
    "duration": 875,
    "start_time": "2022-09-13T10:15:25.958Z"
   },
   {
    "duration": 5,
    "start_time": "2022-09-13T10:15:26.835Z"
   },
   {
    "duration": 1923,
    "start_time": "2022-09-13T10:15:26.843Z"
   },
   {
    "duration": 53,
    "start_time": "2022-09-13T10:15:28.768Z"
   },
   {
    "duration": 42,
    "start_time": "2022-09-13T10:15:28.827Z"
   },
   {
    "duration": 108,
    "start_time": "2022-09-13T10:15:28.873Z"
   },
   {
    "duration": 65,
    "start_time": "2022-09-13T10:15:28.986Z"
   },
   {
    "duration": 36,
    "start_time": "2022-09-13T10:15:29.053Z"
   },
   {
    "duration": 71,
    "start_time": "2022-09-13T10:15:29.091Z"
   },
   {
    "duration": 68,
    "start_time": "2022-09-13T10:15:29.165Z"
   },
   {
    "duration": 258,
    "start_time": "2022-09-13T10:15:29.235Z"
   },
   {
    "duration": 0,
    "start_time": "2022-09-13T10:15:29.496Z"
   },
   {
    "duration": 5,
    "start_time": "2022-09-13T10:16:08.508Z"
   },
   {
    "duration": 4,
    "start_time": "2022-09-13T10:16:19.800Z"
   },
   {
    "duration": 29,
    "start_time": "2022-09-13T10:16:20.873Z"
   },
   {
    "duration": 3,
    "start_time": "2022-09-13T10:16:28.757Z"
   },
   {
    "duration": 33,
    "start_time": "2022-09-13T10:16:29.547Z"
   },
   {
    "duration": 3,
    "start_time": "2022-09-13T10:16:35.866Z"
   },
   {
    "duration": 28,
    "start_time": "2022-09-13T10:16:37.492Z"
   },
   {
    "duration": 19,
    "start_time": "2022-09-13T10:20:27.446Z"
   },
   {
    "duration": 3,
    "start_time": "2022-09-13T10:20:31.496Z"
   },
   {
    "duration": 116,
    "start_time": "2022-09-13T10:20:31.851Z"
   },
   {
    "duration": 238,
    "start_time": "2022-09-13T10:21:04.086Z"
   },
   {
    "duration": 249,
    "start_time": "2022-09-13T10:23:01.298Z"
   },
   {
    "duration": 310,
    "start_time": "2022-09-13T10:25:49.649Z"
   },
   {
    "duration": 228,
    "start_time": "2022-09-13T10:26:06.663Z"
   },
   {
    "duration": 966,
    "start_time": "2022-09-13T10:32:41.943Z"
   },
   {
    "duration": 1654,
    "start_time": "2022-09-13T10:35:53.249Z"
   },
   {
    "duration": 43,
    "start_time": "2022-09-13T10:35:54.905Z"
   },
   {
    "duration": 86,
    "start_time": "2022-09-13T10:35:54.950Z"
   },
   {
    "duration": 610,
    "start_time": "2022-09-13T10:35:55.038Z"
   },
   {
    "duration": 20,
    "start_time": "2022-09-13T10:35:55.651Z"
   },
   {
    "duration": 1454,
    "start_time": "2022-09-13T10:35:55.674Z"
   },
   {
    "duration": 2200,
    "start_time": "2022-09-13T10:35:57.141Z"
   },
   {
    "duration": 882,
    "start_time": "2022-09-13T10:35:59.343Z"
   },
   {
    "duration": 600,
    "start_time": "2022-09-13T10:36:00.235Z"
   },
   {
    "duration": 7,
    "start_time": "2022-09-13T10:36:00.837Z"
   },
   {
    "duration": 1490,
    "start_time": "2022-09-13T10:36:00.847Z"
   },
   {
    "duration": 20,
    "start_time": "2022-09-13T10:36:02.339Z"
   },
   {
    "duration": 64,
    "start_time": "2022-09-13T10:36:02.361Z"
   },
   {
    "duration": 25,
    "start_time": "2022-09-13T10:36:02.428Z"
   },
   {
    "duration": 29,
    "start_time": "2022-09-13T10:36:02.455Z"
   },
   {
    "duration": 23,
    "start_time": "2022-09-13T10:36:02.486Z"
   },
   {
    "duration": 39,
    "start_time": "2022-09-13T10:36:02.511Z"
   },
   {
    "duration": 216,
    "start_time": "2022-09-13T10:36:02.552Z"
   },
   {
    "duration": 249,
    "start_time": "2022-09-13T10:36:02.821Z"
   },
   {
    "duration": 960,
    "start_time": "2022-09-13T10:36:03.072Z"
   },
   {
    "duration": 2001,
    "start_time": "2022-09-13T10:36:04.034Z"
   },
   {
    "duration": 0,
    "start_time": "2022-09-13T10:36:06.042Z"
   },
   {
    "duration": 36686,
    "start_time": "2022-09-13T10:36:07.807Z"
   },
   {
    "duration": 180916,
    "start_time": "2022-09-13T10:38:41.529Z"
   },
   {
    "duration": 48,
    "start_time": "2022-09-14T11:28:21.090Z"
   },
   {
    "duration": 1792,
    "start_time": "2022-09-14T11:28:25.128Z"
   },
   {
    "duration": 40,
    "start_time": "2022-09-14T11:28:26.922Z"
   },
   {
    "duration": 184,
    "start_time": "2022-09-14T11:28:26.964Z"
   },
   {
    "duration": 457,
    "start_time": "2022-09-14T11:28:27.150Z"
   },
   {
    "duration": 18,
    "start_time": "2022-09-14T11:28:27.609Z"
   },
   {
    "duration": 10,
    "start_time": "2022-09-14T11:28:29.961Z"
   },
   {
    "duration": 95,
    "start_time": "2022-09-14T11:31:26.160Z"
   },
   {
    "duration": 354,
    "start_time": "2022-09-14T11:31:54.728Z"
   },
   {
    "duration": 234,
    "start_time": "2022-09-14T11:36:42.655Z"
   },
   {
    "duration": 246,
    "start_time": "2022-09-14T11:36:57.157Z"
   },
   {
    "duration": 96,
    "start_time": "2022-09-14T11:46:49.246Z"
   },
   {
    "duration": 4,
    "start_time": "2022-09-14T11:47:00.244Z"
   },
   {
    "duration": 74,
    "start_time": "2022-09-14T11:47:00.250Z"
   },
   {
    "duration": 76,
    "start_time": "2022-09-14T11:47:00.325Z"
   },
   {
    "duration": 434,
    "start_time": "2022-09-14T11:47:00.403Z"
   },
   {
    "duration": 11,
    "start_time": "2022-09-14T11:47:00.839Z"
   },
   {
    "duration": 795,
    "start_time": "2022-09-14T11:47:00.851Z"
   },
   {
    "duration": 978,
    "start_time": "2022-09-14T11:47:01.648Z"
   },
   {
    "duration": 411,
    "start_time": "2022-09-14T11:47:05.320Z"
   },
   {
    "duration": 468,
    "start_time": "2022-09-14T11:47:27.179Z"
   },
   {
    "duration": 556,
    "start_time": "2022-09-14T11:48:09.006Z"
   },
   {
    "duration": 541,
    "start_time": "2022-09-14T11:49:10.536Z"
   },
   {
    "duration": 655,
    "start_time": "2022-09-14T12:00:04.551Z"
   },
   {
    "duration": 630,
    "start_time": "2022-09-14T12:00:36.287Z"
   },
   {
    "duration": 822,
    "start_time": "2022-09-14T12:01:40.976Z"
   },
   {
    "duration": 862,
    "start_time": "2022-09-14T12:01:52.242Z"
   },
   {
    "duration": 977,
    "start_time": "2022-09-14T12:02:25.705Z"
   },
   {
    "duration": 756,
    "start_time": "2022-09-14T12:02:33.275Z"
   },
   {
    "duration": 723,
    "start_time": "2022-09-14T12:02:45.930Z"
   },
   {
    "duration": 748,
    "start_time": "2022-09-14T12:02:52.771Z"
   },
   {
    "duration": 841,
    "start_time": "2022-09-14T12:08:17.354Z"
   },
   {
    "duration": 400,
    "start_time": "2022-09-14T12:15:17.292Z"
   },
   {
    "duration": 376,
    "start_time": "2022-09-14T12:15:32.445Z"
   },
   {
    "duration": 275,
    "start_time": "2022-09-14T12:16:03.407Z"
   },
   {
    "duration": 280,
    "start_time": "2022-09-14T12:16:14.812Z"
   },
   {
    "duration": 291,
    "start_time": "2022-09-14T12:16:33.767Z"
   },
   {
    "duration": 276,
    "start_time": "2022-09-14T12:16:40.171Z"
   },
   {
    "duration": 32,
    "start_time": "2022-09-14T12:23:21.136Z"
   },
   {
    "duration": 235,
    "start_time": "2022-09-14T12:26:23.064Z"
   },
   {
    "duration": 830,
    "start_time": "2022-09-14T12:26:49.688Z"
   },
   {
    "duration": 984,
    "start_time": "2022-09-14T12:26:59.616Z"
   },
   {
    "duration": 808,
    "start_time": "2022-09-14T12:27:26.423Z"
   },
   {
    "duration": 823,
    "start_time": "2022-09-14T12:27:32.275Z"
   },
   {
    "duration": 140,
    "start_time": "2022-09-14T12:28:45.335Z"
   },
   {
    "duration": 11,
    "start_time": "2022-09-14T12:29:17.672Z"
   },
   {
    "duration": 128,
    "start_time": "2022-09-14T12:30:08.031Z"
   },
   {
    "duration": 809,
    "start_time": "2022-09-14T12:30:12.278Z"
   },
   {
    "duration": 1014,
    "start_time": "2022-09-14T12:30:19.140Z"
   },
   {
    "duration": 1288,
    "start_time": "2022-09-14T12:31:10.494Z"
   },
   {
    "duration": 1162,
    "start_time": "2022-09-14T12:31:13.944Z"
   },
   {
    "duration": 1286,
    "start_time": "2022-09-14T12:31:21.311Z"
   },
   {
    "duration": 842,
    "start_time": "2022-09-14T12:31:37.759Z"
   },
   {
    "duration": 889,
    "start_time": "2022-09-14T12:31:48.941Z"
   },
   {
    "duration": 901,
    "start_time": "2022-09-14T12:32:05.726Z"
   },
   {
    "duration": 996,
    "start_time": "2022-09-14T12:33:04.836Z"
   },
   {
    "duration": 855,
    "start_time": "2022-09-14T12:33:23.770Z"
   },
   {
    "duration": 898,
    "start_time": "2022-09-14T12:33:32.509Z"
   },
   {
    "duration": 867,
    "start_time": "2022-09-14T12:34:53.055Z"
   },
   {
    "duration": 936,
    "start_time": "2022-09-14T12:36:11.390Z"
   },
   {
    "duration": 193,
    "start_time": "2022-09-14T12:37:19.560Z"
   },
   {
    "duration": 1124,
    "start_time": "2022-09-14T12:37:57.285Z"
   },
   {
    "duration": 915,
    "start_time": "2022-09-14T12:38:05.001Z"
   },
   {
    "duration": 18,
    "start_time": "2022-09-14T12:44:54.242Z"
   },
   {
    "duration": 150,
    "start_time": "2022-09-14T12:46:50.508Z"
   },
   {
    "duration": 4,
    "start_time": "2022-09-14T12:47:31.486Z"
   },
   {
    "duration": 9,
    "start_time": "2022-09-14T12:47:57.617Z"
   },
   {
    "duration": 8,
    "start_time": "2022-09-14T12:47:59.062Z"
   },
   {
    "duration": 3,
    "start_time": "2022-09-14T13:12:40.088Z"
   },
   {
    "duration": 160,
    "start_time": "2022-09-14T13:27:47.661Z"
   },
   {
    "duration": 3,
    "start_time": "2022-09-14T13:28:45.646Z"
   },
   {
    "duration": 86,
    "start_time": "2022-09-14T13:28:46.268Z"
   },
   {
    "duration": 5,
    "start_time": "2022-09-14T13:29:17.098Z"
   },
   {
    "duration": 14,
    "start_time": "2022-09-14T13:30:16.046Z"
   },
   {
    "duration": 5,
    "start_time": "2022-09-14T13:30:57.916Z"
   },
   {
    "duration": 924,
    "start_time": "2022-09-14T13:30:58.601Z"
   },
   {
    "duration": 18,
    "start_time": "2022-09-14T13:31:04.162Z"
   },
   {
    "duration": 3,
    "start_time": "2022-09-14T13:31:13.898Z"
   },
   {
    "duration": 3,
    "start_time": "2022-09-14T13:31:26.635Z"
   },
   {
    "duration": 5,
    "start_time": "2022-09-14T13:31:27.056Z"
   },
   {
    "duration": 40,
    "start_time": "2022-09-14T13:31:31.089Z"
   },
   {
    "duration": 4,
    "start_time": "2022-09-14T13:32:04.970Z"
   },
   {
    "duration": 230,
    "start_time": "2022-09-14T13:32:14.997Z"
   },
   {
    "duration": 197,
    "start_time": "2022-09-14T13:33:13.840Z"
   },
   {
    "duration": 5,
    "start_time": "2022-09-14T13:35:27.657Z"
   },
   {
    "duration": 170,
    "start_time": "2022-09-14T13:35:32.670Z"
   },
   {
    "duration": 5,
    "start_time": "2022-09-14T13:36:08.674Z"
   },
   {
    "duration": 208,
    "start_time": "2022-09-14T13:36:12.428Z"
   },
   {
    "duration": 5,
    "start_time": "2022-09-14T13:36:35.705Z"
   },
   {
    "duration": 219,
    "start_time": "2022-09-14T13:36:38.314Z"
   },
   {
    "duration": 5,
    "start_time": "2022-09-14T13:42:39.837Z"
   },
   {
    "duration": 165,
    "start_time": "2022-09-14T13:42:45.461Z"
   },
   {
    "duration": 177,
    "start_time": "2022-09-14T13:42:53.750Z"
   },
   {
    "duration": 174,
    "start_time": "2022-09-14T13:43:20.350Z"
   },
   {
    "duration": 6,
    "start_time": "2022-09-14T13:43:48.747Z"
   },
   {
    "duration": 153,
    "start_time": "2022-09-14T13:43:54.415Z"
   },
   {
    "duration": 92,
    "start_time": "2022-09-14T13:47:34.360Z"
   },
   {
    "duration": 7,
    "start_time": "2022-09-14T13:47:42.268Z"
   },
   {
    "duration": 205,
    "start_time": "2022-09-14T13:47:46.020Z"
   },
   {
    "duration": 5,
    "start_time": "2022-09-14T13:48:01.979Z"
   },
   {
    "duration": 243,
    "start_time": "2022-09-14T13:48:07.688Z"
   },
   {
    "duration": 161,
    "start_time": "2022-09-14T13:48:11.788Z"
   },
   {
    "duration": 175,
    "start_time": "2022-09-14T13:49:10.620Z"
   },
   {
    "duration": 1193,
    "start_time": "2022-09-14T13:52:16.118Z"
   },
   {
    "duration": 853,
    "start_time": "2022-09-14T13:53:44.064Z"
   },
   {
    "duration": 138,
    "start_time": "2022-09-14T13:56:38.898Z"
   },
   {
    "duration": 4,
    "start_time": "2022-09-14T13:57:16.487Z"
   },
   {
    "duration": 172,
    "start_time": "2022-09-14T13:57:20.645Z"
   },
   {
    "duration": 152,
    "start_time": "2022-09-14T13:57:24.285Z"
   },
   {
    "duration": 170,
    "start_time": "2022-09-14T13:57:31.875Z"
   },
   {
    "duration": 1187,
    "start_time": "2022-09-14T13:57:47.915Z"
   },
   {
    "duration": 883,
    "start_time": "2022-09-14T13:58:45.039Z"
   },
   {
    "duration": 36796,
    "start_time": "2022-09-14T13:59:39.759Z"
   },
   {
    "duration": 16798,
    "start_time": "2022-09-14T14:01:53.686Z"
   },
   {
    "duration": 189521,
    "start_time": "2022-09-14T14:02:56.632Z"
   },
   {
    "duration": 19,
    "start_time": "2022-09-14T14:18:56.043Z"
   },
   {
    "duration": 1672,
    "start_time": "2022-09-14T14:23:17.196Z"
   },
   {
    "duration": 18,
    "start_time": "2022-09-14T14:23:58.659Z"
   },
   {
    "duration": 15,
    "start_time": "2022-09-14T14:24:34.532Z"
   },
   {
    "duration": 6,
    "start_time": "2022-09-14T14:24:48.331Z"
   },
   {
    "duration": 16,
    "start_time": "2022-09-14T14:25:03.798Z"
   },
   {
    "duration": 16,
    "start_time": "2022-09-14T14:29:17.454Z"
   },
   {
    "duration": 10,
    "start_time": "2022-09-14T14:31:33.838Z"
   },
   {
    "duration": 15,
    "start_time": "2022-09-14T14:31:58.941Z"
   },
   {
    "duration": 9,
    "start_time": "2022-09-14T14:34:42.403Z"
   },
   {
    "duration": 6,
    "start_time": "2022-09-14T14:34:58.605Z"
   },
   {
    "duration": 239,
    "start_time": "2022-09-14T14:35:22.396Z"
   },
   {
    "duration": 949,
    "start_time": "2022-09-14T14:37:26.477Z"
   },
   {
    "duration": 5,
    "start_time": "2022-09-14T14:38:53.842Z"
   },
   {
    "duration": 255,
    "start_time": "2022-09-14T14:39:03.676Z"
   },
   {
    "duration": 180,
    "start_time": "2022-09-14T14:39:12.804Z"
   },
   {
    "duration": 960,
    "start_time": "2022-09-14T14:39:49.439Z"
   },
   {
    "duration": 28132,
    "start_time": "2022-09-14T14:41:56.436Z"
   },
   {
    "duration": 16,
    "start_time": "2022-09-14T14:44:10.843Z"
   },
   {
    "duration": 30,
    "start_time": "2022-09-14T15:03:53.997Z"
   },
   {
    "duration": 19,
    "start_time": "2022-09-14T15:04:02.376Z"
   },
   {
    "duration": 4,
    "start_time": "2022-09-14T15:04:16.352Z"
   },
   {
    "duration": 244,
    "start_time": "2022-09-14T15:10:53.110Z"
   },
   {
    "duration": 22,
    "start_time": "2022-09-14T15:11:00.980Z"
   },
   {
    "duration": 281,
    "start_time": "2022-09-14T15:12:31.761Z"
   },
   {
    "duration": 16,
    "start_time": "2022-09-14T15:12:35.234Z"
   },
   {
    "duration": 16,
    "start_time": "2022-09-14T15:16:11.152Z"
   },
   {
    "duration": 19,
    "start_time": "2022-09-14T15:16:43.302Z"
   },
   {
    "duration": 170010,
    "start_time": "2022-09-14T15:17:20.600Z"
   },
   {
    "duration": 21,
    "start_time": "2022-09-14T15:20:30.860Z"
   },
   {
    "duration": 18,
    "start_time": "2022-09-14T15:21:16.965Z"
   },
   {
    "duration": 24,
    "start_time": "2022-09-14T15:23:11.493Z"
   },
   {
    "duration": 16,
    "start_time": "2022-09-14T15:40:36.025Z"
   },
   {
    "duration": 2312,
    "start_time": "2022-09-14T15:47:41.227Z"
   },
   {
    "duration": 24,
    "start_time": "2022-09-14T15:48:24.733Z"
   },
   {
    "duration": 2128,
    "start_time": "2022-09-14T15:52:50.024Z"
   },
   {
    "duration": 1580,
    "start_time": "2022-09-14T17:45:38.445Z"
   },
   {
    "duration": 11,
    "start_time": "2022-09-14T17:45:52.738Z"
   },
   {
    "duration": 1400,
    "start_time": "2022-09-14T17:46:04.952Z"
   },
   {
    "duration": 13,
    "start_time": "2022-09-14T17:46:22.340Z"
   },
   {
    "duration": 1301,
    "start_time": "2022-09-14T17:46:26.572Z"
   },
   {
    "duration": 9,
    "start_time": "2022-09-14T17:48:28.363Z"
   },
   {
    "duration": 9,
    "start_time": "2022-09-14T21:17:37.266Z"
   },
   {
    "duration": 38,
    "start_time": "2022-09-14T21:17:50.035Z"
   },
   {
    "duration": 1550,
    "start_time": "2022-09-14T21:17:56.373Z"
   },
   {
    "duration": 41,
    "start_time": "2022-09-14T21:17:57.925Z"
   },
   {
    "duration": 178,
    "start_time": "2022-09-14T21:17:57.968Z"
   },
   {
    "duration": 472,
    "start_time": "2022-09-14T21:17:58.155Z"
   },
   {
    "duration": 14,
    "start_time": "2022-09-14T21:17:58.629Z"
   },
   {
    "duration": 655,
    "start_time": "2022-09-14T21:17:58.644Z"
   },
   {
    "duration": 839,
    "start_time": "2022-09-14T21:17:59.301Z"
   },
   {
    "duration": 730,
    "start_time": "2022-09-14T21:18:00.141Z"
   },
   {
    "duration": 362,
    "start_time": "2022-09-14T21:18:00.873Z"
   },
   {
    "duration": 4,
    "start_time": "2022-09-14T21:18:01.236Z"
   },
   {
    "duration": 805,
    "start_time": "2022-09-14T21:18:01.241Z"
   },
   {
    "duration": 15,
    "start_time": "2022-09-14T21:18:02.047Z"
   },
   {
    "duration": 5,
    "start_time": "2022-09-14T21:18:02.063Z"
   },
   {
    "duration": 5,
    "start_time": "2022-09-14T21:18:02.070Z"
   },
   {
    "duration": 35,
    "start_time": "2022-09-14T21:18:02.077Z"
   },
   {
    "duration": 8,
    "start_time": "2022-09-14T21:18:02.114Z"
   },
   {
    "duration": 205,
    "start_time": "2022-09-14T21:18:10.517Z"
   },
   {
    "duration": 90,
    "start_time": "2022-09-14T21:18:16.306Z"
   },
   {
    "duration": 4,
    "start_time": "2022-09-14T21:19:13.709Z"
   },
   {
    "duration": 147,
    "start_time": "2022-09-14T21:19:17.209Z"
   },
   {
    "duration": 219,
    "start_time": "2022-09-14T21:19:28.911Z"
   },
   {
    "duration": 144,
    "start_time": "2022-09-14T21:20:57.376Z"
   },
   {
    "duration": 181,
    "start_time": "2022-09-14T21:21:03.439Z"
   },
   {
    "duration": 168,
    "start_time": "2022-09-14T21:21:18.865Z"
   },
   {
    "duration": 9,
    "start_time": "2022-09-14T21:21:28.140Z"
   },
   {
    "duration": 118,
    "start_time": "2022-09-14T21:21:33.756Z"
   },
   {
    "duration": 153,
    "start_time": "2022-09-14T21:22:05.508Z"
   },
   {
    "duration": 889,
    "start_time": "2022-09-14T21:23:21.664Z"
   },
   {
    "duration": 179,
    "start_time": "2022-09-14T21:23:59.953Z"
   },
   {
    "duration": 155,
    "start_time": "2022-09-14T21:24:05.700Z"
   },
   {
    "duration": 871,
    "start_time": "2022-09-14T21:24:10.100Z"
   },
   {
    "duration": 5,
    "start_time": "2022-09-14T21:25:20.341Z"
   },
   {
    "duration": 845,
    "start_time": "2022-09-14T21:25:27.784Z"
   },
   {
    "duration": 23531,
    "start_time": "2022-09-14T21:25:51.543Z"
   },
   {
    "duration": 15904,
    "start_time": "2022-09-14T21:28:54.973Z"
   },
   {
    "duration": 139515,
    "start_time": "2022-09-14T21:29:22.908Z"
   },
   {
    "duration": 17616,
    "start_time": "2022-09-14T21:32:19.311Z"
   },
   {
    "duration": 16267,
    "start_time": "2022-09-14T21:32:55.732Z"
   },
   {
    "duration": 4,
    "start_time": "2022-09-14T21:33:32.083Z"
   },
   {
    "duration": 9,
    "start_time": "2022-09-14T21:35:36.536Z"
   },
   {
    "duration": 24432,
    "start_time": "2022-09-14T21:36:09.069Z"
   },
   {
    "duration": 19,
    "start_time": "2022-09-14T21:36:57.370Z"
   },
   {
    "duration": 16,
    "start_time": "2022-09-14T21:36:59.636Z"
   },
   {
    "duration": 8,
    "start_time": "2022-09-14T21:37:58.096Z"
   },
   {
    "duration": 9,
    "start_time": "2022-09-14T21:38:03.798Z"
   },
   {
    "duration": 11,
    "start_time": "2022-09-14T21:38:08.242Z"
   },
   {
    "duration": 16,
    "start_time": "2022-09-14T21:40:09.809Z"
   },
   {
    "duration": 14,
    "start_time": "2022-09-14T21:40:14.449Z"
   },
   {
    "duration": 13,
    "start_time": "2022-09-14T21:40:22.354Z"
   },
   {
    "duration": 19346,
    "start_time": "2022-09-14T21:41:24.428Z"
   },
   {
    "duration": 18043,
    "start_time": "2022-09-14T21:43:30.078Z"
   },
   {
    "duration": 6,
    "start_time": "2022-09-14T21:43:57.182Z"
   },
   {
    "duration": 4,
    "start_time": "2022-09-14T21:44:42.428Z"
   },
   {
    "duration": 2486,
    "start_time": "2022-09-14T21:45:01.765Z"
   },
   {
    "duration": 2164,
    "start_time": "2022-09-14T21:45:13.166Z"
   },
   {
    "duration": 17071,
    "start_time": "2022-09-14T21:46:55.011Z"
   },
   {
    "duration": 20,
    "start_time": "2022-09-14T21:47:38.062Z"
   },
   {
    "duration": 23,
    "start_time": "2022-09-14T21:47:43.561Z"
   },
   {
    "duration": 16861,
    "start_time": "2022-09-14T21:48:22.381Z"
   },
   {
    "duration": 5,
    "start_time": "2022-09-14T21:52:47.596Z"
   },
   {
    "duration": 208,
    "start_time": "2022-09-14T21:52:55.211Z"
   },
   {
    "duration": 154,
    "start_time": "2022-09-14T21:53:03.809Z"
   },
   {
    "duration": 817,
    "start_time": "2022-09-14T21:53:19.316Z"
   },
   {
    "duration": 22469,
    "start_time": "2022-09-14T21:53:32.240Z"
   },
   {
    "duration": 151294,
    "start_time": "2022-09-14T21:54:03.253Z"
   },
   {
    "duration": 4,
    "start_time": "2022-09-14T21:58:48.592Z"
   },
   {
    "duration": 5,
    "start_time": "2022-09-14T21:59:11.685Z"
   },
   {
    "duration": 21,
    "start_time": "2022-09-14T21:59:17.113Z"
   },
   {
    "duration": 4,
    "start_time": "2022-09-14T21:59:46.298Z"
   },
   {
    "duration": 4,
    "start_time": "2022-09-14T21:59:59.536Z"
   },
   {
    "duration": 21,
    "start_time": "2022-09-14T22:00:04.369Z"
   },
   {
    "duration": 5,
    "start_time": "2022-09-14T22:00:24.413Z"
   },
   {
    "duration": 4,
    "start_time": "2022-09-14T22:00:28.162Z"
   },
   {
    "duration": 214,
    "start_time": "2022-09-14T22:00:31.401Z"
   },
   {
    "duration": 154,
    "start_time": "2022-09-14T22:00:45.661Z"
   },
   {
    "duration": 793,
    "start_time": "2022-09-14T22:01:48.549Z"
   },
   {
    "duration": 23,
    "start_time": "2022-09-14T22:02:06.600Z"
   },
   {
    "duration": 19,
    "start_time": "2022-09-14T22:02:33.452Z"
   },
   {
    "duration": 1631,
    "start_time": "2022-09-14T22:04:20.922Z"
   },
   {
    "duration": 24761,
    "start_time": "2022-09-14T22:05:42.944Z"
   },
   {
    "duration": 20,
    "start_time": "2022-09-14T22:06:35.628Z"
   },
   {
    "duration": 3,
    "start_time": "2022-09-14T22:07:30.030Z"
   },
   {
    "duration": 3,
    "start_time": "2022-09-14T22:07:52.351Z"
   },
   {
    "duration": 14,
    "start_time": "2022-09-14T22:19:36.757Z"
   },
   {
    "duration": 1570,
    "start_time": "2022-09-15T07:57:05.832Z"
   },
   {
    "duration": 29,
    "start_time": "2022-09-15T07:57:07.405Z"
   },
   {
    "duration": 227,
    "start_time": "2022-09-15T07:57:07.436Z"
   },
   {
    "duration": 439,
    "start_time": "2022-09-15T07:57:07.664Z"
   },
   {
    "duration": 15,
    "start_time": "2022-09-15T07:57:08.104Z"
   },
   {
    "duration": 616,
    "start_time": "2022-09-15T07:57:08.120Z"
   },
   {
    "duration": 810,
    "start_time": "2022-09-15T07:57:08.738Z"
   },
   {
    "duration": 705,
    "start_time": "2022-09-15T07:57:09.550Z"
   },
   {
    "duration": 243,
    "start_time": "2022-09-15T07:57:10.256Z"
   },
   {
    "duration": 9,
    "start_time": "2022-09-15T07:57:10.501Z"
   },
   {
    "duration": 867,
    "start_time": "2022-09-15T07:57:10.512Z"
   },
   {
    "duration": 30,
    "start_time": "2022-09-15T07:57:11.381Z"
   },
   {
    "duration": 5,
    "start_time": "2022-09-15T07:57:11.413Z"
   },
   {
    "duration": 7,
    "start_time": "2022-09-15T07:57:11.420Z"
   },
   {
    "duration": 12,
    "start_time": "2022-09-15T07:57:11.429Z"
   },
   {
    "duration": 6,
    "start_time": "2022-09-15T07:57:11.442Z"
   },
   {
    "duration": 259,
    "start_time": "2022-09-15T07:57:11.450Z"
   },
   {
    "duration": 225,
    "start_time": "2022-09-15T07:57:11.711Z"
   },
   {
    "duration": 841,
    "start_time": "2022-09-15T07:57:11.938Z"
   },
   {
    "duration": 22062,
    "start_time": "2022-09-15T07:57:12.781Z"
   },
   {
    "duration": 131465,
    "start_time": "2022-09-15T07:57:34.844Z"
   },
   {
    "duration": 22,
    "start_time": "2022-09-15T07:59:46.311Z"
   },
   {
    "duration": 16,
    "start_time": "2022-09-15T07:59:46.335Z"
   },
   {
    "duration": 27494,
    "start_time": "2022-09-15T07:59:46.353Z"
   },
   {
    "duration": 19,
    "start_time": "2022-09-15T08:00:13.849Z"
   },
   {
    "duration": 8,
    "start_time": "2022-09-15T08:26:25.779Z"
   },
   {
    "duration": 128,
    "start_time": "2022-09-15T08:27:09.124Z"
   },
   {
    "duration": 9,
    "start_time": "2022-09-15T08:27:26.368Z"
   },
   {
    "duration": 9,
    "start_time": "2022-09-15T08:28:33.757Z"
   },
   {
    "duration": 3,
    "start_time": "2022-09-15T08:28:42.064Z"
   },
   {
    "duration": 38,
    "start_time": "2022-09-15T08:28:42.069Z"
   },
   {
    "duration": 67,
    "start_time": "2022-09-15T08:28:42.109Z"
   },
   {
    "duration": 347,
    "start_time": "2022-09-15T08:28:42.177Z"
   },
   {
    "duration": 10,
    "start_time": "2022-09-15T08:28:45.842Z"
   },
   {
    "duration": 7,
    "start_time": "2022-09-15T08:28:51.412Z"
   },
   {
    "duration": 567,
    "start_time": "2022-09-15T08:29:07.606Z"
   },
   {
    "duration": 847,
    "start_time": "2022-09-15T08:29:08.174Z"
   },
   {
    "duration": 628,
    "start_time": "2022-09-15T08:29:09.022Z"
   },
   {
    "duration": 242,
    "start_time": "2022-09-15T08:29:09.652Z"
   },
   {
    "duration": 3,
    "start_time": "2022-09-15T08:29:09.896Z"
   },
   {
    "duration": 792,
    "start_time": "2022-09-15T08:29:09.901Z"
   },
   {
    "duration": 24,
    "start_time": "2022-09-15T08:29:10.694Z"
   },
   {
    "duration": 3,
    "start_time": "2022-09-15T08:29:10.719Z"
   },
   {
    "duration": 5,
    "start_time": "2022-09-15T08:29:10.723Z"
   },
   {
    "duration": 11,
    "start_time": "2022-09-15T08:29:10.730Z"
   },
   {
    "duration": 6,
    "start_time": "2022-09-15T08:29:10.742Z"
   },
   {
    "duration": 203,
    "start_time": "2022-09-15T08:29:10.750Z"
   },
   {
    "duration": 233,
    "start_time": "2022-09-15T08:29:11.009Z"
   },
   {
    "duration": 873,
    "start_time": "2022-09-15T08:29:11.244Z"
   },
   {
    "duration": 23391,
    "start_time": "2022-09-15T08:29:12.118Z"
   },
   {
    "duration": 144483,
    "start_time": "2022-09-15T08:29:35.511Z"
   },
   {
    "duration": 20,
    "start_time": "2022-09-15T08:31:59.996Z"
   },
   {
    "duration": 14,
    "start_time": "2022-09-15T08:32:00.017Z"
   },
   {
    "duration": 26255,
    "start_time": "2022-09-15T08:32:00.033Z"
   },
   {
    "duration": 20,
    "start_time": "2022-09-15T08:32:26.289Z"
   },
   {
    "duration": 18,
    "start_time": "2022-09-15T08:37:13.611Z"
   },
   {
    "duration": 2513,
    "start_time": "2022-09-15T18:25:57.742Z"
   },
   {
    "duration": 100,
    "start_time": "2022-09-15T18:26:00.257Z"
   },
   {
    "duration": 418,
    "start_time": "2022-09-15T18:26:00.359Z"
   },
   {
    "duration": 652,
    "start_time": "2022-09-15T18:26:00.778Z"
   },
   {
    "duration": 15,
    "start_time": "2022-09-15T18:26:01.435Z"
   },
   {
    "duration": 841,
    "start_time": "2022-09-15T18:26:01.452Z"
   },
   {
    "duration": 1113,
    "start_time": "2022-09-15T18:26:02.294Z"
   },
   {
    "duration": 813,
    "start_time": "2022-09-15T18:26:03.415Z"
   },
   {
    "duration": 324,
    "start_time": "2022-09-15T18:26:04.234Z"
   },
   {
    "duration": 3,
    "start_time": "2022-09-15T18:26:04.560Z"
   },
   {
    "duration": 1071,
    "start_time": "2022-09-15T18:26:04.565Z"
   },
   {
    "duration": 16,
    "start_time": "2022-09-15T18:26:05.638Z"
   },
   {
    "duration": 3,
    "start_time": "2022-09-15T18:26:05.656Z"
   },
   {
    "duration": 5,
    "start_time": "2022-09-15T18:26:05.661Z"
   },
   {
    "duration": 39,
    "start_time": "2022-09-15T18:26:05.668Z"
   },
   {
    "duration": 14,
    "start_time": "2022-09-15T18:26:05.708Z"
   },
   {
    "duration": 275,
    "start_time": "2022-09-15T18:26:05.723Z"
   },
   {
    "duration": 254,
    "start_time": "2022-09-15T18:26:06.015Z"
   },
   {
    "duration": 1204,
    "start_time": "2022-09-15T18:26:06.271Z"
   },
   {
    "duration": 37810,
    "start_time": "2022-09-15T18:26:07.477Z"
   },
   {
    "duration": 201467,
    "start_time": "2022-09-15T18:26:45.288Z"
   },
   {
    "duration": 30,
    "start_time": "2022-09-15T18:30:06.758Z"
   },
   {
    "duration": 65,
    "start_time": "2022-09-15T18:30:06.790Z"
   },
   {
    "duration": 470,
    "start_time": "2022-09-15T18:30:06.858Z"
   },
   {
    "duration": 0,
    "start_time": "2022-09-15T18:30:07.329Z"
   },
   {
    "duration": 0,
    "start_time": "2022-09-15T18:30:07.331Z"
   },
   {
    "duration": 220,
    "start_time": "2022-09-15T18:30:25.227Z"
   },
   {
    "duration": 16,
    "start_time": "2022-09-15T18:30:30.552Z"
   },
   {
    "duration": 47423,
    "start_time": "2022-09-15T18:31:14.842Z"
   },
   {
    "duration": 17,
    "start_time": "2022-09-15T18:48:19.021Z"
   },
   {
    "duration": 9,
    "start_time": "2022-09-15T18:49:08.636Z"
   },
   {
    "duration": 9,
    "start_time": "2022-09-15T18:49:15.774Z"
   },
   {
    "duration": 13,
    "start_time": "2022-09-15T18:56:10.491Z"
   },
   {
    "duration": 17,
    "start_time": "2022-09-15T18:56:21.991Z"
   },
   {
    "duration": 6,
    "start_time": "2022-09-15T18:56:46.587Z"
   },
   {
    "duration": 10,
    "start_time": "2022-09-15T19:40:48.933Z"
   },
   {
    "duration": 10,
    "start_time": "2022-09-15T19:40:53.043Z"
   },
   {
    "duration": 2298,
    "start_time": "2022-09-16T18:10:01.679Z"
   },
   {
    "duration": 56,
    "start_time": "2022-09-16T18:10:03.979Z"
   },
   {
    "duration": 153,
    "start_time": "2022-09-16T18:10:04.037Z"
   },
   {
    "duration": 514,
    "start_time": "2022-09-16T18:10:04.192Z"
   },
   {
    "duration": 20,
    "start_time": "2022-09-16T18:10:05.291Z"
   },
   {
    "duration": 121,
    "start_time": "2022-09-16T18:10:06.581Z"
   },
   {
    "duration": 1746,
    "start_time": "2022-09-16T19:06:44.991Z"
   },
   {
    "duration": 43,
    "start_time": "2022-09-16T19:06:46.739Z"
   },
   {
    "duration": 214,
    "start_time": "2022-09-16T19:06:46.784Z"
   },
   {
    "duration": 559,
    "start_time": "2022-09-16T19:06:47.000Z"
   },
   {
    "duration": 24,
    "start_time": "2022-09-16T19:06:47.561Z"
   },
   {
    "duration": 732,
    "start_time": "2022-09-16T19:06:47.587Z"
   },
   {
    "duration": 1087,
    "start_time": "2022-09-16T19:06:48.321Z"
   },
   {
    "duration": 750,
    "start_time": "2022-09-16T19:06:49.410Z"
   },
   {
    "duration": 296,
    "start_time": "2022-09-16T19:06:50.162Z"
   },
   {
    "duration": 4,
    "start_time": "2022-09-16T19:06:50.461Z"
   },
   {
    "duration": 971,
    "start_time": "2022-09-16T19:06:50.466Z"
   },
   {
    "duration": 18,
    "start_time": "2022-09-16T19:06:51.439Z"
   },
   {
    "duration": 6,
    "start_time": "2022-09-16T19:06:51.459Z"
   },
   {
    "duration": 7,
    "start_time": "2022-09-16T19:06:51.467Z"
   },
   {
    "duration": 28,
    "start_time": "2022-09-16T19:06:51.476Z"
   },
   {
    "duration": 29,
    "start_time": "2022-09-16T19:06:51.506Z"
   },
   {
    "duration": 321,
    "start_time": "2022-09-16T19:06:51.537Z"
   },
   {
    "duration": 308,
    "start_time": "2022-09-16T19:06:51.860Z"
   },
   {
    "duration": 1005,
    "start_time": "2022-09-16T19:06:52.170Z"
   },
   {
    "duration": 26917,
    "start_time": "2022-09-16T19:06:53.177Z"
   },
   {
    "duration": 166000,
    "start_time": "2022-09-16T19:07:20.096Z"
   },
   {
    "duration": 25,
    "start_time": "2022-09-16T19:10:06.097Z"
   },
   {
    "duration": 14,
    "start_time": "2022-09-16T19:10:06.124Z"
   },
   {
    "duration": 296,
    "start_time": "2022-09-16T19:10:06.139Z"
   },
   {
    "duration": 16,
    "start_time": "2022-09-16T19:10:06.437Z"
   },
   {
    "duration": 33775,
    "start_time": "2022-09-16T19:10:06.455Z"
   },
   {
    "duration": 1932,
    "start_time": "2022-09-17T14:53:16.661Z"
   },
   {
    "duration": 32,
    "start_time": "2022-09-17T14:53:18.594Z"
   },
   {
    "duration": 144,
    "start_time": "2022-09-17T14:53:18.627Z"
   },
   {
    "duration": 499,
    "start_time": "2022-09-17T14:53:18.772Z"
   },
   {
    "duration": 24,
    "start_time": "2022-09-17T14:53:24.521Z"
   },
   {
    "duration": 626,
    "start_time": "2022-09-17T14:53:27.904Z"
   },
   {
    "duration": 1697,
    "start_time": "2022-09-17T18:34:45.888Z"
   },
   {
    "duration": 27,
    "start_time": "2022-09-17T18:34:47.587Z"
   },
   {
    "duration": 144,
    "start_time": "2022-09-17T18:34:47.616Z"
   },
   {
    "duration": 442,
    "start_time": "2022-09-17T18:34:47.762Z"
   },
   {
    "duration": 14,
    "start_time": "2022-09-17T18:34:48.205Z"
   },
   {
    "duration": 1035,
    "start_time": "2022-09-17T18:34:48.221Z"
   },
   {
    "duration": 1367,
    "start_time": "2022-09-17T18:34:49.258Z"
   },
   {
    "duration": 654,
    "start_time": "2022-09-17T18:34:50.627Z"
   },
   {
    "duration": 256,
    "start_time": "2022-09-17T18:34:51.283Z"
   },
   {
    "duration": 4,
    "start_time": "2022-09-17T18:34:51.543Z"
   },
   {
    "duration": 889,
    "start_time": "2022-09-17T18:34:51.548Z"
   },
   {
    "duration": 16,
    "start_time": "2022-09-17T18:34:52.438Z"
   },
   {
    "duration": 4,
    "start_time": "2022-09-17T18:34:52.455Z"
   },
   {
    "duration": 10,
    "start_time": "2022-09-17T18:34:52.460Z"
   },
   {
    "duration": 10,
    "start_time": "2022-09-17T18:34:52.472Z"
   },
   {
    "duration": 29,
    "start_time": "2022-09-17T18:34:52.484Z"
   },
   {
    "duration": 227,
    "start_time": "2022-09-17T18:34:52.514Z"
   },
   {
    "duration": 275,
    "start_time": "2022-09-17T18:34:52.742Z"
   },
   {
    "duration": 849,
    "start_time": "2022-09-17T18:34:53.019Z"
   },
   {
    "duration": 23263,
    "start_time": "2022-09-17T18:34:53.870Z"
   },
   {
    "duration": 132243,
    "start_time": "2022-09-17T18:35:17.135Z"
   },
   {
    "duration": 19,
    "start_time": "2022-09-17T18:37:29.380Z"
   },
   {
    "duration": 12,
    "start_time": "2022-09-17T18:37:29.401Z"
   },
   {
    "duration": 240,
    "start_time": "2022-09-17T18:37:29.414Z"
   },
   {
    "duration": 13,
    "start_time": "2022-09-17T18:37:29.655Z"
   },
   {
    "duration": 27427,
    "start_time": "2022-09-17T18:37:29.669Z"
   },
   {
    "duration": 1811,
    "start_time": "2022-09-18T17:23:55.597Z"
   },
   {
    "duration": 43,
    "start_time": "2022-09-18T17:23:57.410Z"
   },
   {
    "duration": 169,
    "start_time": "2022-09-18T17:23:57.455Z"
   },
   {
    "duration": 239,
    "start_time": "2022-09-18T17:24:40.405Z"
   },
   {
    "duration": 325,
    "start_time": "2022-09-18T17:25:06.511Z"
   },
   {
    "duration": 308,
    "start_time": "2022-09-18T17:55:56.609Z"
   },
   {
    "duration": 310,
    "start_time": "2022-09-18T17:56:25.112Z"
   },
   {
    "duration": 129,
    "start_time": "2022-09-18T18:00:34.668Z"
   },
   {
    "duration": 5,
    "start_time": "2022-09-18T18:01:09.124Z"
   },
   {
    "duration": 177,
    "start_time": "2022-09-18T18:01:15.561Z"
   },
   {
    "duration": 81,
    "start_time": "2022-09-18T18:02:42.409Z"
   },
   {
    "duration": 299,
    "start_time": "2022-09-18T18:02:48.358Z"
   },
   {
    "duration": 279,
    "start_time": "2022-09-18T18:03:57.193Z"
   },
   {
    "duration": 10,
    "start_time": "2022-09-18T18:05:31.618Z"
   },
   {
    "duration": 15,
    "start_time": "2022-09-18T18:05:35.155Z"
   },
   {
    "duration": 12,
    "start_time": "2022-09-18T18:05:38.960Z"
   },
   {
    "duration": 414,
    "start_time": "2022-09-18T18:05:42.915Z"
   },
   {
    "duration": 350,
    "start_time": "2022-09-18T18:05:52.795Z"
   },
   {
    "duration": 209,
    "start_time": "2022-09-18T18:08:19.216Z"
   },
   {
    "duration": 5,
    "start_time": "2022-09-18T18:18:20.187Z"
   },
   {
    "duration": 50,
    "start_time": "2022-09-18T18:18:20.195Z"
   },
   {
    "duration": 78,
    "start_time": "2022-09-18T18:18:20.247Z"
   },
   {
    "duration": 540,
    "start_time": "2022-09-18T18:18:20.326Z"
   },
   {
    "duration": 185,
    "start_time": "2022-09-18T18:18:23.100Z"
   },
   {
    "duration": 158,
    "start_time": "2022-09-18T18:18:42.418Z"
   },
   {
    "duration": 181,
    "start_time": "2022-09-18T18:18:48.655Z"
   },
   {
    "duration": 191,
    "start_time": "2022-09-18T18:20:18.432Z"
   },
   {
    "duration": 192,
    "start_time": "2022-09-18T18:20:25.115Z"
   },
   {
    "duration": 193,
    "start_time": "2022-09-18T18:20:51.122Z"
   },
   {
    "duration": 189,
    "start_time": "2022-09-18T18:21:00.324Z"
   },
   {
    "duration": 158,
    "start_time": "2022-09-18T18:21:17.786Z"
   },
   {
    "duration": 181,
    "start_time": "2022-09-18T18:22:03.539Z"
   },
   {
    "duration": 192,
    "start_time": "2022-09-18T18:22:11.135Z"
   },
   {
    "duration": 159,
    "start_time": "2022-09-18T18:22:16.972Z"
   },
   {
    "duration": 183,
    "start_time": "2022-09-18T18:22:40.250Z"
   },
   {
    "duration": 160,
    "start_time": "2022-09-18T18:22:46.845Z"
   },
   {
    "duration": 296,
    "start_time": "2022-09-18T18:22:54.087Z"
   },
   {
    "duration": 161,
    "start_time": "2022-09-18T18:23:43.348Z"
   },
   {
    "duration": 155,
    "start_time": "2022-09-18T18:23:55.709Z"
   },
   {
    "duration": 176,
    "start_time": "2022-09-18T18:34:22.827Z"
   },
   {
    "duration": 147,
    "start_time": "2022-09-18T18:35:28.596Z"
   },
   {
    "duration": 165,
    "start_time": "2022-09-18T18:35:35.308Z"
   },
   {
    "duration": 170,
    "start_time": "2022-09-18T18:55:29.518Z"
   },
   {
    "duration": 324,
    "start_time": "2022-09-18T18:57:26.552Z"
   },
   {
    "duration": 290,
    "start_time": "2022-09-18T18:57:38.327Z"
   },
   {
    "duration": 174,
    "start_time": "2022-09-18T18:57:49.539Z"
   },
   {
    "duration": 175,
    "start_time": "2022-09-18T18:59:29.668Z"
   },
   {
    "duration": 167,
    "start_time": "2022-09-18T18:59:39.037Z"
   },
   {
    "duration": 171,
    "start_time": "2022-09-18T19:00:03.156Z"
   },
   {
    "duration": 168,
    "start_time": "2022-09-18T19:00:12.261Z"
   },
   {
    "duration": 118,
    "start_time": "2022-09-18T19:06:31.619Z"
   },
   {
    "duration": 122,
    "start_time": "2022-09-18T19:06:52.653Z"
   },
   {
    "duration": 151,
    "start_time": "2022-09-18T19:06:59.904Z"
   },
   {
    "duration": 139,
    "start_time": "2022-09-18T19:07:10.520Z"
   },
   {
    "duration": 180,
    "start_time": "2022-09-18T19:07:29.998Z"
   },
   {
    "duration": 286,
    "start_time": "2022-09-18T19:08:14.812Z"
   },
   {
    "duration": 171,
    "start_time": "2022-09-18T19:08:24.823Z"
   },
   {
    "duration": 109,
    "start_time": "2022-09-18T19:08:32.554Z"
   },
   {
    "duration": 162,
    "start_time": "2022-09-18T19:10:57.897Z"
   },
   {
    "duration": 275,
    "start_time": "2022-09-18T19:16:27.959Z"
   },
   {
    "duration": 175,
    "start_time": "2022-09-18T19:16:53.426Z"
   },
   {
    "duration": 170,
    "start_time": "2022-09-18T19:17:28.923Z"
   },
   {
    "duration": 167,
    "start_time": "2022-09-18T19:17:34.807Z"
   },
   {
    "duration": 188,
    "start_time": "2022-09-18T19:17:55.324Z"
   },
   {
    "duration": 289,
    "start_time": "2022-09-18T19:18:35.718Z"
   },
   {
    "duration": 222,
    "start_time": "2022-09-18T19:18:44.527Z"
   },
   {
    "duration": 317,
    "start_time": "2022-09-18T19:18:59.236Z"
   },
   {
    "duration": 200,
    "start_time": "2022-09-18T19:25:52.541Z"
   },
   {
    "duration": 341,
    "start_time": "2022-09-18T19:26:02.316Z"
   },
   {
    "duration": 250,
    "start_time": "2022-09-18T19:26:11.862Z"
   },
   {
    "duration": 180,
    "start_time": "2022-09-18T19:26:16.553Z"
   },
   {
    "duration": 182,
    "start_time": "2022-09-18T19:26:28.924Z"
   },
   {
    "duration": 177,
    "start_time": "2022-09-18T19:26:37.345Z"
   },
   {
    "duration": 1711,
    "start_time": "2022-09-18T19:34:14.717Z"
   },
   {
    "duration": 55,
    "start_time": "2022-09-18T19:34:16.430Z"
   },
   {
    "duration": 74,
    "start_time": "2022-09-18T19:34:16.487Z"
   },
   {
    "duration": 424,
    "start_time": "2022-09-18T19:34:16.563Z"
   },
   {
    "duration": 225,
    "start_time": "2022-09-18T19:34:16.988Z"
   },
   {
    "duration": 17,
    "start_time": "2022-09-18T19:34:17.214Z"
   },
   {
    "duration": 697,
    "start_time": "2022-09-18T19:34:17.232Z"
   },
   {
    "duration": 956,
    "start_time": "2022-09-18T19:34:17.930Z"
   },
   {
    "duration": 807,
    "start_time": "2022-09-18T19:34:18.889Z"
   },
   {
    "duration": 605,
    "start_time": "2022-09-18T19:34:19.701Z"
   },
   {
    "duration": 4,
    "start_time": "2022-09-18T19:34:20.308Z"
   },
   {
    "duration": 1382,
    "start_time": "2022-09-18T19:34:20.314Z"
   },
   {
    "duration": 17,
    "start_time": "2022-09-18T19:34:21.698Z"
   },
   {
    "duration": 4,
    "start_time": "2022-09-18T19:34:21.717Z"
   },
   {
    "duration": 68,
    "start_time": "2022-09-18T19:34:21.722Z"
   },
   {
    "duration": 48,
    "start_time": "2022-09-18T19:34:21.792Z"
   },
   {
    "duration": 52,
    "start_time": "2022-09-18T19:34:21.842Z"
   },
   {
    "duration": 530,
    "start_time": "2022-09-18T19:34:21.897Z"
   },
   {
    "duration": 373,
    "start_time": "2022-09-18T19:34:22.429Z"
   },
   {
    "duration": 1795,
    "start_time": "2022-09-18T19:34:22.804Z"
   },
   {
    "duration": 25856,
    "start_time": "2022-09-18T19:34:24.600Z"
   },
   {
    "duration": 178478,
    "start_time": "2022-09-18T19:34:50.458Z"
   },
   {
    "duration": 19,
    "start_time": "2022-09-18T19:37:48.937Z"
   },
   {
    "duration": 11,
    "start_time": "2022-09-18T19:37:48.958Z"
   },
   {
    "duration": 189,
    "start_time": "2022-09-18T19:37:48.970Z"
   },
   {
    "duration": 13,
    "start_time": "2022-09-18T19:37:49.161Z"
   },
   {
    "duration": 28851,
    "start_time": "2022-09-18T19:37:49.176Z"
   },
   {
    "duration": 24,
    "start_time": "2022-09-18T19:41:36.705Z"
   },
   {
    "duration": 1685,
    "start_time": "2022-09-18T19:49:42.598Z"
   },
   {
    "duration": 44,
    "start_time": "2022-09-18T19:49:44.285Z"
   },
   {
    "duration": 83,
    "start_time": "2022-09-18T19:49:44.331Z"
   },
   {
    "duration": 452,
    "start_time": "2022-09-18T19:49:44.416Z"
   },
   {
    "duration": 211,
    "start_time": "2022-09-18T19:49:44.871Z"
   },
   {
    "duration": 19,
    "start_time": "2022-09-18T19:49:45.090Z"
   },
   {
    "duration": 742,
    "start_time": "2022-09-18T19:49:45.111Z"
   },
   {
    "duration": 987,
    "start_time": "2022-09-18T19:49:45.855Z"
   },
   {
    "duration": 700,
    "start_time": "2022-09-18T19:49:46.844Z"
   },
   {
    "duration": 276,
    "start_time": "2022-09-18T19:49:47.546Z"
   },
   {
    "duration": 4,
    "start_time": "2022-09-18T19:49:47.824Z"
   },
   {
    "duration": 861,
    "start_time": "2022-09-18T19:49:47.830Z"
   },
   {
    "duration": 15,
    "start_time": "2022-09-18T19:49:48.692Z"
   },
   {
    "duration": 6,
    "start_time": "2022-09-18T19:49:48.709Z"
   },
   {
    "duration": 8,
    "start_time": "2022-09-18T19:49:48.716Z"
   },
   {
    "duration": 19,
    "start_time": "2022-09-18T19:49:48.725Z"
   },
   {
    "duration": 13,
    "start_time": "2022-09-18T19:49:48.745Z"
   },
   {
    "duration": 231,
    "start_time": "2022-09-18T19:49:48.760Z"
   },
   {
    "duration": 206,
    "start_time": "2022-09-18T19:49:48.993Z"
   },
   {
    "duration": 1043,
    "start_time": "2022-09-18T19:49:49.200Z"
   },
   {
    "duration": 26848,
    "start_time": "2022-09-18T19:49:50.245Z"
   },
   {
    "duration": 149560,
    "start_time": "2022-09-18T19:50:17.094Z"
   },
   {
    "duration": 23,
    "start_time": "2022-09-18T19:52:46.656Z"
   },
   {
    "duration": 16,
    "start_time": "2022-09-18T19:52:46.680Z"
   },
   {
    "duration": 236,
    "start_time": "2022-09-18T19:52:46.698Z"
   },
   {
    "duration": 14,
    "start_time": "2022-09-18T19:52:46.936Z"
   },
   {
    "duration": 27737,
    "start_time": "2022-09-18T19:52:46.951Z"
   },
   {
    "duration": 3060,
    "start_time": "2022-09-19T14:25:49.083Z"
   },
   {
    "duration": 29,
    "start_time": "2022-09-19T14:25:52.145Z"
   },
   {
    "duration": 168,
    "start_time": "2022-09-19T14:25:52.176Z"
   },
   {
    "duration": 470,
    "start_time": "2022-09-19T14:25:52.348Z"
   },
   {
    "duration": 206,
    "start_time": "2022-09-19T14:26:25.600Z"
   },
   {
    "duration": 177,
    "start_time": "2022-09-19T14:28:22.860Z"
   }
  ],
  "kernelspec": {
   "display_name": "Python 3 (ipykernel)",
   "language": "python",
   "name": "python3"
  },
  "language_info": {
   "codemirror_mode": {
    "name": "ipython",
    "version": 3
   },
   "file_extension": ".py",
   "mimetype": "text/x-python",
   "name": "python",
   "nbconvert_exporter": "python",
   "pygments_lexer": "ipython3",
   "version": "3.9.12"
  },
  "toc": {
   "base_numbering": 1,
   "nav_menu": {},
   "number_sections": true,
   "sideBar": true,
   "skip_h1_title": true,
   "title_cell": "Содержание",
   "title_sidebar": "Contents",
   "toc_cell": true,
   "toc_position": {
    "height": "calc(100% - 180px)",
    "left": "10px",
    "top": "150px",
    "width": "329px"
   },
   "toc_section_display": true,
   "toc_window_display": true
  }
 },
 "nbformat": 4,
 "nbformat_minor": 2
}
