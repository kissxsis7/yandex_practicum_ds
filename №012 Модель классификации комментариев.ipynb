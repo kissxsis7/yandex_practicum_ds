{
 "cells": [
  {
   "cell_type": "markdown",
   "metadata": {},
   "source": [
    "# Проект для «Викишоп»"
   ]
  },
  {
   "cell_type": "markdown",
   "metadata": {},
   "source": [
    "Интернет-магазин «Викишоп» запускает новый сервис. Теперь пользователи могут редактировать и дополнять описания товаров, как в вики-сообществах. То есть клиенты предлагают свои правки и комментируют изменения других. Магазину нужен инструмент, который будет искать токсичные комментарии и отправлять их на модерацию. \n",
    "\n",
    "**Цель исследования:**\n",
    "<u>обучить модель классифицировать комментарии на позитивные и негативные со значением метрики качества *F1* не меньше 0.75.</u> \n",
    "\n",
    "В нашем распоряжении набор данных с разметкой о токсичности правок.\n",
    "**Исследование пройдет в 4 основных этапа:**\n",
    "1. Обзор данных\n",
    "2. Подготовка\n",
    "3. Обучение\n",
    "4. Вывод"
   ]
  },
  {
   "cell_type": "markdown",
   "metadata": {},
   "source": [
    "## Обзор данных"
   ]
  },
  {
   "cell_type": "code",
   "execution_count": 1,
   "metadata": {},
   "outputs": [
    {
     "name": "stderr",
     "output_type": "stream",
     "text": [
      "[nltk_data] Downloading package stopwords to /home/jovyan/nltk_data...\n",
      "[nltk_data]   Package stopwords is already up-to-date!\n",
      "/tmp/ipykernel_275/2873408409.py:25: FutureWarning: Passing a negative integer is deprecated in version 1.0 and will not be supported in future version. Instead, use None to not limit the column width.\n",
      "  pd.set_option('display.max_colwidth', -1)\n"
     ]
    }
   ],
   "source": [
    "import pandas as pd\n",
    "import numpy as np\n",
    "import re\n",
    "\n",
    "import matplotlib.pyplot as plt\n",
    "\n",
    "import nltk \n",
    "from nltk.stem import WordNetLemmatizer \n",
    "from nltk.corpus import stopwords \n",
    "nltk.download('stopwords') \n",
    "\n",
    "import sklearn \n",
    "from sklearn.model_selection import train_test_split, StratifiedKFold, GridSearchCV, cross_val_score, cross_validate\n",
    "from sklearn.metrics import accuracy_score, f1_score\n",
    "from sklearn.feature_extraction.text import CountVectorizer, TfidfVectorizer  \n",
    "\n",
    "from sklearn.tree import DecisionTreeClassifier\n",
    "from sklearn.linear_model import LogisticRegression \n",
    "from sklearn.dummy import DummyClassifier\n",
    "\n",
    "from pymystem3 import Mystem\n",
    "from tqdm import tqdm\n",
    "tqdm.pandas()\n",
    "\n",
    "pd.set_option('display.max_colwidth', -1)"
   ]
  },
  {
   "cell_type": "code",
   "execution_count": 2,
   "metadata": {},
   "outputs": [
    {
     "data": {
      "text/html": [
       "\n",
       "<style>\n",
       ".output_png {\n",
       "    display: table-cell;\n",
       "    text-align: center;\n",
       "    vertical-align: middle;\n",
       "}\n",
       "</style>\n"
      ],
      "text/plain": [
       "<IPython.core.display.HTML object>"
      ]
     },
     "execution_count": 2,
     "metadata": {},
     "output_type": "execute_result"
    }
   ],
   "source": [
    "from IPython.core.display import HTML\n",
    "HTML(\"\"\"\n",
    "<style>\n",
    ".output_png {\n",
    "    display: table-cell;\n",
    "    text-align: center;\n",
    "    vertical-align: middle;\n",
    "}\n",
    "</style>\n",
    "\"\"\")"
   ]
  },
  {
   "cell_type": "code",
   "execution_count": 3,
   "metadata": {},
   "outputs": [
    {
     "data": {
      "text/html": [
       "<div>\n",
       "<style scoped>\n",
       "    .dataframe tbody tr th:only-of-type {\n",
       "        vertical-align: middle;\n",
       "    }\n",
       "\n",
       "    .dataframe tbody tr th {\n",
       "        vertical-align: top;\n",
       "    }\n",
       "\n",
       "    .dataframe thead th {\n",
       "        text-align: right;\n",
       "    }\n",
       "</style>\n",
       "<table border=\"1\" class=\"dataframe\">\n",
       "  <thead>\n",
       "    <tr style=\"text-align: right;\">\n",
       "      <th></th>\n",
       "      <th>Unnamed: 0</th>\n",
       "      <th>text</th>\n",
       "      <th>toxic</th>\n",
       "    </tr>\n",
       "  </thead>\n",
       "  <tbody>\n",
       "    <tr>\n",
       "      <th>0</th>\n",
       "      <td>0</td>\n",
       "      <td>Explanation\\nWhy the edits made under my username Hardcore Metallica Fan were reverted? They weren't vandalisms, just closure on some GAs after I voted at New York Dolls FAC. And please don't remove the template from the talk page since I'm retired now.89.205.38.27</td>\n",
       "      <td>0</td>\n",
       "    </tr>\n",
       "    <tr>\n",
       "      <th>1</th>\n",
       "      <td>1</td>\n",
       "      <td>D'aww! He matches this background colour I'm seemingly stuck with. Thanks.  (talk) 21:51, January 11, 2016 (UTC)</td>\n",
       "      <td>0</td>\n",
       "    </tr>\n",
       "    <tr>\n",
       "      <th>2</th>\n",
       "      <td>2</td>\n",
       "      <td>Hey man, I'm really not trying to edit war. It's just that this guy is constantly removing relevant information and talking to me through edits instead of my talk page. He seems to care more about the formatting than the actual info.</td>\n",
       "      <td>0</td>\n",
       "    </tr>\n",
       "    <tr>\n",
       "      <th>3</th>\n",
       "      <td>3</td>\n",
       "      <td>\"\\nMore\\nI can't make any real suggestions on improvement - I wondered if the section statistics should be later on, or a subsection of \"\"types of accidents\"\"  -I think the references may need tidying so that they are all in the exact same format ie date format etc. I can do that later on, if no-one else does first - if you have any preferences for formatting style on references or want to do it yourself please let me know.\\n\\nThere appears to be a backlog on articles for review so I guess there may be a delay until a reviewer turns up. It's listed in the relevant form eg Wikipedia:Good_article_nominations#Transport  \"</td>\n",
       "      <td>0</td>\n",
       "    </tr>\n",
       "    <tr>\n",
       "      <th>4</th>\n",
       "      <td>4</td>\n",
       "      <td>You, sir, are my hero. Any chance you remember what page that's on?</td>\n",
       "      <td>0</td>\n",
       "    </tr>\n",
       "    <tr>\n",
       "      <th>5</th>\n",
       "      <td>5</td>\n",
       "      <td>\"\\n\\nCongratulations from me as well, use the tools well.  · talk \"</td>\n",
       "      <td>0</td>\n",
       "    </tr>\n",
       "    <tr>\n",
       "      <th>6</th>\n",
       "      <td>6</td>\n",
       "      <td>COCKSUCKER BEFORE YOU PISS AROUND ON MY WORK</td>\n",
       "      <td>1</td>\n",
       "    </tr>\n",
       "    <tr>\n",
       "      <th>7</th>\n",
       "      <td>7</td>\n",
       "      <td>Your vandalism to the Matt Shirvington article has been reverted.  Please don't do it again, or you will be banned.</td>\n",
       "      <td>0</td>\n",
       "    </tr>\n",
       "    <tr>\n",
       "      <th>8</th>\n",
       "      <td>8</td>\n",
       "      <td>Sorry if the word 'nonsense' was offensive to you. Anyway, I'm not intending to write anything in the article(wow they would jump on me for vandalism), I'm merely requesting that it be more encyclopedic so one can use it for school as a reference. I have been to the selective breeding page but it's almost a stub. It points to 'animal breeding' which is a short messy article that gives you no info. There must be someone around with expertise in eugenics? 93.161.107.169</td>\n",
       "      <td>0</td>\n",
       "    </tr>\n",
       "    <tr>\n",
       "      <th>9</th>\n",
       "      <td>9</td>\n",
       "      <td>alignment on this subject and which are contrary to those of DuLithgow</td>\n",
       "      <td>0</td>\n",
       "    </tr>\n",
       "  </tbody>\n",
       "</table>\n",
       "</div>"
      ],
      "text/plain": [
       "   Unnamed: 0  \\\n",
       "0  0            \n",
       "1  1            \n",
       "2  2            \n",
       "3  3            \n",
       "4  4            \n",
       "5  5            \n",
       "6  6            \n",
       "7  7            \n",
       "8  8            \n",
       "9  9            \n",
       "\n",
       "                                                                                                                                                                                                                                                                                                                                                                                                                                                                                                                                                                                                                                                 text  \\\n",
       "0  Explanation\\nWhy the edits made under my username Hardcore Metallica Fan were reverted? They weren't vandalisms, just closure on some GAs after I voted at New York Dolls FAC. And please don't remove the template from the talk page since I'm retired now.89.205.38.27                                                                                                                                                                                                                                                                                                                                                                            \n",
       "1  D'aww! He matches this background colour I'm seemingly stuck with. Thanks.  (talk) 21:51, January 11, 2016 (UTC)                                                                                                                                                                                                                                                                                                                                                                                                                                                                                                                                     \n",
       "2  Hey man, I'm really not trying to edit war. It's just that this guy is constantly removing relevant information and talking to me through edits instead of my talk page. He seems to care more about the formatting than the actual info.                                                                                                                                                                                                                                                                                                                                                                                                            \n",
       "3  \"\\nMore\\nI can't make any real suggestions on improvement - I wondered if the section statistics should be later on, or a subsection of \"\"types of accidents\"\"  -I think the references may need tidying so that they are all in the exact same format ie date format etc. I can do that later on, if no-one else does first - if you have any preferences for formatting style on references or want to do it yourself please let me know.\\n\\nThere appears to be a backlog on articles for review so I guess there may be a delay until a reviewer turns up. It's listed in the relevant form eg Wikipedia:Good_article_nominations#Transport  \"   \n",
       "4  You, sir, are my hero. Any chance you remember what page that's on?                                                                                                                                                                                                                                                                                                                                                                                                                                                                                                                                                                                  \n",
       "5  \"\\n\\nCongratulations from me as well, use the tools well.  · talk \"                                                                                                                                                                                                                                                                                                                                                                                                                                                                                                                                                                                  \n",
       "6  COCKSUCKER BEFORE YOU PISS AROUND ON MY WORK                                                                                                                                                                                                                                                                                                                                                                                                                                                                                                                                                                                                         \n",
       "7  Your vandalism to the Matt Shirvington article has been reverted.  Please don't do it again, or you will be banned.                                                                                                                                                                                                                                                                                                                                                                                                                                                                                                                                  \n",
       "8  Sorry if the word 'nonsense' was offensive to you. Anyway, I'm not intending to write anything in the article(wow they would jump on me for vandalism), I'm merely requesting that it be more encyclopedic so one can use it for school as a reference. I have been to the selective breeding page but it's almost a stub. It points to 'animal breeding' which is a short messy article that gives you no info. There must be someone around with expertise in eugenics? 93.161.107.169                                                                                                                                                             \n",
       "9  alignment on this subject and which are contrary to those of DuLithgow                                                                                                                                                                                                                                                                                                                                                                                                                                                                                                                                                                               \n",
       "\n",
       "   toxic  \n",
       "0  0      \n",
       "1  0      \n",
       "2  0      \n",
       "3  0      \n",
       "4  0      \n",
       "5  0      \n",
       "6  1      \n",
       "7  0      \n",
       "8  0      \n",
       "9  0      "
      ]
     },
     "metadata": {},
     "output_type": "display_data"
    },
    {
     "name": "stdout",
     "output_type": "stream",
     "text": [
      "<class 'pandas.core.frame.DataFrame'>\n",
      "RangeIndex: 159292 entries, 0 to 159291\n",
      "Data columns (total 3 columns):\n",
      " #   Column      Non-Null Count   Dtype \n",
      "---  ------      --------------   ----- \n",
      " 0   Unnamed: 0  159292 non-null  int64 \n",
      " 1   text        159292 non-null  object\n",
      " 2   toxic       159292 non-null  int64 \n",
      "dtypes: int64(2), object(1)\n",
      "memory usage: 3.6+ MB\n"
     ]
    },
    {
     "data": {
      "text/plain": [
       "None"
      ]
     },
     "metadata": {},
     "output_type": "display_data"
    },
    {
     "data": {
      "text/html": [
       "<div>\n",
       "<style scoped>\n",
       "    .dataframe tbody tr th:only-of-type {\n",
       "        vertical-align: middle;\n",
       "    }\n",
       "\n",
       "    .dataframe tbody tr th {\n",
       "        vertical-align: top;\n",
       "    }\n",
       "\n",
       "    .dataframe thead th {\n",
       "        text-align: right;\n",
       "    }\n",
       "</style>\n",
       "<table border=\"1\" class=\"dataframe\">\n",
       "  <thead>\n",
       "    <tr style=\"text-align: right;\">\n",
       "      <th></th>\n",
       "      <th>Unnamed: 0</th>\n",
       "      <th>toxic</th>\n",
       "    </tr>\n",
       "  </thead>\n",
       "  <tbody>\n",
       "    <tr>\n",
       "      <th>count</th>\n",
       "      <td>159292.000000</td>\n",
       "      <td>159292.000000</td>\n",
       "    </tr>\n",
       "    <tr>\n",
       "      <th>mean</th>\n",
       "      <td>79725.697242</td>\n",
       "      <td>0.101612</td>\n",
       "    </tr>\n",
       "    <tr>\n",
       "      <th>std</th>\n",
       "      <td>46028.837471</td>\n",
       "      <td>0.302139</td>\n",
       "    </tr>\n",
       "    <tr>\n",
       "      <th>min</th>\n",
       "      <td>0.000000</td>\n",
       "      <td>0.000000</td>\n",
       "    </tr>\n",
       "    <tr>\n",
       "      <th>25%</th>\n",
       "      <td>39872.750000</td>\n",
       "      <td>0.000000</td>\n",
       "    </tr>\n",
       "    <tr>\n",
       "      <th>50%</th>\n",
       "      <td>79721.500000</td>\n",
       "      <td>0.000000</td>\n",
       "    </tr>\n",
       "    <tr>\n",
       "      <th>75%</th>\n",
       "      <td>119573.250000</td>\n",
       "      <td>0.000000</td>\n",
       "    </tr>\n",
       "    <tr>\n",
       "      <th>max</th>\n",
       "      <td>159450.000000</td>\n",
       "      <td>1.000000</td>\n",
       "    </tr>\n",
       "  </tbody>\n",
       "</table>\n",
       "</div>"
      ],
      "text/plain": [
       "          Unnamed: 0          toxic\n",
       "count  159292.000000  159292.000000\n",
       "mean   79725.697242   0.101612     \n",
       "std    46028.837471   0.302139     \n",
       "min    0.000000       0.000000     \n",
       "25%    39872.750000   0.000000     \n",
       "50%    79721.500000   0.000000     \n",
       "75%    119573.250000  0.000000     \n",
       "max    159450.000000  1.000000     "
      ]
     },
     "metadata": {},
     "output_type": "display_data"
    },
    {
     "name": "stdout",
     "output_type": "stream",
     "text": [
      "Количество дубликатов: 0\n"
     ]
    }
   ],
   "source": [
    "df = pd.read_csv('/datasets/toxic_comments.csv')\n",
    "\n",
    "display(df.head(10))\n",
    "display(df.info())\n",
    "display(df.describe())\n",
    "\n",
    "print('Количество дубликатов:', df.duplicated().sum())"
   ]
  },
  {
   "cell_type": "code",
   "execution_count": 4,
   "metadata": {},
   "outputs": [
    {
     "data": {
      "image/png": "[encoded data removed]",
      "text/plain": [
       "<Figure size 720x360 with 1 Axes>"
      ]
     },
     "metadata": {},
     "output_type": "display_data"
    }
   ],
   "source": [
    "def distribution_pie(col):\n",
    "\n",
    "    fig = plt.figure(figsize=(10,5))\n",
    "\n",
    "    values = col.value_counts().tolist()\n",
    "    labels = ['Нейтральные', 'Токсичные']     \n",
    "    \n",
    "    plt.pie(values, labels=labels, autopct='%1.1f%%', colors = ['lightgrey', 'plum'], \n",
    "               wedgeprops = {'lw':1, 'ls':'-','edgecolor':'black'},\n",
    "               explode = [0.1, 0.1], shadow = True, textprops={'fontsize': 14})\n",
    "    \n",
    "    plt.title(f'Распределение комментариев\\nпо эмоциональной окраске', fontsize = 16) \n",
    "    plt.show()\n",
    "    \n",
    "distribution_pie(df['toxic'])"
   ]
  },
  {
   "cell_type": "markdown",
   "metadata": {},
   "source": [
    "### Вывод\n",
    "\n",
    "В нашем распоряжении датафрейм с 159292 размеченными по тональности комментариями на английском языке. Около 10% от всех данных - негативно окрашенные, классы несбалансированы.\n",
    "\n",
    "Столбец `text` содержит текст комментария, `toxic` — целевой признак (токсичный ли комментарий), `Unnamed: 0` - дублирует индексы, его нужно удалить.\n",
    "\n",
    "Пропусков и дубликатов нет, можем утверждать, что данных достаточно для проведения исследования.  Приступим к их подготовке данных для обучения моделей."
   ]
  },
  {
   "cell_type": "markdown",
   "metadata": {},
   "source": [
    "## Подготовка"
   ]
  },
  {
   "cell_type": "markdown",
   "metadata": {},
   "source": [
    "### Удаление столбца `Unnamed: 0`"
   ]
  },
  {
   "cell_type": "code",
   "execution_count": 5,
   "metadata": {},
   "outputs": [
    {
     "data": {
      "text/plain": [
       "Index(['text', 'toxic'], dtype='object')"
      ]
     },
     "execution_count": 5,
     "metadata": {},
     "output_type": "execute_result"
    }
   ],
   "source": [
    "df = df.drop('Unnamed: 0', axis = 1)\n",
    "df.columns"
   ]
  },
  {
   "cell_type": "markdown",
   "metadata": {},
   "source": [
    "### Очистка и лемматизация"
   ]
  },
  {
   "cell_type": "code",
   "execution_count": 6,
   "metadata": {},
   "outputs": [],
   "source": [
    "wnl = WordNetLemmatizer()\n",
    "\n",
    "def lemmatize_clear(text):\n",
    "    clear = re.sub(r'[^a-zA-Z]', ' ', text).split()\n",
    "    \n",
    "    lemm = []\n",
    "    \n",
    "    for i in range(len(clear)):\n",
    "        lemm.append(wnl.lemmatize(clear[i]))\n",
    "        \n",
    "    return \" \".join(lemm)"
   ]
  },
  {
   "cell_type": "code",
   "execution_count": 7,
   "metadata": {},
   "outputs": [
    {
     "name": "stderr",
     "output_type": "stream",
     "text": [
      "100%|██████████| 159292/159292 [00:36<00:00, 4325.16it/s]\n"
     ]
    },
    {
     "data": {
      "text/plain": [
       "'Explanation Why the edits made under my username Hardcore Metallica Fan were reverted They weren t vandalism just closure on some GAs after I voted at New York Dolls FAC And please don t remove the template from the talk page since I m retired now'"
      ]
     },
     "execution_count": 7,
     "metadata": {},
     "output_type": "execute_result"
    }
   ],
   "source": [
    "corpus = df['text'].progress_apply(lemmatize_clear)\n",
    "corpus[0]"
   ]
  },
  {
   "cell_type": "code",
   "execution_count": 8,
   "metadata": {},
   "outputs": [
    {
     "data": {
      "text/html": [
       "<div>\n",
       "<style scoped>\n",
       "    .dataframe tbody tr th:only-of-type {\n",
       "        vertical-align: middle;\n",
       "    }\n",
       "\n",
       "    .dataframe tbody tr th {\n",
       "        vertical-align: top;\n",
       "    }\n",
       "\n",
       "    .dataframe thead th {\n",
       "        text-align: right;\n",
       "    }\n",
       "</style>\n",
       "<table border=\"1\" class=\"dataframe\">\n",
       "  <thead>\n",
       "    <tr style=\"text-align: right;\">\n",
       "      <th></th>\n",
       "      <th>text</th>\n",
       "    </tr>\n",
       "  </thead>\n",
       "  <tbody>\n",
       "    <tr>\n",
       "      <th>count</th>\n",
       "      <td>159292.000000</td>\n",
       "    </tr>\n",
       "    <tr>\n",
       "      <th>mean</th>\n",
       "      <td>367.686720</td>\n",
       "    </tr>\n",
       "    <tr>\n",
       "      <th>std</th>\n",
       "      <td>553.888203</td>\n",
       "    </tr>\n",
       "    <tr>\n",
       "      <th>min</th>\n",
       "      <td>0.000000</td>\n",
       "    </tr>\n",
       "    <tr>\n",
       "      <th>25%</th>\n",
       "      <td>87.000000</td>\n",
       "    </tr>\n",
       "    <tr>\n",
       "      <th>50%</th>\n",
       "      <td>190.000000</td>\n",
       "    </tr>\n",
       "    <tr>\n",
       "      <th>75%</th>\n",
       "      <td>408.000000</td>\n",
       "    </tr>\n",
       "    <tr>\n",
       "      <th>max</th>\n",
       "      <td>5000.000000</td>\n",
       "    </tr>\n",
       "  </tbody>\n",
       "</table>\n",
       "</div>"
      ],
      "text/plain": [
       "                text\n",
       "count  159292.000000\n",
       "mean   367.686720   \n",
       "std    553.888203   \n",
       "min    0.000000     \n",
       "25%    87.000000    \n",
       "50%    190.000000   \n",
       "75%    408.000000   \n",
       "max    5000.000000  "
      ]
     },
     "execution_count": 8,
     "metadata": {},
     "output_type": "execute_result"
    }
   ],
   "source": [
    "pd.DataFrame(corpus.str.len()).describe()"
   ]
  },
  {
   "cell_type": "markdown",
   "metadata": {},
   "source": [
    "### Разбиение на признаки и выборки"
   ]
  },
  {
   "cell_type": "code",
   "execution_count": 9,
   "metadata": {},
   "outputs": [
    {
     "name": "stdout",
     "output_type": "stream",
     "text": [
      "Доля features_train от lemm_df - 75 %\n",
      "Доля target_train от lemm_df - 75 %\n"
     ]
    },
    {
     "data": {
      "image/png": "[encoded data removed]",
      "text/plain": [
       "<Figure size 720x360 with 1 Axes>"
      ]
     },
     "metadata": {},
     "output_type": "display_data"
    },
    {
     "name": "stdout",
     "output_type": "stream",
     "text": [
      "Доля features_test от lemm_df - 25 %\n",
      "Доля target_test от lemm_df - 25 %\n"
     ]
    },
    {
     "data": {
      "image/png": "[encoded data removed]",
      "text/plain": [
       "<Figure size 720x360 with 1 Axes>"
      ]
     },
     "metadata": {},
     "output_type": "display_data"
    }
   ],
   "source": [
    "features = corpus\n",
    "target = df['toxic']\n",
    "\n",
    "features_train, features_test, target_train, target_test = train_test_split(\n",
    "    features, target, test_size=0.25, random_state=42, stratify = target)\n",
    "\n",
    "for selection, s_name in zip([features_train, target_train, features_test, target_test],\n",
    "                             ['features_train', 'target_train', 'features_test', 'target_test']):\n",
    "    \n",
    "    \n",
    "    print(f'Доля {s_name} от lemm_df -', int((selection.shape[0] / len(df))*100), '%')\n",
    "    \n",
    "    if 'target' in s_name:\n",
    "        distribution_pie(selection)\n",
    "        \n"
   ]
  },
  {
   "cell_type": "markdown",
   "metadata": {},
   "source": [
    "### Векторизация обучающих признаков"
   ]
  },
  {
   "cell_type": "code",
   "execution_count": 10,
   "metadata": {},
   "outputs": [
    {
     "data": {
      "text/plain": [
       "matrix([[0, 0, 0, ..., 0, 0, 0]])"
      ]
     },
     "execution_count": 10,
     "metadata": {},
     "output_type": "execute_result"
    }
   ],
   "source": [
    "stop_words = set(stopwords.words('english')) \n",
    "count_vect = CountVectorizer(stop_words=stop_words)\n",
    "features_train = count_vect.fit_transform(features_train)\n",
    "\n",
    "features_train[0].todense()"
   ]
  },
  {
   "cell_type": "code",
   "execution_count": 11,
   "metadata": {},
   "outputs": [
    {
     "data": {
      "text/plain": [
       "matrix([[0, 0, 0, ..., 0, 0, 0]])"
      ]
     },
     "execution_count": 11,
     "metadata": {},
     "output_type": "execute_result"
    }
   ],
   "source": [
    "features_test = count_vect.transform(features_test)\n",
    "\n",
    "features_test[0].todense()"
   ]
  },
  {
   "cell_type": "markdown",
   "metadata": {},
   "source": [
    "### Вывод\n",
    "\n",
    "Мы:\n",
    "\n",
    "1. Избавились от столбца `Unnamed: 0`, дублирующего индексы.\n",
    "2. Очистили, лемматизировали данные и представили векторизиривали.\n",
    "3. Разбили данные на выборки (train и test в соотношении 3:1) и признаки, сохранив баланс классов. Features - полученная матрица c размерностью 159292 на 163969, хранит в себе 163969 уникальных слов.\n",
    "\n",
    "Мы готовы обучать модели."
   ]
  },
  {
   "cell_type": "markdown",
   "metadata": {},
   "source": [
    "## Обучение"
   ]
  },
  {
   "cell_type": "markdown",
   "metadata": {},
   "source": [
    "### Logistic Regression"
   ]
  },
  {
   "cell_type": "code",
   "execution_count": 12,
   "metadata": {},
   "outputs": [
    {
     "name": "stdout",
     "output_type": "stream",
     "text": [
      "[LibLinear]iter  1 act 9.963e+04 pre 8.243e+04 delta 1.472e+01 f 2.898e+05 |g| 1.302e+05 CG  88\n",
      "cg reaches trust region boundary\n",
      "iter  2 act 4.827e+04 pre 3.686e+04 delta 2.137e+01 f 1.902e+05 |g| 4.808e+04 CG  78\n",
      "cg reaches trust region boundary\n",
      "iter  3 act 3.917e+04 pre 3.088e+04 delta 2.922e+01 f 1.419e+05 |g| 2.562e+04 CG  76\n",
      "cg reaches trust region boundary\n",
      "iter  4 act 2.209e+04 pre 2.806e+04 delta 2.922e+01 f 1.028e+05 |g| 1.635e+04 CG  78\n",
      "cg reaches trust region boundary\n",
      "iter  5 act -1.259e+04 pre 8.721e+04 delta 1.361e+01 f 8.068e+04 |g| 2.507e+04 CG  25\n",
      "cg reaches trust region boundary\n",
      "iter  5 act -6.481e+03 pre 4.757e+04 delta 6.371e+00 f 8.068e+04 |g| 2.507e+04 CG  15\n",
      "cg reaches trust region boundary\n",
      "iter  5 act 3.646e+03 pre 2.588e+04 delta 3.185e+00 f 8.068e+04 |g| 2.507e+04 CG  10\n",
      "cg reaches trust region boundary\n",
      "iter  6 act 4.883e+03 pre 4.501e+04 delta 1.593e+00 f 7.703e+04 |g| 2.889e+04 CG   4\n",
      "cg reaches trust region boundary\n",
      "iter  7 act 4.082e+03 pre 1.836e+04 delta 7.963e-01 f 7.215e+04 |g| 1.867e+04 CG   2\n",
      "cg reaches trust region boundary\n",
      "iter  8 act 1.859e+03 pre 2.996e+03 delta 6.075e-01 f 6.807e+04 |g| 1.190e+04 CG   3\n",
      "cg reaches trust region boundary\n",
      "iter  9 act 1.145e+03 pre 1.938e+03 delta 5.018e-01 f 6.621e+04 |g| 4.775e+03 CG   1\n",
      "cg reaches trust region boundary\n",
      "iter 10 act 8.967e+02 pre 9.648e+02 delta 6.898e-01 f 6.506e+04 |g| 4.080e+03 CG   3\n",
      "cg reaches trust region boundary\n",
      "iter 11 act 1.310e+02 pre 3.371e+03 delta 3.449e-01 f 6.417e+04 |g| 6.918e+03 CG   1\n",
      "cg reaches trust region boundary\n",
      "iter 12 act 7.431e+02 pre 7.920e+02 delta 4.648e-01 f 6.404e+04 |g| 5.107e+03 CG   2\n",
      "cg reaches trust region boundary\n",
      "iter 13 act 5.748e+02 pre 1.078e+03 delta 3.359e-01 f 6.329e+04 |g| 4.343e+03 CG   2\n",
      "cg reaches trust region boundary\n",
      "iter 14 act 4.538e+02 pre 4.660e+02 delta 5.134e-01 f 6.272e+04 |g| 2.068e+03 CG   2\n",
      "cg reaches trust region boundary\n",
      "iter 15 act 5.096e+02 pre 9.061e+02 delta 4.106e-01 f 6.226e+04 |g| 3.544e+03 CG   2\n",
      "cg reaches trust region boundary\n",
      "iter 16 act 3.457e+01 pre 7.293e+02 delta 2.053e-01 f 6.175e+04 |g| 3.036e+03 CG   1\n",
      "cg reaches trust region boundary\n",
      "iter 17 act 5.120e+02 pre 5.238e+02 delta 2.452e-01 f 6.172e+04 |g| 5.087e+03 CG   2\n",
      "cg reaches trust region boundary\n",
      "iter 18 act 2.933e+02 pre 2.849e+02 delta 4.153e-01 f 6.121e+04 |g| 1.815e+03 CG   2\n",
      "cg reaches trust region boundary\n",
      "iter 19 act 5.861e+02 pre 6.029e+02 delta 9.599e-01 f 6.091e+04 |g| 2.623e+03 CG   2\n",
      "cg reaches trust region boundary\n",
      "iter 20 act 7.522e+02 pre 9.771e+02 delta 1.058e+00 f 6.033e+04 |g| 2.097e+03 CG   3\n",
      "cg reaches trust region boundary\n",
      "iter 21 act -8.244e+02 pre 2.439e+03 delta 4.386e-01 f 5.958e+04 |g| 3.851e+03 CG   2\n",
      "cg reaches trust region boundary\n",
      "iter 21 act 1.997e+02 pre 1.145e+03 delta 2.193e-01 f 5.958e+04 |g| 3.851e+03 CG   1\n",
      "cg reaches trust region boundary\n",
      "iter 22 act 4.759e+02 pre 4.705e+02 delta 2.761e-01 f 5.938e+04 |g| 5.011e+03 CG   2\n",
      "cg reaches trust region boundary\n",
      "iter 23 act 2.822e+02 pre 2.399e+02 delta 7.414e-01 f 5.890e+04 |g| 1.279e+03 CG   2\n",
      "cg reaches trust region boundary\n",
      "iter 24 act 5.146e+02 pre 7.700e+02 delta 6.664e-01 f 5.862e+04 |g| 1.898e+03 CG   3\n",
      "cg reaches trust region boundary\n",
      "iter 25 act -1.462e+02 pre 1.104e+03 delta 3.124e-01 f 5.810e+04 |g| 3.703e+03 CG   3\n",
      "cg reaches trust region boundary\n",
      "iter 25 act 8.790e+01 pre 7.078e+02 delta 1.562e-01 f 5.810e+04 |g| 3.703e+03 CG   2\n",
      "cg reaches trust region boundary\n",
      "iter 26 act 2.358e+02 pre 2.385e+02 delta 2.150e-01 f 5.802e+04 |g| 2.938e+03 CG   2\n",
      "cg reaches trust region boundary\n",
      "iter 27 act 1.739e+02 pre 1.711e+02 delta 3.345e-01 f 5.778e+04 |g| 1.211e+03 CG   2\n",
      "cg reaches trust region boundary\n",
      "iter 28 act 3.425e+02 pre 3.619e+02 delta 6.928e-01 f 5.761e+04 |g| 2.150e+03 CG   2\n",
      "cg reaches trust region boundary\n",
      "iter 29 act 2.566e+02 pre 5.128e+02 delta 5.357e-01 f 5.726e+04 |g| 3.845e+03 CG   4\n",
      "cg reaches trust region boundary\n",
      "iter 30 act 1.160e+02 pre 1.125e+03 delta 2.679e-01 f 5.701e+04 |g| 3.530e+03 CG   2\n",
      "cg reaches trust region boundary\n",
      "iter 31 act 3.790e+02 pre 3.723e+02 delta 2.908e-01 f 5.689e+04 |g| 3.957e+03 CG   2\n",
      "cg reaches trust region boundary\n",
      "iter 32 act 2.075e+02 pre 2.140e+02 delta 3.424e-01 f 5.651e+04 |g| 1.430e+03 CG   3\n",
      "cg reaches trust region boundary\n",
      "iter 33 act 2.334e+02 pre 2.874e+02 delta 3.823e-01 f 5.630e+04 |g| 1.453e+03 CG   3\n",
      "cg reaches trust region boundary\n",
      "iter 34 act -4.260e+01 pre 3.956e+02 delta 1.812e-01 f 5.607e+04 |g| 2.103e+03 CG   2\n",
      "cg reaches trust region boundary\n",
      "iter 34 act 8.783e+01 pre 2.352e+02 delta 1.180e-01 f 5.607e+04 |g| 2.103e+03 CG   2\n",
      "cg reaches trust region boundary\n",
      "iter 35 act 1.058e+02 pre 1.060e+02 delta 1.922e-01 f 5.598e+04 |g| 1.470e+03 CG   2\n",
      "cg reaches trust region boundary\n",
      "iter 36 act 1.474e+02 pre 1.472e+02 delta 4.493e-01 f 5.588e+04 |g| 1.081e+03 CG   2\n",
      "cg reaches trust region boundary\n",
      "iter 37 act 8.359e+01 pre 3.493e+02 delta 2.246e-01 f 5.573e+04 |g| 1.274e+03 CG   2\n",
      "cg reaches trust region boundary\n",
      "iter 38 act 2.673e+02 pre 6.346e+02 delta 1.850e-01 f 5.565e+04 |g| 3.030e+03 CG   1\n",
      "cg reaches trust region boundary\n",
      "iter 39 act 1.377e+02 pre 1.391e+02 delta 3.932e-01 f 5.538e+04 |g| 1.097e+03 CG   2\n",
      "cg reaches trust region boundary\n",
      "iter 40 act 2.216e+02 pre 2.728e+02 delta 5.691e-01 f 5.524e+04 |g| 1.224e+03 CG   3\n",
      "cg reaches trust region boundary\n",
      "iter 41 act -4.092e+02 pre 8.447e+02 delta 2.235e-01 f 5.502e+04 |g| 2.704e+03 CG   2\n",
      "cg reaches trust region boundary\n",
      "iter 41 act 4.270e+01 pre 3.779e+02 delta 1.117e-01 f 5.502e+04 |g| 2.704e+03 CG   2\n",
      "cg reaches trust region boundary\n",
      "iter 42 act 1.097e+02 pre 1.017e+02 delta 1.503e-01 f 5.498e+04 |g| 1.986e+03 CG   2\n",
      "cg reaches trust region boundary\n",
      "iter 43 act 5.581e+01 pre 7.649e+01 delta 1.332e-01 f 5.487e+04 |g| 8.561e+02 CG   2\n",
      "cg reaches trust region boundary\n",
      "iter 44 act 4.165e+01 pre 1.647e+02 delta 7.720e-02 f 5.481e+04 |g| 2.287e+03 CG   2\n",
      "cg reaches trust region boundary\n",
      "iter 45 act 6.931e+01 pre 6.970e+01 delta 9.793e-02 f 5.477e+04 |g| 1.591e+03 CG   2\n",
      "cg reaches trust region boundary\n",
      "iter 46 act 5.095e+01 pre 5.037e+01 delta 1.161e-01 f 5.470e+04 |g| 9.033e+02 CG   2\n",
      "cg reaches trust region boundary\n",
      "iter 47 act 9.438e+01 pre 9.491e+01 delta 2.045e-01 f 5.465e+04 |g| 1.398e+03 CG   2\n",
      "cg reaches trust region boundary\n",
      "iter 48 act 1.040e+02 pre 1.313e+02 delta 2.866e-01 f 5.456e+04 |g| 8.633e+02 CG   2\n",
      "cg reaches trust region boundary\n",
      "iter 49 act -1.095e+02 pre 5.288e+02 delta 1.273e-01 f 5.445e+04 |g| 3.040e+03 CG   1\n",
      "cg reaches trust region boundary\n",
      "iter 49 act 2.636e+01 pre 3.194e+02 delta 6.364e-02 f 5.445e+04 |g| 3.040e+03 CG   1\n",
      "cg reaches trust region boundary\n",
      "iter 50 act 3.941e+01 pre 3.902e+01 delta 7.525e-02 f 5.443e+04 |g| 1.085e+03 CG   2\n",
      "cg reaches trust region boundary\n",
      "iter 51 act 4.559e+01 pre 4.585e+01 delta 9.635e-02 f 5.439e+04 |g| 1.017e+03 CG   2\n",
      "cg reaches trust region boundary\n",
      "iter 52 act 6.472e+01 pre 6.620e+01 delta 1.565e-01 f 5.434e+04 |g| 1.070e+03 CG   2\n",
      "cg reaches trust region boundary\n",
      "iter 53 act 1.006e+02 pre 1.009e+02 delta 3.309e-01 f 5.428e+04 |g| 1.265e+03 CG   3\n",
      "cg reaches trust region boundary\n",
      "iter 54 act 9.154e+01 pre 2.247e+02 delta 2.560e-01 f 5.417e+04 |g| 1.121e+03 CG   3\n",
      "cg reaches trust region boundary\n",
      "iter 55 act 1.050e+02 pre 5.275e+02 delta 1.280e-01 f 5.408e+04 |g| 2.700e+03 CG   2\n",
      "cg reaches trust region boundary\n",
      "iter 56 act 1.006e+02 pre 1.185e+02 delta 1.551e-01 f 5.398e+04 |g| 1.844e+03 CG   2\n",
      "cg reaches trust region boundary\n",
      "iter 57 act 1.444e+01 pre 2.048e+02 delta 7.755e-02 f 5.388e+04 |g| 1.732e+03 CG   1\n",
      "cg reaches trust region boundary\n",
      "iter 58 act 5.793e+01 pre 5.760e+01 delta 1.051e-01 f 5.386e+04 |g| 1.246e+03 CG   2\n",
      "cg reaches trust region boundary\n",
      "iter 59 act 6.472e+01 pre 6.500e+01 delta 1.608e-01 f 5.381e+04 |g| 9.549e+02 CG   2\n",
      "cg reaches trust region boundary\n",
      "iter 60 act 1.148e+02 pre 1.147e+02 delta 3.946e-01 f 5.374e+04 |g| 1.145e+03 CG   2\n",
      "cg reaches trust region boundary\n",
      "iter 61 act 5.841e+01 pre 2.392e+02 delta 1.973e-01 f 5.363e+04 |g| 8.378e+02 CG   2\n",
      "cg reaches trust region boundary\n",
      "iter 62 act 1.792e+02 pre 5.425e+02 delta 1.412e-01 f 5.357e+04 |g| 3.015e+03 CG   1\n",
      "cg reaches trust region boundary\n",
      "iter 63 act 9.589e+01 pre 9.641e+01 delta 2.886e-01 f 5.339e+04 |g| 1.067e+03 CG   2\n",
      "cg reaches trust region boundary\n",
      "iter 64 act 1.023e+02 pre 1.773e+02 delta 2.823e-01 f 5.329e+04 |g| 8.902e+02 CG   2\n",
      "cg reaches trust region boundary\n",
      "iter 65 act -7.035e+01 pre 2.825e+02 delta 1.250e-01 f 5.319e+04 |g| 2.079e+03 CG   2\n",
      "cg reaches trust region boundary\n",
      "iter 65 act 7.609e+01 pre 1.844e+02 delta 9.084e-02 f 5.319e+04 |g| 2.079e+03 CG   2\n",
      "cg reaches trust region boundary\n",
      "iter 66 act 4.833e+01 pre 6.782e+01 delta 8.821e-02 f 5.311e+04 |g| 1.297e+03 CG   2\n",
      "cg reaches trust region boundary\n",
      "iter 67 act 2.463e+01 pre 2.087e+02 delta 4.410e-02 f 5.307e+04 |g| 2.434e+03 CG   1\n",
      "cg reaches trust region boundary\n",
      "iter 68 act 2.750e+01 pre 2.750e+01 delta 1.764e-01 f 5.304e+04 |g| 6.785e+02 CG   1\n",
      "cg reaches trust region boundary\n",
      "iter 69 act 2.923e+01 pre 6.876e+01 delta 1.162e-01 f 5.301e+04 |g| 6.881e+02 CG   2\n",
      "cg reaches trust region boundary\n",
      "iter 70 act 6.302e+01 pre 1.428e+02 delta 7.536e-02 f 5.298e+04 |g| 2.369e+03 CG   1\n",
      "cg reaches trust region boundary\n",
      "iter 71 act 5.943e+01 pre 5.974e+01 delta 1.005e-01 f 5.292e+04 |g| 1.408e+03 CG   2\n",
      "cg reaches trust region boundary\n",
      "iter 72 act 3.016e+01 pre 4.581e+01 delta 8.562e-02 f 5.286e+04 |g| 7.354e+02 CG   2\n",
      "cg reaches trust region boundary\n",
      "iter 73 act 2.946e+01 pre 1.860e+02 delta 4.281e-02 f 5.283e+04 |g| 2.611e+03 CG   1\n",
      "cg reaches trust region boundary\n",
      "iter 74 act 2.412e+01 pre 2.440e+01 delta 1.186e-01 f 5.280e+04 |g| 6.874e+02 CG   1\n",
      "cg reaches trust region boundary\n",
      "iter 75 act 4.232e+01 pre 4.329e+01 delta 1.215e-01 f 5.278e+04 |g| 7.175e+02 CG   2\n",
      "cg reaches trust region boundary\n",
      "iter 76 act 9.358e+01 pre 9.334e+01 delta 2.075e-01 f 5.274e+04 |g| 1.782e+03 CG   3\n",
      "cg reaches trust region boundary\n",
      "iter 77 act -4.647e+00 pre 7.118e+01 delta 1.003e-01 f 5.264e+04 |g| 6.702e+02 CG   3\n",
      "cg reaches trust region boundary\n",
      "iter 77 act 9.531e+00 pre 3.891e+01 delta 5.014e-02 f 5.264e+04 |g| 6.702e+02 CG   2\n",
      "cg reaches trust region boundary\n",
      "iter 78 act 4.674e+01 pre 1.231e+02 delta 3.888e-02 f 5.263e+04 |g| 2.624e+03 CG   1\n",
      "cg reaches trust region boundary\n",
      "iter 79 act 2.007e+01 pre 2.011e+01 delta 7.700e-02 f 5.259e+04 |g| 6.906e+02 CG   1\n",
      "cg reaches trust region boundary\n",
      "iter 80 act 3.141e+01 pre 3.157e+01 delta 9.175e-02 f 5.257e+04 |g| 7.559e+02 CG   2\n",
      "cg reaches trust region boundary\n",
      "iter 81 act 3.385e+01 pre 5.431e+01 delta 7.711e-02 f 5.253e+04 |g| 1.106e+03 CG   2\n",
      "cg reaches trust region boundary\n",
      "iter 82 act 2.756e+01 pre 1.827e+02 delta 3.856e-02 f 5.250e+04 |g| 2.430e+03 CG   1\n",
      "cg reaches trust region boundary\n",
      "iter 83 act 2.104e+01 pre 2.321e+01 delta 1.491e-01 f 5.247e+04 |g| 6.267e+02 CG   1\n",
      "cg reaches trust region boundary\n",
      "iter 84 act 7.917e+01 pre 7.925e+01 delta 4.316e-01 f 5.245e+04 |g| 1.186e+03 CG   2\n",
      "cg reaches trust region boundary\n",
      "iter 85 act 6.050e+01 pre 2.173e+02 delta 2.737e-01 f 5.237e+04 |g| 1.046e+03 CG   3\n",
      "cg reaches trust region boundary\n",
      "iter 86 act 1.514e+02 pre 5.966e+02 delta 1.758e-01 f 5.231e+04 |g| 2.495e+03 CG   1\n",
      "cg reaches trust region boundary\n",
      "iter 87 act 1.008e+02 pre 1.404e+02 delta 1.800e-01 f 5.216e+04 |g| 1.857e+03 CG   2\n",
      "cg reaches trust region boundary\n",
      "iter 88 act 2.716e+01 pre 2.462e+02 delta 8.998e-02 f 5.206e+04 |g| 1.740e+03 CG   1\n",
      "cg reaches trust region boundary\n",
      "iter 89 act 6.248e+01 pre 6.232e+01 delta 1.368e-01 f 5.203e+04 |g| 1.139e+03 CG   2\n",
      "cg reaches trust region boundary\n",
      "iter 90 act 7.784e+01 pre 7.817e+01 delta 2.680e-01 f 5.197e+04 |g| 8.309e+02 CG   2\n",
      "cg reaches trust region boundary\n",
      "iter 91 act 4.982e+01 pre 1.595e+02 delta 1.829e-01 f 5.189e+04 |g| 9.858e+02 CG   2\n",
      "cg reaches trust region boundary\n",
      "iter 92 act 8.482e+01 pre 5.052e+02 delta 9.144e-02 f 5.184e+04 |g| 2.961e+03 CG   1\n",
      "cg reaches trust region boundary\n",
      "iter 93 act 5.792e+01 pre 5.745e+01 delta 1.603e-01 f 5.176e+04 |g| 1.013e+03 CG   2\n",
      "cg reaches trust region boundary\n",
      "iter 94 act 6.526e+01 pre 8.621e+01 delta 1.982e-01 f 5.170e+04 |g| 7.508e+02 CG   2\n",
      "cg reaches trust region boundary\n",
      "iter 95 act -3.074e+01 pre 1.894e+02 delta 9.127e-02 f 5.163e+04 |g| 1.812e+03 CG   1\n",
      "cg reaches trust region boundary\n",
      "iter 95 act 2.806e+01 pre 1.294e+02 delta 4.564e-02 f 5.163e+04 |g| 1.812e+03 CG   1\n",
      "cg reaches trust region boundary\n",
      "iter 96 act 2.144e+01 pre 2.150e+01 delta 5.810e-02 f 5.161e+04 |g| 7.737e+02 CG   1\n",
      "cg reaches trust region boundary\n",
      "iter 97 act 2.623e+01 pre 2.600e+01 delta 6.774e-02 f 5.159e+04 |g| 7.960e+02 CG   2\n",
      "cg reaches trust region boundary\n",
      "iter 98 act 3.640e+01 pre 3.658e+01 delta 9.602e-02 f 5.156e+04 |g| 8.775e+02 CG   2\n",
      "cg reaches trust region boundary\n",
      "iter 99 act 2.607e+01 pre 5.015e+01 delta 7.748e-02 f 5.152e+04 |g| 7.803e+02 CG   2\n",
      "cg reaches trust region boundary\n",
      "iter 100 act 2.263e+01 pre 2.040e+02 delta 3.874e-02 f 5.150e+04 |g| 2.923e+03 CG   1\n",
      "cg reaches trust region boundary\n",
      "iter 101 act 2.232e+01 pre 2.233e+01 delta 1.550e-01 f 5.147e+04 |g| 5.968e+02 CG   1\n",
      "cg reaches trust region boundary\n",
      "iter 102 act 4.105e+01 pre 7.282e+01 delta 1.406e-01 f 5.145e+04 |g| 5.902e+02 CG   1\n",
      "cg reaches trust region boundary\n",
      "iter 103 act 1.667e+01 pre 1.648e+02 delta 7.029e-02 f 5.141e+04 |g| 1.912e+03 CG   1\n",
      "cg reaches trust region boundary\n",
      "iter 104 act 5.716e+01 pre 5.760e+01 delta 8.502e-02 f 5.139e+04 |g| 2.183e+03 CG   3\n",
      "cg reaches trust region boundary\n",
      "iter 105 act 3.263e+01 pre 3.214e+01 delta 1.002e-01 f 5.134e+04 |g| 6.742e+02 CG   2\n",
      "cg reaches trust region boundary\n",
      "iter 106 act 6.247e+01 pre 6.278e+01 delta 1.753e-01 f 5.130e+04 |g| 1.108e+03 CG   2\n",
      "cg reaches trust region boundary\n",
      "iter 107 act -2.256e+01 pre 8.400e+01 delta 7.237e-02 f 5.124e+04 |g| 6.591e+02 CG   2\n",
      "cg reaches trust region boundary\n",
      "iter 107 act -7.139e-01 pre 2.718e+01 delta 3.565e-02 f 5.124e+04 |g| 6.591e+02 CG   2\n",
      "cg reaches trust region boundary\n",
      "iter 107 act 1.275e+01 pre 1.669e+01 delta 3.899e-02 f 5.124e+04 |g| 6.591e+02 CG   1\n",
      "cg reaches trust region boundary\n",
      "iter 108 act 2.090e+01 pre 2.361e+01 delta 4.567e-02 f 5.123e+04 |g| 2.108e+03 CG   2\n",
      "cg reaches trust region boundary\n",
      "iter 109 act 8.041e+00 pre 1.761e+01 delta 3.146e-02 f 5.121e+04 |g| 6.422e+02 CG   1\n",
      "cg reaches trust region boundary\n",
      "iter 110 act 1.250e+01 pre 4.917e+01 delta 1.859e-02 f 5.120e+04 |g| 2.584e+03 CG   1\n",
      "cg reaches trust region boundary\n",
      "iter 111 act 1.032e+01 pre 1.033e+01 delta 7.436e-02 f 5.119e+04 |g| 6.165e+02 CG   1\n",
      "cg reaches trust region boundary\n",
      "iter 112 act 2.672e+01 pre 4.008e+01 delta 1.059e-01 f 5.118e+04 |g| 5.539e+02 CG   1\n",
      "cg reaches trust region boundary\n",
      "iter 113 act 7.815e+00 pre 1.447e+02 delta 5.294e-02 f 5.115e+04 |g| 1.655e+03 CG   1\n",
      "cg reaches trust region boundary\n",
      "iter 114 act 2.874e+01 pre 2.966e+01 delta 7.548e-02 f 5.114e+04 |g| 1.991e+03 CG   2\n",
      "cg reaches trust region boundary\n",
      "iter 115 act 3.552e+01 pre 3.607e+01 delta 1.060e-01 f 5.111e+04 |g| 7.583e+02 CG   2\n",
      "cg reaches trust region boundary\n",
      "iter 116 act 5.828e+01 pre 5.821e+01 delta 2.152e-01 f 5.108e+04 |g| 1.059e+03 CG   3\n",
      "cg reaches trust region boundary\n",
      "iter 117 act 6.054e+01 pre 1.057e+02 delta 2.048e-01 f 5.102e+04 |g| 7.276e+02 CG   3\n",
      "cg reaches trust region boundary\n",
      "iter 118 act 5.928e+00 pre 1.859e+02 delta 1.024e-01 f 5.096e+04 |g| 1.815e+03 CG   2\n",
      "cg reaches trust region boundary\n",
      "iter 119 act 8.725e+01 pre 8.756e+01 delta 1.395e-01 f 5.095e+04 |g| 1.642e+03 CG   2\n",
      "cg reaches trust region boundary\n",
      "iter 120 act 1.546e+01 pre 5.993e+01 delta 8.394e-02 f 5.087e+04 |g| 6.655e+02 CG   2\n",
      "cg reaches trust region boundary\n",
      "iter 121 act 6.179e+01 pre 1.980e+02 delta 5.843e-02 f 5.085e+04 |g| 2.614e+03 CG   1\n",
      "cg reaches trust region boundary\n",
      "iter 122 act 2.905e+01 pre 2.904e+01 delta 1.980e-01 f 5.079e+04 |g| 5.834e+02 CG   1\n",
      "cg reaches trust region boundary\n",
      "iter 123 act 3.497e+01 pre 9.934e+01 delta 1.397e-01 f 5.076e+04 |g| 6.841e+02 CG   2\n",
      "cg reaches trust region boundary\n",
      "iter 124 act 5.618e+01 pre 3.834e+02 delta 6.984e-02 f 5.073e+04 |g| 2.945e+03 CG   1\n",
      "cg reaches trust region boundary\n",
      "iter 125 act 2.924e+01 pre 2.931e+01 delta 1.021e-01 f 5.067e+04 |g| 6.361e+02 CG   1\n",
      "cg reaches trust region boundary\n",
      "iter 126 act 5.631e+01 pre 5.821e+01 delta 1.866e-01 f 5.064e+04 |g| 9.260e+02 CG   2\n",
      "cg reaches trust region boundary\n",
      "iter 127 act 8.948e+01 pre 8.963e+01 delta 4.698e-01 f 5.058e+04 |g| 1.140e+03 CG   3\n",
      "cg reaches trust region boundary\n",
      "iter 128 act 2.352e+02 pre 2.350e+02 delta 1.879e+00 f 5.049e+04 |g| 9.502e+02 CG   3\n",
      "cg reaches trust region boundary\n",
      "iter 129 act -2.731e+02 pre 7.292e+02 delta 7.348e-01 f 5.026e+04 |g| 1.006e+03 CG   4\n",
      "cg reaches trust region boundary\n",
      "iter 129 act -1.099e+02 pre 2.387e+02 delta 2.881e-01 f 5.026e+04 |g| 1.006e+03 CG   4\n",
      "cg reaches trust region boundary\n",
      "iter 129 act -1.434e+01 pre 1.173e+02 delta 1.326e-01 f 5.026e+04 |g| 1.006e+03 CG   3\n",
      "cg reaches trust region boundary\n",
      "iter 129 act 8.999e+00 pre 5.950e+01 delta 6.630e-02 f 5.026e+04 |g| 1.006e+03 CG   3\n",
      "cg reaches trust region boundary\n",
      "iter 130 act 5.560e+01 pre 1.565e+02 delta 5.035e-02 f 5.025e+04 |g| 2.455e+03 CG   1\n",
      "cg reaches trust region boundary\n",
      "iter 131 act 1.950e+01 pre 2.487e+01 delta 8.585e-02 f 5.019e+04 |g| 5.479e+02 CG   1\n",
      "cg reaches trust region boundary\n",
      "iter 132 act 4.385e+01 pre 5.705e+01 delta 9.680e-02 f 5.017e+04 |g| 1.566e+03 CG   2\n",
      "cg reaches trust region boundary\n",
      "iter 133 act -1.484e+01 pre 3.006e+01 delta 3.811e-02 f 5.013e+04 |g| 5.682e+02 CG   1\n",
      "cg reaches trust region boundary\n",
      "iter 133 act 1.595e+01 pre 1.779e+01 delta 7.229e-02 f 5.013e+04 |g| 5.682e+02 CG   1\n",
      "cg reaches trust region boundary\n",
      "iter 134 act 1.470e+01 pre 2.257e+01 delta 5.397e-02 f 5.011e+04 |g| 1.502e+03 CG   3\n",
      "cg reaches trust region boundary\n",
      "iter 135 act 1.950e+01 pre 5.260e+01 delta 3.376e-02 f 5.010e+04 |g| 1.801e+03 CG   1\n",
      "cg reaches trust region boundary\n",
      "iter 136 act 1.623e+01 pre 1.782e+01 delta 1.350e-01 f 5.008e+04 |g| 5.410e+02 CG   1\n",
      "cg reaches trust region boundary\n",
      "iter 137 act 3.670e+01 pre 6.401e+01 delta 1.372e-01 f 5.006e+04 |g| 1.354e+03 CG   2\n",
      "cg reaches trust region boundary\n",
      "iter 138 act 1.741e+01 pre 1.658e+02 delta 6.862e-02 f 5.003e+04 |g| 1.731e+03 CG   1\n",
      "cg reaches trust region boundary\n",
      "iter 139 act 3.485e+01 pre 3.540e+01 delta 9.011e-02 f 5.001e+04 |g| 8.529e+02 CG   2\n",
      "cg reaches trust region boundary\n",
      "iter 140 act 4.497e+01 pre 4.469e+01 delta 1.579e-01 f 4.998e+04 |g| 8.631e+02 CG   3\n",
      "cg reaches trust region boundary\n",
      "iter 141 act 6.095e+01 pre 7.666e+01 delta 2.183e-01 f 4.993e+04 |g| 7.423e+02 CG   3\n",
      "cg reaches trust region boundary\n",
      "iter 142 act -3.145e+01 pre 2.135e+02 delta 1.007e-01 f 4.987e+04 |g| 1.737e+03 CG   2\n",
      "cg reaches trust region boundary\n",
      "iter 142 act 1.363e+01 pre 9.394e+01 delta 5.035e-02 f 4.987e+04 |g| 1.737e+03 CG   2\n",
      "cg reaches trust region boundary\n",
      "iter 143 act 2.020e+01 pre 2.026e+01 delta 6.333e-02 f 4.986e+04 |g| 6.659e+02 CG   1\n",
      "cg reaches trust region boundary\n",
      "iter 144 act 1.770e+01 pre 3.089e+01 delta 5.059e-02 f 4.984e+04 |g| 7.899e+02 CG   2\n",
      "cg reaches trust region boundary\n",
      "iter 145 act 1.563e+01 pre 1.166e+02 delta 2.530e-02 f 4.982e+04 |g| 2.426e+03 CG   1\n",
      "cg reaches trust region boundary\n",
      "iter 146 act 1.302e+01 pre 1.302e+01 delta 1.012e-01 f 4.980e+04 |g| 5.351e+02 CG   1\n",
      "cg reaches trust region boundary\n",
      "iter 147 act 4.498e+01 pre 4.886e+01 delta 3.379e-01 f 4.979e+04 |g| 5.228e+02 CG   1\n",
      "cg reaches trust region boundary\n",
      "iter 148 act -1.400e+01 pre 1.594e+02 delta 1.571e-01 f 4.974e+04 |g| 1.458e+03 CG   3\n",
      "cg reaches trust region boundary\n",
      "iter 148 act 5.864e+00 pre 7.210e+01 delta 7.857e-02 f 4.974e+04 |g| 1.458e+03 CG   3\n",
      "cg reaches trust region boundary\n",
      "iter 149 act 7.149e+01 pre 1.849e+02 delta 6.168e-02 f 4.974e+04 |g| 2.506e+03 CG   1\n",
      "cg reaches trust region boundary\n",
      "iter 150 act 3.022e+01 pre 2.957e+01 delta 2.467e-01 f 4.967e+04 |g| 6.311e+02 CG   2\n",
      "cg reaches trust region boundary\n",
      "iter 151 act -3.763e+01 pre 7.348e+01 delta 9.470e-02 f 4.964e+04 |g| 5.047e+02 CG   2\n",
      "cg reaches trust region boundary\n",
      "iter 151 act 2.521e+01 pre 3.656e+01 delta 1.002e-01 f 4.964e+04 |g| 5.047e+02 CG   1\n",
      "cg reaches trust region boundary\n",
      "iter 152 act 6.513e+00 pre 1.322e+02 delta 5.009e-02 f 4.961e+04 |g| 1.781e+03 CG   1\n",
      "cg reaches trust region boundary\n",
      "iter 153 act 2.890e+01 pre 2.936e+01 delta 5.627e-02 f 4.961e+04 |g| 2.041e+03 CG   3\n",
      "cg reaches trust region boundary\n",
      "iter 154 act 1.846e+01 pre 1.864e+01 delta 5.807e-02 f 4.958e+04 |g| 6.366e+02 CG   2\n",
      "cg reaches trust region boundary\n",
      "iter 155 act 2.967e+01 pre 2.949e+01 delta 7.933e-02 f 4.956e+04 |g| 9.015e+02 CG   3\n",
      "cg reaches trust region boundary\n",
      "iter 156 act 2.861e+01 pre 2.892e+01 delta 1.006e-01 f 4.953e+04 |g| 6.238e+02 CG   3\n",
      "cg reaches trust region boundary\n",
      "iter 157 act 5.013e+01 pre 4.953e+01 delta 1.955e-01 f 4.950e+04 |g| 9.375e+02 CG   3\n",
      "cg reaches trust region boundary\n",
      "iter 158 act 2.649e+01 pre 8.195e+01 delta 1.317e-01 f 4.945e+04 |g| 5.916e+02 CG   3\n",
      "cg reaches trust region boundary\n",
      "iter 159 act 5.206e+01 pre 1.563e+02 delta 8.340e-02 f 4.942e+04 |g| 1.886e+03 CG   2\n",
      "cg reaches trust region boundary\n",
      "iter 160 act 4.014e+01 pre 4.704e+01 delta 1.020e-01 f 4.937e+04 |g| 9.454e+02 CG   2\n",
      "cg reaches trust region boundary\n",
      "iter 161 act 3.614e+01 pre 5.978e+01 delta 7.456e-02 f 4.933e+04 |g| 2.328e+03 CG   3\n",
      "cg reaches trust region boundary\n",
      "iter 162 act 4.193e+01 pre 4.457e+01 delta 1.001e-01 f 4.929e+04 |g| 1.079e+03 CG   2\n",
      "cg reaches trust region boundary\n",
      "iter 163 act -5.634e+00 pre 3.410e+01 delta 4.558e-02 f 4.925e+04 |g| 1.189e+03 CG   3\n",
      "cg reaches trust region boundary\n",
      "iter 163 act 8.780e+00 pre 1.933e+01 delta 3.276e-02 f 4.925e+04 |g| 1.189e+03 CG   2\n",
      "cg reaches trust region boundary\n",
      "iter 164 act 1.169e+01 pre 7.138e+01 delta 1.638e-02 f 4.924e+04 |g| 2.402e+03 CG   1\n",
      "cg reaches trust region boundary\n",
      "iter 165 act 7.747e+00 pre 7.749e+00 delta 6.552e-02 f 4.923e+04 |g| 5.188e+02 CG   1\n",
      "cg reaches trust region boundary\n",
      "iter 166 act 3.084e+01 pre 3.084e+01 delta 2.621e-01 f 4.922e+04 |g| 4.736e+02 CG   1\n",
      "cg reaches trust region boundary\n",
      "iter 167 act -4.351e+01 pre 1.007e+02 delta 9.699e-02 f 4.919e+04 |g| 4.728e+02 CG   1\n",
      "cg reaches trust region boundary\n",
      "iter 167 act -3.411e-01 pre 4.267e+01 delta 4.814e-02 f 4.919e+04 |g| 4.728e+02 CG   1\n",
      "cg reaches trust region boundary\n",
      "iter 167 act 8.329e+00 pre 2.198e+01 delta 3.796e-02 f 4.919e+04 |g| 4.728e+02 CG   1\n",
      "cg reaches trust region boundary\n",
      "iter 168 act 1.269e+01 pre 8.518e+01 delta 1.898e-02 f 4.919e+04 |g| 2.390e+03 CG   1\n",
      "cg reaches trust region boundary\n",
      "iter 169 act 8.851e+00 pre 9.032e+00 delta 7.592e-02 f 4.917e+04 |g| 4.915e+02 CG   1\n",
      "cg reaches trust region boundary\n",
      "iter 170 act 3.388e+01 pre 2.610e+01 delta 3.037e-01 f 4.916e+04 |g| 4.895e+02 CG   2\n",
      "cg reaches trust region boundary\n",
      "iter 171 act -1.493e+02 pre 1.108e+02 delta 7.669e-02 f 4.913e+04 |g| 5.098e+02 CG   2\n",
      "cg reaches trust region boundary\n",
      "iter 171 act -1.095e+01 pre 2.892e+01 delta 2.996e-02 f 4.913e+04 |g| 5.098e+02 CG   1\n",
      "cg reaches trust region boundary\n",
      "iter 171 act 1.146e+01 pre 1.372e+01 delta 5.993e-02 f 4.913e+04 |g| 5.098e+02 CG   1\n",
      "cg reaches trust region boundary\n",
      "iter 172 act 1.868e+01 pre 2.436e+01 delta 6.884e-02 f 4.912e+04 |g| 1.642e+03 CG   2\n",
      "cg reaches trust region boundary\n",
      "iter 173 act 2.815e+01 pre 4.808e+01 delta 5.193e-02 f 4.910e+04 |g| 1.610e+03 CG   3\n",
      "cg reaches trust region boundary\n",
      "iter 174 act 1.652e+01 pre 1.662e+01 delta 5.333e-02 f 4.907e+04 |g| 7.785e+02 CG   3\n",
      "cg reaches trust region boundary\n",
      "iter 175 act 2.398e+01 pre 2.440e+01 delta 6.727e-02 f 4.905e+04 |g| 8.058e+02 CG   3\n",
      "cg reaches trust region boundary\n",
      "iter 176 act 2.127e+01 pre 2.135e+01 delta 7.468e-02 f 4.903e+04 |g| 7.020e+02 CG   4\n",
      "cg reaches trust region boundary\n",
      "iter 177 act 3.605e+01 pre 3.522e+01 delta 1.189e-01 f 4.901e+04 |g| 9.102e+02 CG   3\n",
      "cg reaches trust region boundary\n",
      "iter 178 act -5.870e+00 pre 4.345e+01 delta 5.441e-02 f 4.897e+04 |g| 5.835e+02 CG   3\n",
      "cg reaches trust region boundary\n",
      "iter 178 act 8.466e+00 pre 1.823e+01 delta 3.746e-02 f 4.897e+04 |g| 5.835e+02 CG   2\n",
      "cg reaches trust region boundary\n",
      "iter 179 act 1.249e+01 pre 7.600e+01 delta 1.873e-02 f 4.897e+04 |g| 2.419e+03 CG   1\n",
      "cg reaches trust region boundary\n",
      "iter 180 act 8.602e+00 pre 8.576e+00 delta 5.510e-02 f 4.895e+04 |g| 5.534e+02 CG   1\n",
      "cg reaches trust region boundary\n",
      "iter 181 act 2.322e+01 pre 2.474e+01 delta 2.204e-01 f 4.894e+04 |g| 4.688e+02 CG   1\n",
      "cg reaches trust region boundary\n",
      "iter 182 act -4.012e+01 pre 6.447e+01 delta 8.065e-02 f 4.892e+04 |g| 1.181e+03 CG   2\n",
      "cg reaches trust region boundary\n",
      "iter 182 act 1.527e+01 pre 3.478e+01 delta 6.234e-02 f 4.892e+04 |g| 1.181e+03 CG   2\n",
      "cg reaches trust region boundary\n",
      "iter 183 act 2.065e+01 pre 1.471e+02 delta 3.117e-02 f 4.891e+04 |g| 2.426e+03 CG   1\n",
      "cg reaches trust region boundary\n",
      "iter 184 act 1.428e+01 pre 1.438e+01 delta 1.247e-01 f 4.888e+04 |g| 4.699e+02 CG   1\n",
      "cg reaches trust region boundary\n",
      "iter 185 act 5.589e+01 pre 5.452e+01 delta 4.987e-01 f 4.887e+04 |g| 5.267e+02 CG   2\n",
      "cg reaches trust region boundary\n",
      "iter 186 act -1.789e+02 pre 1.864e+02 delta 1.428e-01 f 4.881e+04 |g| 5.540e+02 CG   2\n",
      "cg reaches trust region boundary\n",
      "iter 186 act -3.377e+01 pre 5.671e+01 delta 4.902e-02 f 4.881e+04 |g| 5.540e+02 CG   2\n",
      "cg reaches trust region boundary\n",
      "iter 186 act 5.363e+00 pre 1.540e+01 delta 3.054e-02 f 4.881e+04 |g| 5.540e+02 CG   1\n",
      "cg reaches trust region boundary\n",
      "iter 187 act 1.181e+01 pre 4.259e+01 delta 1.792e-02 f 4.881e+04 |g| 2.637e+03 CG   2\n",
      "cg reaches trust region boundary\n",
      "iter 188 act 8.612e+00 pre 8.641e+00 delta 4.545e-02 f 4.880e+04 |g| 5.986e+02 CG   1\n",
      "cg reaches trust region boundary\n",
      "iter 189 act 1.850e+01 pre 2.032e+01 delta 1.818e-01 f 4.879e+04 |g| 4.626e+02 CG   1\n",
      "cg reaches trust region boundary\n",
      "iter 190 act -7.439e+00 pre 8.332e+01 delta 8.388e-02 f 4.877e+04 |g| 1.224e+03 CG   2\n",
      "cg reaches trust region boundary\n",
      "iter 190 act 9.457e+00 pre 4.027e+01 delta 4.194e-02 f 4.877e+04 |g| 1.224e+03 CG   2\n",
      "cg reaches trust region boundary\n",
      "iter 191 act 2.943e+01 pre 9.913e+01 delta 2.975e-02 f 4.876e+04 |g| 2.377e+03 CG   1\n",
      "cg reaches trust region boundary\n",
      "iter 192 act 1.359e+01 pre 1.359e+01 delta 1.190e-01 f 4.873e+04 |g| 4.593e+02 CG   1\n",
      "cg reaches trust region boundary\n",
      "iter 193 act 2.497e+01 pre 5.256e+01 delta 1.098e-01 f 4.872e+04 |g| 4.581e+02 CG   1\n",
      "cg reaches trust region boundary\n",
      "iter 194 act 1.986e+01 pre 1.518e+02 delta 5.488e-02 f 4.869e+04 |g| 2.459e+03 CG   1\n",
      "cg reaches trust region boundary\n",
      "iter 195 act 2.032e+01 pre 2.024e+01 delta 8.373e-02 f 4.867e+04 |g| 5.508e+02 CG   1\n",
      "cg reaches trust region boundary\n",
      "iter 196 act 2.696e+01 pre 3.914e+01 delta 8.425e-02 f 4.865e+04 |g| 7.331e+02 CG   2\n",
      "cg reaches trust region boundary\n",
      "iter 197 act 1.187e+01 pre 1.134e+02 delta 4.213e-02 f 4.863e+04 |g| 1.658e+03 CG   1\n",
      "cg reaches trust region boundary\n",
      "iter 198 act 2.041e+01 pre 2.041e+01 delta 1.685e-01 f 4.861e+04 |g| 5.395e+02 CG   1\n",
      "cg reaches trust region boundary\n",
      "iter 199 act 1.780e+01 pre 6.061e+01 delta 1.052e-01 f 4.859e+04 |g| 5.376e+02 CG   2\n",
      "cg reaches trust region boundary\n",
      "iter 200 act 4.804e+01 pre 2.907e+02 delta 5.260e-02 f 4.858e+04 |g| 3.086e+03 CG   1\n",
      "cg reaches trust region boundary\n",
      "iter 201 act 1.827e+01 pre 1.814e+01 delta 6.830e-02 f 4.853e+04 |g| 5.649e+02 CG   1\n",
      "cg reaches trust region boundary\n",
      "iter 202 act 3.189e+01 pre 3.206e+01 delta 1.082e-01 f 4.851e+04 |g| 7.541e+02 CG   2\n",
      "cg reaches trust region boundary\n",
      "iter 203 act 2.352e+01 pre 4.573e+01 delta 8.977e-02 f 4.848e+04 |g| 6.090e+02 CG   2\n",
      "cg reaches trust region boundary\n",
      "iter 204 act 2.047e+01 pre 1.284e+02 delta 4.489e-02 f 4.845e+04 |g| 1.759e+03 CG   1\n",
      "cg reaches trust region boundary\n",
      "iter 205 act 1.241e+01 pre 1.790e+01 delta 3.634e-02 f 4.843e+04 |g| 7.276e+02 CG   2\n",
      "cg reaches trust region boundary\n",
      "iter 206 act 1.874e+01 pre 3.221e+01 delta 2.709e-02 f 4.842e+04 |g| 2.309e+03 CG   2\n",
      "cg reaches trust region boundary\n",
      "iter 207 act 1.215e+01 pre 1.214e+01 delta 9.618e-02 f 4.840e+04 |g| 5.221e+02 CG   1\n",
      "cg reaches trust region boundary\n",
      "iter 208 act -1.158e+00 pre 3.242e+01 delta 4.695e-02 f 4.839e+04 |g| 4.967e+02 CG   1\n",
      "cg reaches trust region boundary\n",
      "iter 208 act 1.304e+01 pre 1.966e+01 delta 5.325e-02 f 4.839e+04 |g| 4.967e+02 CG   1\n",
      "cg reaches trust region boundary\n",
      "iter 209 act 2.192e+01 pre 4.318e+01 delta 3.710e-02 f 4.838e+04 |g| 2.309e+03 CG   2\n",
      "cg reaches trust region boundary\n",
      "iter 210 act 1.203e+01 pre 1.222e+01 delta 3.954e-02 f 4.836e+04 |g| 6.109e+02 CG   1\n",
      "cg reaches trust region boundary\n",
      "iter 211 act 1.394e+01 pre 1.372e+01 delta 4.633e-02 f 4.834e+04 |g| 6.238e+02 CG   2\n",
      "cg reaches trust region boundary\n",
      "iter 212 act 7.251e+00 pre 1.549e+01 delta 3.150e-02 f 4.833e+04 |g| 5.959e+02 CG   2\n",
      "cg reaches trust region boundary\n",
      "iter 213 act 9.614e+00 pre 5.448e+01 delta 1.575e-02 f 4.832e+04 |g| 2.383e+03 CG   1\n",
      "cg reaches trust region boundary\n",
      "iter 214 act 7.061e+00 pre 7.094e+00 delta 4.943e-02 f 4.831e+04 |g| 5.333e+02 CG   1\n",
      "cg reaches trust region boundary\n",
      "iter 215 act 2.027e+01 pre 1.243e+01 delta 1.977e-01 f 4.831e+04 |g| 4.578e+02 CG   1\n",
      "cg reaches trust region boundary\n",
      "iter 216 act -7.868e+01 pre 8.391e+01 delta 5.307e-02 f 4.829e+04 |g| 4.611e+02 CG   1\n",
      "cg reaches trust region boundary\n",
      "iter 216 act 1.435e+01 pre 2.395e+01 delta 6.419e-02 f 4.829e+04 |g| 4.611e+02 CG   1\n",
      "cg reaches trust region boundary\n",
      "iter 217 act 2.710e+01 pre 6.413e+01 delta 4.264e-02 f 4.827e+04 |g| 2.520e+03 CG   3\n",
      "cg reaches trust region boundary\n",
      "iter 218 act 1.730e+01 pre 1.063e+01 delta 1.705e-01 f 4.824e+04 |g| 4.639e+02 CG   2\n",
      "cg reaches trust region boundary\n",
      "iter 219 act -4.002e+01 pre 6.476e+01 delta 5.664e-02 f 4.823e+04 |g| 4.649e+02 CG   1\n",
      "cg reaches trust region boundary\n",
      "iter 219 act 2.106e+01 pre 2.473e+01 delta 1.416e-01 f 4.823e+04 |g| 4.649e+02 CG   1\n",
      "cg reaches trust region boundary\n",
      "iter 220 act -1.937e+01 pre 4.804e+01 delta 5.658e-02 f 4.821e+04 |g| 1.374e+03 CG   3\n",
      "cg reaches trust region boundary\n",
      "iter 220 act 8.534e+00 pre 2.424e+01 delta 3.676e-02 f 4.821e+04 |g| 1.374e+03 CG   2\n",
      "cg reaches trust region boundary\n",
      "iter 221 act 1.570e+01 pre 8.639e+01 delta 1.838e-02 f 4.820e+04 |g| 2.424e+03 CG   1\n",
      "cg reaches trust region boundary\n",
      "iter 222 act 7.956e+00 pre 8.004e+00 delta 6.715e-02 f 4.818e+04 |g| 5.015e+02 CG   1\n",
      "cg reaches trust region boundary\n",
      "iter 223 act 2.776e+01 pre 2.314e+01 delta 2.686e-01 f 4.817e+04 |g| 4.484e+02 CG   1\n",
      "cg reaches trust region boundary\n",
      "iter 224 act -1.353e+02 pre 9.297e+01 delta 6.715e-02 f 4.815e+04 |g| 4.812e+02 CG   2\n",
      "cg reaches trust region boundary\n",
      "iter 224 act -2.403e+00 pre 2.394e+01 delta 3.125e-02 f 4.815e+04 |g| 4.812e+02 CG   1\n",
      "cg reaches trust region boundary\n",
      "iter 224 act 1.164e+01 pre 1.322e+01 delta 6.915e-02 f 4.815e+04 |g| 4.812e+02 CG   1\n",
      "cg reaches trust region boundary\n",
      "iter 225 act 1.070e+01 pre 2.058e+01 delta 5.031e-02 f 4.813e+04 |g| 1.318e+03 CG   2\n",
      "cg reaches trust region boundary\n",
      "iter 226 act 1.753e+01 pre 6.985e+01 delta 3.122e-02 f 4.812e+04 |g| 1.795e+03 CG   1\n",
      "cg reaches trust region boundary\n",
      "iter 227 act 1.333e+01 pre 1.450e+01 delta 1.249e-01 f 4.811e+04 |g| 4.754e+02 CG   1\n",
      "cg reaches trust region boundary\n",
      "iter 228 act 2.573e+01 pre 5.210e+01 delta 1.123e-01 f 4.809e+04 |g| 1.095e+03 CG   2\n",
      "cg reaches trust region boundary\n",
      "iter 229 act 2.066e+01 pre 1.452e+02 delta 5.616e-02 f 4.807e+04 |g| 1.699e+03 CG   1\n",
      "cg reaches trust region boundary\n",
      "iter 230 act 2.071e+01 pre 2.135e+01 delta 7.842e-02 f 4.805e+04 |g| 5.743e+02 CG   1\n",
      "cg reaches trust region boundary\n",
      "iter 231 act 3.599e+01 pre 3.580e+01 delta 1.376e-01 f 4.803e+04 |g| 9.019e+02 CG   3\n",
      "cg reaches trust region boundary\n",
      "iter 232 act 3.832e+01 pre 5.604e+01 delta 1.493e-01 f 4.799e+04 |g| 6.103e+02 CG   3\n",
      "cg reaches trust region boundary\n",
      "iter 233 act -4.732e-01 pre 1.614e+02 delta 7.453e-02 f 4.795e+04 |g| 1.718e+03 CG   1\n",
      "cg reaches trust region boundary\n",
      "iter 233 act 1.938e+01 pre 1.043e+02 delta 3.726e-02 f 4.795e+04 |g| 1.718e+03 CG   1\n",
      "cg reaches trust region boundary\n",
      "iter 234 act 1.499e+01 pre 1.686e+01 delta 1.026e-01 f 4.793e+04 |g| 4.916e+02 CG   1\n",
      "cg reaches trust region boundary\n",
      "iter 235 act 3.098e+01 pre 3.089e+01 delta 1.274e-01 f 4.792e+04 |g| 1.471e+03 CG   2\n",
      "cg reaches trust region boundary\n",
      "iter 236 act 5.057e+01 pre 5.958e+01 delta 1.602e-01 f 4.789e+04 |g| 1.031e+03 CG   3\n",
      "cg reaches trust region boundary\n",
      "iter 237 act -4.500e+00 pre 1.766e+02 delta 7.873e-02 f 4.783e+04 |g| 1.636e+03 CG   1\n",
      "cg reaches trust region boundary\n",
      "iter 237 act 1.040e+01 pre 1.082e+02 delta 3.937e-02 f 4.783e+04 |g| 1.636e+03 CG   1\n",
      "cg reaches trust region boundary\n",
      "iter 238 act 1.268e+01 pre 1.860e+01 delta 5.665e-02 f 4.782e+04 |g| 4.935e+02 CG   1\n",
      "cg reaches trust region boundary\n",
      "iter 239 act 2.809e+01 pre 4.221e+01 delta 5.153e-02 f 4.781e+04 |g| 2.262e+03 CG   2\n",
      "cg reaches trust region boundary\n",
      "iter 240 act 2.264e+01 pre 2.294e+01 delta 2.061e-01 f 4.778e+04 |g| 4.534e+02 CG   1\n",
      "cg reaches trust region boundary\n",
      "iter 241 act 8.776e+00 pre 7.233e+01 delta 1.031e-01 f 4.776e+04 |g| 4.793e+02 CG   2\n",
      "cg reaches trust region boundary\n",
      "iter 242 act 6.762e+01 pre 1.559e+02 delta 7.871e-02 f 4.775e+04 |g| 1.900e+03 CG   1\n",
      "cg reaches trust region boundary\n",
      "iter 243 act 3.673e+01 pre 3.951e+01 delta 1.009e-01 f 4.768e+04 |g| 2.139e+03 CG   3\n",
      "cg reaches trust region boundary\n",
      "iter 244 act 1.636e+00 pre 4.121e+01 delta 5.043e-02 f 4.765e+04 |g| 6.196e+02 CG   2\n",
      "cg reaches trust region boundary\n",
      "iter 245 act 3.879e+01 pre 1.417e+02 delta 3.438e-02 f 4.765e+04 |g| 2.886e+03 CG   1\n",
      "cg reaches trust region boundary\n",
      "iter 246 act 1.479e+01 pre 1.480e+01 delta 1.375e-01 f 4.761e+04 |g| 4.570e+02 CG   1\n",
      "cg reaches trust region boundary\n",
      "iter 247 act -4.234e+01 pre 3.584e+01 delta 4.104e-02 f 4.759e+04 |g| 4.560e+02 CG   1\n",
      "cg reaches trust region boundary\n",
      "iter 247 act 1.459e+01 pre 1.632e+01 delta 9.320e-02 f 4.759e+04 |g| 4.560e+02 CG   1\n",
      "cg reaches trust region boundary\n",
      "iter 248 act -2.592e+00 pre 2.941e+01 delta 4.418e-02 f 4.758e+04 |g| 1.027e+03 CG   3\n",
      "cg reaches trust region boundary\n",
      "iter 248 act 1.382e+01 pre 1.579e+01 delta 5.131e-02 f 4.758e+04 |g| 1.027e+03 CG   2\n",
      "cg reaches trust region boundary\n",
      "iter 249 act 1.648e+01 pre 1.685e+01 delta 5.248e-02 f 4.756e+04 |g| 1.574e+03 CG   3\n",
      "cg reaches trust region boundary\n",
      "iter 250 act 2.116e+01 pre 2.117e+01 delta 6.734e-02 f 4.755e+04 |g| 1.218e+03 CG   3\n",
      "cg reaches trust region boundary\n",
      "iter 251 act 2.312e+01 pre 2.303e+01 delta 9.531e-02 f 4.753e+04 |g| 5.835e+02 CG   3\n",
      "cg reaches trust region boundary\n",
      "iter 252 act 1.748e+01 pre 2.618e+01 delta 7.222e-02 f 4.750e+04 |g| 7.458e+02 CG   4\n",
      "cg reaches trust region boundary\n",
      "iter 253 act 2.082e+01 pre 1.696e+02 delta 3.611e-02 f 4.749e+04 |g| 2.405e+03 CG   1\n",
      "cg reaches trust region boundary\n",
      "iter 254 act 1.528e+01 pre 1.527e+01 delta 1.444e-01 f 4.747e+04 |g| 4.296e+02 CG   1\n",
      "cg reaches trust region boundary\n",
      "iter 255 act 5.248e+01 pre 5.255e+01 delta 4.618e-01 f 4.745e+04 |g| 4.307e+02 CG   1\n",
      "cg reaches trust region boundary\n",
      "iter 256 act -1.261e+01 pre 1.700e+02 delta 2.178e-01 f 4.740e+04 |g| 8.179e+02 CG   3\n",
      "cg reaches trust region boundary\n",
      "iter 256 act 2.307e+00 pre 8.901e+01 delta 1.089e-01 f 4.740e+04 |g| 8.179e+02 CG   3\n",
      "cg reaches trust region boundary\n",
      "iter 257 act 8.574e+01 pre 1.420e+02 delta 7.970e-02 f 4.740e+04 |g| 2.485e+03 CG   2\n",
      "cg reaches trust region boundary\n",
      "iter 258 act 1.937e+01 pre 2.008e+01 delta 7.970e-02 f 4.731e+04 |g| 5.015e+02 CG   2\n",
      "cg reaches trust region boundary\n",
      "iter 259 act 4.136e+01 pre 4.162e+01 delta 1.224e-01 f 4.729e+04 |g| 1.156e+03 CG   3\n",
      "cg reaches trust region boundary\n",
      "iter 260 act 1.036e+01 pre 3.845e+01 delta 7.479e-02 f 4.725e+04 |g| 5.028e+02 CG   3\n",
      "cg reaches trust region boundary\n",
      "iter 261 act 3.508e+01 pre 1.710e+02 delta 3.740e-02 f 4.724e+04 |g| 2.530e+03 CG   1\n",
      "cg reaches trust region boundary\n",
      "iter 262 act 1.490e+01 pre 1.603e+01 delta 1.496e-01 f 4.720e+04 |g| 4.347e+02 CG   1\n",
      "cg reaches trust region boundary\n",
      "iter 263 act 6.038e+01 pre 6.185e+01 delta 5.984e-01 f 4.719e+04 |g| 7.619e+02 CG   2\n",
      "cg reaches trust region boundary\n",
      "iter 264 act 1.418e+02 pre 1.398e+02 delta 7.142e-01 f 4.713e+04 |g| 1.386e+03 CG   4\n",
      "cg reaches trust region boundary\n",
      "iter 265 act 8.776e+01 pre 6.086e+02 delta 3.571e-01 f 4.699e+04 |g| 2.574e+03 CG   5\n",
      "cg reaches trust region boundary\n",
      "iter 266 act 1.799e+02 pre 1.758e+02 delta 4.138e-01 f 4.690e+04 |g| 8.961e+02 CG   3\n",
      "cg reaches trust region boundary\n",
      "iter 267 act 1.595e+02 pre 1.691e+02 delta 4.704e-01 f 4.672e+04 |g| 2.463e+03 CG   4\n",
      "cg reaches trust region boundary\n",
      "iter 268 act -1.670e+02 pre 1.710e+02 delta 1.451e-01 f 4.656e+04 |g| 8.094e+02 CG   3\n",
      "cg reaches trust region boundary\n",
      "iter 268 act 2.630e+01 pre 6.234e+01 delta 9.429e-02 f 4.656e+04 |g| 8.094e+02 CG   2\n",
      "cg reaches trust region boundary\n",
      "iter 269 act 3.261e+01 pre 2.223e+02 delta 4.714e-02 f 4.653e+04 |g| 2.413e+03 CG   1\n",
      "cg reaches trust region boundary\n",
      "iter 270 act 1.886e+01 pre 1.851e+01 delta 1.765e-01 f 4.650e+04 |g| 4.618e+02 CG   1\n",
      "cg reaches trust region boundary\n",
      "iter 271 act 1.900e+01 pre 4.461e+01 delta 1.185e-01 f 4.648e+04 |g| 4.218e+02 CG   1\n",
      "cg reaches trust region boundary\n",
      "iter 272 act 2.853e+01 pre 1.542e+02 delta 5.924e-02 f 4.646e+04 |g| 2.112e+03 CG   1\n",
      "cg reaches trust region boundary\n",
      "iter 273 act 3.767e+01 pre 3.710e+01 delta 7.534e-02 f 4.643e+04 |g| 1.339e+03 CG   3\n",
      "cg reaches trust region boundary\n",
      "iter 274 act 2.471e+01 pre 2.440e+01 delta 1.575e-01 f 4.640e+04 |g| 4.618e+02 CG   2\n",
      "cg reaches trust region boundary\n",
      "iter 275 act 2.910e+01 pre 6.244e+01 delta 1.292e-01 f 4.637e+04 |g| 6.647e+02 CG   2\n",
      "cg reaches trust region boundary\n",
      "iter 276 act 1.918e+01 pre 3.348e+02 delta 6.460e-02 f 4.634e+04 |g| 2.889e+03 CG   1\n",
      "cg reaches trust region boundary\n",
      "iter 277 act 2.028e+01 pre 1.991e+01 delta 7.992e-02 f 4.632e+04 |g| 5.305e+02 CG   2\n",
      "cg reaches trust region boundary\n",
      "iter 278 act 3.521e+01 pre 3.540e+01 delta 1.447e-01 f 4.630e+04 |g| 7.364e+02 CG   2\n",
      "cg reaches trust region boundary\n",
      "iter 279 act 2.714e+01 pre 5.311e+01 delta 1.239e-01 f 4.627e+04 |g| 5.013e+02 CG   2\n",
      "cg reaches trust region boundary\n",
      "iter 280 act 1.366e+01 pre 1.668e+02 delta 6.197e-02 f 4.624e+04 |g| 1.781e+03 CG   1\n",
      "cg reaches trust region boundary\n",
      "iter 281 act 3.266e+01 pre 3.226e+01 delta 8.640e-02 f 4.623e+04 |g| 9.714e+02 CG   3\n",
      "cg reaches trust region boundary\n",
      "iter 282 act 1.966e+01 pre 1.989e+01 delta 8.640e-02 f 4.619e+04 |g| 4.746e+02 CG   3\n",
      "cg reaches trust region boundary\n",
      "iter 283 act 4.286e+01 pre 4.274e+01 delta 1.442e-01 f 4.617e+04 |g| 1.015e+03 CG   3\n",
      "cg reaches trust region boundary\n",
      "iter 284 act 1.087e+01 pre 3.704e+01 delta 8.849e-02 f 4.613e+04 |g| 4.249e+02 CG   3\n",
      "cg reaches trust region boundary\n",
      "iter 285 act 3.713e+01 pre 1.014e+02 delta 5.661e-02 f 4.612e+04 |g| 1.921e+03 CG   1\n",
      "cg reaches trust region boundary\n",
      "iter 286 act 1.692e+01 pre 1.741e+01 delta 6.636e-02 f 4.608e+04 |g| 5.262e+02 CG   2\n",
      "cg reaches trust region boundary\n",
      "iter 287 act 2.708e+01 pre 2.698e+01 delta 1.127e-01 f 4.607e+04 |g| 7.552e+02 CG   3\n",
      "cg reaches trust region boundary\n",
      "iter 288 act 2.200e+01 pre 3.677e+01 delta 1.022e-01 f 4.604e+04 |g| 4.852e+02 CG   3\n",
      "cg reaches trust region boundary\n",
      "iter 289 act 1.216e+01 pre 1.187e+02 delta 5.108e-02 f 4.602e+04 |g| 1.727e+03 CG   1\n",
      "cg reaches trust region boundary\n",
      "iter 290 act 1.456e+01 pre 1.466e+01 delta 5.312e-02 f 4.601e+04 |g| 5.492e+02 CG   2\n",
      "cg reaches trust region boundary\n",
      "iter 291 act 2.224e+01 pre 2.211e+01 delta 7.717e-02 f 4.599e+04 |g| 7.066e+02 CG   2\n",
      "cg reaches trust region boundary\n",
      "iter 292 act 1.606e+01 pre 2.476e+01 delta 6.996e-02 f 4.597e+04 |g| 4.826e+02 CG   2\n",
      "cg reaches trust region boundary\n",
      "iter 293 act 1.004e+01 pre 1.146e+02 delta 3.498e-02 f 4.595e+04 |g| 2.399e+03 CG   1\n",
      "cg reaches trust region boundary\n",
      "iter 294 act 1.351e+01 pre 1.351e+01 delta 1.399e-01 f 4.594e+04 |g| 4.059e+02 CG   1\n",
      "cg reaches trust region boundary\n",
      "iter 295 act 5.850e+00 pre 2.963e+01 delta 6.996e-02 f 4.593e+04 |g| 4.102e+02 CG   1\n",
      "cg reaches trust region boundary\n",
      "iter 296 act 4.550e+01 pre 1.089e+02 delta 5.189e-02 f 4.592e+04 |g| 1.996e+03 CG   1\n",
      "cg reaches trust region boundary\n",
      "iter 297 act 2.354e+00 pre 1.946e+01 delta 2.594e-02 f 4.588e+04 |g| 4.071e+02 CG   1\n",
      "cg reaches trust region boundary\n",
      "iter 298 act 1.692e+01 pre 6.122e+01 delta 1.790e-02 f 4.588e+04 |g| 2.370e+03 CG   1\n",
      "cg reaches trust region boundary\n",
      "iter 299 act 6.934e+00 pre 6.934e+00 delta 7.159e-02 f 4.586e+04 |g| 4.037e+02 CG   1\n",
      "cg reaches trust region boundary\n",
      "iter 300 act 7.918e+00 pre 2.682e+01 delta 4.991e-02 f 4.585e+04 |g| 3.911e+02 CG   1\n",
      "cg reaches trust region boundary\n",
      "iter 301 act 1.466e+01 pre 8.734e+01 delta 2.495e-02 f 4.584e+04 |g| 2.734e+03 CG   1\n",
      "cg reaches trust region boundary\n",
      "iter 302 act 9.364e+00 pre 9.362e+00 delta 9.981e-02 f 4.583e+04 |g| 4.211e+02 CG   1\n",
      "cg reaches trust region boundary\n",
      "iter 303 act 1.370e+01 pre 2.650e+01 delta 7.507e-02 f 4.582e+04 |g| 4.094e+02 CG   1\n",
      "cg reaches trust region boundary\n",
      "iter 304 act 1.973e+01 pre 1.026e+02 delta 3.753e-02 f 4.581e+04 |g| 1.789e+03 CG   1\n",
      "cg reaches trust region boundary\n",
      "iter 305 act 9.077e+00 pre 1.393e+01 delta 4.185e-02 f 4.579e+04 |g| 4.384e+02 CG   1\n",
      "cg reaches trust region boundary\n",
      "iter 306 act 1.656e+01 pre 2.257e+01 delta 3.660e-02 f 4.578e+04 |g| 2.182e+03 CG   2\n",
      "cg reaches trust region boundary\n",
      "iter 307 act 9.316e+00 pre 1.000e+01 delta 3.660e-02 f 4.576e+04 |g| 5.319e+02 CG   1\n",
      "cg reaches trust region boundary\n",
      "iter 308 act 1.132e+01 pre 1.120e+01 delta 4.018e-02 f 4.575e+04 |g| 7.889e+02 CG   3\n",
      "cg reaches trust region boundary\n",
      "iter 309 act 1.022e+01 pre 1.031e+01 delta 4.045e-02 f 4.574e+04 |g| 5.315e+02 CG   3\n",
      "cg reaches trust region boundary\n",
      "iter 310 act 1.222e+01 pre 1.297e+01 delta 4.403e-02 f 4.573e+04 |g| 5.859e+02 CG   3\n",
      "cg reaches trust region boundary\n",
      "iter 311 act 1.206e+01 pre 1.206e+01 delta 4.831e-02 f 4.572e+04 |g| 8.237e+02 CG   3\n",
      "cg reaches trust region boundary\n",
      "iter 312 act 1.425e+01 pre 1.416e+01 delta 5.259e-02 f 4.571e+04 |g| 6.032e+02 CG   3\n",
      "cg reaches trust region boundary\n",
      "iter 313 act 9.666e+00 pre 1.770e+01 delta 4.001e-02 f 4.569e+04 |g| 1.022e+03 CG   3\n",
      "cg reaches trust region boundary\n",
      "iter 314 act 8.382e+00 pre 6.683e+01 delta 2.001e-02 f 4.568e+04 |g| 2.367e+03 CG   1\n",
      "cg reaches trust region boundary\n",
      "iter 315 act 7.002e+00 pre 7.077e+00 delta 5.452e-02 f 4.567e+04 |g| 4.286e+02 CG   1\n",
      "cg reaches trust region boundary\n",
      "iter 316 act 1.863e+01 pre 1.721e+01 delta 1.870e-01 f 4.567e+04 |g| 4.163e+02 CG   2\n",
      "cg reaches trust region boundary\n",
      "iter 317 act -7.127e+01 pre 6.461e+01 delta 4.854e-02 f 4.565e+04 |g| 4.695e+02 CG   2\n",
      "cg reaches trust region boundary\n",
      "iter 317 act 8.827e+00 pre 1.275e+01 delta 3.972e-02 f 4.565e+04 |g| 4.695e+02 CG   2\n",
      "cg reaches trust region boundary\n",
      "iter 318 act 1.497e+01 pre 1.740e+01 delta 3.972e-02 f 4.564e+04 |g| 1.521e+03 CG   3\n",
      "cg reaches trust region boundary\n",
      "iter 319 act 1.099e+01 pre 1.214e+01 delta 4.328e-02 f 4.562e+04 |g| 5.239e+02 CG   2\n",
      "cg reaches trust region boundary\n",
      "iter 320 act 1.201e+01 pre 1.244e+01 delta 4.641e-02 f 4.561e+04 |g| 9.584e+02 CG   3\n",
      "cg reaches trust region boundary\n",
      "iter 321 act 1.491e+01 pre 1.475e+01 delta 5.608e-02 f 4.560e+04 |g| 9.207e+02 CG   4\n",
      "cg reaches trust region boundary\n",
      "iter 322 act 1.639e+01 pre 1.644e+01 delta 7.005e-02 f 4.559e+04 |g| 6.013e+02 CG   4\n",
      "cg reaches trust region boundary\n",
      "iter 323 act 2.489e+01 pre 2.460e+01 delta 1.238e-01 f 4.557e+04 |g| 6.303e+02 CG   3\n",
      "cg reaches trust region boundary\n",
      "iter 324 act -1.367e+01 pre 3.934e+01 delta 4.909e-02 f 4.554e+04 |g| 4.956e+02 CG   3\n",
      "cg reaches trust region boundary\n",
      "iter 324 act -6.951e-02 pre 1.222e+01 delta 2.447e-02 f 4.554e+04 |g| 4.956e+02 CG   2\n",
      "cg reaches trust region boundary\n",
      "iter 324 act 6.690e+00 pre 6.068e+00 delta 2.729e-02 f 4.554e+04 |g| 4.956e+02 CG   2\n",
      "cg reaches trust region boundary\n",
      "iter 325 act 9.001e+00 pre 9.209e+00 delta 5.505e-02 f 4.554e+04 |g| 8.261e+02 CG   2\n",
      "cg reaches trust region boundary\n",
      "iter 326 act 1.118e+01 pre 1.142e+01 delta 5.505e-02 f 4.553e+04 |g| 4.758e+02 CG   2\n",
      "cg reaches trust region boundary\n",
      "iter 327 act 2.044e+01 pre 2.429e+01 delta 6.046e-02 f 4.552e+04 |g| 1.944e+03 CG   3\n",
      "cg reaches trust region boundary\n",
      "iter 328 act 1.555e+01 pre 1.703e+01 delta 6.046e-02 f 4.550e+04 |g| 1.376e+03 CG   2\n",
      "cg reaches trust region boundary\n",
      "iter 329 act 2.514e+01 pre 2.503e+01 delta 9.308e-02 f 4.548e+04 |g| 7.660e+02 CG   3\n",
      "cg reaches trust region boundary\n",
      "iter 330 act 1.794e+01 pre 2.414e+01 delta 8.981e-02 f 4.546e+04 |g| 4.266e+02 CG   3\n",
      "cg reaches trust region boundary\n",
      "iter 331 act 2.909e+01 pre 5.565e+01 delta 6.160e-02 f 4.544e+04 |g| 1.687e+03 CG   3\n",
      "cg reaches trust region boundary\n",
      "iter 332 act 2.088e+01 pre 2.346e+01 delta 6.880e-02 f 4.541e+04 |g| 7.165e+02 CG   3\n",
      "cg reaches trust region boundary\n",
      "iter 333 act 1.786e+01 pre 2.762e+01 delta 5.690e-02 f 4.539e+04 |g| 2.125e+03 CG   3\n",
      "cg reaches trust region boundary\n",
      "iter 334 act 6.903e+00 pre 3.325e+01 delta 2.845e-02 f 4.537e+04 |g| 1.644e+03 CG   2\n",
      "cg reaches trust region boundary\n",
      "iter 335 act 1.391e+01 pre 6.639e+01 delta 1.423e-02 f 4.536e+04 |g| 2.407e+03 CG   1\n",
      "cg reaches trust region boundary\n",
      "iter 336 act 5.745e+00 pre 5.741e+00 delta 3.799e-02 f 4.535e+04 |g| 4.969e+02 CG   1\n",
      "cg reaches trust region boundary\n",
      "iter 337 act 1.395e+01 pre 1.408e+01 delta 1.520e-01 f 4.534e+04 |g| 3.795e+02 CG   1\n",
      "cg reaches trust region boundary\n",
      "iter 338 act -4.243e+01 pre 3.459e+01 delta 4.341e-02 f 4.533e+04 |g| 3.722e+02 CG   1\n",
      "cg reaches trust region boundary\n",
      "iter 338 act 5.139e+00 pre 1.436e+01 delta 3.183e-02 f 4.533e+04 |g| 3.722e+02 CG   1\n",
      "cg reaches trust region boundary\n",
      "iter 339 act 8.302e+00 pre 6.313e+01 delta 1.591e-02 f 4.532e+04 |g| 2.353e+03 CG   1\n",
      "cg reaches trust region boundary\n",
      "iter 340 act 5.691e+00 pre 5.763e+00 delta 6.366e-02 f 4.532e+04 |g| 3.944e+02 CG   1\n",
      "cg reaches trust region boundary\n",
      "iter 341 act 2.111e+01 pre 1.438e+01 delta 2.546e-01 f 4.531e+04 |g| 3.740e+02 CG   1\n",
      "cg reaches trust region boundary\n",
      "iter 342 act -6.691e+01 pre 7.786e+01 delta 7.549e-02 f 4.529e+04 |g| 4.167e+02 CG   2\n",
      "cg reaches trust region boundary\n",
      "iter 342 act -1.292e+01 pre 1.906e+01 delta 2.669e-02 f 4.529e+04 |g| 4.167e+02 CG   2\n",
      "cg reaches trust region boundary\n",
      "iter 342 act 4.836e+00 pre 8.559e+00 delta 2.361e-02 f 4.529e+04 |g| 4.167e+02 CG   1\n",
      "cg reaches trust region boundary\n",
      "iter 343 act 1.105e+01 pre 1.405e+01 delta 2.361e-02 f 4.529e+04 |g| 2.083e+03 CG   2\n",
      "cg reaches trust region boundary\n",
      "iter 344 act 4.796e+00 pre 7.991e+00 delta 2.563e-02 f 4.527e+04 |g| 3.765e+02 CG   1\n",
      "cg reaches trust region boundary\n",
      "iter 345 act 1.129e+01 pre 1.246e+01 delta 3.591e-02 f 4.527e+04 |g| 1.940e+03 CG   2\n",
      "cg reaches trust region boundary\n",
      "iter 346 act 4.964e+00 pre 1.033e+01 delta 2.867e-02 f 4.526e+04 |g| 3.699e+02 CG   1\n",
      "cg reaches trust region boundary\n",
      "iter 347 act 1.322e+01 pre 2.503e+01 delta 2.039e-02 f 4.525e+04 |g| 2.361e+03 CG   3\n",
      "cg reaches trust region boundary\n",
      "iter 348 act 7.182e+00 pre 6.368e+00 delta 7.097e-02 f 4.524e+04 |g| 4.329e+02 CG   2\n",
      "cg reaches trust region boundary\n",
      "iter 349 act -1.625e+01 pre 2.391e+01 delta 2.191e-02 f 4.523e+04 |g| 3.695e+02 CG   1\n",
      "cg reaches trust region boundary\n",
      "iter 349 act 7.233e+00 pre 7.874e+00 delta 8.764e-02 f 4.523e+04 |g| 3.695e+02 CG   1\n",
      "cg reaches trust region boundary\n",
      "iter 350 act 2.965e+01 pre 2.752e+01 delta 3.505e-01 f 4.523e+04 |g| 5.578e+02 CG   3\n",
      "cg reaches trust region boundary\n",
      "iter 351 act 2.579e+00 pre 1.043e+02 delta 1.753e-01 f 4.520e+04 |g| 4.478e+02 CG   3\n",
      "cg reaches trust region boundary\n",
      "iter 352 act 9.427e+01 pre 2.585e+02 delta 1.227e-01 f 4.519e+04 |g| 1.880e+03 CG   1\n",
      "cg reaches trust region boundary\n",
      "iter 353 act 1.833e+01 pre 6.029e+01 delta 7.740e-02 f 4.510e+04 |g| 1.063e+03 CG   2\n",
      "cg reaches trust region boundary\n",
      "iter 354 act 3.882e+01 pre 1.824e+02 delta 3.870e-02 f 4.508e+04 |g| 2.379e+03 CG   1\n",
      "cg reaches trust region boundary\n",
      "iter 355 act 1.470e+01 pre 1.470e+01 delta 1.548e-01 f 4.504e+04 |g| 3.958e+02 CG   1\n",
      "cg reaches trust region boundary\n",
      "iter 356 act 5.471e+00 pre 4.505e+01 delta 7.740e-02 f 4.503e+04 |g| 3.842e+02 CG   1\n",
      "cg reaches trust region boundary\n",
      "iter 357 act 4.535e+01 pre 1.294e+02 delta 5.095e-02 f 4.502e+04 |g| 2.872e+03 CG   2\n",
      "cg reaches trust region boundary\n",
      "iter 358 act 1.896e+01 pre 1.895e+01 delta 2.038e-01 f 4.498e+04 |g| 3.975e+02 CG   1\n",
      "cg reaches trust region boundary\n",
      "iter 359 act -1.116e+02 pre 5.695e+01 delta 5.095e-02 f 4.496e+04 |g| 3.968e+02 CG   2\n",
      "cg reaches trust region boundary\n",
      "iter 359 act 4.721e+00 pre 1.548e+01 delta 3.324e-02 f 4.496e+04 |g| 3.968e+02 CG   1\n",
      "cg reaches trust region boundary\n",
      "iter 360 act 1.065e+01 pre 7.204e+01 delta 1.662e-02 f 4.495e+04 |g| 2.383e+03 CG   1\n",
      "cg reaches trust region boundary\n",
      "iter 361 act 5.958e+00 pre 5.963e+00 delta 4.662e-02 f 4.494e+04 |g| 4.363e+02 CG   1\n",
      "cg reaches trust region boundary\n",
      "iter 362 act 1.324e+01 pre 1.608e+01 delta 1.064e-01 f 4.494e+04 |g| 3.638e+02 CG   1\n",
      "cg reaches trust region boundary\n",
      "iter 363 act -2.151e+01 pre 2.735e+01 delta 3.660e-02 f 4.492e+04 |g| 1.311e+03 CG   2\n",
      "cg reaches trust region boundary\n",
      "iter 363 act 1.276e+01 pre 1.536e+01 delta 4.524e-02 f 4.492e+04 |g| 1.311e+03 CG   2\n",
      "cg reaches trust region boundary\n",
      "iter 364 act 1.099e+01 pre 1.117e+01 delta 4.942e-02 f 4.491e+04 |g| 1.371e+03 CG   2\n",
      "cg reaches trust region boundary\n",
      "iter 365 act 1.707e+01 pre 1.694e+01 delta 6.714e-02 f 4.490e+04 |g| 6.866e+02 CG   4\n",
      "cg reaches trust region boundary\n",
      "iter 366 act 1.848e+01 pre 1.856e+01 delta 9.720e-02 f 4.488e+04 |g| 4.898e+02 CG   3\n",
      "cg reaches trust region boundary\n",
      "iter 367 act 2.993e+01 pre 3.073e+01 delta 1.509e-01 f 4.486e+04 |g| 6.104e+02 CG   4\n",
      "cg reaches trust region boundary\n",
      "iter 368 act 1.862e+01 pre 5.346e+01 delta 1.027e-01 f 4.483e+04 |g| 1.455e+03 CG   3\n",
      "cg reaches trust region boundary\n",
      "iter 369 act 3.102e+01 pre 2.399e+02 delta 5.134e-02 f 4.481e+04 |g| 2.395e+03 CG   1\n",
      "cg reaches trust region boundary\n",
      "iter 370 act 1.743e+01 pre 1.610e+01 delta 2.053e-01 f 4.478e+04 |g| 4.055e+02 CG   2\n",
      "cg reaches trust region boundary\n",
      "iter 371 act 8.848e-01 pre 6.557e+01 delta 1.027e-01 f 4.477e+04 |g| 4.261e+02 CG   2\n",
      "cg reaches trust region boundary\n",
      "iter 372 act 6.228e+01 pre 2.861e+02 delta 5.134e-02 f 4.477e+04 |g| 2.966e+03 CG   1\n",
      "cg reaches trust region boundary\n",
      "iter 373 act 1.491e+01 pre 1.486e+01 delta 8.533e-02 f 4.470e+04 |g| 4.153e+02 CG   1\n",
      "cg reaches trust region boundary\n",
      "iter 374 act 1.849e+01 pre 3.108e+01 delta 7.817e-02 f 4.469e+04 |g| 5.738e+02 CG   2\n",
      "cg reaches trust region boundary\n",
      "iter 375 act 1.004e+01 pre 1.084e+02 delta 3.908e-02 f 4.467e+04 |g| 1.640e+03 CG   1\n",
      "cg reaches trust region boundary\n",
      "iter 376 act 1.524e+01 pre 1.522e+01 delta 1.563e-01 f 4.466e+04 |g| 4.081e+02 CG   1\n",
      "cg reaches trust region boundary\n",
      "iter 377 act -3.479e+01 pre 5.538e+01 delta 4.938e-02 f 4.464e+04 |g| 3.818e+02 CG   1\n",
      "cg reaches trust region boundary\n",
      "iter 377 act 1.828e+01 pre 1.843e+01 delta 1.975e-01 f 4.464e+04 |g| 3.818e+02 CG   1\n",
      "cg reaches trust region boundary\n",
      "iter 378 act -6.138e+00 pre 5.606e+01 delta 9.086e-02 f 4.463e+04 |g| 3.601e+02 CG   2\n",
      "cg reaches trust region boundary\n",
      "iter 378 act 2.416e+01 pre 2.137e+01 delta 1.746e-01 f 4.463e+04 |g| 3.601e+02 CG   2\n",
      "cg reaches trust region boundary\n",
      "iter 379 act -4.961e+01 pre 4.621e+01 delta 5.575e-02 f 4.460e+04 |g| 1.527e+03 CG   2\n",
      "cg reaches trust region boundary\n",
      "iter 379 act 1.500e+01 pre 2.871e+01 delta 4.199e-02 f 4.460e+04 |g| 1.527e+03 CG   2\n",
      "cg reaches trust region boundary\n",
      "iter 380 act 1.407e+01 pre 2.688e+01 delta 2.884e-02 f 4.459e+04 |g| 2.261e+03 CG   2\n",
      "cg reaches trust region boundary\n",
      "iter 381 act 7.863e+00 pre 7.870e+00 delta 3.045e-02 f 4.457e+04 |g| 5.179e+02 CG   1\n",
      "cg reaches trust region boundary\n",
      "iter 382 act 6.523e+00 pre 7.873e+00 delta 3.045e-02 f 4.457e+04 |g| 4.412e+02 CG   1\n",
      "cg reaches trust region boundary\n",
      "iter 383 act 9.121e+00 pre 8.981e+00 delta 3.767e-02 f 4.456e+04 |g| 9.858e+02 CG   3\n",
      "cg reaches trust region boundary\n",
      "iter 384 act 9.197e+00 pre 8.828e+00 delta 4.311e-02 f 4.455e+04 |g| 4.805e+02 CG   3\n",
      "cg reaches trust region boundary\n",
      "iter 385 act 1.154e+01 pre 1.211e+01 delta 4.894e-02 f 4.454e+04 |g| 5.060e+02 CG   3\n",
      "cg reaches trust region boundary\n",
      "iter 386 act 1.459e+01 pre 1.443e+01 delta 6.763e-02 f 4.453e+04 |g| 6.483e+02 CG   3\n",
      "cg reaches trust region boundary\n",
      "iter 387 act 1.534e+01 pre 1.704e+01 delta 7.112e-02 f 4.451e+04 |g| 6.100e+02 CG   4\n",
      "cg reaches trust region boundary\n",
      "iter 388 act 2.691e+01 pre 2.860e+01 delta 9.048e-02 f 4.450e+04 |g| 1.443e+03 CG   4\n",
      "cg reaches trust region boundary\n",
      "iter 389 act -4.950e+00 pre 2.756e+01 delta 3.981e-02 f 4.447e+04 |g| 4.546e+02 CG   2\n",
      "cg reaches trust region boundary\n",
      "iter 389 act 3.015e+00 pre 1.023e+01 delta 2.392e-02 f 4.447e+04 |g| 4.546e+02 CG   2\n",
      "cg reaches trust region boundary\n",
      "iter 390 act 7.304e+00 pre 3.456e+01 delta 1.196e-02 f 4.447e+04 |g| 2.354e+03 CG   1\n",
      "cg reaches trust region boundary\n",
      "iter 391 act 4.371e+00 pre 4.389e+00 delta 3.554e-02 f 4.446e+04 |g| 4.394e+02 CG   1\n",
      "cg reaches trust region boundary\n",
      "iter 392 act 1.174e+01 pre 1.141e+01 delta 1.421e-01 f 4.446e+04 |g| 3.478e+02 CG   1\n",
      "cg reaches trust region boundary\n",
      "iter 393 act -7.927e+01 pre 3.166e+01 delta 3.554e-02 f 4.445e+04 |g| 3.588e+02 CG   1\n",
      "cg reaches trust region boundary\n",
      "iter 393 act 2.744e+00 pre 1.154e+01 delta 1.777e-02 f 4.445e+04 |g| 3.588e+02 CG   1\n",
      "cg reaches trust region boundary\n",
      "iter 394 act 7.792e+00 pre 2.829e+01 delta 1.081e-02 f 4.444e+04 |g| 2.461e+03 CG   1\n",
      "cg reaches trust region boundary\n",
      "iter 395 act 3.758e+00 pre 3.779e+00 delta 4.324e-02 f 4.443e+04 |g| 3.764e+02 CG   1\n",
      "cg reaches trust region boundary\n",
      "iter 396 act 9.134e+00 pre 1.468e+01 delta 5.661e-02 f 4.443e+04 |g| 3.418e+02 CG   1\n",
      "cg reaches trust region boundary\n",
      "iter 397 act 2.187e+01 pre 3.211e+01 delta 5.233e-02 f 4.442e+04 |g| 2.225e+03 CG   2\n",
      "cg reaches trust region boundary\n",
      "iter 398 act 2.937e+00 pre 1.374e+01 delta 2.617e-02 f 4.440e+04 |g| 3.631e+02 CG   1\n",
      "cg reaches trust region boundary\n",
      "iter 399 act 1.120e+01 pre 4.387e+01 delta 1.556e-02 f 4.440e+04 |g| 2.687e+03 CG   1\n",
      "cg reaches trust region boundary\n",
      "iter 400 act 5.519e+00 pre 5.523e+00 delta 4.221e-02 f 4.439e+04 |g| 4.348e+02 CG   1\n",
      "cg reaches trust region boundary\n",
      "iter 401 act 1.058e+01 pre 1.444e+01 delta 7.361e-02 f 4.438e+04 |g| 3.514e+02 CG   1\n",
      "cg reaches trust region boundary\n",
      "iter 402 act 1.973e+01 pre 2.790e+01 delta 8.072e-02 f 4.437e+04 |g| 1.400e+03 CG   2\n",
      "cg reaches trust region boundary\n",
      "iter 403 act 7.557e+00 pre 5.207e+01 delta 4.036e-02 f 4.435e+04 |g| 2.311e+03 CG   2\n",
      "cg reaches trust region boundary\n",
      "iter 404 act 1.909e+01 pre 6.412e+01 delta 2.755e-02 f 4.434e+04 |g| 1.768e+03 CG   1\n",
      "cg reaches trust region boundary\n",
      "iter 405 act 9.351e+00 pre 9.357e+00 delta 1.094e-01 f 4.432e+04 |g| 3.883e+02 CG   1\n",
      "cg reaches trust region boundary\n",
      "iter 406 act -2.816e+01 pre 2.553e+01 delta 3.275e-02 f 4.431e+04 |g| 3.864e+02 CG   2\n",
      "cg reaches trust region boundary\n",
      "iter 406 act 1.023e+01 pre 1.022e+01 delta 8.532e-02 f 4.431e+04 |g| 3.864e+02 CG   1\n",
      "cg reaches trust region boundary\n",
      "iter 407 act -2.212e+01 pre 2.433e+01 delta 2.588e-02 f 4.430e+04 |g| 4.166e+02 CG   2\n",
      "cg reaches trust region boundary\n",
      "iter 407 act 7.684e+00 pre 7.750e+00 delta 4.504e-02 f 4.430e+04 |g| 4.166e+02 CG   1\n",
      "cg reaches trust region boundary\n",
      "iter 408 act 1.383e+00 pre 9.590e+00 delta 2.252e-02 f 4.430e+04 |g| 3.861e+02 CG   2\n",
      "cg reaches trust region boundary\n",
      "iter 409 act 9.831e+00 pre 3.384e+01 delta 1.354e-02 f 4.429e+04 |g| 2.595e+03 CG   1\n",
      "cg reaches trust region boundary\n",
      "iter 410 act 4.998e+00 pre 5.003e+00 delta 3.680e-02 f 4.429e+04 |g| 4.524e+02 CG   1\n",
      "cg reaches trust region boundary\n",
      "iter 411 act 1.015e+01 pre 1.232e+01 delta 8.952e-02 f 4.428e+04 |g| 3.470e+02 CG   1\n",
      "cg reaches trust region boundary\n",
      "iter 412 act 9.928e+00 pre 2.448e+01 delta 6.315e-02 f 4.427e+04 |g| 1.138e+03 CG   2\n",
      "cg reaches trust region boundary\n",
      "iter 413 act 1.735e+01 pre 1.485e+02 delta 3.158e-02 f 4.426e+04 |g| 2.409e+03 CG   1\n",
      "cg reaches trust region boundary\n",
      "iter 414 act 9.950e+00 pre 1.047e+01 delta 1.263e-01 f 4.424e+04 |g| 3.529e+02 CG   1\n",
      "cg reaches trust region boundary\n",
      "iter 415 act 2.917e+01 pre 2.921e+01 delta 1.734e-01 f 4.423e+04 |g| 6.212e+02 CG   2\n",
      "cg reaches trust region boundary\n",
      "iter 416 act 6.570e+01 pre 6.604e+01 delta 3.908e-01 f 4.420e+04 |g| 9.797e+02 CG   4\n",
      "cg reaches trust region boundary\n",
      "iter 417 act 1.135e+02 pre 1.130e+02 delta 1.453e+00 f 4.414e+04 |g| 6.346e+02 CG   4\n",
      "cg reaches trust region boundary\n",
      "iter 418 act 3.437e+02 pre 4.334e+02 delta 2.343e+00 f 4.402e+04 |g| 1.586e+03 CG   5\n",
      "cg reaches trust region boundary\n",
      "iter 419 act 3.692e+02 pre 1.427e+03 delta 1.351e+00 f 4.368e+04 |g| 2.206e+03 CG  11\n",
      "cg reaches trust region boundary\n",
      "iter 420 act -5.056e+02 pre 8.803e+02 delta 5.148e-01 f 4.331e+04 |g| 1.342e+03 CG   5\n",
      "cg reaches trust region boundary\n",
      "iter 420 act -2.124e+02 pre 3.666e+02 delta 1.946e-01 f 4.331e+04 |g| 1.342e+03 CG   3\n",
      "cg reaches trust region boundary\n",
      "iter 420 act 2.011e+01 pre 1.453e+02 delta 9.730e-02 f 4.331e+04 |g| 1.342e+03 CG   2\n",
      "cg reaches trust region boundary\n",
      "iter 421 act 6.659e+01 pre 1.442e+02 delta 6.370e-02 f 4.329e+04 |g| 6.004e+03 CG   3\n",
      "cg reaches trust region boundary\n",
      "iter 422 act 2.778e+01 pre 1.510e+02 delta 3.185e-02 f 4.322e+04 |g| 2.535e+03 CG   1\n",
      "cg reaches trust region boundary\n",
      "iter 423 act 1.384e+01 pre 1.377e+01 delta 1.036e-01 f 4.320e+04 |g| 5.134e+02 CG   1\n",
      "cg reaches trust region boundary\n",
      "iter 424 act 2.838e+01 pre 3.022e+01 delta 1.198e-01 f 4.318e+04 |g| 4.826e+02 CG   1\n",
      "cg reaches trust region boundary\n",
      "iter 425 act 3.232e+01 pre 5.722e+01 delta 1.012e-01 f 4.315e+04 |g| 1.338e+03 CG   3\n",
      "cg reaches trust region boundary\n",
      "iter 426 act 1.966e+01 pre 2.355e+02 delta 5.058e-02 f 4.312e+04 |g| 2.388e+03 CG   1\n",
      "cg reaches trust region boundary\n",
      "iter 427 act 1.355e+01 pre 1.785e+01 delta 7.341e-02 f 4.310e+04 |g| 4.087e+02 CG   1\n",
      "cg reaches trust region boundary\n",
      "iter 428 act 2.025e+01 pre 2.448e+01 delta 7.341e-02 f 4.309e+04 |g| 1.496e+03 CG   2\n",
      "cg reaches trust region boundary\n",
      "iter 429 act 2.413e+01 pre 3.242e+01 delta 7.606e-02 f 4.307e+04 |g| 8.160e+02 CG   2\n",
      "cg reaches trust region boundary\n",
      "iter 430 act 5.071e+00 pre 6.722e+01 delta 3.803e-02 f 4.304e+04 |g| 1.622e+03 CG   1\n",
      "cg reaches trust region boundary\n",
      "iter 431 act 1.270e+01 pre 1.260e+01 delta 7.272e-02 f 4.304e+04 |g| 4.520e+02 CG   1\n",
      "cg reaches trust region boundary\n",
      "iter 432 act 1.608e+01 pre 2.262e+01 delta 6.978e-02 f 4.303e+04 |g| 4.790e+02 CG   2\n",
      "cg reaches trust region boundary\n",
      "iter 433 act 2.765e+01 pre 4.640e+01 delta 5.302e-02 f 4.301e+04 |g| 2.326e+03 CG   3\n",
      "cg reaches trust region boundary\n",
      "iter 434 act 1.414e+01 pre 1.539e+01 delta 6.495e-02 f 4.298e+04 |g| 4.663e+02 CG   2\n",
      "cg reaches trust region boundary\n",
      "iter 435 act 4.122e+00 pre 2.158e+01 delta 3.248e-02 f 4.297e+04 |g| 9.092e+02 CG   3\n",
      "cg reaches trust region boundary\n",
      "iter 436 act 1.781e+01 pre 7.671e+01 delta 1.624e-02 f 4.296e+04 |g| 2.395e+03 CG   1\n",
      "cg reaches trust region boundary\n",
      "iter 437 act 5.382e+00 pre 5.390e+00 delta 6.495e-02 f 4.295e+04 |g| 3.726e+02 CG   1\n",
      "cg reaches trust region boundary\n",
      "iter 438 act 2.005e+01 pre 2.066e+01 delta 2.598e-01 f 4.294e+04 |g| 3.404e+02 CG   1\n",
      "cg reaches trust region boundary\n",
      "iter 439 act 9.737e+00 pre 7.257e+01 delta 1.299e-01 f 4.292e+04 |g| 8.742e+02 CG   3\n",
      "cg reaches trust region boundary\n",
      "iter 440 act 6.337e+01 pre 1.665e+02 delta 8.897e-02 f 4.291e+04 |g| 1.807e+03 CG   1\n",
      "cg reaches trust region boundary\n",
      "iter 441 act 1.911e+01 pre 3.102e+01 delta 7.986e-02 f 4.285e+04 |g| 5.426e+02 CG   2\n",
      "cg reaches trust region boundary\n",
      "iter 442 act 9.296e+00 pre 1.669e+02 delta 3.993e-02 f 4.283e+04 |g| 2.385e+03 CG   1\n",
      "cg reaches trust region boundary\n",
      "iter 443 act 1.379e+01 pre 1.380e+01 delta 1.597e-01 f 4.282e+04 |g| 3.617e+02 CG   1\n",
      "cg reaches trust region boundary\n",
      "iter 444 act -8.450e+00 pre 2.864e+01 delta 6.959e-02 f 4.281e+04 |g| 3.586e+02 CG   1\n",
      "cg reaches trust region boundary\n",
      "iter 444 act 1.910e+01 pre 1.952e+01 delta 1.483e-01 f 4.281e+04 |g| 3.586e+02 CG   1\n",
      "cg reaches trust region boundary\n",
      "iter 445 act 1.943e+01 pre 4.862e+01 delta 1.113e-01 f 4.279e+04 |g| 5.706e+02 CG   3\n",
      "cg reaches trust region boundary\n",
      "iter 446 act 2.211e+01 pre 2.582e+02 delta 5.564e-02 f 4.277e+04 |g| 2.393e+03 CG   1\n",
      "cg reaches trust region boundary\n",
      "iter 447 act 5.496e+00 pre 1.287e+01 delta 3.772e-02 f 4.275e+04 |g| 3.763e+02 CG   1\n",
      "cg reaches trust region boundary\n",
      "iter 448 act 1.098e+01 pre 4.203e+01 delta 2.279e-02 f 4.274e+04 |g| 1.689e+03 CG   1\n",
      "cg reaches trust region boundary\n",
      "iter 449 act 7.585e+00 pre 7.588e+00 delta 9.115e-02 f 4.273e+04 |g| 3.721e+02 CG   1\n",
      "cg reaches trust region boundary\n",
      "iter 450 act 1.184e+01 pre 2.286e+01 delta 7.167e-02 f 4.272e+04 |g| 3.567e+02 CG   1\n",
      "cg reaches trust region boundary\n",
      "iter 451 act 1.334e+01 pre 9.554e+01 delta 3.583e-02 f 4.271e+04 |g| 1.757e+03 CG   1\n",
      "cg reaches trust region boundary\n",
      "iter 452 act 9.897e+00 pre 9.824e+00 delta 5.252e-02 f 4.270e+04 |g| 4.192e+02 CG   1\n",
      "cg reaches trust region boundary\n",
      "iter 453 act 1.522e+01 pre 1.530e+01 delta 7.371e-02 f 4.269e+04 |g| 4.674e+02 CG   2\n",
      "cg reaches trust region boundary\n",
      "iter 454 act -3.493e+00 pre 2.373e+01 delta 3.318e-02 f 4.267e+04 |g| 4.975e+02 CG   2\n",
      "cg reaches trust region boundary\n",
      "iter 454 act 8.695e+00 pre 8.880e+00 delta 3.522e-02 f 4.267e+04 |g| 4.975e+02 CG   2\n",
      "cg reaches trust region boundary\n",
      "iter 455 act 7.604e+00 pre 7.653e+00 delta 3.571e-02 f 4.266e+04 |g| 4.706e+02 CG   2\n",
      "cg reaches trust region boundary\n",
      "iter 456 act 8.725e+00 pre 8.921e+00 delta 3.733e-02 f 4.266e+04 |g| 4.822e+02 CG   3\n",
      "cg reaches trust region boundary\n",
      "iter 457 act 8.644e+00 pre 8.668e+00 delta 4.092e-02 f 4.265e+04 |g| 6.056e+02 CG   3\n",
      "cg reaches trust region boundary\n",
      "iter 458 act 1.045e+01 pre 1.039e+01 delta 4.933e-02 f 4.264e+04 |g| 4.734e+02 CG   3\n",
      "cg reaches trust region boundary\n",
      "iter 459 act 1.261e+01 pre 1.266e+01 delta 6.650e-02 f 4.263e+04 |g| 4.829e+02 CG   3\n",
      "cg reaches trust region boundary\n",
      "iter 460 act 1.847e+01 pre 1.843e+01 delta 1.114e-01 f 4.261e+04 |g| 4.655e+02 CG   3\n",
      "cg reaches trust region boundary\n",
      "iter 461 act 1.503e+01 pre 2.458e+01 delta 8.948e-02 f 4.260e+04 |g| 5.563e+02 CG   4\n",
      "cg reaches trust region boundary\n",
      "iter 462 act 1.355e+01 pre 2.078e+02 delta 4.474e-02 f 4.258e+04 |g| 2.394e+03 CG   1\n",
      "cg reaches trust region boundary\n",
      "iter 463 act 1.163e+01 pre 1.387e+01 delta 1.134e-01 f 4.257e+04 |g| 3.239e+02 CG   1\n",
      "cg reaches trust region boundary\n",
      "iter 464 act 3.658e+01 pre 3.702e+01 delta 4.326e-01 f 4.256e+04 |g| 1.238e+03 CG   2\n",
      "cg reaches trust region boundary\n",
      "iter 465 act -1.581e+02 pre 1.047e+02 delta 1.081e-01 f 4.252e+04 |g| 3.871e+02 CG   2\n",
      "cg reaches trust region boundary\n",
      "iter 465 act -2.379e+00 pre 2.977e+01 delta 5.086e-02 f 4.252e+04 |g| 3.871e+02 CG   2\n",
      "cg reaches trust region boundary\n",
      "iter 465 act 1.235e+01 pre 1.229e+01 delta 7.098e-02 f 4.252e+04 |g| 3.871e+02 CG   2\n",
      "cg reaches trust region boundary\n",
      "iter 466 act -7.542e+00 pre 2.144e+01 delta 2.814e-02 f 4.251e+04 |g| 4.921e+02 CG   2\n",
      "cg reaches trust region boundary\n",
      "iter 466 act 6.254e+00 pre 6.997e+00 delta 2.814e-02 f 4.251e+04 |g| 4.921e+02 CG   2\n",
      "cg reaches trust region boundary\n",
      "iter 467 act 6.466e+00 pre 6.440e+00 delta 3.275e-02 f 4.250e+04 |g| 7.864e+02 CG   2\n",
      "cg reaches trust region boundary\n",
      "iter 468 act 7.508e+00 pre 7.404e+00 delta 3.830e-02 f 4.249e+04 |g| 4.771e+02 CG   3\n",
      "cg reaches trust region boundary\n",
      "iter 469 act 9.221e+00 pre 9.182e+00 delta 4.728e-02 f 4.249e+04 |g| 4.581e+02 CG   3\n",
      "cg reaches trust region boundary\n",
      "iter 470 act 1.052e+01 pre 1.072e+01 delta 5.365e-02 f 4.248e+04 |g| 4.345e+02 CG   3\n",
      "cg reaches trust region boundary\n",
      "iter 471 act 6.389e+00 pre 1.185e+01 delta 3.711e-02 f 4.247e+04 |g| 6.799e+02 CG   3\n",
      "cg reaches trust region boundary\n",
      "iter 472 act 8.479e+00 pre 7.153e+01 delta 1.855e-02 f 4.246e+04 |g| 2.373e+03 CG   1\n",
      "cg reaches trust region boundary\n",
      "iter 473 act 5.369e+00 pre 5.387e+00 delta 6.320e-02 f 4.245e+04 |g| 3.392e+02 CG   1\n",
      "cg reaches trust region boundary\n",
      "iter 474 act 1.571e+01 pre 1.313e+01 delta 1.445e-01 f 4.245e+04 |g| 3.181e+02 CG   1\n",
      "cg reaches trust region boundary\n",
      "iter 475 act -7.885e+01 pre 4.310e+01 delta 3.611e-02 f 4.243e+04 |g| 4.708e+02 CG   2\n",
      "cg reaches trust region boundary\n",
      "iter 475 act 6.423e+00 pre 9.716e+00 delta 2.932e-02 f 4.243e+04 |g| 4.708e+02 CG   2\n",
      "cg reaches trust region boundary\n",
      "iter 476 act 8.333e+00 pre 9.804e+00 delta 2.932e-02 f 4.242e+04 |g| 1.927e+03 CG   2\n",
      "cg reaches trust region boundary\n",
      "iter 477 act 6.740e+00 pre 6.754e+00 delta 3.152e-02 f 4.242e+04 |g| 6.579e+02 CG   2\n",
      "cg reaches trust region boundary\n",
      "iter 478 act 7.270e+00 pre 7.090e+00 delta 3.659e-02 f 4.241e+04 |g| 4.588e+02 CG   3\n",
      "cg reaches trust region boundary\n",
      "iter 479 act 7.446e+00 pre 7.546e+00 delta 3.811e-02 f 4.240e+04 |g| 4.082e+02 CG   3\n",
      "cg reaches trust region boundary\n",
      "iter 480 act 8.965e+00 pre 8.943e+00 delta 4.121e-02 f 4.239e+04 |g| 4.770e+02 CG   3\n",
      "cg reaches trust region boundary\n",
      "iter 481 act 1.027e+01 pre 1.028e+01 delta 5.195e-02 f 4.239e+04 |g| 5.955e+02 CG   3\n",
      "cg reaches trust region boundary\n",
      "iter 482 act 1.045e+01 pre 1.062e+01 delta 5.334e-02 f 4.238e+04 |g| 4.448e+02 CG   4\n",
      "cg reaches trust region boundary\n",
      "iter 483 act 5.761e+00 pre 1.713e+01 delta 3.426e-02 f 4.237e+04 |g| 1.164e+03 CG   3\n",
      "cg reaches trust region boundary\n",
      "iter 484 act 1.053e+01 pre 7.688e+01 delta 1.713e-02 f 4.236e+04 |g| 2.372e+03 CG   1\n",
      "cg reaches trust region boundary\n",
      "iter 485 act 4.898e+00 pre 4.901e+00 delta 5.298e-02 f 4.235e+04 |g| 3.410e+02 CG   1\n",
      "cg reaches trust region boundary\n",
      "iter 486 act 1.318e+01 pre 9.446e+00 delta 1.262e-01 f 4.234e+04 |g| 3.148e+02 CG   1\n",
      "cg reaches trust region boundary\n",
      "iter 487 act -6.964e+01 pre 3.661e+01 delta 3.155e-02 f 4.233e+04 |g| 4.260e+02 CG   2\n",
      "cg reaches trust region boundary\n",
      "iter 487 act 5.491e+00 pre 6.800e+00 delta 3.155e-02 f 4.233e+04 |g| 4.260e+02 CG   2\n",
      "cg reaches trust region boundary\n",
      "iter 488 act 8.227e+00 pre 8.229e+00 delta 3.459e-02 f 4.233e+04 |g| 1.213e+03 CG   3\n",
      "cg reaches trust region boundary\n",
      "iter 489 act 7.689e+00 pre 7.596e+00 delta 4.002e-02 f 4.232e+04 |g| 4.626e+02 CG   3\n",
      "cg reaches trust region boundary\n",
      "iter 490 act 9.373e+00 pre 9.428e+00 delta 4.808e-02 f 4.231e+04 |g| 4.236e+02 CG   3\n",
      "cg reaches trust region boundary\n",
      "iter 491 act 1.250e+01 pre 1.245e+01 delta 7.161e-02 f 4.230e+04 |g| 4.547e+02 CG   3\n",
      "cg reaches trust region boundary\n",
      "iter 492 act 1.494e+01 pre 1.532e+01 delta 8.552e-02 f 4.229e+04 |g| 4.259e+02 CG   4\n",
      "cg reaches trust region boundary\n",
      "iter 493 act -7.833e+00 pre 2.786e+01 delta 3.547e-02 f 4.227e+04 |g| 1.224e+03 CG   3\n",
      "cg reaches trust region boundary\n",
      "iter 493 act 6.468e+00 pre 1.253e+01 delta 2.506e-02 f 4.227e+04 |g| 1.224e+03 CG   3\n",
      "cg reaches trust region boundary\n",
      "iter 494 act 9.517e+00 pre 2.462e+01 delta 1.581e-02 f 4.227e+04 |g| 2.272e+03 CG   2\n",
      "cg reaches trust region boundary\n",
      "iter 495 act 4.614e+00 pre 4.625e+00 delta 6.322e-02 f 4.226e+04 |g| 3.024e+02 CG   1\n",
      "cg reaches trust region boundary\n",
      "iter 496 act -5.240e+00 pre 1.061e+01 delta 2.483e-02 f 4.225e+04 |g| 3.033e+02 CG   1\n",
      "cg reaches trust region boundary\n",
      "iter 496 act 6.850e+00 pre 6.208e+00 delta 9.930e-02 f 4.225e+04 |g| 3.033e+02 CG   1\n",
      "cg reaches trust region boundary\n",
      "iter 497 act -6.120e+00 pre 2.377e+01 delta 4.107e-02 f 4.225e+04 |g| 2.949e+02 CG   1\n",
      "cg reaches trust region boundary\n",
      "iter 497 act 6.184e+00 pre 1.117e+01 delta 4.196e-02 f 4.225e+04 |g| 2.949e+02 CG   1\n",
      "cg reaches trust region boundary\n",
      "iter 498 act 9.616e+00 pre 1.947e+01 delta 2.885e-02 f 4.224e+04 |g| 1.505e+03 CG   3\n",
      "cg reaches trust region boundary\n",
      "iter 499 act 1.092e+01 pre 1.803e+01 delta 2.188e-02 f 4.223e+04 |g| 2.193e+03 CG   2\n",
      "cg reaches trust region boundary\n",
      "iter 500 act 5.620e+00 pre 5.728e+00 delta 4.053e-02 f 4.222e+04 |g| 3.518e+02 CG   1\n",
      "cg reaches trust region boundary\n",
      "iter 501 act 8.255e+00 pre 7.964e+00 delta 5.589e-02 f 4.221e+04 |g| 3.221e+02 CG   2\n",
      "cg reaches trust region boundary\n",
      "iter 502 act 1.003e+01 pre 1.541e+01 delta 5.126e-02 f 4.220e+04 |g| 8.610e+02 CG   3\n",
      "cg reaches trust region boundary\n",
      "iter 503 act 1.363e+01 pre 2.393e+01 delta 3.609e-02 f 4.219e+04 |g| 1.539e+03 CG   4\n",
      "cg reaches trust region boundary\n",
      "iter 504 act 8.980e+00 pre 9.436e+00 delta 3.666e-02 f 4.218e+04 |g| 5.100e+02 CG   3\n",
      "cg reaches trust region boundary\n",
      "iter 505 act 7.259e+00 pre 8.619e+00 delta 3.666e-02 f 4.217e+04 |g| 1.048e+03 CG   3\n",
      "cg reaches trust region boundary\n",
      "iter 506 act 9.559e+00 pre 8.871e+00 delta 4.100e-02 f 4.216e+04 |g| 9.815e+02 CG   3\n",
      "cg reaches trust region boundary\n",
      "iter 507 act 2.481e+00 pre 1.004e+01 delta 2.050e-02 f 4.216e+04 |g| 4.959e+02 CG   3\n",
      "cg reaches trust region boundary\n",
      "iter 508 act 7.701e+00 pre 3.861e+01 delta 1.025e-02 f 4.215e+04 |g| 2.351e+03 CG   1\n",
      "cg reaches trust region boundary\n",
      "iter 509 act 3.171e+00 pre 3.171e+00 delta 3.790e-02 f 4.215e+04 |g| 3.577e+02 CG   1\n",
      "cg reaches trust region boundary\n",
      "iter 510 act 1.053e+01 pre 1.076e+01 delta 1.516e-01 f 4.214e+04 |g| 2.961e+02 CG   1\n",
      "cg reaches trust region boundary\n",
      "iter 511 act 2.608e+01 pre 2.584e+01 delta 1.833e-01 f 4.213e+04 |g| 3.657e+02 CG   3\n",
      "cg reaches trust region boundary\n",
      "iter 512 act 5.865e+01 pre 6.154e+01 delta 3.060e-01 f 4.211e+04 |g| 9.595e+02 CG   4\n",
      "cg reaches trust region boundary\n",
      "iter 513 act 2.258e+01 pre 8.086e+01 delta 1.904e-01 f 4.205e+04 |g| 1.499e+03 CG   3\n",
      "cg reaches trust region boundary\n",
      "iter 514 act 4.801e+01 pre 4.455e+02 delta 9.522e-02 f 4.202e+04 |g| 2.406e+03 CG   1\n",
      "cg reaches trust region boundary\n",
      "iter 515 act 1.162e+01 pre 2.567e+01 delta 6.912e-02 f 4.198e+04 |g| 4.076e+02 CG   2\n",
      "cg reaches trust region boundary\n",
      "iter 516 act 1.417e+01 pre 1.012e+02 delta 3.456e-02 f 4.196e+04 |g| 1.711e+03 CG   1\n",
      "cg reaches trust region boundary\n",
      "iter 517 act 1.012e+01 pre 1.001e+01 delta 6.008e-02 f 4.195e+04 |g| 4.110e+02 CG   1\n",
      "cg reaches trust region boundary\n",
      "iter 518 act 1.582e+01 pre 1.589e+01 delta 8.626e-02 f 4.194e+04 |g| 4.162e+02 CG   2\n",
      "cg reaches trust region boundary\n",
      "iter 519 act 1.965e+01 pre 2.750e+01 delta 9.671e-02 f 4.192e+04 |g| 5.238e+02 CG   2\n",
      "cg reaches trust region boundary\n",
      "iter 520 act 2.273e+01 pre 6.274e+01 delta 6.067e-02 f 4.190e+04 |g| 1.613e+03 CG   2\n",
      "cg reaches trust region boundary\n",
      "iter 521 act 1.744e+01 pre 1.797e+01 delta 9.651e-02 f 4.188e+04 |g| 4.593e+02 CG   2\n",
      "cg reaches trust region boundary\n",
      "iter 522 act 1.807e+01 pre 2.699e+01 delta 1.033e-01 f 4.186e+04 |g| 6.017e+02 CG   3\n",
      "cg reaches trust region boundary\n",
      "iter 523 act 1.160e+01 pre 7.737e+01 delta 5.164e-02 f 4.185e+04 |g| 1.644e+03 CG   4\n",
      "cg reaches trust region boundary\n",
      "iter 524 act 7.785e+00 pre 1.236e+01 delta 3.892e-02 f 4.183e+04 |g| 4.793e+02 CG   2\n",
      "cg reaches trust region boundary\n",
      "iter 525 act 1.204e+01 pre 4.156e+01 delta 2.293e-02 f 4.183e+04 |g| 2.328e+03 CG   2\n",
      "cg reaches trust region boundary\n",
      "iter 526 act 6.875e+00 pre 6.876e+00 delta 9.170e-02 f 4.181e+04 |g| 3.290e+02 CG   1\n",
      "cg reaches trust region boundary\n",
      "iter 527 act 1.776e+00 pre 1.919e+01 delta 4.585e-02 f 4.181e+04 |g| 3.224e+02 CG   1\n",
      "cg reaches trust region boundary\n",
      "iter 528 act 2.034e+01 pre 1.098e+02 delta 2.293e-02 f 4.181e+04 |g| 2.460e+03 CG   1\n",
      "cg reaches trust region boundary\n",
      "iter 529 act 5.662e+00 pre 5.680e+00 delta 2.920e-02 f 4.179e+04 |g| 4.066e+02 CG   1\n",
      "cg reaches trust region boundary\n",
      "iter 530 act 6.610e+00 pre 6.603e+00 delta 4.616e-02 f 4.178e+04 |g| 3.311e+02 CG   1\n",
      "cg reaches trust region boundary\n",
      "iter 531 act 1.025e+01 pre 1.030e+01 delta 5.897e-02 f 4.177e+04 |g| 3.802e+02 CG   2\n",
      "cg reaches trust region boundary\n",
      "iter 532 act -4.326e+00 pre 1.652e+01 delta 2.488e-02 f 4.176e+04 |g| 4.902e+02 CG   3\n",
      "cg reaches trust region boundary\n",
      "iter 532 act 6.622e+00 pre 6.541e+00 delta 2.898e-02 f 4.176e+04 |g| 4.902e+02 CG   2\n",
      "cg reaches trust region boundary\n",
      "iter 533 act 3.151e+00 pre 5.611e+00 delta 2.211e-02 f 4.176e+04 |g| 3.155e+02 CG   1\n",
      "cg reaches trust region boundary\n",
      "iter 534 act 7.584e+00 pre 8.466e+00 delta 2.219e-02 f 4.175e+04 |g| 1.887e+03 CG   2\n",
      "cg reaches trust region boundary\n",
      "iter 535 act 5.514e+00 pre 5.281e+00 delta 4.541e-02 f 4.175e+04 |g| 3.609e+02 CG   2\n",
      "cg reaches trust region boundary\n",
      "iter 536 act 5.726e+00 pre 7.534e+00 delta 4.541e-02 f 4.174e+04 |g| 2.976e+02 CG   1\n",
      "cg reaches trust region boundary\n",
      "iter 537 act 1.117e+01 pre 1.545e+01 delta 4.152e-02 f 4.173e+04 |g| 1.259e+03 CG   3\n",
      "cg reaches trust region boundary\n",
      "iter 538 act 1.160e+01 pre 1.554e+01 delta 3.441e-02 f 4.172e+04 |g| 2.126e+03 CG   3\n",
      "cg reaches trust region boundary\n",
      "iter 539 act 3.786e+00 pre 9.092e+00 delta 2.296e-02 f 4.171e+04 |g| 4.543e+02 CG   2\n",
      "cg reaches trust region boundary\n",
      "iter 540 act 9.205e+00 pre 1.728e+01 delta 1.609e-02 f 4.171e+04 |g| 2.214e+03 CG   2\n",
      "cg reaches trust region boundary\n",
      "iter 541 act 4.351e+00 pre 4.378e+00 delta 6.434e-02 f 4.170e+04 |g| 2.992e+02 CG   1\n",
      "cg reaches trust region boundary\n",
      "iter 542 act -1.743e+01 pre 1.085e+01 delta 1.649e-02 f 4.169e+04 |g| 2.849e+02 CG   1\n",
      "cg reaches trust region boundary\n",
      "iter 542 act 3.055e+00 pre 4.208e+00 delta 2.356e-02 f 4.169e+04 |g| 2.849e+02 CG   1\n",
      "cg reaches trust region boundary\n",
      "iter 543 act 6.829e+00 pre 7.086e+00 delta 6.737e-02 f 4.169e+04 |g| 1.201e+03 CG   2\n",
      "cg reaches trust region boundary\n",
      "iter 544 act 1.525e+01 pre 1.460e+01 delta 1.703e-01 f 4.168e+04 |g| 4.882e+02 CG   3\n",
      "cg reaches trust region boundary\n",
      "iter 545 act 1.617e+01 pre 4.255e+01 delta 1.214e-01 f 4.167e+04 |g| 1.780e+03 CG   3\n",
      "cg reaches trust region boundary\n",
      "iter 546 act 2.060e+01 pre 1.687e+02 delta 6.070e-02 f 4.165e+04 |g| 1.693e+03 CG   1\n",
      "cg reaches trust region boundary\n",
      "iter 547 act -6.314e-01 pre 1.449e+01 delta 2.962e-02 f 4.163e+04 |g| 4.263e+02 CG   2\n",
      "cg reaches trust region boundary\n",
      "iter 547 act 8.267e+00 pre 9.072e+00 delta 4.290e-02 f 4.163e+04 |g| 4.263e+02 CG   1\n",
      "cg reaches trust region boundary\n",
      "iter 548 act 1.007e+01 pre 9.867e+00 delta 5.091e-02 f 4.162e+04 |g| 9.319e+02 CG   2\n",
      "cg reaches trust region boundary\n",
      "iter 549 act 1.537e+01 pre 1.543e+01 delta 7.524e-02 f 4.161e+04 |g| 5.478e+02 CG   3\n",
      "cg reaches trust region boundary\n",
      "iter 550 act 1.874e+01 pre 1.876e+01 delta 1.314e-01 f 4.160e+04 |g| 3.877e+02 CG   3\n",
      "cg reaches trust region boundary\n",
      "iter 551 act 3.107e+00 pre 3.561e+01 delta 6.572e-02 f 4.158e+04 |g| 5.088e+02 CG   3\n",
      "cg reaches trust region boundary\n",
      "iter 552 act 3.095e+01 pre 9.997e+01 delta 4.559e-02 f 4.158e+04 |g| 1.687e+03 CG   1\n",
      "cg reaches trust region boundary\n",
      "iter 553 act -4.868e+00 pre 1.081e+01 delta 1.723e-02 f 4.155e+04 |g| 3.305e+02 CG   1\n",
      "cg reaches trust region boundary\n",
      "iter 553 act 4.349e+00 pre 5.086e+00 delta 3.647e-02 f 4.155e+04 |g| 3.305e+02 CG   1\n",
      "cg reaches trust region boundary\n",
      "iter 554 act 1.051e+01 pre 1.041e+01 delta 1.459e-01 f 4.154e+04 |g| 8.194e+02 CG   2\n",
      "cg reaches trust region boundary\n",
      "iter 555 act -1.580e+01 pre 3.087e+01 delta 5.343e-02 f 4.153e+04 |g| 3.432e+02 CG   3\n",
      "cg reaches trust region boundary\n",
      "iter 555 act 1.055e+01 pre 1.065e+01 delta 7.497e-02 f 4.153e+04 |g| 3.432e+02 CG   2\n",
      "cg reaches trust region boundary\n",
      "iter 556 act 1.714e+01 pre 1.905e+01 delta 9.482e-02 f 4.152e+04 |g| 5.037e+02 CG   3\n",
      "cg reaches trust region boundary\n",
      "iter 557 act 2.156e+01 pre 2.380e+01 delta 1.067e-01 f 4.150e+04 |g| 1.358e+03 CG   3\n",
      "cg reaches trust region boundary\n",
      "iter 558 act 2.255e+00 pre 3.212e+01 delta 5.335e-02 f 4.148e+04 |g| 1.005e+03 CG   3\n",
      "cg reaches trust region boundary\n",
      "iter 559 act 2.703e+01 pre 1.084e+02 delta 2.667e-02 f 4.148e+04 |g| 2.780e+03 CG   1\n",
      "cg reaches trust region boundary\n",
      "iter 560 act 6.819e+00 pre 6.801e+00 delta 5.359e-02 f 4.145e+04 |g| 3.404e+02 CG   1\n",
      "cg reaches trust region boundary\n",
      "iter 561 act 1.063e+01 pre 1.106e+01 delta 6.397e-02 f 4.145e+04 |g| 3.446e+02 CG   2\n",
      "cg reaches trust region boundary\n",
      "iter 562 act -4.445e+00 pre 1.908e+01 delta 2.737e-02 f 4.144e+04 |g| 5.554e+02 CG   3\n",
      "cg reaches trust region boundary\n",
      "iter 562 act 7.277e+00 pre 7.227e+00 delta 2.793e-02 f 4.144e+04 |g| 5.554e+02 CG   2\n",
      "cg reaches trust region boundary\n",
      "iter 563 act 1.458e+00 pre 5.588e+00 delta 1.654e-02 f 4.143e+04 |g| 3.386e+02 CG   2\n",
      "cg reaches trust region boundary\n",
      "iter 564 act 7.692e+00 pre 1.318e+01 delta 1.220e-02 f 4.143e+04 |g| 2.163e+03 CG   2\n",
      "cg reaches trust region boundary\n",
      "iter 565 act 3.271e+00 pre 3.298e+00 delta 4.881e-02 f 4.142e+04 |g| 2.736e+02 CG   1\n",
      "cg reaches trust region boundary\n",
      "iter 566 act 1.345e+00 pre 1.081e+01 delta 2.440e-02 f 4.142e+04 |g| 2.620e+02 CG   1\n",
      "cg reaches trust region boundary\n",
      "iter 567 act 1.015e+01 pre 4.771e+01 delta 1.220e-02 f 4.141e+04 |g| 2.469e+03 CG   1\n",
      "cg reaches trust region boundary\n",
      "iter 568 act 3.391e+00 pre 3.412e+00 delta 4.881e-02 f 4.140e+04 |g| 2.821e+02 CG   1\n",
      "cg reaches trust region boundary\n",
      "iter 569 act 8.180e+00 pre 1.301e+01 delta 6.278e-02 f 4.140e+04 |g| 2.742e+02 CG   1\n",
      "cg reaches trust region boundary\n",
      "iter 570 act 1.768e+01 pre 2.081e+01 delta 7.143e-02 f 4.139e+04 |g| 2.184e+03 CG   3\n",
      "cg reaches trust region boundary\n",
      "iter 571 act -1.959e+01 pre 1.791e+01 delta 2.041e-02 f 4.138e+04 |g| 1.235e+03 CG   2\n",
      "cg reaches trust region boundary\n",
      "iter 571 act 6.756e+00 pre 8.105e+00 delta 2.413e-02 f 4.138e+04 |g| 1.235e+03 CG   2\n",
      "cg reaches trust region boundary\n",
      "iter 572 act 6.529e+00 pre 6.419e+00 delta 9.653e-02 f 4.137e+04 |g| 8.868e+02 CG   2\n",
      "cg reaches trust region boundary\n",
      "iter 573 act 1.037e+01 pre 1.398e+01 delta 7.955e-02 f 4.136e+04 |g| 3.305e+02 CG   2\n",
      "cg reaches trust region boundary\n",
      "iter 574 act 3.079e+01 pre 3.524e+01 delta 8.493e-02 f 4.135e+04 |g| 1.594e+03 CG   4\n",
      "cg reaches trust region boundary\n",
      "iter 575 act -4.349e+01 pre 1.849e+01 delta 2.123e-02 f 4.132e+04 |g| 3.233e+02 CG   2\n",
      "cg reaches trust region boundary\n",
      "iter 575 act 4.212e+00 pre 4.509e+00 delta 2.747e-02 f 4.132e+04 |g| 3.233e+02 CG   1\n",
      "cg reaches trust region boundary\n",
      "iter 576 act 6.048e+00 pre 6.419e+00 delta 4.277e-02 f 4.132e+04 |g| 9.204e+02 CG   2\n",
      "cg reaches trust region boundary\n",
      "iter 577 act 7.745e+00 pre 7.650e+00 delta 4.647e-02 f 4.131e+04 |g| 6.266e+02 CG   3\n",
      "cg reaches trust region boundary\n",
      "iter 578 act 1.260e+01 pre 1.248e+01 delta 6.802e-02 f 4.130e+04 |g| 5.109e+02 CG   3\n",
      "cg reaches trust region boundary\n",
      "iter 579 act -1.618e+01 pre 1.328e+01 delta 1.939e-02 f 4.129e+04 |g| 3.443e+02 CG   3\n",
      "cg reaches trust region boundary\n",
      "iter 579 act 3.574e+00 pre 3.459e+00 delta 2.087e-02 f 4.129e+04 |g| 3.443e+02 CG   1\n",
      "cg reaches trust region boundary\n",
      "iter 580 act 5.214e+00 pre 5.337e+00 delta 4.311e-02 f 4.129e+04 |g| 7.524e+02 CG   2\n",
      "cg reaches trust region boundary\n",
      "iter 581 act 8.735e+00 pre 8.070e+00 delta 7.111e-02 f 4.128e+04 |g| 3.551e+02 CG   3\n",
      "cg reaches trust region boundary\n",
      "iter 582 act 9.438e+00 pre 1.822e+01 delta 5.905e-02 f 4.127e+04 |g| 5.206e+02 CG   3\n",
      "cg reaches trust region boundary\n",
      "iter 583 act 6.261e+00 pre 6.813e+01 delta 2.952e-02 f 4.126e+04 |g| 1.629e+03 CG   1\n",
      "cg reaches trust region boundary\n",
      "iter 584 act 3.023e+00 pre 8.101e+00 delta 2.143e-02 f 4.126e+04 |g| 3.290e+02 CG   1\n",
      "cg reaches trust region boundary\n",
      "iter 585 act 9.240e+00 pre 1.706e+01 delta 1.540e-02 f 4.125e+04 |g| 2.208e+03 CG   2\n",
      "cg reaches trust region boundary\n",
      "iter 586 act 4.411e+00 pre 4.417e+00 delta 6.159e-02 f 4.124e+04 |g| 2.995e+02 CG   1\n",
      "cg reaches trust region boundary\n",
      "iter 587 act -1.317e+01 pre 1.511e+01 delta 1.764e-02 f 4.124e+04 |g| 2.866e+02 CG   1\n",
      "cg reaches trust region boundary\n",
      "iter 587 act 3.316e+00 pre 4.846e+00 delta 2.563e-02 f 4.124e+04 |g| 2.866e+02 CG   1\n",
      "cg reaches trust region boundary\n",
      "iter 588 act 8.079e+00 pre 7.988e+00 delta 9.078e-02 f 4.124e+04 |g| 1.359e+03 CG   2\n",
      "cg reaches trust region boundary\n",
      "iter 589 act -1.784e+00 pre 2.181e+01 delta 4.230e-02 f 4.123e+04 |g| 3.344e+02 CG   2\n",
      "cg reaches trust region boundary\n",
      "iter 589 act 7.744e+00 pre 1.064e+01 delta 6.427e-02 f 4.123e+04 |g| 3.344e+02 CG   2\n",
      "cg reaches trust region boundary\n",
      "iter 590 act 2.270e+00 pre 1.298e+01 delta 3.213e-02 f 4.122e+04 |g| 1.272e+03 CG   2\n",
      "cg reaches trust region boundary\n",
      "iter 591 act 1.292e+01 pre 7.383e+01 delta 1.607e-02 f 4.122e+04 |g| 2.419e+03 CG   1\n",
      "cg reaches trust region boundary\n",
      "iter 592 act 4.475e+00 pre 4.472e+00 delta 2.648e-02 f 4.121e+04 |g| 3.998e+02 CG   1\n",
      "cg reaches trust region boundary\n",
      "iter 593 act 6.953e+00 pre 6.978e+00 delta 1.059e-01 f 4.120e+04 |g| 2.722e+02 CG   1\n",
      "cg reaches trust region boundary\n",
      "iter 594 act -2.857e+01 pre 2.344e+01 delta 2.689e-02 f 4.119e+04 |g| 2.940e+02 CG   2\n",
      "cg reaches trust region boundary\n",
      "iter 594 act 6.585e+00 pre 5.249e+00 delta 8.510e-02 f 4.119e+04 |g| 2.940e+02 CG   2\n",
      "cg reaches trust region boundary\n",
      "iter 595 act -4.928e+01 pre 1.420e+01 delta 2.127e-02 f 4.119e+04 |g| 2.905e+02 CG   2\n",
      "cg reaches trust region boundary\n",
      "iter 595 act 1.956e+00 pre 5.262e+00 delta 1.556e-02 f 4.119e+04 |g| 2.905e+02 CG   1\n",
      "cg reaches trust region boundary\n",
      "iter 596 act 6.473e+00 pre 7.335e+00 delta 1.605e-02 f 4.119e+04 |g| 1.939e+03 CG   2\n",
      "cg reaches trust region boundary\n",
      "iter 597 act 3.520e+00 pre 3.919e+00 delta 4.562e-02 f 4.118e+04 |g| 2.661e+02 CG   1\n",
      "cg reaches trust region boundary\n",
      "iter 598 act 1.117e+01 pre 9.697e+00 delta 1.825e-01 f 4.118e+04 |g| 6.070e+02 CG   3\n",
      "cg reaches trust region boundary\n",
      "iter 599 act -2.068e+01 pre 3.944e+01 delta 6.461e-02 f 4.116e+04 |g| 3.344e+02 CG   3\n",
      "cg reaches trust region boundary\n",
      "iter 599 act -4.759e+00 pre 9.794e+00 delta 2.578e-02 f 4.116e+04 |g| 3.344e+02 CG   3\n",
      "cg reaches trust region boundary\n",
      "iter 599 act 5.474e+00 pre 5.796e+00 delta 4.428e-02 f 4.116e+04 |g| 3.344e+02 CG   2\n",
      "cg reaches trust region boundary\n",
      "iter 600 act 4.516e+00 pre 7.402e+00 delta 3.301e-02 f 4.116e+04 |g| 4.417e+02 CG   3\n",
      "cg reaches trust region boundary\n",
      "iter 601 act 1.089e+01 pre 1.261e+01 delta 3.301e-02 f 4.115e+04 |g| 2.028e+03 CG   4\n",
      "cg reaches trust region boundary\n",
      "iter 602 act 3.313e+00 pre 6.072e+00 delta 2.316e-02 f 4.114e+04 |g| 5.092e+02 CG   3\n",
      "cg reaches trust region boundary\n",
      "iter 603 act 8.098e+00 pre 8.923e+00 delta 2.316e-02 f 4.114e+04 |g| 1.947e+03 CG   3\n",
      "cg reaches trust region boundary\n",
      "iter 604 act 4.390e+00 pre 4.797e+00 delta 3.247e-02 f 4.113e+04 |g| 2.947e+02 CG   1\n",
      "cg reaches trust region boundary\n",
      "iter 605 act 6.766e+00 pre 6.586e+00 delta 4.507e-02 f 4.113e+04 |g| 6.465e+02 CG   3\n",
      "cg reaches trust region boundary\n",
      "iter 606 act 1.022e+01 pre 1.025e+01 delta 6.777e-02 f 4.112e+04 |g| 3.998e+02 CG   3\n",
      "cg reaches trust region boundary\n",
      "iter 607 act 1.007e+01 pre 1.252e+01 delta 6.777e-02 f 4.111e+04 |g| 3.741e+02 CG   3\n",
      "cg reaches trust region boundary\n",
      "iter 608 act 2.028e+01 pre 2.877e+01 delta 5.837e-02 f 4.110e+04 |g| 1.559e+03 CG   3\n",
      "cg reaches trust region boundary\n",
      "iter 609 act 7.598e+00 pre 1.452e+01 delta 4.667e-02 f 4.108e+04 |g| 4.043e+02 CG   2\n",
      "cg reaches trust region boundary\n",
      "iter 610 act 6.368e+00 pre 3.655e+01 delta 2.334e-02 f 4.107e+04 |g| 1.596e+03 CG   2\n",
      "cg reaches trust region boundary\n",
      "iter 611 act 9.843e+00 pre 1.591e+01 delta 1.854e-02 f 4.107e+04 |g| 2.171e+03 CG   2\n",
      "cg reaches trust region boundary\n",
      "iter 612 act 5.033e+00 pre 5.181e+00 delta 7.415e-02 f 4.106e+04 |g| 2.868e+02 CG   1\n",
      "cg reaches trust region boundary\n",
      "iter 613 act 5.557e+00 pre 1.749e+01 delta 5.122e-02 f 4.105e+04 |g| 2.840e+02 CG   2\n",
      "cg reaches trust region boundary\n",
      "iter 614 act 1.073e+01 pre 7.543e+01 delta 2.561e-02 f 4.105e+04 |g| 1.642e+03 CG   1\n",
      "cg reaches trust region boundary\n",
      "iter 615 act 6.339e+00 pre 6.711e+00 delta 8.530e-02 f 4.104e+04 |g| 2.913e+02 CG   1\n",
      "cg reaches trust region boundary\n",
      "iter 616 act 1.204e+01 pre 1.553e+01 delta 8.530e-02 f 4.103e+04 |g| 7.646e+02 CG   2\n",
      "cg reaches trust region boundary\n",
      "iter 617 act 2.871e+01 pre 3.005e+01 delta 1.252e-01 f 4.102e+04 |g| 1.425e+03 CG   4\n",
      "cg reaches trust region boundary\n",
      "iter 618 act 1.962e+01 pre 2.027e+01 delta 1.484e-01 f 4.099e+04 |g| 3.473e+02 CG   3\n",
      "cg reaches trust region boundary\n",
      "iter 619 act 4.317e+01 pre 4.245e+01 delta 2.639e-01 f 4.097e+04 |g| 9.908e+02 CG   4\n",
      "cg reaches trust region boundary\n",
      "iter 620 act -1.168e+02 pre 4.222e+01 delta 6.596e-02 f 4.093e+04 |g| 5.030e+02 CG   5\n",
      "cg reaches trust region boundary\n",
      "iter 620 act -1.400e+01 pre 1.234e+01 delta 2.047e-02 f 4.093e+04 |g| 5.030e+02 CG   3\n",
      "cg reaches trust region boundary\n",
      "iter 620 act 5.927e+00 pre 5.919e+00 delta 3.616e-02 f 4.093e+04 |g| 5.030e+02 CG   2\n",
      "cg reaches trust region boundary\n",
      "iter 621 act 8.298e+00 pre 6.098e+00 delta 9.385e-02 f 4.092e+04 |g| 4.915e+02 CG   3\n",
      "cg reaches trust region boundary\n",
      "iter 622 act -1.061e+01 pre 1.384e+01 delta 3.321e-02 f 4.091e+04 |g| 3.061e+02 CG   2\n",
      "cg reaches trust region boundary\n",
      "iter 622 act 6.901e+00 pre 7.348e+00 delta 6.403e-02 f 4.091e+04 |g| 3.061e+02 CG   2\n",
      "cg reaches trust region boundary\n",
      "iter 623 act 8.936e+00 pre 1.387e+01 delta 5.964e-02 f 4.090e+04 |g| 5.083e+02 CG   3\n",
      "cg reaches trust region boundary\n",
      "iter 624 act 1.464e+01 pre 2.708e+01 delta 4.180e-02 f 4.090e+04 |g| 2.264e+03 CG   4\n",
      "cg reaches trust region boundary\n",
      "iter 625 act 1.087e+01 pre 1.428e+01 delta 4.180e-02 f 4.088e+04 |g| 1.359e+03 CG   3\n",
      "cg reaches trust region boundary\n",
      "iter 626 act 1.049e+01 pre 1.071e+01 delta 5.516e-02 f 4.087e+04 |g| 1.507e+03 CG   3\n",
      "cg reaches trust region boundary\n",
      "iter 627 act 1.237e+01 pre 1.230e+01 delta 8.934e-02 f 4.086e+04 |g| 4.824e+02 CG   4\n",
      "cg reaches trust region boundary\n",
      "iter 628 act 2.018e+01 pre 2.084e+01 delta 1.741e-01 f 4.085e+04 |g| 4.093e+02 CG   3\n",
      "cg reaches trust region boundary\n",
      "iter 629 act 3.011e+01 pre 2.659e+01 delta 2.195e-01 f 4.083e+04 |g| 1.152e+03 CG   5\n",
      "cg reaches trust region boundary\n",
      "iter 630 act -1.356e+02 pre 1.235e+02 delta 6.983e-02 f 4.080e+04 |g| 1.233e+03 CG   4\n",
      "cg reaches trust region boundary\n",
      "iter 630 act 1.036e+01 pre 5.110e+01 delta 3.492e-02 f 4.080e+04 |g| 1.233e+03 CG   2\n",
      "cg reaches trust region boundary\n",
      "iter 631 act 9.600e+00 pre 1.031e+01 delta 3.889e-02 f 4.079e+04 |g| 5.186e+02 CG   2\n",
      "cg reaches trust region boundary\n",
      "iter 632 act 7.648e+00 pre 7.594e+00 delta 4.647e-02 f 4.078e+04 |g| 7.325e+02 CG   3\n",
      "cg reaches trust region boundary\n",
      "iter 633 act 1.187e+01 pre 1.182e+01 delta 7.499e-02 f 4.077e+04 |g| 4.561e+02 CG   3\n",
      "cg reaches trust region boundary\n",
      "iter 634 act 1.555e+01 pre 1.570e+01 delta 1.342e-01 f 4.076e+04 |g| 3.187e+02 CG   3\n",
      "cg reaches trust region boundary\n",
      "iter 635 act 3.333e+01 pre 3.379e+01 delta 4.061e-01 f 4.074e+04 |g| 5.146e+02 CG   4\n",
      "cg reaches trust region boundary\n",
      "iter 636 act 9.260e+01 pre 9.220e+01 delta 1.624e+00 f 4.071e+04 |g| 4.450e+02 CG   4\n",
      "cg reaches trust region boundary\n",
      "iter 637 act 3.508e+01 pre 2.910e+02 delta 8.122e-01 f 4.062e+04 |g| 6.329e+02 CG   5\n",
      "cg reaches trust region boundary\n",
      "iter 638 act 5.917e+01 pre 1.650e+03 delta 4.061e-01 f 4.058e+04 |g| 3.092e+03 CG   2\n",
      "cg reaches trust region boundary\n",
      "iter 639 act 2.026e+02 pre 2.228e+02 delta 4.061e-01 f 4.052e+04 |g| 1.356e+03 CG   3\n",
      "cg reaches trust region boundary\n",
      "iter 640 act 1.295e+02 pre 1.388e+02 delta 4.209e-01 f 4.032e+04 |g| 9.760e+02 CG   3\n",
      "cg reaches trust region boundary\n",
      "iter 641 act -4.502e+02 pre 2.491e+02 delta 1.084e-01 f 4.019e+04 |g| 1.326e+03 CG   4\n",
      "cg reaches trust region boundary\n",
      "iter 641 act 2.398e+01 pre 8.113e+01 delta 6.517e-02 f 4.019e+04 |g| 1.326e+03 CG   2\n",
      "cg reaches trust region boundary\n",
      "iter 642 act 1.969e+01 pre 1.751e+01 delta 1.154e-01 f 4.017e+04 |g| 5.931e+02 CG   2\n",
      "cg reaches trust region boundary\n",
      "iter 643 act 2.811e+01 pre 2.799e+01 delta 2.181e-01 f 4.015e+04 |g| 8.601e+02 CG   3\n",
      "cg reaches trust region boundary\n",
      "iter 644 act -6.216e+00 pre 5.260e+01 delta 9.931e-02 f 4.012e+04 |g| 4.947e+02 CG   3\n",
      "cg reaches trust region boundary\n",
      "iter 644 act 2.614e+01 pre 2.597e+01 delta 2.367e-01 f 4.012e+04 |g| 4.947e+02 CG   3\n",
      "cg reaches trust region boundary\n",
      "iter 645 act -8.610e+01 pre 4.977e+01 delta 5.918e-02 f 4.009e+04 |g| 3.127e+02 CG   3\n",
      "cg reaches trust region boundary\n",
      "iter 645 act 8.775e+00 pre 8.990e+00 delta 6.020e-02 f 4.009e+04 |g| 3.127e+02 CG   3\n",
      "cg reaches trust region boundary\n",
      "iter 646 act 1.681e+01 pre 1.708e+01 delta 9.879e-02 f 4.008e+04 |g| 6.261e+02 CG   3\n",
      "cg reaches trust region boundary\n",
      "iter 647 act 1.432e+01 pre 1.418e+01 delta 1.151e-01 f 4.007e+04 |g| 5.985e+02 CG   4\n",
      "cg reaches trust region boundary\n",
      "iter 648 act 3.037e+01 pre 3.259e+01 delta 1.952e-01 f 4.005e+04 |g| 7.269e+02 CG   4\n",
      "cg reaches trust region boundary\n",
      "iter 649 act 2.501e+01 pre 2.884e+01 delta 1.952e-01 f 4.002e+04 |g| 8.154e+02 CG   3\n",
      "cg reaches trust region boundary\n",
      "iter 650 act 6.101e+01 pre 5.536e+01 delta 2.862e-01 f 4.000e+04 |g| 2.288e+03 CG   4\n",
      "cg reaches trust region boundary\n",
      "iter 651 act -1.021e+02 pre 4.222e+01 delta 7.155e-02 f 3.994e+04 |g| 2.804e+02 CG   3\n",
      "cg reaches trust region boundary\n",
      "iter 651 act -2.055e+01 pre 1.215e+01 delta 1.789e-02 f 3.994e+04 |g| 2.804e+02 CG   1\n",
      "cg reaches trust region boundary\n",
      "iter 651 act 3.653e+00 pre 4.521e+00 delta 3.290e-02 f 3.994e+04 |g| 2.804e+02 CG   1\n",
      "cg reaches trust region boundary\n",
      "iter 652 act 7.517e+00 pre 7.815e+00 delta 9.673e-02 f 3.993e+04 |g| 9.041e+02 CG   2\n",
      "cg reaches trust region boundary\n",
      "iter 653 act 6.327e+00 pre 1.255e+01 delta 6.617e-02 f 3.992e+04 |g| 5.306e+02 CG   3\n",
      "iter 654 act 1.545e+01 pre 3.338e+01 delta 2.824e-02 f 3.992e+04 |g| 2.429e+03 CG   2\n",
      "cg reaches trust region boundary\n",
      "iter 655 act -1.106e-01 pre 6.353e+00 delta 1.391e-02 f 3.990e+04 |g| 2.595e+02 CG   1\n",
      "cg reaches trust region boundary\n",
      "iter 655 act 3.160e+00 pre 3.373e+00 delta 5.564e-02 f 3.990e+04 |g| 2.595e+02 CG   1\n",
      "cg reaches trust region boundary\n",
      "iter 656 act 1.164e+01 pre 9.367e+00 delta 1.960e-01 f 3.990e+04 |g| 3.075e+02 CG   2\n",
      "cg reaches trust region boundary\n",
      "iter 657 act -5.536e+01 pre 3.746e+01 delta 4.899e-02 f 3.989e+04 |g| 2.817e+02 CG   3\n",
      "cg reaches trust region boundary\n",
      "iter 657 act 2.537e+00 pre 7.963e+00 delta 3.013e-02 f 3.989e+04 |g| 2.817e+02 CG   2\n",
      "cg reaches trust region boundary\n",
      "iter 658 act 1.050e+01 pre 1.856e+01 delta 2.123e-02 f 3.989e+04 |g| 1.620e+03 CG   3\n",
      "cg reaches trust region boundary\n",
      "iter 659 act 4.358e+00 pre 4.215e+00 delta 3.666e-02 f 3.987e+04 |g| 3.055e+02 CG   2\n",
      "cg reaches trust region boundary\n",
      "iter 660 act -1.745e+00 pre 5.312e+00 delta 1.559e-02 f 3.987e+04 |g| 2.709e+02 CG   2\n",
      "cg reaches trust region boundary\n",
      "iter 660 act 2.784e+00 pre 3.255e+00 delta 2.288e-02 f 3.987e+04 |g| 2.709e+02 CG   1\n",
      "cg reaches trust region boundary\n",
      "iter 661 act 5.126e+00 pre 5.048e+00 delta 7.742e-02 f 3.987e+04 |g| 6.713e+02 CG   2\n",
      "cg reaches trust region boundary\n",
      "iter 662 act 1.192e+01 pre 1.187e+01 delta 1.047e-01 f 3.986e+04 |g| 2.884e+02 CG   3\n",
      "cg reaches trust region boundary\n",
      "iter 663 act 2.412e+01 pre 2.615e+01 delta 1.766e-01 f 3.985e+04 |g| 5.560e+02 CG   3\n",
      "cg reaches trust region boundary\n",
      "iter 664 act -3.289e+01 pre 3.234e+01 delta 5.261e-02 f 3.983e+04 |g| 8.218e+02 CG   4\n",
      "cg reaches trust region boundary\n",
      "iter 664 act 5.387e+00 pre 1.227e+01 delta 3.698e-02 f 3.983e+04 |g| 8.218e+02 CG   3\n",
      "cg reaches trust region boundary\n",
      "iter 665 act 7.747e+00 pre 2.918e+01 delta 2.137e-02 f 3.982e+04 |g| 1.576e+03 CG   3\n",
      "cg reaches trust region boundary\n",
      "iter 666 act 4.924e+00 pre 4.698e+00 delta 6.492e-02 f 3.981e+04 |g| 3.004e+02 CG   2\n",
      "cg reaches trust region boundary\n",
      "iter 667 act -1.346e+01 pre 9.058e+00 delta 1.808e-02 f 3.981e+04 |g| 2.608e+02 CG   2\n",
      "cg reaches trust region boundary\n",
      "iter 667 act 2.827e+00 pre 4.007e+00 delta 2.258e-02 f 3.981e+04 |g| 2.608e+02 CG   1\n",
      "cg reaches trust region boundary\n",
      "iter 668 act 5.981e+00 pre 5.878e+00 delta 5.489e-02 f 3.981e+04 |g| 1.237e+03 CG   2\n",
      "cg reaches trust region boundary\n",
      "iter 669 act 4.185e-01 pre 7.354e+00 delta 2.745e-02 f 3.980e+04 |g| 3.388e+02 CG   2\n",
      "cg reaches trust region boundary\n",
      "iter 670 act 8.818e+00 pre 3.224e+01 delta 1.712e-02 f 3.980e+04 |g| 1.618e+03 CG   1\n",
      "cg reaches trust region boundary\n",
      "iter 671 act 3.968e+00 pre 4.068e+00 delta 2.199e-02 f 3.979e+04 |g| 3.795e+02 CG   1\n",
      "cg reaches trust region boundary\n",
      "iter 672 act 5.063e+00 pre 4.986e+00 delta 8.796e-02 f 3.979e+04 |g| 3.637e+02 CG   2\n",
      "cg reaches trust region boundary\n",
      "iter 673 act -1.519e+01 pre 1.131e+01 delta 2.566e-02 f 3.978e+04 |g| 2.420e+02 CG   2\n",
      "cg reaches trust region boundary\n",
      "iter 673 act 4.851e+00 pre 5.241e+00 delta 5.862e-02 f 3.978e+04 |g| 2.420e+02 CG   1\n",
      "cg reaches trust region boundary\n",
      "iter 674 act 9.625e+00 pre 1.008e+01 delta 7.932e-02 f 3.978e+04 |g| 3.793e+02 CG   3\n",
      "cg reaches trust region boundary\n",
      "iter 675 act 1.881e+01 pre 1.897e+01 delta 1.589e-01 f 3.977e+04 |g| 8.564e+02 CG   4\n",
      "cg reaches trust region boundary\n",
      "iter 676 act 2.997e+01 pre 2.999e+01 delta 3.423e-01 f 3.975e+04 |g| 4.870e+02 CG   5\n",
      "cg reaches trust region boundary\n",
      "iter 677 act 6.908e+01 pre 7.381e+01 delta 8.106e-01 f 3.972e+04 |g| 6.151e+02 CG   4\n",
      "cg reaches trust region boundary\n",
      "iter 678 act 8.738e+01 pre 2.290e+02 delta 5.172e-01 f 3.965e+04 |g| 1.625e+03 CG   5\n",
      "cg reaches trust region boundary\n",
      "iter 679 act -3.951e+01 pre 1.165e+03 delta 2.507e-01 f 3.956e+04 |g| 2.414e+03 CG   1\n",
      "cg reaches trust region boundary\n",
      "iter 679 act 2.866e+01 pre 5.855e+02 delta 1.253e-01 f 3.956e+04 |g| 2.414e+03 CG   1\n",
      "cg reaches trust region boundary\n",
      "iter 680 act 3.360e+01 pre 3.424e+01 delta 1.674e-01 f 3.953e+04 |g| 4.354e+02 CG   2\n",
      "cg reaches trust region boundary\n",
      "iter 681 act 5.104e+01 pre 3.891e+01 delta 3.196e-01 f 3.950e+04 |g| 7.045e+02 CG   2\n",
      "cg reaches trust region boundary\n",
      "iter 682 act -1.596e+02 pre 6.260e+01 delta 7.991e-02 f 3.945e+04 |g| 3.018e+02 CG   2\n",
      "cg reaches trust region boundary\n",
      "iter 682 act 1.609e+01 pre 1.230e+01 delta 1.200e-01 f 3.945e+04 |g| 3.018e+02 CG   1\n",
      "cg reaches trust region boundary\n",
      "iter 683 act 2.666e+01 pre 3.065e+01 delta 2.049e-01 f 3.943e+04 |g| 4.693e+02 CG   2\n",
      "cg reaches trust region boundary\n",
      "iter 684 act -9.672e+01 pre 4.277e+01 delta 5.122e-02 f 3.941e+04 |g| 1.390e+03 CG   4\n",
      "cg reaches trust region boundary\n",
      "iter 684 act -1.317e+00 pre 1.345e+01 delta 2.418e-02 f 3.941e+04 |g| 1.390e+03 CG   3\n",
      "cg reaches trust region boundary\n",
      "iter 684 act 8.767e+00 pre 9.207e+00 delta 2.795e-02 f 3.941e+04 |g| 1.390e+03 CG   3\n",
      "cg reaches trust region boundary\n",
      "iter 685 act 4.802e+00 pre 4.708e+00 delta 4.911e-02 f 3.940e+04 |g| 2.402e+02 CG   1\n",
      "cg reaches trust region boundary\n",
      "iter 686 act 8.888e+00 pre 9.191e+00 delta 7.225e-02 f 3.939e+04 |g| 3.122e+02 CG   3\n",
      "cg reaches trust region boundary\n",
      "iter 687 act 6.918e+00 pre 1.174e+01 delta 5.498e-02 f 3.938e+04 |g| 4.222e+02 CG   4\n",
      "cg reaches trust region boundary\n",
      "iter 688 act 6.328e+00 pre 8.390e+01 delta 2.749e-02 f 3.938e+04 |g| 2.362e+03 CG   1\n",
      "cg reaches trust region boundary\n",
      "iter 689 act 5.870e+00 pre 5.881e+00 delta 1.098e-01 f 3.937e+04 |g| 2.441e+02 CG   1\n",
      "cg reaches trust region boundary\n",
      "iter 690 act 1.533e+01 pre 2.151e+01 delta 1.240e-01 f 3.936e+04 |g| 2.643e+02 CG   2\n",
      "cg reaches trust region boundary\n",
      "iter 691 act 1.128e+01 pre 4.888e+01 delta 6.200e-02 f 3.935e+04 |g| 2.315e+03 CG   3\n",
      "cg reaches trust region boundary\n",
      "iter 692 act 1.823e+01 pre 1.067e+02 delta 3.100e-02 f 3.934e+04 |g| 1.921e+03 CG   1\n",
      "cg reaches trust region boundary\n",
      "iter 693 act 5.648e+00 pre 5.590e+00 delta 3.526e-02 f 3.932e+04 |g| 3.251e+02 CG   1\n",
      "cg reaches trust region boundary\n",
      "iter 694 act 2.313e+00 pre 7.866e+00 delta 2.155e-02 f 3.931e+04 |g| 3.744e+02 CG   2\n",
      "cg reaches trust region boundary\n",
      "iter 695 act 8.239e+00 pre 1.863e+01 delta 1.406e-02 f 3.931e+04 |g| 2.241e+03 CG   2\n",
      "cg reaches trust region boundary\n",
      "iter 696 act 3.246e+00 pre 3.248e+00 delta 5.625e-02 f 3.930e+04 |g| 2.441e+02 CG   1\n",
      "cg reaches trust region boundary\n",
      "iter 697 act -2.184e+01 pre 1.197e+01 delta 1.406e-02 f 3.930e+04 |g| 2.341e+02 CG   1\n",
      "cg reaches trust region boundary\n",
      "iter 697 act 3.098e+00 pre 3.216e+00 delta 5.625e-02 f 3.930e+04 |g| 2.341e+02 CG   1\n",
      "cg reaches trust region boundary\n",
      "iter 698 act 3.642e+00 pre 1.073e+01 delta 3.977e-02 f 3.930e+04 |g| 2.297e+02 CG   2\n",
      "cg reaches trust region boundary\n",
      "iter 699 act 6.492e+00 pre 4.257e+01 delta 1.989e-02 f 3.929e+04 |g| 1.593e+03 CG   1\n",
      "cg reaches trust region boundary\n",
      "iter 700 act 2.311e+00 pre 4.141e+00 delta 1.810e-02 f 3.929e+04 |g| 2.579e+02 CG   1\n",
      "cg reaches trust region boundary\n",
      "iter 701 act 5.592e+00 pre 5.611e+00 delta 2.881e-02 f 3.928e+04 |g| 1.586e+03 CG   2\n",
      "cg reaches trust region boundary\n",
      "iter 702 act 5.664e+00 pre 5.590e+00 delta 7.240e-02 f 3.928e+04 |g| 2.848e+02 CG   2\n",
      "cg reaches trust region boundary\n",
      "iter 703 act 1.280e+00 pre 1.247e+01 delta 3.620e-02 f 3.927e+04 |g| 2.758e+02 CG   2\n",
      "cg reaches trust region boundary\n",
      "iter 704 act 1.193e+01 pre 5.375e+01 delta 1.810e-02 f 3.927e+04 |g| 1.652e+03 CG   1\n",
      "cg reaches trust region boundary\n",
      "iter 705 act 3.600e+00 pre 3.603e+00 delta 2.473e-02 f 3.926e+04 |g| 3.137e+02 CG   1\n",
      "cg reaches trust region boundary\n",
      "iter 706 act 4.748e+00 pre 4.555e+00 delta 4.777e-02 f 3.926e+04 |g| 2.749e+02 CG   2\n",
      "cg reaches trust region boundary\n",
      "iter 707 act 3.179e+00 pre 8.652e+00 delta 3.196e-02 f 3.925e+04 |g| 2.746e+02 CG   2\n",
      "cg reaches trust region boundary\n",
      "iter 708 act 1.029e+01 pre 1.321e+01 delta 3.196e-02 f 3.925e+04 |g| 2.286e+03 CG   4\n",
      "cg reaches trust region boundary\n",
      "iter 709 act -5.664e-01 pre 6.036e+00 delta 1.516e-02 f 3.924e+04 |g| 3.701e+02 CG   3\n",
      "cg reaches trust region boundary\n",
      "iter 709 act 3.359e+00 pre 3.281e+00 delta 1.977e-02 f 3.924e+04 |g| 3.701e+02 CG   2\n",
      "cg reaches trust region boundary\n",
      "iter 710 act 4.162e+00 pre 4.132e+00 delta 7.908e-02 f 3.923e+04 |g| 3.434e+02 CG   2\n",
      "cg reaches trust region boundary\n",
      "iter 711 act 1.605e+01 pre 1.517e+01 delta 3.163e-01 f 3.923e+04 |g| 2.269e+02 CG   2\n",
      "cg reaches trust region boundary\n",
      "iter 712 act -6.057e+01 pre 4.088e+01 delta 8.459e-02 f 3.921e+04 |g| 2.337e+02 CG   3\n",
      "cg reaches trust region boundary\n",
      "iter 712 act -6.039e+00 pre 1.293e+01 delta 3.230e-02 f 3.921e+04 |g| 2.337e+02 CG   2\n",
      "cg reaches trust region boundary\n",
      "iter 712 act 2.047e+00 pre 5.142e+00 delta 2.215e-02 f 3.921e+04 |g| 2.337e+02 CG   1\n",
      "cg reaches trust region boundary\n",
      "iter 713 act 6.902e+00 pre 7.543e+00 delta 2.215e-02 f 3.921e+04 |g| 1.943e+03 CG   3\n",
      "cg reaches trust region boundary\n",
      "iter 714 act 3.940e+00 pre 3.837e+00 delta 3.135e-02 f 3.921e+04 |g| 2.939e+02 CG   2\n",
      "cg reaches trust region boundary\n",
      "iter 715 act 4.560e+00 pre 4.695e+00 delta 3.584e-02 f 3.920e+04 |g| 2.605e+02 CG   2\n",
      "cg reaches trust region boundary\n",
      "iter 716 act 5.849e+00 pre 5.896e+00 delta 3.722e-02 f 3.920e+04 |g| 3.831e+02 CG   4\n",
      "cg reaches trust region boundary\n",
      "iter 717 act 7.745e+00 pre 7.645e+00 delta 5.353e-02 f 3.919e+04 |g| 4.949e+02 CG   3\n",
      "cg reaches trust region boundary\n",
      "iter 718 act 1.652e+00 pre 9.435e+00 delta 2.677e-02 f 3.918e+04 |g| 3.055e+02 CG   3\n",
      "cg reaches trust region boundary\n",
      "iter 719 act 7.531e+00 pre 4.891e+01 delta 1.338e-02 f 3.918e+04 |g| 2.353e+03 CG   1\n",
      "cg reaches trust region boundary\n",
      "iter 720 act 2.980e+00 pre 2.976e+00 delta 2.564e-02 f 3.917e+04 |g| 3.013e+02 CG   1\n",
      "cg reaches trust region boundary\n",
      "iter 721 act 5.510e+00 pre 5.480e+00 delta 1.025e-01 f 3.917e+04 |g| 2.252e+02 CG   1\n",
      "cg reaches trust region boundary\n",
      "iter 722 act -5.687e+01 pre 1.341e+01 delta 2.564e-02 f 3.917e+04 |g| 2.324e+02 CG   2\n",
      "cg reaches trust region boundary\n",
      "iter 722 act 4.452e+00 pre 5.104e+00 delta 5.068e-02 f 3.917e+04 |g| 2.324e+02 CG   1\n",
      "cg reaches trust region boundary\n",
      "iter 723 act 7.850e+00 pre 7.443e+00 delta 6.527e-02 f 3.916e+04 |g| 6.042e+02 CG   4\n",
      "cg reaches trust region boundary\n",
      "iter 724 act 1.338e+01 pre 1.481e+01 delta 9.855e-02 f 3.915e+04 |g| 4.721e+02 CG   4\n",
      "cg reaches trust region boundary\n",
      "iter 725 act 1.330e+01 pre 1.500e+01 delta 1.041e-01 f 3.914e+04 |g| 6.661e+02 CG   3\n",
      "cg reaches trust region boundary\n",
      "iter 726 act 2.802e+01 pre 3.178e+01 delta 1.241e-01 f 3.913e+04 |g| 1.578e+03 CG   4\n",
      "cg reaches trust region boundary\n",
      "iter 727 act -2.945e+01 pre 2.065e+01 delta 3.102e-02 f 3.910e+04 |g| 2.814e+02 CG   3\n",
      "cg reaches trust region boundary\n",
      "iter 727 act 5.318e+00 pre 5.617e+00 delta 5.039e-02 f 3.910e+04 |g| 2.814e+02 CG   2\n",
      "cg reaches trust region boundary\n",
      "iter 728 act 9.111e+00 pre 9.113e+00 delta 8.110e-02 f 3.909e+04 |g| 3.590e+02 CG   3\n",
      "cg reaches trust region boundary\n",
      "iter 729 act -1.302e+01 pre 1.087e+01 delta 2.524e-02 f 3.908e+04 |g| 3.585e+02 CG   3\n",
      "cg reaches trust region boundary\n",
      "iter 729 act 2.677e+00 pre 4.612e+00 delta 1.848e-02 f 3.908e+04 |g| 3.585e+02 CG   2\n",
      "cg reaches trust region boundary\n",
      "iter 730 act 5.262e+00 pre 5.088e+00 delta 2.275e-02 f 3.908e+04 |g| 1.601e+03 CG   3\n",
      "cg reaches trust region boundary\n",
      "iter 731 act 3.980e+00 pre 3.939e+00 delta 4.265e-02 f 3.908e+04 |g| 2.843e+02 CG   2\n",
      "cg reaches trust region boundary\n",
      "iter 732 act 5.137e+00 pre 5.617e+00 delta 4.265e-02 f 3.907e+04 |g| 2.751e+02 CG   3\n",
      "cg reaches trust region boundary\n",
      "iter 733 act 9.369e+00 pre 9.429e+00 delta 5.352e-02 f 3.907e+04 |g| 5.485e+02 CG   4\n",
      "cg reaches trust region boundary\n",
      "iter 734 act 7.967e+00 pre 7.877e+00 delta 6.057e-02 f 3.906e+04 |g| 4.904e+02 CG   3\n",
      "cg reaches trust region boundary\n",
      "iter 735 act -9.891e+00 pre 1.029e+01 delta 2.029e-02 f 3.905e+04 |g| 5.688e+02 CG   4\n",
      "cg reaches trust region boundary\n",
      "iter 735 act 5.150e+00 pre 5.346e+00 delta 2.226e-02 f 3.905e+04 |g| 5.688e+02 CG   2\n",
      "cg reaches trust region boundary\n",
      "iter 736 act 4.236e+00 pre 3.647e+00 delta 5.442e-02 f 3.904e+04 |g| 4.327e+02 CG   2\n",
      "cg reaches trust region boundary\n",
      "iter 737 act 7.211e+00 pre 7.657e+00 delta 6.653e-02 f 3.904e+04 |g| 2.395e+02 CG   2\n",
      "cg reaches trust region boundary\n",
      "iter 738 act 2.900e+00 pre 1.470e+01 delta 3.326e-02 f 3.903e+04 |g| 5.383e+02 CG   3\n",
      "cg reaches trust region boundary\n",
      "iter 739 act 1.197e+01 pre 5.087e+01 delta 1.663e-02 f 3.903e+04 |g| 1.640e+03 CG   1\n",
      "cg reaches trust region boundary\n",
      "iter 740 act 3.039e+00 pre 3.859e+00 delta 3.549e-02 f 3.902e+04 |g| 2.387e+02 CG   1\n",
      "cg reaches trust region boundary\n",
      "iter 741 act 8.032e+00 pre 7.998e+00 delta 1.420e-01 f 3.902e+04 |g| 8.260e+02 CG   2\n",
      "cg reaches trust region boundary\n",
      "iter 742 act 1.130e+01 pre 1.853e+01 delta 1.149e-01 f 3.901e+04 |g| 2.802e+02 CG   2\n",
      "cg reaches trust region boundary\n",
      "iter 743 act 4.917e+00 pre 1.228e+02 delta 5.743e-02 f 3.900e+04 |g| 1.682e+03 CG   1\n",
      "cg reaches trust region boundary\n",
      "iter 744 act 7.147e+00 pre 1.463e+01 delta 4.212e-02 f 3.899e+04 |g| 4.200e+02 CG   2\n",
      "cg reaches trust region boundary\n",
      "iter 745 act 6.253e+00 pre 5.450e+01 delta 2.106e-02 f 3.898e+04 |g| 2.342e+03 CG   1\n",
      "cg reaches trust region boundary\n",
      "iter 746 act 4.930e+00 pre 4.923e+00 delta 4.962e-02 f 3.898e+04 |g| 2.972e+02 CG   1\n",
      "cg reaches trust region boundary\n",
      "iter 747 act 8.151e+00 pre 8.201e+00 delta 6.105e-02 f 3.897e+04 |g| 2.767e+02 CG   1\n",
      "cg reaches trust region boundary\n",
      "iter 748 act 6.701e+00 pre 1.614e+01 delta 4.384e-02 f 3.896e+04 |g| 4.744e+02 CG   2\n",
      "cg reaches trust region boundary\n",
      "iter 749 act 6.902e+00 pre 7.972e+01 delta 2.192e-02 f 3.896e+04 |g| 2.357e+03 CG   1\n",
      "cg reaches trust region boundary\n",
      "iter 750 act 4.762e+00 pre 4.803e+00 delta 8.768e-02 f 3.895e+04 |g| 2.336e+02 CG   1\n",
      "cg reaches trust region boundary\n",
      "iter 751 act 2.599e+00 pre 1.134e+01 delta 4.384e-02 f 3.895e+04 |g| 2.300e+02 CG   1\n",
      "iter 752 act 1.631e+01 pre 4.343e+01 delta 2.607e-02 f 3.894e+04 |g| 2.512e+03 CG   3\n",
      "cg reaches trust region boundary\n",
      "iter 753 act 4.098e+00 pre 4.024e+00 delta 3.185e-02 f 3.893e+04 |g| 2.661e+02 CG   1\n",
      "cg reaches trust region boundary\n",
      "iter 754 act 5.725e+00 pre 5.875e+00 delta 3.931e-02 f 3.892e+04 |g| 3.099e+02 CG   2\n",
      "cg reaches trust region boundary\n",
      "iter 755 act -7.469e+00 pre 7.160e+00 delta 1.188e-02 f 3.892e+04 |g| 3.358e+02 CG   3\n",
      "cg reaches trust region boundary\n",
      "iter 755 act 2.698e+00 pre 2.350e+00 delta 1.888e-02 f 3.892e+04 |g| 3.358e+02 CG   2\n",
      "cg reaches trust region boundary\n",
      "iter 756 act 3.106e+00 pre 3.591e+00 delta 4.624e-02 f 3.891e+04 |g| 2.067e+02 CG   1\n",
      "cg reaches trust region boundary\n",
      "iter 757 act 9.525e+00 pre 9.283e+00 delta 1.849e-01 f 3.891e+04 |g| 6.530e+02 CG   3\n",
      "cg reaches trust region boundary\n",
      "iter 758 act 3.066e+01 pre 3.056e+01 delta 4.387e-01 f 3.890e+04 |g| 2.847e+02 CG   3\n",
      "cg reaches trust region boundary\n",
      "iter 759 act 2.440e+01 pre 7.726e+01 delta 2.879e-01 f 3.887e+04 |g| 5.991e+02 CG   4\n",
      "cg reaches trust region boundary\n",
      "iter 760 act 1.475e+01 pre 3.304e+02 delta 1.440e-01 f 3.885e+04 |g| 1.745e+03 CG   1\n",
      "cg reaches trust region boundary\n",
      "iter 761 act 4.924e+01 pre 4.881e+01 delta 1.724e-01 f 3.883e+04 |g| 9.193e+02 CG   3\n",
      "cg reaches trust region boundary\n",
      "iter 762 act 2.080e+01 pre 2.959e+01 delta 1.330e-01 f 3.878e+04 |g| 4.159e+02 CG   3\n",
      "cg reaches trust region boundary\n",
      "iter 763 act 3.231e+01 pre 6.426e+01 delta 9.092e-02 f 3.876e+04 |g| 1.149e+03 CG   4\n",
      "cg reaches trust region boundary\n",
      "iter 764 act 1.149e+01 pre 1.465e+01 delta 9.092e-02 f 3.873e+04 |g| 2.690e+02 CG   1\n",
      "cg reaches trust region boundary\n",
      "iter 765 act 1.747e+01 pre 1.734e+01 delta 9.718e-02 f 3.872e+04 |g| 1.230e+03 CG   4\n",
      "cg reaches trust region boundary\n",
      "iter 766 act 1.566e+01 pre 1.607e+01 delta 1.097e-01 f 3.870e+04 |g| 4.961e+02 CG   4\n",
      "cg reaches trust region boundary\n",
      "iter 767 act 1.822e+01 pre 1.797e+01 delta 1.315e-01 f 3.869e+04 |g| 3.606e+02 CG   4\n",
      "cg reaches trust region boundary\n",
      "iter 768 act 1.875e+01 pre 1.950e+01 delta 1.317e-01 f 3.867e+04 |g| 4.316e+02 CG   4\n",
      "cg reaches trust region boundary\n",
      "iter 769 act 2.559e+01 pre 2.589e+01 delta 1.588e-01 f 3.865e+04 |g| 4.517e+02 CG   4\n",
      "cg reaches trust region boundary\n",
      "iter 770 act 2.327e+01 pre 2.360e+01 delta 1.722e-01 f 3.862e+04 |g| 8.865e+02 CG   5\n",
      "cg reaches trust region boundary\n",
      "iter 771 act 2.053e+01 pre 3.275e+01 delta 1.373e-01 f 3.860e+04 |g| 4.904e+02 CG   5\n",
      "cg reaches trust region boundary\n",
      "iter 772 act 7.428e+00 pre 3.079e+02 delta 6.867e-02 f 3.858e+04 |g| 2.406e+03 CG   1\n",
      "cg reaches trust region boundary\n",
      "iter 773 act 9.681e+00 pre 1.227e+01 delta 6.869e-02 f 3.857e+04 |g| 3.001e+02 CG   2\n",
      "cg reaches trust region boundary\n",
      "iter 774 act 1.930e+01 pre 1.961e+01 delta 1.052e-01 f 3.856e+04 |g| 1.271e+03 CG   3\n",
      "cg reaches trust region boundary\n",
      "iter 775 act 9.695e+00 pre 1.422e+01 delta 8.597e-02 f 3.854e+04 |g| 2.527e+02 CG   2\n",
      "cg reaches trust region boundary\n",
      "iter 776 act -3.882e+00 pre 4.736e+01 delta 4.112e-02 f 3.853e+04 |g| 1.617e+03 CG   3\n",
      "cg reaches trust region boundary\n",
      "iter 776 act 9.044e+00 pre 3.362e+01 delta 2.380e-02 f 3.853e+04 |g| 1.617e+03 CG   1\n",
      "cg reaches trust region boundary\n",
      "iter 777 act 4.605e+00 pre 4.541e+00 delta 2.718e-02 f 3.852e+04 |g| 3.441e+02 CG   1\n",
      "cg reaches trust region boundary\n",
      "iter 778 act 3.353e+00 pre 4.048e+00 delta 2.718e-02 f 3.852e+04 |g| 2.921e+02 CG   1\n",
      "cg reaches trust region boundary\n",
      "iter 779 act 5.467e+00 pre 5.476e+00 delta 3.232e-02 f 3.852e+04 |g| 7.850e+02 CG   3\n",
      "cg reaches trust region boundary\n",
      "iter 780 act 4.803e+00 pre 5.348e+00 delta 3.691e-02 f 3.851e+04 |g| 3.408e+02 CG   3\n",
      "cg reaches trust region boundary\n",
      "iter 781 act 6.303e+00 pre 6.286e+00 delta 4.683e-02 f 3.851e+04 |g| 4.916e+02 CG   4\n",
      "cg reaches trust region boundary\n",
      "iter 782 act 8.243e+00 pre 8.228e+00 delta 6.950e-02 f 3.850e+04 |g| 5.446e+02 CG   4\n",
      "cg reaches trust region boundary\n",
      "iter 783 act 1.306e+01 pre 1.298e+01 delta 1.474e-01 f 3.849e+04 |g| 3.489e+02 CG   4\n",
      "cg reaches trust region boundary\n",
      "iter 784 act 7.930e+00 pre 2.300e+01 delta 9.849e-02 f 3.848e+04 |g| 3.286e+02 CG   3\n",
      "cg reaches trust region boundary\n",
      "iter 785 act 1.256e+01 pre 2.284e+02 delta 4.924e-02 f 3.847e+04 |g| 2.572e+03 CG   1\n",
      "cg reaches trust region boundary\n",
      "iter 786 act 7.866e+00 pre 8.217e+00 delta 5.840e-02 f 3.846e+04 |g| 2.788e+02 CG   2\n",
      "cg reaches trust region boundary\n",
      "iter 787 act 1.381e+01 pre 1.405e+01 delta 1.001e-01 f 3.845e+04 |g| 6.180e+02 CG   3\n",
      "cg reaches trust region boundary\n",
      "iter 788 act 8.281e+00 pre 1.345e+01 delta 7.657e-02 f 3.844e+04 |g| 3.039e+02 CG   4\n",
      "iter 789 act 1.335e+01 pre 2.017e+01 delta 2.213e-02 f 3.843e+04 |g| 2.356e+03 CG   3\n",
      "cg reaches trust region boundary\n",
      "iter 790 act 3.318e+00 pre 3.278e+00 delta 2.801e-02 f 3.841e+04 |g| 2.500e+02 CG   2\n",
      "cg reaches trust region boundary\n",
      "iter 791 act 4.802e+00 pre 4.651e+00 delta 4.707e-02 f 3.841e+04 |g| 5.783e+02 CG   3\n",
      "cg reaches trust region boundary\n",
      "iter 792 act 7.740e+00 pre 7.981e+00 delta 7.622e-02 f 3.841e+04 |g| 3.003e+02 CG   3\n",
      "cg reaches trust region boundary\n",
      "iter 793 act 1.274e+01 pre 1.358e+01 delta 1.285e-01 f 3.840e+04 |g| 4.508e+02 CG   4\n",
      "cg reaches trust region boundary\n",
      "iter 794 act 1.942e+01 pre 2.162e+01 delta 1.837e-01 f 3.839e+04 |g| 8.818e+02 CG   5\n",
      "cg reaches trust region boundary\n",
      "iter 795 act 2.900e+01 pre 4.450e+01 delta 1.557e-01 f 3.837e+04 |g| 1.568e+03 CG   4\n",
      "cg reaches trust region boundary\n",
      "iter 796 act -2.143e+00 pre 8.211e+01 delta 7.684e-02 f 3.834e+04 |g| 1.070e+03 CG   4\n",
      "cg reaches trust region boundary\n",
      "iter 796 act 7.743e+00 pre 5.704e+01 delta 3.842e-02 f 3.834e+04 |g| 1.070e+03 CG   1\n",
      "cg reaches trust region boundary\n",
      "iter 797 act -1.777e+00 pre 7.967e+00 delta 1.648e-02 f 3.833e+04 |g| 2.793e+02 CG   1\n",
      "cg reaches trust region boundary\n",
      "iter 797 act 3.898e+00 pre 4.094e+00 delta 5.387e-02 f 3.833e+04 |g| 2.793e+02 CG   1\n",
      "cg reaches trust region boundary\n",
      "iter 798 act 3.644e+00 pre 1.056e+01 delta 3.716e-02 f 3.833e+04 |g| 3.015e+02 CG   2\n",
      "cg reaches trust region boundary\n",
      "iter 799 act 6.162e+00 pre 3.384e+01 delta 1.858e-02 f 3.832e+04 |g| 1.592e+03 CG   1\n",
      "cg reaches trust region boundary\n",
      "iter 800 act 3.960e+00 pre 3.928e+00 delta 7.433e-02 f 3.832e+04 |g| 2.241e+02 CG   1\n",
      "cg reaches trust region boundary\n",
      "iter 801 act -3.342e+01 pre 1.048e+01 delta 1.858e-02 f 3.831e+04 |g| 2.215e+02 CG   1\n",
      "cg reaches trust region boundary\n",
      "iter 801 act 1.471e+00 pre 3.741e+00 delta 1.446e-02 f 3.831e+04 |g| 2.215e+02 CG   1\n",
      "cg reaches trust region boundary\n",
      "iter 802 act 5.129e+00 pre 5.395e+00 delta 1.982e-02 f 3.831e+04 |g| 1.739e+03 CG   2\n",
      "cg reaches trust region boundary\n",
      "iter 803 act 3.726e+00 pre 3.281e+00 delta 7.929e-02 f 3.830e+04 |g| 2.180e+02 CG   2\n",
      "cg reaches trust region boundary\n",
      "iter 804 act -4.402e+01 pre 1.229e+01 delta 1.982e-02 f 3.830e+04 |g| 2.036e+02 CG   1\n",
      "cg reaches trust region boundary\n",
      "iter 804 act -4.394e-01 pre 3.795e+00 delta 8.938e-03 f 3.830e+04 |g| 2.036e+02 CG   1\n",
      "cg reaches trust region boundary\n",
      "iter 804 act 1.665e+00 pre 1.771e+00 delta 3.575e-02 f 3.830e+04 |g| 2.036e+02 CG   1\n",
      "cg reaches trust region boundary\n",
      "iter 805 act 6.525e+00 pre 6.317e+00 delta 1.430e-01 f 3.830e+04 |g| 2.118e+02 CG   2\n",
      "cg reaches trust region boundary\n",
      "iter 806 act -5.586e+01 pre 1.893e+01 delta 3.575e-02 f 3.829e+04 |g| 2.063e+02 CG   2\n",
      "cg reaches trust region boundary\n",
      "iter 806 act -1.143e+01 pre 4.597e+00 delta 8.938e-03 f 3.829e+04 |g| 2.063e+02 CG   1\n",
      "cg reaches trust region boundary\n",
      "iter 806 act 1.521e+00 pre 1.670e+00 delta 2.552e-02 f 3.829e+04 |g| 2.063e+02 CG   1\n",
      "cg reaches trust region boundary\n",
      "iter 807 act 4.811e+00 pre 4.731e+00 delta 1.021e-01 f 3.829e+04 |g| 2.924e+02 CG   2\n",
      "cg reaches trust region boundary\n",
      "iter 808 act -3.383e+00 pre 1.539e+01 delta 4.344e-02 f 3.829e+04 |g| 1.895e+02 CG   1\n",
      "cg reaches trust region boundary\n",
      "iter 808 act 3.613e+00 pre 7.514e+00 delta 3.872e-02 f 3.829e+04 |g| 1.895e+02 CG   1\n",
      "cg reaches trust region boundary\n",
      "iter 809 act -8.344e-01 pre 1.456e+01 delta 1.873e-02 f 3.828e+04 |g| 1.452e+03 CG   2\n",
      "cg reaches trust region boundary\n",
      "iter 809 act 5.962e+00 pre 1.126e+01 delta 1.323e-02 f 3.828e+04 |g| 1.452e+03 CG   2\n",
      "cg reaches trust region boundary\n",
      "iter 810 act 3.052e+00 pre 2.977e+00 delta 5.131e-02 f 3.828e+04 |g| 7.916e+02 CG   2\n",
      "cg reaches trust region boundary\n",
      "iter 811 act 3.565e+00 pre 8.870e+00 delta 4.006e-02 f 3.827e+04 |g| 2.656e+02 CG   2\n",
      "cg reaches trust region boundary\n",
      "iter 812 act 1.003e+01 pre 2.581e+01 delta 2.550e-02 f 3.827e+04 |g| 1.544e+03 CG   2\n",
      "cg reaches trust region boundary\n",
      "iter 813 act 4.531e+00 pre 4.955e+00 delta 8.957e-02 f 3.826e+04 |g| 2.072e+02 CG   1\n",
      "cg reaches trust region boundary\n",
      "iter 814 act -1.402e+01 pre 1.581e+01 delta 2.554e-02 f 3.826e+04 |g| 7.631e+02 CG   2\n",
      "cg reaches trust region boundary\n",
      "iter 814 act 5.262e+00 pre 5.270e+00 delta 1.022e-01 f 3.826e+04 |g| 7.631e+02 CG   2\n",
      "cg reaches trust region boundary\n",
      "iter 815 act 1.132e+01 pre 1.309e+01 delta 1.205e-01 f 3.825e+04 |g| 2.646e+02 CG   3\n",
      "cg reaches trust region boundary\n",
      "iter 816 act -1.119e+01 pre 4.554e+01 delta 5.280e-02 f 3.824e+04 |g| 1.042e+03 CG   4\n",
      "cg reaches trust region boundary\n",
      "iter 816 act 5.104e+00 pre 2.755e+01 delta 2.640e-02 f 3.824e+04 |g| 1.042e+03 CG   2\n",
      "cg reaches trust region boundary\n",
      "iter 817 act 2.578e+00 pre 4.708e+00 delta 1.983e-02 f 3.823e+04 |g| 2.923e+02 CG   1\n",
      "cg reaches trust region boundary\n",
      "iter 818 act 5.112e+00 pre 5.129e+00 delta 2.188e-02 f 3.823e+04 |g| 1.574e+03 CG   2\n",
      "cg reaches trust region boundary\n",
      "iter 819 act 3.476e+00 pre 3.512e+00 delta 2.986e-02 f 3.823e+04 |g| 2.997e+02 CG   2\n",
      "cg reaches trust region boundary\n",
      "iter 820 act 3.941e+00 pre 3.954e+00 delta 3.139e-02 f 3.822e+04 |g| 2.970e+02 CG   2\n",
      "cg reaches trust region boundary\n",
      "iter 821 act 4.760e+00 pre 4.971e+00 delta 3.171e-02 f 3.822e+04 |g| 3.287e+02 CG   3\n",
      "cg reaches trust region boundary\n",
      "iter 822 act 5.307e+00 pre 5.663e+00 delta 3.788e-02 f 3.821e+04 |g| 6.291e+02 CG   3\n",
      "cg reaches trust region boundary\n",
      "iter 823 act 6.411e+00 pre 6.328e+00 delta 5.248e-02 f 3.821e+04 |g| 6.791e+02 CG   4\n",
      "cg reaches trust region boundary\n",
      "iter 824 act 8.712e+00 pre 8.789e+00 delta 7.924e-02 f 3.820e+04 |g| 3.478e+02 CG   4\n",
      "cg reaches trust region boundary\n",
      "iter 825 act 1.331e+01 pre 1.377e+01 delta 1.409e-01 f 3.819e+04 |g| 4.509e+02 CG   4\n",
      "cg reaches trust region boundary\n",
      "iter 826 act 7.967e+00 pre 2.548e+01 delta 9.415e-02 f 3.818e+04 |g| 1.305e+03 CG   4\n",
      "cg reaches trust region boundary\n",
      "iter 827 act 1.446e+01 pre 7.024e+01 delta 4.708e-02 f 3.817e+04 |g| 1.104e+03 CG   2\n",
      "cg reaches trust region boundary\n",
      "iter 828 act 6.598e+00 pre 1.138e+01 delta 4.865e-02 f 3.816e+04 |g| 2.715e+02 CG   1\n",
      "cg reaches trust region boundary\n",
      "iter 829 act 1.286e+01 pre 1.315e+01 delta 7.290e-02 f 3.815e+04 |g| 2.013e+03 CG   3\n",
      "cg reaches trust region boundary\n",
      "iter 830 act 1.139e+01 pre 1.154e+01 delta 1.176e-01 f 3.814e+04 |g| 2.975e+02 CG   4\n",
      "cg reaches trust region boundary\n",
      "iter 831 act 8.457e+00 pre 1.803e+01 delta 8.538e-02 f 3.813e+04 |g| 5.562e+02 CG   4\n",
      "cg reaches trust region boundary\n",
      "iter 832 act 8.990e+00 pre 1.943e+02 delta 4.269e-02 f 3.812e+04 |g| 2.382e+03 CG   1\n",
      "cg reaches trust region boundary\n",
      "iter 833 act 1.623e+00 pre 8.419e+00 delta 2.135e-02 f 3.811e+04 |g| 2.251e+02 CG   1\n",
      "cg reaches trust region boundary\n",
      "iter 834 act 6.675e+00 pre 2.432e+01 delta 1.330e-02 f 3.811e+04 |g| 1.582e+03 CG   1\n",
      "cg reaches trust region boundary\n",
      "iter 835 act 2.877e+00 pre 2.863e+00 delta 5.321e-02 f 3.810e+04 |g| 2.255e+02 CG   1\n",
      "cg reaches trust region boundary\n",
      "iter 836 act 1.716e+00 pre 1.074e+01 delta 2.660e-02 f 3.810e+04 |g| 2.176e+02 CG   1\n",
      "cg reaches trust region boundary\n",
      "iter 837 act 8.302e+00 pre 3.640e+01 delta 1.330e-02 f 3.810e+04 |g| 1.612e+03 CG   1\n",
      "cg reaches trust region boundary\n",
      "iter 838 act 2.857e+00 pre 2.856e+00 delta 5.321e-02 f 3.809e+04 |g| 2.195e+02 CG   1\n",
      "cg reaches trust region boundary\n",
      "iter 839 act 3.884e+00 pre 1.073e+01 delta 4.046e-02 f 3.809e+04 |g| 2.132e+02 CG   1\n",
      "cg reaches trust region boundary\n",
      "iter 840 act 8.816e+00 pre 2.911e+01 delta 2.411e-02 f 3.808e+04 |g| 1.565e+03 CG   3\n",
      "cg reaches trust region boundary\n",
      "iter 841 act 4.546e+00 pre 3.845e+00 delta 9.132e-02 f 3.807e+04 |g| 2.209e+02 CG   2\n",
      "cg reaches trust region boundary\n",
      "iter 842 act -8.049e+01 pre 1.237e+01 delta 2.283e-02 f 3.807e+04 |g| 2.163e+02 CG   1\n",
      "cg reaches trust region boundary\n",
      "iter 842 act -3.727e-01 pre 4.477e+00 delta 1.061e-02 f 3.807e+04 |g| 2.163e+02 CG   1\n",
      "cg reaches trust region boundary\n",
      "iter 842 act 2.088e+00 pre 2.196e+00 delta 4.246e-02 f 3.807e+04 |g| 2.163e+02 CG   1\n",
      "cg reaches trust region boundary\n",
      "iter 843 act 4.694e+00 pre 7.441e+00 delta 4.756e-02 f 3.807e+04 |g| 2.116e+02 CG   2\n",
      "cg reaches trust region boundary\n",
      "iter 844 act -1.592e+01 pre 9.843e+00 delta 1.216e-02 f 3.806e+04 |g| 1.271e+03 CG   2\n",
      "cg reaches trust region boundary\n",
      "iter 844 act 4.513e+00 pre 5.519e+00 delta 1.216e-02 f 3.806e+04 |g| 1.271e+03 CG   2\n",
      "cg reaches trust region boundary\n",
      "iter 845 act 2.348e+00 pre 2.293e+00 delta 4.864e-02 f 3.806e+04 |g| 3.658e+02 CG   2\n",
      "cg reaches trust region boundary\n",
      "iter 846 act 8.440e+00 pre 7.282e+00 delta 1.946e-01 f 3.805e+04 |g| 1.871e+02 CG   2\n",
      "cg reaches trust region boundary\n",
      "iter 847 act -1.266e+02 pre 3.140e+01 delta 4.864e-02 f 3.805e+04 |g| 2.009e+02 CG   2\n",
      "cg reaches trust region boundary\n",
      "iter 847 act -1.800e+01 pre 5.270e+00 delta 1.216e-02 f 3.805e+04 |g| 2.009e+02 CG   2\n",
      "cg reaches trust region boundary\n",
      "iter 847 act 2.180e+00 pre 2.111e+00 delta 4.864e-02 f 3.805e+04 |g| 2.009e+02 CG   1\n",
      "cg reaches trust region boundary\n",
      "iter 848 act -1.457e+00 pre 7.381e+00 delta 2.096e-02 f 3.804e+04 |g| 1.869e+02 CG   1\n",
      "cg reaches trust region boundary\n",
      "iter 848 act 3.049e+00 pre 3.600e+00 delta 4.727e-02 f 3.804e+04 |g| 1.869e+02 CG   1\n",
      "cg reaches trust region boundary\n",
      "iter 849 act -1.558e+01 pre 7.547e+00 delta 1.182e-02 f 3.804e+04 |g| 5.326e+02 CG   2\n",
      "cg reaches trust region boundary\n",
      "iter 849 act 2.077e+00 pre 2.518e+00 delta 1.726e-02 f 3.804e+04 |g| 5.326e+02 CG   2\n",
      "cg reaches trust region boundary\n",
      "iter 850 act 3.384e+00 pre 2.825e+00 delta 4.896e-02 f 3.804e+04 |g| 6.883e+02 CG   3\n",
      "cg reaches trust region boundary\n",
      "iter 851 act -1.519e+00 pre 8.470e+00 delta 2.107e-02 f 3.804e+04 |g| 2.665e+02 CG   2\n",
      "cg reaches trust region boundary\n",
      "iter 851 act 3.314e+00 pre 3.815e+00 delta 5.136e-02 f 3.804e+04 |g| 2.665e+02 CG   2\n",
      "cg reaches trust region boundary\n",
      "iter 852 act 8.891e+00 pre 9.265e+00 delta 2.054e-01 f 3.803e+04 |g| 4.797e+02 CG   2\n",
      "cg reaches trust region boundary\n",
      "iter 853 act 3.208e+01 pre 2.948e+01 delta 5.859e-01 f 3.802e+04 |g| 8.416e+02 CG   4\n",
      "cg reaches trust region boundary\n",
      "iter 854 act -8.042e+01 pre 7.146e+01 delta 1.757e-01 f 3.799e+04 |g| 7.808e+02 CG   4\n",
      "cg reaches trust region boundary\n",
      "iter 854 act -6.866e+00 pre 3.191e+01 delta 7.590e-02 f 3.799e+04 |g| 7.808e+02 CG   4\n",
      "cg reaches trust region boundary\n",
      "iter 854 act 6.467e+00 pre 1.512e+01 delta 5.156e-02 f 3.799e+04 |g| 7.808e+02 CG   4\n",
      "cg reaches trust region boundary\n",
      "iter 855 act 9.552e+00 pre 4.422e+01 delta 2.578e-02 f 3.799e+04 |g| 2.260e+03 CG   2\n",
      "cg reaches trust region boundary\n",
      "iter 856 act -8.344e-01 pre 3.998e+00 delta 1.148e-02 f 3.798e+04 |g| 2.628e+02 CG   1\n",
      "cg reaches trust region boundary\n",
      "iter 856 act 2.288e+00 pre 2.465e+00 delta 2.379e-02 f 3.798e+04 |g| 2.628e+02 CG   1\n",
      "cg reaches trust region boundary\n",
      "iter 857 act 4.677e+00 pre 4.407e+00 delta 9.516e-02 f 3.797e+04 |g| 3.070e+02 CG   2\n",
      "cg reaches trust region boundary\n",
      "iter 858 act -2.616e+01 pre 1.230e+01 delta 2.379e-02 f 3.797e+04 |g| 2.031e+02 CG   1\n",
      "cg reaches trust region boundary\n",
      "iter 858 act 3.478e+00 pre 4.392e+00 delta 4.245e-02 f 3.797e+04 |g| 2.031e+02 CG   1\n",
      "cg reaches trust region boundary\n",
      "iter 859 act -4.945e+00 pre 6.045e+00 delta 1.409e-02 f 3.797e+04 |g| 6.707e+02 CG   2\n",
      "cg reaches trust region boundary\n",
      "iter 859 act 2.757e+00 pre 3.073e+00 delta 2.133e-02 f 3.797e+04 |g| 6.707e+02 CG   2\n",
      "cg reaches trust region boundary\n",
      "iter 860 act 4.203e+00 pre 3.847e+00 delta 6.630e-02 f 3.796e+04 |g| 6.767e+02 CG   3\n",
      "cg reaches trust region boundary\n",
      "iter 861 act -2.848e+00 pre 8.486e+00 delta 2.711e-02 f 3.796e+04 |g| 2.669e+02 CG   2\n",
      "cg reaches trust region boundary\n",
      "iter 861 act 3.694e+00 pre 4.482e+00 delta 4.352e-02 f 3.796e+04 |g| 2.669e+02 CG   2\n",
      "cg reaches trust region boundary\n",
      "iter 862 act 5.822e+00 pre 5.663e+00 delta 5.110e-02 f 3.795e+04 |g| 6.764e+02 CG   3\n",
      "cg reaches trust region boundary\n",
      "iter 863 act 6.307e+00 pre 9.182e+00 delta 4.509e-02 f 3.795e+04 |g| 4.071e+02 CG   3\n",
      "cg reaches trust region boundary\n",
      "iter 864 act 9.048e+00 pre 1.188e+01 delta 4.509e-02 f 3.794e+04 |g| 2.082e+03 CG   4\n",
      "cg reaches trust region boundary\n",
      "iter 865 act -4.273e+00 pre 8.737e+00 delta 1.727e-02 f 3.793e+04 |g| 3.964e+02 CG   3\n",
      "cg reaches trust region boundary\n",
      "iter 865 act 3.653e+00 pre 3.436e+00 delta 1.851e-02 f 3.793e+04 |g| 3.964e+02 CG   1\n",
      "cg reaches trust region boundary\n",
      "iter 866 act 3.132e+00 pre 3.036e+00 delta 7.046e-02 f 3.793e+04 |g| 2.136e+02 CG   2\n",
      "cg reaches trust region boundary\n",
      "iter 867 act -1.623e+01 pre 7.512e+00 delta 1.762e-02 f 3.793e+04 |g| 2.076e+02 CG   2\n",
      "cg reaches trust region boundary\n",
      "iter 867 act 1.045e+00 pre 2.257e+00 delta 1.238e-02 f 3.793e+04 |g| 2.076e+02 CG   2\n",
      "cg reaches trust region boundary\n",
      "iter 868 act 3.723e+00 pre 3.753e+00 delta 1.837e-02 f 3.793e+04 |g| 1.502e+03 CG   2\n",
      "cg reaches trust region boundary\n",
      "iter 869 act 3.149e+00 pre 2.987e+00 delta 7.347e-02 f 3.792e+04 |g| 2.650e+02 CG   2\n",
      "cg reaches trust region boundary\n",
      "iter 870 act -1.189e+01 pre 7.764e+00 delta 1.992e-02 f 3.792e+04 |g| 1.920e+02 CG   2\n",
      "cg reaches trust region boundary\n",
      "iter 870 act 2.634e+00 pre 3.246e+00 delta 3.202e-02 f 3.792e+04 |g| 1.920e+02 CG   1\n",
      "cg reaches trust region boundary\n",
      "iter 871 act 4.242e+00 pre 3.764e+00 delta 3.843e-02 f 3.792e+04 |g| 5.293e+02 CG   2\n",
      "cg reaches trust region boundary\n",
      "iter 872 act 6.323e+00 pre 6.917e+00 delta 4.715e-02 f 3.791e+04 |g| 3.648e+02 CG   4\n",
      "cg reaches trust region boundary\n",
      "iter 873 act 7.458e+00 pre 7.395e+00 delta 6.914e-02 f 3.791e+04 |g| 4.150e+02 CG   3\n",
      "cg reaches trust region boundary\n",
      "iter 874 act 1.200e+01 pre 1.195e+01 delta 1.305e-01 f 3.790e+04 |g| 3.470e+02 CG   4\n",
      "cg reaches trust region boundary\n",
      "iter 875 act -5.265e+00 pre 1.865e+01 delta 5.461e-02 f 3.789e+04 |g| 3.365e+02 CG   3\n",
      "cg reaches trust region boundary\n",
      "iter 875 act 3.625e+00 pre 8.994e+00 delta 3.775e-02 f 3.789e+04 |g| 3.365e+02 CG   3\n",
      "cg reaches trust region boundary\n",
      "iter 876 act 4.076e+00 pre 2.159e+01 delta 1.888e-02 f 3.788e+04 |g| 1.531e+03 CG   3\n",
      "cg reaches trust region boundary\n",
      "iter 877 act 7.249e+00 pre 1.657e+01 delta 1.225e-02 f 3.788e+04 |g| 2.232e+03 CG   2\n",
      "cg reaches trust region boundary\n",
      "iter 878 act 2.462e+00 pre 2.467e+00 delta 4.900e-02 f 3.787e+04 |g| 2.111e+02 CG   1\n",
      "cg reaches trust region boundary\n",
      "iter 879 act -2.756e+01 pre 8.763e+00 delta 1.225e-02 f 3.787e+04 |g| 2.026e+02 CG   1\n",
      "cg reaches trust region boundary\n",
      "iter 879 act 2.182e+00 pre 2.409e+00 delta 4.900e-02 f 3.787e+04 |g| 2.026e+02 CG   1\n",
      "cg reaches trust region boundary\n",
      "iter 880 act -1.465e+00 pre 8.063e+00 delta 2.112e-02 f 3.787e+04 |g| 2.820e+02 CG   2\n",
      "cg reaches trust region boundary\n",
      "iter 880 act 3.166e+00 pre 3.721e+00 delta 4.660e-02 f 3.787e+04 |g| 2.820e+02 CG   2\n",
      "cg reaches trust region boundary\n",
      "iter 881 act 8.189e+00 pre 7.871e+00 delta 1.864e-01 f 3.786e+04 |g| 5.216e+02 CG   2\n",
      "cg reaches trust region boundary\n",
      "iter 882 act -3.200e+00 pre 2.817e+01 delta 8.550e-02 f 3.785e+04 |g| 2.444e+02 CG   3\n",
      "cg reaches trust region boundary\n",
      "iter 882 act 1.402e+00 pre 1.293e+01 delta 4.275e-02 f 3.785e+04 |g| 2.444e+02 CG   3\n",
      "cg reaches trust region boundary\n",
      "iter 883 act 1.286e+01 pre 4.217e+01 delta 2.870e-02 f 3.785e+04 |g| 1.585e+03 CG   2\n",
      "cg reaches trust region boundary\n",
      "iter 884 act 3.043e+00 pre 4.190e+00 delta 2.789e-02 f 3.784e+04 |g| 2.184e+02 CG   1\n",
      "cg reaches trust region boundary\n",
      "iter 885 act -3.096e-01 pre 5.085e+00 delta 1.351e-02 f 3.784e+04 |g| 9.242e+02 CG   3\n",
      "cg reaches trust region boundary\n",
      "iter 885 act 3.661e+00 pre 3.741e+00 delta 1.773e-02 f 3.784e+04 |g| 9.242e+02 CG   2\n",
      "cg reaches trust region boundary\n",
      "iter 886 act 3.190e+00 pre 2.647e+00 delta 5.237e-02 f 3.783e+04 |g| 3.177e+02 CG   3\n",
      "cg reaches trust region boundary\n",
      "iter 887 act -3.094e+00 pre 8.212e+00 delta 2.000e-02 f 3.783e+04 |g| 2.333e+02 CG   2\n",
      "cg reaches trust region boundary\n",
      "iter 887 act 3.126e+00 pre 3.449e+00 delta 4.788e-02 f 3.783e+04 |g| 2.333e+02 CG   2\n",
      "cg reaches trust region boundary\n",
      "iter 888 act -3.591e+00 pre 6.629e+00 delta 1.723e-02 f 3.783e+04 |g| 3.875e+02 CG   2\n",
      "cg reaches trust region boundary\n",
      "iter 888 act 2.502e+00 pre 3.042e+00 delta 2.674e-02 f 3.783e+04 |g| 3.875e+02 CG   2\n",
      "cg reaches trust region boundary\n",
      "iter 889 act 4.796e+00 pre 3.785e+00 delta 6.287e-02 f 3.783e+04 |g| 8.927e+02 CG   3\n",
      "cg reaches trust region boundary\n",
      "iter 890 act -1.032e+01 pre 8.210e+00 delta 1.749e-02 f 3.782e+04 |g| 3.079e+02 CG   3\n",
      "cg reaches trust region boundary\n",
      "iter 890 act 2.871e+00 pre 2.954e+00 delta 3.478e-02 f 3.782e+04 |g| 3.079e+02 CG   2\n",
      "cg reaches trust region boundary\n",
      "iter 891 act 4.664e+00 pre 4.555e+00 delta 5.223e-02 f 3.782e+04 |g| 2.143e+02 CG   2\n",
      "cg reaches trust region boundary\n",
      "iter 892 act 7.924e+00 pre 8.976e+00 delta 7.147e-02 f 3.781e+04 |g| 2.985e+02 CG   3\n",
      "cg reaches trust region boundary\n",
      "iter 893 act 3.644e+00 pre 1.204e+01 delta 4.563e-02 f 3.780e+04 |g| 6.929e+02 CG   4\n",
      "cg reaches trust region boundary\n",
      "iter 894 act 7.405e+00 pre 5.594e+01 delta 2.282e-02 f 3.780e+04 |g| 1.611e+03 CG   1\n",
      "cg reaches trust region boundary\n",
      "iter 895 act 1.467e+00 pre 3.868e+00 delta 1.502e-02 f 3.779e+04 |g| 2.674e+02 CG   1\n",
      "cg reaches trust region boundary\n",
      "iter 896 act 4.865e+00 pre 4.969e+00 delta 1.713e-02 f 3.779e+04 |g| 1.712e+03 CG   2\n",
      "cg reaches trust region boundary\n",
      "iter 897 act 3.127e+00 pre 2.962e+00 delta 5.093e-02 f 3.779e+04 |g| 2.346e+02 CG   2\n",
      "cg reaches trust region boundary\n",
      "iter 898 act -1.549e+01 pre 6.210e+00 delta 1.273e-02 f 3.778e+04 |g| 2.096e+02 CG   2\n",
      "cg reaches trust region boundary\n",
      "iter 898 act 1.727e+00 pre 2.262e+00 delta 1.806e-02 f 3.778e+04 |g| 2.096e+02 CG   1\n",
      "cg reaches trust region boundary\n",
      "iter 899 act 3.627e+00 pre 3.599e+00 delta 6.299e-02 f 3.778e+04 |g| 7.266e+02 CG   2\n",
      "cg reaches trust region boundary\n",
      "iter 900 act 5.785e+00 pre 7.081e+00 delta 6.299e-02 f 3.778e+04 |g| 2.570e+02 CG   3\n",
      "cg reaches trust region boundary\n",
      "iter 901 act 8.509e+00 pre 1.525e+01 delta 4.921e-02 f 3.777e+04 |g| 1.312e+03 CG   4\n",
      "cg reaches trust region boundary\n",
      "iter 902 act 1.174e+01 pre 2.143e+01 delta 3.585e-02 f 3.776e+04 |g| 1.432e+03 CG   3\n",
      "cg reaches trust region boundary\n",
      "iter 903 act 5.879e+00 pre 5.425e+00 delta 7.771e-02 f 3.775e+04 |g| 3.323e+02 CG   3\n",
      "cg reaches trust region boundary\n",
      "iter 904 act -7.835e+00 pre 1.285e+01 delta 2.636e-02 f 3.775e+04 |g| 2.682e+02 CG   3\n",
      "cg reaches trust region boundary\n",
      "iter 904 act 2.528e+00 pre 3.503e+00 delta 2.137e-02 f 3.775e+04 |g| 2.682e+02 CG   3\n",
      "cg reaches trust region boundary\n",
      "iter 905 act 3.832e+00 pre 3.751e+00 delta 2.320e-02 f 3.774e+04 |g| 7.197e+02 CG   3\n",
      "cg reaches trust region boundary\n",
      "iter 906 act 2.955e+00 pre 2.964e+00 delta 2.481e-02 f 3.774e+04 |g| 2.814e+02 CG   2\n",
      "cg reaches trust region boundary\n",
      "iter 907 act 3.675e+00 pre 3.666e+00 delta 2.948e-02 f 3.774e+04 |g| 2.755e+02 CG   2\n",
      "cg reaches trust region boundary\n",
      "iter 908 act 3.933e+00 pre 3.920e+00 delta 3.406e-02 f 3.773e+04 |g| 2.657e+02 CG   3\n",
      "cg reaches trust region boundary\n",
      "iter 909 act 5.183e+00 pre 5.225e+00 delta 4.225e-02 f 3.773e+04 |g| 2.915e+02 CG   3\n",
      "cg reaches trust region boundary\n",
      "iter 910 act 7.024e+00 pre 6.975e+00 delta 7.227e-02 f 3.773e+04 |g| 3.401e+02 CG   3\n",
      "cg reaches trust region boundary\n",
      "iter 911 act 9.693e+00 pre 1.047e+01 delta 1.004e-01 f 3.772e+04 |g| 2.649e+02 CG   4\n",
      "cg reaches trust region boundary\n",
      "iter 912 act 1.871e+01 pre 1.825e+01 delta 2.386e-01 f 3.771e+04 |g| 7.979e+02 CG   4\n",
      "cg reaches trust region boundary\n",
      "iter 913 act -1.636e+02 pre 3.939e+01 delta 5.965e-02 f 3.769e+04 |g| 3.196e+02 CG   4\n",
      "cg reaches trust region boundary\n",
      "iter 913 act -2.482e+01 pre 6.971e+00 delta 1.491e-02 f 3.769e+04 |g| 3.196e+02 CG   3\n",
      "cg reaches trust region boundary\n",
      "iter 913 act 2.788e+00 pre 2.577e+00 delta 2.184e-02 f 3.769e+04 |g| 3.196e+02 CG   2\n",
      "cg reaches trust region boundary\n",
      "iter 914 act -2.292e+00 pre 3.002e+00 delta 7.067e-03 f 3.769e+04 |g| 1.925e+02 CG   1\n",
      "cg reaches trust region boundary\n",
      "iter 914 act 1.157e+00 pre 1.234e+00 delta 2.365e-02 f 3.769e+04 |g| 1.925e+02 CG   1\n",
      "cg reaches trust region boundary\n",
      "iter 915 act 4.016e+00 pre 3.946e+00 delta 9.460e-02 f 3.769e+04 |g| 2.196e+02 CG   2\n",
      "cg reaches trust region boundary\n",
      "iter 916 act -2.723e+00 pre 1.161e+01 delta 4.070e-02 f 3.768e+04 |g| 1.963e+02 CG   2\n",
      "cg reaches trust region boundary\n",
      "iter 916 act 2.379e+00 pre 5.909e+00 delta 2.995e-02 f 3.768e+04 |g| 1.963e+02 CG   2\n",
      "iter 917 act 4.234e+00 pre 9.558e+00 delta 7.488e-03 f 3.768e+04 |g| 2.158e+03 CG   1\n",
      "cg reaches trust region boundary\n",
      "iter 918 act 1.418e+00 pre 1.436e+00 delta 2.995e-02 f 3.768e+04 |g| 2.010e+02 CG   1\n",
      "cg reaches trust region boundary\n",
      "iter 919 act -8.237e+00 pre 4.568e+00 delta 7.488e-03 f 3.767e+04 |g| 1.841e+02 CG   1\n",
      "cg reaches trust region boundary\n",
      "iter 919 act 1.203e+00 pre 1.319e+00 delta 2.947e-02 f 3.767e+04 |g| 1.841e+02 CG   1\n",
      "cg reaches trust region boundary\n",
      "iter 920 act 5.051e+00 pre 4.997e+00 delta 1.179e-01 f 3.767e+04 |g| 2.397e+02 CG   2\n",
      "cg reaches trust region boundary\n",
      "iter 921 act 1.913e+01 pre 1.662e+01 delta 4.716e-01 f 3.767e+04 |g| 1.828e+02 CG   2\n",
      "cg reaches trust region boundary\n",
      "iter 922 act -8.756e+01 pre 5.357e+01 delta 1.179e-01 f 3.765e+04 |g| 4.803e+02 CG   3\n",
      "cg reaches trust region boundary\n",
      "iter 922 act -1.756e+01 pre 1.219e+01 delta 3.327e-02 f 3.765e+04 |g| 4.803e+02 CG   2\n",
      "cg reaches trust region boundary\n",
      "iter 922 act 5.535e+00 pre 5.663e+00 delta 9.349e-02 f 3.765e+04 |g| 4.803e+02 CG   2\n",
      "cg reaches trust region boundary\n",
      "iter 923 act 1.375e+01 pre 1.350e+01 delta 1.995e-01 f 3.764e+04 |g| 3.082e+02 CG   4\n",
      "cg reaches trust region boundary\n",
      "iter 924 act -3.541e+01 pre 2.681e+01 delta 5.313e-02 f 3.763e+04 |g| 4.211e+02 CG   3\n",
      "cg reaches trust region boundary\n",
      "iter 924 act 1.406e+00 pre 1.026e+01 delta 2.657e-02 f 3.763e+04 |g| 4.211e+02 CG   3\n",
      "cg reaches trust region boundary\n",
      "iter 925 act 7.972e+00 pre 5.237e+01 delta 1.328e-02 f 3.763e+04 |g| 2.367e+03 CG   1\n",
      "cg reaches trust region boundary\n",
      "iter 926 act 2.360e+00 pre 2.342e+00 delta 4.381e-02 f 3.762e+04 |g| 2.095e+02 CG   1\n",
      "cg reaches trust region boundary\n",
      "iter 927 act 5.235e+00 pre 7.078e+00 delta 5.782e-02 f 3.762e+04 |g| 1.924e+02 CG   1\n",
      "cg reaches trust region boundary\n",
      "iter 928 act 7.704e+00 pre 8.163e+00 delta 5.924e-02 f 3.761e+04 |g| 1.349e+03 CG   4\n",
      "cg reaches trust region boundary\n",
      "iter 929 act 9.584e+00 pre 1.116e+01 delta 5.981e-02 f 3.760e+04 |g| 8.486e+02 CG   4\n",
      "cg reaches trust region boundary\n",
      "iter 930 act 9.787e+00 pre 1.267e+01 delta 5.981e-02 f 3.759e+04 |g| 1.337e+03 CG   4\n",
      "cg reaches trust region boundary\n",
      "iter 931 act 1.080e+01 pre 1.313e+01 delta 6.803e-02 f 3.758e+04 |g| 1.835e+03 CG   3\n",
      "cg reaches trust region boundary\n",
      "iter 932 act 1.191e+01 pre 1.171e+01 delta 1.179e-01 f 3.757e+04 |g| 9.931e+02 CG   4\n",
      "cg reaches trust region boundary\n",
      "iter 933 act 1.970e+01 pre 1.973e+01 delta 2.987e-01 f 3.756e+04 |g| 3.712e+02 CG   4\n",
      "cg reaches trust region boundary\n",
      "iter 934 act -1.220e+02 pre 3.176e+01 delta 7.467e-02 f 3.754e+04 |g| 3.905e+02 CG   4\n",
      "cg reaches trust region boundary\n",
      "iter 934 act -2.395e+01 pre 1.210e+01 delta 1.867e-02 f 3.754e+04 |g| 3.905e+02 CG   3\n",
      "cg reaches trust region boundary\n",
      "iter 934 act 2.251e+00 pre 3.307e+00 delta 1.522e-02 f 3.754e+04 |g| 3.905e+02 CG   2\n",
      "cg reaches trust region boundary\n",
      "iter 935 act 3.007e+00 pre 2.652e+00 delta 2.088e-02 f 3.754e+04 |g| 1.116e+03 CG   2\n",
      "cg reaches trust region boundary\n",
      "iter 936 act 2.924e+00 pre 3.051e+00 delta 3.275e-02 f 3.754e+04 |g| 3.141e+02 CG   2\n",
      "cg reaches trust region boundary\n",
      "iter 937 act 3.838e+00 pre 4.008e+00 delta 3.590e-02 f 3.753e+04 |g| 2.512e+02 CG   3\n",
      "cg reaches trust region boundary\n",
      "iter 938 act 6.181e+00 pre 6.103e+00 delta 5.051e-02 f 3.753e+04 |g| 6.669e+02 CG   4\n",
      "cg reaches trust region boundary\n",
      "iter 939 act 7.416e+00 pre 7.455e+00 delta 7.998e-02 f 3.752e+04 |g| 3.176e+02 CG   4\n",
      "cg reaches trust region boundary\n",
      "iter 940 act 9.440e+00 pre 9.359e+00 delta 8.950e-02 f 3.752e+04 |g| 3.111e+02 CG   3\n",
      "cg reaches trust region boundary\n",
      "iter 941 act -4.511e+01 pre 1.979e+01 delta 2.238e-02 f 3.751e+04 |g| 9.716e+02 CG   4\n",
      "cg reaches trust region boundary\n",
      "iter 941 act 6.706e+00 pre 8.231e+00 delta 2.238e-02 f 3.751e+04 |g| 9.716e+02 CG   3\n",
      "cg reaches trust region boundary\n",
      "iter 942 act 3.259e+00 pre 3.143e+00 delta 3.574e-02 f 3.750e+04 |g| 3.529e+02 CG   3\n",
      "cg reaches trust region boundary\n",
      "iter 943 act 3.989e+00 pre 4.708e+00 delta 3.775e-02 f 3.750e+04 |g| 2.615e+02 CG   3\n",
      "cg reaches trust region boundary\n",
      "iter 944 act 6.875e+00 pre 6.750e+00 delta 5.541e-02 f 3.749e+04 |g| 6.678e+02 CG   4\n",
      "cg reaches trust region boundary\n",
      "iter 945 act 7.876e+00 pre 8.118e+00 delta 8.737e-02 f 3.749e+04 |g| 3.382e+02 CG   4\n",
      "cg reaches trust region boundary\n",
      "iter 946 act 1.486e+01 pre 1.448e+01 delta 2.104e-01 f 3.748e+04 |g| 3.642e+02 CG   4\n",
      "cg reaches trust region boundary\n",
      "iter 947 act -1.241e+02 pre 2.134e+01 delta 5.259e-02 f 3.746e+04 |g| 3.003e+02 CG   4\n",
      "cg reaches trust region boundary\n",
      "iter 947 act -1.891e+01 pre 7.837e+00 delta 1.315e-02 f 3.746e+04 |g| 3.003e+02 CG   3\n",
      "cg reaches trust region boundary\n",
      "iter 947 act 2.342e+00 pre 2.346e+00 delta 1.760e-02 f 3.746e+04 |g| 3.003e+02 CG   2\n",
      "cg reaches trust region boundary\n",
      "iter 948 act 2.863e+00 pre 2.854e+00 delta 7.039e-02 f 3.746e+04 |g| 2.572e+02 CG   2\n",
      "cg reaches trust region boundary\n",
      "iter 949 act 9.581e+00 pre 8.199e+00 delta 1.586e-01 f 3.746e+04 |g| 2.034e+02 CG   2\n",
      "cg reaches trust region boundary\n",
      "iter 950 act -1.302e+01 pre 2.194e+01 delta 5.649e-02 f 3.745e+04 |g| 3.290e+02 CG   3\n",
      "cg reaches trust region boundary\n",
      "iter 950 act 5.088e+00 pre 8.546e+00 delta 4.442e-02 f 3.745e+04 |g| 3.290e+02 CG   2\n",
      "cg reaches trust region boundary\n",
      "iter 951 act -4.248e+00 pre 1.613e+01 delta 1.931e-02 f 3.744e+04 |g| 9.772e+02 CG   3\n",
      "cg reaches trust region boundary\n",
      "iter 951 act 5.021e+00 pre 1.065e+01 delta 1.315e-02 f 3.744e+04 |g| 9.772e+02 CG   1\n",
      "cg reaches trust region boundary\n",
      "iter 952 act 2.426e+00 pre 2.470e+00 delta 5.261e-02 f 3.744e+04 |g| 1.926e+02 CG   1\n",
      "cg reaches trust region boundary\n",
      "iter 953 act -3.472e+00 pre 5.578e+00 delta 1.919e-02 f 3.744e+04 |g| 1.781e+02 CG   2\n",
      "cg reaches trust region boundary\n",
      "iter 953 act 2.255e+00 pre 2.640e+00 delta 2.822e-02 f 3.744e+04 |g| 1.781e+02 CG   1\n",
      "cg reaches trust region boundary\n",
      "iter 954 act 2.331e+00 pre 4.931e+00 delta 2.291e-02 f 3.743e+04 |g| 8.863e+02 CG   2\n",
      "cg reaches trust region boundary\n",
      "iter 955 act 5.913e+00 pre 6.672e+00 delta 2.538e-02 f 3.743e+04 |g| 1.264e+03 CG   3\n",
      "cg reaches trust region boundary\n",
      "iter 956 act 3.987e+00 pre 3.742e+00 delta 5.177e-02 f 3.743e+04 |g| 3.996e+02 CG   3\n",
      "cg reaches trust region boundary\n",
      "iter 957 act 6.727e+00 pre 7.277e+00 delta 7.683e-02 f 3.742e+04 |g| 2.329e+02 CG   3\n",
      "cg reaches trust region boundary\n",
      "iter 958 act 1.283e+01 pre 1.333e+01 delta 1.566e-01 f 3.742e+04 |g| 4.822e+02 CG   3\n",
      "cg reaches trust region boundary\n",
      "iter 959 act 2.076e+01 pre 2.499e+01 delta 2.670e-01 f 3.740e+04 |g| 6.295e+02 CG   4\n",
      "cg reaches trust region boundary\n",
      "iter 960 act 4.761e+01 pre 5.365e+01 delta 4.314e-01 f 3.738e+04 |g| 2.202e+03 CG   5\n",
      "cg reaches trust region boundary\n",
      "iter 961 act -3.358e+02 pre 4.177e+01 delta 1.079e-01 f 3.733e+04 |g| 3.843e+02 CG   5\n",
      "cg reaches trust region boundary\n",
      "iter 961 act -6.317e+01 pre 1.603e+01 delta 2.697e-02 f 3.733e+04 |g| 3.843e+02 CG   3\n",
      "cg reaches trust region boundary\n",
      "iter 961 act 1.961e+00 pre 4.308e+00 delta 1.782e-02 f 3.733e+04 |g| 3.843e+02 CG   3\n",
      "cg reaches trust region boundary\n",
      "iter 962 act 4.866e+00 pre 4.951e+00 delta 1.914e-02 f 3.733e+04 |g| 1.702e+03 CG   3\n",
      "cg reaches trust region boundary\n",
      "iter 963 act 2.517e+00 pre 2.569e+00 delta 2.870e-02 f 3.733e+04 |g| 2.257e+02 CG   2\n",
      "cg reaches trust region boundary\n",
      "iter 964 act 3.723e+00 pre 3.542e+00 delta 3.740e-02 f 3.732e+04 |g| 2.559e+02 CG   3\n",
      "cg reaches trust region boundary\n",
      "iter 965 act 5.202e+00 pre 5.322e+00 delta 4.724e-02 f 3.732e+04 |g| 2.809e+02 CG   3\n",
      "cg reaches trust region boundary\n",
      "iter 966 act -1.021e+01 pre 7.006e+00 delta 1.225e-02 f 3.732e+04 |g| 4.103e+02 CG   4\n",
      "cg reaches trust region boundary\n",
      "iter 966 act 2.246e+00 pre 1.960e+00 delta 1.442e-02 f 3.732e+04 |g| 4.103e+02 CG   3\n",
      "cg reaches trust region boundary\n",
      "iter 967 act 2.410e+00 pre 2.088e+00 delta 4.114e-02 f 3.731e+04 |g| 3.299e+02 CG   3\n",
      "cg reaches trust region boundary\n",
      "iter 968 act 3.963e+00 pre 5.809e+00 delta 4.677e-02 f 3.731e+04 |g| 2.794e+02 CG   2\n",
      "cg reaches trust region boundary\n",
      "iter 969 act 2.877e+00 pre 7.225e+00 delta 2.932e-02 f 3.731e+04 |g| 1.206e+03 CG   2\n",
      "cg reaches trust region boundary\n",
      "iter 970 act 7.504e+00 pre 1.426e+01 delta 2.023e-02 f 3.730e+04 |g| 1.028e+03 CG   2\n",
      "cg reaches trust region boundary\n",
      "iter 971 act 3.873e+00 pre 3.688e+00 delta 4.967e-02 f 3.730e+04 |g| 7.457e+02 CG   3\n",
      "cg reaches trust region boundary\n",
      "iter 972 act 3.119e+00 pre 4.700e+00 delta 3.747e-02 f 3.729e+04 |g| 2.722e+02 CG   3\n",
      "cg reaches trust region boundary\n",
      "iter 973 act 8.997e+00 pre 8.264e+00 delta 4.679e-02 f 3.729e+04 |g| 7.101e+02 CG   4\n",
      "cg reaches trust region boundary\n",
      "iter 974 act -2.047e+01 pre 6.033e+00 delta 1.170e-02 f 3.728e+04 |g| 2.371e+02 CG   2\n",
      "cg reaches trust region boundary\n",
      "iter 974 act 1.859e+00 pre 1.664e+00 delta 1.840e-02 f 3.728e+04 |g| 2.371e+02 CG   2\n",
      "cg reaches trust region boundary\n",
      "iter 975 act 2.816e+00 pre 2.713e+00 delta 7.141e-02 f 3.728e+04 |g| 1.895e+02 CG   2\n",
      "cg reaches trust region boundary\n",
      "iter 976 act -1.893e+01 pre 8.840e+00 delta 1.785e-02 f 3.728e+04 |g| 1.896e+02 CG   2\n",
      "cg reaches trust region boundary\n",
      "iter 976 act -4.830e-01 pre 1.747e+00 delta 7.811e-03 f 3.728e+04 |g| 1.896e+02 CG   2\n",
      "cg reaches trust region boundary\n",
      "iter 976 act 1.118e+00 pre 1.146e+00 delta 1.594e-02 f 3.728e+04 |g| 1.896e+02 CG   1\n",
      "cg reaches trust region boundary\n",
      "iter 977 act 2.592e+00 pre 2.550e+00 delta 6.374e-02 f 3.728e+04 |g| 2.323e+02 CG   2\n",
      "cg reaches trust region boundary\n",
      "iter 978 act 8.903e+00 pre 7.628e+00 delta 1.906e-01 f 3.727e+04 |g| 1.693e+02 CG   2\n",
      "cg reaches trust region boundary\n",
      "iter 979 act -1.008e+02 pre 2.548e+01 delta 4.765e-02 f 3.726e+04 |g| 7.029e+02 CG   3\n",
      "cg reaches trust region boundary\n",
      "iter 979 act -6.586e+00 pre 6.562e+00 delta 1.468e-02 f 3.726e+04 |g| 7.029e+02 CG   3\n",
      "cg reaches trust region boundary\n",
      "iter 979 act 2.800e+00 pre 2.773e+00 delta 2.746e-02 f 3.726e+04 |g| 7.029e+02 CG   2\n",
      "cg reaches trust region boundary\n",
      "iter 980 act 3.568e+00 pre 3.711e+00 delta 4.513e-02 f 3.726e+04 |g| 2.508e+02 CG   2\n",
      "cg reaches trust region boundary\n",
      "iter 981 act 6.228e+00 pre 6.203e+00 delta 6.536e-02 f 3.726e+04 |g| 2.520e+02 CG   3\n",
      "cg reaches trust region boundary\n",
      "iter 982 act 1.036e+01 pre 1.050e+01 delta 1.251e-01 f 3.725e+04 |g| 3.089e+02 CG   3\n",
      "cg reaches trust region boundary\n",
      "iter 983 act -2.252e+01 pre 1.820e+01 delta 3.204e-02 f 3.724e+04 |g| 3.374e+02 CG   4\n",
      "cg reaches trust region boundary\n",
      "iter 983 act -3.964e+00 pre 4.188e+00 delta 1.062e-02 f 3.724e+04 |g| 3.374e+02 CG   3\n",
      "cg reaches trust region boundary\n",
      "iter 983 act 2.032e+00 pre 1.991e+00 delta 1.540e-02 f 3.724e+04 |g| 3.374e+02 CG   2\n",
      "cg reaches trust region boundary\n",
      "iter 984 act 2.470e+00 pre 2.389e+00 delta 6.161e-02 f 3.724e+04 |g| 2.216e+02 CG   2\n",
      "cg reaches trust region boundary\n",
      "iter 985 act -1.150e+01 pre 5.655e+00 delta 1.540e-02 f 3.724e+04 |g| 1.674e+02 CG   1\n",
      "cg reaches trust region boundary\n",
      "iter 985 act 2.052e+00 pre 2.287e+00 delta 3.770e-02 f 3.724e+04 |g| 1.674e+02 CG   1\n",
      "cg reaches trust region boundary\n",
      "iter 986 act 5.545e+00 pre 5.766e+00 delta 9.965e-02 f 3.723e+04 |g| 4.167e+02 CG   3\n",
      "cg reaches trust region boundary\n",
      "iter 987 act 1.246e+01 pre 1.266e+01 delta 1.577e-01 f 3.723e+04 |g| 3.894e+02 CG   4\n",
      "cg reaches trust region boundary\n",
      "iter 988 act 2.804e+01 pre 2.786e+01 delta 4.537e-01 f 3.722e+04 |g| 5.343e+02 CG   4\n",
      "cg reaches trust region boundary\n",
      "iter 989 act -1.099e+02 pre 4.714e+01 delta 1.134e-01 f 3.719e+04 |g| 3.378e+02 CG   5\n",
      "cg reaches trust region boundary\n",
      "iter 989 act -4.830e+01 pre 1.230e+01 delta 2.836e-02 f 3.719e+04 |g| 3.378e+02 CG   4\n",
      "cg reaches trust region boundary\n",
      "iter 989 act -5.688e+00 pre 3.934e+00 delta 7.460e-03 f 3.719e+04 |g| 3.378e+02 CG   2\n",
      "cg reaches trust region boundary\n",
      "iter 989 act 1.592e+00 pre 1.465e+00 delta 1.280e-02 f 3.719e+04 |g| 3.378e+02 CG   2\n",
      "cg reaches trust region boundary\n",
      "iter 990 act 1.973e+00 pre 1.950e+00 delta 5.121e-02 f 3.719e+04 |g| 1.648e+02 CG   1\n",
      "cg reaches trust region boundary\n",
      "iter 991 act -1.583e+01 pre 4.346e+00 delta 1.280e-02 f 3.718e+04 |g| 1.689e+02 CG   2\n",
      "cg reaches trust region boundary\n",
      "iter 991 act 1.229e+00 pre 1.891e+00 delta 1.482e-02 f 3.718e+04 |g| 1.689e+02 CG   1\n",
      "cg reaches trust region boundary\n",
      "iter 992 act 2.868e+00 pre 2.727e+00 delta 4.102e-02 f 3.718e+04 |g| 8.817e+02 CG   2\n",
      "cg reaches trust region boundary\n",
      "iter 993 act 4.095e+00 pre 5.593e+00 delta 4.904e-02 f 3.718e+04 |g| 2.725e+02 CG   2\n",
      "cg reaches trust region boundary\n",
      "iter 994 act 7.760e+00 pre 8.560e+00 delta 5.914e-02 f 3.718e+04 |g| 7.155e+02 CG   3\n",
      "cg reaches trust region boundary\n",
      "iter 995 act 7.009e+00 pre 7.625e+00 delta 6.053e-02 f 3.717e+04 |g| 7.362e+02 CG   5\n",
      "cg reaches trust region boundary\n",
      "iter 996 act 1.189e+01 pre 1.198e+01 delta 8.146e-02 f 3.716e+04 |g| 8.573e+02 CG   5\n",
      "cg reaches trust region boundary\n",
      "iter 997 act 9.927e+00 pre 1.189e+01 delta 1.096e-01 f 3.715e+04 |g| 2.916e+02 CG   3\n",
      "cg reaches trust region boundary\n",
      "iter 998 act 1.843e+01 pre 1.900e+01 delta 2.055e-01 f 3.714e+04 |g| 1.168e+03 CG   4\n",
      "cg reaches trust region boundary\n",
      "iter 999 act 3.170e+01 pre 3.189e+01 delta 6.259e-01 f 3.712e+04 |g| 1.238e+03 CG   5\n",
      "cg reaches trust region boundary\n",
      "iter 1000 act 7.642e+01 pre 8.837e+01 delta 1.141e+00 f 3.709e+04 |g| 7.437e+02 CG   5\n",
      "CPU times: user 5min 17s, sys: 7min 44s, total: 13min 1s\n",
      "Wall time: 13min 5s\n"
     ]
    },
    {
     "name": "stderr",
     "output_type": "stream",
     "text": [
      "/opt/conda/lib/python3.9/site-packages/sklearn/svm/_base.py:985: ConvergenceWarning: Liblinear failed to converge, increase the number of iterations.\n",
      "  warnings.warn(\"Liblinear failed to converge, increase \"\n"
     ]
    },
    {
     "data": {
      "text/plain": [
       "LogisticRegression(C=3.5, class_weight='balanced', max_iter=1000,\n",
       "                   random_state=12345, solver='liblinear', verbose=1)"
      ]
     },
     "execution_count": 12,
     "metadata": {},
     "output_type": "execute_result"
    }
   ],
   "source": [
    "%%time\n",
    "\n",
    "lr = LogisticRegression(random_state=12345, solver='liblinear', max_iter=1000, C=3.5,\n",
    "                        class_weight='balanced', verbose=1)\n",
    "lr.fit(features_train, target_train)"
   ]
  },
  {
   "cell_type": "code",
   "execution_count": 13,
   "metadata": {},
   "outputs": [
    {
     "name": "stdout",
     "output_type": "stream",
     "text": [
      "F1: 0.7524775293846508\n"
     ]
    }
   ],
   "source": [
    "predictions = lr.predict(features_test)\n",
    "lr_f1 = f1_score(target_test, predictions)\n",
    "print(f'F1: {lr_f1}')"
   ]
  },
  {
   "cell_type": "markdown",
   "metadata": {},
   "source": [
    "### DecisionTreeClassifier"
   ]
  },
  {
   "cell_type": "code",
   "execution_count": 14,
   "metadata": {},
   "outputs": [
    {
     "name": "stdout",
     "output_type": "stream",
     "text": [
      "CPU times: user 1min 38s, sys: 2.51 s, total: 1min 40s\n",
      "Wall time: 1min 40s\n"
     ]
    },
    {
     "data": {
      "text/plain": [
       "DecisionTreeClassifier(class_weight='balanced', random_state=12345)"
      ]
     },
     "execution_count": 14,
     "metadata": {},
     "output_type": "execute_result"
    }
   ],
   "source": [
    "%%time\n",
    "\n",
    "dtc = DecisionTreeClassifier(random_state=12345, class_weight='balanced') \n",
    "dtc.fit(features_train, target_train)"
   ]
  },
  {
   "cell_type": "code",
   "execution_count": 15,
   "metadata": {},
   "outputs": [
    {
     "name": "stdout",
     "output_type": "stream",
     "text": [
      "F1: 0.6352481268324466\n"
     ]
    }
   ],
   "source": [
    "predictions = dtc.predict(features_test)\n",
    "dtc_f1 = f1_score(target_test, predictions)\n",
    "print(f'F1: {dtc_f1}')"
   ]
  },
  {
   "cell_type": "markdown",
   "metadata": {},
   "source": [
    "## Выводы"
   ]
  },
  {
   "cell_type": "markdown",
   "metadata": {},
   "source": [
    "1. Мы изучили датафрейм с 159292 размеченными по тональности комментариями на английском языке. Около 10% от всех данных - негативно окрашенные, наблюдается сильный дисбалансов классов.\n",
    "\n",
    "\n",
    "2. Подготовили данные к обучению моделей: \n",
    "    - избавились от столбца Unnamed: 0, дублирующего индексы;\n",
    "    - очистили, лемматизировали данные и представили векторизиривали.\n",
    "    - разбили данные на выборки (train и test в соотношении 3:1) и признаки, сохранив баланс классов. Features - полученная матрица c размерностью 159292 на 163969, хранит в себе 163969 уникальных слов.\n",
    "    \n",
    "    \n",
    "3. Обучили Логистическую регрессию и дерево решений, взвесив классы. Лучшую  F1-меру дала регрессия, а именно 0.753.\n",
    "\n",
    "**Таким образом, в качестве инструмента для выявления токсичных комментариев, рекомендуем интернет-магазину «Викишоп» модель lr с обратной силой регуляризации = 3.5, которая дала F1 на тестовой выборке = 0.753.**"
   ]
  },
  {
   "cell_type": "markdown",
   "metadata": {},
   "source": [
    "## Чек-лист проверки"
   ]
  },
  {
   "cell_type": "markdown",
   "metadata": {},
   "source": [
    "- [x]  Jupyter Notebook открыт\n",
    "- [ ]  Весь код выполняется без ошибок\n",
    "- [ ]  Ячейки с кодом расположены в порядке исполнения\n",
    "- [ ]  Данные загружены и подготовлены\n",
    "- [ ]  Модели обучены\n",
    "- [ ]  Значение метрики *F1* не меньше 0.75\n",
    "- [ ]  Выводы написаны"
   ]
  }
 ],
 "metadata": {
  "ExecuteTimeLog": [
   {
    "duration": 821,
    "start_time": "2022-09-19T21:29:28.464Z"
   },
   {
    "duration": 26,
    "start_time": "2022-09-19T21:29:29.288Z"
   },
   {
    "duration": 2784,
    "start_time": "2022-09-19T21:29:29.319Z"
   },
   {
    "duration": 137,
    "start_time": "2022-09-19T21:29:32.105Z"
   },
   {
    "duration": 3,
    "start_time": "2022-09-19T21:31:03.419Z"
   },
   {
    "duration": 19,
    "start_time": "2022-09-19T21:31:14.044Z"
   },
   {
    "duration": 2,
    "start_time": "2022-09-19T21:37:40.170Z"
   },
   {
    "duration": 6,
    "start_time": "2022-09-19T21:47:07.084Z"
   },
   {
    "duration": 5,
    "start_time": "2022-09-19T21:48:32.653Z"
   },
   {
    "duration": 91,
    "start_time": "2022-09-19T21:49:08.706Z"
   },
   {
    "duration": 10433,
    "start_time": "2022-09-19T21:55:40.379Z"
   },
   {
    "duration": 0,
    "start_time": "2022-09-19T21:55:50.814Z"
   },
   {
    "duration": 13075,
    "start_time": "2022-09-19T21:56:00.074Z"
   },
   {
    "duration": 11,
    "start_time": "2022-09-19T21:56:29.228Z"
   },
   {
    "duration": 43,
    "start_time": "2022-09-19T21:57:08.006Z"
   },
   {
    "duration": 177564,
    "start_time": "2022-09-19T22:01:12.343Z"
   },
   {
    "duration": 5,
    "start_time": "2022-09-19T22:04:16.302Z"
   },
   {
    "duration": 3,
    "start_time": "2022-09-19T22:04:20.441Z"
   },
   {
    "duration": 8096,
    "start_time": "2022-09-19T22:04:21.093Z"
   },
   {
    "duration": 4,
    "start_time": "2022-09-19T22:05:32.231Z"
   },
   {
    "duration": 3,
    "start_time": "2022-09-19T22:05:32.637Z"
   },
   {
    "duration": 7305,
    "start_time": "2022-09-19T22:05:33.178Z"
   },
   {
    "duration": 122,
    "start_time": "2022-09-19T22:05:52.099Z"
   },
   {
    "duration": 8663,
    "start_time": "2022-09-19T22:06:10.165Z"
   },
   {
    "duration": 13868,
    "start_time": "2022-09-19T22:07:11.134Z"
   },
   {
    "duration": 4,
    "start_time": "2022-09-19T22:07:36.940Z"
   },
   {
    "duration": 2081835,
    "start_time": "2022-09-19T22:09:20.403Z"
   },
   {
    "duration": 2028,
    "start_time": "2022-09-19T22:48:47.775Z"
   },
   {
    "duration": 9,
    "start_time": "2022-09-19T22:49:11.425Z"
   },
   {
    "duration": 7,
    "start_time": "2022-09-19T22:49:19.626Z"
   },
   {
    "duration": 685,
    "start_time": "2022-09-19T22:50:35.747Z"
   },
   {
    "duration": 30,
    "start_time": "2022-09-19T22:50:36.434Z"
   },
   {
    "duration": 2608,
    "start_time": "2022-09-19T22:50:36.466Z"
   },
   {
    "duration": 129,
    "start_time": "2022-09-19T22:50:39.076Z"
   },
   {
    "duration": 18,
    "start_time": "2022-09-19T22:50:39.207Z"
   },
   {
    "duration": 2095,
    "start_time": "2022-09-19T22:50:40.729Z"
   },
   {
    "duration": 583,
    "start_time": "2022-09-19T22:52:07.291Z"
   },
   {
    "duration": 23,
    "start_time": "2022-09-19T22:52:07.876Z"
   },
   {
    "duration": 2621,
    "start_time": "2022-09-19T22:52:07.900Z"
   },
   {
    "duration": 135,
    "start_time": "2022-09-19T22:52:10.523Z"
   },
   {
    "duration": 20,
    "start_time": "2022-09-19T22:52:13.641Z"
   },
   {
    "duration": 2003,
    "start_time": "2022-09-19T22:52:15.954Z"
   },
   {
    "duration": 4,
    "start_time": "2022-09-19T22:52:18.820Z"
   },
   {
    "duration": 3,
    "start_time": "2022-09-19T22:52:25.303Z"
   },
   {
    "duration": 967,
    "start_time": "2022-09-19T22:54:16.367Z"
   },
   {
    "duration": 4,
    "start_time": "2022-09-19T22:55:04.648Z"
   },
   {
    "duration": 40861,
    "start_time": "2022-09-19T22:55:19.315Z"
   },
   {
    "duration": 4,
    "start_time": "2022-09-19T22:59:39.797Z"
   },
   {
    "duration": 39859,
    "start_time": "2022-09-19T22:59:40.976Z"
   },
   {
    "duration": 4,
    "start_time": "2022-09-19T23:00:29.901Z"
   },
   {
    "duration": 9,
    "start_time": "2022-09-19T23:01:51.859Z"
   },
   {
    "duration": 11,
    "start_time": "2022-09-19T23:01:56.697Z"
   },
   {
    "duration": 814,
    "start_time": "2022-09-19T23:02:35.692Z"
   },
   {
    "duration": 10,
    "start_time": "2022-09-19T23:02:36.618Z"
   },
   {
    "duration": 11,
    "start_time": "2022-09-19T23:02:50.410Z"
   },
   {
    "duration": 759,
    "start_time": "2022-09-19T23:03:04.688Z"
   },
   {
    "duration": 824,
    "start_time": "2022-09-19T23:03:30.236Z"
   },
   {
    "duration": 4,
    "start_time": "2022-09-19T23:07:58.895Z"
   },
   {
    "duration": 122,
    "start_time": "2022-09-19T23:09:30.457Z"
   },
   {
    "duration": 10,
    "start_time": "2022-09-19T23:10:04.404Z"
   },
   {
    "duration": 74,
    "start_time": "2022-09-19T23:11:36.042Z"
   },
   {
    "duration": 46,
    "start_time": "2022-09-19T23:11:40.839Z"
   },
   {
    "duration": 5,
    "start_time": "2022-09-19T23:12:19.892Z"
   },
   {
    "duration": 2153,
    "start_time": "2022-09-20T06:26:49.195Z"
   },
   {
    "duration": 43,
    "start_time": "2022-09-20T06:26:51.350Z"
   },
   {
    "duration": 2895,
    "start_time": "2022-09-20T06:26:51.395Z"
   },
   {
    "duration": 127,
    "start_time": "2022-09-20T06:26:54.293Z"
   },
   {
    "duration": 13,
    "start_time": "2022-09-20T06:26:54.422Z"
   },
   {
    "duration": 1881,
    "start_time": "2022-09-20T06:26:54.436Z"
   },
   {
    "duration": 18,
    "start_time": "2022-09-20T06:26:56.319Z"
   },
   {
    "duration": 11,
    "start_time": "2022-09-20T06:26:56.339Z"
   },
   {
    "duration": 142,
    "start_time": "2022-09-20T06:26:56.352Z"
   },
   {
    "duration": 0,
    "start_time": "2022-09-20T06:26:56.497Z"
   },
   {
    "duration": 0,
    "start_time": "2022-09-20T06:26:56.569Z"
   },
   {
    "duration": 0,
    "start_time": "2022-09-20T06:26:56.570Z"
   },
   {
    "duration": 0,
    "start_time": "2022-09-20T06:26:56.572Z"
   },
   {
    "duration": 5,
    "start_time": "2022-09-20T06:28:30.598Z"
   },
   {
    "duration": 56,
    "start_time": "2022-09-20T06:28:30.605Z"
   },
   {
    "duration": 16,
    "start_time": "2022-09-20T06:29:29.023Z"
   },
   {
    "duration": 16,
    "start_time": "2022-09-20T06:30:04.121Z"
   },
   {
    "duration": 3,
    "start_time": "2022-09-20T06:31:02.191Z"
   },
   {
    "duration": 10606,
    "start_time": "2022-09-20T06:31:02.755Z"
   },
   {
    "duration": 4,
    "start_time": "2022-09-20T06:31:27.818Z"
   },
   {
    "duration": 4,
    "start_time": "2022-09-20T06:31:41.989Z"
   },
   {
    "duration": 50,
    "start_time": "2022-09-20T06:33:21.898Z"
   },
   {
    "duration": 1772,
    "start_time": "2022-09-20T06:33:56.152Z"
   },
   {
    "duration": 27,
    "start_time": "2022-09-20T06:33:57.926Z"
   },
   {
    "duration": 2709,
    "start_time": "2022-09-20T06:33:57.954Z"
   },
   {
    "duration": 120,
    "start_time": "2022-09-20T06:34:00.665Z"
   },
   {
    "duration": 23,
    "start_time": "2022-09-20T06:34:00.787Z"
   },
   {
    "duration": 1825,
    "start_time": "2022-09-20T06:34:00.812Z"
   },
   {
    "duration": 30,
    "start_time": "2022-09-20T06:34:02.639Z"
   },
   {
    "duration": 42,
    "start_time": "2022-09-20T06:34:02.671Z"
   },
   {
    "duration": 235,
    "start_time": "2022-09-20T06:34:02.715Z"
   },
   {
    "duration": 0,
    "start_time": "2022-09-20T06:34:02.952Z"
   },
   {
    "duration": 0,
    "start_time": "2022-09-20T06:34:03.024Z"
   },
   {
    "duration": 0,
    "start_time": "2022-09-20T06:34:03.025Z"
   },
   {
    "duration": 0,
    "start_time": "2022-09-20T06:34:03.026Z"
   },
   {
    "duration": 4,
    "start_time": "2022-09-20T06:34:58.626Z"
   },
   {
    "duration": 42915,
    "start_time": "2022-09-20T06:34:59.396Z"
   },
   {
    "duration": 4,
    "start_time": "2022-09-20T06:35:44.539Z"
   },
   {
    "duration": 4,
    "start_time": "2022-09-20T06:35:48.819Z"
   },
   {
    "duration": 849,
    "start_time": "2022-09-20T06:35:51.719Z"
   },
   {
    "duration": 933,
    "start_time": "2022-09-20T06:36:52.793Z"
   },
   {
    "duration": 10,
    "start_time": "2022-09-20T06:37:08.677Z"
   },
   {
    "duration": 841,
    "start_time": "2022-09-20T06:42:10.688Z"
   },
   {
    "duration": 881,
    "start_time": "2022-09-20T06:43:14.674Z"
   },
   {
    "duration": 848,
    "start_time": "2022-09-20T06:43:28.892Z"
   },
   {
    "duration": 852,
    "start_time": "2022-09-20T06:43:37.227Z"
   },
   {
    "duration": 2,
    "start_time": "2022-09-20T06:47:29.977Z"
   },
   {
    "duration": 6,
    "start_time": "2022-09-20T06:55:51.612Z"
   },
   {
    "duration": 189,
    "start_time": "2022-09-20T07:00:07.637Z"
   },
   {
    "duration": 6,
    "start_time": "2022-09-20T07:01:49.199Z"
   },
   {
    "duration": 105,
    "start_time": "2022-09-20T07:06:47.729Z"
   },
   {
    "duration": 18,
    "start_time": "2022-09-20T07:06:58.427Z"
   },
   {
    "duration": 1958,
    "start_time": "2022-09-20T07:07:06.122Z"
   },
   {
    "duration": 55,
    "start_time": "2022-09-20T07:07:21.503Z"
   },
   {
    "duration": 803,
    "start_time": "2022-09-20T07:07:23.633Z"
   },
   {
    "duration": 1072,
    "start_time": "2022-09-20T07:07:36.638Z"
   },
   {
    "duration": 16,
    "start_time": "2022-09-20T07:08:09.279Z"
   },
   {
    "duration": 966,
    "start_time": "2022-09-20T07:08:22.343Z"
   },
   {
    "duration": 7,
    "start_time": "2022-09-20T07:08:42.570Z"
   },
   {
    "duration": 9,
    "start_time": "2022-09-20T07:09:19.584Z"
   },
   {
    "duration": 12,
    "start_time": "2022-09-20T07:09:26.334Z"
   },
   {
    "duration": 813,
    "start_time": "2022-09-20T07:09:36.485Z"
   },
   {
    "duration": 5,
    "start_time": "2022-09-20T07:09:49.379Z"
   },
   {
    "duration": 4,
    "start_time": "2022-09-20T07:10:00.794Z"
   },
   {
    "duration": 4,
    "start_time": "2022-09-20T07:10:16.997Z"
   },
   {
    "duration": 17,
    "start_time": "2022-09-20T07:10:20.835Z"
   },
   {
    "duration": 3,
    "start_time": "2022-09-20T07:10:25.844Z"
   },
   {
    "duration": 74,
    "start_time": "2022-09-20T07:17:45.468Z"
   },
   {
    "duration": 59,
    "start_time": "2022-09-20T07:17:57.334Z"
   },
   {
    "duration": 5,
    "start_time": "2022-09-20T07:18:31.639Z"
   },
   {
    "duration": 70,
    "start_time": "2022-09-20T07:21:59.776Z"
   },
   {
    "duration": 4,
    "start_time": "2022-09-20T07:23:30.707Z"
   },
   {
    "duration": 13,
    "start_time": "2022-09-20T07:23:57.745Z"
   },
   {
    "duration": 13,
    "start_time": "2022-09-20T07:25:08.534Z"
   },
   {
    "duration": 9,
    "start_time": "2022-09-20T07:25:11.888Z"
   },
   {
    "duration": 3,
    "start_time": "2022-09-20T07:26:28.624Z"
   },
   {
    "duration": 2,
    "start_time": "2022-09-20T07:28:10.550Z"
   },
   {
    "duration": 87,
    "start_time": "2022-09-20T07:29:38.454Z"
   },
   {
    "duration": 6,
    "start_time": "2022-09-20T07:33:14.428Z"
   },
   {
    "duration": 3,
    "start_time": "2022-09-20T07:45:28.786Z"
   },
   {
    "duration": 25,
    "start_time": "2022-09-20T07:46:08.471Z"
   },
   {
    "duration": 17,
    "start_time": "2022-09-20T07:46:50.463Z"
   },
   {
    "duration": 6,
    "start_time": "2022-09-20T07:48:35.375Z"
   },
   {
    "duration": 19,
    "start_time": "2022-09-20T07:48:39.198Z"
   },
   {
    "duration": 10,
    "start_time": "2022-09-20T07:49:54.278Z"
   },
   {
    "duration": 18,
    "start_time": "2022-09-20T07:50:02.756Z"
   },
   {
    "duration": 39428,
    "start_time": "2022-09-20T08:14:41.946Z"
   },
   {
    "duration": 4,
    "start_time": "2022-09-20T08:15:22.772Z"
   },
   {
    "duration": 4919,
    "start_time": "2022-09-20T08:17:27.404Z"
   },
   {
    "duration": 8469,
    "start_time": "2022-09-20T08:18:37.609Z"
   },
   {
    "duration": 7,
    "start_time": "2022-09-20T08:18:53.730Z"
   },
   {
    "duration": 4,
    "start_time": "2022-09-20T08:19:05.942Z"
   },
   {
    "duration": 10,
    "start_time": "2022-09-20T08:19:47.669Z"
   },
   {
    "duration": 2144,
    "start_time": "2022-09-20T08:20:51.632Z"
   },
   {
    "duration": 32,
    "start_time": "2022-09-20T08:20:53.777Z"
   },
   {
    "duration": 2595,
    "start_time": "2022-09-20T08:20:53.812Z"
   },
   {
    "duration": 119,
    "start_time": "2022-09-20T08:20:56.409Z"
   },
   {
    "duration": 11,
    "start_time": "2022-09-20T08:20:56.529Z"
   },
   {
    "duration": 1806,
    "start_time": "2022-09-20T08:20:56.542Z"
   },
   {
    "duration": 9,
    "start_time": "2022-09-20T08:20:58.350Z"
   },
   {
    "duration": 13,
    "start_time": "2022-09-20T08:20:58.361Z"
   },
   {
    "duration": 41811,
    "start_time": "2022-09-20T08:20:58.376Z"
   },
   {
    "duration": 3,
    "start_time": "2022-09-20T08:21:40.190Z"
   },
   {
    "duration": 6752,
    "start_time": "2022-09-20T08:21:46.286Z"
   },
   {
    "duration": 2086,
    "start_time": "2022-09-20T08:22:17.044Z"
   },
   {
    "duration": 29,
    "start_time": "2022-09-20T08:22:19.132Z"
   },
   {
    "duration": 2597,
    "start_time": "2022-09-20T08:22:19.162Z"
   },
   {
    "duration": 134,
    "start_time": "2022-09-20T08:22:21.761Z"
   },
   {
    "duration": 16,
    "start_time": "2022-09-20T08:22:21.897Z"
   },
   {
    "duration": 1867,
    "start_time": "2022-09-20T08:22:21.915Z"
   },
   {
    "duration": 28,
    "start_time": "2022-09-20T08:22:23.785Z"
   },
   {
    "duration": 52,
    "start_time": "2022-09-20T08:22:23.815Z"
   },
   {
    "duration": 41175,
    "start_time": "2022-09-20T08:22:23.868Z"
   },
   {
    "duration": 5,
    "start_time": "2022-09-20T08:23:05.045Z"
   },
   {
    "duration": 6750,
    "start_time": "2022-09-20T08:23:07.041Z"
   },
   {
    "duration": 4,
    "start_time": "2022-09-20T08:23:13.794Z"
   },
   {
    "duration": 5,
    "start_time": "2022-09-20T08:23:36.355Z"
   },
   {
    "duration": 4,
    "start_time": "2022-09-20T08:25:25.965Z"
   },
   {
    "duration": 137,
    "start_time": "2022-09-20T08:26:47.958Z"
   },
   {
    "duration": 11,
    "start_time": "2022-09-20T08:26:53.868Z"
   },
   {
    "duration": 108,
    "start_time": "2022-09-20T08:28:45.903Z"
   },
   {
    "duration": 11,
    "start_time": "2022-09-20T08:28:56.526Z"
   },
   {
    "duration": 82,
    "start_time": "2022-09-20T08:29:18.979Z"
   },
   {
    "duration": 290,
    "start_time": "2022-09-20T08:30:18.119Z"
   },
   {
    "duration": 3,
    "start_time": "2022-09-20T08:31:03.500Z"
   },
   {
    "duration": 1747,
    "start_time": "2022-09-20T08:38:12.177Z"
   },
   {
    "duration": 46,
    "start_time": "2022-09-20T08:38:13.926Z"
   },
   {
    "duration": 1221,
    "start_time": "2022-09-20T08:38:13.974Z"
   },
   {
    "duration": 129,
    "start_time": "2022-09-20T08:38:15.197Z"
   },
   {
    "duration": 12,
    "start_time": "2022-09-20T08:38:15.329Z"
   },
   {
    "duration": 1850,
    "start_time": "2022-09-20T08:38:15.342Z"
   },
   {
    "duration": 6,
    "start_time": "2022-09-20T08:38:17.194Z"
   },
   {
    "duration": 3,
    "start_time": "2022-09-20T08:38:17.209Z"
   },
   {
    "duration": 44994,
    "start_time": "2022-09-20T08:38:17.213Z"
   },
   {
    "duration": 16,
    "start_time": "2022-09-20T08:39:02.209Z"
   },
   {
    "duration": 7022,
    "start_time": "2022-09-20T08:39:02.227Z"
   },
   {
    "duration": 4,
    "start_time": "2022-09-20T08:39:09.252Z"
   },
   {
    "duration": 7,
    "start_time": "2022-09-20T08:39:09.257Z"
   },
   {
    "duration": 305,
    "start_time": "2022-09-20T08:39:09.266Z"
   },
   {
    "duration": 3,
    "start_time": "2022-09-20T08:39:09.572Z"
   },
   {
    "duration": 814468,
    "start_time": "2022-09-20T08:39:30.861Z"
   },
   {
    "duration": 40070,
    "start_time": "2022-09-20T08:54:07.826Z"
   },
   {
    "duration": 3,
    "start_time": "2022-09-20T08:54:50.337Z"
   },
   {
    "duration": 91,
    "start_time": "2022-09-20T08:55:05.363Z"
   },
   {
    "duration": 95,
    "start_time": "2022-09-20T08:55:56.858Z"
   },
   {
    "duration": 79,
    "start_time": "2022-09-20T08:56:09.539Z"
   },
   {
    "duration": 159,
    "start_time": "2022-09-20T08:59:28.806Z"
   },
   {
    "duration": 22,
    "start_time": "2022-09-20T09:01:04.006Z"
   },
   {
    "duration": 10,
    "start_time": "2022-09-20T09:04:16.906Z"
   },
   {
    "duration": 10,
    "start_time": "2022-09-20T09:04:36.147Z"
   },
   {
    "duration": 10616,
    "start_time": "2022-09-20T09:05:09.258Z"
   },
   {
    "duration": 58,
    "start_time": "2022-09-20T09:05:49.488Z"
   },
   {
    "duration": 4,
    "start_time": "2022-09-20T09:07:30.430Z"
   },
   {
    "duration": 740568,
    "start_time": "2022-09-20T09:09:12.564Z"
   },
   {
    "duration": 32,
    "start_time": "2022-09-20T09:22:59.548Z"
   },
   {
    "duration": 16731,
    "start_time": "2022-09-20T09:28:40.539Z"
   },
   {
    "duration": 25,
    "start_time": "2022-09-20T09:28:57.272Z"
   },
   {
    "duration": 2169,
    "start_time": "2022-09-20T17:15:22.567Z"
   },
   {
    "duration": 43,
    "start_time": "2022-09-20T17:15:24.738Z"
   },
   {
    "duration": 3713,
    "start_time": "2022-09-20T17:15:24.783Z"
   },
   {
    "duration": 131,
    "start_time": "2022-09-20T17:15:28.498Z"
   },
   {
    "duration": 15,
    "start_time": "2022-09-20T17:15:28.631Z"
   },
   {
    "duration": 1857,
    "start_time": "2022-09-20T17:15:28.647Z"
   },
   {
    "duration": 9,
    "start_time": "2022-09-20T17:15:30.506Z"
   },
   {
    "duration": 38161,
    "start_time": "2022-09-20T17:15:30.517Z"
   },
   {
    "duration": 156,
    "start_time": "2022-09-20T17:16:08.680Z"
   },
   {
    "duration": 6972,
    "start_time": "2022-09-20T17:16:08.839Z"
   },
   {
    "duration": 347,
    "start_time": "2022-09-20T17:16:15.813Z"
   },
   {
    "duration": 5,
    "start_time": "2022-09-20T17:31:44.195Z"
   },
   {
    "duration": 144,
    "start_time": "2022-09-20T17:32:06.859Z"
   },
   {
    "duration": 14,
    "start_time": "2022-09-20T17:32:26.446Z"
   },
   {
    "duration": 11,
    "start_time": "2022-09-20T17:32:46.312Z"
   },
   {
    "duration": 4,
    "start_time": "2022-09-20T17:33:23.791Z"
   },
   {
    "duration": 3,
    "start_time": "2022-09-20T17:34:33.856Z"
   },
   {
    "duration": 1973,
    "start_time": "2022-09-20T17:45:15.075Z"
   },
   {
    "duration": 38,
    "start_time": "2022-09-20T17:45:17.050Z"
   },
   {
    "duration": 1115,
    "start_time": "2022-09-20T17:45:17.089Z"
   },
   {
    "duration": 132,
    "start_time": "2022-09-20T17:45:18.207Z"
   },
   {
    "duration": 16,
    "start_time": "2022-09-20T17:45:18.340Z"
   },
   {
    "duration": 1618,
    "start_time": "2022-09-20T17:45:18.358Z"
   },
   {
    "duration": 0,
    "start_time": "2022-09-20T17:45:19.979Z"
   },
   {
    "duration": 0,
    "start_time": "2022-09-20T17:45:19.980Z"
   },
   {
    "duration": 0,
    "start_time": "2022-09-20T17:45:19.982Z"
   },
   {
    "duration": 0,
    "start_time": "2022-09-20T17:45:19.983Z"
   },
   {
    "duration": 0,
    "start_time": "2022-09-20T17:45:19.985Z"
   },
   {
    "duration": 0,
    "start_time": "2022-09-20T17:45:19.995Z"
   },
   {
    "duration": 0,
    "start_time": "2022-09-20T17:45:19.996Z"
   },
   {
    "duration": 0,
    "start_time": "2022-09-20T17:45:19.997Z"
   },
   {
    "duration": 0,
    "start_time": "2022-09-20T17:45:19.998Z"
   },
   {
    "duration": 0,
    "start_time": "2022-09-20T17:45:20.000Z"
   },
   {
    "duration": 1906,
    "start_time": "2022-09-20T17:46:21.154Z"
   },
   {
    "duration": 51,
    "start_time": "2022-09-20T17:46:23.062Z"
   },
   {
    "duration": 1081,
    "start_time": "2022-09-20T17:46:23.114Z"
   },
   {
    "duration": 129,
    "start_time": "2022-09-20T17:46:24.197Z"
   },
   {
    "duration": 17,
    "start_time": "2022-09-20T17:46:24.329Z"
   },
   {
    "duration": 1857,
    "start_time": "2022-09-20T17:46:24.347Z"
   },
   {
    "duration": 7,
    "start_time": "2022-09-20T17:46:26.206Z"
   },
   {
    "duration": 37546,
    "start_time": "2022-09-20T17:46:26.215Z"
   },
   {
    "duration": 145,
    "start_time": "2022-09-20T17:47:03.762Z"
   },
   {
    "duration": 7128,
    "start_time": "2022-09-20T17:47:03.908Z"
   },
   {
    "duration": 4,
    "start_time": "2022-09-20T17:47:11.038Z"
   },
   {
    "duration": 331,
    "start_time": "2022-09-20T17:47:11.044Z"
   },
   {
    "duration": 736846,
    "start_time": "2022-09-20T17:47:11.377Z"
   },
   {
    "duration": 97,
    "start_time": "2022-09-20T17:59:28.226Z"
   },
   {
    "duration": 16763,
    "start_time": "2022-09-20T17:59:28.325Z"
   },
   {
    "duration": 64,
    "start_time": "2022-09-20T17:59:45.094Z"
   },
   {
    "duration": 132362,
    "start_time": "2022-09-20T18:00:17.882Z"
   },
   {
    "duration": 69,
    "start_time": "2022-09-20T18:02:36.969Z"
   },
   {
    "duration": 8,
    "start_time": "2022-09-20T18:10:04.744Z"
   },
   {
    "duration": 13,
    "start_time": "2022-09-20T18:10:12.020Z"
   },
   {
    "duration": 129,
    "start_time": "2022-09-20T18:10:34.334Z"
   },
   {
    "duration": 22,
    "start_time": "2022-09-20T18:12:56.987Z"
   },
   {
    "duration": 17,
    "start_time": "2022-09-20T18:13:10.134Z"
   },
   {
    "duration": 21,
    "start_time": "2022-09-20T18:13:41.984Z"
   },
   {
    "duration": 18,
    "start_time": "2022-09-20T18:14:22.308Z"
   },
   {
    "duration": 18,
    "start_time": "2022-09-20T18:14:30.327Z"
   },
   {
    "duration": 17,
    "start_time": "2022-09-20T18:14:40.445Z"
   },
   {
    "duration": 4,
    "start_time": "2022-09-20T18:14:57.485Z"
   },
   {
    "duration": 5,
    "start_time": "2022-09-20T18:15:14.816Z"
   },
   {
    "duration": 87,
    "start_time": "2022-09-20T18:16:31.021Z"
   },
   {
    "duration": 79,
    "start_time": "2022-09-20T18:16:44.064Z"
   },
   {
    "duration": 19,
    "start_time": "2022-09-20T18:16:51.588Z"
   },
   {
    "duration": 34,
    "start_time": "2022-09-20T18:18:28.520Z"
   },
   {
    "duration": 1864,
    "start_time": "2022-09-20T18:26:39.739Z"
   },
   {
    "duration": 73,
    "start_time": "2022-09-20T18:26:41.605Z"
   },
   {
    "duration": 1098,
    "start_time": "2022-09-20T18:26:41.680Z"
   },
   {
    "duration": 220,
    "start_time": "2022-09-20T18:26:42.780Z"
   },
   {
    "duration": 16,
    "start_time": "2022-09-20T18:26:43.002Z"
   },
   {
    "duration": 1793,
    "start_time": "2022-09-20T18:26:43.020Z"
   },
   {
    "duration": 4,
    "start_time": "2022-09-20T18:26:44.815Z"
   },
   {
    "duration": 37429,
    "start_time": "2022-09-20T18:26:44.821Z"
   },
   {
    "duration": 139,
    "start_time": "2022-09-20T18:27:22.252Z"
   },
   {
    "duration": 6663,
    "start_time": "2022-09-20T18:27:22.395Z"
   },
   {
    "duration": 4,
    "start_time": "2022-09-20T18:27:29.060Z"
   },
   {
    "duration": 334,
    "start_time": "2022-09-20T18:27:29.066Z"
   },
   {
    "duration": 737620,
    "start_time": "2022-09-20T18:27:29.401Z"
   },
   {
    "duration": 19,
    "start_time": "2022-09-20T18:39:47.023Z"
   },
   {
    "duration": 111453,
    "start_time": "2022-09-20T18:39:47.044Z"
   },
   {
    "duration": 78,
    "start_time": "2022-09-20T18:41:38.499Z"
   },
   {
    "duration": 99,
    "start_time": "2022-09-21T19:09:33.846Z"
   },
   {
    "duration": 2202,
    "start_time": "2022-09-21T19:10:58.377Z"
   },
   {
    "duration": 72,
    "start_time": "2022-09-21T19:11:00.581Z"
   },
   {
    "duration": 4306,
    "start_time": "2022-09-21T19:11:00.655Z"
   },
   {
    "duration": 153,
    "start_time": "2022-09-21T19:11:04.963Z"
   },
   {
    "duration": 22,
    "start_time": "2022-09-21T19:11:05.119Z"
   },
   {
    "duration": 8,
    "start_time": "2022-09-21T19:11:05.143Z"
   },
   {
    "duration": 44831,
    "start_time": "2022-09-21T19:11:05.153Z"
   },
   {
    "duration": 169,
    "start_time": "2022-09-21T19:11:49.986Z"
   },
   {
    "duration": 3,
    "start_time": "2022-09-21T19:14:04.037Z"
   },
   {
    "duration": 154,
    "start_time": "2022-09-21T19:15:46.584Z"
   },
   {
    "duration": 353,
    "start_time": "2022-09-21T19:15:52.772Z"
   },
   {
    "duration": 338,
    "start_time": "2022-09-21T19:16:49.388Z"
   },
   {
    "duration": 5,
    "start_time": "2022-09-21T19:17:01.521Z"
   },
   {
    "duration": 2015,
    "start_time": "2022-09-21T19:18:35.378Z"
   },
   {
    "duration": 69,
    "start_time": "2022-09-21T19:18:37.395Z"
   },
   {
    "duration": 4182,
    "start_time": "2022-09-21T19:18:37.466Z"
   },
   {
    "duration": 223,
    "start_time": "2022-09-21T19:18:41.651Z"
   },
   {
    "duration": 26,
    "start_time": "2022-09-21T19:18:41.876Z"
   },
   {
    "duration": 25,
    "start_time": "2022-09-21T19:18:41.904Z"
   },
   {
    "duration": 47247,
    "start_time": "2022-09-21T19:18:41.930Z"
   },
   {
    "duration": 145,
    "start_time": "2022-09-21T19:19:29.179Z"
   },
   {
    "duration": 3,
    "start_time": "2022-09-21T19:19:29.325Z"
   },
   {
    "duration": 316,
    "start_time": "2022-09-21T19:19:29.331Z"
   },
   {
    "duration": 5,
    "start_time": "2022-09-21T19:19:29.649Z"
   },
   {
    "duration": 6487,
    "start_time": "2022-09-21T19:19:44.340Z"
   },
   {
    "duration": 48,
    "start_time": "2022-09-21T19:20:15.920Z"
   },
   {
    "duration": 6,
    "start_time": "2022-09-21T19:20:33.940Z"
   },
   {
    "duration": 1924,
    "start_time": "2022-09-21T19:20:43.456Z"
   },
   {
    "duration": 70,
    "start_time": "2022-09-21T19:20:45.382Z"
   },
   {
    "duration": 4110,
    "start_time": "2022-09-21T19:20:45.453Z"
   },
   {
    "duration": 215,
    "start_time": "2022-09-21T19:20:49.565Z"
   },
   {
    "duration": 22,
    "start_time": "2022-09-21T19:20:49.782Z"
   },
   {
    "duration": 22,
    "start_time": "2022-09-21T19:20:49.806Z"
   },
   {
    "duration": 44631,
    "start_time": "2022-09-21T19:20:49.829Z"
   },
   {
    "duration": 163,
    "start_time": "2022-09-21T19:21:34.462Z"
   },
   {
    "duration": 3,
    "start_time": "2022-09-21T19:21:34.627Z"
   },
   {
    "duration": 337,
    "start_time": "2022-09-21T19:21:34.631Z"
   },
   {
    "duration": 5,
    "start_time": "2022-09-21T19:21:34.969Z"
   },
   {
    "duration": 6447,
    "start_time": "2022-09-21T19:21:34.975Z"
   },
   {
    "duration": 2029,
    "start_time": "2022-09-21T19:22:25.677Z"
   },
   {
    "duration": 90,
    "start_time": "2022-09-21T19:22:27.709Z"
   },
   {
    "duration": 4221,
    "start_time": "2022-09-21T19:22:27.802Z"
   },
   {
    "duration": 215,
    "start_time": "2022-09-21T19:22:32.025Z"
   },
   {
    "duration": 16,
    "start_time": "2022-09-21T19:22:32.243Z"
   },
   {
    "duration": 12,
    "start_time": "2022-09-21T19:22:32.261Z"
   },
   {
    "duration": 42136,
    "start_time": "2022-09-21T19:26:20.821Z"
   },
   {
    "duration": 147,
    "start_time": "2022-09-21T19:27:06.365Z"
   },
   {
    "duration": 124,
    "start_time": "2022-09-21T19:32:35.961Z"
   },
   {
    "duration": 308,
    "start_time": "2022-09-21T19:32:41.070Z"
   },
   {
    "duration": 5,
    "start_time": "2022-09-21T19:32:44.366Z"
   },
   {
    "duration": 326,
    "start_time": "2022-09-21T19:34:49.424Z"
   },
   {
    "duration": 6,
    "start_time": "2022-09-21T19:34:52.120Z"
   },
   {
    "duration": 5723,
    "start_time": "2022-09-21T19:35:06.604Z"
   },
   {
    "duration": 1943,
    "start_time": "2022-09-21T19:36:41.860Z"
   },
   {
    "duration": 78,
    "start_time": "2022-09-21T19:36:43.806Z"
   },
   {
    "duration": 4224,
    "start_time": "2022-09-21T19:36:43.885Z"
   },
   {
    "duration": 218,
    "start_time": "2022-09-21T19:36:48.110Z"
   },
   {
    "duration": 16,
    "start_time": "2022-09-21T19:36:48.330Z"
   },
   {
    "duration": 5,
    "start_time": "2022-09-21T19:36:48.347Z"
   },
   {
    "duration": 44199,
    "start_time": "2022-09-21T19:36:48.354Z"
   },
   {
    "duration": 166,
    "start_time": "2022-09-21T19:37:32.555Z"
   },
   {
    "duration": 3,
    "start_time": "2022-09-21T19:37:32.723Z"
   },
   {
    "duration": 346,
    "start_time": "2022-09-21T19:37:32.727Z"
   },
   {
    "duration": 5,
    "start_time": "2022-09-21T19:37:33.075Z"
   },
   {
    "duration": 3,
    "start_time": "2022-09-21T19:38:34.923Z"
   },
   {
    "duration": 4,
    "start_time": "2022-09-21T19:38:51.524Z"
   },
   {
    "duration": 5963,
    "start_time": "2022-09-21T19:40:06.207Z"
   },
   {
    "duration": 126,
    "start_time": "2022-09-21T19:49:55.806Z"
   },
   {
    "duration": 4,
    "start_time": "2022-09-21T19:50:49.909Z"
   },
   {
    "duration": 36,
    "start_time": "2022-09-21T19:58:15.053Z"
   },
   {
    "duration": 1889,
    "start_time": "2022-09-21T20:06:19.973Z"
   },
   {
    "duration": 60,
    "start_time": "2022-09-21T20:06:21.864Z"
   },
   {
    "duration": 1274,
    "start_time": "2022-09-21T20:06:21.928Z"
   },
   {
    "duration": 238,
    "start_time": "2022-09-21T20:06:23.206Z"
   },
   {
    "duration": 21,
    "start_time": "2022-09-21T20:06:23.446Z"
   },
   {
    "duration": 4,
    "start_time": "2022-09-21T20:06:23.468Z"
   },
   {
    "duration": 5879,
    "start_time": "2022-09-21T20:06:23.474Z"
   },
   {
    "duration": 0,
    "start_time": "2022-09-21T20:06:29.355Z"
   },
   {
    "duration": 0,
    "start_time": "2022-09-21T20:06:29.356Z"
   },
   {
    "duration": 0,
    "start_time": "2022-09-21T20:06:29.357Z"
   },
   {
    "duration": 0,
    "start_time": "2022-09-21T20:06:29.358Z"
   },
   {
    "duration": 0,
    "start_time": "2022-09-21T20:06:29.359Z"
   },
   {
    "duration": 0,
    "start_time": "2022-09-21T20:06:29.361Z"
   },
   {
    "duration": 0,
    "start_time": "2022-09-21T20:06:29.362Z"
   },
   {
    "duration": 0,
    "start_time": "2022-09-21T20:06:29.363Z"
   },
   {
    "duration": 0,
    "start_time": "2022-09-21T20:06:29.364Z"
   },
   {
    "duration": 91,
    "start_time": "2022-09-21T20:07:32.374Z"
   },
   {
    "duration": 134,
    "start_time": "2022-09-21T20:09:16.624Z"
   },
   {
    "duration": 1748,
    "start_time": "2022-09-21T20:12:57.560Z"
   },
   {
    "duration": 49,
    "start_time": "2022-09-21T20:12:59.310Z"
   },
   {
    "duration": 1185,
    "start_time": "2022-09-21T20:12:59.361Z"
   },
   {
    "duration": 223,
    "start_time": "2022-09-21T20:13:00.547Z"
   },
   {
    "duration": 15,
    "start_time": "2022-09-21T20:13:00.773Z"
   },
   {
    "duration": 23,
    "start_time": "2022-09-21T20:13:00.804Z"
   },
   {
    "duration": 42890,
    "start_time": "2022-09-21T20:13:00.829Z"
   },
   {
    "duration": 140,
    "start_time": "2022-09-21T20:13:43.721Z"
   },
   {
    "duration": 274,
    "start_time": "2022-09-21T20:13:43.863Z"
   },
   {
    "duration": 5172,
    "start_time": "2022-09-21T20:13:44.139Z"
   },
   {
    "duration": 787108,
    "start_time": "2022-09-21T20:13:49.313Z"
   },
   {
    "duration": 184,
    "start_time": "2022-09-21T20:26:56.423Z"
   },
   {
    "duration": 0,
    "start_time": "2022-09-21T20:26:56.609Z"
   },
   {
    "duration": 0,
    "start_time": "2022-09-21T20:26:56.611Z"
   },
   {
    "duration": 1546,
    "start_time": "2022-09-21T20:42:59.831Z"
   },
   {
    "duration": 1813,
    "start_time": "2022-09-21T20:43:23.661Z"
   },
   {
    "duration": 41,
    "start_time": "2022-09-21T20:43:25.477Z"
   },
   {
    "duration": 2317,
    "start_time": "2022-09-21T20:43:25.520Z"
   },
   {
    "duration": 229,
    "start_time": "2022-09-21T20:43:27.840Z"
   },
   {
    "duration": 25,
    "start_time": "2022-09-21T20:43:28.072Z"
   },
   {
    "duration": 8,
    "start_time": "2022-09-21T20:43:28.100Z"
   },
   {
    "duration": 36839,
    "start_time": "2022-09-21T20:43:28.110Z"
   },
   {
    "duration": 149,
    "start_time": "2022-09-21T20:44:04.951Z"
   },
   {
    "duration": 278,
    "start_time": "2022-09-21T20:44:05.102Z"
   },
   {
    "duration": 4900,
    "start_time": "2022-09-21T20:44:05.382Z"
   },
   {
    "duration": 1637,
    "start_time": "2022-09-21T20:44:10.283Z"
   },
   {
    "duration": 785893,
    "start_time": "2022-09-21T20:44:11.922Z"
   },
   {
    "duration": 22,
    "start_time": "2022-09-21T20:57:17.817Z"
   },
   {
    "duration": 100803,
    "start_time": "2022-09-21T20:57:17.841Z"
   },
   {
    "duration": 67,
    "start_time": "2022-09-21T20:58:58.645Z"
   }
  ],
  "kernelspec": {
   "display_name": "Python 3 (ipykernel)",
   "language": "python",
   "name": "python3"
  },
  "language_info": {
   "codemirror_mode": {
    "name": "ipython",
    "version": 3
   },
   "file_extension": ".py",
   "mimetype": "text/x-python",
   "name": "python",
   "nbconvert_exporter": "python",
   "pygments_lexer": "ipython3",
   "version": "3.9.12"
  },
  "toc": {
   "base_numbering": 1,
   "nav_menu": {},
   "number_sections": true,
   "sideBar": true,
   "skip_h1_title": true,
   "title_cell": "Содержание",
   "title_sidebar": "Contents",
   "toc_cell": true,
   "toc_position": {
    "height": "calc(100% - 180px)",
    "left": "10px",
    "top": "150px",
    "width": "302.391px"
   },
   "toc_section_display": true,
   "toc_window_display": false
  }
 },
 "nbformat": 4,
 "nbformat_minor": 2
}
